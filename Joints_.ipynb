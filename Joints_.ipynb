{
  "nbformat": 4,
  "nbformat_minor": 0,
  "metadata": {
    "colab": {
      "provenance": [],
      "authorship_tag": "ABX9TyOIv1tWhxmFEswJCNrLCD4T",
      "include_colab_link": true
    },
    "kernelspec": {
      "name": "python3",
      "display_name": "Python 3"
    },
    "language_info": {
      "name": "python"
    }
  },
  "cells": [
    {
      "cell_type": "markdown",
      "metadata": {
        "id": "view-in-github",
        "colab_type": "text"
      },
      "source": [
        "<a href=\"https://colab.research.google.com/github/siddharth101/Double_suspension/blob/main/Joints_.ipynb\" target=\"_parent\"><img src=\"https://colab.research.google.com/assets/colab-badge.svg\" alt=\"Open In Colab\"/></a>"
      ]
    },
    {
      "cell_type": "code",
      "execution_count": 1,
      "metadata": {
        "id": "Ur7B0ZOxG8Ig"
      },
      "outputs": [],
      "source": [
        "from sympy import zeros, symbols\n",
        "from sympy import Matrix\n",
        "from sympy.physics.mechanics import Body, PinJoint, SphericalJoint, PrismaticJoint, JointsMethod, inertia\n",
        "from sympy.physics.mechanics import dynamicsymbols\n",
        "from sympy import Symbol\n",
        "from sympy.physics.mechanics import dynamicsymbols, ReferenceFrame, outer\n",
        "from sympy.physics.mechanics import ReferenceFrame, Point, RigidBody\n",
        "from sympy.physics.mechanics import kinetic_energy, potential_energy, Point, Particle"
      ]
    },
    {
      "cell_type": "code",
      "source": [
        "import sympy as smp\n",
        "import numpy as np\n",
        "import matplotlib.pyplot as plt\n",
        "import sympy.physics.mechanics as me"
      ],
      "metadata": {
        "id": "LeOgulbuHFce"
      },
      "execution_count": 2,
      "outputs": []
    },
    {
      "cell_type": "code",
      "source": [
        "alpha_x, alpha_y, alpha_z = dynamicsymbols('alpha_x, alpha_y, alpha_z')\n",
        "q1, q2, q3, q4, u1, u2, u3, u4 = dynamicsymbols('q1 q2 q3 q4 u1 u2 u3 u4')\n",
        "alpha_x1, alpha_y1, alpha_z1 = dynamicsymbols('alpha_x1 alpha_y1, alpha_z1')\n",
        "beta_x1, beta_y1, beta_z1 = dynamicsymbols('beta_x1 beta_y1 beta_z1')\n",
        "omega_x1, omega_y1, omega_z1 = dynamicsymbols('omega_x1 omega_y1 omega_z1')\n",
        "x_0, x_1 = dynamicsymbols('x_0 x_1')\n",
        "L = symbols('L')\n",
        "ixx1, iyy1, izz1 = symbols('ixx1 iyy1 izz1')\n",
        "M1, t = symbols('M1 t')"
      ],
      "metadata": {
        "id": "q_t31QvUHJ9U"
      },
      "execution_count": 1041,
      "outputs": []
    },
    {
      "cell_type": "code",
      "source": [
        "x_0"
      ],
      "metadata": {
        "colab": {
          "base_uri": "https://localhost:8080/",
          "height": 39
        },
        "id": "1AKvZFsYazKi",
        "outputId": "acdcb9e9-0e72-442f-8a6f-cc1eed54b618"
      },
      "execution_count": 1042,
      "outputs": [
        {
          "output_type": "execute_result",
          "data": {
            "text/plain": [
              "x_0(t)"
            ],
            "text/latex": "$\\displaystyle x_{0}{\\left(t \\right)}$"
          },
          "metadata": {},
          "execution_count": 1042
        }
      ]
    },
    {
      "cell_type": "code",
      "source": [
        "N = ReferenceFrame('N')\n",
        "N_a  = ReferenceFrame('N_a')\n",
        "N_a.orient_axis(N, 0, N.x)\n",
        "\n",
        "Origin = Point('Origin')\n",
        "O = Point('O')\n",
        "O1 = Point('O1')\n",
        "O2 = Point('O2')\n",
        "O3 = Point('O3')\n",
        "\n",
        "O.set_pos(Origin, q2*N.z)"
      ],
      "metadata": {
        "id": "01QC7Hl8Xujr"
      },
      "execution_count": 1166,
      "outputs": []
    },
    {
      "cell_type": "code",
      "source": [
        "ceiling = Body('C', masscenter=O, frame=N)\n",
        "wirebody1 = Body('wb1', masscenter=O1, frame=N_a)"
      ],
      "metadata": {
        "id": "UgTs3GpAYHt4"
      },
      "execution_count": 1167,
      "outputs": []
    },
    {
      "cell_type": "code",
      "source": [
        "rev1 = SphericalJoint('J1', parent=ceiling, child=wirebody1, parent_point=O, child_point=O1,amounts=[alpha_x1-beta_x1,0,0],\n",
        "                     rot_order='XYZ')"
      ],
      "metadata": {
        "id": "iN6Kb1PfYUkb"
      },
      "execution_count": 1168,
      "outputs": []
    },
    {
      "cell_type": "code",
      "source": [
        "#rev1.parent, rev1.child"
      ],
      "metadata": {
        "id": "e4cbuyPOZA_s"
      },
      "execution_count": 1169,
      "outputs": []
    },
    {
      "cell_type": "code",
      "source": [
        "rev1.parent_interframe, rev1.child_interframe"
      ],
      "metadata": {
        "colab": {
          "base_uri": "https://localhost:8080/"
        },
        "id": "ctz9fKi_ZGe7",
        "outputId": "aca21473-92d1-42b1-8d31-9c16a867f206"
      },
      "execution_count": 1170,
      "outputs": [
        {
          "output_type": "execute_result",
          "data": {
            "text/plain": [
              "(N, N_a)"
            ]
          },
          "metadata": {},
          "execution_count": 1170
        }
      ]
    },
    {
      "cell_type": "code",
      "source": [
        "rev1.child_interframe.dcm(rev1.parent_interframe)"
      ],
      "metadata": {
        "colab": {
          "base_uri": "https://localhost:8080/",
          "height": 78
        },
        "id": "wDBZ47wCZKm5",
        "outputId": "55bc8b0f-68e5-463f-ca17-df202a43b90d"
      },
      "execution_count": 1171,
      "outputs": [
        {
          "output_type": "execute_result",
          "data": {
            "text/plain": [
              "Matrix([\n",
              "[1,                              0,                             0],\n",
              "[0,  cos(alpha_x1(t) - beta_x1(t)), sin(alpha_x1(t) - beta_x1(t))],\n",
              "[0, -sin(alpha_x1(t) - beta_x1(t)), cos(alpha_x1(t) - beta_x1(t))]])"
            ],
            "text/latex": "$\\displaystyle \\left[\\begin{matrix}1 & 0 & 0\\\\0 & \\cos{\\left(\\alpha_{x1}{\\left(t \\right)} - \\beta_{x1}{\\left(t \\right)} \\right)} & \\sin{\\left(\\alpha_{x1}{\\left(t \\right)} - \\beta_{x1}{\\left(t \\right)} \\right)}\\\\0 & - \\sin{\\left(\\alpha_{x1}{\\left(t \\right)} - \\beta_{x1}{\\left(t \\right)} \\right)} & \\cos{\\left(\\alpha_{x1}{\\left(t \\right)} - \\beta_{x1}{\\left(t \\right)} \\right)}\\end{matrix}\\right]$"
          },
          "metadata": {},
          "execution_count": 1171
        }
      ]
    },
    {
      "cell_type": "code",
      "source": [
        "body_inertia = inertia(N_a, ixx1, 0, 0)\n",
        "wirebody2 = Body('wb2', masscenter=O2, mass=M1, central_inertia=body_inertia)\n",
        "#O2.set_vel(N_a, u1*N_a.y + u2*N_a.z)"
      ],
      "metadata": {
        "id": "KiE0PDL-ZOeJ"
      },
      "execution_count": 1172,
      "outputs": []
    },
    {
      "cell_type": "code",
      "source": [
        "#O2.pos_from(O1)"
      ],
      "metadata": {
        "id": "gSDav1rGqVSQ"
      },
      "execution_count": 1173,
      "outputs": []
    },
    {
      "cell_type": "code",
      "source": [
        "rev2 = PrismaticJoint('J2', parent=wirebody1, child=wirebody2, coordinates=[q1], parent_point=O1, child_point=O2,\n",
        "                      joint_axis=N_a.y, speeds=[u1])"
      ],
      "metadata": {
        "id": "klgDprpSaEqx"
      },
      "execution_count": 1174,
      "outputs": []
    },
    {
      "cell_type": "code",
      "source": [
        "# wirebody1.apply_force(k1*delta_l1*N_a.y, reaction_body=wirebody2)\n",
        "# wirebody2.apply_force(-M1*g*N.y.express(N_a), reaction_body=wirebody1)\n",
        "#method = JointsMethod(wirebody1, rev2)\n",
        "#method.form_eoms()"
      ],
      "metadata": {
        "id": "FKnPScGc2PeH"
      },
      "execution_count": 1175,
      "outputs": []
    },
    {
      "cell_type": "code",
      "source": [
        "O2.pos_from(O1).express(N_a)"
      ],
      "metadata": {
        "colab": {
          "base_uri": "https://localhost:8080/",
          "height": 39
        },
        "id": "oQGwZPVOhCPl",
        "outputId": "74f6164c-811d-434b-a2a2-432d38624b96"
      },
      "execution_count": 1176,
      "outputs": [
        {
          "output_type": "execute_result",
          "data": {
            "text/plain": [
              "q1(t)*N_a.y"
            ],
            "text/latex": "$\\displaystyle q_{1}{\\left(t \\right)}\\mathbf{\\hat{n_a}_y}$"
          },
          "metadata": {},
          "execution_count": 1176
        }
      ]
    },
    {
      "cell_type": "code",
      "source": [
        "O2.pos_from(Origin).express(N_a)"
      ],
      "metadata": {
        "colab": {
          "base_uri": "https://localhost:8080/",
          "height": 39
        },
        "id": "9yXaqaQFxgax",
        "outputId": "6bc0419d-96ab-4778-f8b4-a6dd9048da37"
      },
      "execution_count": 1177,
      "outputs": [
        {
          "output_type": "execute_result",
          "data": {
            "text/plain": [
              "(q1(t) + q2(t)*sin(alpha_x1(t) - beta_x1(t)))*N_a.y + q2(t)*cos(alpha_x1(t) - beta_x1(t))*N_a.z"
            ],
            "text/latex": "$\\displaystyle (q_{1}{\\left(t \\right)} + q_{2}{\\left(t \\right)} \\sin{\\left(\\alpha_{x1}{\\left(t \\right)} - \\beta_{x1}{\\left(t \\right)} \\right)})\\mathbf{\\hat{n_a}_y} + q_{2}{\\left(t \\right)} \\cos{\\left(\\alpha_{x1}{\\left(t \\right)} - \\beta_{x1}{\\left(t \\right)} \\right)}\\mathbf{\\hat{n_a}_z}$"
          },
          "metadata": {},
          "execution_count": 1177
        }
      ]
    },
    {
      "cell_type": "code",
      "source": [
        "rev2.kdes"
      ],
      "metadata": {
        "colab": {
          "base_uri": "https://localhost:8080/",
          "height": 39
        },
        "id": "-y2jBomTbafI",
        "outputId": "06e723d2-6bdf-41cc-97dd-5c7ea06896d5"
      },
      "execution_count": 1178,
      "outputs": [
        {
          "output_type": "execute_result",
          "data": {
            "text/plain": [
              "Matrix([[u1(t) - Derivative(q1(t), t)]])"
            ],
            "text/latex": "$\\displaystyle \\left[\\begin{matrix}u_{1}{\\left(t \\right)} - \\frac{d}{d t} q_{1}{\\left(t \\right)}\\end{matrix}\\right]$"
          },
          "metadata": {},
          "execution_count": 1178
        }
      ]
    },
    {
      "cell_type": "code",
      "source": [
        "rev2.child, rev2.parent"
      ],
      "metadata": {
        "colab": {
          "base_uri": "https://localhost:8080/"
        },
        "id": "M4jiWczFaTJ8",
        "outputId": "42afeec4-dac4-48b9-f91d-81b75a67c0a8"
      },
      "execution_count": 1179,
      "outputs": [
        {
          "output_type": "execute_result",
          "data": {
            "text/plain": [
              "(wb2, wb1)"
            ]
          },
          "metadata": {},
          "execution_count": 1179
        }
      ]
    },
    {
      "cell_type": "code",
      "source": [
        "rev2.child_interframe.dcm(rev2.parent_interframe)"
      ],
      "metadata": {
        "colab": {
          "base_uri": "https://localhost:8080/",
          "height": 78
        },
        "id": "A_YWOq3RaV8g",
        "outputId": "5300f28b-81aa-4e02-db9e-3d2a7fdb47d5"
      },
      "execution_count": 1180,
      "outputs": [
        {
          "output_type": "execute_result",
          "data": {
            "text/plain": [
              "Matrix([\n",
              "[1, 0, 0],\n",
              "[0, 1, 0],\n",
              "[0, 0, 1]])"
            ],
            "text/latex": "$\\displaystyle \\left[\\begin{matrix}1 & 0 & 0\\\\0 & 1 & 0\\\\0 & 0 & 1\\end{matrix}\\right]$"
          },
          "metadata": {},
          "execution_count": 1180
        }
      ]
    },
    {
      "cell_type": "code",
      "source": [
        "rev2.child_interframe.dcm(rev1.parent_interframe)"
      ],
      "metadata": {
        "colab": {
          "base_uri": "https://localhost:8080/",
          "height": 78
        },
        "id": "sVk8ZoGnadZb",
        "outputId": "4335ca32-df2d-4168-e3d6-bd971a825786"
      },
      "execution_count": 1181,
      "outputs": [
        {
          "output_type": "execute_result",
          "data": {
            "text/plain": [
              "Matrix([\n",
              "[1,                              0,                             0],\n",
              "[0,  cos(alpha_x1(t) - beta_x1(t)), sin(alpha_x1(t) - beta_x1(t))],\n",
              "[0, -sin(alpha_x1(t) - beta_x1(t)), cos(alpha_x1(t) - beta_x1(t))]])"
            ],
            "text/latex": "$\\displaystyle \\left[\\begin{matrix}1 & 0 & 0\\\\0 & \\cos{\\left(\\alpha_{x1}{\\left(t \\right)} - \\beta_{x1}{\\left(t \\right)} \\right)} & \\sin{\\left(\\alpha_{x1}{\\left(t \\right)} - \\beta_{x1}{\\left(t \\right)} \\right)}\\\\0 & - \\sin{\\left(\\alpha_{x1}{\\left(t \\right)} - \\beta_{x1}{\\left(t \\right)} \\right)} & \\cos{\\left(\\alpha_{x1}{\\left(t \\right)} - \\beta_{x1}{\\left(t \\right)} \\right)}\\end{matrix}\\right]$"
          },
          "metadata": {},
          "execution_count": 1181
        }
      ]
    },
    {
      "cell_type": "code",
      "source": [
        "O2.pos_from(O1).express(N_a)"
      ],
      "metadata": {
        "colab": {
          "base_uri": "https://localhost:8080/",
          "height": 39
        },
        "id": "VcMgTLYyae4R",
        "outputId": "e5b581ae-bfb3-4cf8-edfc-8ea112c5432b"
      },
      "execution_count": 1182,
      "outputs": [
        {
          "output_type": "execute_result",
          "data": {
            "text/plain": [
              "q1(t)*N_a.y"
            ],
            "text/latex": "$\\displaystyle q_{1}{\\left(t \\right)}\\mathbf{\\hat{n_a}_y}$"
          },
          "metadata": {},
          "execution_count": 1182
        }
      ]
    },
    {
      "cell_type": "code",
      "source": [
        "O2.pos_from(O).express(N)"
      ],
      "metadata": {
        "colab": {
          "base_uri": "https://localhost:8080/",
          "height": 39
        },
        "id": "oHoImoMbah84",
        "outputId": "81fc5664-5f3f-4439-a095-218d6ed0bb43"
      },
      "execution_count": 1183,
      "outputs": [
        {
          "output_type": "execute_result",
          "data": {
            "text/plain": [
              "q1(t)*cos(alpha_x1(t) - beta_x1(t))*N.y + q1(t)*sin(alpha_x1(t) - beta_x1(t))*N.z"
            ],
            "text/latex": "$\\displaystyle q_{1}{\\left(t \\right)} \\cos{\\left(\\alpha_{x1}{\\left(t \\right)} - \\beta_{x1}{\\left(t \\right)} \\right)}\\mathbf{\\hat{n}_y} + q_{1}{\\left(t \\right)} \\sin{\\left(\\alpha_{x1}{\\left(t \\right)} - \\beta_{x1}{\\left(t \\right)} \\right)}\\mathbf{\\hat{n}_z}$"
          },
          "metadata": {},
          "execution_count": 1183
        }
      ]
    },
    {
      "cell_type": "code",
      "source": [
        "O2.pos_from(Origin).express(N)"
      ],
      "metadata": {
        "colab": {
          "base_uri": "https://localhost:8080/",
          "height": 39
        },
        "id": "sA-U42AHxnS2",
        "outputId": "c257b2e0-4d2a-492c-d7e2-0cc533eb9734"
      },
      "execution_count": 1184,
      "outputs": [
        {
          "output_type": "execute_result",
          "data": {
            "text/plain": [
              "q1(t)*cos(alpha_x1(t) - beta_x1(t))*N.y + (q1(t)*sin(alpha_x1(t) - beta_x1(t)) + q2(t))*N.z"
            ],
            "text/latex": "$\\displaystyle q_{1}{\\left(t \\right)} \\cos{\\left(\\alpha_{x1}{\\left(t \\right)} - \\beta_{x1}{\\left(t \\right)} \\right)}\\mathbf{\\hat{n}_y} + (q_{1}{\\left(t \\right)} \\sin{\\left(\\alpha_{x1}{\\left(t \\right)} - \\beta_{x1}{\\left(t \\right)} \\right)} + q_{2}{\\left(t \\right)})\\mathbf{\\hat{n}_z}$"
          },
          "metadata": {},
          "execution_count": 1184
        }
      ]
    },
    {
      "cell_type": "code",
      "source": [
        "#O2.set_pos(O1, q3*N.y + q4*N.z)"
      ],
      "metadata": {
        "id": "Tnh9kXbC4stx"
      },
      "execution_count": 1185,
      "outputs": []
    },
    {
      "cell_type": "code",
      "source": [
        "#O2.set_pos(O1, (q1 + x_1 - x_0)*N_a.y)"
      ],
      "metadata": {
        "id": "ffnev0YBjA1B"
      },
      "execution_count": 1186,
      "outputs": []
    },
    {
      "cell_type": "code",
      "source": [
        "#O3.set_pos(O2, (x_1 - x_0)*N_a.y)"
      ],
      "metadata": {
        "id": "MP2mn_Ps34Xc"
      },
      "execution_count": 1187,
      "outputs": []
    },
    {
      "cell_type": "code",
      "source": [
        "#O.pos_from(O2).express(N)"
      ],
      "metadata": {
        "id": "HFfDBgHpyAof"
      },
      "execution_count": 1188,
      "outputs": []
    },
    {
      "cell_type": "code",
      "source": [
        "#O.pos_from(O3).express(N)"
      ],
      "metadata": {
        "id": "ToMgOzw34Ant"
      },
      "execution_count": 1189,
      "outputs": []
    },
    {
      "cell_type": "code",
      "source": [
        "dir_T1 = (O.pos_from(O2).express(N)/O.pos_from(O2).express(N).magnitude())\n",
        "dir_mg = -N.y"
      ],
      "metadata": {
        "id": "EMqDf69At0HR"
      },
      "execution_count": 1190,
      "outputs": []
    },
    {
      "cell_type": "code",
      "source": [
        "dir_T1"
      ],
      "metadata": {
        "colab": {
          "base_uri": "https://localhost:8080/",
          "height": 70
        },
        "id": "rajCoq2cfoQg",
        "outputId": "5e96d467-644c-4bb5-da7c-d2c374ecc80c"
      },
      "execution_count": 1191,
      "outputs": [
        {
          "output_type": "execute_result",
          "data": {
            "text/plain": [
              "- q1(t)*cos(alpha_x1(t) - beta_x1(t))/sqrt(q1(t)**2*sin(alpha_x1(t) - beta_x1(t))**2 + q1(t)**2*cos(alpha_x1(t) - beta_x1(t))**2)*N.y - q1(t)*sin(alpha_x1(t) - beta_x1(t))/sqrt(q1(t)**2*sin(alpha_x1(t) - beta_x1(t))**2 + q1(t)**2*cos(alpha_x1(t) - beta_x1(t))**2)*N.z"
            ],
            "text/latex": "$\\displaystyle -  \\frac{q_{1}{\\left(t \\right)} \\cos{\\left(\\alpha_{x1}{\\left(t \\right)} - \\beta_{x1}{\\left(t \\right)} \\right)}}{\\sqrt{q_{1}^{2}{\\left(t \\right)} \\sin^{2}{\\left(\\alpha_{x1}{\\left(t \\right)} - \\beta_{x1}{\\left(t \\right)} \\right)} + q_{1}^{2}{\\left(t \\right)} \\cos^{2}{\\left(\\alpha_{x1}{\\left(t \\right)} - \\beta_{x1}{\\left(t \\right)} \\right)}}}\\mathbf{\\hat{n}_y} -  \\frac{q_{1}{\\left(t \\right)} \\sin{\\left(\\alpha_{x1}{\\left(t \\right)} - \\beta_{x1}{\\left(t \\right)} \\right)}}{\\sqrt{q_{1}^{2}{\\left(t \\right)} \\sin^{2}{\\left(\\alpha_{x1}{\\left(t \\right)} - \\beta_{x1}{\\left(t \\right)} \\right)} + q_{1}^{2}{\\left(t \\right)} \\cos^{2}{\\left(\\alpha_{x1}{\\left(t \\right)} - \\beta_{x1}{\\left(t \\right)} \\right)}}}\\mathbf{\\hat{n}_z}$"
          },
          "metadata": {},
          "execution_count": 1191
        }
      ]
    },
    {
      "cell_type": "code",
      "source": [],
      "metadata": {
        "id": "zekPTsSpi2BB"
      },
      "execution_count": 1191,
      "outputs": []
    },
    {
      "cell_type": "code",
      "source": [
        "T1, T2, T3, T4 = symbols('T1 T2 T3 T4')\n",
        "k1 = symbols('k1')\n",
        "g = symbols('g')\n",
        "delta_l1 = symbols('delta_l1')"
      ],
      "metadata": {
        "id": "yPbeVWQfdwgq"
      },
      "execution_count": 1192,
      "outputs": []
    },
    {
      "cell_type": "code",
      "source": [
        "#T1 = k1*delta_l1 - M1*g\n",
        "T1 = k1*delta_l1\n",
        "Fg = M1*g"
      ],
      "metadata": {
        "id": "zP7T2mQLfVf0"
      },
      "execution_count": 1193,
      "outputs": []
    },
    {
      "cell_type": "code",
      "source": [
        "(T1*dir_T1)"
      ],
      "metadata": {
        "colab": {
          "base_uri": "https://localhost:8080/",
          "height": 70
        },
        "id": "Xl-otxJufgCo",
        "outputId": "3636c6e3-b399-4372-93f9-0120a7e24759"
      },
      "execution_count": 1194,
      "outputs": [
        {
          "output_type": "execute_result",
          "data": {
            "text/plain": [
              "- delta_l1*k1*q1(t)*cos(alpha_x1(t) - beta_x1(t))/sqrt(q1(t)**2*sin(alpha_x1(t) - beta_x1(t))**2 + q1(t)**2*cos(alpha_x1(t) - beta_x1(t))**2)*N.y - delta_l1*k1*q1(t)*sin(alpha_x1(t) - beta_x1(t))/sqrt(q1(t)**2*sin(alpha_x1(t) - beta_x1(t))**2 + q1(t)**2*cos(alpha_x1(t) - beta_x1(t))**2)*N.z"
            ],
            "text/latex": "$\\displaystyle -  \\frac{\\delta_{l1} k_{1} q_{1}{\\left(t \\right)} \\cos{\\left(\\alpha_{x1}{\\left(t \\right)} - \\beta_{x1}{\\left(t \\right)} \\right)}}{\\sqrt{q_{1}^{2}{\\left(t \\right)} \\sin^{2}{\\left(\\alpha_{x1}{\\left(t \\right)} - \\beta_{x1}{\\left(t \\right)} \\right)} + q_{1}^{2}{\\left(t \\right)} \\cos^{2}{\\left(\\alpha_{x1}{\\left(t \\right)} - \\beta_{x1}{\\left(t \\right)} \\right)}}}\\mathbf{\\hat{n}_y} -  \\frac{\\delta_{l1} k_{1} q_{1}{\\left(t \\right)} \\sin{\\left(\\alpha_{x1}{\\left(t \\right)} - \\beta_{x1}{\\left(t \\right)} \\right)}}{\\sqrt{q_{1}^{2}{\\left(t \\right)} \\sin^{2}{\\left(\\alpha_{x1}{\\left(t \\right)} - \\beta_{x1}{\\left(t \\right)} \\right)} + q_{1}^{2}{\\left(t \\right)} \\cos^{2}{\\left(\\alpha_{x1}{\\left(t \\right)} - \\beta_{x1}{\\left(t \\right)} \\right)}}}\\mathbf{\\hat{n}_z}$"
          },
          "metadata": {},
          "execution_count": 1194
        }
      ]
    },
    {
      "cell_type": "code",
      "source": [
        "(M1*g)*dir_mg"
      ],
      "metadata": {
        "colab": {
          "base_uri": "https://localhost:8080/",
          "height": 39
        },
        "id": "67SOLi3OUB_s",
        "outputId": "6da51bd4-d59b-490d-8be0-be13f6d2e0c0"
      },
      "execution_count": 1195,
      "outputs": [
        {
          "output_type": "execute_result",
          "data": {
            "text/plain": [
              "- M1*g*N.y"
            ],
            "text/latex": "$\\displaystyle -  M_{1} g\\mathbf{\\hat{n}_y}$"
          },
          "metadata": {},
          "execution_count": 1195
        }
      ]
    },
    {
      "cell_type": "code",
      "source": [
        "N.y.express(N_a).dot(N_a.y)"
      ],
      "metadata": {
        "colab": {
          "base_uri": "https://localhost:8080/",
          "height": 39
        },
        "id": "fyZVtzgFrJ8K",
        "outputId": "a3498c45-22e8-4194-d2bd-f64c19b722c5"
      },
      "execution_count": 1196,
      "outputs": [
        {
          "output_type": "execute_result",
          "data": {
            "text/plain": [
              "cos(alpha_x1(t) - beta_x1(t))"
            ],
            "text/latex": "$\\displaystyle \\cos{\\left(\\alpha_{x1}{\\left(t \\right)} - \\beta_{x1}{\\left(t \\right)} \\right)}$"
          },
          "metadata": {},
          "execution_count": 1196
        }
      ]
    },
    {
      "cell_type": "code",
      "source": [
        "#(T1*N_a.y.express(N))"
      ],
      "metadata": {
        "id": "EusKtihRja0E"
      },
      "execution_count": 1197,
      "outputs": []
    },
    {
      "cell_type": "code",
      "source": [
        "F_tot = (T1*N_a.y.express(N)) + (M1*g)*dir_mg"
      ],
      "metadata": {
        "id": "cC7N04PGUIOA"
      },
      "execution_count": 1198,
      "outputs": []
    },
    {
      "cell_type": "code",
      "source": [
        "F_tot"
      ],
      "metadata": {
        "colab": {
          "base_uri": "https://localhost:8080/",
          "height": 39
        },
        "id": "pHBYDMv3rQgv",
        "outputId": "a8a044e3-cc59-4fd0-e0d6-2c1dd5fefb62"
      },
      "execution_count": 1199,
      "outputs": [
        {
          "output_type": "execute_result",
          "data": {
            "text/plain": [
              "(-M1*g + delta_l1*k1*cos(alpha_x1(t) - beta_x1(t)))*N.y + delta_l1*k1*sin(alpha_x1(t) - beta_x1(t))*N.z"
            ],
            "text/latex": "$\\displaystyle (- M_{1} g + \\delta_{l1} k_{1} \\cos{\\left(\\alpha_{x1}{\\left(t \\right)} - \\beta_{x1}{\\left(t \\right)} \\right)})\\mathbf{\\hat{n}_y} + \\delta_{l1} k_{1} \\sin{\\left(\\alpha_{x1}{\\left(t \\right)} - \\beta_{x1}{\\left(t \\right)} \\right)}\\mathbf{\\hat{n}_z}$"
          },
          "metadata": {},
          "execution_count": 1199
        }
      ]
    },
    {
      "cell_type": "code",
      "source": [
        "#F_tot = F_tot.subs({delta_l1:q1 - x_0})\n",
        "F_tot = F_tot.subs({delta_l1: q3 - x_0})"
      ],
      "metadata": {
        "id": "snSrC7PhoZ2W"
      },
      "execution_count": 1200,
      "outputs": []
    },
    {
      "cell_type": "code",
      "source": [
        "F_tot"
      ],
      "metadata": {
        "colab": {
          "base_uri": "https://localhost:8080/",
          "height": 39
        },
        "id": "CEU5Obk78CNp",
        "outputId": "9c71189b-6fa7-4453-bfc1-100c22895b7c"
      },
      "execution_count": 1201,
      "outputs": [
        {
          "output_type": "execute_result",
          "data": {
            "text/plain": [
              "(-M1*g + k1*(q3(t) - x_0(t))*cos(alpha_x1(t) - beta_x1(t)))*N.y + k1*(q3(t) - x_0(t))*sin(alpha_x1(t) - beta_x1(t))*N.z"
            ],
            "text/latex": "$\\displaystyle (- M_{1} g + k_{1} \\left(q_{3}{\\left(t \\right)} - x_{0}{\\left(t \\right)}\\right) \\cos{\\left(\\alpha_{x1}{\\left(t \\right)} - \\beta_{x1}{\\left(t \\right)} \\right)})\\mathbf{\\hat{n}_y} + k_{1} \\left(q_{3}{\\left(t \\right)} - x_{0}{\\left(t \\right)}\\right) \\sin{\\left(\\alpha_{x1}{\\left(t \\right)} - \\beta_{x1}{\\left(t \\right)} \\right)}\\mathbf{\\hat{n}_z}$"
          },
          "metadata": {},
          "execution_count": 1201
        }
      ]
    },
    {
      "cell_type": "code",
      "source": [
        "#F_tot = F_tot.subs({delta_l1: x_1 - x_0})"
      ],
      "metadata": {
        "id": "rn8b6Vk4UR7c"
      },
      "execution_count": 1202,
      "outputs": []
    },
    {
      "cell_type": "code",
      "source": [
        "O2.pos_from(O1).express(N).dot(N.y)"
      ],
      "metadata": {
        "colab": {
          "base_uri": "https://localhost:8080/",
          "height": 39
        },
        "id": "Dt56vMbC5gBP",
        "outputId": "03a70dba-3465-4977-94c2-558d30504197"
      },
      "execution_count": 1203,
      "outputs": [
        {
          "output_type": "execute_result",
          "data": {
            "text/plain": [
              "q1(t)*cos(alpha_x1(t) - beta_x1(t))"
            ],
            "text/latex": "$\\displaystyle q_{1}{\\left(t \\right)} \\cos{\\left(\\alpha_{x1}{\\left(t \\right)} - \\beta_{x1}{\\left(t \\right)} \\right)}$"
          },
          "metadata": {},
          "execution_count": 1203
        }
      ]
    },
    {
      "cell_type": "code",
      "source": [
        "F_tot"
      ],
      "metadata": {
        "colab": {
          "base_uri": "https://localhost:8080/",
          "height": 39
        },
        "id": "0i1mYOCYYpMn",
        "outputId": "9a0f3540-875f-47b4-b74b-3f3c75e2c58e"
      },
      "execution_count": 1204,
      "outputs": [
        {
          "output_type": "execute_result",
          "data": {
            "text/plain": [
              "(-M1*g + k1*(q3(t) - x_0(t))*cos(alpha_x1(t) - beta_x1(t)))*N.y + k1*(q3(t) - x_0(t))*sin(alpha_x1(t) - beta_x1(t))*N.z"
            ],
            "text/latex": "$\\displaystyle (- M_{1} g + k_{1} \\left(q_{3}{\\left(t \\right)} - x_{0}{\\left(t \\right)}\\right) \\cos{\\left(\\alpha_{x1}{\\left(t \\right)} - \\beta_{x1}{\\left(t \\right)} \\right)})\\mathbf{\\hat{n}_y} + k_{1} \\left(q_{3}{\\left(t \\right)} - x_{0}{\\left(t \\right)}\\right) \\sin{\\left(\\alpha_{x1}{\\left(t \\right)} - \\beta_{x1}{\\left(t \\right)} \\right)}\\mathbf{\\hat{n}_z}$"
          },
          "metadata": {},
          "execution_count": 1204
        }
      ]
    },
    {
      "cell_type": "code",
      "source": [
        "T1.subs({delta_l1:x_1 - x_0})"
      ],
      "metadata": {
        "colab": {
          "base_uri": "https://localhost:8080/",
          "height": 39
        },
        "id": "O-7Ah05uDmu1",
        "outputId": "5f92aabc-4f7a-44fe-e66a-ff5f4303f5f8"
      },
      "execution_count": 1205,
      "outputs": [
        {
          "output_type": "execute_result",
          "data": {
            "text/plain": [
              "k1*(-x_0(t) + x_1(t))"
            ],
            "text/latex": "$\\displaystyle k_{1} \\left(- x_{0}{\\left(t \\right)} + x_{1}{\\left(t \\right)}\\right)$"
          },
          "metadata": {},
          "execution_count": 1205
        }
      ]
    },
    {
      "cell_type": "code",
      "source": [
        "#Fg*N.y"
      ],
      "metadata": {
        "id": "ai7MdT1d8hoN"
      },
      "execution_count": 1206,
      "outputs": []
    },
    {
      "cell_type": "code",
      "source": [
        "#F = (T1*dir_T1) - Fg*N.y"
      ],
      "metadata": {
        "id": "hPsjcFKZ8p-i"
      },
      "execution_count": 1207,
      "outputs": []
    },
    {
      "cell_type": "code",
      "source": [
        "#F"
      ],
      "metadata": {
        "id": "YS3KovIO8uh-"
      },
      "execution_count": 1208,
      "outputs": []
    },
    {
      "cell_type": "code",
      "source": [
        "#(T1*dir_T1).subs({x_0:x_1, alpha_x:0, delta_l1:0}).simplify()"
      ],
      "metadata": {
        "id": "baUMN9Hqz1Lg"
      },
      "execution_count": 1209,
      "outputs": []
    },
    {
      "cell_type": "code",
      "source": [
        "F_tot.subs({x_0:x_1, alpha_x1:beta_x1, delta_l1:0}).simplify()"
      ],
      "metadata": {
        "colab": {
          "base_uri": "https://localhost:8080/",
          "height": 39
        },
        "id": "_SBRBwLnUU4Y",
        "outputId": "5810ff1c-e5cd-4c40-ee30-09cb3e09ccf1"
      },
      "execution_count": 1210,
      "outputs": [
        {
          "output_type": "execute_result",
          "data": {
            "text/plain": [
              "(-M1*g + k1*(q3(t) - x_1(t)))*N.y"
            ],
            "text/latex": "$\\displaystyle (- M_{1} g + k_{1} \\left(q_{3}{\\left(t \\right)} - x_{1}{\\left(t \\right)}\\right))\\mathbf{\\hat{n}_y}$"
          },
          "metadata": {},
          "execution_count": 1210
        }
      ]
    },
    {
      "cell_type": "code",
      "source": [
        "rev2.child_point.pos_from(rev2.parent_point)"
      ],
      "metadata": {
        "colab": {
          "base_uri": "https://localhost:8080/",
          "height": 39
        },
        "id": "KlsMLvsmjEW7",
        "outputId": "970766ea-60c3-4aac-a46d-242682e81ea3"
      },
      "execution_count": 1211,
      "outputs": [
        {
          "output_type": "execute_result",
          "data": {
            "text/plain": [
              "q1(t)*N_a.y"
            ],
            "text/latex": "$\\displaystyle q_{1}{\\left(t \\right)}\\mathbf{\\hat{n_a}_y}$"
          },
          "metadata": {},
          "execution_count": 1211
        }
      ]
    },
    {
      "cell_type": "code",
      "source": [
        "rev2.child_point, rev2.parent_point"
      ],
      "metadata": {
        "colab": {
          "base_uri": "https://localhost:8080/"
        },
        "id": "CUgv8b5KuS22",
        "outputId": "7c3a158b-504a-4f33-dde4-b0b223fa2645"
      },
      "execution_count": 1212,
      "outputs": [
        {
          "output_type": "execute_result",
          "data": {
            "text/plain": [
              "(O2, O1)"
            ]
          },
          "metadata": {},
          "execution_count": 1212
        }
      ]
    },
    {
      "cell_type": "code",
      "source": [
        "rev2.kdes"
      ],
      "metadata": {
        "colab": {
          "base_uri": "https://localhost:8080/",
          "height": 39
        },
        "id": "euCwzG1Tz1kd",
        "outputId": "4267cbbc-e03b-45f6-f195-672dee7f59ad"
      },
      "execution_count": 1213,
      "outputs": [
        {
          "output_type": "execute_result",
          "data": {
            "text/plain": [
              "Matrix([[u1(t) - Derivative(q1(t), t)]])"
            ],
            "text/latex": "$\\displaystyle \\left[\\begin{matrix}u_{1}{\\left(t \\right)} - \\frac{d}{d t} q_{1}{\\left(t \\right)}\\end{matrix}\\right]$"
          },
          "metadata": {},
          "execution_count": 1213
        }
      ]
    },
    {
      "cell_type": "code",
      "source": [
        "rev2.speeds"
      ],
      "metadata": {
        "colab": {
          "base_uri": "https://localhost:8080/",
          "height": 39
        },
        "id": "Gt5nzn2Yz8eD",
        "outputId": "dbc99d34-1d87-4322-c211-265c489fe3f3"
      },
      "execution_count": 1214,
      "outputs": [
        {
          "output_type": "execute_result",
          "data": {
            "text/plain": [
              "Matrix([[u1(t)]])"
            ],
            "text/latex": "$\\displaystyle \\left[\\begin{matrix}u_{1}{\\left(t \\right)}\\end{matrix}\\right]$"
          },
          "metadata": {},
          "execution_count": 1214
        }
      ]
    },
    {
      "cell_type": "code",
      "source": [
        "u1*N_a.y.express(N)"
      ],
      "metadata": {
        "colab": {
          "base_uri": "https://localhost:8080/",
          "height": 39
        },
        "id": "vGzuPIr42iOd",
        "outputId": "3a3e4877-17cf-4808-8789-10b9e44600f8"
      },
      "execution_count": 1215,
      "outputs": [
        {
          "output_type": "execute_result",
          "data": {
            "text/plain": [
              "u1(t)*cos(alpha_x1(t) - beta_x1(t))*N.y + u1(t)*sin(alpha_x1(t) - beta_x1(t))*N.z"
            ],
            "text/latex": "$\\displaystyle u_{1}{\\left(t \\right)} \\cos{\\left(\\alpha_{x1}{\\left(t \\right)} - \\beta_{x1}{\\left(t \\right)} \\right)}\\mathbf{\\hat{n}_y} + u_{1}{\\left(t \\right)} \\sin{\\left(\\alpha_{x1}{\\left(t \\right)} - \\beta_{x1}{\\left(t \\right)} \\right)}\\mathbf{\\hat{n}_z}$"
          },
          "metadata": {},
          "execution_count": 1215
        }
      ]
    },
    {
      "cell_type": "code",
      "source": [
        "O2.pos_from(O1).express(N).dot(N.y)"
      ],
      "metadata": {
        "colab": {
          "base_uri": "https://localhost:8080/",
          "height": 39
        },
        "id": "xt0hYGfs4FXO",
        "outputId": "41e69b90-5d2b-4c8b-b63d-0b0b2ac4d50e"
      },
      "execution_count": 1216,
      "outputs": [
        {
          "output_type": "execute_result",
          "data": {
            "text/plain": [
              "q1(t)*cos(alpha_x1(t) - beta_x1(t))"
            ],
            "text/latex": "$\\displaystyle q_{1}{\\left(t \\right)} \\cos{\\left(\\alpha_{x1}{\\left(t \\right)} - \\beta_{x1}{\\left(t \\right)} \\right)}$"
          },
          "metadata": {},
          "execution_count": 1216
        }
      ]
    },
    {
      "cell_type": "code",
      "source": [
        "# q3 = O2.pos_from(O1).express(N).dot(N.y)\n",
        "# q4 = O2.pos_from(O1).express(N).dot(N.z)\n",
        "q3, q4"
      ],
      "metadata": {
        "colab": {
          "base_uri": "https://localhost:8080/"
        },
        "id": "CLQLwu9e30gi",
        "outputId": "6bc5cc13-6ccb-4bc8-8204-6fa6766981be"
      },
      "execution_count": 1217,
      "outputs": [
        {
          "output_type": "execute_result",
          "data": {
            "text/plain": [
              "(q3(t), q4(t))"
            ]
          },
          "metadata": {},
          "execution_count": 1217
        }
      ]
    },
    {
      "cell_type": "code",
      "source": [
        "wirebody2.frame.set_ang_vel(N, omega_x1*N.x)\n",
        "O2.set_vel(N, u3*N.y + u4*N.z)"
      ],
      "metadata": {
        "id": "SVJezKr8uX-S"
      },
      "execution_count": 1218,
      "outputs": []
    },
    {
      "cell_type": "code",
      "source": [
        "F_tot"
      ],
      "metadata": {
        "colab": {
          "base_uri": "https://localhost:8080/",
          "height": 39
        },
        "id": "Z1uuVe3YkPbU",
        "outputId": "313282c1-bb8c-4194-cc70-6af25fd9aa8b"
      },
      "execution_count": 1219,
      "outputs": [
        {
          "output_type": "execute_result",
          "data": {
            "text/plain": [
              "(-M1*g + k1*(q3(t) - x_0(t))*cos(alpha_x1(t) - beta_x1(t)))*N.y + k1*(q3(t) - x_0(t))*sin(alpha_x1(t) - beta_x1(t))*N.z"
            ],
            "text/latex": "$\\displaystyle (- M_{1} g + k_{1} \\left(q_{3}{\\left(t \\right)} - x_{0}{\\left(t \\right)}\\right) \\cos{\\left(\\alpha_{x1}{\\left(t \\right)} - \\beta_{x1}{\\left(t \\right)} \\right)})\\mathbf{\\hat{n}_y} + k_{1} \\left(q_{3}{\\left(t \\right)} - x_{0}{\\left(t \\right)}\\right) \\sin{\\left(\\alpha_{x1}{\\left(t \\right)} - \\beta_{x1}{\\left(t \\right)} \\right)}\\mathbf{\\hat{n}_z}$"
          },
          "metadata": {},
          "execution_count": 1219
        }
      ]
    },
    {
      "cell_type": "code",
      "source": [
        "wirebody2.apply_force(F_tot, point=O2)\n",
        "#wirebody2.apply_force(T1.subs({delta_l1:x_1 - x_0})*N.y, point=O2)\n",
        "#wirebody2.apply_force(-M1*g*N.y.express(N_a), point=O2)\n",
        "#wirebody2.apply_force(F, point=O2)"
      ],
      "metadata": {
        "id": "IaiR9UETv09-"
      },
      "execution_count": 1220,
      "outputs": []
    },
    {
      "cell_type": "code",
      "source": [
        "F_tot.dot(N.z)"
      ],
      "metadata": {
        "colab": {
          "base_uri": "https://localhost:8080/",
          "height": 39
        },
        "id": "wbHDf9zpP3Sc",
        "outputId": "876be6a6-5ad4-4cb8-e831-1d0a0a7f5204"
      },
      "execution_count": 1221,
      "outputs": [
        {
          "output_type": "execute_result",
          "data": {
            "text/plain": [
              "k1*(q3(t) - x_0(t))*sin(alpha_x1(t) - beta_x1(t))"
            ],
            "text/latex": "$\\displaystyle k_{1} \\left(q_{3}{\\left(t \\right)} - x_{0}{\\left(t \\right)}\\right) \\sin{\\left(\\alpha_{x1}{\\left(t \\right)} - \\beta_{x1}{\\left(t \\right)} \\right)}$"
          },
          "metadata": {},
          "execution_count": 1221
        }
      ]
    },
    {
      "cell_type": "code",
      "source": [
        "#wirebody2.apply_torque((q3-x_0)*F_tot.dot(N.z)*N.x)\n",
        "wirebody2.apply_torque((q3)*M1*g*smp.sin(alpha_x1-beta_x1)*N.x)"
      ],
      "metadata": {
        "id": "BzJ0Q8uuvrdz"
      },
      "execution_count": 1222,
      "outputs": []
    },
    {
      "cell_type": "code",
      "source": [
        "wirebody2.loads"
      ],
      "metadata": {
        "colab": {
          "base_uri": "https://localhost:8080/"
        },
        "id": "6cuFHGfowKrM",
        "outputId": "91ebd329-1902-4935-bb40-13ffbb1b96f1"
      },
      "execution_count": 1223,
      "outputs": [
        {
          "output_type": "execute_result",
          "data": {
            "text/plain": [
              "[(O2,\n",
              "  (-M1*g + k1*(q3(t) - x_0(t))*cos(alpha_x1(t) - beta_x1(t)))*N.y + k1*(q3(t) - x_0(t))*sin(alpha_x1(t) - beta_x1(t))*N.z),\n",
              " (wb2_frame, M1*g*q3(t)*sin(alpha_x1(t) - beta_x1(t))*N.x)]"
            ]
          },
          "metadata": {},
          "execution_count": 1223
        }
      ]
    },
    {
      "cell_type": "code",
      "source": [
        "kane = me.KanesMethod(N, q_ind=[alpha_x1, q3, q4],\n",
        "\n",
        "                      u_ind = [omega_x1, u3, u4],\n",
        "\n",
        "                      kd_eqs=[\n",
        "                              omega_x1 - alpha_x1.diff(t), u3 - q3.diff(t), u4 - q4.diff(t)\n",
        "                              ])\n",
        "\n",
        "kaneeq = kane.kanes_equations([wirebody2], wirebody2.loads)"
      ],
      "metadata": {
        "id": "Uv9V7p01wM8I"
      },
      "execution_count": 1224,
      "outputs": []
    },
    {
      "cell_type": "code",
      "source": [
        "kane.q"
      ],
      "metadata": {
        "colab": {
          "base_uri": "https://localhost:8080/",
          "height": 78
        },
        "id": "gxNeiqEMrwne",
        "outputId": "d6bbd099-5ce8-4d13-ee25-974b7c470507"
      },
      "execution_count": 1225,
      "outputs": [
        {
          "output_type": "execute_result",
          "data": {
            "text/plain": [
              "Matrix([\n",
              "[alpha_x1(t)],\n",
              "[      q3(t)],\n",
              "[      q4(t)]])"
            ],
            "text/latex": "$\\displaystyle \\left[\\begin{matrix}\\alpha_{x1}{\\left(t \\right)}\\\\q_{3}{\\left(t \\right)}\\\\q_{4}{\\left(t \\right)}\\end{matrix}\\right]$"
          },
          "metadata": {},
          "execution_count": 1225
        }
      ]
    },
    {
      "cell_type": "code",
      "source": [
        "kaneeq[1]"
      ],
      "metadata": {
        "colab": {
          "base_uri": "https://localhost:8080/",
          "height": 80
        },
        "id": "hBgtjxrfyoOw",
        "outputId": "c9a6e749-e30a-4a74-8fc6-ad5fd07914ad"
      },
      "execution_count": 1226,
      "outputs": [
        {
          "output_type": "execute_result",
          "data": {
            "text/plain": [
              "Matrix([\n",
              "[-ixx1*Derivative(omega_x1(t), t)],\n",
              "[        -M1*Derivative(u3(t), t)],\n",
              "[        -M1*Derivative(u4(t), t)]])"
            ],
            "text/latex": "$\\displaystyle \\left[\\begin{matrix}- ixx_{1} \\frac{d}{d t} \\omega_{x1}{\\left(t \\right)}\\\\- M_{1} \\frac{d}{d t} u_{3}{\\left(t \\right)}\\\\- M_{1} \\frac{d}{d t} u_{4}{\\left(t \\right)}\\end{matrix}\\right]$"
          },
          "metadata": {},
          "execution_count": 1226
        }
      ]
    },
    {
      "cell_type": "code",
      "source": [
        "kaneeq[0]"
      ],
      "metadata": {
        "colab": {
          "base_uri": "https://localhost:8080/",
          "height": 78
        },
        "id": "qvm3YcWzyyu1",
        "outputId": "d713fc12-6dde-4b24-dd25-66b8c8b66683"
      },
      "execution_count": 1227,
      "outputs": [
        {
          "output_type": "execute_result",
          "data": {
            "text/plain": [
              "Matrix([\n",
              "[                 M1*g*q3(t)*sin(alpha_x1(t) - beta_x1(t))],\n",
              "[-M1*g + k1*(q3(t) - x_0(t))*cos(alpha_x1(t) - beta_x1(t))],\n",
              "[        k1*(q3(t) - x_0(t))*sin(alpha_x1(t) - beta_x1(t))]])"
            ],
            "text/latex": "$\\displaystyle \\left[\\begin{matrix}M_{1} g q_{3}{\\left(t \\right)} \\sin{\\left(\\alpha_{x1}{\\left(t \\right)} - \\beta_{x1}{\\left(t \\right)} \\right)}\\\\- M_{1} g + k_{1} \\left(q_{3}{\\left(t \\right)} - x_{0}{\\left(t \\right)}\\right) \\cos{\\left(\\alpha_{x1}{\\left(t \\right)} - \\beta_{x1}{\\left(t \\right)} \\right)}\\\\k_{1} \\left(q_{3}{\\left(t \\right)} - x_{0}{\\left(t \\right)}\\right) \\sin{\\left(\\alpha_{x1}{\\left(t \\right)} - \\beta_{x1}{\\left(t \\right)} \\right)}\\end{matrix}\\right]$"
          },
          "metadata": {},
          "execution_count": 1227
        }
      ]
    },
    {
      "cell_type": "code",
      "source": [
        "N_a.y.express(N)"
      ],
      "metadata": {
        "colab": {
          "base_uri": "https://localhost:8080/",
          "height": 39
        },
        "id": "zxqklkCup7wx",
        "outputId": "a0b8401a-92e0-46ba-8775-1d369b60517d"
      },
      "execution_count": 1228,
      "outputs": [
        {
          "output_type": "execute_result",
          "data": {
            "text/plain": [
              "cos(alpha_x1(t) - beta_x1(t))*N.y + sin(alpha_x1(t) - beta_x1(t))*N.z"
            ],
            "text/latex": "$\\displaystyle \\cos{\\left(\\alpha_{x1}{\\left(t \\right)} - \\beta_{x1}{\\left(t \\right)} \\right)}\\mathbf{\\hat{n}_y} + \\sin{\\left(\\alpha_{x1}{\\left(t \\right)} - \\beta_{x1}{\\left(t \\right)} \\right)}\\mathbf{\\hat{n}_z}$"
          },
          "metadata": {},
          "execution_count": 1228
        }
      ]
    },
    {
      "cell_type": "code",
      "source": [
        "kaneeq[0][0].diff(alpha_x1).subs({alpha_x1:beta_x1})"
      ],
      "metadata": {
        "colab": {
          "base_uri": "https://localhost:8080/",
          "height": 39
        },
        "id": "t8X41MU9RNo7",
        "outputId": "e83aae4b-664f-48cd-aa4a-faab9cdc5d84"
      },
      "execution_count": 1229,
      "outputs": [
        {
          "output_type": "execute_result",
          "data": {
            "text/plain": [
              "M1*g*q3(t)"
            ],
            "text/latex": "$\\displaystyle M_{1} g q_{3}{\\left(t \\right)}$"
          },
          "metadata": {},
          "execution_count": 1229
        }
      ]
    },
    {
      "cell_type": "code",
      "source": [
        "kaneeq[0][2].diff(alpha_x1).subs({alpha_x1:beta_x1})"
      ],
      "metadata": {
        "colab": {
          "base_uri": "https://localhost:8080/",
          "height": 39
        },
        "id": "uWcuzR8bU4i3",
        "outputId": "f6f4fdb7-5214-4e53-b31c-010050bf4eb2"
      },
      "execution_count": 1230,
      "outputs": [
        {
          "output_type": "execute_result",
          "data": {
            "text/plain": [
              "k1*(q3(t) - x_0(t))"
            ],
            "text/latex": "$\\displaystyle k_{1} \\left(q_{3}{\\left(t \\right)} - x_{0}{\\left(t \\right)}\\right)$"
          },
          "metadata": {},
          "execution_count": 1230
        }
      ]
    },
    {
      "cell_type": "code",
      "source": [
        "kanel = kane.to_linearizer()"
      ],
      "metadata": {
        "id": "l6-iFqWky0Cz"
      },
      "execution_count": 1231,
      "outputs": []
    },
    {
      "cell_type": "code",
      "source": [
        "#A, B = kanel.linearize(A_and_B=True, op_point={alpha_x:0, x_1:x_0})\n",
        "A, B = kanel.linearize(A_and_B=True, op_point={alpha_x1:beta_x1})"
      ],
      "metadata": {
        "id": "3uiDRnlU2M7h"
      },
      "execution_count": 1232,
      "outputs": []
    },
    {
      "cell_type": "code",
      "source": [
        "A"
      ],
      "metadata": {
        "colab": {
          "base_uri": "https://localhost:8080/",
          "height": 150
        },
        "id": "feNZUooy2Uu_",
        "outputId": "db26cc81-7747-492f-b17c-52e333bd6caa"
      },
      "execution_count": 1233,
      "outputs": [
        {
          "output_type": "execute_result",
          "data": {
            "text/plain": [
              "Matrix([\n",
              "[                     0,     0, 0, 1, 0, 0],\n",
              "[                     0,     0, 0, 0, 1, 0],\n",
              "[                     0,     0, 0, 0, 0, 1],\n",
              "[       M1*g*q3(t)/ixx1,     0, 0, 0, 0, 0],\n",
              "[                     0, k1/M1, 0, 0, 0, 0],\n",
              "[k1*(q3(t) - x_0(t))/M1,     0, 0, 0, 0, 0]])"
            ],
            "text/latex": "$\\displaystyle \\left[\\begin{matrix}0 & 0 & 0 & 1 & 0 & 0\\\\0 & 0 & 0 & 0 & 1 & 0\\\\0 & 0 & 0 & 0 & 0 & 1\\\\\\frac{M_{1} g q_{3}{\\left(t \\right)}}{ixx_{1}} & 0 & 0 & 0 & 0 & 0\\\\0 & \\frac{k_{1}}{M_{1}} & 0 & 0 & 0 & 0\\\\\\frac{k_{1} \\left(q_{3}{\\left(t \\right)} - x_{0}{\\left(t \\right)}\\right)}{M_{1}} & 0 & 0 & 0 & 0 & 0\\end{matrix}\\right]$"
          },
          "metadata": {},
          "execution_count": 1233
        }
      ]
    },
    {
      "cell_type": "code",
      "source": [
        "B"
      ],
      "metadata": {
        "colab": {
          "base_uri": "https://localhost:8080/",
          "height": 150
        },
        "id": "FhJvv3ua2Vd-",
        "outputId": "37e5d8cf-f2d7-407c-99d5-00268f6b0df5"
      },
      "execution_count": 1234,
      "outputs": [
        {
          "output_type": "execute_result",
          "data": {
            "text/plain": [
              "Matrix([\n",
              "[                      0,      0],\n",
              "[                      0,      0],\n",
              "[                      0,      0],\n",
              "[       -M1*g*q3(t)/ixx1,      0],\n",
              "[                      0, -k1/M1],\n",
              "[-k1*(q3(t) - x_0(t))/M1,      0]])"
            ],
            "text/latex": "$\\displaystyle \\left[\\begin{matrix}0 & 0\\\\0 & 0\\\\0 & 0\\\\- \\frac{M_{1} g q_{3}{\\left(t \\right)}}{ixx_{1}} & 0\\\\0 & - \\frac{k_{1}}{M_{1}}\\\\- \\frac{k_{1} \\left(q_{3}{\\left(t \\right)} - x_{0}{\\left(t \\right)}\\right)}{M_{1}} & 0\\end{matrix}\\right]$"
          },
          "metadata": {},
          "execution_count": 1234
        }
      ]
    },
    {
      "cell_type": "code",
      "source": [
        "kanel.r"
      ],
      "metadata": {
        "colab": {
          "base_uri": "https://localhost:8080/",
          "height": 58
        },
        "id": "IO4LU9LI2WQ8",
        "outputId": "a23ba1f8-1bc5-4bb2-a078-cc20a1a5db17"
      },
      "execution_count": 1235,
      "outputs": [
        {
          "output_type": "execute_result",
          "data": {
            "text/plain": [
              "Matrix([\n",
              "[beta_x1(t)],\n",
              "[    x_0(t)]])"
            ],
            "text/latex": "$\\displaystyle \\left[\\begin{matrix}\\beta_{x1}{\\left(t \\right)}\\\\x_{0}{\\left(t \\right)}\\end{matrix}\\right]$"
          },
          "metadata": {},
          "execution_count": 1235
        }
      ]
    },
    {
      "cell_type": "code",
      "source": [
        "kanel.q"
      ],
      "metadata": {
        "colab": {
          "base_uri": "https://localhost:8080/",
          "height": 78
        },
        "id": "d8EeTAdJ2lHZ",
        "outputId": "f0e7f785-253d-4b7d-c536-8ed626225f4f"
      },
      "execution_count": 1236,
      "outputs": [
        {
          "output_type": "execute_result",
          "data": {
            "text/plain": [
              "Matrix([\n",
              "[alpha_x1(t)],\n",
              "[      q3(t)],\n",
              "[      q4(t)]])"
            ],
            "text/latex": "$\\displaystyle \\left[\\begin{matrix}\\alpha_{x1}{\\left(t \\right)}\\\\q_{3}{\\left(t \\right)}\\\\q_{4}{\\left(t \\right)}\\end{matrix}\\right]$"
          },
          "metadata": {},
          "execution_count": 1236
        }
      ]
    },
    {
      "cell_type": "code",
      "source": [
        "A"
      ],
      "metadata": {
        "colab": {
          "base_uri": "https://localhost:8080/",
          "height": 150
        },
        "id": "R1AJDUsv-oWf",
        "outputId": "8830ca66-c75c-43c4-e754-f74e529118e0"
      },
      "execution_count": 1237,
      "outputs": [
        {
          "output_type": "execute_result",
          "data": {
            "text/plain": [
              "Matrix([\n",
              "[                     0,     0, 0, 1, 0, 0],\n",
              "[                     0,     0, 0, 0, 1, 0],\n",
              "[                     0,     0, 0, 0, 0, 1],\n",
              "[       M1*g*q3(t)/ixx1,     0, 0, 0, 0, 0],\n",
              "[                     0, k1/M1, 0, 0, 0, 0],\n",
              "[k1*(q3(t) - x_0(t))/M1,     0, 0, 0, 0, 0]])"
            ],
            "text/latex": "$\\displaystyle \\left[\\begin{matrix}0 & 0 & 0 & 1 & 0 & 0\\\\0 & 0 & 0 & 0 & 1 & 0\\\\0 & 0 & 0 & 0 & 0 & 1\\\\\\frac{M_{1} g q_{3}{\\left(t \\right)}}{ixx_{1}} & 0 & 0 & 0 & 0 & 0\\\\0 & \\frac{k_{1}}{M_{1}} & 0 & 0 & 0 & 0\\\\\\frac{k_{1} \\left(q_{3}{\\left(t \\right)} - x_{0}{\\left(t \\right)}\\right)}{M_{1}} & 0 & 0 & 0 & 0 & 0\\end{matrix}\\right]$"
          },
          "metadata": {},
          "execution_count": 1237
        }
      ]
    },
    {
      "cell_type": "code",
      "source": [],
      "metadata": {
        "id": "D2xOyCu_YLZ_"
      },
      "execution_count": null,
      "outputs": []
    },
    {
      "cell_type": "markdown",
      "source": [
        "### Single spring block system"
      ],
      "metadata": {
        "id": "BJ58QUAshT06"
      }
    },
    {
      "cell_type": "code",
      "source": [],
      "metadata": {
        "id": "f1wNSkPzhSi5"
      },
      "execution_count": null,
      "outputs": []
    },
    {
      "cell_type": "code",
      "source": [],
      "metadata": {
        "id": "J261hjSOhSw5"
      },
      "execution_count": null,
      "outputs": []
    },
    {
      "cell_type": "code",
      "source": [],
      "metadata": {
        "id": "jQiFQbzhhS-e"
      },
      "execution_count": null,
      "outputs": []
    },
    {
      "cell_type": "markdown",
      "source": [
        "### 2 wire single block with joints"
      ],
      "metadata": {
        "id": "eJH9D24lbLUr"
      }
    },
    {
      "cell_type": "code",
      "source": [
        "N = ReferenceFrame('N') # this is the global frame\n",
        "N_a = ReferenceFrame('N_a') #\n",
        "N_b = ReferenceFrame('N_b')\n",
        "N_c = ReferenceFrame('N_c')\n",
        "N_d = ReferenceFrame('N_d')\n",
        "A = ReferenceFrame('A') #\n",
        "B = ReferenceFrame('B') #\n",
        "\n",
        "A.orient_axis(N, 0, N.z) # Initially A and N are parallel\n",
        "B.orient_axis(N, 0, N.z) # Initially B and N are parallel\n",
        "N_a.orient_axis(N, 0, N.z) # Initially N and N_a are parallel\n",
        "#N_b.orient_axis(N, 0, N.z)"
      ],
      "metadata": {
        "id": "CQyo19NfbPw6"
      },
      "execution_count": 159,
      "outputs": []
    },
    {
      "cell_type": "code",
      "source": [
        "O = Point('O')\n",
        "P = Point('P')\n",
        "P1 = Point('P1')\n",
        "P1a = Point('P1a')\n",
        "P2 = Point('P2')\n",
        "P2a = Point('P2a')\n",
        "# P3 = Point('P3')\n",
        "# P4 = Point('P4')\n",
        "X1 = Point('X1')\n",
        "B1 = Point('B1')\n",
        "B2 = Point('B2')\n",
        "B1a = Point('B1a')\n",
        "B2a = Point('B2a')\n",
        "# B3 = Point('B3')\n",
        "# B4 = Point('B4')\n",
        "\n",
        "\n",
        "X1a = Point('X1a')\n",
        "X2 = Point('X2')\n",
        "X2a = Point('X2a')\n",
        "\n",
        "\n",
        "\n",
        "# B3a = Point('B3a')\n",
        "# B4a = Point('B4a')\n",
        "\n",
        "C1 = Point('C1')\n",
        "C2 = Point('C2')\n",
        "C1a = Point('C1a')\n",
        "C2a = Point('C2a')\n",
        "\n",
        "D1 = Point('D1')\n",
        "D1a = Point('D1a')\n",
        "D2 = Point('D2')\n",
        "D2a = Point('D2a')"
      ],
      "metadata": {
        "id": "QZcbrynCcDcR"
      },
      "execution_count": 160,
      "outputs": []
    },
    {
      "cell_type": "code",
      "source": [
        "q1, q2, q3, q4, q5, q6 = dynamicsymbols('q1, q2, q3, q4, q5, q6')\n",
        "u1, u2, u3, u4, u5, u6 = dynamicsymbols('u1, u2, u3, u4, u5, u6')\n",
        "w1, w2, w3, d1, d2, d3 = symbols('w1 w2 w3 d1 d2 d3')\n",
        "ixx1, iyy1, izz1 = symbols('ixx1 iyy1 izz1')\n",
        "ixx2, iyy2, izz2 = symbols('ixx2 iyy2 izz2')\n",
        "M1, M2 = symbols('M1 M2')"
      ],
      "metadata": {
        "id": "FXsOpO0Gd1Gb"
      },
      "execution_count": 161,
      "outputs": []
    },
    {
      "cell_type": "code",
      "source": [
        "P.set_pos(O, q1*N.z)\n",
        "P1.set_pos(P, -w1*N.z)\n",
        "P2.set_pos(P, w1*N.z)"
      ],
      "metadata": {
        "id": "e0S9H5nHdxjC"
      },
      "execution_count": 162,
      "outputs": []
    },
    {
      "cell_type": "code",
      "source": [
        "X1.set_pos(P, -(d1 +q2)*N.y)"
      ],
      "metadata": {
        "id": "rY8hdIFPfDW_"
      },
      "execution_count": 163,
      "outputs": []
    },
    {
      "cell_type": "code",
      "source": [
        "X1a.set_pos(P, -(d1 + q2)*N.y)"
      ],
      "metadata": {
        "id": "jfwyQ1JwiTld"
      },
      "execution_count": 164,
      "outputs": []
    },
    {
      "cell_type": "code",
      "source": [
        "X2.set_pos(P, -(d1 + q2 + d2 + q3 + d3)*N.y)"
      ],
      "metadata": {
        "id": "BZonwhVMYuiJ"
      },
      "execution_count": 165,
      "outputs": []
    },
    {
      "cell_type": "code",
      "source": [
        "X2a.set_pos(P, -(d1 + q2 + d2 + q3 + d3)*N.y)"
      ],
      "metadata": {
        "id": "KrxuShB0ZcF4"
      },
      "execution_count": 166,
      "outputs": []
    },
    {
      "cell_type": "code",
      "source": [
        "X1.pos_from(O)"
      ],
      "metadata": {
        "colab": {
          "base_uri": "https://localhost:8080/",
          "height": 39
        },
        "id": "SeHdaYcefIG5",
        "outputId": "827ec20a-9bf5-430c-fdcd-c0eb31b63983"
      },
      "execution_count": 167,
      "outputs": [
        {
          "output_type": "execute_result",
          "data": {
            "text/plain": [
              "(-d1 - q2(t))*N.y + q1(t)*N.z"
            ],
            "text/latex": "$\\displaystyle (- d_{1} - q_{2}{\\left(t \\right)})\\mathbf{\\hat{n}_y} + q_{1}{\\left(t \\right)}\\mathbf{\\hat{n}_z}$"
          },
          "metadata": {},
          "execution_count": 167
        }
      ]
    },
    {
      "cell_type": "code",
      "source": [
        "alpha_x1, alpha_y1, alpha_z1 = dynamicsymbols('alpha_x1 alpha_y1 alpha_z1')\n",
        "beta_x1, beta_y1, beta_z1 = dynamicsymbols('beta_x1 beta_y1 beta_z1')\n",
        "gamma_x1, gamma_y1, gamma_z1 = dynamicsymbols('gamma_x1, gamma_y1, gamma_z1')\n",
        "eta_x1, eta_y1, eta_z1 = dynamicsymbols('eta_x1, eta_y1, eta_z1')"
      ],
      "metadata": {
        "id": "mlF5aI3adZFF"
      },
      "execution_count": 168,
      "outputs": []
    },
    {
      "cell_type": "code",
      "source": [
        "p1body = Body('p1body', masscenter=P1, frame=N)\n",
        "p2body = Body('p2body', masscenter=P2, frame=N)\n",
        "\n",
        "p1abody = Body('p1abody', masscenter=P1a, frame=N_a)\n",
        "p2abody = Body('p2abody', masscenter=P2a, frame=N_a)"
      ],
      "metadata": {
        "id": "eZYPa7ifcPG9"
      },
      "execution_count": 169,
      "outputs": []
    },
    {
      "cell_type": "code",
      "source": [
        "P1.pos_from(P2)"
      ],
      "metadata": {
        "colab": {
          "base_uri": "https://localhost:8080/",
          "height": 39
        },
        "id": "dBSRKqzEoj8X",
        "outputId": "57527a2e-725a-4196-fe0a-eab756ed4cff"
      },
      "execution_count": 170,
      "outputs": [
        {
          "output_type": "execute_result",
          "data": {
            "text/plain": [
              "- 2*w1*N.z"
            ],
            "text/latex": "$\\displaystyle -  2 w_{1}\\mathbf{\\hat{n}_z}$"
          },
          "metadata": {},
          "execution_count": 170
        }
      ]
    },
    {
      "cell_type": "code",
      "source": [
        "revp1 = SphericalJoint(name='p1p1a', parent=p1body, child=p1abody, parent_point=P1, child_point=P1a, amounts=[alpha_x1,0,0],\n",
        "                     rot_order='XYZ')\n",
        "revp2 = SphericalJoint(name='p2p2a', parent=p2body, child=p2abody, parent_point=P2, child_point=P2a, amounts=[alpha_x1,0,0],\n",
        "                     rot_order='XYZ')"
      ],
      "metadata": {
        "id": "phD1MzNbdKqi"
      },
      "execution_count": 171,
      "outputs": []
    },
    {
      "cell_type": "code",
      "source": [
        "P1a.pos_from(P2a)"
      ],
      "metadata": {
        "colab": {
          "base_uri": "https://localhost:8080/",
          "height": 39
        },
        "id": "Vv0ZN2TFiX8X",
        "outputId": "e5e82f30-2a06-432d-da48-8f16f9bb6848"
      },
      "execution_count": 172,
      "outputs": [
        {
          "output_type": "execute_result",
          "data": {
            "text/plain": [
              "- 2*w1*N.z"
            ],
            "text/latex": "$\\displaystyle -  2 w_{1}\\mathbf{\\hat{n}_z}$"
          },
          "metadata": {},
          "execution_count": 172
        }
      ]
    },
    {
      "cell_type": "code",
      "source": [
        "revp1, revp2"
      ],
      "metadata": {
        "colab": {
          "base_uri": "https://localhost:8080/"
        },
        "id": "fq4z6gVnep8j",
        "outputId": "058cd8de-cd87-45cf-c288-e278b8dee55e"
      },
      "execution_count": 173,
      "outputs": [
        {
          "output_type": "execute_result",
          "data": {
            "text/plain": [
              "(SphericalJoint: p1p1a  parent: p1body  child: p1abody,\n",
              " SphericalJoint: p2p2a  parent: p2body  child: p2abody)"
            ]
          },
          "metadata": {},
          "execution_count": 173
        }
      ]
    },
    {
      "cell_type": "code",
      "source": [
        "revp1.parent_interframe, revp1.child_interframe"
      ],
      "metadata": {
        "colab": {
          "base_uri": "https://localhost:8080/"
        },
        "id": "89s3lfRliZ2K",
        "outputId": "0fffa056-776e-4c8d-87d0-7c0efbaada6e"
      },
      "execution_count": 174,
      "outputs": [
        {
          "output_type": "execute_result",
          "data": {
            "text/plain": [
              "(N, N_a)"
            ]
          },
          "metadata": {},
          "execution_count": 174
        }
      ]
    },
    {
      "cell_type": "code",
      "source": [
        "revp1.child_interframe.dcm(revp1.parent_interframe)"
      ],
      "metadata": {
        "colab": {
          "base_uri": "https://localhost:8080/",
          "height": 78
        },
        "id": "Ida2cAeBecl_",
        "outputId": "ba8123e6-ca3a-4b8a-b74f-433d7282809b"
      },
      "execution_count": 175,
      "outputs": [
        {
          "output_type": "execute_result",
          "data": {
            "text/plain": [
              "Matrix([\n",
              "[1,                 0,                0],\n",
              "[0,  cos(alpha_x1(t)), sin(alpha_x1(t))],\n",
              "[0, -sin(alpha_x1(t)), cos(alpha_x1(t))]])"
            ],
            "text/latex": "$\\displaystyle \\left[\\begin{matrix}1 & 0 & 0\\\\0 & \\cos{\\left(\\alpha_{x1}{\\left(t \\right)} \\right)} & \\sin{\\left(\\alpha_{x1}{\\left(t \\right)} \\right)}\\\\0 & - \\sin{\\left(\\alpha_{x1}{\\left(t \\right)} \\right)} & \\cos{\\left(\\alpha_{x1}{\\left(t \\right)} \\right)}\\end{matrix}\\right]$"
          },
          "metadata": {},
          "execution_count": 175
        }
      ]
    },
    {
      "cell_type": "code",
      "source": [
        "# IB = inertia(N_a, ixx1, iyy1, izz1)\n",
        "# body1 = Body('body1', masscenter=X1, mass=M1, frame=N_a, central_inertia=IB)"
      ],
      "metadata": {
        "id": "hdctlBm5elUr"
      },
      "execution_count": 176,
      "outputs": []
    },
    {
      "cell_type": "code",
      "source": [
        "# B1.set_pos(X1, -w1*N_a.z + d1*N_a.y)\n",
        "# B2.set_pos(X1, w1*N_a.z + d1*N_a.y)"
      ],
      "metadata": {
        "id": "g2ZBZPbOeo4v"
      },
      "execution_count": 177,
      "outputs": []
    },
    {
      "cell_type": "code",
      "source": [
        "# B1.pos_from(P1).express(N).subs({alpha_x1:0}), B2.pos_from(P2).express(N).subs({alpha_x1:0})"
      ],
      "metadata": {
        "id": "TnXvr3LMgJ2Q"
      },
      "execution_count": 178,
      "outputs": []
    },
    {
      "cell_type": "code",
      "source": [
        "# B1.pos_from(X1)"
      ],
      "metadata": {
        "id": "RTH0x9sAg4-Z"
      },
      "execution_count": 179,
      "outputs": []
    },
    {
      "cell_type": "code",
      "source": [
        "B1.set_pos(X1, -w1*N_a.z + d1*N_a.y)\n",
        "B2.set_pos(X1, w1*N_a.z + d1*N_a.y)"
      ],
      "metadata": {
        "id": "-IzuhEjd6-NJ"
      },
      "execution_count": 180,
      "outputs": []
    },
    {
      "cell_type": "code",
      "source": [
        "b1body = Body('b1body', masscenter=X1, frame=N_a)\n",
        "b2body = Body('b2body', masscenter=X1, frame=N_a)"
      ],
      "metadata": {
        "id": "eMyAzSC-gLZI"
      },
      "execution_count": 181,
      "outputs": []
    },
    {
      "cell_type": "code",
      "source": [
        "B1.pos_from(B2)"
      ],
      "metadata": {
        "colab": {
          "base_uri": "https://localhost:8080/",
          "height": 39
        },
        "id": "tGoEKoDh70Ai",
        "outputId": "8af1cec6-d5fa-4dac-cf22-32e0e0a146b1"
      },
      "execution_count": 182,
      "outputs": [
        {
          "output_type": "execute_result",
          "data": {
            "text/plain": [
              "- 2*w1*N_a.z"
            ],
            "text/latex": "$\\displaystyle -  2 w_{1}\\mathbf{\\hat{n_a}_z}$"
          },
          "metadata": {},
          "execution_count": 182
        }
      ]
    },
    {
      "cell_type": "code",
      "source": [
        "#B1.set_pos(B2, -2*w1*N_a.z)\n",
        "#B1a.set_pos(B2a, -2*w1*N_b.z)"
      ],
      "metadata": {
        "id": "NNOJ4-ctor4q"
      },
      "execution_count": 183,
      "outputs": []
    },
    {
      "cell_type": "code",
      "source": [
        "revp1ab1 = PrismaticJoint('p1ab1', parent=p1abody, child=b1body, coordinates=q2, parent_point=P1a, child_point=B1,\n",
        "                      joint_axis=N_a.y, speeds=u1)\n",
        "revp2ab2 = PrismaticJoint('p2ab2', parent=p2abody, child=b2body, coordinates=q2, parent_point=P2a, child_point=B2,\n",
        "                      joint_axis=N_a.y, speeds=u1)"
      ],
      "metadata": {
        "id": "kk8V8x01hAov"
      },
      "execution_count": 184,
      "outputs": []
    },
    {
      "cell_type": "code",
      "source": [
        "N_a.orient_axis(N, alpha_x1, N.x) #else we get error with revp1.child_interframe.dcm(revp1.parent_interframe)"
      ],
      "metadata": {
        "id": "NdX9hKcz9FPs"
      },
      "execution_count": 185,
      "outputs": []
    },
    {
      "cell_type": "code",
      "source": [
        "N.dcm(N_a)"
      ],
      "metadata": {
        "colab": {
          "base_uri": "https://localhost:8080/",
          "height": 78
        },
        "id": "2UpytXc_9KND",
        "outputId": "e94674fa-1470-4965-e329-84f5f9a8b95e"
      },
      "execution_count": 186,
      "outputs": [
        {
          "output_type": "execute_result",
          "data": {
            "text/plain": [
              "Matrix([\n",
              "[1,                0,                 0],\n",
              "[0, cos(alpha_x1(t)), -sin(alpha_x1(t))],\n",
              "[0, sin(alpha_x1(t)),  cos(alpha_x1(t))]])"
            ],
            "text/latex": "$\\displaystyle \\left[\\begin{matrix}1 & 0 & 0\\\\0 & \\cos{\\left(\\alpha_{x1}{\\left(t \\right)} \\right)} & - \\sin{\\left(\\alpha_{x1}{\\left(t \\right)} \\right)}\\\\0 & \\sin{\\left(\\alpha_{x1}{\\left(t \\right)} \\right)} & \\cos{\\left(\\alpha_{x1}{\\left(t \\right)} \\right)}\\end{matrix}\\right]$"
          },
          "metadata": {},
          "execution_count": 186
        }
      ]
    },
    {
      "cell_type": "code",
      "source": [
        "revp1ab1.coordinates"
      ],
      "metadata": {
        "colab": {
          "base_uri": "https://localhost:8080/",
          "height": 39
        },
        "id": "KmQqNjt47Q4F",
        "outputId": "eaa05590-ccb2-4233-d4da-42bc03b28fbf"
      },
      "execution_count": 187,
      "outputs": [
        {
          "output_type": "execute_result",
          "data": {
            "text/plain": [
              "Matrix([[q2(t)]])"
            ],
            "text/latex": "$\\displaystyle \\left[\\begin{matrix}q_{2}{\\left(t \\right)}\\end{matrix}\\right]$"
          },
          "metadata": {},
          "execution_count": 187
        }
      ]
    },
    {
      "cell_type": "code",
      "source": [
        "B1.pos_from(P1a)"
      ],
      "metadata": {
        "colab": {
          "base_uri": "https://localhost:8080/",
          "height": 39
        },
        "id": "EYWN7O6X7_Ey",
        "outputId": "1850b0fc-273a-4ebc-97dc-08820f405cc5"
      },
      "execution_count": 188,
      "outputs": [
        {
          "output_type": "execute_result",
          "data": {
            "text/plain": [
              "q2(t)*N_a.y"
            ],
            "text/latex": "$\\displaystyle q_{2}{\\left(t \\right)}\\mathbf{\\hat{n_a}_y}$"
          },
          "metadata": {},
          "execution_count": 188
        }
      ]
    },
    {
      "cell_type": "code",
      "source": [
        "revp1ab1.child_interframe, revp1ab1.parent_interframe"
      ],
      "metadata": {
        "colab": {
          "base_uri": "https://localhost:8080/"
        },
        "id": "RregtOsu812D",
        "outputId": "c49192fb-eb34-4e24-c0cb-7553a5f7b296"
      },
      "execution_count": 189,
      "outputs": [
        {
          "output_type": "execute_result",
          "data": {
            "text/plain": [
              "(N_a, N_a)"
            ]
          },
          "metadata": {},
          "execution_count": 189
        }
      ]
    },
    {
      "cell_type": "code",
      "source": [
        "X1.pos_from(P1a).express(N_a)"
      ],
      "metadata": {
        "colab": {
          "base_uri": "https://localhost:8080/",
          "height": 39
        },
        "id": "ZifO8RQK9OhE",
        "outputId": "4a485f7d-96e5-4761-8c2d-f99f4ab03d8d"
      },
      "execution_count": 190,
      "outputs": [
        {
          "output_type": "execute_result",
          "data": {
            "text/plain": [
              "(-d1 + q2(t))*N_a.y + w1*N_a.z"
            ],
            "text/latex": "$\\displaystyle (- d_{1} + q_{2}{\\left(t \\right)})\\mathbf{\\hat{n_a}_y} + w_{1}\\mathbf{\\hat{n_a}_z}$"
          },
          "metadata": {},
          "execution_count": 190
        }
      ]
    },
    {
      "cell_type": "code",
      "source": [
        "N.dcm(N_a)"
      ],
      "metadata": {
        "colab": {
          "base_uri": "https://localhost:8080/",
          "height": 78
        },
        "id": "oLnraqWz9Xl9",
        "outputId": "2d86671e-28c7-4244-da37-2bb722437923"
      },
      "execution_count": 191,
      "outputs": [
        {
          "output_type": "execute_result",
          "data": {
            "text/plain": [
              "Matrix([\n",
              "[1,                0,                 0],\n",
              "[0, cos(alpha_x1(t)), -sin(alpha_x1(t))],\n",
              "[0, sin(alpha_x1(t)),  cos(alpha_x1(t))]])"
            ],
            "text/latex": "$\\displaystyle \\left[\\begin{matrix}1 & 0 & 0\\\\0 & \\cos{\\left(\\alpha_{x1}{\\left(t \\right)} \\right)} & - \\sin{\\left(\\alpha_{x1}{\\left(t \\right)} \\right)}\\\\0 & \\sin{\\left(\\alpha_{x1}{\\left(t \\right)} \\right)} & \\cos{\\left(\\alpha_{x1}{\\left(t \\right)} \\right)}\\end{matrix}\\right]$"
          },
          "metadata": {},
          "execution_count": 191
        }
      ]
    },
    {
      "cell_type": "code",
      "source": [
        "X1.pos_from(P1a).express(N) # N.dcm(N_a)*X1.pos_from(P1a).express(N_a)"
      ],
      "metadata": {
        "colab": {
          "base_uri": "https://localhost:8080/",
          "height": 39
        },
        "id": "7eKITr6N9ELt",
        "outputId": "0f55a298-49b1-48dc-8121-70f77e439fa7"
      },
      "execution_count": 192,
      "outputs": [
        {
          "output_type": "execute_result",
          "data": {
            "text/plain": [
              "(-w1*sin(alpha_x1(t)) + (-d1 + q2(t))*cos(alpha_x1(t)))*N.y + (w1*cos(alpha_x1(t)) + (-d1 + q2(t))*sin(alpha_x1(t)))*N.z"
            ],
            "text/latex": "$\\displaystyle (- w_{1} \\sin{\\left(\\alpha_{x1}{\\left(t \\right)} \\right)} + \\left(- d_{1} + q_{2}{\\left(t \\right)}\\right) \\cos{\\left(\\alpha_{x1}{\\left(t \\right)} \\right)})\\mathbf{\\hat{n}_y} + (w_{1} \\cos{\\left(\\alpha_{x1}{\\left(t \\right)} \\right)} + \\left(- d_{1} + q_{2}{\\left(t \\right)}\\right) \\sin{\\left(\\alpha_{x1}{\\left(t \\right)} \\right)})\\mathbf{\\hat{n}_z}$"
          },
          "metadata": {},
          "execution_count": 192
        }
      ]
    },
    {
      "cell_type": "code",
      "source": [
        "X1.pos_from(B1), X1.pos_from(B2)"
      ],
      "metadata": {
        "colab": {
          "base_uri": "https://localhost:8080/"
        },
        "id": "BkhwN34V-4Od",
        "outputId": "04baf1bb-80b8-44af-d011-b882ccfcaebe"
      },
      "execution_count": 193,
      "outputs": [
        {
          "output_type": "execute_result",
          "data": {
            "text/plain": [
              "(- d1*N_a.y + w1*N_a.z, - d1*N_a.y - w1*N_a.z)"
            ]
          },
          "metadata": {},
          "execution_count": 193
        }
      ]
    },
    {
      "cell_type": "code",
      "source": [
        "X1.pos_from(P1a) # this is +q2 because prismatic joint does not accept -q2 as a co-ordinate"
      ],
      "metadata": {
        "colab": {
          "base_uri": "https://localhost:8080/",
          "height": 39
        },
        "id": "UhGTEOZh_QNv",
        "outputId": "c2bbaaef-4d8d-4344-d8e4-449639b55fe7"
      },
      "execution_count": 194,
      "outputs": [
        {
          "output_type": "execute_result",
          "data": {
            "text/plain": [
              "(-d1 + q2(t))*N_a.y + w1*N_a.z"
            ],
            "text/latex": "$\\displaystyle (- d_{1} + q_{2}{\\left(t \\right)})\\mathbf{\\hat{n_a}_y} + w_{1}\\mathbf{\\hat{n_a}_z}$"
          },
          "metadata": {},
          "execution_count": 194
        }
      ]
    },
    {
      "cell_type": "code",
      "source": [
        "X1.pos_from(P1a).express(N)"
      ],
      "metadata": {
        "colab": {
          "base_uri": "https://localhost:8080/",
          "height": 39
        },
        "id": "YFUOCbEQkMEa",
        "outputId": "327528d5-c080-4e9f-df48-d7bd187c76f7"
      },
      "execution_count": 195,
      "outputs": [
        {
          "output_type": "execute_result",
          "data": {
            "text/plain": [
              "(-w1*sin(alpha_x1(t)) + (-d1 + q2(t))*cos(alpha_x1(t)))*N.y + (w1*cos(alpha_x1(t)) + (-d1 + q2(t))*sin(alpha_x1(t)))*N.z"
            ],
            "text/latex": "$\\displaystyle (- w_{1} \\sin{\\left(\\alpha_{x1}{\\left(t \\right)} \\right)} + \\left(- d_{1} + q_{2}{\\left(t \\right)}\\right) \\cos{\\left(\\alpha_{x1}{\\left(t \\right)} \\right)})\\mathbf{\\hat{n}_y} + (w_{1} \\cos{\\left(\\alpha_{x1}{\\left(t \\right)} \\right)} + \\left(- d_{1} + q_{2}{\\left(t \\right)}\\right) \\sin{\\left(\\alpha_{x1}{\\left(t \\right)} \\right)})\\mathbf{\\hat{n}_z}$"
          },
          "metadata": {},
          "execution_count": 195
        }
      ]
    },
    {
      "cell_type": "code",
      "source": [
        "X1.pos_from(P1)"
      ],
      "metadata": {
        "colab": {
          "base_uri": "https://localhost:8080/",
          "height": 39
        },
        "id": "3O56mrvggivZ",
        "outputId": "2f612816-0109-4111-e034-fd044f24ac4e"
      },
      "execution_count": 196,
      "outputs": [
        {
          "output_type": "execute_result",
          "data": {
            "text/plain": [
              "(-d1 - q2(t))*N.y + w1*N.z"
            ],
            "text/latex": "$\\displaystyle (- d_{1} - q_{2}{\\left(t \\right)})\\mathbf{\\hat{n}_y} + w_{1}\\mathbf{\\hat{n}_z}$"
          },
          "metadata": {},
          "execution_count": 196
        }
      ]
    },
    {
      "cell_type": "code",
      "source": [
        "X1.pos_from(P)"
      ],
      "metadata": {
        "colab": {
          "base_uri": "https://localhost:8080/",
          "height": 39
        },
        "id": "rHG-jQv3gD75",
        "outputId": "64f5db82-1e88-439b-ea3d-1046631003ea"
      },
      "execution_count": 197,
      "outputs": [
        {
          "output_type": "execute_result",
          "data": {
            "text/plain": [
              "(-d1 - q2(t))*N.y"
            ],
            "text/latex": "$\\displaystyle (- d_{1} - q_{2}{\\left(t \\right)})\\mathbf{\\hat{n}_y}$"
          },
          "metadata": {},
          "execution_count": 197
        }
      ]
    },
    {
      "cell_type": "code",
      "source": [
        "X1.pos_from(B1)"
      ],
      "metadata": {
        "colab": {
          "base_uri": "https://localhost:8080/",
          "height": 39
        },
        "id": "WIZRKF05g4KY",
        "outputId": "d966bf8b-24ca-42e1-fc18-6842818032e7"
      },
      "execution_count": 198,
      "outputs": [
        {
          "output_type": "execute_result",
          "data": {
            "text/plain": [
              "- d1*N_a.y + w1*N_a.z"
            ],
            "text/latex": "$\\displaystyle -  d_{1}\\mathbf{\\hat{n_a}_y} + w_{1}\\mathbf{\\hat{n_a}_z}$"
          },
          "metadata": {},
          "execution_count": 198
        }
      ]
    },
    {
      "cell_type": "code",
      "source": [
        "B1.pos_from(P1)"
      ],
      "metadata": {
        "colab": {
          "base_uri": "https://localhost:8080/",
          "height": 39
        },
        "id": "v9AxJvkhAEAB",
        "outputId": "e1c9fc70-f93d-4c46-dda6-950aa9625ede"
      },
      "execution_count": 199,
      "outputs": [
        {
          "output_type": "execute_result",
          "data": {
            "text/plain": [
              "q2(t)*N_a.y"
            ],
            "text/latex": "$\\displaystyle q_{2}{\\left(t \\right)}\\mathbf{\\hat{n_a}_y}$"
          },
          "metadata": {},
          "execution_count": 199
        }
      ]
    },
    {
      "cell_type": "code",
      "source": [
        "N_a.y.express(N)"
      ],
      "metadata": {
        "colab": {
          "base_uri": "https://localhost:8080/",
          "height": 39
        },
        "id": "fykIMSy1ZiKp",
        "outputId": "fde7d831-9d50-4941-b562-9d2c8c3bdb44"
      },
      "execution_count": 200,
      "outputs": [
        {
          "output_type": "execute_result",
          "data": {
            "text/plain": [
              "cos(alpha_x1(t))*N.y + sin(alpha_x1(t))*N.z"
            ],
            "text/latex": "$\\displaystyle \\cos{\\left(\\alpha_{x1}{\\left(t \\right)} \\right)}\\mathbf{\\hat{n}_y} + \\sin{\\left(\\alpha_{x1}{\\left(t \\right)} \\right)}\\mathbf{\\hat{n}_z}$"
          },
          "metadata": {},
          "execution_count": 200
        }
      ]
    },
    {
      "cell_type": "code",
      "source": [
        "revp1ab1.parent_interframe.dcm(revp1ab1.child_interframe)"
      ],
      "metadata": {
        "colab": {
          "base_uri": "https://localhost:8080/",
          "height": 78
        },
        "id": "GgqcFvLFiAWM",
        "outputId": "e2f3cf0f-f988-4d2f-d1df-343b4d048378"
      },
      "execution_count": 201,
      "outputs": [
        {
          "output_type": "execute_result",
          "data": {
            "text/plain": [
              "Matrix([\n",
              "[1, 0, 0],\n",
              "[0, 1, 0],\n",
              "[0, 0, 1]])"
            ],
            "text/latex": "$\\displaystyle \\left[\\begin{matrix}1 & 0 & 0\\\\0 & 1 & 0\\\\0 & 0 & 1\\end{matrix}\\right]$"
          },
          "metadata": {},
          "execution_count": 201
        }
      ]
    },
    {
      "cell_type": "code",
      "source": [
        "revp1ab1.parent_point, revp1ab1.child_point"
      ],
      "metadata": {
        "colab": {
          "base_uri": "https://localhost:8080/"
        },
        "id": "d1rPxldmjc-M",
        "outputId": "ef026121-8f5a-4207-ce16-1b5f0b808f90"
      },
      "execution_count": 202,
      "outputs": [
        {
          "output_type": "execute_result",
          "data": {
            "text/plain": [
              "(P1a, B1)"
            ]
          },
          "metadata": {},
          "execution_count": 202
        }
      ]
    },
    {
      "cell_type": "code",
      "source": [
        "revp1ab1.child_point.pos_from(revp1ab1.parent_point)"
      ],
      "metadata": {
        "colab": {
          "base_uri": "https://localhost:8080/",
          "height": 39
        },
        "id": "uZL4QTdriGBr",
        "outputId": "d3cd3ecf-7a9c-456c-ed5d-0aef31b46e9a"
      },
      "execution_count": 203,
      "outputs": [
        {
          "output_type": "execute_result",
          "data": {
            "text/plain": [
              "q2(t)*N_a.y"
            ],
            "text/latex": "$\\displaystyle q_{2}{\\left(t \\right)}\\mathbf{\\hat{n_a}_y}$"
          },
          "metadata": {},
          "execution_count": 203
        }
      ]
    },
    {
      "cell_type": "code",
      "source": [
        "revp1ab1.child_point.pos_from(P1).express(N), revp1ab1.child_point.pos_from(P1).express(N_a)"
      ],
      "metadata": {
        "colab": {
          "base_uri": "https://localhost:8080/"
        },
        "id": "Bz0CAT7KiJE6",
        "outputId": "a2055125-6438-425f-ec64-97c084c3bf60"
      },
      "execution_count": 204,
      "outputs": [
        {
          "output_type": "execute_result",
          "data": {
            "text/plain": [
              "(q2(t)*cos(alpha_x1(t))*N.y + q2(t)*sin(alpha_x1(t))*N.z, q2(t)*N_a.y)"
            ]
          },
          "metadata": {},
          "execution_count": 204
        }
      ]
    },
    {
      "cell_type": "code",
      "source": [
        "B1.pos_from(B2)"
      ],
      "metadata": {
        "colab": {
          "base_uri": "https://localhost:8080/",
          "height": 39
        },
        "id": "H6J-etk8o9sc",
        "outputId": "f2cb0d15-b019-4dfc-c21f-d33a214d4078"
      },
      "execution_count": 205,
      "outputs": [
        {
          "output_type": "execute_result",
          "data": {
            "text/plain": [
              "- 2*w1*N_a.z"
            ],
            "text/latex": "$\\displaystyle -  2 w_{1}\\mathbf{\\hat{n_a}_z}$"
          },
          "metadata": {},
          "execution_count": 205
        }
      ]
    },
    {
      "cell_type": "code",
      "source": [
        "IB = inertia(N_b, ixx1, iyy1, izz1)\n",
        "body1 = Body('body1', masscenter=X1a, mass=M1, frame=N_b, central_inertia=IB)"
      ],
      "metadata": {
        "id": "beFbzv8khsX-"
      },
      "execution_count": 206,
      "outputs": []
    },
    {
      "cell_type": "code",
      "source": [
        "b1abody = Body('b1abody', masscenter=B1a, frame=N_b)\n",
        "b2abody = Body('b2abody', masscenter=B2a, frame=N_b)"
      ],
      "metadata": {
        "id": "yV3dCJOvhskO"
      },
      "execution_count": 207,
      "outputs": []
    },
    {
      "cell_type": "code",
      "source": [
        "B1a.set_pos(X1a, -w1*N_b.z + d1*N_b.y)\n",
        "B2a.set_pos(X1a, w1*N_b.z + d1*N_b.y)"
      ],
      "metadata": {
        "id": "ej3cP06WiIg9"
      },
      "execution_count": 208,
      "outputs": []
    },
    {
      "cell_type": "code",
      "source": [
        "B1a.pos_from(B1)"
      ],
      "metadata": {
        "colab": {
          "base_uri": "https://localhost:8080/",
          "height": 39
        },
        "id": "fIUEmCkThxqF",
        "outputId": "0013cd5a-43db-4175-b26b-fdd98c0e59a2"
      },
      "execution_count": 209,
      "outputs": [
        {
          "output_type": "execute_result",
          "data": {
            "text/plain": [
              "- d1*N_a.y + w1*N_a.z + d1*N_b.y - w1*N_b.z"
            ],
            "text/latex": "$\\displaystyle d_{1}\\mathbf{\\hat{n_b}_y} -  w_{1}\\mathbf{\\hat{n_b}_z} -  d_{1}\\mathbf{\\hat{n_a}_y} + w_{1}\\mathbf{\\hat{n_a}_z}$"
          },
          "metadata": {},
          "execution_count": 209
        }
      ]
    },
    {
      "cell_type": "code",
      "source": [
        "revb1b1a = SphericalJoint(name='b1b1a', parent=b1body, child=b1abody, parent_point=B1, child_point=B1a, amounts=[beta_x1,0,0],\n",
        "                     rot_order='XYZ')\n",
        "revb2b2a = SphericalJoint(name='b2b2a', parent=b2body, child=b2abody, parent_point=B2, child_point=B2a, amounts=[beta_x1,0,0],\n",
        "                     rot_order='XYZ')"
      ],
      "metadata": {
        "id": "gDo05ypIiqvo"
      },
      "execution_count": 210,
      "outputs": []
    },
    {
      "cell_type": "code",
      "source": [
        "B1a.pos_from(B1)"
      ],
      "metadata": {
        "colab": {
          "base_uri": "https://localhost:8080/",
          "height": 37
        },
        "id": "rkPQNYTph6pf",
        "outputId": "cd7e9553-fd61-402e-bc75-f082fbedd357"
      },
      "execution_count": 211,
      "outputs": [
        {
          "output_type": "execute_result",
          "data": {
            "text/plain": [
              "0"
            ],
            "text/latex": "$\\displaystyle 0$"
          },
          "metadata": {},
          "execution_count": 211
        }
      ]
    },
    {
      "cell_type": "code",
      "source": [
        "B1a.pos_from(B2a).express(N_a), B1a.pos_from(B2a).express(N_b)"
      ],
      "metadata": {
        "colab": {
          "base_uri": "https://localhost:8080/"
        },
        "id": "aP1ck-sXpI0J",
        "outputId": "5c35574c-189b-4dd4-e3d0-43876660e118"
      },
      "execution_count": 212,
      "outputs": [
        {
          "output_type": "execute_result",
          "data": {
            "text/plain": [
              "(2*w1*sin(beta_x1(t))*N_a.y - 2*w1*cos(beta_x1(t))*N_a.z, - 2*w1*N_b.z)"
            ]
          },
          "metadata": {},
          "execution_count": 212
        }
      ]
    },
    {
      "cell_type": "code",
      "source": [
        "X1.pos_from(B1)"
      ],
      "metadata": {
        "colab": {
          "base_uri": "https://localhost:8080/",
          "height": 39
        },
        "id": "qlDvQqq-i0bf",
        "outputId": "4bcac17f-c0a0-4574-eeb5-9bd13e2b0c97"
      },
      "execution_count": 213,
      "outputs": [
        {
          "output_type": "execute_result",
          "data": {
            "text/plain": [
              "- d1*N_a.y + w1*N_a.z"
            ],
            "text/latex": "$\\displaystyle -  d_{1}\\mathbf{\\hat{n_a}_y} + w_{1}\\mathbf{\\hat{n_a}_z}$"
          },
          "metadata": {},
          "execution_count": 213
        }
      ]
    },
    {
      "cell_type": "code",
      "source": [
        "X1a.pos_from(B1).express(N_a)"
      ],
      "metadata": {
        "colab": {
          "base_uri": "https://localhost:8080/",
          "height": 39
        },
        "id": "cBqLFBTOiA3F",
        "outputId": "e8792316-d0b7-4aa7-b00a-67de9fc5aca8"
      },
      "execution_count": 214,
      "outputs": [
        {
          "output_type": "execute_result",
          "data": {
            "text/plain": [
              "(-d1*cos(beta_x1(t)) - w1*sin(beta_x1(t)))*N_a.y + (-d1*sin(beta_x1(t)) + w1*cos(beta_x1(t)))*N_a.z"
            ],
            "text/latex": "$\\displaystyle (- d_{1} \\cos{\\left(\\beta_{x1}{\\left(t \\right)} \\right)} - w_{1} \\sin{\\left(\\beta_{x1}{\\left(t \\right)} \\right)})\\mathbf{\\hat{n_a}_y} + (- d_{1} \\sin{\\left(\\beta_{x1}{\\left(t \\right)} \\right)} + w_{1} \\cos{\\left(\\beta_{x1}{\\left(t \\right)} \\right)})\\mathbf{\\hat{n_a}_z}$"
          },
          "metadata": {},
          "execution_count": 214
        }
      ]
    },
    {
      "cell_type": "code",
      "source": [
        "X1a.pos_from(B1)"
      ],
      "metadata": {
        "colab": {
          "base_uri": "https://localhost:8080/",
          "height": 39
        },
        "id": "Tsb_T1Ugm3rP",
        "outputId": "bdcaf932-bee9-4dbf-de98-69caf992a5db"
      },
      "execution_count": 215,
      "outputs": [
        {
          "output_type": "execute_result",
          "data": {
            "text/plain": [
              "- d1*N_b.y + w1*N_b.z"
            ],
            "text/latex": "$\\displaystyle -  d_{1}\\mathbf{\\hat{n_b}_y} + w_{1}\\mathbf{\\hat{n_b}_z}$"
          },
          "metadata": {},
          "execution_count": 215
        }
      ]
    },
    {
      "cell_type": "code",
      "source": [
        "N.dcm(N_b)"
      ],
      "metadata": {
        "colab": {
          "base_uri": "https://localhost:8080/",
          "height": 78
        },
        "id": "0K-cA7jymsc5",
        "outputId": "3072dd11-f802-45a0-ef31-28f156d81f2c"
      },
      "execution_count": 216,
      "outputs": [
        {
          "output_type": "execute_result",
          "data": {
            "text/plain": [
              "Matrix([\n",
              "[1,                                                                    0,                                                                    0],\n",
              "[0, -sin(alpha_x1(t))*sin(beta_x1(t)) + cos(alpha_x1(t))*cos(beta_x1(t)), -sin(alpha_x1(t))*cos(beta_x1(t)) - sin(beta_x1(t))*cos(alpha_x1(t))],\n",
              "[0,  sin(alpha_x1(t))*cos(beta_x1(t)) + sin(beta_x1(t))*cos(alpha_x1(t)), -sin(alpha_x1(t))*sin(beta_x1(t)) + cos(alpha_x1(t))*cos(beta_x1(t))]])"
            ],
            "text/latex": "$\\displaystyle \\left[\\begin{matrix}1 & 0 & 0\\\\0 & - \\sin{\\left(\\alpha_{x1}{\\left(t \\right)} \\right)} \\sin{\\left(\\beta_{x1}{\\left(t \\right)} \\right)} + \\cos{\\left(\\alpha_{x1}{\\left(t \\right)} \\right)} \\cos{\\left(\\beta_{x1}{\\left(t \\right)} \\right)} & - \\sin{\\left(\\alpha_{x1}{\\left(t \\right)} \\right)} \\cos{\\left(\\beta_{x1}{\\left(t \\right)} \\right)} - \\sin{\\left(\\beta_{x1}{\\left(t \\right)} \\right)} \\cos{\\left(\\alpha_{x1}{\\left(t \\right)} \\right)}\\\\0 & \\sin{\\left(\\alpha_{x1}{\\left(t \\right)} \\right)} \\cos{\\left(\\beta_{x1}{\\left(t \\right)} \\right)} + \\sin{\\left(\\beta_{x1}{\\left(t \\right)} \\right)} \\cos{\\left(\\alpha_{x1}{\\left(t \\right)} \\right)} & - \\sin{\\left(\\alpha_{x1}{\\left(t \\right)} \\right)} \\sin{\\left(\\beta_{x1}{\\left(t \\right)} \\right)} + \\cos{\\left(\\alpha_{x1}{\\left(t \\right)} \\right)} \\cos{\\left(\\beta_{x1}{\\left(t \\right)} \\right)}\\end{matrix}\\right]$"
          },
          "metadata": {},
          "execution_count": 216
        }
      ]
    },
    {
      "cell_type": "code",
      "source": [
        "X1a.pos_from(B1).express(N) # N.dcm(N_b)*X1a.pos_from(B1)"
      ],
      "metadata": {
        "colab": {
          "base_uri": "https://localhost:8080/",
          "height": 61
        },
        "id": "a5VRlvvknHD7",
        "outputId": "0fc28e46-c7b6-4e05-e1d7-cf7a4fdbfad1"
      },
      "execution_count": 217,
      "outputs": [
        {
          "output_type": "execute_result",
          "data": {
            "text/plain": [
              "(-d1*(-sin(alpha_x1(t))*sin(beta_x1(t)) + cos(alpha_x1(t))*cos(beta_x1(t))) + w1*(-sin(alpha_x1(t))*cos(beta_x1(t)) - sin(beta_x1(t))*cos(alpha_x1(t))))*N.y + (-d1*(sin(alpha_x1(t))*cos(beta_x1(t)) + sin(beta_x1(t))*cos(alpha_x1(t))) + w1*(-sin(alpha_x1(t))*sin(beta_x1(t)) + cos(alpha_x1(t))*cos(beta_x1(t))))*N.z"
            ],
            "text/latex": "$\\displaystyle (- d_{1} \\left(- \\sin{\\left(\\alpha_{x1}{\\left(t \\right)} \\right)} \\sin{\\left(\\beta_{x1}{\\left(t \\right)} \\right)} + \\cos{\\left(\\alpha_{x1}{\\left(t \\right)} \\right)} \\cos{\\left(\\beta_{x1}{\\left(t \\right)} \\right)}\\right) + w_{1} \\left(- \\sin{\\left(\\alpha_{x1}{\\left(t \\right)} \\right)} \\cos{\\left(\\beta_{x1}{\\left(t \\right)} \\right)} - \\sin{\\left(\\beta_{x1}{\\left(t \\right)} \\right)} \\cos{\\left(\\alpha_{x1}{\\left(t \\right)} \\right)}\\right))\\mathbf{\\hat{n}_y} + (- d_{1} \\left(\\sin{\\left(\\alpha_{x1}{\\left(t \\right)} \\right)} \\cos{\\left(\\beta_{x1}{\\left(t \\right)} \\right)} + \\sin{\\left(\\beta_{x1}{\\left(t \\right)} \\right)} \\cos{\\left(\\alpha_{x1}{\\left(t \\right)} \\right)}\\right) + w_{1} \\left(- \\sin{\\left(\\alpha_{x1}{\\left(t \\right)} \\right)} \\sin{\\left(\\beta_{x1}{\\left(t \\right)} \\right)} + \\cos{\\left(\\alpha_{x1}{\\left(t \\right)} \\right)} \\cos{\\left(\\beta_{x1}{\\left(t \\right)} \\right)}\\right))\\mathbf{\\hat{n}_z}$"
          },
          "metadata": {},
          "execution_count": 217
        }
      ]
    },
    {
      "cell_type": "code",
      "source": [
        "X1a.pos_from(B1a)"
      ],
      "metadata": {
        "colab": {
          "base_uri": "https://localhost:8080/",
          "height": 39
        },
        "id": "Q_3uKF9Ci33f",
        "outputId": "dd3f4aa2-938c-45c3-e752-d08e21187afd"
      },
      "execution_count": 218,
      "outputs": [
        {
          "output_type": "execute_result",
          "data": {
            "text/plain": [
              "- d1*N_b.y + w1*N_b.z"
            ],
            "text/latex": "$\\displaystyle -  d_{1}\\mathbf{\\hat{n_b}_y} + w_{1}\\mathbf{\\hat{n_b}_z}$"
          },
          "metadata": {},
          "execution_count": 218
        }
      ]
    },
    {
      "cell_type": "code",
      "source": [
        "N_b.dcm(N)"
      ],
      "metadata": {
        "colab": {
          "base_uri": "https://localhost:8080/",
          "height": 78
        },
        "id": "B_ye3J4MqrRZ",
        "outputId": "1e2a8cbb-87a0-4ec7-fca1-9e9bf5ff9cc0"
      },
      "execution_count": 219,
      "outputs": [
        {
          "output_type": "execute_result",
          "data": {
            "text/plain": [
              "Matrix([\n",
              "[1,                                                                    0,                                                                    0],\n",
              "[0, -sin(alpha_x1(t))*sin(beta_x1(t)) + cos(alpha_x1(t))*cos(beta_x1(t)),  sin(alpha_x1(t))*cos(beta_x1(t)) + sin(beta_x1(t))*cos(alpha_x1(t))],\n",
              "[0, -sin(alpha_x1(t))*cos(beta_x1(t)) - sin(beta_x1(t))*cos(alpha_x1(t)), -sin(alpha_x1(t))*sin(beta_x1(t)) + cos(alpha_x1(t))*cos(beta_x1(t))]])"
            ],
            "text/latex": "$\\displaystyle \\left[\\begin{matrix}1 & 0 & 0\\\\0 & - \\sin{\\left(\\alpha_{x1}{\\left(t \\right)} \\right)} \\sin{\\left(\\beta_{x1}{\\left(t \\right)} \\right)} + \\cos{\\left(\\alpha_{x1}{\\left(t \\right)} \\right)} \\cos{\\left(\\beta_{x1}{\\left(t \\right)} \\right)} & \\sin{\\left(\\alpha_{x1}{\\left(t \\right)} \\right)} \\cos{\\left(\\beta_{x1}{\\left(t \\right)} \\right)} + \\sin{\\left(\\beta_{x1}{\\left(t \\right)} \\right)} \\cos{\\left(\\alpha_{x1}{\\left(t \\right)} \\right)}\\\\0 & - \\sin{\\left(\\alpha_{x1}{\\left(t \\right)} \\right)} \\cos{\\left(\\beta_{x1}{\\left(t \\right)} \\right)} - \\sin{\\left(\\beta_{x1}{\\left(t \\right)} \\right)} \\cos{\\left(\\alpha_{x1}{\\left(t \\right)} \\right)} & - \\sin{\\left(\\alpha_{x1}{\\left(t \\right)} \\right)} \\sin{\\left(\\beta_{x1}{\\left(t \\right)} \\right)} + \\cos{\\left(\\alpha_{x1}{\\left(t \\right)} \\right)} \\cos{\\left(\\beta_{x1}{\\left(t \\right)} \\right)}\\end{matrix}\\right]$"
          },
          "metadata": {},
          "execution_count": 219
        }
      ]
    },
    {
      "cell_type": "code",
      "source": [
        "X1a.pos_from(P).express(N_b) # N_b.dcm(N)*X1a.pos_from(P)"
      ],
      "metadata": {
        "colab": {
          "base_uri": "https://localhost:8080/",
          "height": 61
        },
        "id": "kbz66FxGpvOJ",
        "outputId": "667c7b5e-0a47-42e9-cad2-5b0be57ba408"
      },
      "execution_count": 220,
      "outputs": [
        {
          "output_type": "execute_result",
          "data": {
            "text/plain": [
              "(-d1 - q2(t))*(-sin(alpha_x1(t))*sin(beta_x1(t)) + cos(alpha_x1(t))*cos(beta_x1(t)))*N_b.y + (-d1 - q2(t))*(-sin(alpha_x1(t))*cos(beta_x1(t)) - sin(beta_x1(t))*cos(alpha_x1(t)))*N_b.z"
            ],
            "text/latex": "$\\displaystyle \\left(- d_{1} - q_{2}{\\left(t \\right)}\\right) \\left(- \\sin{\\left(\\alpha_{x1}{\\left(t \\right)} \\right)} \\sin{\\left(\\beta_{x1}{\\left(t \\right)} \\right)} + \\cos{\\left(\\alpha_{x1}{\\left(t \\right)} \\right)} \\cos{\\left(\\beta_{x1}{\\left(t \\right)} \\right)}\\right)\\mathbf{\\hat{n_b}_y} + \\left(- d_{1} - q_{2}{\\left(t \\right)}\\right) \\left(- \\sin{\\left(\\alpha_{x1}{\\left(t \\right)} \\right)} \\cos{\\left(\\beta_{x1}{\\left(t \\right)} \\right)} - \\sin{\\left(\\beta_{x1}{\\left(t \\right)} \\right)} \\cos{\\left(\\alpha_{x1}{\\left(t \\right)} \\right)}\\right)\\mathbf{\\hat{n_b}_z}$"
          },
          "metadata": {},
          "execution_count": 220
        }
      ]
    },
    {
      "cell_type": "code",
      "source": [
        "\n",
        "N_b.dcm(N)*Matrix([0, (-d1 -q2), 0])"
      ],
      "metadata": {
        "colab": {
          "base_uri": "https://localhost:8080/",
          "height": 78
        },
        "id": "DayIKR9Wriqv",
        "outputId": "9dd711f9-f735-4961-9082-7998a8c78f74"
      },
      "execution_count": 221,
      "outputs": [
        {
          "output_type": "execute_result",
          "data": {
            "text/plain": [
              "Matrix([\n",
              "[                                                                                   0],\n",
              "[(-d1 - q2(t))*(-sin(alpha_x1(t))*sin(beta_x1(t)) + cos(alpha_x1(t))*cos(beta_x1(t)))],\n",
              "[(-d1 - q2(t))*(-sin(alpha_x1(t))*cos(beta_x1(t)) - sin(beta_x1(t))*cos(alpha_x1(t)))]])"
            ],
            "text/latex": "$\\displaystyle \\left[\\begin{matrix}0\\\\\\left(- d_{1} - q_{2}{\\left(t \\right)}\\right) \\left(- \\sin{\\left(\\alpha_{x1}{\\left(t \\right)} \\right)} \\sin{\\left(\\beta_{x1}{\\left(t \\right)} \\right)} + \\cos{\\left(\\alpha_{x1}{\\left(t \\right)} \\right)} \\cos{\\left(\\beta_{x1}{\\left(t \\right)} \\right)}\\right)\\\\\\left(- d_{1} - q_{2}{\\left(t \\right)}\\right) \\left(- \\sin{\\left(\\alpha_{x1}{\\left(t \\right)} \\right)} \\cos{\\left(\\beta_{x1}{\\left(t \\right)} \\right)} - \\sin{\\left(\\beta_{x1}{\\left(t \\right)} \\right)} \\cos{\\left(\\alpha_{x1}{\\left(t \\right)} \\right)}\\right)\\end{matrix}\\right]$"
          },
          "metadata": {},
          "execution_count": 221
        }
      ]
    },
    {
      "cell_type": "code",
      "source": [
        "X1a.pos_from(P).express(N_a) # N_a.dcm(N)*X1a.pos_from(P)"
      ],
      "metadata": {
        "colab": {
          "base_uri": "https://localhost:8080/",
          "height": 39
        },
        "id": "lnqBylAUrB-J",
        "outputId": "ffa4bbfd-76a6-41c5-c4e7-7dbb40196036"
      },
      "execution_count": 222,
      "outputs": [
        {
          "output_type": "execute_result",
          "data": {
            "text/plain": [
              "(-d1 - q2(t))*cos(alpha_x1(t))*N_a.y - (-d1 - q2(t))*sin(alpha_x1(t))*N_a.z"
            ],
            "text/latex": "$\\displaystyle \\left(- d_{1} - q_{2}{\\left(t \\right)}\\right) \\cos{\\left(\\alpha_{x1}{\\left(t \\right)} \\right)}\\mathbf{\\hat{n_a}_y} -  \\left(- d_{1} - q_{2}{\\left(t \\right)}\\right) \\sin{\\left(\\alpha_{x1}{\\left(t \\right)} \\right)}\\mathbf{\\hat{n_a}_z}$"
          },
          "metadata": {},
          "execution_count": 222
        }
      ]
    },
    {
      "cell_type": "code",
      "source": [
        "N_a.dcm(N)*Matrix([0, (-d1 -q2), 0])"
      ],
      "metadata": {
        "colab": {
          "base_uri": "https://localhost:8080/",
          "height": 78
        },
        "id": "qOwZsRWcrU8g",
        "outputId": "0d6bc7b9-0c14-4254-c83a-250e3ffdc3f7"
      },
      "execution_count": 223,
      "outputs": [
        {
          "output_type": "execute_result",
          "data": {
            "text/plain": [
              "Matrix([\n",
              "[                              0],\n",
              "[ (-d1 - q2(t))*cos(alpha_x1(t))],\n",
              "[-(-d1 - q2(t))*sin(alpha_x1(t))]])"
            ],
            "text/latex": "$\\displaystyle \\left[\\begin{matrix}0\\\\\\left(- d_{1} - q_{2}{\\left(t \\right)}\\right) \\cos{\\left(\\alpha_{x1}{\\left(t \\right)} \\right)}\\\\- \\left(- d_{1} - q_{2}{\\left(t \\right)}\\right) \\sin{\\left(\\alpha_{x1}{\\left(t \\right)} \\right)}\\end{matrix}\\right]$"
          },
          "metadata": {},
          "execution_count": 223
        }
      ]
    },
    {
      "cell_type": "code",
      "source": [
        "P1a.pos_from(B1a).express(N_b)"
      ],
      "metadata": {
        "colab": {
          "base_uri": "https://localhost:8080/",
          "height": 39
        },
        "id": "9kO7CzHQrmZu",
        "outputId": "32890033-7e12-4728-9f95-2accc15628e7"
      },
      "execution_count": 224,
      "outputs": [
        {
          "output_type": "execute_result",
          "data": {
            "text/plain": [
              "- q2(t)*cos(beta_x1(t))*N_b.y + q2(t)*sin(beta_x1(t))*N_b.z"
            ],
            "text/latex": "$\\displaystyle -  q_{2}{\\left(t \\right)} \\cos{\\left(\\beta_{x1}{\\left(t \\right)} \\right)}\\mathbf{\\hat{n_b}_y} + q_{2}{\\left(t \\right)} \\sin{\\left(\\beta_{x1}{\\left(t \\right)} \\right)}\\mathbf{\\hat{n_b}_z}$"
          },
          "metadata": {},
          "execution_count": 224
        }
      ]
    },
    {
      "cell_type": "code",
      "source": [
        "revb1b1a.parent_interframe, revb1b1a.child_interframe"
      ],
      "metadata": {
        "colab": {
          "base_uri": "https://localhost:8080/"
        },
        "id": "fg3Xix5Fj0R0",
        "outputId": "e6f5514d-e70f-4500-d2ec-8b0e32d15dae"
      },
      "execution_count": 225,
      "outputs": [
        {
          "output_type": "execute_result",
          "data": {
            "text/plain": [
              "(N_a, N_b)"
            ]
          },
          "metadata": {},
          "execution_count": 225
        }
      ]
    },
    {
      "cell_type": "code",
      "source": [
        "N_a.dcm(N_b)"
      ],
      "metadata": {
        "colab": {
          "base_uri": "https://localhost:8080/",
          "height": 78
        },
        "id": "A1iM4T5ppxSU",
        "outputId": "cc2c0d76-f223-4bcd-92cd-049b97d8daa9"
      },
      "execution_count": 226,
      "outputs": [
        {
          "output_type": "execute_result",
          "data": {
            "text/plain": [
              "Matrix([\n",
              "[1,               0,                0],\n",
              "[0, cos(beta_x1(t)), -sin(beta_x1(t))],\n",
              "[0, sin(beta_x1(t)),  cos(beta_x1(t))]])"
            ],
            "text/latex": "$\\displaystyle \\left[\\begin{matrix}1 & 0 & 0\\\\0 & \\cos{\\left(\\beta_{x1}{\\left(t \\right)} \\right)} & - \\sin{\\left(\\beta_{x1}{\\left(t \\right)} \\right)}\\\\0 & \\sin{\\left(\\beta_{x1}{\\left(t \\right)} \\right)} & \\cos{\\left(\\beta_{x1}{\\left(t \\right)} \\right)}\\end{matrix}\\right]$"
          },
          "metadata": {},
          "execution_count": 226
        }
      ]
    },
    {
      "cell_type": "code",
      "source": [
        "revb1b1a.parent_interframe.dcm(revb1b1a.child_interframe)"
      ],
      "metadata": {
        "colab": {
          "base_uri": "https://localhost:8080/",
          "height": 78
        },
        "id": "qgH1vDaUjIq1",
        "outputId": "8557d4fb-497f-4a76-c717-e1444e82a7fb"
      },
      "execution_count": 227,
      "outputs": [
        {
          "output_type": "execute_result",
          "data": {
            "text/plain": [
              "Matrix([\n",
              "[1,               0,                0],\n",
              "[0, cos(beta_x1(t)), -sin(beta_x1(t))],\n",
              "[0, sin(beta_x1(t)),  cos(beta_x1(t))]])"
            ],
            "text/latex": "$\\displaystyle \\left[\\begin{matrix}1 & 0 & 0\\\\0 & \\cos{\\left(\\beta_{x1}{\\left(t \\right)} \\right)} & - \\sin{\\left(\\beta_{x1}{\\left(t \\right)} \\right)}\\\\0 & \\sin{\\left(\\beta_{x1}{\\left(t \\right)} \\right)} & \\cos{\\left(\\beta_{x1}{\\left(t \\right)} \\right)}\\end{matrix}\\right]$"
          },
          "metadata": {},
          "execution_count": 227
        }
      ]
    },
    {
      "cell_type": "code",
      "source": [
        "N_b.dcm(N)"
      ],
      "metadata": {
        "colab": {
          "base_uri": "https://localhost:8080/",
          "height": 78
        },
        "id": "Zh1vu78Hj8hc",
        "outputId": "15c9884b-17f4-4d71-cf3c-06649d36a406"
      },
      "execution_count": 228,
      "outputs": [
        {
          "output_type": "execute_result",
          "data": {
            "text/plain": [
              "Matrix([\n",
              "[1,                                                                    0,                                                                    0],\n",
              "[0, -sin(alpha_x1(t))*sin(beta_x1(t)) + cos(alpha_x1(t))*cos(beta_x1(t)),  sin(alpha_x1(t))*cos(beta_x1(t)) + sin(beta_x1(t))*cos(alpha_x1(t))],\n",
              "[0, -sin(alpha_x1(t))*cos(beta_x1(t)) - sin(beta_x1(t))*cos(alpha_x1(t)), -sin(alpha_x1(t))*sin(beta_x1(t)) + cos(alpha_x1(t))*cos(beta_x1(t))]])"
            ],
            "text/latex": "$\\displaystyle \\left[\\begin{matrix}1 & 0 & 0\\\\0 & - \\sin{\\left(\\alpha_{x1}{\\left(t \\right)} \\right)} \\sin{\\left(\\beta_{x1}{\\left(t \\right)} \\right)} + \\cos{\\left(\\alpha_{x1}{\\left(t \\right)} \\right)} \\cos{\\left(\\beta_{x1}{\\left(t \\right)} \\right)} & \\sin{\\left(\\alpha_{x1}{\\left(t \\right)} \\right)} \\cos{\\left(\\beta_{x1}{\\left(t \\right)} \\right)} + \\sin{\\left(\\beta_{x1}{\\left(t \\right)} \\right)} \\cos{\\left(\\alpha_{x1}{\\left(t \\right)} \\right)}\\\\0 & - \\sin{\\left(\\alpha_{x1}{\\left(t \\right)} \\right)} \\cos{\\left(\\beta_{x1}{\\left(t \\right)} \\right)} - \\sin{\\left(\\beta_{x1}{\\left(t \\right)} \\right)} \\cos{\\left(\\alpha_{x1}{\\left(t \\right)} \\right)} & - \\sin{\\left(\\alpha_{x1}{\\left(t \\right)} \\right)} \\sin{\\left(\\beta_{x1}{\\left(t \\right)} \\right)} + \\cos{\\left(\\alpha_{x1}{\\left(t \\right)} \\right)} \\cos{\\left(\\beta_{x1}{\\left(t \\right)} \\right)}\\end{matrix}\\right]$"
          },
          "metadata": {},
          "execution_count": 228
        }
      ]
    },
    {
      "cell_type": "code",
      "source": [
        "revb1b1a.parent_point, revb1b1a.child_point"
      ],
      "metadata": {
        "colab": {
          "base_uri": "https://localhost:8080/"
        },
        "id": "bRHBJsROjZ0F",
        "outputId": "d472aafa-9504-4366-f549-707efd609593"
      },
      "execution_count": 229,
      "outputs": [
        {
          "output_type": "execute_result",
          "data": {
            "text/plain": [
              "(B1, B1a)"
            ]
          },
          "metadata": {},
          "execution_count": 229
        }
      ]
    },
    {
      "cell_type": "code",
      "source": [
        "revb1b1a.child_point.pos_from(P1a)"
      ],
      "metadata": {
        "colab": {
          "base_uri": "https://localhost:8080/",
          "height": 39
        },
        "id": "KPiQ4rnVjMdG",
        "outputId": "ec966937-0aae-488c-e0ad-e017029c9ad5"
      },
      "execution_count": 230,
      "outputs": [
        {
          "output_type": "execute_result",
          "data": {
            "text/plain": [
              "q2(t)*N_a.y"
            ],
            "text/latex": "$\\displaystyle q_{2}{\\left(t \\right)}\\mathbf{\\hat{n_a}_y}$"
          },
          "metadata": {},
          "execution_count": 230
        }
      ]
    },
    {
      "cell_type": "code",
      "source": [
        "#revb1b1a.child_point.pos_from(P1).express(N), revb1b1a.child_point.pos_from(P1).express(N_a) #since B1 and B1a are on top of each other"
      ],
      "metadata": {
        "id": "uDzhlvqVjRVW"
      },
      "execution_count": 231,
      "outputs": []
    },
    {
      "cell_type": "code",
      "source": [
        "# IB = inertia(N_a, ixx1, iyy1, izz1)\n",
        "# body1 = Body('body1', masscenter=X1, mass=M1, frame=N_a, central_inertia=IB)"
      ],
      "metadata": {
        "id": "o_vvEV27jTBR"
      },
      "execution_count": 232,
      "outputs": []
    },
    {
      "cell_type": "code",
      "source": [
        "c1body = Body('c1body', masscenter=C1, frame=N_b)\n",
        "c2body = Body('c2body', masscenter=C2, frame=N_b)"
      ],
      "metadata": {
        "id": "Kc4pbFI0K-zu"
      },
      "execution_count": 233,
      "outputs": []
    },
    {
      "cell_type": "code",
      "source": [
        "C1.set_pos(X1a, -w2*N_b.z - d2*N_b.y)\n",
        "C2.set_pos(X1a, w2*N_b.z - d2*N_b.y)"
      ],
      "metadata": {
        "id": "w2tmAdbE4fTd"
      },
      "execution_count": 234,
      "outputs": []
    },
    {
      "cell_type": "code",
      "source": [
        "c1abody = Body('c1body', masscenter=C1a, frame=N_c)\n",
        "c2abody = Body('c2body', masscenter=C2a, frame=N_c)"
      ],
      "metadata": {
        "id": "cPEiw_IzLSjW"
      },
      "execution_count": 235,
      "outputs": []
    },
    {
      "cell_type": "code",
      "source": [
        "revc1c1a = SphericalJoint(name='c1c1a', parent=c1body, child=c1abody, parent_point=C1, child_point=C1a, amounts=[gamma_x1,0,0],\n",
        "                     rot_order='XYZ')\n",
        "revc2c2a = SphericalJoint(name='c2c2a', parent=c2body, child=c2abody, parent_point=C2, child_point=C2a, amounts=[gamma_x1,0,0],\n",
        "                     rot_order='XYZ')"
      ],
      "metadata": {
        "id": "UWT0dgO9LIqb"
      },
      "execution_count": 236,
      "outputs": []
    },
    {
      "cell_type": "code",
      "source": [
        "revc1c1a"
      ],
      "metadata": {
        "colab": {
          "base_uri": "https://localhost:8080/"
        },
        "id": "i5em53f1L3VP",
        "outputId": "8b44c04f-1fd6-4df3-af37-efb485ed4296"
      },
      "execution_count": 237,
      "outputs": [
        {
          "output_type": "execute_result",
          "data": {
            "text/plain": [
              "SphericalJoint: c1c1a  parent: c1body  child: c1body"
            ]
          },
          "metadata": {},
          "execution_count": 237
        }
      ]
    },
    {
      "cell_type": "code",
      "source": [
        "revc1c1a.parent_interframe, revc1c1a.child_interframe"
      ],
      "metadata": {
        "colab": {
          "base_uri": "https://localhost:8080/"
        },
        "id": "lxOSEvDTMCGQ",
        "outputId": "ae74290a-e405-495c-fd00-0ffd48bd0085"
      },
      "execution_count": 238,
      "outputs": [
        {
          "output_type": "execute_result",
          "data": {
            "text/plain": [
              "(N_b, N_c)"
            ]
          },
          "metadata": {},
          "execution_count": 238
        }
      ]
    },
    {
      "cell_type": "code",
      "source": [
        "revc1c1a.parent_interframe.dcm(revc1c1a.child_interframe)"
      ],
      "metadata": {
        "colab": {
          "base_uri": "https://localhost:8080/",
          "height": 78
        },
        "id": "zqZeXYVsL8lF",
        "outputId": "a78bf84d-f030-470e-8850-52a18627fdee"
      },
      "execution_count": 239,
      "outputs": [
        {
          "output_type": "execute_result",
          "data": {
            "text/plain": [
              "Matrix([\n",
              "[1,                0,                 0],\n",
              "[0, cos(gamma_x1(t)), -sin(gamma_x1(t))],\n",
              "[0, sin(gamma_x1(t)),  cos(gamma_x1(t))]])"
            ],
            "text/latex": "$\\displaystyle \\left[\\begin{matrix}1 & 0 & 0\\\\0 & \\cos{\\left(\\gamma_{x1}{\\left(t \\right)} \\right)} & - \\sin{\\left(\\gamma_{x1}{\\left(t \\right)} \\right)}\\\\0 & \\sin{\\left(\\gamma_{x1}{\\left(t \\right)} \\right)} & \\cos{\\left(\\gamma_{x1}{\\left(t \\right)} \\right)}\\end{matrix}\\right]$"
          },
          "metadata": {},
          "execution_count": 239
        }
      ]
    },
    {
      "cell_type": "code",
      "source": [
        "X1a.pos_from(B1a)"
      ],
      "metadata": {
        "colab": {
          "base_uri": "https://localhost:8080/",
          "height": 39
        },
        "id": "HcV0hR8AMHrY",
        "outputId": "cd702f4f-635b-4e8d-886b-c51b29ce2a35"
      },
      "execution_count": 240,
      "outputs": [
        {
          "output_type": "execute_result",
          "data": {
            "text/plain": [
              "- d1*N_b.y + w1*N_b.z"
            ],
            "text/latex": "$\\displaystyle -  d_{1}\\mathbf{\\hat{n_b}_y} + w_{1}\\mathbf{\\hat{n_b}_z}$"
          },
          "metadata": {},
          "execution_count": 240
        }
      ]
    },
    {
      "cell_type": "code",
      "source": [
        "IB2 = inertia(N_d, ixx2, iyy2, izz2)\n",
        "body2 = Body('body2', masscenter=X2a, mass=M2, frame=N_d, central_inertia=IB2)"
      ],
      "metadata": {
        "id": "-3Pg61axuk-a"
      },
      "execution_count": 241,
      "outputs": []
    },
    {
      "cell_type": "code",
      "source": [
        "D1.set_pos(X2, -w3*N_c.z + d3*N_c.y)\n",
        "D2.set_pos(X2, w3*N_c.z + d3*N_c.y)"
      ],
      "metadata": {
        "id": "2wfZmgVPMz0g"
      },
      "execution_count": 242,
      "outputs": []
    },
    {
      "cell_type": "code",
      "source": [
        "d1body = Body('d1body', masscenter=X2, frame=N_c)\n",
        "d2body = Body('d2body', masscenter=X2, frame=N_c)"
      ],
      "metadata": {
        "id": "BDMSCP79OBT_"
      },
      "execution_count": 243,
      "outputs": []
    },
    {
      "cell_type": "code",
      "source": [
        "D1.pos_from(C1a)"
      ],
      "metadata": {
        "colab": {
          "base_uri": "https://localhost:8080/",
          "height": 39
        },
        "id": "-IB0tSPgN2wW",
        "outputId": "955636ef-cbe0-4438-f750-2e45111fa5d2"
      },
      "execution_count": 244,
      "outputs": [
        {
          "output_type": "execute_result",
          "data": {
            "text/plain": [
              "(-d2 - d3 - q3(t))*N.y + d2*N_b.y + w2*N_b.z + d3*N_c.y - w3*N_c.z"
            ],
            "text/latex": "$\\displaystyle d_{3}\\mathbf{\\hat{n_c}_y} -  w_{3}\\mathbf{\\hat{n_c}_z} + (- d_{2} - d_{3} - q_{3}{\\left(t \\right)})\\mathbf{\\hat{n}_y} + d_{2}\\mathbf{\\hat{n_b}_y} + w_{2}\\mathbf{\\hat{n_b}_z}$"
          },
          "metadata": {},
          "execution_count": 244
        }
      ]
    },
    {
      "cell_type": "code",
      "source": [
        "revc1ad1 = PrismaticJoint('c1ad1', parent=c1abody, child=d1body, coordinates=q3, parent_point=C1a, child_point=D1,\n",
        "                      joint_axis=N_c.y, speeds=u3)\n",
        "revc2ad2 = PrismaticJoint('c2ad2', parent=c2abody, child=d2body, coordinates=q3, parent_point=C2a, child_point=D2,\n",
        "                      joint_axis=N_c.y, speeds=u3)"
      ],
      "metadata": {
        "id": "radtWMYmN5N7"
      },
      "execution_count": 245,
      "outputs": []
    },
    {
      "cell_type": "code",
      "source": [
        "N_c.orient_axis(N_b, gamma_x1, N_b.x) #else we get error with revc1ad1.child_interframe.dcm(revc1ad1.parent_interframe)"
      ],
      "metadata": {
        "id": "UZ_2MKllOcau"
      },
      "execution_count": 246,
      "outputs": []
    },
    {
      "cell_type": "code",
      "source": [
        "N_c.dcm(N_b)"
      ],
      "metadata": {
        "colab": {
          "base_uri": "https://localhost:8080/",
          "height": 78
        },
        "id": "0c956RsHOfG5",
        "outputId": "18cc46b4-c461-4a52-8aa3-9ac24664afa2"
      },
      "execution_count": 247,
      "outputs": [
        {
          "output_type": "execute_result",
          "data": {
            "text/plain": [
              "Matrix([\n",
              "[1,                 0,                0],\n",
              "[0,  cos(gamma_x1(t)), sin(gamma_x1(t))],\n",
              "[0, -sin(gamma_x1(t)), cos(gamma_x1(t))]])"
            ],
            "text/latex": "$\\displaystyle \\left[\\begin{matrix}1 & 0 & 0\\\\0 & \\cos{\\left(\\gamma_{x1}{\\left(t \\right)} \\right)} & \\sin{\\left(\\gamma_{x1}{\\left(t \\right)} \\right)}\\\\0 & - \\sin{\\left(\\gamma_{x1}{\\left(t \\right)} \\right)} & \\cos{\\left(\\gamma_{x1}{\\left(t \\right)} \\right)}\\end{matrix}\\right]$"
          },
          "metadata": {},
          "execution_count": 247
        }
      ]
    },
    {
      "cell_type": "code",
      "source": [
        "D1.pos_from(C1a)"
      ],
      "metadata": {
        "colab": {
          "base_uri": "https://localhost:8080/",
          "height": 39
        },
        "id": "V-FGtxf1OhZi",
        "outputId": "9b7bda91-2ef2-4a77-cb10-2c5f10fde19e"
      },
      "execution_count": 248,
      "outputs": [
        {
          "output_type": "execute_result",
          "data": {
            "text/plain": [
              "q3(t)*N_c.y"
            ],
            "text/latex": "$\\displaystyle q_{3}{\\left(t \\right)}\\mathbf{\\hat{n_c}_y}$"
          },
          "metadata": {},
          "execution_count": 248
        }
      ]
    },
    {
      "cell_type": "code",
      "source": [
        "D1.pos_from(C1a).express(N_b)"
      ],
      "metadata": {
        "colab": {
          "base_uri": "https://localhost:8080/",
          "height": 39
        },
        "id": "zVeT9cjuPI1-",
        "outputId": "39e41746-e03d-429c-fae1-61c0b5156385"
      },
      "execution_count": 249,
      "outputs": [
        {
          "output_type": "execute_result",
          "data": {
            "text/plain": [
              "q3(t)*cos(gamma_x1(t))*N_b.y + q3(t)*sin(gamma_x1(t))*N_b.z"
            ],
            "text/latex": "$\\displaystyle q_{3}{\\left(t \\right)} \\cos{\\left(\\gamma_{x1}{\\left(t \\right)} \\right)}\\mathbf{\\hat{n_b}_y} + q_{3}{\\left(t \\right)} \\sin{\\left(\\gamma_{x1}{\\left(t \\right)} \\right)}\\mathbf{\\hat{n_b}_z}$"
          },
          "metadata": {},
          "execution_count": 249
        }
      ]
    },
    {
      "cell_type": "code",
      "source": [
        "revc1ad1.parent_interframe.dcm(revc1ad1.child_interframe)"
      ],
      "metadata": {
        "colab": {
          "base_uri": "https://localhost:8080/",
          "height": 78
        },
        "id": "fZZyIB-jQEmN",
        "outputId": "bcd40a7c-5013-48a6-cd96-b571530c118f"
      },
      "execution_count": 250,
      "outputs": [
        {
          "output_type": "execute_result",
          "data": {
            "text/plain": [
              "Matrix([\n",
              "[1, 0, 0],\n",
              "[0, 1, 0],\n",
              "[0, 0, 1]])"
            ],
            "text/latex": "$\\displaystyle \\left[\\begin{matrix}1 & 0 & 0\\\\0 & 1 & 0\\\\0 & 0 & 1\\end{matrix}\\right]$"
          },
          "metadata": {},
          "execution_count": 250
        }
      ]
    },
    {
      "cell_type": "code",
      "source": [
        "revc1ad1.parent_interframe,revc1ad1.child_interframe"
      ],
      "metadata": {
        "colab": {
          "base_uri": "https://localhost:8080/"
        },
        "id": "jHAMfKtCQH8F",
        "outputId": "6510c7ea-5f07-4a09-81fe-f63cd38d15ba"
      },
      "execution_count": 251,
      "outputs": [
        {
          "output_type": "execute_result",
          "data": {
            "text/plain": [
              "(N_c, N_c)"
            ]
          },
          "metadata": {},
          "execution_count": 251
        }
      ]
    },
    {
      "cell_type": "code",
      "source": [
        "### Now we need a spherical joint between D1 and D1a, D2 and D2a that will allow the body 2 to rotate\n",
        "### N_a allows the rotation of spherical joint P1P1a, N_b allows the rotation of body 1, N_c allows the rotation of spherical joint C1C1a and N_d will allow the rotation of Body 2"
      ],
      "metadata": {
        "id": "_xUot5TIPK7d"
      },
      "execution_count": 252,
      "outputs": []
    },
    {
      "cell_type": "code",
      "source": [
        "D1a.set_pos(X2a, -w3*N_d.z + d3*N_d.y)\n",
        "D2a.set_pos(X2a, w3*N_d.z + d3*N_d.y)"
      ],
      "metadata": {
        "id": "s4Lw2V2lQPUI"
      },
      "execution_count": 253,
      "outputs": []
    },
    {
      "cell_type": "code",
      "source": [
        "d1abody = Body('d1abody', masscenter=D1a, frame=N_d)\n",
        "d2abody = Body('d2abody', masscenter=D2a, frame=N_d)"
      ],
      "metadata": {
        "id": "iWIxWUl1XkI2"
      },
      "execution_count": 254,
      "outputs": []
    },
    {
      "cell_type": "code",
      "source": [
        "revd1d1a = SphericalJoint(name='d1d1a', parent=d1body, child=d1abody, parent_point=D1, child_point=D1a, amounts=[eta_x1,0,0],\n",
        "                     rot_order='XYZ')\n",
        "revd2d2a = SphericalJoint(name='d2d2a', parent=d2body, child=d2abody, parent_point=D2, child_point=D2a, amounts=[eta_x1,0,0],\n",
        "                     rot_order='XYZ')"
      ],
      "metadata": {
        "id": "LTC1aHrLXEza"
      },
      "execution_count": 255,
      "outputs": []
    },
    {
      "cell_type": "code",
      "source": [
        "revd1d1a.parent_interframe, revd1d1a.child_interframe"
      ],
      "metadata": {
        "colab": {
          "base_uri": "https://localhost:8080/"
        },
        "id": "bma_ifYlXjGm",
        "outputId": "5fd84808-6dbc-40e0-d586-34ecea8c26cb"
      },
      "execution_count": 256,
      "outputs": [
        {
          "output_type": "execute_result",
          "data": {
            "text/plain": [
              "(N_c, N_d)"
            ]
          },
          "metadata": {},
          "execution_count": 256
        }
      ]
    },
    {
      "cell_type": "code",
      "source": [
        "revd1d1a.parent_interframe.dcm(revd1d1a.child_interframe)"
      ],
      "metadata": {
        "colab": {
          "base_uri": "https://localhost:8080/",
          "height": 78
        },
        "id": "eKg0a7w7Xu-D",
        "outputId": "ff9d2875-89f8-445b-8391-141d04195049"
      },
      "execution_count": 257,
      "outputs": [
        {
          "output_type": "execute_result",
          "data": {
            "text/plain": [
              "Matrix([\n",
              "[1,              0,               0],\n",
              "[0, cos(eta_x1(t)), -sin(eta_x1(t))],\n",
              "[0, sin(eta_x1(t)),  cos(eta_x1(t))]])"
            ],
            "text/latex": "$\\displaystyle \\left[\\begin{matrix}1 & 0 & 0\\\\0 & \\cos{\\left(\\eta_{x1}{\\left(t \\right)} \\right)} & - \\sin{\\left(\\eta_{x1}{\\left(t \\right)} \\right)}\\\\0 & \\sin{\\left(\\eta_{x1}{\\left(t \\right)} \\right)} & \\cos{\\left(\\eta_{x1}{\\left(t \\right)} \\right)}\\end{matrix}\\right]$"
          },
          "metadata": {},
          "execution_count": 257
        }
      ]
    },
    {
      "cell_type": "code",
      "source": [
        "D1a.pos_from(D1)"
      ],
      "metadata": {
        "colab": {
          "base_uri": "https://localhost:8080/",
          "height": 37
        },
        "id": "K8oXZ4NqXzza",
        "outputId": "c02b02e6-2caf-47de-ba46-17f8c4f0fca7"
      },
      "execution_count": 258,
      "outputs": [
        {
          "output_type": "execute_result",
          "data": {
            "text/plain": [
              "0"
            ],
            "text/latex": "$\\displaystyle 0$"
          },
          "metadata": {},
          "execution_count": 258
        }
      ]
    },
    {
      "cell_type": "code",
      "source": [
        "D1a.pos_from(X2a)"
      ],
      "metadata": {
        "colab": {
          "base_uri": "https://localhost:8080/",
          "height": 39
        },
        "id": "JfORq51DX6Mu",
        "outputId": "33a65d2b-f2cc-4a03-9985-5a921b1c6f84"
      },
      "execution_count": 259,
      "outputs": [
        {
          "output_type": "execute_result",
          "data": {
            "text/plain": [
              "d3*N_d.y - w3*N_d.z"
            ],
            "text/latex": "$\\displaystyle d_{3}\\mathbf{\\hat{n_d}_y} -  w_{3}\\mathbf{\\hat{n_d}_z}$"
          },
          "metadata": {},
          "execution_count": 259
        }
      ]
    },
    {
      "cell_type": "code",
      "source": [
        "D1.pos_from(X2)"
      ],
      "metadata": {
        "colab": {
          "base_uri": "https://localhost:8080/",
          "height": 39
        },
        "id": "cYTfKon3X7_l",
        "outputId": "0a5da799-0e02-428e-dcb7-5d548b1dbdde"
      },
      "execution_count": 260,
      "outputs": [
        {
          "output_type": "execute_result",
          "data": {
            "text/plain": [
              "d3*N_c.y - w3*N_c.z"
            ],
            "text/latex": "$\\displaystyle d_{3}\\mathbf{\\hat{n_c}_y} -  w_{3}\\mathbf{\\hat{n_c}_z}$"
          },
          "metadata": {},
          "execution_count": 260
        }
      ]
    },
    {
      "cell_type": "code",
      "source": [
        "X2a.pos_from(X1a).express(N).subs({alpha_x1:0, beta_x1:0, gamma_x1:0, eta_x1:0})"
      ],
      "metadata": {
        "colab": {
          "base_uri": "https://localhost:8080/",
          "height": 39
        },
        "id": "8tWx1QPvYALC",
        "outputId": "fafd21f6-2a13-4b97-ef28-40a9d5706fb7"
      },
      "execution_count": 261,
      "outputs": [
        {
          "output_type": "execute_result",
          "data": {
            "text/plain": [
              "(-d2 - d3 - q3(t))*N.y"
            ],
            "text/latex": "$\\displaystyle (- d_{2} - d_{3} - q_{3}{\\left(t \\right)})\\mathbf{\\hat{n}_y}$"
          },
          "metadata": {},
          "execution_count": 261
        }
      ]
    },
    {
      "cell_type": "code",
      "source": [
        "X2a.pos_from(P).express(N).subs({alpha_x1:0, beta_x1:0, gamma_x1:0, eta_x1:0})"
      ],
      "metadata": {
        "colab": {
          "base_uri": "https://localhost:8080/",
          "height": 39
        },
        "id": "GxsGYMsZYM1f",
        "outputId": "f85e93a1-2150-4e82-e1a3-f1b398c2f9ae"
      },
      "execution_count": 262,
      "outputs": [
        {
          "output_type": "execute_result",
          "data": {
            "text/plain": [
              "(-d1 - d2 - d3 - q2(t) - q3(t))*N.y"
            ],
            "text/latex": "$\\displaystyle (- d_{1} - d_{2} - d_{3} - q_{2}{\\left(t \\right)} - q_{3}{\\left(t \\right)})\\mathbf{\\hat{n}_y}$"
          },
          "metadata": {},
          "execution_count": 262
        }
      ]
    },
    {
      "cell_type": "code",
      "source": [
        "X2a.pos_from(D1)"
      ],
      "metadata": {
        "colab": {
          "base_uri": "https://localhost:8080/",
          "height": 39
        },
        "id": "emdJkLfkYnYl",
        "outputId": "a07b7685-00b0-4cc7-89d0-79ae56db049b"
      },
      "execution_count": 263,
      "outputs": [
        {
          "output_type": "execute_result",
          "data": {
            "text/plain": [
              "- d3*N_d.y + w3*N_d.z"
            ],
            "text/latex": "$\\displaystyle -  d_{3}\\mathbf{\\hat{n_d}_y} + w_{3}\\mathbf{\\hat{n_d}_z}$"
          },
          "metadata": {},
          "execution_count": 263
        }
      ]
    },
    {
      "cell_type": "code",
      "source": [
        "X1a.pos_from(P).express(N_b)"
      ],
      "metadata": {
        "colab": {
          "base_uri": "https://localhost:8080/",
          "height": 61
        },
        "id": "paUMzBT8eS0f",
        "outputId": "faf9ab8d-1c99-48f5-dc70-083b0f13c97b"
      },
      "execution_count": 264,
      "outputs": [
        {
          "output_type": "execute_result",
          "data": {
            "text/plain": [
              "(-d1 - q2(t))*(-sin(alpha_x1(t))*sin(beta_x1(t)) + cos(alpha_x1(t))*cos(beta_x1(t)))*N_b.y + (-d1 - q2(t))*(-sin(alpha_x1(t))*cos(beta_x1(t)) - sin(beta_x1(t))*cos(alpha_x1(t)))*N_b.z"
            ],
            "text/latex": "$\\displaystyle \\left(- d_{1} - q_{2}{\\left(t \\right)}\\right) \\left(- \\sin{\\left(\\alpha_{x1}{\\left(t \\right)} \\right)} \\sin{\\left(\\beta_{x1}{\\left(t \\right)} \\right)} + \\cos{\\left(\\alpha_{x1}{\\left(t \\right)} \\right)} \\cos{\\left(\\beta_{x1}{\\left(t \\right)} \\right)}\\right)\\mathbf{\\hat{n_b}_y} + \\left(- d_{1} - q_{2}{\\left(t \\right)}\\right) \\left(- \\sin{\\left(\\alpha_{x1}{\\left(t \\right)} \\right)} \\cos{\\left(\\beta_{x1}{\\left(t \\right)} \\right)} - \\sin{\\left(\\beta_{x1}{\\left(t \\right)} \\right)} \\cos{\\left(\\alpha_{x1}{\\left(t \\right)} \\right)}\\right)\\mathbf{\\hat{n_b}_z}$"
          },
          "metadata": {},
          "execution_count": 264
        }
      ]
    },
    {
      "cell_type": "code",
      "source": [
        "X2a.pos_from(P).express(N_a)"
      ],
      "metadata": {
        "colab": {
          "base_uri": "https://localhost:8080/",
          "height": 39
        },
        "id": "KUfnWh-De1p7",
        "outputId": "00aa0ad1-8811-43e0-dd59-9d5270420889"
      },
      "execution_count": 265,
      "outputs": [
        {
          "output_type": "execute_result",
          "data": {
            "text/plain": [
              "(-d1 - d2 - d3 - q2(t) - q3(t))*cos(alpha_x1(t))*N_a.y - (-d1 - d2 - d3 - q2(t) - q3(t))*sin(alpha_x1(t))*N_a.z"
            ],
            "text/latex": "$\\displaystyle \\left(- d_{1} - d_{2} - d_{3} - q_{2}{\\left(t \\right)} - q_{3}{\\left(t \\right)}\\right) \\cos{\\left(\\alpha_{x1}{\\left(t \\right)} \\right)}\\mathbf{\\hat{n_a}_y} -  \\left(- d_{1} - d_{2} - d_{3} - q_{2}{\\left(t \\right)} - q_{3}{\\left(t \\right)}\\right) \\sin{\\left(\\alpha_{x1}{\\left(t \\right)} \\right)}\\mathbf{\\hat{n_a}_z}$"
          },
          "metadata": {},
          "execution_count": 265
        }
      ]
    },
    {
      "cell_type": "code",
      "source": [
        "N_a.dcm(N)*Matrix([0, (-d1 -d2 -d3 -q2 -q3), 0])"
      ],
      "metadata": {
        "colab": {
          "base_uri": "https://localhost:8080/",
          "height": 78
        },
        "id": "u4YCR-yRe3UD",
        "outputId": "85404631-1e7f-4d13-d446-dc3aa223b24f"
      },
      "execution_count": 266,
      "outputs": [
        {
          "output_type": "execute_result",
          "data": {
            "text/plain": [
              "Matrix([\n",
              "[                                                0],\n",
              "[ (-d1 - d2 - d3 - q2(t) - q3(t))*cos(alpha_x1(t))],\n",
              "[-(-d1 - d2 - d3 - q2(t) - q3(t))*sin(alpha_x1(t))]])"
            ],
            "text/latex": "$\\displaystyle \\left[\\begin{matrix}0\\\\\\left(- d_{1} - d_{2} - d_{3} - q_{2}{\\left(t \\right)} - q_{3}{\\left(t \\right)}\\right) \\cos{\\left(\\alpha_{x1}{\\left(t \\right)} \\right)}\\\\- \\left(- d_{1} - d_{2} - d_{3} - q_{2}{\\left(t \\right)} - q_{3}{\\left(t \\right)}\\right) \\sin{\\left(\\alpha_{x1}{\\left(t \\right)} \\right)}\\end{matrix}\\right]$"
          },
          "metadata": {},
          "execution_count": 266
        }
      ]
    },
    {
      "cell_type": "code",
      "source": [
        "X2a.pos_from(P).express(N_b)"
      ],
      "metadata": {
        "colab": {
          "base_uri": "https://localhost:8080/",
          "height": 61
        },
        "id": "E9O-u57RfGdf",
        "outputId": "d929e796-fb12-4753-fc41-e6578a688f69"
      },
      "execution_count": 267,
      "outputs": [
        {
          "output_type": "execute_result",
          "data": {
            "text/plain": [
              "(-sin(alpha_x1(t))*sin(beta_x1(t)) + cos(alpha_x1(t))*cos(beta_x1(t)))*(-d1 - d2 - d3 - q2(t) - q3(t))*N_b.y + (-sin(alpha_x1(t))*cos(beta_x1(t)) - sin(beta_x1(t))*cos(alpha_x1(t)))*(-d1 - d2 - d3 - q2(t) - q3(t))*N_b.z"
            ],
            "text/latex": "$\\displaystyle \\left(- \\sin{\\left(\\alpha_{x1}{\\left(t \\right)} \\right)} \\sin{\\left(\\beta_{x1}{\\left(t \\right)} \\right)} + \\cos{\\left(\\alpha_{x1}{\\left(t \\right)} \\right)} \\cos{\\left(\\beta_{x1}{\\left(t \\right)} \\right)}\\right) \\left(- d_{1} - d_{2} - d_{3} - q_{2}{\\left(t \\right)} - q_{3}{\\left(t \\right)}\\right)\\mathbf{\\hat{n_b}_y} + \\left(- \\sin{\\left(\\alpha_{x1}{\\left(t \\right)} \\right)} \\cos{\\left(\\beta_{x1}{\\left(t \\right)} \\right)} - \\sin{\\left(\\beta_{x1}{\\left(t \\right)} \\right)} \\cos{\\left(\\alpha_{x1}{\\left(t \\right)} \\right)}\\right) \\left(- d_{1} - d_{2} - d_{3} - q_{2}{\\left(t \\right)} - q_{3}{\\left(t \\right)}\\right)\\mathbf{\\hat{n_b}_z}$"
          },
          "metadata": {},
          "execution_count": 267
        }
      ]
    },
    {
      "cell_type": "code",
      "source": [
        "N_b.dcm(N)*Matrix([0, (-d1 -d2 -d3 -q2 -q3), 0])"
      ],
      "metadata": {
        "colab": {
          "base_uri": "https://localhost:8080/",
          "height": 78
        },
        "id": "Szbx63-kfI3j",
        "outputId": "2999f4c0-a88e-4140-910f-e29abf449fba"
      },
      "execution_count": 268,
      "outputs": [
        {
          "output_type": "execute_result",
          "data": {
            "text/plain": [
              "Matrix([\n",
              "[                                                                                                     0],\n",
              "[(-sin(alpha_x1(t))*sin(beta_x1(t)) + cos(alpha_x1(t))*cos(beta_x1(t)))*(-d1 - d2 - d3 - q2(t) - q3(t))],\n",
              "[(-sin(alpha_x1(t))*cos(beta_x1(t)) - sin(beta_x1(t))*cos(alpha_x1(t)))*(-d1 - d2 - d3 - q2(t) - q3(t))]])"
            ],
            "text/latex": "$\\displaystyle \\left[\\begin{matrix}0\\\\\\left(- \\sin{\\left(\\alpha_{x1}{\\left(t \\right)} \\right)} \\sin{\\left(\\beta_{x1}{\\left(t \\right)} \\right)} + \\cos{\\left(\\alpha_{x1}{\\left(t \\right)} \\right)} \\cos{\\left(\\beta_{x1}{\\left(t \\right)} \\right)}\\right) \\left(- d_{1} - d_{2} - d_{3} - q_{2}{\\left(t \\right)} - q_{3}{\\left(t \\right)}\\right)\\\\\\left(- \\sin{\\left(\\alpha_{x1}{\\left(t \\right)} \\right)} \\cos{\\left(\\beta_{x1}{\\left(t \\right)} \\right)} - \\sin{\\left(\\beta_{x1}{\\left(t \\right)} \\right)} \\cos{\\left(\\alpha_{x1}{\\left(t \\right)} \\right)}\\right) \\left(- d_{1} - d_{2} - d_{3} - q_{2}{\\left(t \\right)} - q_{3}{\\left(t \\right)}\\right)\\end{matrix}\\right]$"
          },
          "metadata": {},
          "execution_count": 268
        }
      ]
    },
    {
      "cell_type": "code",
      "source": [
        "X2a.pos_from(P).express(N_c)"
      ],
      "metadata": {
        "colab": {
          "base_uri": "https://localhost:8080/",
          "height": 61
        },
        "id": "JvY71m6kfKbS",
        "outputId": "ed3c8f83-a4f9-495b-f7b3-1c0d12558c74"
      },
      "execution_count": 269,
      "outputs": [
        {
          "output_type": "execute_result",
          "data": {
            "text/plain": [
              "((-sin(beta_x1(t))*sin(gamma_x1(t)) + cos(beta_x1(t))*cos(gamma_x1(t)))*cos(alpha_x1(t)) - (sin(beta_x1(t))*cos(gamma_x1(t)) + sin(gamma_x1(t))*cos(beta_x1(t)))*sin(alpha_x1(t)))*(-d1 - d2 - d3 - q2(t) - q3(t))*N_c.y + (-(-sin(beta_x1(t))*sin(gamma_x1(t)) + cos(beta_x1(t))*cos(gamma_x1(t)))*sin(alpha_x1(t)) + (-sin(beta_x1(t))*cos(gamma_x1(t)) - sin(gamma_x1(t))*cos(beta_x1(t)))*cos(alpha_x1(t)))*(-d1 - d2 - d3 - q2(t) - q3(t))*N_c.z"
            ],
            "text/latex": "$\\displaystyle \\left(\\left(- \\sin{\\left(\\beta_{x1}{\\left(t \\right)} \\right)} \\sin{\\left(\\gamma_{x1}{\\left(t \\right)} \\right)} + \\cos{\\left(\\beta_{x1}{\\left(t \\right)} \\right)} \\cos{\\left(\\gamma_{x1}{\\left(t \\right)} \\right)}\\right) \\cos{\\left(\\alpha_{x1}{\\left(t \\right)} \\right)} - \\left(\\sin{\\left(\\beta_{x1}{\\left(t \\right)} \\right)} \\cos{\\left(\\gamma_{x1}{\\left(t \\right)} \\right)} + \\sin{\\left(\\gamma_{x1}{\\left(t \\right)} \\right)} \\cos{\\left(\\beta_{x1}{\\left(t \\right)} \\right)}\\right) \\sin{\\left(\\alpha_{x1}{\\left(t \\right)} \\right)}\\right) \\left(- d_{1} - d_{2} - d_{3} - q_{2}{\\left(t \\right)} - q_{3}{\\left(t \\right)}\\right)\\mathbf{\\hat{n_c}_y} + \\left(- \\left(- \\sin{\\left(\\beta_{x1}{\\left(t \\right)} \\right)} \\sin{\\left(\\gamma_{x1}{\\left(t \\right)} \\right)} + \\cos{\\left(\\beta_{x1}{\\left(t \\right)} \\right)} \\cos{\\left(\\gamma_{x1}{\\left(t \\right)} \\right)}\\right) \\sin{\\left(\\alpha_{x1}{\\left(t \\right)} \\right)} + \\left(- \\sin{\\left(\\beta_{x1}{\\left(t \\right)} \\right)} \\cos{\\left(\\gamma_{x1}{\\left(t \\right)} \\right)} - \\sin{\\left(\\gamma_{x1}{\\left(t \\right)} \\right)} \\cos{\\left(\\beta_{x1}{\\left(t \\right)} \\right)}\\right) \\cos{\\left(\\alpha_{x1}{\\left(t \\right)} \\right)}\\right) \\left(- d_{1} - d_{2} - d_{3} - q_{2}{\\left(t \\right)} - q_{3}{\\left(t \\right)}\\right)\\mathbf{\\hat{n_c}_z}$"
          },
          "metadata": {},
          "execution_count": 269
        }
      ]
    },
    {
      "cell_type": "code",
      "source": [
        "N_c.dcm(N)*Matrix([0, (-d1 -d2 -d3 -q2 -q3), 0])"
      ],
      "metadata": {
        "colab": {
          "base_uri": "https://localhost:8080/",
          "height": 78
        },
        "id": "NXRECEbOfN0A",
        "outputId": "f0c92978-aeda-4d6a-eb04-131976d0830f"
      },
      "execution_count": 270,
      "outputs": [
        {
          "output_type": "execute_result",
          "data": {
            "text/plain": [
              "Matrix([\n",
              "[                                                                                                                                                                                                                   0],\n",
              "[  ((-sin(beta_x1(t))*sin(gamma_x1(t)) + cos(beta_x1(t))*cos(gamma_x1(t)))*cos(alpha_x1(t)) - (sin(beta_x1(t))*cos(gamma_x1(t)) + sin(gamma_x1(t))*cos(beta_x1(t)))*sin(alpha_x1(t)))*(-d1 - d2 - d3 - q2(t) - q3(t))],\n",
              "[(-(-sin(beta_x1(t))*sin(gamma_x1(t)) + cos(beta_x1(t))*cos(gamma_x1(t)))*sin(alpha_x1(t)) + (-sin(beta_x1(t))*cos(gamma_x1(t)) - sin(gamma_x1(t))*cos(beta_x1(t)))*cos(alpha_x1(t)))*(-d1 - d2 - d3 - q2(t) - q3(t))]])"
            ],
            "text/latex": "$\\displaystyle \\left[\\begin{matrix}0\\\\\\left(\\left(- \\sin{\\left(\\beta_{x1}{\\left(t \\right)} \\right)} \\sin{\\left(\\gamma_{x1}{\\left(t \\right)} \\right)} + \\cos{\\left(\\beta_{x1}{\\left(t \\right)} \\right)} \\cos{\\left(\\gamma_{x1}{\\left(t \\right)} \\right)}\\right) \\cos{\\left(\\alpha_{x1}{\\left(t \\right)} \\right)} - \\left(\\sin{\\left(\\beta_{x1}{\\left(t \\right)} \\right)} \\cos{\\left(\\gamma_{x1}{\\left(t \\right)} \\right)} + \\sin{\\left(\\gamma_{x1}{\\left(t \\right)} \\right)} \\cos{\\left(\\beta_{x1}{\\left(t \\right)} \\right)}\\right) \\sin{\\left(\\alpha_{x1}{\\left(t \\right)} \\right)}\\right) \\left(- d_{1} - d_{2} - d_{3} - q_{2}{\\left(t \\right)} - q_{3}{\\left(t \\right)}\\right)\\\\\\left(- \\left(- \\sin{\\left(\\beta_{x1}{\\left(t \\right)} \\right)} \\sin{\\left(\\gamma_{x1}{\\left(t \\right)} \\right)} + \\cos{\\left(\\beta_{x1}{\\left(t \\right)} \\right)} \\cos{\\left(\\gamma_{x1}{\\left(t \\right)} \\right)}\\right) \\sin{\\left(\\alpha_{x1}{\\left(t \\right)} \\right)} + \\left(- \\sin{\\left(\\beta_{x1}{\\left(t \\right)} \\right)} \\cos{\\left(\\gamma_{x1}{\\left(t \\right)} \\right)} - \\sin{\\left(\\gamma_{x1}{\\left(t \\right)} \\right)} \\cos{\\left(\\beta_{x1}{\\left(t \\right)} \\right)}\\right) \\cos{\\left(\\alpha_{x1}{\\left(t \\right)} \\right)}\\right) \\left(- d_{1} - d_{2} - d_{3} - q_{2}{\\left(t \\right)} - q_{3}{\\left(t \\right)}\\right)\\end{matrix}\\right]$"
          },
          "metadata": {},
          "execution_count": 270
        }
      ]
    },
    {
      "cell_type": "code",
      "source": [
        "X2a.pos_from(P).express(N_d)#.dot(N_d.y)"
      ],
      "metadata": {
        "colab": {
          "base_uri": "https://localhost:8080/",
          "height": 81
        },
        "id": "nYOWr_7vfPYn",
        "outputId": "342c433a-262b-4799-e870-5af6187f0356"
      },
      "execution_count": 271,
      "outputs": [
        {
          "output_type": "execute_result",
          "data": {
            "text/plain": [
              "(-((-sin(eta_x1(t))*sin(gamma_x1(t)) + cos(eta_x1(t))*cos(gamma_x1(t)))*sin(beta_x1(t)) + (sin(eta_x1(t))*cos(gamma_x1(t)) + sin(gamma_x1(t))*cos(eta_x1(t)))*cos(beta_x1(t)))*sin(alpha_x1(t)) + ((-sin(eta_x1(t))*sin(gamma_x1(t)) + cos(eta_x1(t))*cos(gamma_x1(t)))*cos(beta_x1(t)) - (sin(eta_x1(t))*cos(gamma_x1(t)) + sin(gamma_x1(t))*cos(eta_x1(t)))*sin(beta_x1(t)))*cos(alpha_x1(t)))*(-d1 - d2 - d3 - q2(t) - q3(t))*N_d.y + ((-(-sin(eta_x1(t))*sin(gamma_x1(t)) + cos(eta_x1(t))*cos(gamma_x1(t)))*sin(beta_x1(t)) + (-sin(eta_x1(t))*cos(gamma_x1(t)) - sin(gamma_x1(t))*cos(eta_x1(t)))*cos(beta_x1(t)))*cos(alpha_x1(t)) - ((-sin(eta_x1(t))*sin(gamma_x1(t)) + cos(eta_x1(t))*cos(gamma_x1(t)))*cos(beta_x1(t)) + (-sin(eta_x1(t))*cos(gamma_x1(t)) - sin(gamma_x1(t))*cos(eta_x1(t)))*sin(beta_x1(t)))*sin(alpha_x1(t)))*(-d1 - d2 - d3 - q2(t) - q3(t))*N_d.z"
            ],
            "text/latex": "$\\displaystyle \\left(- \\left(\\left(- \\sin{\\left(\\eta_{x1}{\\left(t \\right)} \\right)} \\sin{\\left(\\gamma_{x1}{\\left(t \\right)} \\right)} + \\cos{\\left(\\eta_{x1}{\\left(t \\right)} \\right)} \\cos{\\left(\\gamma_{x1}{\\left(t \\right)} \\right)}\\right) \\sin{\\left(\\beta_{x1}{\\left(t \\right)} \\right)} + \\left(\\sin{\\left(\\eta_{x1}{\\left(t \\right)} \\right)} \\cos{\\left(\\gamma_{x1}{\\left(t \\right)} \\right)} + \\sin{\\left(\\gamma_{x1}{\\left(t \\right)} \\right)} \\cos{\\left(\\eta_{x1}{\\left(t \\right)} \\right)}\\right) \\cos{\\left(\\beta_{x1}{\\left(t \\right)} \\right)}\\right) \\sin{\\left(\\alpha_{x1}{\\left(t \\right)} \\right)} + \\left(\\left(- \\sin{\\left(\\eta_{x1}{\\left(t \\right)} \\right)} \\sin{\\left(\\gamma_{x1}{\\left(t \\right)} \\right)} + \\cos{\\left(\\eta_{x1}{\\left(t \\right)} \\right)} \\cos{\\left(\\gamma_{x1}{\\left(t \\right)} \\right)}\\right) \\cos{\\left(\\beta_{x1}{\\left(t \\right)} \\right)} - \\left(\\sin{\\left(\\eta_{x1}{\\left(t \\right)} \\right)} \\cos{\\left(\\gamma_{x1}{\\left(t \\right)} \\right)} + \\sin{\\left(\\gamma_{x1}{\\left(t \\right)} \\right)} \\cos{\\left(\\eta_{x1}{\\left(t \\right)} \\right)}\\right) \\sin{\\left(\\beta_{x1}{\\left(t \\right)} \\right)}\\right) \\cos{\\left(\\alpha_{x1}{\\left(t \\right)} \\right)}\\right) \\left(- d_{1} - d_{2} - d_{3} - q_{2}{\\left(t \\right)} - q_{3}{\\left(t \\right)}\\right)\\mathbf{\\hat{n_d}_y} + \\left(\\left(- \\left(- \\sin{\\left(\\eta_{x1}{\\left(t \\right)} \\right)} \\sin{\\left(\\gamma_{x1}{\\left(t \\right)} \\right)} + \\cos{\\left(\\eta_{x1}{\\left(t \\right)} \\right)} \\cos{\\left(\\gamma_{x1}{\\left(t \\right)} \\right)}\\right) \\sin{\\left(\\beta_{x1}{\\left(t \\right)} \\right)} + \\left(- \\sin{\\left(\\eta_{x1}{\\left(t \\right)} \\right)} \\cos{\\left(\\gamma_{x1}{\\left(t \\right)} \\right)} - \\sin{\\left(\\gamma_{x1}{\\left(t \\right)} \\right)} \\cos{\\left(\\eta_{x1}{\\left(t \\right)} \\right)}\\right) \\cos{\\left(\\beta_{x1}{\\left(t \\right)} \\right)}\\right) \\cos{\\left(\\alpha_{x1}{\\left(t \\right)} \\right)} - \\left(\\left(- \\sin{\\left(\\eta_{x1}{\\left(t \\right)} \\right)} \\sin{\\left(\\gamma_{x1}{\\left(t \\right)} \\right)} + \\cos{\\left(\\eta_{x1}{\\left(t \\right)} \\right)} \\cos{\\left(\\gamma_{x1}{\\left(t \\right)} \\right)}\\right) \\cos{\\left(\\beta_{x1}{\\left(t \\right)} \\right)} + \\left(- \\sin{\\left(\\eta_{x1}{\\left(t \\right)} \\right)} \\cos{\\left(\\gamma_{x1}{\\left(t \\right)} \\right)} - \\sin{\\left(\\gamma_{x1}{\\left(t \\right)} \\right)} \\cos{\\left(\\eta_{x1}{\\left(t \\right)} \\right)}\\right) \\sin{\\left(\\beta_{x1}{\\left(t \\right)} \\right)}\\right) \\sin{\\left(\\alpha_{x1}{\\left(t \\right)} \\right)}\\right) \\left(- d_{1} - d_{2} - d_{3} - q_{2}{\\left(t \\right)} - q_{3}{\\left(t \\right)}\\right)\\mathbf{\\hat{n_d}_z}$"
          },
          "metadata": {},
          "execution_count": 271
        }
      ]
    },
    {
      "cell_type": "code",
      "source": [
        "N_d.dcm(N)*Matrix([0, (-d1 -d2 -d3 -q2 -q3), 0])"
      ],
      "metadata": {
        "colab": {
          "base_uri": "https://localhost:8080/",
          "height": 98
        },
        "id": "_AspIdkSfRN6",
        "outputId": "fcaf0210-a2ef-4089-d63a-d41886e4bf97"
      },
      "execution_count": 272,
      "outputs": [
        {
          "output_type": "execute_result",
          "data": {
            "text/plain": [
              "Matrix([\n",
              "[                                                                                                                                                                                                                                                                                                                                                                                                                                 0],\n",
              "[  (-((-sin(eta_x1(t))*sin(gamma_x1(t)) + cos(eta_x1(t))*cos(gamma_x1(t)))*sin(beta_x1(t)) + (sin(eta_x1(t))*cos(gamma_x1(t)) + sin(gamma_x1(t))*cos(eta_x1(t)))*cos(beta_x1(t)))*sin(alpha_x1(t)) + ((-sin(eta_x1(t))*sin(gamma_x1(t)) + cos(eta_x1(t))*cos(gamma_x1(t)))*cos(beta_x1(t)) - (sin(eta_x1(t))*cos(gamma_x1(t)) + sin(gamma_x1(t))*cos(eta_x1(t)))*sin(beta_x1(t)))*cos(alpha_x1(t)))*(-d1 - d2 - d3 - q2(t) - q3(t))],\n",
              "[((-(-sin(eta_x1(t))*sin(gamma_x1(t)) + cos(eta_x1(t))*cos(gamma_x1(t)))*sin(beta_x1(t)) + (-sin(eta_x1(t))*cos(gamma_x1(t)) - sin(gamma_x1(t))*cos(eta_x1(t)))*cos(beta_x1(t)))*cos(alpha_x1(t)) - ((-sin(eta_x1(t))*sin(gamma_x1(t)) + cos(eta_x1(t))*cos(gamma_x1(t)))*cos(beta_x1(t)) + (-sin(eta_x1(t))*cos(gamma_x1(t)) - sin(gamma_x1(t))*cos(eta_x1(t)))*sin(beta_x1(t)))*sin(alpha_x1(t)))*(-d1 - d2 - d3 - q2(t) - q3(t))]])"
            ],
            "text/latex": "$\\displaystyle \\left[\\begin{matrix}0\\\\\\left(- \\left(\\left(- \\sin{\\left(\\eta_{x1}{\\left(t \\right)} \\right)} \\sin{\\left(\\gamma_{x1}{\\left(t \\right)} \\right)} + \\cos{\\left(\\eta_{x1}{\\left(t \\right)} \\right)} \\cos{\\left(\\gamma_{x1}{\\left(t \\right)} \\right)}\\right) \\sin{\\left(\\beta_{x1}{\\left(t \\right)} \\right)} + \\left(\\sin{\\left(\\eta_{x1}{\\left(t \\right)} \\right)} \\cos{\\left(\\gamma_{x1}{\\left(t \\right)} \\right)} + \\sin{\\left(\\gamma_{x1}{\\left(t \\right)} \\right)} \\cos{\\left(\\eta_{x1}{\\left(t \\right)} \\right)}\\right) \\cos{\\left(\\beta_{x1}{\\left(t \\right)} \\right)}\\right) \\sin{\\left(\\alpha_{x1}{\\left(t \\right)} \\right)} + \\left(\\left(- \\sin{\\left(\\eta_{x1}{\\left(t \\right)} \\right)} \\sin{\\left(\\gamma_{x1}{\\left(t \\right)} \\right)} + \\cos{\\left(\\eta_{x1}{\\left(t \\right)} \\right)} \\cos{\\left(\\gamma_{x1}{\\left(t \\right)} \\right)}\\right) \\cos{\\left(\\beta_{x1}{\\left(t \\right)} \\right)} - \\left(\\sin{\\left(\\eta_{x1}{\\left(t \\right)} \\right)} \\cos{\\left(\\gamma_{x1}{\\left(t \\right)} \\right)} + \\sin{\\left(\\gamma_{x1}{\\left(t \\right)} \\right)} \\cos{\\left(\\eta_{x1}{\\left(t \\right)} \\right)}\\right) \\sin{\\left(\\beta_{x1}{\\left(t \\right)} \\right)}\\right) \\cos{\\left(\\alpha_{x1}{\\left(t \\right)} \\right)}\\right) \\left(- d_{1} - d_{2} - d_{3} - q_{2}{\\left(t \\right)} - q_{3}{\\left(t \\right)}\\right)\\\\\\left(\\left(- \\left(- \\sin{\\left(\\eta_{x1}{\\left(t \\right)} \\right)} \\sin{\\left(\\gamma_{x1}{\\left(t \\right)} \\right)} + \\cos{\\left(\\eta_{x1}{\\left(t \\right)} \\right)} \\cos{\\left(\\gamma_{x1}{\\left(t \\right)} \\right)}\\right) \\sin{\\left(\\beta_{x1}{\\left(t \\right)} \\right)} + \\left(- \\sin{\\left(\\eta_{x1}{\\left(t \\right)} \\right)} \\cos{\\left(\\gamma_{x1}{\\left(t \\right)} \\right)} - \\sin{\\left(\\gamma_{x1}{\\left(t \\right)} \\right)} \\cos{\\left(\\eta_{x1}{\\left(t \\right)} \\right)}\\right) \\cos{\\left(\\beta_{x1}{\\left(t \\right)} \\right)}\\right) \\cos{\\left(\\alpha_{x1}{\\left(t \\right)} \\right)} - \\left(\\left(- \\sin{\\left(\\eta_{x1}{\\left(t \\right)} \\right)} \\sin{\\left(\\gamma_{x1}{\\left(t \\right)} \\right)} + \\cos{\\left(\\eta_{x1}{\\left(t \\right)} \\right)} \\cos{\\left(\\gamma_{x1}{\\left(t \\right)} \\right)}\\right) \\cos{\\left(\\beta_{x1}{\\left(t \\right)} \\right)} + \\left(- \\sin{\\left(\\eta_{x1}{\\left(t \\right)} \\right)} \\cos{\\left(\\gamma_{x1}{\\left(t \\right)} \\right)} - \\sin{\\left(\\gamma_{x1}{\\left(t \\right)} \\right)} \\cos{\\left(\\eta_{x1}{\\left(t \\right)} \\right)}\\right) \\sin{\\left(\\beta_{x1}{\\left(t \\right)} \\right)}\\right) \\sin{\\left(\\alpha_{x1}{\\left(t \\right)} \\right)}\\right) \\left(- d_{1} - d_{2} - d_{3} - q_{2}{\\left(t \\right)} - q_{3}{\\left(t \\right)}\\right)\\end{matrix}\\right]$"
          },
          "metadata": {},
          "execution_count": 272
        }
      ]
    },
    {
      "cell_type": "code",
      "source": [
        "X1.pos_from(O).express(N_b).subs({beta_x1:0})"
      ],
      "metadata": {
        "colab": {
          "base_uri": "https://localhost:8080/",
          "height": 39
        },
        "id": "5zbm6FgkfTIL",
        "outputId": "3589dda3-4b8a-40cc-f49a-6d9dafdc23b0"
      },
      "execution_count": 277,
      "outputs": [
        {
          "output_type": "execute_result",
          "data": {
            "text/plain": [
              "((-d1 - q2(t))*cos(alpha_x1(t)) + q1(t)*sin(alpha_x1(t)))*N_b.y + (-(-d1 - q2(t))*sin(alpha_x1(t)) + q1(t)*cos(alpha_x1(t)))*N_b.z"
            ],
            "text/latex": "$\\displaystyle (\\left(- d_{1} - q_{2}{\\left(t \\right)}\\right) \\cos{\\left(\\alpha_{x1}{\\left(t \\right)} \\right)} + q_{1}{\\left(t \\right)} \\sin{\\left(\\alpha_{x1}{\\left(t \\right)} \\right)})\\mathbf{\\hat{n_b}_y} + (- \\left(- d_{1} - q_{2}{\\left(t \\right)}\\right) \\sin{\\left(\\alpha_{x1}{\\left(t \\right)} \\right)} + q_{1}{\\left(t \\right)} \\cos{\\left(\\alpha_{x1}{\\left(t \\right)} \\right)})\\mathbf{\\hat{n_b}_z}$"
          },
          "metadata": {},
          "execution_count": 277
        }
      ]
    },
    {
      "cell_type": "code",
      "source": [],
      "metadata": {
        "id": "3X511dyvfbgn"
      },
      "execution_count": null,
      "outputs": []
    }
  ]
}