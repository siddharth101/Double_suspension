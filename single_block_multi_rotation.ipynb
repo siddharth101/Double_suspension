{
  "cells": [
    {
      "cell_type": "markdown",
      "metadata": {
        "id": "view-in-github",
        "colab_type": "text"
      },
      "source": [
        "<a href=\"https://colab.research.google.com/github/siddharth101/Double_suspension/blob/main/single_block_multi_rotation.ipynb\" target=\"_parent\"><img src=\"https://colab.research.google.com/assets/colab-badge.svg\" alt=\"Open In Colab\"/></a>"
      ]
    },
    {
      "cell_type": "code",
      "execution_count": 272,
      "metadata": {
        "id": "31s8NxspXsam"
      },
      "outputs": [],
      "source": [
        "from sympy import zeros, symbols\n",
        "from sympy import eye, Matrix\n",
        "import sympy.physics.mechanics as me\n",
        "from sympy import expand\n",
        "from sympy.parsing.sympy_parser import parse_expr\n",
        "from sympy.physics.mechanics import Body, PinJoint, PrismaticJoint, JointsMethod, inertia\n",
        "from sympy.physics.mechanics import dynamicsymbols\n",
        "from sympy.physics.mechanics import dynamicsymbols, ReferenceFrame, outer\n",
        "from sympy.physics.mechanics import ReferenceFrame, Point, RigidBody\n",
        "from sympy.physics.mechanics import kinetic_energy, potential_energy, Point, Particle\n",
        "\n",
        "import sympy as smp\n",
        "import numpy as np\n",
        "import matplotlib.pyplot as plt\n",
        "\n",
        "smp.init_printing(use_latex='mathjax')"
      ]
    },
    {
      "cell_type": "code",
      "execution_count": null,
      "metadata": {
        "id": "D79AzTt8tlTj"
      },
      "outputs": [],
      "source": [
        "def pos_vectors(point1, point2, frame):\n",
        "\n",
        "    pos_vec = point1.pos_from(point2).express(frame)\n",
        "\n",
        "    return pos_vec"
      ]
    },
    {
      "cell_type": "code",
      "execution_count": 279,
      "metadata": {
        "id": "MjY9VzVgXygj"
      },
      "outputs": [],
      "source": [
        "T1, T2, T3, T4 = symbols('T1 T2 T3 T4')\n",
        "\n",
        "\n",
        "M1, d, d1, d2, w1, w2, n1, ixx1, iyy1, izz1, ixy1, iyz1, ixz1, g, k, t = symbols('M1 d d1 d2 w1 w2 n1 ixx1 iyy1 izz1 ixy1 iyz1 ixz1 g k t')\n",
        "\n",
        "q1, q2, q3, q4, q5, q6, q7 = dynamicsymbols('q1 q2 q3 q4 q5 q6 q7')\n",
        "u1, u2, u3, u4, u5, u6, u7 = dynamicsymbols('u1 u2 u3 u4 u5 u6 u7')\n",
        "\n",
        "x_x0, x_y0, x_z0, x_x1, x_y1, x_z1, x_x2, x_y2, x_z2 = dynamicsymbols('x_x0, x_y0, x_z0, x_x1, x_y1, x_z1, x_x2, x_y2, x_z2')\n",
        "\n",
        "\n",
        "psi, gamma, theta = dynamicsymbols('psi gamma theta')\n",
        "\n",
        "alpha_x1, alpha_x2,  = dynamicsymbols('alpha_x1, alpha_x2')\n",
        "beta_x1, beta_x2 = dynamicsymbols('beta_x1 beta_x2')\n",
        "#beta_x1, beta_x2 = symbols('beta_x1 beta_x2')\n",
        "\n",
        "alpha_y1, alpha_y2 = dynamicsymbols('alpha_y1, alpha_y2')\n",
        "beta_y1, beta_y2 = dynamicsymbols('beta_y1 beta_y2')\n",
        "#beta_y1, beta_y2 = symbols('beta_y1 beta_y2')\n",
        "\n",
        "#alpha_z1, alpha_z2 = dynamicsymbols('alpha_z1 alpha_z2')\n",
        "alpha_z1, alpha_z2 = symbols('alpha_z1 alpha_z2')\n",
        "#beta_z1, beta_z2  = dynamicsymbols('beta_z1 beta_z2')\n",
        "beta_z1, beta_z2  = symbols('beta_z1 beta_z2')\n",
        "\n",
        "#omega_x1, omega_x2,  omega_y1, omega_y2, omega_z1, omega_z2 = symbols('omega_x1, omega_x2, omega_y1, omega_y2, omega_z1, omega_z2')\n",
        "omega_x1, omega_x2 = dynamicsymbols('omega_x1, omega_x2')\n",
        "omega_y1, omega_y2 = dynamicsymbols('omega_y1, omega_y2')\n",
        "#omega_z1, omega_z2 = dynamicsymbols('omega_z1, omega_z2')\n",
        "\n",
        "omega_z1, omega_z2 = symbols('omega_z1 omega_z2')\n"
      ]
    },
    {
      "cell_type": "code",
      "execution_count": 331,
      "metadata": {
        "id": "W_h3AfWiYQxu"
      },
      "outputs": [],
      "source": [
        "N = ReferenceFrame('N') # this is the global frame\n",
        "N_a = ReferenceFrame('N_a') # this is the  frame of suspension point\n",
        "A = ReferenceFrame('A') # this is the frame of the body\n",
        "B = ReferenceFrame('B') # this is the frame of the body\n",
        "\n",
        "A.orient_axis(N, 0, N.z) # Initially A and N are parallel\n",
        "B.orient_axis(N, 0, N.z) # Initially B and N are parallel\n",
        "N_a.orient_axis(N, 0, N.z) # Initially N and N_a are parallel"
      ]
    },
    {
      "cell_type": "code",
      "execution_count": 332,
      "metadata": {
        "id": "KdtakZEwYVxG"
      },
      "outputs": [],
      "source": [
        "O = Point('O')\n",
        "P = Point('P')\n",
        "P1 = Point('P1')\n",
        "P2 = Point('P2')\n",
        "P3 = Point('P3')\n",
        "P4 = Point('P4')\n",
        "X1 = Point('X1')\n",
        "B1 = Point('B1')\n",
        "B2 = Point('B2')\n",
        "B3 = Point('B3')\n",
        "B4 = Point('B4')\n",
        "\n",
        "\n",
        "X1a = Point('X1a')\n",
        "B1a = Point('B1a')\n",
        "B2a = Point('B2a')\n",
        "B3a = Point('B3a')\n",
        "B4a = Point('B4a')\n"
      ]
    },
    {
      "cell_type": "code",
      "execution_count": 333,
      "metadata": {
        "id": "pUZTzXHOYgx_"
      },
      "outputs": [],
      "source": [
        "P.set_pos(O, q1*N.x + q2*N.y )#+ q3*N.z)\n",
        "X1.set_pos(O,  q1*N.x + q2*N.y -q4*N.z) # COM\n",
        "\n",
        "### Bs are attachment point on the block\n",
        "B1.set_pos(X1, w1*A.x +  d1*A.z - n1*A.y)\n",
        "B2.set_pos(X1, w1*A.x +  d1*A.z + n1*A.y)\n",
        "B3.set_pos(X1, -w1*A.x + d1*A.z - n1*A.y)\n",
        "B4.set_pos(X1, -w1*A.x + d1*A.z + n1*A.y)\n",
        "\n",
        "### Ps are points on the cieling\n",
        "P1.set_pos(P, w1*N_a.x - n1*N_a.y) #+ d*N_a.z)\n",
        "P2.set_pos(P, w1*N_a.x + n1*N_a.y) #+ d*N_a.z)\n",
        "P3.set_pos(P, -w1*N_a.x - n1*N_a.y) # + d*N_a.z)\n",
        "P4.set_pos(P, -w1*N_a.x + n1*N_a.y) # + d*N_a.z)"
      ]
    },
    {
      "cell_type": "code",
      "execution_count": 334,
      "metadata": {
        "id": "e7SQrI1lYkjE"
      },
      "outputs": [],
      "source": [
        "### Lets now translate the body 1 longitudinal, transverse and vertical\n",
        "#X1a.set_pos(O, - (q4 + x_z1)*N.z + (q2 + x_y1)*N.y +(q1 + x_x1)*N.x)\n",
        "X1a.set_pos(O, (q1 + (x_x1 - x_x0))*N.x + q2*N.y - q4*N.z) # Moving COM by x_x1 - x_x0\n",
        "\n",
        "B1a.set_pos(X1a, w1*A.x +  d1*A.z - n1*A.y)\n",
        "B2a.set_pos(X1a, w1*A.x +  d1*A.z + n1*A.y)\n",
        "B3a.set_pos(X1a, -w1*A.x + d1*A.z - n1*A.y)\n",
        "B4a.set_pos(X1a, -w1*A.x + d1*A.z + n1*A.y)"
      ]
    },
    {
      "cell_type": "code",
      "execution_count": 335,
      "metadata": {
        "colab": {
          "base_uri": "https://localhost:8080/",
          "height": 39
        },
        "id": "Z0WMI__Dtn4f",
        "outputId": "20d11252-594b-4c0d-a9f6-d44d5e4acae9"
      },
      "outputs": [
        {
          "output_type": "execute_result",
          "data": {
            "text/plain": [
              "(-xₓ₀(t) + xₓ₁(t)) n_x + (d₁ - q₄(t)) n_z"
            ],
            "text/latex": "$\\displaystyle (- x_{x0}{\\left(t \\right)} + x_{x1}{\\left(t \\right)})\\mathbf{\\hat{n}_x} + (d_{1} - q_{4}{\\left(t \\right)})\\mathbf{\\hat{n}_z}$"
          },
          "metadata": {},
          "execution_count": 335
        }
      ],
      "source": [
        "pos_vectors(B1a, P1, N)"
      ]
    },
    {
      "cell_type": "code",
      "execution_count": 336,
      "metadata": {
        "id": "VETVkISTYxMb"
      },
      "outputs": [],
      "source": [
        "#A.orient_body_fixed(N, (-(alpha_x1 - beta_x1), -(alpha_y1 - beta_y1), 0), 'xyz')\n",
        "#A.orient_body_fixed(N, (psi, gamma, 0), 'xyz')\n",
        "#A.orient_body_fixed(N, (0, gamma, 0), 'xyz')\n",
        "A.orient_body_fixed(N, (0, (alpha_y1 - beta_y1), 0), 'xyz') # rotating along y axis by angle alpha_y1 - beta_y1"
      ]
    },
    {
      "cell_type": "code",
      "execution_count": 337,
      "metadata": {
        "colab": {
          "base_uri": "https://localhost:8080/",
          "height": 78
        },
        "id": "MW8i4jTJY9X-",
        "outputId": "c954bad4-376b-41f4-d79d-b21df201c870"
      },
      "outputs": [
        {
          "output_type": "execute_result",
          "data": {
            "text/plain": [
              "⎡cos(α_y1(t) - β_y1(t))  0  -sin(α_y1(t) - β_y1(t))⎤\n",
              "⎢                                                  ⎥\n",
              "⎢          0             1             0           ⎥\n",
              "⎢                                                  ⎥\n",
              "⎣sin(α_y1(t) - β_y1(t))  0  cos(α_y1(t) - β_y1(t)) ⎦"
            ],
            "text/latex": "$\\displaystyle \\left[\\begin{matrix}\\cos{\\left(\\alpha_{y1}{\\left(t \\right)} - \\beta_{y1}{\\left(t \\right)} \\right)} & 0 & - \\sin{\\left(\\alpha_{y1}{\\left(t \\right)} - \\beta_{y1}{\\left(t \\right)} \\right)}\\\\0 & 1 & 0\\\\\\sin{\\left(\\alpha_{y1}{\\left(t \\right)} - \\beta_{y1}{\\left(t \\right)} \\right)} & 0 & \\cos{\\left(\\alpha_{y1}{\\left(t \\right)} - \\beta_{y1}{\\left(t \\right)} \\right)}\\end{matrix}\\right]$"
          },
          "metadata": {},
          "execution_count": 337
        }
      ],
      "source": [
        "A.dcm(N)"
      ]
    },
    {
      "cell_type": "code",
      "execution_count": 338,
      "metadata": {
        "id": "jB5Qn_mQY-H0"
      },
      "outputs": [],
      "source": [
        "### Position vectors of B1a and B2a wrt P1 in N frame\n",
        "B1a_p1nf = B1a.pos_from(P1).express(N)\n",
        "B2a_p2nf = B2a.pos_from(P2).express(N)\n",
        "\n",
        "### Position vectors of B1a and B2a wrt P1 in A frame\n",
        "B1a_p1af = B1a.pos_from(P1).express(A)\n",
        "B2a_p2af = B2a.pos_from(P2).express(A)"
      ]
    },
    {
      "cell_type": "code",
      "execution_count": 339,
      "metadata": {
        "id": "wP6BB1W1Zbin"
      },
      "outputs": [],
      "source": [
        "### Tension in A frame is along the vectors B1a-P1 and B2a-P2\n",
        "dirT1af = -B1a_p1af/B1a_p1af.magnitude()\n",
        "dirT2af = -B2a_p2af/B2a_p2af.magnitude()\n",
        "\n",
        "dirT1nf = -B1a_p1nf/B1a_p1nf.magnitude()\n",
        "dirT2nf = -B2a_p2nf/B2a_p2nf.magnitude()"
      ]
    },
    {
      "cell_type": "code",
      "execution_count": 341,
      "metadata": {
        "colab": {
          "base_uri": "https://localhost:8080/",
          "height": 124
        },
        "id": "H1FHuJCXaA7r",
        "outputId": "a75140a1-6d9f-48b1-82e5-01a0580f8840"
      },
      "outputs": [
        {
          "output_type": "execute_result",
          "data": {
            "text/plain": [
              "                                     -d₁⋅sin(α_y1(t) - β_y1(t)) - w₁⋅cos(α_y1(\n",
              "──────────────────────────────────────────────────────────────────────────────\n",
              "   ___________________________________________________________________________\n",
              "  ╱                                                                2\n",
              "╲╱  (d₁⋅cos(α_y1(t) - β_y1(t)) - w₁⋅sin(α_y1(t) - β_y1(t)) - q₄(t))  + (d₁⋅sin\n",
              "\n",
              "t) - β_y1(t)) + w₁ + xₓ₀(t) - xₓ₁(t)\n",
              "───────────────────────────────────────────────────────────────────────── n_x\n",
              "_________________________________________________________________________\n",
              "                                                                       2\n",
              "(α_y1(t) - β_y1(t)) + w₁⋅cos(α_y1(t) - β_y1(t)) - w₁ - xₓ₀(t) + xₓ₁(t))\n",
              "\n",
              "                                               -d₁⋅cos(α_y1(t) - β_y1(t)) + w₁\n",
              "+ ────────────────────────────────────────────────────────────────────────────\n",
              "     _________________________________________________________________________\n",
              "    ╱                                                                2\n",
              "  ╲╱  (d₁⋅cos(α_y1(t) - β_y1(t)) - w₁⋅sin(α_y1(t) - β_y1(t)) - q₄(t))  + (d₁⋅s\n",
              "\n",
              "⋅sin(α_y1(t) - β_y1(t)) + q₄(t)\n",
              "─────────────────────────────────────────────────────────────────────────── n_\n",
              "___________________________________________________________________________\n",
              "                                                                         2\n",
              "in(α_y1(t) - β_y1(t)) + w₁⋅cos(α_y1(t) - β_y1(t)) - w₁ - xₓ₀(t) + xₓ₁(t))\n",
              "\n",
              "\n",
              "z\n",
              "\n",
              "\n"
            ],
            "text/latex": "$\\displaystyle \\frac{- d_{1} \\sin{\\left(\\alpha_{y1}{\\left(t \\right)} - \\beta_{y1}{\\left(t \\right)} \\right)} - w_{1} \\cos{\\left(\\alpha_{y1}{\\left(t \\right)} - \\beta_{y1}{\\left(t \\right)} \\right)} + w_{1} + x_{x0}{\\left(t \\right)} - x_{x1}{\\left(t \\right)}}{\\sqrt{\\left(d_{1} \\cos{\\left(\\alpha_{y1}{\\left(t \\right)} - \\beta_{y1}{\\left(t \\right)} \\right)} - w_{1} \\sin{\\left(\\alpha_{y1}{\\left(t \\right)} - \\beta_{y1}{\\left(t \\right)} \\right)} - q_{4}{\\left(t \\right)}\\right)^{2} + \\left(d_{1} \\sin{\\left(\\alpha_{y1}{\\left(t \\right)} - \\beta_{y1}{\\left(t \\right)} \\right)} + w_{1} \\cos{\\left(\\alpha_{y1}{\\left(t \\right)} - \\beta_{y1}{\\left(t \\right)} \\right)} - w_{1} - x_{x0}{\\left(t \\right)} + x_{x1}{\\left(t \\right)}\\right)^{2}}}\\mathbf{\\hat{n}_x} + \\frac{- d_{1} \\cos{\\left(\\alpha_{y1}{\\left(t \\right)} - \\beta_{y1}{\\left(t \\right)} \\right)} + w_{1} \\sin{\\left(\\alpha_{y1}{\\left(t \\right)} - \\beta_{y1}{\\left(t \\right)} \\right)} + q_{4}{\\left(t \\right)}}{\\sqrt{\\left(d_{1} \\cos{\\left(\\alpha_{y1}{\\left(t \\right)} - \\beta_{y1}{\\left(t \\right)} \\right)} - w_{1} \\sin{\\left(\\alpha_{y1}{\\left(t \\right)} - \\beta_{y1}{\\left(t \\right)} \\right)} - q_{4}{\\left(t \\right)}\\right)^{2} + \\left(d_{1} \\sin{\\left(\\alpha_{y1}{\\left(t \\right)} - \\beta_{y1}{\\left(t \\right)} \\right)} + w_{1} \\cos{\\left(\\alpha_{y1}{\\left(t \\right)} - \\beta_{y1}{\\left(t \\right)} \\right)} - w_{1} - x_{x0}{\\left(t \\right)} + x_{x1}{\\left(t \\right)}\\right)^{2}}}\\mathbf{\\hat{n}_z}$"
          },
          "metadata": {},
          "execution_count": 341
        }
      ],
      "source": [
        "\n",
        "dirT1nf"
      ]
    },
    {
      "cell_type": "code",
      "execution_count": 342,
      "metadata": {
        "id": "rpX9qckoaCb4"
      },
      "outputs": [],
      "source": [
        "### Creating a body of Mass M in frame A with COM X1a\n",
        "#IB = inertia(A, ixx1, iyy1, izz1, ixy1, ixz1, iyz1)\n",
        "#IB = inertia(A, ixx1, iyy1, izz1)\n",
        "IB = inertia(A, ixx1, iyy1, izz1, ixy=ixy1, iyz=iyz1, izx=ixz1)\n",
        "\n",
        "block = Body('B', X1a, mass=M1, frame=A, central_inertia=IB)\n",
        "#block.frame.set_ang_vel(N, omega_x1*N.x + omega_y1*N.y)\n",
        "block.frame.set_ang_vel(N, omega_y1*N.y)\n",
        "\n",
        "X1a.set_vel(N, u1*N.x + u2*N.y + u4*N.z)"
      ]
    },
    {
      "cell_type": "code",
      "execution_count": 343,
      "metadata": {
        "id": "zebCE46oampu"
      },
      "outputs": [],
      "source": [
        "delta_l1,delta_l2 =  smp.symbols('\\delta_l1 \\delta_l2')\n",
        "### Defining the tensions\n",
        "T1 = smp.Rational(1,2)*M1*g + k*delta_l1 #ext_1a_approx\n",
        "T2 = smp.Rational(1,2)*M1*g - k*delta_l2 #ext_2a_approx"
      ]
    },
    {
      "cell_type": "code",
      "execution_count": 344,
      "metadata": {
        "colab": {
          "base_uri": "https://localhost:8080/",
          "height": 150
        },
        "id": "NwHzYau-wr7G",
        "outputId": "72b27765-1aea-4b4d-ee08-473d20e9aec2"
      },
      "outputs": [
        {
          "output_type": "execute_result",
          "data": {
            "text/plain": [
              "                          ⎛M₁⋅g             ⎞\n",
              "                          ⎜──── + \\deltaₗ₁⋅k⎟⋅(-d₁⋅sin(α_y1(t) - β_y1(t)) - w₁\n",
              "                          ⎝ 2               ⎠\n",
              "──────────────────────────────────────────────────────────────────────────────\n",
              "   ___________________________________________________________________________\n",
              "  ╱                                                                2\n",
              "╲╱  (d₁⋅cos(α_y1(t) - β_y1(t)) - w₁⋅sin(α_y1(t) - β_y1(t)) - q₄(t))  + (d₁⋅sin\n",
              "\n",
              "\n",
              "⋅cos(α_y1(t) - β_y1(t)) + w₁ + xₓ₀(t) - xₓ₁(t))\n",
              "\n",
              "───────────────────────────────────────────────────────────────────────── n_x\n",
              "_________________________________________________________________________\n",
              "                                                                       2\n",
              "(α_y1(t) - β_y1(t)) + w₁⋅cos(α_y1(t) - β_y1(t)) - w₁ - xₓ₀(t) + xₓ₁(t))\n",
              "\n",
              "                                    ⎛M₁⋅g             ⎞\n",
              "                                    ⎜──── + \\deltaₗ₁⋅k⎟⋅(-d₁⋅cos(α_y1(t) - β_y\n",
              "                                    ⎝ 2               ⎠\n",
              "+ ────────────────────────────────────────────────────────────────────────────\n",
              "     _________________________________________________________________________\n",
              "    ╱                                                                2\n",
              "  ╲╱  (d₁⋅cos(α_y1(t) - β_y1(t)) - w₁⋅sin(α_y1(t) - β_y1(t)) - q₄(t))  + (d₁⋅s\n",
              "\n",
              "\n",
              "1(t)) + w₁⋅sin(α_y1(t) - β_y1(t)) + q₄(t))\n",
              "\n",
              "─────────────────────────────────────────────────────────────────────────── n_\n",
              "___________________________________________________________________________\n",
              "                                                                         2\n",
              "in(α_y1(t) - β_y1(t)) + w₁⋅cos(α_y1(t) - β_y1(t)) - w₁ - xₓ₀(t) + xₓ₁(t))\n",
              "\n",
              "\n",
              "\n",
              "\n",
              "z\n",
              "\n",
              "\n"
            ],
            "text/latex": "$\\displaystyle \\frac{\\left(\\frac{M_{1} g}{2} + \\delta_{l1} k\\right) \\left(- d_{1} \\sin{\\left(\\alpha_{y1}{\\left(t \\right)} - \\beta_{y1}{\\left(t \\right)} \\right)} - w_{1} \\cos{\\left(\\alpha_{y1}{\\left(t \\right)} - \\beta_{y1}{\\left(t \\right)} \\right)} + w_{1} + x_{x0}{\\left(t \\right)} - x_{x1}{\\left(t \\right)}\\right)}{\\sqrt{\\left(d_{1} \\cos{\\left(\\alpha_{y1}{\\left(t \\right)} - \\beta_{y1}{\\left(t \\right)} \\right)} - w_{1} \\sin{\\left(\\alpha_{y1}{\\left(t \\right)} - \\beta_{y1}{\\left(t \\right)} \\right)} - q_{4}{\\left(t \\right)}\\right)^{2} + \\left(d_{1} \\sin{\\left(\\alpha_{y1}{\\left(t \\right)} - \\beta_{y1}{\\left(t \\right)} \\right)} + w_{1} \\cos{\\left(\\alpha_{y1}{\\left(t \\right)} - \\beta_{y1}{\\left(t \\right)} \\right)} - w_{1} - x_{x0}{\\left(t \\right)} + x_{x1}{\\left(t \\right)}\\right)^{2}}}\\mathbf{\\hat{n}_x} + \\frac{\\left(\\frac{M_{1} g}{2} + \\delta_{l1} k\\right) \\left(- d_{1} \\cos{\\left(\\alpha_{y1}{\\left(t \\right)} - \\beta_{y1}{\\left(t \\right)} \\right)} + w_{1} \\sin{\\left(\\alpha_{y1}{\\left(t \\right)} - \\beta_{y1}{\\left(t \\right)} \\right)} + q_{4}{\\left(t \\right)}\\right)}{\\sqrt{\\left(d_{1} \\cos{\\left(\\alpha_{y1}{\\left(t \\right)} - \\beta_{y1}{\\left(t \\right)} \\right)} - w_{1} \\sin{\\left(\\alpha_{y1}{\\left(t \\right)} - \\beta_{y1}{\\left(t \\right)} \\right)} - q_{4}{\\left(t \\right)}\\right)^{2} + \\left(d_{1} \\sin{\\left(\\alpha_{y1}{\\left(t \\right)} - \\beta_{y1}{\\left(t \\right)} \\right)} + w_{1} \\cos{\\left(\\alpha_{y1}{\\left(t \\right)} - \\beta_{y1}{\\left(t \\right)} \\right)} - w_{1} - x_{x0}{\\left(t \\right)} + x_{x1}{\\left(t \\right)}\\right)^{2}}}\\mathbf{\\hat{n}_z}$"
          },
          "metadata": {},
          "execution_count": 344
        }
      ],
      "source": [
        "T1*dirT1nf.subs({psi:0, gamma:0})"
      ]
    },
    {
      "cell_type": "code",
      "execution_count": 345,
      "metadata": {
        "id": "CVWUi24LatJ2"
      },
      "outputs": [],
      "source": [
        "\n",
        "block.apply_force(T1*dirT1nf, point=B1a)\n",
        "block.apply_force(T2*dirT2nf, point= B2a)\n",
        "\n",
        "block.apply_force(-M1*g*N.z.express(A), point = X1a)"
      ]
    },
    {
      "cell_type": "code",
      "execution_count": 346,
      "metadata": {
        "colab": {
          "base_uri": "https://localhost:8080/"
        },
        "id": "LOYZlaDyfgyB",
        "outputId": "d4dc28d2-cc63-4080-a819-0eb14828e12b"
      },
      "outputs": [
        {
          "output_type": "execute_result",
          "data": {
            "text/plain": [
              "[(B1a,\n",
              "  (M1*g/2 + \\delta_l1*k)*(-d1*sin(alpha_y1(t) - beta_y1(t)) - w1*cos(alpha_y1(t) - beta_y1(t)) + w1 + x_x0(t) - x_x1(t))/sqrt((d1*cos(alpha_y1(t) - beta_y1(t)) - w1*sin(alpha_y1(t) - beta_y1(t)) - q4(t))**2 + (d1*sin(alpha_y1(t) - beta_y1(t)) + w1*cos(alpha_y1(t) - beta_y1(t)) - w1 - x_x0(t) + x_x1(t))**2)*N.x + (M1*g/2 + \\delta_l1*k)*(-d1*cos(alpha_y1(t) - beta_y1(t)) + w1*sin(alpha_y1(t) - beta_y1(t)) + q4(t))/sqrt((d1*cos(alpha_y1(t) - beta_y1(t)) - w1*sin(alpha_y1(t) - beta_y1(t)) - q4(t))**2 + (d1*sin(alpha_y1(t) - beta_y1(t)) + w1*cos(alpha_y1(t) - beta_y1(t)) - w1 - x_x0(t) + x_x1(t))**2)*N.z),\n",
              " (B2a,\n",
              "  (M1*g/2 - \\delta_l2*k)*(-d1*sin(alpha_y1(t) - beta_y1(t)) - w1*cos(alpha_y1(t) - beta_y1(t)) + w1 + x_x0(t) - x_x1(t))/sqrt((d1*cos(alpha_y1(t) - beta_y1(t)) - w1*sin(alpha_y1(t) - beta_y1(t)) - q4(t))**2 + (d1*sin(alpha_y1(t) - beta_y1(t)) + w1*cos(alpha_y1(t) - beta_y1(t)) - w1 - x_x0(t) + x_x1(t))**2)*N.x + (M1*g/2 - \\delta_l2*k)*(-d1*cos(alpha_y1(t) - beta_y1(t)) + w1*sin(alpha_y1(t) - beta_y1(t)) + q4(t))/sqrt((d1*cos(alpha_y1(t) - beta_y1(t)) - w1*sin(alpha_y1(t) - beta_y1(t)) - q4(t))**2 + (d1*sin(alpha_y1(t) - beta_y1(t)) + w1*cos(alpha_y1(t) - beta_y1(t)) - w1 - x_x0(t) + x_x1(t))**2)*N.z),\n",
              " (X1a,\n",
              "  M1*g*sin(alpha_y1(t) - beta_y1(t))*A.x - M1*g*cos(alpha_y1(t) - beta_y1(t))*A.z)]"
            ]
          },
          "metadata": {},
          "execution_count": 346
        }
      ],
      "source": [
        "block.loads"
      ]
    },
    {
      "cell_type": "code",
      "execution_count": 347,
      "metadata": {
        "id": "wnuR_DG1a7TE"
      },
      "outputs": [],
      "source": [
        "# kane = me.KanesMethod(N, q_ind=[psi, gamma, x_x1, x_y1, x_z1],\n",
        "\n",
        "#                       u_ind = [omega_x1, omega_y1, u1, u2,  u4],\n",
        "\n",
        "#                       kd_eqs=[omega_x1 - psi.diff(t),\n",
        "#                               omega_y1 - gamma.diff(t), u1 - x_x1.diff(t), u2 - x_y1.diff(t), u4-x_z1.diff(t),\n",
        "#                               ])\n",
        "\n",
        "# kane = me.KanesMethod(N, q_ind=[alpha_x1, alpha_y1, x_x1, q2, q4],\n",
        "\n",
        "#                       u_ind = [omega_x1, omega_y1, u1, u2,  u4],\n",
        "\n",
        "#                       kd_eqs=[omega_x1 - alpha_x1.diff(t),\n",
        "#                               omega_y1 - alpha_y1.diff(t), u1 - x_x1.diff(t), u2 - q2.diff(t), u4+q4.diff(t),\n",
        "#                               ])\n",
        "\n",
        "# kane = me.KanesMethod(N, q_ind=[psi, gamma, x_x1, q2, q4],\n",
        "\n",
        "#                       u_ind = [omega_x1, omega_y1, u1, u2,  u4],\n",
        "\n",
        "#                       kd_eqs=[omega_x1 - psi.diff(t),\n",
        "#                               omega_y1 - gamma.diff(t), u1 - x_x1.diff(t), u2 - q2.diff(t), u4+q4.diff(t),\n",
        "#                               ])\n",
        "\n",
        "# kane = me.KanesMethod(N, q_ind=[gamma, x_x1, q4],\n",
        "\n",
        "#                       u_ind = [omega_y1, u1, u4],\n",
        "\n",
        "#                       kd_eqs=[\n",
        "#                               omega_y1 - gamma.diff(t), u1 - x_x1.diff(t), u4 + q4.diff(t),\n",
        "#                               ])\n",
        "\n",
        "\n",
        "kane = me.KanesMethod(N, q_ind=[alpha_y1, x_x1, q4],\n",
        "\n",
        "                      u_ind = [omega_y1, u1, u4],\n",
        "\n",
        "                      kd_eqs=[\n",
        "                              omega_y1 - alpha_y1.diff(t), u1 - x_x1.diff(t), u4 + q4.diff(t),\n",
        "                              ])\n",
        "\n",
        "kaneeq = kane.kanes_equations([block], block.loads)"
      ]
    },
    {
      "cell_type": "code",
      "execution_count": 348,
      "metadata": {
        "colab": {
          "base_uri": "https://localhost:8080/",
          "height": 80
        },
        "id": "7ht1PoljUAfQ",
        "outputId": "2d75e74e-1df2-4ece-dfe8-ed80294c6917"
      },
      "outputs": [
        {
          "output_type": "execute_result",
          "data": {
            "text/plain": [
              "⎡      d          ⎤\n",
              "⎢-iyy₁⋅──(ω_y1(t))⎥\n",
              "⎢      dt         ⎥\n",
              "⎢                 ⎥\n",
              "⎢      d          ⎥\n",
              "⎢  -M₁⋅──(u₁(t))  ⎥\n",
              "⎢      dt         ⎥\n",
              "⎢                 ⎥\n",
              "⎢      d          ⎥\n",
              "⎢  -M₁⋅──(u₄(t))  ⎥\n",
              "⎣      dt         ⎦"
            ],
            "text/latex": "$\\displaystyle \\left[\\begin{matrix}- iyy_{1} \\frac{d}{d t} \\omega_{y1}{\\left(t \\right)}\\\\- M_{1} \\frac{d}{d t} u_{1}{\\left(t \\right)}\\\\- M_{1} \\frac{d}{d t} u_{4}{\\left(t \\right)}\\end{matrix}\\right]$"
          },
          "metadata": {},
          "execution_count": 348
        }
      ],
      "source": [
        "kaneeq[1]"
      ]
    },
    {
      "cell_type": "code",
      "execution_count": 426,
      "metadata": {
        "id": "1RsruMixUGa0"
      },
      "outputs": [],
      "source": [
        "#kaneeq[0][0]"
      ]
    },
    {
      "cell_type": "code",
      "execution_count": 427,
      "metadata": {
        "colab": {
          "base_uri": "https://localhost:8080/",
          "height": 78
        },
        "id": "VAaLM77jdWYn",
        "outputId": "6b337f18-c3fc-4920-f11b-0b21c30a5fe0"
      },
      "outputs": [
        {
          "output_type": "execute_result",
          "data": {
            "text/plain": [
              "⎡α_y1(t)⎤\n",
              "⎢       ⎥\n",
              "⎢xₓ₁(t) ⎥\n",
              "⎢       ⎥\n",
              "⎣ q₄(t) ⎦"
            ],
            "text/latex": "$\\displaystyle \\left[\\begin{matrix}\\alpha_{y1}{\\left(t \\right)}\\\\x_{x1}{\\left(t \\right)}\\\\q_{4}{\\left(t \\right)}\\end{matrix}\\right]$"
          },
          "metadata": {},
          "execution_count": 427
        }
      ],
      "source": [
        "kane.q"
      ]
    },
    {
      "cell_type": "code",
      "execution_count": 428,
      "metadata": {
        "colab": {
          "base_uri": "https://localhost:8080/",
          "height": 78
        },
        "id": "XX8idI-GfNe3",
        "outputId": "0540301f-d1a1-42f0-f140-75bf2b85e29c"
      },
      "outputs": [
        {
          "output_type": "execute_result",
          "data": {
            "text/plain": [
              "⎡ω_y1(t)⎤\n",
              "⎢       ⎥\n",
              "⎢ u₁(t) ⎥\n",
              "⎢       ⎥\n",
              "⎣ u₄(t) ⎦"
            ],
            "text/latex": "$\\displaystyle \\left[\\begin{matrix}\\omega_{y1}{\\left(t \\right)}\\\\u_{1}{\\left(t \\right)}\\\\u_{4}{\\left(t \\right)}\\end{matrix}\\right]$"
          },
          "metadata": {},
          "execution_count": 428
        }
      ],
      "source": [
        "kane.u"
      ]
    },
    {
      "cell_type": "code",
      "execution_count": 429,
      "metadata": {
        "colab": {
          "base_uri": "https://localhost:8080/",
          "height": 78
        },
        "id": "zQolEYJwhC41",
        "outputId": "9a9f1ffe-6b2e-44d2-ee48-406541d606a1"
      },
      "outputs": [
        {
          "output_type": "execute_result",
          "data": {
            "text/plain": [
              "⎡iyy₁  0   0 ⎤\n",
              "⎢            ⎥\n",
              "⎢ 0    M₁  0 ⎥\n",
              "⎢            ⎥\n",
              "⎣ 0    0   M₁⎦"
            ],
            "text/latex": "$\\displaystyle \\left[\\begin{matrix}iyy_{1} & 0 & 0\\\\0 & M_{1} & 0\\\\0 & 0 & M_{1}\\end{matrix}\\right]$"
          },
          "metadata": {},
          "execution_count": 429
        }
      ],
      "source": [
        "kane.mass_matrix"
      ]
    },
    {
      "cell_type": "code",
      "execution_count": 430,
      "metadata": {
        "colab": {
          "base_uri": "https://localhost:8080/",
          "height": 39
        },
        "id": "C76CNTnglVY9",
        "outputId": "7ed69762-d979-4f75-ff69-8a0224a6a7c6"
      },
      "outputs": [
        {
          "output_type": "execute_result",
          "data": {
            "text/plain": [
              "M₁"
            ],
            "text/latex": "$\\displaystyle M_{1}$"
          },
          "metadata": {},
          "execution_count": 430
        }
      ],
      "source": [
        "kane.mass_matrix[1,1]"
      ]
    },
    {
      "cell_type": "code",
      "execution_count": 431,
      "metadata": {
        "id": "G21BYbOwfOec"
      },
      "outputs": [],
      "source": [
        "kanel = kane.to_linearizer()"
      ]
    },
    {
      "cell_type": "code",
      "execution_count": 432,
      "metadata": {
        "colab": {
          "base_uri": "https://localhost:8080/",
          "height": 78
        },
        "id": "GWeTKG_Gitmy",
        "outputId": "e817cf5c-08d6-401d-c6bb-3c0e931b79be"
      },
      "outputs": [
        {
          "output_type": "execute_result",
          "data": {
            "text/plain": [
              "⎡iyy₁  0   0 ⎤\n",
              "⎢            ⎥\n",
              "⎢ 0    M₁  0 ⎥\n",
              "⎢            ⎥\n",
              "⎣ 0    0   M₁⎦"
            ],
            "text/latex": "$\\displaystyle \\left[\\begin{matrix}iyy_{1} & 0 & 0\\\\0 & M_{1} & 0\\\\0 & 0 & M_{1}\\end{matrix}\\right]$"
          },
          "metadata": {},
          "execution_count": 432
        }
      ],
      "source": [
        "kane._k_d"
      ]
    },
    {
      "cell_type": "code",
      "execution_count": 433,
      "metadata": {
        "colab": {
          "base_uri": "https://localhost:8080/",
          "height": 58
        },
        "id": "joMaREjKfV8X",
        "outputId": "4b10688f-8754-4f69-8553-4efeb0edff56"
      },
      "outputs": [
        {
          "output_type": "execute_result",
          "data": {
            "text/plain": [
              "⎡β_y1(t)⎤\n",
              "⎢       ⎥\n",
              "⎣xₓ₀(t) ⎦"
            ],
            "text/latex": "$\\displaystyle \\left[\\begin{matrix}\\beta_{y1}{\\left(t \\right)}\\\\x_{x0}{\\left(t \\right)}\\end{matrix}\\right]$"
          },
          "metadata": {},
          "execution_count": 433
        }
      ],
      "source": [
        "kanel.r"
      ]
    },
    {
      "cell_type": "code",
      "execution_count": 435,
      "metadata": {
        "id": "HtVwq8nFod3A"
      },
      "outputs": [],
      "source": [
        "A, B = kanel.linearize(A_and_B=True, op_point={alpha_y1:beta_y1, x_x1:x_x0})"
      ]
    },
    {
      "cell_type": "code",
      "execution_count": 436,
      "metadata": {
        "colab": {
          "base_uri": "https://localhost:8080/",
          "height": 245
        },
        "id": "loAplAvfqLUR",
        "outputId": "970993a0-cea1-40e1-e781-8f1902884bc1"
      },
      "outputs": [
        {
          "output_type": "execute_result",
          "data": {
            "text/plain": [
              "⎡                                                                             \n",
              "⎢                                                                             \n",
              "⎢                                                                             \n",
              "⎢                                                                             \n",
              "⎢                                                                             \n",
              "⎢                                                                             \n",
              "⎢ ⎛     ⎛     ⎛M₁⋅g             ⎞                 ⎛M₁⋅g             ⎞⎞      ⎛ \n",
              "⎢ ⎜     ⎜  d₁⋅⎜──── + \\deltaₗ₁⋅k⎟   (-d₁ + q₄(t))⋅⎜──── + \\deltaₗ₁⋅k⎟⎟      ⎜ \n",
              "⎢ ⎜     ⎜     ⎝ 2               ⎠                 ⎝ 2               ⎠⎟      ⎜ \n",
              "⎢-⎜- d₁⋅⎜- ────────────────────── - ─────────────────────────────────⎟ - d₁⋅⎜-\n",
              "⎢ ⎜     ⎜       _______________                _______________       ⎟      ⎜ \n",
              "⎢ ⎜     ⎜      ╱             2                ╱             2        ⎟      ⎜ \n",
              "⎢ ⎝     ⎝    ╲╱  (d₁ - q₄(t))               ╲╱  (d₁ - q₄(t))         ⎠      ⎝ \n",
              "⎢─────────────────────────────────────────────────────────────────────────────\n",
              "⎢                                                                             \n",
              "⎢                                                                             \n",
              "⎢                                                                             \n",
              "⎢                                                                             \n",
              "⎢                                                                             \n",
              "⎢                                                                             \n",
              "⎢                                                                             \n",
              "⎢                                                                             \n",
              "⎢                                                                             \n",
              "⎢                                                                             \n",
              "⎢                                                                             \n",
              "⎢                                                                             \n",
              "⎢                                                                          ⎛  \n",
              "⎢                                                                          ⎜  \n",
              "⎢                                                                          ⎜  \n",
              "⎢                                                                         -⎜- \n",
              "⎢                                                                          ⎜  \n",
              "⎢                                                                          ⎜  \n",
              "⎢                                                                          ⎝  \n",
              "⎢                                                                         ────\n",
              "⎣                                                                             \n",
              "\n",
              "                                                                          0   \n",
              "                                                                              \n",
              "                                                                          0   \n",
              "                                                                              \n",
              "                                                                          0   \n",
              "                                                                              \n",
              "    ⎛M₁⋅g             ⎞                 ⎛M₁⋅g             ⎞⎞      ⎛           \n",
              " d₁⋅⎜──── - \\deltaₗ₂⋅k⎟   (-d₁ + q₄(t))⋅⎜──── - \\deltaₗ₂⋅k⎟⎟      ⎜w₁⋅(-d₁ + q\n",
              "    ⎝ 2               ⎠                 ⎝ 2               ⎠⎟      ⎜           \n",
              " ────────────────────── - ─────────────────────────────────⎟ + w₁⋅⎜───────────\n",
              "      _______________                _______________       ⎟      ⎜           \n",
              "     ╱             2                ╱             2        ⎟      ⎜           \n",
              "   ╲╱  (d₁ - q₄(t))               ╲╱  (d₁ - q₄(t))         ⎠      ⎝           \n",
              "──────────────────────────────────────────────────────────────────────────────\n",
              "                                                                         iyy₁ \n",
              "                                                                              \n",
              "                                                  ⎛   ⎛M₁⋅g             ⎞     \n",
              "                                                  ⎜d₁⋅⎜──── + \\deltaₗ₁⋅k⎟   d₁\n",
              "                                                  ⎜   ⎝ 2               ⎠     \n",
              "                                                 -⎜────────────────────── + ──\n",
              "                                                  ⎜     _______________       \n",
              "                                                  ⎜    ╱             2        \n",
              "                                                  ⎝  ╲╱  (d₁ - q₄(t))         \n",
              "                                                 ─────────────────────────────\n",
              "                                                                          M₁  \n",
              "                                                                              \n",
              "                              ⎛M₁⋅g             ⎞                             \n",
              "w₁⋅(-d₁ + q₄(t))⋅(d₁ - q₄(t))⋅⎜──── + \\deltaₗ₁⋅k⎟   w₁⋅(-d₁ + q₄(t))⋅(d₁ - q₄(\n",
              "                              ⎝ 2               ⎠                             \n",
              "───────────────────────────────────────────────── - ──────────────────────────\n",
              "                               3/2                                            \n",
              "                ⎛            2⎞                                     ⎛         \n",
              "                ⎝(d₁ - q₄(t)) ⎠                                     ⎝(d₁ - q₄(\n",
              "──────────────────────────────────────────────────────────────────────────────\n",
              "                                                                          M₁  \n",
              "\n",
              "                                                                              \n",
              "                                                                              \n",
              "                                                                              \n",
              "                                                                              \n",
              "                                                                              \n",
              "                                                                              \n",
              "                   ⎛M₁⋅g             ⎞      ⎛M₁⋅g             ⎞⎞      ⎛       \n",
              "₄(t))⋅(d₁ - q₄(t))⋅⎜──── + \\deltaₗ₁⋅k⎟   w₁⋅⎜──── + \\deltaₗ₁⋅k⎟⎟      ⎜w₁⋅(-d₁\n",
              "                   ⎝ 2               ⎠      ⎝ 2               ⎠⎟      ⎜       \n",
              "────────────────────────────────────── + ──────────────────────⎟ + w₁⋅⎜───────\n",
              "                    3/2                       _______________  ⎟      ⎜       \n",
              "     ⎛            2⎞                         ╱             2   ⎟      ⎜       \n",
              "     ⎝(d₁ - q₄(t)) ⎠                       ╲╱  (d₁ - q₄(t))    ⎠      ⎝       \n",
              "──────────────────────────────────────────────────────────────────────────────\n",
              "                                                                              \n",
              "                                                                              \n",
              " ⎛M₁⋅g             ⎞⎞                                                         \n",
              "⋅⎜──── - \\deltaₗ₂⋅k⎟⎟                                                         \n",
              " ⎝ 2               ⎠⎟                                                         \n",
              "────────────────────⎟                                                         \n",
              "   _______________  ⎟                                                         \n",
              "  ╱             2   ⎟                                                         \n",
              "╲╱  (d₁ - q₄(t))    ⎠                                                         \n",
              "──────────────────────                                                        \n",
              "                                                                              \n",
              "                                                                              \n",
              "    ⎛M₁⋅g             ⎞      ⎛M₁⋅g             ⎞      ⎛M₁⋅g             ⎞⎞    \n",
              "t))⋅⎜──── - \\deltaₗ₂⋅k⎟   w₁⋅⎜──── + \\deltaₗ₁⋅k⎟   w₁⋅⎜──── - \\deltaₗ₂⋅k⎟⎟    \n",
              "    ⎝ 2               ⎠      ⎝ 2               ⎠      ⎝ 2               ⎠⎟    \n",
              "─────────────────────── - ────────────────────── - ──────────────────────⎟    \n",
              "     3/2                       _______________          _______________  ⎟    \n",
              "   2⎞                         ╱             2          ╱             2   ⎟    \n",
              "t)) ⎠                       ╲╱  (d₁ - q₄(t))         ╲╱  (d₁ - q₄(t))    ⎠    \n",
              "───────────────────────────────────────────────────────────────────────────   \n",
              "                                                                              \n",
              "\n",
              "                                                                              \n",
              "                                                                              \n",
              "                                                                              \n",
              "                                                                              \n",
              "                                                                              \n",
              "                                                                              \n",
              "                       ⎛M₁⋅g             ⎞      ⎛M₁⋅g             ⎞⎞⎞    ⎛   ⎛\n",
              " + q₄(t))⋅(d₁ - q₄(t))⋅⎜──── - \\deltaₗ₂⋅k⎟   w₁⋅⎜──── - \\deltaₗ₂⋅k⎟⎟⎟    ⎜d₁⋅⎜\n",
              "                       ⎝ 2               ⎠      ⎝ 2               ⎠⎟⎟    ⎜   ⎝\n",
              "────────────────────────────────────────── + ──────────────────────⎟⎟   -⎜────\n",
              "                        3/2                       _______________  ⎟⎟    ⎜    \n",
              "         ⎛            2⎞                         ╱             2   ⎟⎟    ⎜    \n",
              "         ⎝(d₁ - q₄(t)) ⎠                       ╲╱  (d₁ - q₄(t))    ⎠⎠    ⎝  ╲╱\n",
              "──────────────────────────────────────────────────────────────────────  ──────\n",
              "                                                                              \n",
              "                                                                              \n",
              "                                                                             ⎛\n",
              "                                                                             ⎜\n",
              "                                                                             ⎜\n",
              "                                                                            -⎜\n",
              "                                                                             ⎜\n",
              "                                                                             ⎜\n",
              "                                                                             ⎝\n",
              "                                                                            ──\n",
              "                                                                              \n",
              "                                                                              \n",
              "                                                                              \n",
              "                                                                              \n",
              "                                                                              \n",
              "                                                                              \n",
              "                                                                              \n",
              "                                                                              \n",
              "                                                                              \n",
              "                                                                              \n",
              "                                                                              \n",
              "\n",
              "                   0                                                          \n",
              "                                                                              \n",
              "                   0                                                          \n",
              "                                                                              \n",
              "                   0                                                          \n",
              "                                                                              \n",
              "M₁⋅g             ⎞      ⎛M₁⋅g             ⎞⎞    ⎛   ⎛                         \n",
              "──── + \\deltaₗ₁⋅k⎟   d₁⋅⎜──── - \\deltaₗ₂⋅k⎟⎟    ⎜   ⎜(-d₁ + q₄(t))⋅(d₁ - q₄(t)\n",
              " 2               ⎠      ⎝ 2               ⎠⎟    ⎜   ⎜                         \n",
              "────────────────── + ──────────────────────⎟   -⎜w₁⋅⎜─────────────────────────\n",
              " _______________          _______________  ⎟    ⎜   ⎜                         \n",
              "╱             2          ╱             2   ⎟    ⎜   ⎜              ⎛          \n",
              "  (d₁ - q₄(t))         ╲╱  (d₁ - q₄(t))    ⎠    ⎝   ⎝              ⎝(d₁ - q₄(t\n",
              "─────────────────────────────────────────────  ───────────────────────────────\n",
              "                  iyy₁                                                        \n",
              "                                                                              \n",
              "M₁⋅g                 M₁⋅g              ⎞                                      \n",
              "──── + \\deltaₗ₁⋅k    ──── - \\deltaₗ₂⋅k ⎟                                      \n",
              " 2                    2                ⎟                                      \n",
              "────────────────── + ──────────────────⎟                                      \n",
              "   _______________      _______________⎟                                      \n",
              "  ╱             2      ╱             2 ⎟                                      \n",
              "╲╱  (d₁ - q₄(t))     ╲╱  (d₁ - q₄(t))  ⎠                                      \n",
              "─────────────────────────────────────────                                     \n",
              "                   M₁                                                         \n",
              "                                                                              \n",
              "                                                    ⎛                         \n",
              "                                                    ⎜  (-d₁ + q₄(t))⋅(d₁ - q₄(\n",
              "                                                    ⎜                         \n",
              "                                                   -⎜- ───────────────────────\n",
              "                                                    ⎜                         \n",
              "                                                    ⎜                ⎛        \n",
              "                                                    ⎝                ⎝(d₁ - q₄\n",
              "                   0                               ───────────────────────────\n",
              "                                                                              \n",
              "\n",
              "                                            0                                 \n",
              "                                                                              \n",
              "                                            0                                 \n",
              "                                                                              \n",
              "                                            0                                 \n",
              "                                                                              \n",
              "  ⎛M₁⋅g             ⎞   M₁⋅g              ⎞      ⎛                           ⎛\n",
              ")⋅⎜──── + \\deltaₗ₁⋅k⎟   ──── + \\deltaₗ₁⋅k ⎟      ⎜(-d₁ + q₄(t))⋅(d₁ - q₄(t))⋅⎜\n",
              "  ⎝ 2               ⎠    2                ⎟      ⎜                           ⎝\n",
              "───────────────────── + ──────────────────⎟ + w₁⋅⎜────────────────────────────\n",
              "    3/2                    _______________⎟      ⎜                            \n",
              "  2⎞                      ╱             2 ⎟      ⎜              ⎛            2\n",
              ")) ⎠                    ╲╱  (d₁ - q₄(t))  ⎠      ⎝              ⎝(d₁ - q₄(t)) \n",
              "──────────────────────────────────────────────────────────────────────────────\n",
              "                                           iyy₁                               \n",
              "                                                                              \n",
              "                                                                              \n",
              "                                                                              \n",
              "                                                                              \n",
              "                                                                              \n",
              "                                                                              \n",
              "                                                                              \n",
              "                                                                              \n",
              "                                            0                                 \n",
              "                                                                              \n",
              "                                                                              \n",
              "    ⎛M₁⋅g             ⎞                              ⎛M₁⋅g             ⎞   M₁⋅\n",
              "t))⋅⎜──── + \\deltaₗ₁⋅k⎟   (-d₁ + q₄(t))⋅(d₁ - q₄(t))⋅⎜──── - \\deltaₗ₂⋅k⎟   ───\n",
              "    ⎝ 2               ⎠                              ⎝ 2               ⎠    2 \n",
              "─────────────────────── - ────────────────────────────────────────────── - ───\n",
              "      3/2                                              3/2                    \n",
              "    2⎞                                  ⎛            2⎞                      ╱\n",
              "(t)) ⎠                                  ⎝(d₁ - q₄(t)) ⎠                    ╲╱ \n",
              "──────────────────────────────────────────────────────────────────────────────\n",
              "                                            M₁                                \n",
              "\n",
              "                                            1  0  0 ⎤\n",
              "                                                    ⎥\n",
              "                                            0  1  0 ⎥\n",
              "                                                    ⎥\n",
              "                                            0  0  -1⎥\n",
              "                                                    ⎥\n",
              "M₁⋅g             ⎞   M₁⋅g              ⎞⎞           ⎥\n",
              "──── - \\deltaₗ₂⋅k⎟   ──── - \\deltaₗ₂⋅k ⎟⎟           ⎥\n",
              " 2               ⎠    2                ⎟⎟           ⎥\n",
              "────────────────── + ──────────────────⎟⎟           ⎥\n",
              " 3/2                    _______________⎟⎟           ⎥\n",
              "⎞                      ╱             2 ⎟⎟           ⎥\n",
              "⎠                    ╲╱  (d₁ - q₄(t))  ⎠⎠           ⎥\n",
              "──────────────────────────────────────────  0  0  0 ⎥\n",
              "                                                    ⎥\n",
              "                                                    ⎥\n",
              "                                                    ⎥\n",
              "                                                    ⎥\n",
              "                                                    ⎥\n",
              "                                                    ⎥\n",
              "                                                    ⎥\n",
              "                                                    ⎥\n",
              "                                                    ⎥\n",
              "                                            0  0  0 ⎥\n",
              "                                                    ⎥\n",
              "                                                    ⎥\n",
              "g                 M₁⋅g              ⎞               ⎥\n",
              "─ + \\deltaₗ₁⋅k    ──── - \\deltaₗ₂⋅k ⎟               ⎥\n",
              "                   2                ⎟               ⎥\n",
              "─────────────── - ──────────────────⎟               ⎥\n",
              "_______________      _______________⎟               ⎥\n",
              "             2      ╱             2 ⎟               ⎥\n",
              " (d₁ - q₄(t))     ╲╱  (d₁ - q₄(t))  ⎠               ⎥\n",
              "──────────────────────────────────────      0  0  0 ⎥\n",
              "                                                    ⎦"
            ],
            "text/latex": "$\\displaystyle \\left[\\begin{matrix}0 & 0 & 0 & 1 & 0 & 0\\\\0 & 0 & 0 & 0 & 1 & 0\\\\0 & 0 & 0 & 0 & 0 & -1\\\\- \\frac{- d_{1} \\left(- \\frac{d_{1} \\left(\\frac{M_{1} g}{2} + \\delta_{l1} k\\right)}{\\sqrt{\\left(d_{1} - q_{4}{\\left(t \\right)}\\right)^{2}}} - \\frac{\\left(- d_{1} + q_{4}{\\left(t \\right)}\\right) \\left(\\frac{M_{1} g}{2} + \\delta_{l1} k\\right)}{\\sqrt{\\left(d_{1} - q_{4}{\\left(t \\right)}\\right)^{2}}}\\right) - d_{1} \\left(- \\frac{d_{1} \\left(\\frac{M_{1} g}{2} - \\delta_{l2} k\\right)}{\\sqrt{\\left(d_{1} - q_{4}{\\left(t \\right)}\\right)^{2}}} - \\frac{\\left(- d_{1} + q_{4}{\\left(t \\right)}\\right) \\left(\\frac{M_{1} g}{2} - \\delta_{l2} k\\right)}{\\sqrt{\\left(d_{1} - q_{4}{\\left(t \\right)}\\right)^{2}}}\\right) + w_{1} \\left(\\frac{w_{1} \\left(- d_{1} + q_{4}{\\left(t \\right)}\\right) \\left(d_{1} - q_{4}{\\left(t \\right)}\\right) \\left(\\frac{M_{1} g}{2} + \\delta_{l1} k\\right)}{\\left(\\left(d_{1} - q_{4}{\\left(t \\right)}\\right)^{2}\\right)^{\\frac{3}{2}}} + \\frac{w_{1} \\left(\\frac{M_{1} g}{2} + \\delta_{l1} k\\right)}{\\sqrt{\\left(d_{1} - q_{4}{\\left(t \\right)}\\right)^{2}}}\\right) + w_{1} \\left(\\frac{w_{1} \\left(- d_{1} + q_{4}{\\left(t \\right)}\\right) \\left(d_{1} - q_{4}{\\left(t \\right)}\\right) \\left(\\frac{M_{1} g}{2} - \\delta_{l2} k\\right)}{\\left(\\left(d_{1} - q_{4}{\\left(t \\right)}\\right)^{2}\\right)^{\\frac{3}{2}}} + \\frac{w_{1} \\left(\\frac{M_{1} g}{2} - \\delta_{l2} k\\right)}{\\sqrt{\\left(d_{1} - q_{4}{\\left(t \\right)}\\right)^{2}}}\\right)}{iyy_{1}} & - \\frac{\\frac{d_{1} \\left(\\frac{M_{1} g}{2} + \\delta_{l1} k\\right)}{\\sqrt{\\left(d_{1} - q_{4}{\\left(t \\right)}\\right)^{2}}} + \\frac{d_{1} \\left(\\frac{M_{1} g}{2} - \\delta_{l2} k\\right)}{\\sqrt{\\left(d_{1} - q_{4}{\\left(t \\right)}\\right)^{2}}}}{iyy_{1}} & - \\frac{w_{1} \\left(\\frac{\\left(- d_{1} + q_{4}{\\left(t \\right)}\\right) \\left(d_{1} - q_{4}{\\left(t \\right)}\\right) \\left(\\frac{M_{1} g}{2} + \\delta_{l1} k\\right)}{\\left(\\left(d_{1} - q_{4}{\\left(t \\right)}\\right)^{2}\\right)^{\\frac{3}{2}}} + \\frac{\\frac{M_{1} g}{2} + \\delta_{l1} k}{\\sqrt{\\left(d_{1} - q_{4}{\\left(t \\right)}\\right)^{2}}}\\right) + w_{1} \\left(\\frac{\\left(- d_{1} + q_{4}{\\left(t \\right)}\\right) \\left(d_{1} - q_{4}{\\left(t \\right)}\\right) \\left(\\frac{M_{1} g}{2} - \\delta_{l2} k\\right)}{\\left(\\left(d_{1} - q_{4}{\\left(t \\right)}\\right)^{2}\\right)^{\\frac{3}{2}}} + \\frac{\\frac{M_{1} g}{2} - \\delta_{l2} k}{\\sqrt{\\left(d_{1} - q_{4}{\\left(t \\right)}\\right)^{2}}}\\right)}{iyy_{1}} & 0 & 0 & 0\\\\- \\frac{\\frac{d_{1} \\left(\\frac{M_{1} g}{2} + \\delta_{l1} k\\right)}{\\sqrt{\\left(d_{1} - q_{4}{\\left(t \\right)}\\right)^{2}}} + \\frac{d_{1} \\left(\\frac{M_{1} g}{2} - \\delta_{l2} k\\right)}{\\sqrt{\\left(d_{1} - q_{4}{\\left(t \\right)}\\right)^{2}}}}{M_{1}} & - \\frac{\\frac{\\frac{M_{1} g}{2} + \\delta_{l1} k}{\\sqrt{\\left(d_{1} - q_{4}{\\left(t \\right)}\\right)^{2}}} + \\frac{\\frac{M_{1} g}{2} - \\delta_{l2} k}{\\sqrt{\\left(d_{1} - q_{4}{\\left(t \\right)}\\right)^{2}}}}{M_{1}} & 0 & 0 & 0 & 0\\\\- \\frac{- \\frac{w_{1} \\left(- d_{1} + q_{4}{\\left(t \\right)}\\right) \\left(d_{1} - q_{4}{\\left(t \\right)}\\right) \\left(\\frac{M_{1} g}{2} + \\delta_{l1} k\\right)}{\\left(\\left(d_{1} - q_{4}{\\left(t \\right)}\\right)^{2}\\right)^{\\frac{3}{2}}} - \\frac{w_{1} \\left(- d_{1} + q_{4}{\\left(t \\right)}\\right) \\left(d_{1} - q_{4}{\\left(t \\right)}\\right) \\left(\\frac{M_{1} g}{2} - \\delta_{l2} k\\right)}{\\left(\\left(d_{1} - q_{4}{\\left(t \\right)}\\right)^{2}\\right)^{\\frac{3}{2}}} - \\frac{w_{1} \\left(\\frac{M_{1} g}{2} + \\delta_{l1} k\\right)}{\\sqrt{\\left(d_{1} - q_{4}{\\left(t \\right)}\\right)^{2}}} - \\frac{w_{1} \\left(\\frac{M_{1} g}{2} - \\delta_{l2} k\\right)}{\\sqrt{\\left(d_{1} - q_{4}{\\left(t \\right)}\\right)^{2}}}}{M_{1}} & 0 & - \\frac{- \\frac{\\left(- d_{1} + q_{4}{\\left(t \\right)}\\right) \\left(d_{1} - q_{4}{\\left(t \\right)}\\right) \\left(\\frac{M_{1} g}{2} + \\delta_{l1} k\\right)}{\\left(\\left(d_{1} - q_{4}{\\left(t \\right)}\\right)^{2}\\right)^{\\frac{3}{2}}} - \\frac{\\left(- d_{1} + q_{4}{\\left(t \\right)}\\right) \\left(d_{1} - q_{4}{\\left(t \\right)}\\right) \\left(\\frac{M_{1} g}{2} - \\delta_{l2} k\\right)}{\\left(\\left(d_{1} - q_{4}{\\left(t \\right)}\\right)^{2}\\right)^{\\frac{3}{2}}} - \\frac{\\frac{M_{1} g}{2} + \\delta_{l1} k}{\\sqrt{\\left(d_{1} - q_{4}{\\left(t \\right)}\\right)^{2}}} - \\frac{\\frac{M_{1} g}{2} - \\delta_{l2} k}{\\sqrt{\\left(d_{1} - q_{4}{\\left(t \\right)}\\right)^{2}}}}{M_{1}} & 0 & 0 & 0\\end{matrix}\\right]$"
          },
          "metadata": {},
          "execution_count": 436
        }
      ],
      "source": [
        "A"
      ]
    },
    {
      "cell_type": "code",
      "execution_count": 437,
      "metadata": {
        "colab": {
          "base_uri": "https://localhost:8080/",
          "height": 225
        },
        "id": "ITj2BHawqgMt",
        "outputId": "2aa7c1a9-e44e-4c73-f0df-80f73ce5d049"
      },
      "outputs": [
        {
          "output_type": "execute_result",
          "data": {
            "text/plain": [
              "⎡                                                                             \n",
              "⎢                                                                             \n",
              "⎢                                                                             \n",
              "⎢                                                                             \n",
              "⎢                                                                             \n",
              "⎢                                                                             \n",
              "⎢ ⎛     ⎛   ⎛M₁⋅g             ⎞                 ⎛M₁⋅g             ⎞⎞      ⎛   \n",
              "⎢ ⎜     ⎜d₁⋅⎜──── + \\deltaₗ₁⋅k⎟   (-d₁ + q₄(t))⋅⎜──── + \\deltaₗ₁⋅k⎟⎟      ⎜d₁⋅\n",
              "⎢ ⎜     ⎜   ⎝ 2               ⎠                 ⎝ 2               ⎠⎟      ⎜   \n",
              "⎢-⎜- d₁⋅⎜────────────────────── + ─────────────────────────────────⎟ - d₁⋅⎜───\n",
              "⎢ ⎜     ⎜     _______________                _______________       ⎟      ⎜   \n",
              "⎢ ⎜     ⎜    ╱             2                ╱             2        ⎟      ⎜   \n",
              "⎢ ⎝     ⎝  ╲╱  (d₁ - q₄(t))               ╲╱  (d₁ - q₄(t))         ⎠      ⎝  ╲\n",
              "⎢─────────────────────────────────────────────────────────────────────────────\n",
              "⎢                                                                             \n",
              "⎢                                                                             \n",
              "⎢                                                                             \n",
              "⎢                                                                             \n",
              "⎢                                                                             \n",
              "⎢                                                                             \n",
              "⎢                                                                             \n",
              "⎢                                                                             \n",
              "⎢                                                                             \n",
              "⎢                                                                             \n",
              "⎢                                                                             \n",
              "⎢                                                                             \n",
              "⎢                                                                           ⎛ \n",
              "⎢                                                                           ⎜w\n",
              "⎢                                                                           ⎜ \n",
              "⎢                                                                          -⎜─\n",
              "⎢                                                                           ⎜ \n",
              "⎢                                                                           ⎜ \n",
              "⎢                                                                           ⎝ \n",
              "⎢                                                                          ───\n",
              "⎣                                                                             \n",
              "\n",
              "                                                                          0   \n",
              "                                                                              \n",
              "                                                                          0   \n",
              "                                                                              \n",
              "                                                                          0   \n",
              "                                                                              \n",
              "⎛M₁⋅g             ⎞                 ⎛M₁⋅g             ⎞⎞      ⎛               \n",
              "⎜──── - \\deltaₗ₂⋅k⎟   (-d₁ + q₄(t))⋅⎜──── - \\deltaₗ₂⋅k⎟⎟      ⎜  w₁⋅(-d₁ + q₄(\n",
              "⎝ 2               ⎠                 ⎝ 2               ⎠⎟      ⎜               \n",
              "─────────────────── + ─────────────────────────────────⎟ + w₁⋅⎜- ─────────────\n",
              "  _______________                _______________       ⎟      ⎜               \n",
              " ╱             2                ╱             2        ⎟      ⎜               \n",
              "╱  (d₁ - q₄(t))               ╲╱  (d₁ - q₄(t))         ⎠      ⎝               \n",
              "──────────────────────────────────────────────────────────────────────────────\n",
              "                                                                         iyy₁ \n",
              "                                                                              \n",
              "                                                 ⎛     ⎛M₁⋅g             ⎞    \n",
              "                                                 ⎜  d₁⋅⎜──── + \\deltaₗ₁⋅k⎟   d\n",
              "                                                 ⎜     ⎝ 2               ⎠    \n",
              "                                                -⎜- ────────────────────── - ─\n",
              "                                                 ⎜       _______________      \n",
              "                                                 ⎜      ╱             2       \n",
              "                                                 ⎝    ╲╱  (d₁ - q₄(t))        \n",
              "                                                ──────────────────────────────\n",
              "                                                                          M₁  \n",
              "                                                                              \n",
              "                             ⎛M₁⋅g             ⎞                              \n",
              "₁⋅(-d₁ + q₄(t))⋅(d₁ - q₄(t))⋅⎜──── + \\deltaₗ₁⋅k⎟   w₁⋅(-d₁ + q₄(t))⋅(d₁ - q₄(t\n",
              "                             ⎝ 2               ⎠                              \n",
              "──────────────────────────────────────────────── + ───────────────────────────\n",
              "                              3/2                                             \n",
              "               ⎛            2⎞                                     ⎛          \n",
              "               ⎝(d₁ - q₄(t)) ⎠                                     ⎝(d₁ - q₄(t\n",
              "──────────────────────────────────────────────────────────────────────────────\n",
              "                                                                          M₁  \n",
              "\n",
              "                                                                              \n",
              "                                                                              \n",
              "                                                                              \n",
              "                                                                              \n",
              "                                                                              \n",
              "                                                                              \n",
              "                 ⎛M₁⋅g             ⎞      ⎛M₁⋅g             ⎞⎞      ⎛         \n",
              "t))⋅(d₁ - q₄(t))⋅⎜──── + \\deltaₗ₁⋅k⎟   w₁⋅⎜──── + \\deltaₗ₁⋅k⎟⎟      ⎜  w₁⋅(-d₁\n",
              "                 ⎝ 2               ⎠      ⎝ 2               ⎠⎟      ⎜         \n",
              "──────────────────────────────────── - ──────────────────────⎟ + w₁⋅⎜- ───────\n",
              "                  3/2                       _______________  ⎟      ⎜         \n",
              "   ⎛            2⎞                         ╱             2   ⎟      ⎜         \n",
              "   ⎝(d₁ - q₄(t)) ⎠                       ╲╱  (d₁ - q₄(t))    ⎠      ⎝         \n",
              "──────────────────────────────────────────────────────────────────────────────\n",
              "                                                                              \n",
              "                                                                              \n",
              "  ⎛M₁⋅g             ⎞⎞                                                        \n",
              "₁⋅⎜──── - \\deltaₗ₂⋅k⎟⎟                                                        \n",
              "  ⎝ 2               ⎠⎟                                                        \n",
              "─────────────────────⎟                                                        \n",
              "    _______________  ⎟                                                        \n",
              "   ╱             2   ⎟                                                        \n",
              " ╲╱  (d₁ - q₄(t))    ⎠                                                        \n",
              "───────────────────────                                                       \n",
              "                                                                              \n",
              "                                                                              \n",
              "   ⎛M₁⋅g             ⎞      ⎛M₁⋅g             ⎞      ⎛M₁⋅g             ⎞⎞     \n",
              "))⋅⎜──── - \\deltaₗ₂⋅k⎟   w₁⋅⎜──── + \\deltaₗ₁⋅k⎟   w₁⋅⎜──── - \\deltaₗ₂⋅k⎟⎟     \n",
              "   ⎝ 2               ⎠      ⎝ 2               ⎠      ⎝ 2               ⎠⎟     \n",
              "────────────────────── + ────────────────────── + ──────────────────────⎟     \n",
              "    3/2                       _______________          _______________  ⎟     \n",
              "  2⎞                         ╱             2          ╱             2   ⎟     \n",
              ")) ⎠                       ╲╱  (d₁ - q₄(t))         ╲╱  (d₁ - q₄(t))    ⎠     \n",
              "──────────────────────────────────────────────────────────────────────────    \n",
              "                                                                              \n",
              "\n",
              "                                                                              \n",
              "                                                                              \n",
              "                                                                              \n",
              "                                                                              \n",
              "                                                                              \n",
              "                                                                              \n",
              "                       ⎛M₁⋅g             ⎞      ⎛M₁⋅g             ⎞⎞⎞    ⎛    \n",
              " + q₄(t))⋅(d₁ - q₄(t))⋅⎜──── - \\deltaₗ₂⋅k⎟   w₁⋅⎜──── - \\deltaₗ₂⋅k⎟⎟⎟    ⎜  d₁\n",
              "                       ⎝ 2               ⎠      ⎝ 2               ⎠⎟⎟    ⎜    \n",
              "────────────────────────────────────────── - ──────────────────────⎟⎟   -⎜- ──\n",
              "                        3/2                       _______________  ⎟⎟    ⎜    \n",
              "         ⎛            2⎞                         ╱             2   ⎟⎟    ⎜    \n",
              "         ⎝(d₁ - q₄(t)) ⎠                       ╲╱  (d₁ - q₄(t))    ⎠⎠    ⎝    \n",
              "──────────────────────────────────────────────────────────────────────  ──────\n",
              "                                                                              \n",
              "                                                                              \n",
              "                                                                             ⎛\n",
              "                                                                             ⎜\n",
              "                                                                             ⎜\n",
              "                                                                            -⎜\n",
              "                                                                             ⎜\n",
              "                                                                             ⎜\n",
              "                                                                             ⎝\n",
              "                                                                            ──\n",
              "                                                                              \n",
              "                                                                              \n",
              "                                                                              \n",
              "                                                                              \n",
              "                                                                              \n",
              "                                                                              \n",
              "                                                                              \n",
              "                                                                              \n",
              "                                                                              \n",
              "                                                                              \n",
              "                                                                              \n",
              "\n",
              "                    0                          ⎤\n",
              "                                               ⎥\n",
              "                    0                          ⎥\n",
              "                                               ⎥\n",
              "                    0                          ⎥\n",
              "                                               ⎥\n",
              " ⎛M₁⋅g             ⎞      ⎛M₁⋅g             ⎞⎞ ⎥\n",
              "⋅⎜──── + \\deltaₗ₁⋅k⎟   d₁⋅⎜──── - \\deltaₗ₂⋅k⎟⎟ ⎥\n",
              " ⎝ 2               ⎠      ⎝ 2               ⎠⎟ ⎥\n",
              "──────────────────── - ──────────────────────⎟ ⎥\n",
              "   _______________          _______________  ⎟ ⎥\n",
              "  ╱             2          ╱             2   ⎟ ⎥\n",
              "╲╱  (d₁ - q₄(t))         ╲╱  (d₁ - q₄(t))    ⎠ ⎥\n",
              "───────────────────────────────────────────────⎥\n",
              "                   iyy₁                        ⎥\n",
              "                                               ⎥\n",
              "  M₁⋅g                 M₁⋅g              ⎞     ⎥\n",
              "  ──── + \\deltaₗ₁⋅k    ──── - \\deltaₗ₂⋅k ⎟     ⎥\n",
              "   2                    2                ⎟     ⎥\n",
              "- ────────────────── - ──────────────────⎟     ⎥\n",
              "     _______________      _______________⎟     ⎥\n",
              "    ╱             2      ╱             2 ⎟     ⎥\n",
              "  ╲╱  (d₁ - q₄(t))     ╲╱  (d₁ - q₄(t))  ⎠     ⎥\n",
              "───────────────────────────────────────────    ⎥\n",
              "                    M₁                         ⎥\n",
              "                                               ⎥\n",
              "                                               ⎥\n",
              "                                               ⎥\n",
              "                                               ⎥\n",
              "                                               ⎥\n",
              "                                               ⎥\n",
              "                                               ⎥\n",
              "                                               ⎥\n",
              "                    0                          ⎥\n",
              "                                               ⎦"
            ],
            "text/latex": "$\\displaystyle \\left[\\begin{matrix}0 & 0\\\\0 & 0\\\\0 & 0\\\\- \\frac{- d_{1} \\left(\\frac{d_{1} \\left(\\frac{M_{1} g}{2} + \\delta_{l1} k\\right)}{\\sqrt{\\left(d_{1} - q_{4}{\\left(t \\right)}\\right)^{2}}} + \\frac{\\left(- d_{1} + q_{4}{\\left(t \\right)}\\right) \\left(\\frac{M_{1} g}{2} + \\delta_{l1} k\\right)}{\\sqrt{\\left(d_{1} - q_{4}{\\left(t \\right)}\\right)^{2}}}\\right) - d_{1} \\left(\\frac{d_{1} \\left(\\frac{M_{1} g}{2} - \\delta_{l2} k\\right)}{\\sqrt{\\left(d_{1} - q_{4}{\\left(t \\right)}\\right)^{2}}} + \\frac{\\left(- d_{1} + q_{4}{\\left(t \\right)}\\right) \\left(\\frac{M_{1} g}{2} - \\delta_{l2} k\\right)}{\\sqrt{\\left(d_{1} - q_{4}{\\left(t \\right)}\\right)^{2}}}\\right) + w_{1} \\left(- \\frac{w_{1} \\left(- d_{1} + q_{4}{\\left(t \\right)}\\right) \\left(d_{1} - q_{4}{\\left(t \\right)}\\right) \\left(\\frac{M_{1} g}{2} + \\delta_{l1} k\\right)}{\\left(\\left(d_{1} - q_{4}{\\left(t \\right)}\\right)^{2}\\right)^{\\frac{3}{2}}} - \\frac{w_{1} \\left(\\frac{M_{1} g}{2} + \\delta_{l1} k\\right)}{\\sqrt{\\left(d_{1} - q_{4}{\\left(t \\right)}\\right)^{2}}}\\right) + w_{1} \\left(- \\frac{w_{1} \\left(- d_{1} + q_{4}{\\left(t \\right)}\\right) \\left(d_{1} - q_{4}{\\left(t \\right)}\\right) \\left(\\frac{M_{1} g}{2} - \\delta_{l2} k\\right)}{\\left(\\left(d_{1} - q_{4}{\\left(t \\right)}\\right)^{2}\\right)^{\\frac{3}{2}}} - \\frac{w_{1} \\left(\\frac{M_{1} g}{2} - \\delta_{l2} k\\right)}{\\sqrt{\\left(d_{1} - q_{4}{\\left(t \\right)}\\right)^{2}}}\\right)}{iyy_{1}} & - \\frac{- \\frac{d_{1} \\left(\\frac{M_{1} g}{2} + \\delta_{l1} k\\right)}{\\sqrt{\\left(d_{1} - q_{4}{\\left(t \\right)}\\right)^{2}}} - \\frac{d_{1} \\left(\\frac{M_{1} g}{2} - \\delta_{l2} k\\right)}{\\sqrt{\\left(d_{1} - q_{4}{\\left(t \\right)}\\right)^{2}}}}{iyy_{1}}\\\\- \\frac{- \\frac{d_{1} \\left(\\frac{M_{1} g}{2} + \\delta_{l1} k\\right)}{\\sqrt{\\left(d_{1} - q_{4}{\\left(t \\right)}\\right)^{2}}} - \\frac{d_{1} \\left(\\frac{M_{1} g}{2} - \\delta_{l2} k\\right)}{\\sqrt{\\left(d_{1} - q_{4}{\\left(t \\right)}\\right)^{2}}}}{M_{1}} & - \\frac{- \\frac{\\frac{M_{1} g}{2} + \\delta_{l1} k}{\\sqrt{\\left(d_{1} - q_{4}{\\left(t \\right)}\\right)^{2}}} - \\frac{\\frac{M_{1} g}{2} - \\delta_{l2} k}{\\sqrt{\\left(d_{1} - q_{4}{\\left(t \\right)}\\right)^{2}}}}{M_{1}}\\\\- \\frac{\\frac{w_{1} \\left(- d_{1} + q_{4}{\\left(t \\right)}\\right) \\left(d_{1} - q_{4}{\\left(t \\right)}\\right) \\left(\\frac{M_{1} g}{2} + \\delta_{l1} k\\right)}{\\left(\\left(d_{1} - q_{4}{\\left(t \\right)}\\right)^{2}\\right)^{\\frac{3}{2}}} + \\frac{w_{1} \\left(- d_{1} + q_{4}{\\left(t \\right)}\\right) \\left(d_{1} - q_{4}{\\left(t \\right)}\\right) \\left(\\frac{M_{1} g}{2} - \\delta_{l2} k\\right)}{\\left(\\left(d_{1} - q_{4}{\\left(t \\right)}\\right)^{2}\\right)^{\\frac{3}{2}}} + \\frac{w_{1} \\left(\\frac{M_{1} g}{2} + \\delta_{l1} k\\right)}{\\sqrt{\\left(d_{1} - q_{4}{\\left(t \\right)}\\right)^{2}}} + \\frac{w_{1} \\left(\\frac{M_{1} g}{2} - \\delta_{l2} k\\right)}{\\sqrt{\\left(d_{1} - q_{4}{\\left(t \\right)}\\right)^{2}}}}{M_{1}} & 0\\end{matrix}\\right]$"
          },
          "metadata": {},
          "execution_count": 437
        }
      ],
      "source": [
        "B"
      ]
    },
    {
      "cell_type": "code",
      "execution_count": 439,
      "metadata": {
        "colab": {
          "base_uri": "https://localhost:8080/",
          "height": 210
        },
        "id": "xQym0ihVqhhh",
        "outputId": "55fb21e4-6728-4934-f12f-b26c6ed34871"
      },
      "outputs": [
        {
          "output_type": "execute_result",
          "data": {
            "text/plain": [
              "⎡                                                              0              \n",
              "⎢                                                                             \n",
              "⎢                                                              0              \n",
              "⎢                                                                             \n",
              "⎢                                                              0              \n",
              "⎢                                                                             \n",
              "⎢ ⎛       ⎛      M₁⋅d₁⋅g           M₁⋅g⋅(-d₁ + q₄(t)) ⎞        ⎛  M₁⋅g⋅w₁⋅(-d₁\n",
              "⎢-⎜- 2⋅d₁⋅⎜──────────────────── + ────────────────────⎟ + 2⋅w₁⋅⎜- ────────────\n",
              "⎢ ⎜       ⎜     _______________        _______________⎟        ⎜              \n",
              "⎢ ⎜       ⎜    ╱             2        ╱             2 ⎟        ⎜           ⎛  \n",
              "⎢ ⎝       ⎝2⋅╲╱  (d₁ - q₄(t))     2⋅╲╱  (d₁ - q₄(t))  ⎠        ⎝         2⋅⎝(d\n",
              "⎢─────────────────────────────────────────────────────────────────────────────\n",
              "⎢                                                             iyy₁            \n",
              "⎢                                                                             \n",
              "⎢                                                                             \n",
              "⎢                                                                             \n",
              "⎢                                                            d₁⋅g             \n",
              "⎢                                                     ──────────────────      \n",
              "⎢                                                        _______________      \n",
              "⎢                                                       ╱             2       \n",
              "⎢                                                     ╲╱  (d₁ - q₄(t))        \n",
              "⎢                                                                             \n",
              "⎢                                  ⎛M₁⋅g⋅w₁⋅(-d₁ + q₄(t))⋅(d₁ - q₄(t))        \n",
              "⎢                                 -⎜────────────────────────────────── + ─────\n",
              "⎢                                  ⎜                       3/2              __\n",
              "⎢                                  ⎜        ⎛            2⎞                ╱  \n",
              "⎢                                  ⎝        ⎝(d₁ - q₄(t)) ⎠              ╲╱  (\n",
              "⎢                                 ────────────────────────────────────────────\n",
              "⎣                                                              M₁             \n",
              "\n",
              "                                                             0           ⎤\n",
              "                                                                         ⎥\n",
              "                                                             0           ⎥\n",
              "                                                                         ⎥\n",
              "                                                             0           ⎥\n",
              "                                                                         ⎥\n",
              " + q₄(t))⋅(d₁ - q₄(t))         M₁⋅g⋅w₁       ⎞⎞                          ⎥\n",
              "────────────────────── - ────────────────────⎟⎟                          ⎥\n",
              "            3/2               _______________⎟⎟                          ⎥\n",
              "          2⎞                 ╱             2 ⎟⎟                          ⎥\n",
              "₁ - q₄(t)) ⎠             2⋅╲╱  (d₁ - q₄(t))  ⎠⎠           M₁⋅d₁⋅g        ⎥\n",
              "────────────────────────────────────────────────  ───────────────────────⎥\n",
              "                                                          _______________⎥\n",
              "                                                         ╱             2 ⎥\n",
              "                                                  iyy₁⋅╲╱  (d₁ - q₄(t))  ⎥\n",
              "                                                                         ⎥\n",
              "                                                            g            ⎥\n",
              "                                                    ──────────────────   ⎥\n",
              "                                                       _______________   ⎥\n",
              "                                                      ╱             2    ⎥\n",
              "                                                    ╲╱  (d₁ - q₄(t))     ⎥\n",
              "                                                                         ⎥\n",
              "M₁⋅g⋅w₁      ⎞                                                           ⎥\n",
              "─────────────⎟                                                           ⎥\n",
              "_____________⎟                                                           ⎥\n",
              "           2 ⎟                                                           ⎥\n",
              "d₁ - q₄(t))  ⎠                                                           ⎥\n",
              "───────────────                                              0           ⎥\n",
              "                                                                         ⎦"
            ],
            "text/latex": "$\\displaystyle \\left[\\begin{matrix}0 & 0\\\\0 & 0\\\\0 & 0\\\\- \\frac{- 2 d_{1} \\left(\\frac{M_{1} d_{1} g}{2 \\sqrt{\\left(d_{1} - q_{4}{\\left(t \\right)}\\right)^{2}}} + \\frac{M_{1} g \\left(- d_{1} + q_{4}{\\left(t \\right)}\\right)}{2 \\sqrt{\\left(d_{1} - q_{4}{\\left(t \\right)}\\right)^{2}}}\\right) + 2 w_{1} \\left(- \\frac{M_{1} g w_{1} \\left(- d_{1} + q_{4}{\\left(t \\right)}\\right) \\left(d_{1} - q_{4}{\\left(t \\right)}\\right)}{2 \\left(\\left(d_{1} - q_{4}{\\left(t \\right)}\\right)^{2}\\right)^{\\frac{3}{2}}} - \\frac{M_{1} g w_{1}}{2 \\sqrt{\\left(d_{1} - q_{4}{\\left(t \\right)}\\right)^{2}}}\\right)}{iyy_{1}} & \\frac{M_{1} d_{1} g}{iyy_{1} \\sqrt{\\left(d_{1} - q_{4}{\\left(t \\right)}\\right)^{2}}}\\\\\\frac{d_{1} g}{\\sqrt{\\left(d_{1} - q_{4}{\\left(t \\right)}\\right)^{2}}} & \\frac{g}{\\sqrt{\\left(d_{1} - q_{4}{\\left(t \\right)}\\right)^{2}}}\\\\- \\frac{\\frac{M_{1} g w_{1} \\left(- d_{1} + q_{4}{\\left(t \\right)}\\right) \\left(d_{1} - q_{4}{\\left(t \\right)}\\right)}{\\left(\\left(d_{1} - q_{4}{\\left(t \\right)}\\right)^{2}\\right)^{\\frac{3}{2}}} + \\frac{M_{1} g w_{1}}{\\sqrt{\\left(d_{1} - q_{4}{\\left(t \\right)}\\right)^{2}}}}{M_{1}} & 0\\end{matrix}\\right]$"
          },
          "metadata": {},
          "execution_count": 439
        }
      ],
      "source": [
        "B.subs({delta_l1:0, delta_l2:0})"
      ]
    },
    {
      "cell_type": "code",
      "execution_count": 361,
      "metadata": {
        "colab": {
          "base_uri": "https://localhost:8080/",
          "height": 78
        },
        "id": "9us5n7YHxQf2",
        "outputId": "c6db3186-5233-480d-d1ce-f9bd6a9b5de6"
      },
      "outputs": [
        {
          "output_type": "execute_result",
          "data": {
            "text/plain": [
              "⎡α_y1(t)⎤\n",
              "⎢       ⎥\n",
              "⎢xₓ₁(t) ⎥\n",
              "⎢       ⎥\n",
              "⎣ q₄(t) ⎦"
            ],
            "text/latex": "$\\displaystyle \\left[\\begin{matrix}\\alpha_{y1}{\\left(t \\right)}\\\\x_{x1}{\\left(t \\right)}\\\\q_{4}{\\left(t \\right)}\\end{matrix}\\right]$"
          },
          "metadata": {},
          "execution_count": 361
        }
      ],
      "source": [
        "kane.q"
      ]
    },
    {
      "cell_type": "markdown",
      "metadata": {
        "id": "tdBf6GOa0bS3"
      },
      "source": [
        "### Checking A matrix"
      ]
    },
    {
      "cell_type": "code",
      "execution_count": 362,
      "metadata": {
        "colab": {
          "base_uri": "https://localhost:8080/",
          "height": 245
        },
        "id": "ADdErgJzUlU4",
        "outputId": "bed40ce5-070f-400c-a20a-6abe9dd0eb1d"
      },
      "outputs": [
        {
          "output_type": "execute_result",
          "data": {
            "text/plain": [
              "⎡                                                                             \n",
              "⎢                                                                             \n",
              "⎢                                                                             \n",
              "⎢                                                                             \n",
              "⎢                                                                             \n",
              "⎢                                                                             \n",
              "⎢ ⎛     ⎛     ⎛M₁⋅g             ⎞                 ⎛M₁⋅g             ⎞⎞      ⎛ \n",
              "⎢ ⎜     ⎜  d₁⋅⎜──── + \\deltaₗ₁⋅k⎟   (-d₁ + q₄(t))⋅⎜──── + \\deltaₗ₁⋅k⎟⎟      ⎜ \n",
              "⎢ ⎜     ⎜     ⎝ 2               ⎠                 ⎝ 2               ⎠⎟      ⎜ \n",
              "⎢-⎜- d₁⋅⎜- ────────────────────── - ─────────────────────────────────⎟ - d₁⋅⎜-\n",
              "⎢ ⎜     ⎜       _______________                _______________       ⎟      ⎜ \n",
              "⎢ ⎜     ⎜      ╱             2                ╱             2        ⎟      ⎜ \n",
              "⎢ ⎝     ⎝    ╲╱  (d₁ - q₄(t))               ╲╱  (d₁ - q₄(t))         ⎠      ⎝ \n",
              "⎢─────────────────────────────────────────────────────────────────────────────\n",
              "⎢                                                                             \n",
              "⎢                                                                             \n",
              "⎢                                                                             \n",
              "⎢                                                                             \n",
              "⎢                                                                             \n",
              "⎢                                                                             \n",
              "⎢                                                                             \n",
              "⎢                                                                             \n",
              "⎢                                                                             \n",
              "⎢                                                                             \n",
              "⎢                                                                             \n",
              "⎢                                                                             \n",
              "⎢                                                                          ⎛  \n",
              "⎢                                                                          ⎜  \n",
              "⎢                                                                          ⎜  \n",
              "⎢                                                                         -⎜- \n",
              "⎢                                                                          ⎜  \n",
              "⎢                                                                          ⎜  \n",
              "⎢                                                                          ⎝  \n",
              "⎢                                                                         ────\n",
              "⎣                                                                             \n",
              "\n",
              "                                                                          0   \n",
              "                                                                              \n",
              "                                                                          0   \n",
              "                                                                              \n",
              "                                                                          0   \n",
              "                                                                              \n",
              "    ⎛M₁⋅g             ⎞                 ⎛M₁⋅g             ⎞⎞      ⎛           \n",
              " d₁⋅⎜──── - \\deltaₗ₂⋅k⎟   (-d₁ + q₄(t))⋅⎜──── - \\deltaₗ₂⋅k⎟⎟      ⎜w₁⋅(-d₁ + q\n",
              "    ⎝ 2               ⎠                 ⎝ 2               ⎠⎟      ⎜           \n",
              " ────────────────────── - ─────────────────────────────────⎟ + w₁⋅⎜───────────\n",
              "      _______________                _______________       ⎟      ⎜           \n",
              "     ╱             2                ╱             2        ⎟      ⎜           \n",
              "   ╲╱  (d₁ - q₄(t))               ╲╱  (d₁ - q₄(t))         ⎠      ⎝           \n",
              "──────────────────────────────────────────────────────────────────────────────\n",
              "                                                                         iyy₁ \n",
              "                                                                              \n",
              "                                                  ⎛   ⎛M₁⋅g             ⎞     \n",
              "                                                  ⎜d₁⋅⎜──── + \\deltaₗ₁⋅k⎟   d₁\n",
              "                                                  ⎜   ⎝ 2               ⎠     \n",
              "                                                 -⎜────────────────────── + ──\n",
              "                                                  ⎜     _______________       \n",
              "                                                  ⎜    ╱             2        \n",
              "                                                  ⎝  ╲╱  (d₁ - q₄(t))         \n",
              "                                                 ─────────────────────────────\n",
              "                                                                          M₁  \n",
              "                                                                              \n",
              "                              ⎛M₁⋅g             ⎞                             \n",
              "w₁⋅(-d₁ + q₄(t))⋅(d₁ - q₄(t))⋅⎜──── + \\deltaₗ₁⋅k⎟   w₁⋅(-d₁ + q₄(t))⋅(d₁ - q₄(\n",
              "                              ⎝ 2               ⎠                             \n",
              "───────────────────────────────────────────────── - ──────────────────────────\n",
              "                               3/2                                            \n",
              "                ⎛            2⎞                                     ⎛         \n",
              "                ⎝(d₁ - q₄(t)) ⎠                                     ⎝(d₁ - q₄(\n",
              "──────────────────────────────────────────────────────────────────────────────\n",
              "                                                                          M₁  \n",
              "\n",
              "                                                                              \n",
              "                                                                              \n",
              "                                                                              \n",
              "                                                                              \n",
              "                                                                              \n",
              "                                                                              \n",
              "                   ⎛M₁⋅g             ⎞      ⎛M₁⋅g             ⎞⎞      ⎛       \n",
              "₄(t))⋅(d₁ - q₄(t))⋅⎜──── + \\deltaₗ₁⋅k⎟   w₁⋅⎜──── + \\deltaₗ₁⋅k⎟⎟      ⎜w₁⋅(-d₁\n",
              "                   ⎝ 2               ⎠      ⎝ 2               ⎠⎟      ⎜       \n",
              "────────────────────────────────────── + ──────────────────────⎟ + w₁⋅⎜───────\n",
              "                    3/2                       _______________  ⎟      ⎜       \n",
              "     ⎛            2⎞                         ╱             2   ⎟      ⎜       \n",
              "     ⎝(d₁ - q₄(t)) ⎠                       ╲╱  (d₁ - q₄(t))    ⎠      ⎝       \n",
              "──────────────────────────────────────────────────────────────────────────────\n",
              "                                                                              \n",
              "                                                                              \n",
              " ⎛M₁⋅g             ⎞⎞                                                         \n",
              "⋅⎜──── - \\deltaₗ₂⋅k⎟⎟                                                         \n",
              " ⎝ 2               ⎠⎟                                                         \n",
              "────────────────────⎟                                                         \n",
              "   _______________  ⎟                                                         \n",
              "  ╱             2   ⎟                                                         \n",
              "╲╱  (d₁ - q₄(t))    ⎠                                                         \n",
              "──────────────────────                                                        \n",
              "                                                                              \n",
              "                                                                              \n",
              "    ⎛M₁⋅g             ⎞      ⎛M₁⋅g             ⎞      ⎛M₁⋅g             ⎞⎞    \n",
              "t))⋅⎜──── - \\deltaₗ₂⋅k⎟   w₁⋅⎜──── + \\deltaₗ₁⋅k⎟   w₁⋅⎜──── - \\deltaₗ₂⋅k⎟⎟    \n",
              "    ⎝ 2               ⎠      ⎝ 2               ⎠      ⎝ 2               ⎠⎟    \n",
              "─────────────────────── - ────────────────────── - ──────────────────────⎟    \n",
              "     3/2                       _______________          _______________  ⎟    \n",
              "   2⎞                         ╱             2          ╱             2   ⎟    \n",
              "t)) ⎠                       ╲╱  (d₁ - q₄(t))         ╲╱  (d₁ - q₄(t))    ⎠    \n",
              "───────────────────────────────────────────────────────────────────────────   \n",
              "                                                                              \n",
              "\n",
              "                                                                              \n",
              "                                                                              \n",
              "                                                                              \n",
              "                                                                              \n",
              "                                                                              \n",
              "                                                                              \n",
              "                       ⎛M₁⋅g             ⎞      ⎛M₁⋅g             ⎞⎞⎞    ⎛   ⎛\n",
              " + q₄(t))⋅(d₁ - q₄(t))⋅⎜──── - \\deltaₗ₂⋅k⎟   w₁⋅⎜──── - \\deltaₗ₂⋅k⎟⎟⎟    ⎜d₁⋅⎜\n",
              "                       ⎝ 2               ⎠      ⎝ 2               ⎠⎟⎟    ⎜   ⎝\n",
              "────────────────────────────────────────── + ──────────────────────⎟⎟   -⎜────\n",
              "                        3/2                       _______________  ⎟⎟    ⎜    \n",
              "         ⎛            2⎞                         ╱             2   ⎟⎟    ⎜    \n",
              "         ⎝(d₁ - q₄(t)) ⎠                       ╲╱  (d₁ - q₄(t))    ⎠⎠    ⎝  ╲╱\n",
              "──────────────────────────────────────────────────────────────────────  ──────\n",
              "                                                                              \n",
              "                                                                              \n",
              "                                                                             ⎛\n",
              "                                                                             ⎜\n",
              "                                                                             ⎜\n",
              "                                                                            -⎜\n",
              "                                                                             ⎜\n",
              "                                                                             ⎜\n",
              "                                                                             ⎝\n",
              "                                                                            ──\n",
              "                                                                              \n",
              "                                                                              \n",
              "                                                                              \n",
              "                                                                              \n",
              "                                                                              \n",
              "                                                                              \n",
              "                                                                              \n",
              "                                                                              \n",
              "                                                                              \n",
              "                                                                              \n",
              "                                                                              \n",
              "\n",
              "                   0                                                          \n",
              "                                                                              \n",
              "                   0                                                          \n",
              "                                                                              \n",
              "                   0                                                          \n",
              "                                                                              \n",
              "M₁⋅g             ⎞      ⎛M₁⋅g             ⎞⎞    ⎛   ⎛                         \n",
              "──── + \\deltaₗ₁⋅k⎟   d₁⋅⎜──── - \\deltaₗ₂⋅k⎟⎟    ⎜   ⎜(-d₁ + q₄(t))⋅(d₁ - q₄(t)\n",
              " 2               ⎠      ⎝ 2               ⎠⎟    ⎜   ⎜                         \n",
              "────────────────── + ──────────────────────⎟   -⎜w₁⋅⎜─────────────────────────\n",
              " _______________          _______________  ⎟    ⎜   ⎜                         \n",
              "╱             2          ╱             2   ⎟    ⎜   ⎜              ⎛          \n",
              "  (d₁ - q₄(t))         ╲╱  (d₁ - q₄(t))    ⎠    ⎝   ⎝              ⎝(d₁ - q₄(t\n",
              "─────────────────────────────────────────────  ───────────────────────────────\n",
              "                  iyy₁                                                        \n",
              "                                                                              \n",
              "M₁⋅g                 M₁⋅g              ⎞                                      \n",
              "──── + \\deltaₗ₁⋅k    ──── - \\deltaₗ₂⋅k ⎟                                      \n",
              " 2                    2                ⎟                                      \n",
              "────────────────── + ──────────────────⎟                                      \n",
              "   _______________      _______________⎟                                      \n",
              "  ╱             2      ╱             2 ⎟                                      \n",
              "╲╱  (d₁ - q₄(t))     ╲╱  (d₁ - q₄(t))  ⎠                                      \n",
              "─────────────────────────────────────────                                     \n",
              "                   M₁                                                         \n",
              "                                                                              \n",
              "                                                    ⎛                         \n",
              "                                                    ⎜  (-d₁ + q₄(t))⋅(d₁ - q₄(\n",
              "                                                    ⎜                         \n",
              "                                                   -⎜- ───────────────────────\n",
              "                                                    ⎜                         \n",
              "                                                    ⎜                ⎛        \n",
              "                                                    ⎝                ⎝(d₁ - q₄\n",
              "                   0                               ───────────────────────────\n",
              "                                                                              \n",
              "\n",
              "                                            0                                 \n",
              "                                                                              \n",
              "                                            0                                 \n",
              "                                                                              \n",
              "                                            0                                 \n",
              "                                                                              \n",
              "  ⎛M₁⋅g             ⎞   M₁⋅g              ⎞      ⎛                           ⎛\n",
              ")⋅⎜──── + \\deltaₗ₁⋅k⎟   ──── + \\deltaₗ₁⋅k ⎟      ⎜(-d₁ + q₄(t))⋅(d₁ - q₄(t))⋅⎜\n",
              "  ⎝ 2               ⎠    2                ⎟      ⎜                           ⎝\n",
              "───────────────────── + ──────────────────⎟ + w₁⋅⎜────────────────────────────\n",
              "    3/2                    _______________⎟      ⎜                            \n",
              "  2⎞                      ╱             2 ⎟      ⎜              ⎛            2\n",
              ")) ⎠                    ╲╱  (d₁ - q₄(t))  ⎠      ⎝              ⎝(d₁ - q₄(t)) \n",
              "──────────────────────────────────────────────────────────────────────────────\n",
              "                                           iyy₁                               \n",
              "                                                                              \n",
              "                                                                              \n",
              "                                                                              \n",
              "                                                                              \n",
              "                                                                              \n",
              "                                                                              \n",
              "                                                                              \n",
              "                                                                              \n",
              "                                            0                                 \n",
              "                                                                              \n",
              "                                                                              \n",
              "    ⎛M₁⋅g             ⎞                              ⎛M₁⋅g             ⎞   M₁⋅\n",
              "t))⋅⎜──── + \\deltaₗ₁⋅k⎟   (-d₁ + q₄(t))⋅(d₁ - q₄(t))⋅⎜──── - \\deltaₗ₂⋅k⎟   ───\n",
              "    ⎝ 2               ⎠                              ⎝ 2               ⎠    2 \n",
              "─────────────────────── - ────────────────────────────────────────────── - ───\n",
              "      3/2                                              3/2                    \n",
              "    2⎞                                  ⎛            2⎞                      ╱\n",
              "(t)) ⎠                                  ⎝(d₁ - q₄(t)) ⎠                    ╲╱ \n",
              "──────────────────────────────────────────────────────────────────────────────\n",
              "                                            M₁                                \n",
              "\n",
              "                                            1  0  0 ⎤\n",
              "                                                    ⎥\n",
              "                                            0  1  0 ⎥\n",
              "                                                    ⎥\n",
              "                                            0  0  -1⎥\n",
              "                                                    ⎥\n",
              "M₁⋅g             ⎞   M₁⋅g              ⎞⎞           ⎥\n",
              "──── - \\deltaₗ₂⋅k⎟   ──── - \\deltaₗ₂⋅k ⎟⎟           ⎥\n",
              " 2               ⎠    2                ⎟⎟           ⎥\n",
              "────────────────── + ──────────────────⎟⎟           ⎥\n",
              " 3/2                    _______________⎟⎟           ⎥\n",
              "⎞                      ╱             2 ⎟⎟           ⎥\n",
              "⎠                    ╲╱  (d₁ - q₄(t))  ⎠⎠           ⎥\n",
              "──────────────────────────────────────────  0  0  0 ⎥\n",
              "                                                    ⎥\n",
              "                                                    ⎥\n",
              "                                                    ⎥\n",
              "                                                    ⎥\n",
              "                                                    ⎥\n",
              "                                                    ⎥\n",
              "                                                    ⎥\n",
              "                                                    ⎥\n",
              "                                                    ⎥\n",
              "                                            0  0  0 ⎥\n",
              "                                                    ⎥\n",
              "                                                    ⎥\n",
              "g                 M₁⋅g              ⎞               ⎥\n",
              "─ + \\deltaₗ₁⋅k    ──── - \\deltaₗ₂⋅k ⎟               ⎥\n",
              "                   2                ⎟               ⎥\n",
              "─────────────── - ──────────────────⎟               ⎥\n",
              "_______________      _______________⎟               ⎥\n",
              "             2      ╱             2 ⎟               ⎥\n",
              " (d₁ - q₄(t))     ╲╱  (d₁ - q₄(t))  ⎠               ⎥\n",
              "──────────────────────────────────────      0  0  0 ⎥\n",
              "                                                    ⎦"
            ],
            "text/latex": "$\\displaystyle \\left[\\begin{matrix}0 & 0 & 0 & 1 & 0 & 0\\\\0 & 0 & 0 & 0 & 1 & 0\\\\0 & 0 & 0 & 0 & 0 & -1\\\\- \\frac{- d_{1} \\left(- \\frac{d_{1} \\left(\\frac{M_{1} g}{2} + \\delta_{l1} k\\right)}{\\sqrt{\\left(d_{1} - q_{4}{\\left(t \\right)}\\right)^{2}}} - \\frac{\\left(- d_{1} + q_{4}{\\left(t \\right)}\\right) \\left(\\frac{M_{1} g}{2} + \\delta_{l1} k\\right)}{\\sqrt{\\left(d_{1} - q_{4}{\\left(t \\right)}\\right)^{2}}}\\right) - d_{1} \\left(- \\frac{d_{1} \\left(\\frac{M_{1} g}{2} - \\delta_{l2} k\\right)}{\\sqrt{\\left(d_{1} - q_{4}{\\left(t \\right)}\\right)^{2}}} - \\frac{\\left(- d_{1} + q_{4}{\\left(t \\right)}\\right) \\left(\\frac{M_{1} g}{2} - \\delta_{l2} k\\right)}{\\sqrt{\\left(d_{1} - q_{4}{\\left(t \\right)}\\right)^{2}}}\\right) + w_{1} \\left(\\frac{w_{1} \\left(- d_{1} + q_{4}{\\left(t \\right)}\\right) \\left(d_{1} - q_{4}{\\left(t \\right)}\\right) \\left(\\frac{M_{1} g}{2} + \\delta_{l1} k\\right)}{\\left(\\left(d_{1} - q_{4}{\\left(t \\right)}\\right)^{2}\\right)^{\\frac{3}{2}}} + \\frac{w_{1} \\left(\\frac{M_{1} g}{2} + \\delta_{l1} k\\right)}{\\sqrt{\\left(d_{1} - q_{4}{\\left(t \\right)}\\right)^{2}}}\\right) + w_{1} \\left(\\frac{w_{1} \\left(- d_{1} + q_{4}{\\left(t \\right)}\\right) \\left(d_{1} - q_{4}{\\left(t \\right)}\\right) \\left(\\frac{M_{1} g}{2} - \\delta_{l2} k\\right)}{\\left(\\left(d_{1} - q_{4}{\\left(t \\right)}\\right)^{2}\\right)^{\\frac{3}{2}}} + \\frac{w_{1} \\left(\\frac{M_{1} g}{2} - \\delta_{l2} k\\right)}{\\sqrt{\\left(d_{1} - q_{4}{\\left(t \\right)}\\right)^{2}}}\\right)}{iyy_{1}} & - \\frac{\\frac{d_{1} \\left(\\frac{M_{1} g}{2} + \\delta_{l1} k\\right)}{\\sqrt{\\left(d_{1} - q_{4}{\\left(t \\right)}\\right)^{2}}} + \\frac{d_{1} \\left(\\frac{M_{1} g}{2} - \\delta_{l2} k\\right)}{\\sqrt{\\left(d_{1} - q_{4}{\\left(t \\right)}\\right)^{2}}}}{iyy_{1}} & - \\frac{w_{1} \\left(\\frac{\\left(- d_{1} + q_{4}{\\left(t \\right)}\\right) \\left(d_{1} - q_{4}{\\left(t \\right)}\\right) \\left(\\frac{M_{1} g}{2} + \\delta_{l1} k\\right)}{\\left(\\left(d_{1} - q_{4}{\\left(t \\right)}\\right)^{2}\\right)^{\\frac{3}{2}}} + \\frac{\\frac{M_{1} g}{2} + \\delta_{l1} k}{\\sqrt{\\left(d_{1} - q_{4}{\\left(t \\right)}\\right)^{2}}}\\right) + w_{1} \\left(\\frac{\\left(- d_{1} + q_{4}{\\left(t \\right)}\\right) \\left(d_{1} - q_{4}{\\left(t \\right)}\\right) \\left(\\frac{M_{1} g}{2} - \\delta_{l2} k\\right)}{\\left(\\left(d_{1} - q_{4}{\\left(t \\right)}\\right)^{2}\\right)^{\\frac{3}{2}}} + \\frac{\\frac{M_{1} g}{2} - \\delta_{l2} k}{\\sqrt{\\left(d_{1} - q_{4}{\\left(t \\right)}\\right)^{2}}}\\right)}{iyy_{1}} & 0 & 0 & 0\\\\- \\frac{\\frac{d_{1} \\left(\\frac{M_{1} g}{2} + \\delta_{l1} k\\right)}{\\sqrt{\\left(d_{1} - q_{4}{\\left(t \\right)}\\right)^{2}}} + \\frac{d_{1} \\left(\\frac{M_{1} g}{2} - \\delta_{l2} k\\right)}{\\sqrt{\\left(d_{1} - q_{4}{\\left(t \\right)}\\right)^{2}}}}{M_{1}} & - \\frac{\\frac{\\frac{M_{1} g}{2} + \\delta_{l1} k}{\\sqrt{\\left(d_{1} - q_{4}{\\left(t \\right)}\\right)^{2}}} + \\frac{\\frac{M_{1} g}{2} - \\delta_{l2} k}{\\sqrt{\\left(d_{1} - q_{4}{\\left(t \\right)}\\right)^{2}}}}{M_{1}} & 0 & 0 & 0 & 0\\\\- \\frac{- \\frac{w_{1} \\left(- d_{1} + q_{4}{\\left(t \\right)}\\right) \\left(d_{1} - q_{4}{\\left(t \\right)}\\right) \\left(\\frac{M_{1} g}{2} + \\delta_{l1} k\\right)}{\\left(\\left(d_{1} - q_{4}{\\left(t \\right)}\\right)^{2}\\right)^{\\frac{3}{2}}} - \\frac{w_{1} \\left(- d_{1} + q_{4}{\\left(t \\right)}\\right) \\left(d_{1} - q_{4}{\\left(t \\right)}\\right) \\left(\\frac{M_{1} g}{2} - \\delta_{l2} k\\right)}{\\left(\\left(d_{1} - q_{4}{\\left(t \\right)}\\right)^{2}\\right)^{\\frac{3}{2}}} - \\frac{w_{1} \\left(\\frac{M_{1} g}{2} + \\delta_{l1} k\\right)}{\\sqrt{\\left(d_{1} - q_{4}{\\left(t \\right)}\\right)^{2}}} - \\frac{w_{1} \\left(\\frac{M_{1} g}{2} - \\delta_{l2} k\\right)}{\\sqrt{\\left(d_{1} - q_{4}{\\left(t \\right)}\\right)^{2}}}}{M_{1}} & 0 & - \\frac{- \\frac{\\left(- d_{1} + q_{4}{\\left(t \\right)}\\right) \\left(d_{1} - q_{4}{\\left(t \\right)}\\right) \\left(\\frac{M_{1} g}{2} + \\delta_{l1} k\\right)}{\\left(\\left(d_{1} - q_{4}{\\left(t \\right)}\\right)^{2}\\right)^{\\frac{3}{2}}} - \\frac{\\left(- d_{1} + q_{4}{\\left(t \\right)}\\right) \\left(d_{1} - q_{4}{\\left(t \\right)}\\right) \\left(\\frac{M_{1} g}{2} - \\delta_{l2} k\\right)}{\\left(\\left(d_{1} - q_{4}{\\left(t \\right)}\\right)^{2}\\right)^{\\frac{3}{2}}} - \\frac{\\frac{M_{1} g}{2} + \\delta_{l1} k}{\\sqrt{\\left(d_{1} - q_{4}{\\left(t \\right)}\\right)^{2}}} - \\frac{\\frac{M_{1} g}{2} - \\delta_{l2} k}{\\sqrt{\\left(d_{1} - q_{4}{\\left(t \\right)}\\right)^{2}}}}{M_{1}} & 0 & 0 & 0\\end{matrix}\\right]$"
          },
          "metadata": {},
          "execution_count": 362
        }
      ],
      "source": [
        "A"
      ]
    },
    {
      "cell_type": "code",
      "execution_count": 363,
      "metadata": {
        "colab": {
          "base_uri": "https://localhost:8080/",
          "height": 39
        },
        "id": "NA9SgAbRzljN",
        "outputId": "d6bc5038-f737-4b5f-c3c9-a9f81930acc6"
      },
      "outputs": [
        {
          "output_type": "execute_result",
          "data": {
            "text/plain": [
              "[(α_y1(t), 0), (xₓ₁(t), 1), (q₄(t), 2)]"
            ],
            "text/latex": "$\\displaystyle \\left[ \\left( \\alpha_{y1}{\\left(t \\right)}, \\  0\\right), \\  \\left( x_{x1}{\\left(t \\right)}, \\  1\\right), \\  \\left( q_{4}{\\left(t \\right)}, \\  2\\right)\\right]$"
          },
          "metadata": {},
          "execution_count": 363
        }
      ],
      "source": [
        "list(zip(kane.q, [0,1,2]))"
      ]
    },
    {
      "cell_type": "code",
      "execution_count": null,
      "metadata": {
        "id": "3FnmbND8VeQF"
      },
      "outputs": [],
      "source": [
        "#kaneeq[0][0].diff(alpha_y1).subs({delta_l1:0, delta_l2:0, alpha_y1:beta_y1, x_x1:x_x0}).simplify()"
      ]
    },
    {
      "cell_type": "code",
      "execution_count": null,
      "metadata": {
        "id": "rpRdCJx8Vl3A"
      },
      "outputs": [],
      "source": [
        "#A[3,0].subs({delta_l1:0, delta_l2:0}).simplify()"
      ]
    },
    {
      "cell_type": "code",
      "execution_count": 440,
      "metadata": {
        "id": "76hSj5LEVtJz"
      },
      "outputs": [],
      "source": [
        "#kaneeq[0][0].diff(x_x1).subs({delta_l1:0, delta_l2:0, alpha_y1:beta_y1, x_x1:x_x0}).simplify()"
      ]
    },
    {
      "cell_type": "code",
      "execution_count": null,
      "metadata": {
        "id": "69VubiclVxU2"
      },
      "outputs": [],
      "source": [
        "#A[3,1].subs({delta_l1:0, delta_l2:0}).simplify()"
      ]
    },
    {
      "cell_type": "code",
      "source": [
        "kane.q"
      ],
      "metadata": {
        "colab": {
          "base_uri": "https://localhost:8080/",
          "height": 78
        },
        "id": "k6OkrKqkbqKl",
        "outputId": "a1c7c32c-00ef-47a3-9256-be4dd0834a2c"
      },
      "execution_count": 378,
      "outputs": [
        {
          "output_type": "execute_result",
          "data": {
            "text/plain": [
              "⎡α_y1(t)⎤\n",
              "⎢       ⎥\n",
              "⎢xₓ₁(t) ⎥\n",
              "⎢       ⎥\n",
              "⎣ q₄(t) ⎦"
            ],
            "text/latex": "$\\displaystyle \\left[\\begin{matrix}\\alpha_{y1}{\\left(t \\right)}\\\\x_{x1}{\\left(t \\right)}\\\\q_{4}{\\left(t \\right)}\\end{matrix}\\right]$"
          },
          "metadata": {},
          "execution_count": 378
        }
      ]
    },
    {
      "cell_type": "code",
      "execution_count": 364,
      "metadata": {
        "colab": {
          "base_uri": "https://localhost:8080/",
          "height": 81
        },
        "id": "4PQLTPnZz4aW",
        "outputId": "c397b1a3-cfab-4588-d5cd-cc62e64b100b"
      },
      "outputs": [
        {
          "output_type": "execute_result",
          "data": {
            "text/plain": [
              "⎡ -M₁⋅d₁⋅g⋅q₄(t)         -M₁⋅d₁⋅g         ⎤\n",
              "⎢──────────────────, ──────────────────, 0⎥\n",
              "⎢   _______________     _______________   ⎥\n",
              "⎢  ╱             2     ╱             2    ⎥\n",
              "⎣╲╱  (d₁ - q₄(t))    ╲╱  (d₁ - q₄(t))     ⎦"
            ],
            "text/latex": "$\\displaystyle \\left[ - \\frac{M_{1} d_{1} g q_{4}{\\left(t \\right)}}{\\sqrt{\\left(d_{1} - q_{4}{\\left(t \\right)}\\right)^{2}}}, \\  - \\frac{M_{1} d_{1} g}{\\sqrt{\\left(d_{1} - q_{4}{\\left(t \\right)}\\right)^{2}}}, \\  0\\right]$"
          },
          "metadata": {},
          "execution_count": 364
        }
      ],
      "source": [
        "[kaneeq[0][0].diff(i).subs({delta_l1:0, delta_l2:0, alpha_y1:beta_y1, x_x1:x_x0}).simplify() for i in kane.q]"
      ]
    },
    {
      "cell_type": "code",
      "execution_count": 365,
      "metadata": {
        "colab": {
          "base_uri": "https://localhost:8080/",
          "height": 81
        },
        "id": "EYgIkbTL0Ere",
        "outputId": "d5dbc8d6-579b-4b14-ec11-97d88798673f"
      },
      "outputs": [
        {
          "output_type": "execute_result",
          "data": {
            "text/plain": [
              "⎡    -M₁⋅d₁⋅g⋅q₄(t)              -M₁⋅d₁⋅g           ⎤\n",
              "⎢───────────────────────, ───────────────────────, 0⎥\n",
              "⎢        _______________          _______________   ⎥\n",
              "⎢       ╱             2          ╱             2    ⎥\n",
              "⎣iyy₁⋅╲╱  (d₁ - q₄(t))    iyy₁⋅╲╱  (d₁ - q₄(t))     ⎦"
            ],
            "text/latex": "$\\displaystyle \\left[ - \\frac{M_{1} d_{1} g q_{4}{\\left(t \\right)}}{iyy_{1} \\sqrt{\\left(d_{1} - q_{4}{\\left(t \\right)}\\right)^{2}}}, \\  - \\frac{M_{1} d_{1} g}{iyy_{1} \\sqrt{\\left(d_{1} - q_{4}{\\left(t \\right)}\\right)^{2}}}, \\  0\\right]$"
          },
          "metadata": {},
          "execution_count": 365
        }
      ],
      "source": [
        "[A[3,i].subs({delta_l1:0, delta_l2:0}).simplify() for i in [0,1,2]]"
      ]
    },
    {
      "cell_type": "code",
      "execution_count": 366,
      "metadata": {
        "colab": {
          "base_uri": "https://localhost:8080/",
          "height": 81
        },
        "id": "OKucUS3n0LeK",
        "outputId": "12089c57-57fd-49e8-8419-e03a58102769"
      },
      "outputs": [
        {
          "output_type": "execute_result",
          "data": {
            "text/plain": [
              "⎡    -M₁⋅d₁⋅g              -M₁⋅g          ⎤\n",
              "⎢──────────────────, ──────────────────, 0⎥\n",
              "⎢   _______________     _______________   ⎥\n",
              "⎢  ╱             2     ╱             2    ⎥\n",
              "⎣╲╱  (d₁ - q₄(t))    ╲╱  (d₁ - q₄(t))     ⎦"
            ],
            "text/latex": "$\\displaystyle \\left[ - \\frac{M_{1} d_{1} g}{\\sqrt{\\left(d_{1} - q_{4}{\\left(t \\right)}\\right)^{2}}}, \\  - \\frac{M_{1} g}{\\sqrt{\\left(d_{1} - q_{4}{\\left(t \\right)}\\right)^{2}}}, \\  0\\right]$"
          },
          "metadata": {},
          "execution_count": 366
        }
      ],
      "source": [
        "[kaneeq[0][1].diff(i).subs({delta_l1:0, delta_l2:0, alpha_y1:beta_y1, x_x1:x_x0}).simplify() for i in kane.q]"
      ]
    },
    {
      "cell_type": "code",
      "execution_count": 367,
      "metadata": {
        "colab": {
          "base_uri": "https://localhost:8080/",
          "height": 81
        },
        "id": "xs93bR3H0LtO",
        "outputId": "a739a90c-ce04-432a-9e42-6e906a23e757"
      },
      "outputs": [
        {
          "output_type": "execute_result",
          "data": {
            "text/plain": [
              "⎡      -d₁⋅g                -g            ⎤\n",
              "⎢──────────────────, ──────────────────, 0⎥\n",
              "⎢   _______________     _______________   ⎥\n",
              "⎢  ╱             2     ╱             2    ⎥\n",
              "⎣╲╱  (d₁ - q₄(t))    ╲╱  (d₁ - q₄(t))     ⎦"
            ],
            "text/latex": "$\\displaystyle \\left[ - \\frac{d_{1} g}{\\sqrt{\\left(d_{1} - q_{4}{\\left(t \\right)}\\right)^{2}}}, \\  - \\frac{g}{\\sqrt{\\left(d_{1} - q_{4}{\\left(t \\right)}\\right)^{2}}}, \\  0\\right]$"
          },
          "metadata": {},
          "execution_count": 367
        }
      ],
      "source": [
        "[A[4,i].subs({delta_l1:0, delta_l2:0}).simplify() for i in [0,1,2]]"
      ]
    },
    {
      "cell_type": "code",
      "execution_count": 368,
      "metadata": {
        "colab": {
          "base_uri": "https://localhost:8080/",
          "height": 37
        },
        "id": "l_HD0yqI0RCU",
        "outputId": "fd6a7076-9c85-4923-b874-059d8d9bded0"
      },
      "outputs": [
        {
          "output_type": "execute_result",
          "data": {
            "text/plain": [
              "[0, 0, 0]"
            ],
            "text/latex": "$\\displaystyle \\left[ 0, \\  0, \\  0\\right]$"
          },
          "metadata": {},
          "execution_count": 368
        }
      ],
      "source": [
        "[kaneeq[0][2].diff(i).subs({delta_l1:0, delta_l2:0, alpha_y1:beta_y1, x_x1:x_x0}).simplify() for i in kane.q]"
      ]
    },
    {
      "cell_type": "code",
      "execution_count": 369,
      "metadata": {
        "colab": {
          "base_uri": "https://localhost:8080/",
          "height": 37
        },
        "id": "yHD5HfB40Uqu",
        "outputId": "209fc31d-3b6c-4586-db95-573ebbf7fc04"
      },
      "outputs": [
        {
          "output_type": "execute_result",
          "data": {
            "text/plain": [
              "[0, 0, 0]"
            ],
            "text/latex": "$\\displaystyle \\left[ 0, \\  0, \\  0\\right]$"
          },
          "metadata": {},
          "execution_count": 369
        }
      ],
      "source": [
        "[A[5,i].subs({delta_l1:0, delta_l2:0}).simplify() for i in [0,1,2]]"
      ]
    },
    {
      "cell_type": "code",
      "execution_count": 370,
      "metadata": {
        "colab": {
          "base_uri": "https://localhost:8080/",
          "height": 58
        },
        "id": "AtWNOCEBymQe",
        "outputId": "184a7d62-08a6-449e-9e25-d0dc5f6dd510"
      },
      "outputs": [
        {
          "output_type": "execute_result",
          "data": {
            "text/plain": [
              "⎡β_y1(t)⎤\n",
              "⎢       ⎥\n",
              "⎣xₓ₀(t) ⎦"
            ],
            "text/latex": "$\\displaystyle \\left[\\begin{matrix}\\beta_{y1}{\\left(t \\right)}\\\\x_{x0}{\\left(t \\right)}\\end{matrix}\\right]$"
          },
          "metadata": {},
          "execution_count": 370
        }
      ],
      "source": [
        "kanel.r"
      ]
    },
    {
      "cell_type": "markdown",
      "metadata": {
        "id": "wM8mIUT90exX"
      },
      "source": [
        "### Checking B matrix"
      ]
    },
    {
      "cell_type": "code",
      "execution_count": 371,
      "metadata": {
        "colab": {
          "base_uri": "https://localhost:8080/",
          "height": 81
        },
        "id": "RC3I2yI40gBm",
        "outputId": "812bba0f-5b49-44bf-819d-88397320dc41"
      },
      "outputs": [
        {
          "output_type": "execute_result",
          "data": {
            "text/plain": [
              "⎡  M₁⋅d₁⋅g⋅q₄(t)          M₁⋅d₁⋅g         ⎤\n",
              "⎢──────────────────, ──────────────────, 0⎥\n",
              "⎢   _______________     _______________   ⎥\n",
              "⎢  ╱             2     ╱             2    ⎥\n",
              "⎣╲╱  (d₁ - q₄(t))    ╲╱  (d₁ - q₄(t))     ⎦"
            ],
            "text/latex": "$\\displaystyle \\left[ \\frac{M_{1} d_{1} g q_{4}{\\left(t \\right)}}{\\sqrt{\\left(d_{1} - q_{4}{\\left(t \\right)}\\right)^{2}}}, \\  \\frac{M_{1} d_{1} g}{\\sqrt{\\left(d_{1} - q_{4}{\\left(t \\right)}\\right)^{2}}}, \\  0\\right]$"
          },
          "metadata": {},
          "execution_count": 371
        }
      ],
      "source": [
        "[kaneeq[0][i].diff(beta_y1).subs({delta_l1:0, delta_l2:0, alpha_y1:beta_y1, x_x1:x_x0}).simplify() for i in [0,1,2]]"
      ]
    },
    {
      "cell_type": "code",
      "execution_count": 372,
      "metadata": {
        "colab": {
          "base_uri": "https://localhost:8080/",
          "height": 81
        },
        "id": "RG0W1CXQ0kVS",
        "outputId": "5289ad21-1fe2-47f9-9a97-1f4313537817"
      },
      "outputs": [
        {
          "output_type": "execute_result",
          "data": {
            "text/plain": [
              "⎡           M₁⋅d₁⋅g⋅q₄(t)                    d₁⋅g          ⎤\n",
              "⎢───────────────────────────────────, ──────────────────, 0⎥\n",
              "⎢        ___________________________     _______________   ⎥\n",
              "⎢       ╱   2                  2        ╱             2    ⎥\n",
              "⎣iyy₁⋅╲╱  d₁  - 2⋅d₁⋅q₄(t) + q₄ (t)   ╲╱  (d₁ - q₄(t))     ⎦"
            ],
            "text/latex": "$\\displaystyle \\left[ \\frac{M_{1} d_{1} g q_{4}{\\left(t \\right)}}{iyy_{1} \\sqrt{d_{1}^{2} - 2 d_{1} q_{4}{\\left(t \\right)} + q_{4}^{2}{\\left(t \\right)}}}, \\  \\frac{d_{1} g}{\\sqrt{\\left(d_{1} - q_{4}{\\left(t \\right)}\\right)^{2}}}, \\  0\\right]$"
          },
          "metadata": {},
          "execution_count": 372
        }
      ],
      "source": [
        "[B[i,0].subs({delta_l1:0, delta_l2:0}).simplify() for i in [3,4,5]]"
      ]
    },
    {
      "cell_type": "code",
      "execution_count": 373,
      "metadata": {
        "colab": {
          "base_uri": "https://localhost:8080/",
          "height": 81
        },
        "id": "uWibnNfs0nRF",
        "outputId": "db7d838e-9461-447f-c787-ece4f89db322"
      },
      "outputs": [
        {
          "output_type": "execute_result",
          "data": {
            "text/plain": [
              "⎡     M₁⋅d₁⋅g               M₁⋅g          ⎤\n",
              "⎢──────────────────, ──────────────────, 0⎥\n",
              "⎢   _______________     _______________   ⎥\n",
              "⎢  ╱             2     ╱             2    ⎥\n",
              "⎣╲╱  (d₁ - q₄(t))    ╲╱  (d₁ - q₄(t))     ⎦"
            ],
            "text/latex": "$\\displaystyle \\left[ \\frac{M_{1} d_{1} g}{\\sqrt{\\left(d_{1} - q_{4}{\\left(t \\right)}\\right)^{2}}}, \\  \\frac{M_{1} g}{\\sqrt{\\left(d_{1} - q_{4}{\\left(t \\right)}\\right)^{2}}}, \\  0\\right]$"
          },
          "metadata": {},
          "execution_count": 373
        }
      ],
      "source": [
        "[kaneeq[0][i].diff(x_x0).subs({delta_l1:0, delta_l2:0, alpha_y1:beta_y1, x_x1:x_x0}).simplify() for i in [0,1,2]]"
      ]
    },
    {
      "cell_type": "code",
      "execution_count": 374,
      "metadata": {
        "colab": {
          "base_uri": "https://localhost:8080/",
          "height": 81
        },
        "id": "5fNmusBT0rWf",
        "outputId": "8d4f9528-31d5-4346-de7f-a931640b10b4"
      },
      "outputs": [
        {
          "output_type": "execute_result",
          "data": {
            "text/plain": [
              "⎡        M₁⋅d₁⋅g                  g            ⎤\n",
              "⎢───────────────────────, ──────────────────, 0⎥\n",
              "⎢        _______________     _______________   ⎥\n",
              "⎢       ╱             2     ╱             2    ⎥\n",
              "⎣iyy₁⋅╲╱  (d₁ - q₄(t))    ╲╱  (d₁ - q₄(t))     ⎦"
            ],
            "text/latex": "$\\displaystyle \\left[ \\frac{M_{1} d_{1} g}{iyy_{1} \\sqrt{\\left(d_{1} - q_{4}{\\left(t \\right)}\\right)^{2}}}, \\  \\frac{g}{\\sqrt{\\left(d_{1} - q_{4}{\\left(t \\right)}\\right)^{2}}}, \\  0\\right]$"
          },
          "metadata": {},
          "execution_count": 374
        }
      ],
      "source": [
        "[B[i,1].subs({delta_l1:0, delta_l2:0}).simplify() for i in [3,4,5]]"
      ]
    },
    {
      "cell_type": "code",
      "execution_count": 382,
      "metadata": {
        "id": "Ej2iENpI2Awe"
      },
      "outputs": [],
      "source": [
        "\n",
        "l = symbols('l', positive=True)\n",
        "A_mat = A.subs({delta_l1:0, delta_l2:0, - d1 + q4:l})\n",
        "B_mat = B.subs({delta_l1:0, delta_l2:0, - d1 + q4:l})"
      ]
    },
    {
      "cell_type": "code",
      "execution_count": 383,
      "metadata": {
        "colab": {
          "base_uri": "https://localhost:8080/",
          "height": 151
        },
        "id": "6Na4tnv12cDn",
        "outputId": "c0556656-42ea-4089-df37-611d6d7130e1"
      },
      "outputs": [
        {
          "output_type": "execute_result",
          "data": {
            "text/plain": [
              "⎡           0                 0      0  1  0  0 ⎤\n",
              "⎢                                               ⎥\n",
              "⎢           0                 0      0  0  1  0 ⎥\n",
              "⎢                                               ⎥\n",
              "⎢           0                 0      0  0  0  -1⎥\n",
              "⎢                                               ⎥\n",
              "⎢     ⎛  M₁⋅d₁⋅g   M₁⋅g⎞                        ⎥\n",
              "⎢2⋅d₁⋅⎜- ─────── - ────⎟                        ⎥\n",
              "⎢     ⎝    2⋅l      2  ⎠  -M₁⋅d₁⋅g              ⎥\n",
              "⎢───────────────────────  ─────────  0  0  0  0 ⎥\n",
              "⎢          iyy₁             iyy₁⋅l              ⎥\n",
              "⎢                                               ⎥\n",
              "⎢        -d₁⋅g               -g                 ⎥\n",
              "⎢        ──────              ───     0  0  0  0 ⎥\n",
              "⎢          l                  l                 ⎥\n",
              "⎢                                               ⎥\n",
              "⎣           0                 0      0  0  0  0 ⎦"
            ],
            "text/latex": "$\\displaystyle \\left[\\begin{matrix}0 & 0 & 0 & 1 & 0 & 0\\\\0 & 0 & 0 & 0 & 1 & 0\\\\0 & 0 & 0 & 0 & 0 & -1\\\\\\frac{2 d_{1} \\left(- \\frac{M_{1} d_{1} g}{2 l} - \\frac{M_{1} g}{2}\\right)}{iyy_{1}} & - \\frac{M_{1} d_{1} g}{iyy_{1} l} & 0 & 0 & 0 & 0\\\\- \\frac{d_{1} g}{l} & - \\frac{g}{l} & 0 & 0 & 0 & 0\\\\0 & 0 & 0 & 0 & 0 & 0\\end{matrix}\\right]$"
          },
          "metadata": {},
          "execution_count": 383
        }
      ],
      "source": [
        "A_mat"
      ]
    },
    {
      "cell_type": "code",
      "execution_count": 384,
      "metadata": {
        "id": "eozLPSU-1Haw"
      },
      "outputs": [],
      "source": [
        "from sympy import Matrix, eye\n",
        "s = symbols('s')\n",
        "si = s*eye(6)"
      ]
    },
    {
      "cell_type": "code",
      "execution_count": 385,
      "metadata": {
        "id": "_PgW7Upd17dd"
      },
      "outputs": [],
      "source": [
        "sia = si - A_mat"
      ]
    },
    {
      "cell_type": "code",
      "execution_count": 386,
      "metadata": {
        "colab": {
          "base_uri": "https://localhost:8080/",
          "height": 151
        },
        "id": "JLA93cOt2n-r",
        "outputId": "2b15b937-2407-4d64-c59b-666082171109"
      },
      "outputs": [
        {
          "output_type": "execute_result",
          "data": {
            "text/plain": [
              "⎡            s                 0     0  -1  0   0⎤\n",
              "⎢                                                ⎥\n",
              "⎢            0                 s     0  0   -1  0⎥\n",
              "⎢                                                ⎥\n",
              "⎢            0                 0     s  0   0   1⎥\n",
              "⎢                                                ⎥\n",
              "⎢      ⎛  M₁⋅d₁⋅g   M₁⋅g⎞                        ⎥\n",
              "⎢-2⋅d₁⋅⎜- ─────── - ────⎟                        ⎥\n",
              "⎢      ⎝    2⋅l      2  ⎠   M₁⋅d₁⋅g              ⎥\n",
              "⎢─────────────────────────  ───────  0  s   0   0⎥\n",
              "⎢           iyy₁             iyy₁⋅l              ⎥\n",
              "⎢                                                ⎥\n",
              "⎢          d₁⋅g                g                 ⎥\n",
              "⎢          ────                ─     0  0   s   0⎥\n",
              "⎢           l                  l                 ⎥\n",
              "⎢                                                ⎥\n",
              "⎣            0                 0     0  0   0   s⎦"
            ],
            "text/latex": "$\\displaystyle \\left[\\begin{matrix}s & 0 & 0 & -1 & 0 & 0\\\\0 & s & 0 & 0 & -1 & 0\\\\0 & 0 & s & 0 & 0 & 1\\\\- \\frac{2 d_{1} \\left(- \\frac{M_{1} d_{1} g}{2 l} - \\frac{M_{1} g}{2}\\right)}{iyy_{1}} & \\frac{M_{1} d_{1} g}{iyy_{1} l} & 0 & s & 0 & 0\\\\\\frac{d_{1} g}{l} & \\frac{g}{l} & 0 & 0 & s & 0\\\\0 & 0 & 0 & 0 & 0 & s\\end{matrix}\\right]$"
          },
          "metadata": {},
          "execution_count": 386
        }
      ],
      "source": [
        "sia"
      ]
    },
    {
      "cell_type": "code",
      "execution_count": 387,
      "metadata": {
        "id": "t93hY_UR2qKg"
      },
      "outputs": [],
      "source": [
        "sia_inv = sia.adjugate()/sia.det()"
      ]
    },
    {
      "cell_type": "code",
      "execution_count": 388,
      "metadata": {
        "id": "36OppJyk2x8R"
      },
      "outputs": [],
      "source": [
        "sia_inv.simplify()"
      ]
    },
    {
      "cell_type": "code",
      "execution_count": 389,
      "metadata": {
        "colab": {
          "base_uri": "https://localhost:8080/",
          "height": 187
        },
        "id": "pzCg26yW2tD_",
        "outputId": "cf544e54-7b17-4b1b-d5bf-0c8d72419b5a"
      },
      "outputs": [
        {
          "output_type": "execute_result",
          "data": {
            "text/plain": [
              "⎡                             ⎛       2⎞                                      \n",
              "⎢                      iyy₁⋅s⋅⎝g + l⋅s ⎠                                      \n",
              "⎢─────────────────────────────────────────────────────────────  ──────────────\n",
              "⎢     2    2          2              2           2           4       2    2   \n",
              "⎢M₁⋅d₁ ⋅g⋅s  + M₁⋅d₁⋅g  + M₁⋅d₁⋅g⋅l⋅s  + g⋅iyy₁⋅s  + iyy₁⋅l⋅s   M₁⋅d₁ ⋅g⋅s  + \n",
              "⎢                                                                             \n",
              "⎢                                                                             \n",
              "⎢                        -d₁⋅g⋅iyy₁⋅s                                         \n",
              "⎢─────────────────────────────────────────────────────────────  ──────────────\n",
              "⎢     2    2          2              2           2           4       2    2   \n",
              "⎢M₁⋅d₁ ⋅g⋅s  + M₁⋅d₁⋅g  + M₁⋅d₁⋅g⋅l⋅s  + g⋅iyy₁⋅s  + iyy₁⋅l⋅s   M₁⋅d₁ ⋅g⋅s  + \n",
              "⎢                                                                             \n",
              "⎢                                                                             \n",
              "⎢                              0                                              \n",
              "⎢                                                                             \n",
              "⎢                                                                             \n",
              "⎢                                                                             \n",
              "⎢                         ⎛      2          2⎞                                \n",
              "⎢                 M₁⋅d₁⋅g⋅⎝- d₁⋅s  - g - l⋅s ⎠                                \n",
              "⎢─────────────────────────────────────────────────────────────  ──────────────\n",
              "⎢     2    2          2              2           2           4       2    2   \n",
              "⎢M₁⋅d₁ ⋅g⋅s  + M₁⋅d₁⋅g  + M₁⋅d₁⋅g⋅l⋅s  + g⋅iyy₁⋅s  + iyy₁⋅l⋅s   M₁⋅d₁ ⋅g⋅s  + \n",
              "⎢                                                                             \n",
              "⎢                                    2                                        \n",
              "⎢                        -d₁⋅g⋅iyy₁⋅s                                         \n",
              "⎢─────────────────────────────────────────────────────────────  ──────────────\n",
              "⎢     2    2          2              2           2           4       2    2   \n",
              "⎢M₁⋅d₁ ⋅g⋅s  + M₁⋅d₁⋅g  + M₁⋅d₁⋅g⋅l⋅s  + g⋅iyy₁⋅s  + iyy₁⋅l⋅s   M₁⋅d₁ ⋅g⋅s  + \n",
              "⎢                                                                             \n",
              "⎢                                                                             \n",
              "⎢                              0                                              \n",
              "⎣                                                                             \n",
              "\n",
              "                                                                              \n",
              "           -M₁⋅d₁⋅g⋅s                                                      iyy\n",
              "───────────────────────────────────────────────  0  ──────────────────────────\n",
              "       2              2           2           4          2    2          2    \n",
              "M₁⋅d₁⋅g  + M₁⋅d₁⋅g⋅l⋅s  + g⋅iyy₁⋅s  + iyy₁⋅l⋅s      M₁⋅d₁ ⋅g⋅s  + M₁⋅d₁⋅g  + M\n",
              "                                                                              \n",
              "   ⎛                           2⎞                                             \n",
              " s⋅⎝M₁⋅d₁⋅g⋅(d₁ + l) + iyy₁⋅l⋅s ⎠                                            -\n",
              "───────────────────────────────────────────────  0  ──────────────────────────\n",
              "       2              2           2           4          2    2          2    \n",
              "M₁⋅d₁⋅g  + M₁⋅d₁⋅g⋅l⋅s  + g⋅iyy₁⋅s  + iyy₁⋅l⋅s      M₁⋅d₁ ⋅g⋅s  + M₁⋅d₁⋅g  + M\n",
              "                                                                              \n",
              "                                                 1                            \n",
              "                0                                ─                            \n",
              "                                                 s                            \n",
              "                                                                              \n",
              "                                                                              \n",
              "                     2                                                        \n",
              "           -M₁⋅d₁⋅g⋅s                                                     iyy₁\n",
              "───────────────────────────────────────────────  0  ──────────────────────────\n",
              "       2              2           2           4          2    2          2    \n",
              "M₁⋅d₁⋅g  + M₁⋅d₁⋅g⋅l⋅s  + g⋅iyy₁⋅s  + iyy₁⋅l⋅s      M₁⋅d₁ ⋅g⋅s  + M₁⋅d₁⋅g  + M\n",
              "                                                                              \n",
              "        ⎛                 2⎞                                                  \n",
              "      g⋅⎝-M₁⋅d₁⋅g - iyy₁⋅s ⎠                                                -d\n",
              "───────────────────────────────────────────────  0  ──────────────────────────\n",
              "       2              2           2           4          2    2          2    \n",
              "M₁⋅d₁⋅g  + M₁⋅d₁⋅g⋅l⋅s  + g⋅iyy₁⋅s  + iyy₁⋅l⋅s      M₁⋅d₁ ⋅g⋅s  + M₁⋅d₁⋅g  + M\n",
              "                                                                              \n",
              "                                                                              \n",
              "                0                                0                            \n",
              "                                                                              \n",
              "\n",
              "  ⎛       2⎞                                                                  \n",
              "₁⋅⎝g + l⋅s ⎠                                                   -M₁⋅d₁⋅g       \n",
              "───────────────────────────────────  ─────────────────────────────────────────\n",
              "          2           2           4       2    2          2              2    \n",
              "₁⋅d₁⋅g⋅l⋅s  + g⋅iyy₁⋅s  + iyy₁⋅l⋅s   M₁⋅d₁ ⋅g⋅s  + M₁⋅d₁⋅g  + M₁⋅d₁⋅g⋅l⋅s  + g\n",
              "                                                                              \n",
              "                                                                              \n",
              "d₁⋅g⋅iyy₁                                             M₁⋅d₁⋅g⋅(d₁ + l) + iyy₁⋅\n",
              "───────────────────────────────────  ─────────────────────────────────────────\n",
              "          2           2           4       2    2          2              2    \n",
              "₁⋅d₁⋅g⋅l⋅s  + g⋅iyy₁⋅s  + iyy₁⋅l⋅s   M₁⋅d₁ ⋅g⋅s  + M₁⋅d₁⋅g  + M₁⋅d₁⋅g⋅l⋅s  + g\n",
              "                                                                              \n",
              "                                                                              \n",
              "    0                                                              0          \n",
              "                                                                              \n",
              "                                                                              \n",
              "                                                                              \n",
              "   ⎛       2⎞                                                                 \n",
              "⋅s⋅⎝g + l⋅s ⎠                                                 -M₁⋅d₁⋅g⋅s      \n",
              "───────────────────────────────────  ─────────────────────────────────────────\n",
              "          2           2           4       2    2          2              2    \n",
              "₁⋅d₁⋅g⋅l⋅s  + g⋅iyy₁⋅s  + iyy₁⋅l⋅s   M₁⋅d₁ ⋅g⋅s  + M₁⋅d₁⋅g  + M₁⋅d₁⋅g⋅l⋅s  + g\n",
              "                                                                              \n",
              "                                                      ⎛                       \n",
              "₁⋅g⋅iyy₁⋅s                                          s⋅⎝M₁⋅d₁⋅g⋅(d₁ + l) + iyy₁\n",
              "───────────────────────────────────  ─────────────────────────────────────────\n",
              "          2           2           4       2    2          2              2    \n",
              "₁⋅d₁⋅g⋅l⋅s  + g⋅iyy₁⋅s  + iyy₁⋅l⋅s   M₁⋅d₁ ⋅g⋅s  + M₁⋅d₁⋅g  + M₁⋅d₁⋅g⋅l⋅s  + g\n",
              "                                                                              \n",
              "                                                                              \n",
              "    0                                                              0          \n",
              "                                                                              \n",
              "\n",
              "                         ⎤\n",
              "                         ⎥\n",
              "────────────────────   0 ⎥\n",
              "       2           4     ⎥\n",
              "⋅iyy₁⋅s  + iyy₁⋅l⋅s      ⎥\n",
              "                         ⎥\n",
              "   2                     ⎥\n",
              "l⋅s                      ⎥\n",
              "────────────────────   0 ⎥\n",
              "       2           4     ⎥\n",
              "⋅iyy₁⋅s  + iyy₁⋅l⋅s      ⎥\n",
              "                         ⎥\n",
              "                      -1 ⎥\n",
              "                      ───⎥\n",
              "                        2⎥\n",
              "                       s ⎥\n",
              "                         ⎥\n",
              "                         ⎥\n",
              "                         ⎥\n",
              "────────────────────   0 ⎥\n",
              "       2           4     ⎥\n",
              "⋅iyy₁⋅s  + iyy₁⋅l⋅s      ⎥\n",
              "                         ⎥\n",
              "    2⎞                   ⎥\n",
              "⋅l⋅s ⎠                   ⎥\n",
              "────────────────────   0 ⎥\n",
              "       2           4     ⎥\n",
              "⋅iyy₁⋅s  + iyy₁⋅l⋅s      ⎥\n",
              "                         ⎥\n",
              "                       1 ⎥\n",
              "                       ─ ⎥\n",
              "                       s ⎦"
            ],
            "text/latex": "$\\displaystyle \\left[\\begin{matrix}\\frac{iyy_{1} s \\left(g + l s^{2}\\right)}{M_{1} d_{1}^{2} g s^{2} + M_{1} d_{1} g^{2} + M_{1} d_{1} g l s^{2} + g iyy_{1} s^{2} + iyy_{1} l s^{4}} & - \\frac{M_{1} d_{1} g s}{M_{1} d_{1}^{2} g s^{2} + M_{1} d_{1} g^{2} + M_{1} d_{1} g l s^{2} + g iyy_{1} s^{2} + iyy_{1} l s^{4}} & 0 & \\frac{iyy_{1} \\left(g + l s^{2}\\right)}{M_{1} d_{1}^{2} g s^{2} + M_{1} d_{1} g^{2} + M_{1} d_{1} g l s^{2} + g iyy_{1} s^{2} + iyy_{1} l s^{4}} & - \\frac{M_{1} d_{1} g}{M_{1} d_{1}^{2} g s^{2} + M_{1} d_{1} g^{2} + M_{1} d_{1} g l s^{2} + g iyy_{1} s^{2} + iyy_{1} l s^{4}} & 0\\\\- \\frac{d_{1} g iyy_{1} s}{M_{1} d_{1}^{2} g s^{2} + M_{1} d_{1} g^{2} + M_{1} d_{1} g l s^{2} + g iyy_{1} s^{2} + iyy_{1} l s^{4}} & \\frac{s \\left(M_{1} d_{1} g \\left(d_{1} + l\\right) + iyy_{1} l s^{2}\\right)}{M_{1} d_{1}^{2} g s^{2} + M_{1} d_{1} g^{2} + M_{1} d_{1} g l s^{2} + g iyy_{1} s^{2} + iyy_{1} l s^{4}} & 0 & - \\frac{d_{1} g iyy_{1}}{M_{1} d_{1}^{2} g s^{2} + M_{1} d_{1} g^{2} + M_{1} d_{1} g l s^{2} + g iyy_{1} s^{2} + iyy_{1} l s^{4}} & \\frac{M_{1} d_{1} g \\left(d_{1} + l\\right) + iyy_{1} l s^{2}}{M_{1} d_{1}^{2} g s^{2} + M_{1} d_{1} g^{2} + M_{1} d_{1} g l s^{2} + g iyy_{1} s^{2} + iyy_{1} l s^{4}} & 0\\\\0 & 0 & \\frac{1}{s} & 0 & 0 & - \\frac{1}{s^{2}}\\\\\\frac{M_{1} d_{1} g \\left(- d_{1} s^{2} - g - l s^{2}\\right)}{M_{1} d_{1}^{2} g s^{2} + M_{1} d_{1} g^{2} + M_{1} d_{1} g l s^{2} + g iyy_{1} s^{2} + iyy_{1} l s^{4}} & - \\frac{M_{1} d_{1} g s^{2}}{M_{1} d_{1}^{2} g s^{2} + M_{1} d_{1} g^{2} + M_{1} d_{1} g l s^{2} + g iyy_{1} s^{2} + iyy_{1} l s^{4}} & 0 & \\frac{iyy_{1} s \\left(g + l s^{2}\\right)}{M_{1} d_{1}^{2} g s^{2} + M_{1} d_{1} g^{2} + M_{1} d_{1} g l s^{2} + g iyy_{1} s^{2} + iyy_{1} l s^{4}} & - \\frac{M_{1} d_{1} g s}{M_{1} d_{1}^{2} g s^{2} + M_{1} d_{1} g^{2} + M_{1} d_{1} g l s^{2} + g iyy_{1} s^{2} + iyy_{1} l s^{4}} & 0\\\\- \\frac{d_{1} g iyy_{1} s^{2}}{M_{1} d_{1}^{2} g s^{2} + M_{1} d_{1} g^{2} + M_{1} d_{1} g l s^{2} + g iyy_{1} s^{2} + iyy_{1} l s^{4}} & \\frac{g \\left(- M_{1} d_{1} g - iyy_{1} s^{2}\\right)}{M_{1} d_{1}^{2} g s^{2} + M_{1} d_{1} g^{2} + M_{1} d_{1} g l s^{2} + g iyy_{1} s^{2} + iyy_{1} l s^{4}} & 0 & - \\frac{d_{1} g iyy_{1} s}{M_{1} d_{1}^{2} g s^{2} + M_{1} d_{1} g^{2} + M_{1} d_{1} g l s^{2} + g iyy_{1} s^{2} + iyy_{1} l s^{4}} & \\frac{s \\left(M_{1} d_{1} g \\left(d_{1} + l\\right) + iyy_{1} l s^{2}\\right)}{M_{1} d_{1}^{2} g s^{2} + M_{1} d_{1} g^{2} + M_{1} d_{1} g l s^{2} + g iyy_{1} s^{2} + iyy_{1} l s^{4}} & 0\\\\0 & 0 & 0 & 0 & 0 & \\frac{1}{s}\\end{matrix}\\right]$"
          },
          "metadata": {},
          "execution_count": 389
        }
      ],
      "source": [
        "sia_inv"
      ]
    },
    {
      "cell_type": "code",
      "execution_count": 390,
      "metadata": {
        "colab": {
          "base_uri": "https://localhost:8080/",
          "height": 203
        },
        "id": "ltAmYYDq2tqL",
        "outputId": "eb4f0350-70a7-4af1-eb28-9974109bd60c"
      },
      "outputs": [
        {
          "output_type": "execute_result",
          "data": {
            "text/plain": [
              "⎡                                                                             \n",
              "⎢                                   2  2                                      \n",
              "⎢                              M₁⋅d₁ ⋅g                                       \n",
              "⎢- ───────────────────────────────────────────────────────────────── + ───────\n",
              "⎢    ⎛     2    2          2              2           2           4⎞        2 \n",
              "⎢  l⋅⎝M₁⋅d₁ ⋅g⋅s  + M₁⋅d₁⋅g  + M₁⋅d₁⋅g⋅l⋅s  + g⋅iyy₁⋅s  + iyy₁⋅l⋅s ⎠   M₁⋅d₁ ⋅\n",
              "⎢                                                                             \n",
              "⎢                         2   ⎛M₁⋅d₁⋅g   M₁⋅g⎞                                \n",
              "⎢                     2⋅d₁ ⋅g⋅⎜─────── + ────⎟                                \n",
              "⎢                             ⎝  2⋅l      2  ⎠                                \n",
              "⎢- ───────────────────────────────────────────────────────────── + ───────────\n",
              "⎢       2    2          2              2           2           4     ⎛     2  \n",
              "⎢  M₁⋅d₁ ⋅g⋅s  + M₁⋅d₁⋅g  + M₁⋅d₁⋅g⋅l⋅s  + g⋅iyy₁⋅s  + iyy₁⋅l⋅s    l⋅⎝M₁⋅d₁ ⋅g\n",
              "⎢                                                                             \n",
              "⎢                                                                 0           \n",
              "⎢                                                                             \n",
              "⎢                                                                             \n",
              "⎢                                  2  2                                       \n",
              "⎢                             M₁⋅d₁ ⋅g ⋅s                                     \n",
              "⎢- ───────────────────────────────────────────────────────────────── + ───────\n",
              "⎢    ⎛     2    2          2              2           2           4⎞        2 \n",
              "⎢  l⋅⎝M₁⋅d₁ ⋅g⋅s  + M₁⋅d₁⋅g  + M₁⋅d₁⋅g⋅l⋅s  + g⋅iyy₁⋅s  + iyy₁⋅l⋅s ⎠   M₁⋅d₁ ⋅\n",
              "⎢                                                                             \n",
              "⎢                        2     ⎛M₁⋅d₁⋅g   M₁⋅g⎞                               \n",
              "⎢                    2⋅d₁ ⋅g⋅s⋅⎜─────── + ────⎟                               \n",
              "⎢                              ⎝  2⋅l      2  ⎠                               \n",
              "⎢- ───────────────────────────────────────────────────────────── + ───────────\n",
              "⎢       2    2          2              2           2           4     ⎛     2  \n",
              "⎢  M₁⋅d₁ ⋅g⋅s  + M₁⋅d₁⋅g  + M₁⋅d₁⋅g⋅l⋅s  + g⋅iyy₁⋅s  + iyy₁⋅l⋅s    l⋅⎝M₁⋅d₁ ⋅g\n",
              "⎢                                                                             \n",
              "⎣                                                                 0           \n",
              "\n",
              "             ⎛       2⎞ ⎛M₁⋅d₁⋅g   M₁⋅g⎞                                      \n",
              "        2⋅d₁⋅⎝g + l⋅s ⎠⋅⎜─────── + ────⎟                                      \n",
              "                        ⎝  2⋅l      2  ⎠                                      \n",
              "──────────────────────────────────────────────────────  - ────────────────────\n",
              "   2          2              2           2           4      ⎛     2    2      \n",
              "g⋅s  + M₁⋅d₁⋅g  + M₁⋅d₁⋅g⋅l⋅s  + g⋅iyy₁⋅s  + iyy₁⋅l⋅s     l⋅⎝M₁⋅d₁ ⋅g⋅s  + M₁⋅\n",
              "                                                                              \n",
              "                                                                              \n",
              "         ⎛                           2⎞                                       \n",
              "    d₁⋅g⋅⎝M₁⋅d₁⋅g⋅(d₁ + l) + iyy₁⋅l⋅s ⎠                                       \n",
              "──────────────────────────────────────────────────────  - ────────────────────\n",
              "  2          2              2           2           4⎞      ⎛     2    2      \n",
              "⋅s  + M₁⋅d₁⋅g  + M₁⋅d₁⋅g⋅l⋅s  + g⋅iyy₁⋅s  + iyy₁⋅l⋅s ⎠    l⋅⎝M₁⋅d₁ ⋅g⋅s  + M₁⋅\n",
              "                                                                              \n",
              "                                                                              \n",
              "                                                                              \n",
              "              ⎛       2⎞ ⎛M₁⋅d₁⋅g   M₁⋅g⎞                                     \n",
              "       2⋅d₁⋅s⋅⎝g + l⋅s ⎠⋅⎜─────── + ────⎟                                     \n",
              "                         ⎝  2⋅l      2  ⎠                                     \n",
              "──────────────────────────────────────────────────────  - ────────────────────\n",
              "   2          2              2           2           4      ⎛     2    2      \n",
              "g⋅s  + M₁⋅d₁⋅g  + M₁⋅d₁⋅g⋅l⋅s  + g⋅iyy₁⋅s  + iyy₁⋅l⋅s     l⋅⎝M₁⋅d₁ ⋅g⋅s  + M₁⋅\n",
              "                                                                              \n",
              "                                                                              \n",
              "          ⎛                           2⎞                                      \n",
              "   d₁⋅g⋅s⋅⎝M₁⋅d₁⋅g⋅(d₁ + l) + iyy₁⋅l⋅s ⎠                                      \n",
              "──────────────────────────────────────────────────────  - ────────────────────\n",
              "  2          2              2           2           4⎞      ⎛     2    2      \n",
              "⋅s  + M₁⋅d₁⋅g  + M₁⋅d₁⋅g⋅l⋅s  + g⋅iyy₁⋅s  + iyy₁⋅l⋅s ⎠    l⋅⎝M₁⋅d₁ ⋅g⋅s  + M₁⋅\n",
              "                                                                              \n",
              "                                                                              \n",
              "\n",
              "                                                                              \n",
              "                2                                                             \n",
              "         M₁⋅d₁⋅g                                                        M₁⋅d₁⋅\n",
              "───────────────────────────────────────────── + ──────────────────────────────\n",
              "    2              2           2           4⎞     ⎛     2    2          2     \n",
              "d₁⋅g  + M₁⋅d₁⋅g⋅l⋅s  + g⋅iyy₁⋅s  + iyy₁⋅l⋅s ⎠   l⋅⎝M₁⋅d₁ ⋅g⋅s  + M₁⋅d₁⋅g  + M₁\n",
              "                                                                              \n",
              "                                                                              \n",
              "             2  2                                                  ⎛          \n",
              "        M₁⋅d₁ ⋅g                                                 g⋅⎝M₁⋅d₁⋅g⋅(d\n",
              "───────────────────────────────────────────── + ──────────────────────────────\n",
              "    2              2           2           4⎞     ⎛     2    2          2     \n",
              "d₁⋅g  + M₁⋅d₁⋅g⋅l⋅s  + g⋅iyy₁⋅s  + iyy₁⋅l⋅s ⎠   l⋅⎝M₁⋅d₁ ⋅g⋅s  + M₁⋅d₁⋅g  + M₁\n",
              "                                                                              \n",
              "                                             0                                \n",
              "                                                                              \n",
              "                                                                              \n",
              "               2                                                              \n",
              "        M₁⋅d₁⋅g ⋅s                                                     M₁⋅d₁⋅g\n",
              "───────────────────────────────────────────── + ──────────────────────────────\n",
              "    2              2           2           4⎞     ⎛     2    2          2     \n",
              "d₁⋅g  + M₁⋅d₁⋅g⋅l⋅s  + g⋅iyy₁⋅s  + iyy₁⋅l⋅s ⎠   l⋅⎝M₁⋅d₁ ⋅g⋅s  + M₁⋅d₁⋅g  + M₁\n",
              "                                                                              \n",
              "                                                                              \n",
              "            2  2                                                    ⎛         \n",
              "       M₁⋅d₁ ⋅g ⋅s                                              g⋅s⋅⎝M₁⋅d₁⋅g⋅(\n",
              "───────────────────────────────────────────── + ──────────────────────────────\n",
              "    2              2           2           4⎞     ⎛     2    2          2     \n",
              "d₁⋅g  + M₁⋅d₁⋅g⋅l⋅s  + g⋅iyy₁⋅s  + iyy₁⋅l⋅s ⎠   l⋅⎝M₁⋅d₁ ⋅g⋅s  + M₁⋅d₁⋅g  + M₁\n",
              "                                                                              \n",
              "                                             0                                \n",
              "\n",
              "                                   ⎤\n",
              "  ⎛       2⎞                       ⎥\n",
              "g⋅⎝g + l⋅s ⎠                       ⎥\n",
              "───────────────────────────────────⎥\n",
              "         2           2           4⎞⎥\n",
              "⋅d₁⋅g⋅l⋅s  + g⋅iyy₁⋅s  + iyy₁⋅l⋅s ⎠⎥\n",
              "                                   ⎥\n",
              "                                   ⎥\n",
              "                 2⎞                ⎥\n",
              "₁ + l) + iyy₁⋅l⋅s ⎠                ⎥\n",
              "───────────────────────────────────⎥\n",
              "         2           2           4⎞⎥\n",
              "⋅d₁⋅g⋅l⋅s  + g⋅iyy₁⋅s  + iyy₁⋅l⋅s ⎠⎥\n",
              "                                   ⎥\n",
              "                                   ⎥\n",
              "                                   ⎥\n",
              "                                   ⎥\n",
              "   ⎛       2⎞                      ⎥\n",
              "⋅s⋅⎝g + l⋅s ⎠                      ⎥\n",
              "───────────────────────────────────⎥\n",
              "         2           2           4⎞⎥\n",
              "⋅d₁⋅g⋅l⋅s  + g⋅iyy₁⋅s  + iyy₁⋅l⋅s ⎠⎥\n",
              "                                   ⎥\n",
              "                                   ⎥\n",
              "                  2⎞               ⎥\n",
              "d₁ + l) + iyy₁⋅l⋅s ⎠               ⎥\n",
              "───────────────────────────────────⎥\n",
              "         2           2           4⎞⎥\n",
              "⋅d₁⋅g⋅l⋅s  + g⋅iyy₁⋅s  + iyy₁⋅l⋅s ⎠⎥\n",
              "                                   ⎥\n",
              "                                   ⎦"
            ],
            "text/latex": "$\\displaystyle \\left[\\begin{matrix}- \\frac{M_{1} d_{1}^{2} g^{2}}{l \\left(M_{1} d_{1}^{2} g s^{2} + M_{1} d_{1} g^{2} + M_{1} d_{1} g l s^{2} + g iyy_{1} s^{2} + iyy_{1} l s^{4}\\right)} + \\frac{2 d_{1} \\left(g + l s^{2}\\right) \\left(\\frac{M_{1} d_{1} g}{2 l} + \\frac{M_{1} g}{2}\\right)}{M_{1} d_{1}^{2} g s^{2} + M_{1} d_{1} g^{2} + M_{1} d_{1} g l s^{2} + g iyy_{1} s^{2} + iyy_{1} l s^{4}} & - \\frac{M_{1} d_{1} g^{2}}{l \\left(M_{1} d_{1}^{2} g s^{2} + M_{1} d_{1} g^{2} + M_{1} d_{1} g l s^{2} + g iyy_{1} s^{2} + iyy_{1} l s^{4}\\right)} + \\frac{M_{1} d_{1} g \\left(g + l s^{2}\\right)}{l \\left(M_{1} d_{1}^{2} g s^{2} + M_{1} d_{1} g^{2} + M_{1} d_{1} g l s^{2} + g iyy_{1} s^{2} + iyy_{1} l s^{4}\\right)}\\\\- \\frac{2 d_{1}^{2} g \\left(\\frac{M_{1} d_{1} g}{2 l} + \\frac{M_{1} g}{2}\\right)}{M_{1} d_{1}^{2} g s^{2} + M_{1} d_{1} g^{2} + M_{1} d_{1} g l s^{2} + g iyy_{1} s^{2} + iyy_{1} l s^{4}} + \\frac{d_{1} g \\left(M_{1} d_{1} g \\left(d_{1} + l\\right) + iyy_{1} l s^{2}\\right)}{l \\left(M_{1} d_{1}^{2} g s^{2} + M_{1} d_{1} g^{2} + M_{1} d_{1} g l s^{2} + g iyy_{1} s^{2} + iyy_{1} l s^{4}\\right)} & - \\frac{M_{1} d_{1}^{2} g^{2}}{l \\left(M_{1} d_{1}^{2} g s^{2} + M_{1} d_{1} g^{2} + M_{1} d_{1} g l s^{2} + g iyy_{1} s^{2} + iyy_{1} l s^{4}\\right)} + \\frac{g \\left(M_{1} d_{1} g \\left(d_{1} + l\\right) + iyy_{1} l s^{2}\\right)}{l \\left(M_{1} d_{1}^{2} g s^{2} + M_{1} d_{1} g^{2} + M_{1} d_{1} g l s^{2} + g iyy_{1} s^{2} + iyy_{1} l s^{4}\\right)}\\\\0 & 0\\\\- \\frac{M_{1} d_{1}^{2} g^{2} s}{l \\left(M_{1} d_{1}^{2} g s^{2} + M_{1} d_{1} g^{2} + M_{1} d_{1} g l s^{2} + g iyy_{1} s^{2} + iyy_{1} l s^{4}\\right)} + \\frac{2 d_{1} s \\left(g + l s^{2}\\right) \\left(\\frac{M_{1} d_{1} g}{2 l} + \\frac{M_{1} g}{2}\\right)}{M_{1} d_{1}^{2} g s^{2} + M_{1} d_{1} g^{2} + M_{1} d_{1} g l s^{2} + g iyy_{1} s^{2} + iyy_{1} l s^{4}} & - \\frac{M_{1} d_{1} g^{2} s}{l \\left(M_{1} d_{1}^{2} g s^{2} + M_{1} d_{1} g^{2} + M_{1} d_{1} g l s^{2} + g iyy_{1} s^{2} + iyy_{1} l s^{4}\\right)} + \\frac{M_{1} d_{1} g s \\left(g + l s^{2}\\right)}{l \\left(M_{1} d_{1}^{2} g s^{2} + M_{1} d_{1} g^{2} + M_{1} d_{1} g l s^{2} + g iyy_{1} s^{2} + iyy_{1} l s^{4}\\right)}\\\\- \\frac{2 d_{1}^{2} g s \\left(\\frac{M_{1} d_{1} g}{2 l} + \\frac{M_{1} g}{2}\\right)}{M_{1} d_{1}^{2} g s^{2} + M_{1} d_{1} g^{2} + M_{1} d_{1} g l s^{2} + g iyy_{1} s^{2} + iyy_{1} l s^{4}} + \\frac{d_{1} g s \\left(M_{1} d_{1} g \\left(d_{1} + l\\right) + iyy_{1} l s^{2}\\right)}{l \\left(M_{1} d_{1}^{2} g s^{2} + M_{1} d_{1} g^{2} + M_{1} d_{1} g l s^{2} + g iyy_{1} s^{2} + iyy_{1} l s^{4}\\right)} & - \\frac{M_{1} d_{1}^{2} g^{2} s}{l \\left(M_{1} d_{1}^{2} g s^{2} + M_{1} d_{1} g^{2} + M_{1} d_{1} g l s^{2} + g iyy_{1} s^{2} + iyy_{1} l s^{4}\\right)} + \\frac{g s \\left(M_{1} d_{1} g \\left(d_{1} + l\\right) + iyy_{1} l s^{2}\\right)}{l \\left(M_{1} d_{1}^{2} g s^{2} + M_{1} d_{1} g^{2} + M_{1} d_{1} g l s^{2} + g iyy_{1} s^{2} + iyy_{1} l s^{4}\\right)}\\\\0 & 0\\end{matrix}\\right]$"
          },
          "metadata": {},
          "execution_count": 390
        }
      ],
      "source": [
        "(sia_inv*B_mat)"
      ]
    },
    {
      "cell_type": "code",
      "execution_count": 391,
      "metadata": {
        "colab": {
          "base_uri": "https://localhost:8080/",
          "height": 78
        },
        "id": "22QOHgsaXQ_U",
        "outputId": "eb0a6204-cdf6-4280-e453-aafb7e4ec255"
      },
      "outputs": [
        {
          "output_type": "execute_result",
          "data": {
            "text/plain": [
              "⎡α_y1(t)⎤\n",
              "⎢       ⎥\n",
              "⎢xₓ₁(t) ⎥\n",
              "⎢       ⎥\n",
              "⎣ q₄(t) ⎦"
            ],
            "text/latex": "$\\displaystyle \\left[\\begin{matrix}\\alpha_{y1}{\\left(t \\right)}\\\\x_{x1}{\\left(t \\right)}\\\\q_{4}{\\left(t \\right)}\\end{matrix}\\right]$"
          },
          "metadata": {},
          "execution_count": 391
        }
      ],
      "source": [
        "kane.q"
      ]
    },
    {
      "cell_type": "code",
      "execution_count": 392,
      "metadata": {
        "colab": {
          "base_uri": "https://localhost:8080/",
          "height": 58
        },
        "id": "9Z7NSkMCXSZ6",
        "outputId": "12cb929d-bd7c-4acb-e7cc-b97e6c671408"
      },
      "outputs": [
        {
          "output_type": "execute_result",
          "data": {
            "text/plain": [
              "⎡β_y1(t)⎤\n",
              "⎢       ⎥\n",
              "⎣xₓ₀(t) ⎦"
            ],
            "text/latex": "$\\displaystyle \\left[\\begin{matrix}\\beta_{y1}{\\left(t \\right)}\\\\x_{x0}{\\left(t \\right)}\\end{matrix}\\right]$"
          },
          "metadata": {},
          "execution_count": 392
        }
      ],
      "source": [
        "kanel.r"
      ]
    },
    {
      "cell_type": "code",
      "execution_count": 393,
      "metadata": {
        "id": "eO5OP5l921O0"
      },
      "outputs": [],
      "source": [
        "tf_pp = (Matrix([1,0,0,0,0,0]).T*(sia_inv*B_mat))[0].simplify() # P to P\n",
        "tf_lp = (Matrix([1,0,0,0,0,0]).T*(sia_inv*B_mat))[1].simplify() # L to P\n",
        "tf_pl = (Matrix([0,1,0,0,0,0]).T*(sia_inv*B_mat))[0].simplify() # P to L\n",
        "tf_ll = (Matrix([0,1,0,0,0,0]).T*(sia_inv*B_mat))[1].simplify() # L to L"
      ]
    },
    {
      "cell_type": "code",
      "execution_count": 394,
      "metadata": {
        "colab": {
          "base_uri": "https://localhost:8080/",
          "height": 60
        },
        "id": "yiHxELsrYbUo",
        "outputId": "022eb73f-37d5-4780-89b8-2f84b6a7b7a4"
      },
      "outputs": [
        {
          "output_type": "execute_result",
          "data": {
            "text/plain": [
              "                          ⎛    2          2⎞                 \n",
              "                  M₁⋅d₁⋅g⋅⎝d₁⋅s  + g + l⋅s ⎠                 \n",
              "─────────────────────────────────────────────────────────────\n",
              "     2    2          2              2           2           4\n",
              "M₁⋅d₁ ⋅g⋅s  + M₁⋅d₁⋅g  + M₁⋅d₁⋅g⋅l⋅s  + g⋅iyy₁⋅s  + iyy₁⋅l⋅s "
            ],
            "text/latex": "$\\displaystyle \\frac{M_{1} d_{1} g \\left(d_{1} s^{2} + g + l s^{2}\\right)}{M_{1} d_{1}^{2} g s^{2} + M_{1} d_{1} g^{2} + M_{1} d_{1} g l s^{2} + g iyy_{1} s^{2} + iyy_{1} l s^{4}}$"
          },
          "metadata": {},
          "execution_count": 394
        }
      ],
      "source": [
        "tf_pp"
      ]
    },
    {
      "cell_type": "code",
      "execution_count": 395,
      "metadata": {
        "colab": {
          "base_uri": "https://localhost:8080/",
          "height": 58
        },
        "id": "rIngiTgYYyx8",
        "outputId": "b140e0b4-369a-4a8b-fe30-b928ec009f06"
      },
      "outputs": [
        {
          "output_type": "execute_result",
          "data": {
            "text/plain": [
              "                                   2                         \n",
              "                          M₁⋅d₁⋅g⋅s                          \n",
              "─────────────────────────────────────────────────────────────\n",
              "     2    2          2              2           2           4\n",
              "M₁⋅d₁ ⋅g⋅s  + M₁⋅d₁⋅g  + M₁⋅d₁⋅g⋅l⋅s  + g⋅iyy₁⋅s  + iyy₁⋅l⋅s "
            ],
            "text/latex": "$\\displaystyle \\frac{M_{1} d_{1} g s^{2}}{M_{1} d_{1}^{2} g s^{2} + M_{1} d_{1} g^{2} + M_{1} d_{1} g l s^{2} + g iyy_{1} s^{2} + iyy_{1} l s^{4}}$"
          },
          "metadata": {},
          "execution_count": 395
        }
      ],
      "source": [
        "tf_lp"
      ]
    },
    {
      "cell_type": "code",
      "execution_count": 396,
      "metadata": {
        "colab": {
          "base_uri": "https://localhost:8080/",
          "height": 58
        },
        "id": "nhyVpVrXY2UG",
        "outputId": "07c129e5-6e68-4137-f90f-b4d6e40c97cd"
      },
      "outputs": [
        {
          "output_type": "execute_result",
          "data": {
            "text/plain": [
              "                                    2                        \n",
              "                         d₁⋅g⋅iyy₁⋅s                         \n",
              "─────────────────────────────────────────────────────────────\n",
              "     2    2          2              2           2           4\n",
              "M₁⋅d₁ ⋅g⋅s  + M₁⋅d₁⋅g  + M₁⋅d₁⋅g⋅l⋅s  + g⋅iyy₁⋅s  + iyy₁⋅l⋅s "
            ],
            "text/latex": "$\\displaystyle \\frac{d_{1} g iyy_{1} s^{2}}{M_{1} d_{1}^{2} g s^{2} + M_{1} d_{1} g^{2} + M_{1} d_{1} g l s^{2} + g iyy_{1} s^{2} + iyy_{1} l s^{4}}$"
          },
          "metadata": {},
          "execution_count": 396
        }
      ],
      "source": [
        "tf_pl"
      ]
    },
    {
      "cell_type": "code",
      "execution_count": 403,
      "metadata": {
        "colab": {
          "base_uri": "https://localhost:8080/",
          "height": 60
        },
        "id": "0ZfAJMNmY3ky",
        "outputId": "e36ef078-4766-416f-b2d7-9d84ac78e8d8"
      },
      "outputs": [
        {
          "output_type": "execute_result",
          "data": {
            "text/plain": [
              "                      ⎛                2⎞                    \n",
              "                    g⋅⎝M₁⋅d₁⋅g + iyy₁⋅s ⎠                    \n",
              "─────────────────────────────────────────────────────────────\n",
              "     2    2          2              2           2           4\n",
              "M₁⋅d₁ ⋅g⋅s  + M₁⋅d₁⋅g  + M₁⋅d₁⋅g⋅l⋅s  + g⋅iyy₁⋅s  + iyy₁⋅l⋅s "
            ],
            "text/latex": "$\\displaystyle \\frac{g \\left(M_{1} d_{1} g + iyy_{1} s^{2}\\right)}{M_{1} d_{1}^{2} g s^{2} + M_{1} d_{1} g^{2} + M_{1} d_{1} g l s^{2} + g iyy_{1} s^{2} + iyy_{1} l s^{4}}$"
          },
          "metadata": {},
          "execution_count": 403
        }
      ],
      "source": [
        "tf_ll"
      ]
    },
    {
      "cell_type": "code",
      "execution_count": 398,
      "metadata": {
        "id": "6J9de7RRYcOO"
      },
      "outputs": [],
      "source": [
        "tf_lla = tf_ll.evalf(subs={g:9.8, M1:2.88, d1:0.02275, d:0.011, l:0.3, iyy1:0.00981984})\n",
        "tf_pla = tf_pl.evalf(subs={g:9.8, M1:2.88, d1:0.02275, d:0.011, l:0.3, iyy1:0.00981984})\n",
        "tf_ppa = tf_pp.evalf(subs={g:9.8, M1:2.88, d1:0.02275, d:0.011, l:0.3, iyy1:0.00981984})\n",
        "tf_lpa = tf_lp.evalf(subs={g:9.8, M1:2.88, d1:0.02275, d:0.011, l:0.3, iyy1:0.00981984})"
      ]
    },
    {
      "cell_type": "code",
      "execution_count": 404,
      "metadata": {
        "colab": {
          "base_uri": "https://localhost:8080/",
          "height": 57
        },
        "id": "75WijymrY7go",
        "outputId": "257e3a6a-5ab8-4e43-ee88-cae8cae62a47"
      },
      "outputs": [
        {
          "output_type": "execute_result",
          "data": {
            "text/plain": [
              "           ⎛            2           ⎞      \n",
              "       9.8⋅⎝0.00981984⋅s  + 0.642096⎠      \n",
              "───────────────────────────────────────────\n",
              "             4                2            \n",
              "0.002945952⋅s  + 0.303470916⋅s  + 6.2925408"
            ],
            "text/latex": "$\\displaystyle \\frac{9.8 \\cdot \\left(0.00981984 s^{2} + 0.642096\\right)}{0.002945952 s^{4} + 0.303470916 s^{2} + 6.2925408}$"
          },
          "metadata": {},
          "execution_count": 404
        }
      ],
      "source": [
        "tf_lla"
      ]
    },
    {
      "cell_type": "code",
      "execution_count": 273,
      "metadata": {
        "colab": {
          "base_uri": "https://localhost:8080/"
        },
        "id": "kfOU2ESnZDib",
        "outputId": "0c66b0bc-ad56-4b5b-ecee-b909c54260fb"
      },
      "outputs": [
        {
          "output_type": "stream",
          "name": "stdout",
          "text": [
            "Requirement already satisfied: control in /usr/local/lib/python3.10/dist-packages (0.10.0)\n",
            "Requirement already satisfied: numpy>=1.23 in /usr/local/lib/python3.10/dist-packages (from control) (1.25.2)\n",
            "Requirement already satisfied: scipy>=1.8 in /usr/local/lib/python3.10/dist-packages (from control) (1.11.4)\n",
            "Requirement already satisfied: matplotlib>=3.6 in /usr/local/lib/python3.10/dist-packages (from control) (3.7.1)\n",
            "Requirement already satisfied: contourpy>=1.0.1 in /usr/local/lib/python3.10/dist-packages (from matplotlib>=3.6->control) (1.2.1)\n",
            "Requirement already satisfied: cycler>=0.10 in /usr/local/lib/python3.10/dist-packages (from matplotlib>=3.6->control) (0.12.1)\n",
            "Requirement already satisfied: fonttools>=4.22.0 in /usr/local/lib/python3.10/dist-packages (from matplotlib>=3.6->control) (4.50.0)\n",
            "Requirement already satisfied: kiwisolver>=1.0.1 in /usr/local/lib/python3.10/dist-packages (from matplotlib>=3.6->control) (1.4.5)\n",
            "Requirement already satisfied: packaging>=20.0 in /usr/local/lib/python3.10/dist-packages (from matplotlib>=3.6->control) (24.0)\n",
            "Requirement already satisfied: pillow>=6.2.0 in /usr/local/lib/python3.10/dist-packages (from matplotlib>=3.6->control) (9.4.0)\n",
            "Requirement already satisfied: pyparsing>=2.3.1 in /usr/local/lib/python3.10/dist-packages (from matplotlib>=3.6->control) (3.1.2)\n",
            "Requirement already satisfied: python-dateutil>=2.7 in /usr/local/lib/python3.10/dist-packages (from matplotlib>=3.6->control) (2.8.2)\n",
            "Requirement already satisfied: six>=1.5 in /usr/local/lib/python3.10/dist-packages (from python-dateutil>=2.7->matplotlib>=3.6->control) (1.16.0)\n"
          ]
        }
      ],
      "source": [
        "!pip install control\n",
        "import control\n",
        "from sympy import Poly"
      ]
    },
    {
      "cell_type": "code",
      "source": [
        "tfs_dict = {'ll':tf_lla, 'lp':tf_lpa, 'pp':tf_ppa, 'pl': tf_pla}\n",
        "freq = np.geomspace(0.1, 100, 500)"
      ],
      "metadata": {
        "id": "jBVxNGzLZSDF"
      },
      "execution_count": 417,
      "outputs": []
    },
    {
      "cell_type": "code",
      "execution_count": 421,
      "metadata": {
        "id": "fmDHkzAOY9xx"
      },
      "outputs": [],
      "source": [
        "def plot_tfs(input_motion='l', output_motion='p', damping=False):\n",
        "\n",
        "  freq = np.geomspace(0.1, 100, 500)\n",
        "\n",
        "  tf_key = input_motion+output_motion\n",
        "\n",
        "  tf_ = tfs_dict[tf_key]\n",
        "  #print(tf_)\n",
        "\n",
        "  #tf_val = tf_\n",
        "  tf_val = tf_.evalf(subs={g:9.8, M1:2.88, d1:0.02275, d:0.011, l:0.3, iyy1:0.00981984})\n",
        "\n",
        "\n",
        "\n",
        "  print(\"Generating transfer function for {}  to {}\".format(input_motion, output_motion))\n",
        "\n",
        "  num_coeffs, den_coeffs = Poly(tf_val.as_numer_denom()[0]).all_coeffs(), Poly(tf_val.as_numer_denom()[-1]).all_coeffs()\n",
        "  if damping:\n",
        "    den_coeffs[-2] = 1e-5\n",
        "  print(den_coeffs)\n",
        "  s = symbols('s')\n",
        "\n",
        "  tf_val_ = Poly(num_coeffs, s)/Poly(den_coeffs, s)\n",
        "\n",
        "  # H = control.tf(np.array(num_coeffs, dtype=float), np.array(den_coeffs, dtype=float))\n",
        "  # mag, phase = control.bode(H, omega=freq, dB=False, deg=True, Hz=True)\n",
        "\n",
        "  H = control.tf(np.array(num_coeffs, dtype=float), np.array(den_coeffs, dtype=float))\n",
        "  #mag, phase, omega = control.bode(H, omega=freq, dB=False, deg=True, Hz=True, wrap_phase)\n",
        "  control.bode_plot(H, omega=freq, dB=False, deg=True, Hz=True, wrap_phase=True)\n",
        "  plt.legend(loc='best')\n",
        "\n",
        "  return tf_val_.simplify()"
      ]
    },
    {
      "cell_type": "code",
      "execution_count": 422,
      "metadata": {
        "id": "Slse1rEhZDC-",
        "colab": {
          "base_uri": "https://localhost:8080/",
          "height": 566
        },
        "outputId": "9cdcd723-661f-4c92-c4eb-5675919dc320"
      },
      "outputs": [
        {
          "output_type": "stream",
          "name": "stdout",
          "text": [
            "Generating transfer function for l  to l\n",
            "[0.00294595200000000, 0.0, 0.303470916000000, 1e-05, 6.29254080000000]\n"
          ]
        },
        {
          "output_type": "execute_result",
          "data": {
            "text/plain": [
              "                           2                          \n",
              "              0.096234432⋅s  + 6.2925408              \n",
              "──────────────────────────────────────────────────────\n",
              "             4                2                       \n",
              "0.002945952⋅s  + 0.303470916⋅s  + 1.0e-5⋅s + 6.2925408"
            ],
            "text/latex": "$\\displaystyle \\frac{0.096234432 s^{2} + 6.2925408}{0.002945952 s^{4} + 0.303470916 s^{2} + 1.0 \\cdot 10^{-5} s + 6.2925408}$"
          },
          "metadata": {},
          "execution_count": 422
        },
        {
          "output_type": "display_data",
          "data": {
            "text/plain": [
              "<Figure size 640x480 with 2 Axes>"
            ],
            "image/png": "[encoded data removed]"
          },
          "metadata": {}
        }
      ],
      "source": [
        "plot_tfs('l', 'l', damping=True) # L to L"
      ]
    },
    {
      "cell_type": "code",
      "source": [
        "plot_tfs('l', 'p', damping=True) # L to P"
      ],
      "metadata": {
        "colab": {
          "base_uri": "https://localhost:8080/",
          "height": 566
        },
        "id": "N4Em_mxBZbBw",
        "outputId": "464dc1a9-1297-4082-9f82-ad0c198f0e20"
      },
      "execution_count": 423,
      "outputs": [
        {
          "output_type": "stream",
          "name": "stdout",
          "text": [
            "Generating transfer function for l  to p\n",
            "[0.00294595200000000, 0.0, 0.303470916000000, 1e-05, 6.29254080000000]\n"
          ]
        },
        {
          "output_type": "execute_result",
          "data": {
            "text/plain": [
              "                               2                      \n",
              "                     0.642096⋅s                       \n",
              "──────────────────────────────────────────────────────\n",
              "             4                2                       \n",
              "0.002945952⋅s  + 0.303470916⋅s  + 1.0e-5⋅s + 6.2925408"
            ],
            "text/latex": "$\\displaystyle \\frac{0.642096 s^{2}}{0.002945952 s^{4} + 0.303470916 s^{2} + 1.0 \\cdot 10^{-5} s + 6.2925408}$"
          },
          "metadata": {},
          "execution_count": 423
        },
        {
          "output_type": "display_data",
          "data": {
            "text/plain": [
              "<Figure size 640x480 with 2 Axes>"
            ],
            "image/png": "[encoded data removed]"
          },
          "metadata": {}
        }
      ]
    },
    {
      "cell_type": "code",
      "source": [
        "plot_tfs('p', 'p', damping=True) # P to P"
      ],
      "metadata": {
        "colab": {
          "base_uri": "https://localhost:8080/",
          "height": 566
        },
        "id": "TMxZRn0Le2rg",
        "outputId": "8ac4f021-2e0f-4e92-a53e-e4da51f017e2"
      },
      "execution_count": 424,
      "outputs": [
        {
          "output_type": "stream",
          "name": "stdout",
          "text": [
            "Generating transfer function for p  to p\n",
            "[0.00294595200000000, 0.0, 0.303470916000000, 1e-05, 6.29254080000000]\n"
          ]
        },
        {
          "output_type": "execute_result",
          "data": {
            "text/plain": [
              "                           2                          \n",
              "              0.207236484⋅s  + 6.2925408              \n",
              "──────────────────────────────────────────────────────\n",
              "             4                2                       \n",
              "0.002945952⋅s  + 0.303470916⋅s  + 1.0e-5⋅s + 6.2925408"
            ],
            "text/latex": "$\\displaystyle \\frac{0.207236484 s^{2} + 6.2925408}{0.002945952 s^{4} + 0.303470916 s^{2} + 1.0 \\cdot 10^{-5} s + 6.2925408}$"
          },
          "metadata": {},
          "execution_count": 424
        },
        {
          "output_type": "display_data",
          "data": {
            "text/plain": [
              "<Figure size 640x480 with 2 Axes>"
            ],
            "image/png": "[encoded data removed]"
          },
          "metadata": {}
        }
      ]
    },
    {
      "cell_type": "code",
      "source": [
        "plot_tfs('p', 'l', damping=True) # P to L"
      ],
      "metadata": {
        "colab": {
          "base_uri": "https://localhost:8080/",
          "height": 566
        },
        "id": "KAihPqqCe5qy",
        "outputId": "1e4b1a7f-8c0c-4558-86b0-c6a004011a80"
      },
      "execution_count": 425,
      "outputs": [
        {
          "output_type": "stream",
          "name": "stdout",
          "text": [
            "Generating transfer function for p  to l\n",
            "[0.00294595200000000, 0.0, 0.303470916000000, 1e-05, 6.29254080000000]\n"
          ]
        },
        {
          "output_type": "execute_result",
          "data": {
            "text/plain": [
              "                                  2                   \n",
              "                  0.002189333328⋅s                    \n",
              "──────────────────────────────────────────────────────\n",
              "             4                2                       \n",
              "0.002945952⋅s  + 0.303470916⋅s  + 1.0e-5⋅s + 6.2925408"
            ],
            "text/latex": "$\\displaystyle \\frac{0.002189333328 s^{2}}{0.002945952 s^{4} + 0.303470916 s^{2} + 1.0 \\cdot 10^{-5} s + 6.2925408}$"
          },
          "metadata": {},
          "execution_count": 425
        },
        {
          "output_type": "display_data",
          "data": {
            "text/plain": [
              "<Figure size 640x480 with 2 Axes>"
            ],
            "image/png": "[encoded data removed]"
          },
          "metadata": {}
        }
      ]
    },
    {
      "cell_type": "code",
      "source": [],
      "metadata": {
        "id": "PFuuFUtUe89z"
      },
      "execution_count": null,
      "outputs": []
    }
  ],
  "metadata": {
    "colab": {
      "provenance": [],
      "authorship_tag": "ABX9TyMhLydsvHktpwMULymwQPZ7",
      "include_colab_link": true
    },
    "kernelspec": {
      "display_name": "Python 3",
      "name": "python3"
    },
    "language_info": {
      "name": "python"
    }
  },
  "nbformat": 4,
  "nbformat_minor": 0
}