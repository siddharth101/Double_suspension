{
  "nbformat": 4,
  "nbformat_minor": 0,
  "metadata": {
    "colab": {
      "provenance": [],
      "authorship_tag": "ABX9TyP8Ivv/tX9G6NHOE2HhozZc",
      "include_colab_link": true
    },
    "kernelspec": {
      "name": "python3",
      "display_name": "Python 3"
    },
    "language_info": {
      "name": "python"
    }
  },
  "cells": [
    {
      "cell_type": "markdown",
      "metadata": {
        "id": "view-in-github",
        "colab_type": "text"
      },
      "source": [
        "<a href=\"https://colab.research.google.com/github/siddharth101/Double_suspension/blob/main/spring_block.ipynb\" target=\"_parent\"><img src=\"https://colab.research.google.com/assets/colab-badge.svg\" alt=\"Open In Colab\"/></a>"
      ]
    },
    {
      "cell_type": "code",
      "execution_count": 205,
      "metadata": {
        "colab": {
          "base_uri": "https://localhost:8080/",
          "height": 68
        },
        "id": "Jt56ypM3ia58",
        "outputId": "0abdbd0a-2711-4ea5-bb46-54bf05476c78"
      },
      "outputs": [
        {
          "output_type": "execute_result",
          "data": {
            "text/plain": [
              "Matrix([[M*g/sqrt(q2(t)**2/q3(t)**2 + 1) - M*Derivative(u4(t), t) - k1*(-x_0 + sqrt(q2(t)**2 + q3(t)**2))]])"
            ],
            "text/latex": "$\\displaystyle \\left[\\begin{matrix}\\frac{M g}{\\sqrt{\\frac{q_{2}^{2}{\\left(t \\right)}}{q_{3}^{2}{\\left(t \\right)}} + 1}} - M \\frac{d}{d t} u_{4}{\\left(t \\right)} - k_{1} \\left(- x_{0} + \\sqrt{q_{2}^{2}{\\left(t \\right)} + q_{3}^{2}{\\left(t \\right)}}\\right)\\end{matrix}\\right]$"
          },
          "metadata": {},
          "execution_count": 205
        }
      ],
      "source": [
        "from sympy import zeros, symbols\n",
        "from sympy import symbols, Matrix, solve, simplify\n",
        "from sympy import Matrix\n",
        "from sympy.physics.mechanics import Body, PinJoint, SphericalJoint, PlanarJoint, PrismaticJoint, JointsMethod, inertia\n",
        "from sympy.physics.mechanics import dynamicsymbols\n",
        "from sympy import Symbol\n",
        "from sympy.physics.mechanics import dynamicsymbols, ReferenceFrame, outer\n",
        "from sympy.physics.mechanics import ReferenceFrame, Point, RigidBody\n",
        "from sympy.physics.mechanics import kinetic_energy, potential_energy, Point, Particle\n",
        "\n",
        "import sympy as smp\n",
        "import numpy as np\n",
        "import matplotlib.pyplot as plt\n",
        "import sympy.physics.mechanics as me\n",
        "\n",
        "\n",
        "O = Point('O')\n",
        "P1 = Point('P1')\n",
        "P2 = Point('P2')\n",
        "P3 = Point('P3')\n",
        "Xc = Point('Xc')\n",
        "Xd = Point('Xd')\n",
        "\n",
        "q1, q2, q3, q4, q5, q6 = dynamicsymbols('q1, q2, q3, q4, q5, q6', real=True, positive=True)\n",
        "u1, u2, u3, u4, u5, u6 = dynamicsymbols('u1, u2, u3, u4, u5, u6')\n",
        "alpha_z1, beta_z1 = dynamicsymbols('alpha_z1 beta_z1')\n",
        "alpha_x1, beta_x1 = dynamicsymbols('alpha_x1 beta_x1')\n",
        "alpha_y1, beta_y1 = dynamicsymbols('alpha_y1 beta_y1')\n",
        "x_0 = symbols('x_0', real=True, positive=True)\n",
        "ixx1, iyy1, izz1 = symbols('ixx1 iyy1 izz1')\n",
        "M,g,t = symbols('M g t')\n",
        "omega_z1 = dynamicsymbols('omega_z1')\n",
        "omega_x1 = dynamicsymbols('omega_x1')\n",
        "omega_y1 = dynamicsymbols('omega_y1')\n",
        "L = symbols('L', real = True, positive=True)\n",
        "T1 = symbols('T1')\n",
        "k1 = symbols('k1')\n",
        "delta_l1 = symbols('delta_l1')\n",
        "\n",
        "N = ReferenceFrame('N')\n",
        "Na = ReferenceFrame('Na')\n",
        "\n",
        "Na.orient_axis(N, 0, N.z)\n",
        "\n",
        "\n",
        "P1.set_vel(frame=N, value=0)\n",
        "Xc.set_pos(P1, q2*N.z - q3*N.y)\n",
        "Xc.set_vel(N, u2*N.z + u3*N.y)\n",
        "\n",
        "Xd.set_pos(Xc, -q2*N.z + q3*N.y)\n",
        "\n",
        "\n",
        "\n",
        "ceiling = Body('c', masscenter=P1, frame=N)\n",
        "p2body = Body('p2body', masscenter=P2, frame=Na)\n",
        "\n",
        "body_inertia = inertia(Na, ixx1, 0, 0)\n",
        "block = Body('block', mass=M, masscenter=Xc, frame=Na, central_inertia=body_inertia)\n",
        "#block.frame.set_ang_vel(N, omega_x1*N.x)\n",
        "\n",
        "from sympy import atan2\n",
        "angle_spring = atan2(q2, q3)\n",
        "\n",
        "rev1 = SphericalJoint(name='p1p2', parent=ceiling, child=p2body, parent_point=P1, child_point=P2, amounts=[angle_spring,0,0], coordinates=[alpha_x1,alpha_y1, alpha_z1],\n",
        "                      speeds=[omega_x1, omega_y1, omega_z1],\n",
        "                     rot_order='XYZ')\n",
        "\n",
        "#Xc.pos_from(P2)\n",
        "\n",
        "rev2 = PrismaticJoint('J2', parent=p2body, child=block, parent_point=P2, child_point=Xc, coordinates=q4, speeds=u4,\n",
        "                      joint_axis=-Na.y)\n",
        "\n",
        "Na.orient_axis(N, angle_spring, N.x)\n",
        "\n",
        "Xc.pos_from(P2)\n",
        "T1 = k1*delta_l1\n",
        "T1 = T1.subs({delta_l1:  q4 - x_0}).subs({q4 : smp.sqrt(q2**2 + q3**2)})\n",
        "\n",
        "block.frame.set_ang_vel(N, omega_x1*N.x)\n",
        "\n",
        "\n",
        "\n",
        "block.apply_force(-M*g*N.y + T1*Na.y, point=Xc, reaction_body=p2body, reaction_point=P2)\n",
        "\n",
        "method = JointsMethod(block, rev2)\n",
        "method.form_eoms()"
      ]
    },
    {
      "cell_type": "code",
      "source": [
        "smp.sqrt(q2**2 + q3**2)"
      ],
      "metadata": {
        "colab": {
          "base_uri": "https://localhost:8080/",
          "height": 48
        },
        "id": "0Uz5D_79eQ5t",
        "outputId": "bc57646e-c034-4e33-a795-9079a33150fd"
      },
      "execution_count": 189,
      "outputs": [
        {
          "output_type": "execute_result",
          "data": {
            "text/plain": [
              "sqrt(q2(t)**2 + q3(t)**2)"
            ],
            "text/latex": "$\\displaystyle \\sqrt{q_{2}^{2}{\\left(t \\right)} + q_{3}^{2}{\\left(t \\right)}}$"
          },
          "metadata": {},
          "execution_count": 189
        }
      ]
    },
    {
      "cell_type": "code",
      "source": [
        "rev2.kdes[0]"
      ],
      "metadata": {
        "colab": {
          "base_uri": "https://localhost:8080/",
          "height": 52
        },
        "id": "tZgVkRgriopJ",
        "outputId": "b49174f7-ebb0-4ba7-cb1f-0a2e537e36b3"
      },
      "execution_count": 190,
      "outputs": [
        {
          "output_type": "execute_result",
          "data": {
            "text/plain": [
              "u4(t) - Derivative(q4(t), t)"
            ],
            "text/latex": "$\\displaystyle u_{4}{\\left(t \\right)} - \\frac{d}{d t} q_{4}{\\left(t \\right)}$"
          },
          "metadata": {},
          "execution_count": 190
        }
      ]
    },
    {
      "cell_type": "code",
      "source": [
        "\n",
        "constraint = Matrix([Xc.pos_from(P1).magnitude() - q4])\n",
        "vel_constraint = constraint.diff(t).subs({q2.diff(t):u2, q3.diff(t):u3, q4.diff(t):u4, q2**2 + q3**2:q4**2})\n",
        "\n",
        "\n",
        "\n",
        "kane = me.KanesMethod(N, q_ind=[ q2, q3], q_dependent=[q4], u_dependent=[u4], configuration_constraints=constraint, velocity_constraints=vel_constraint,\n",
        "\n",
        "                      u_ind = [ u2, u3],\n",
        "\n",
        "                      kd_eqs=[\n",
        "                              q2.diff(t) - u2, q3.diff(t) + u3, rev2.kdes[0]\n",
        "                              ])\n",
        "kaneeq = kane.kanes_equations([block], block.loads)\n",
        "#kaneeq = kane.kanes_equations(method.bodies, method.loads)"
      ],
      "metadata": {
        "id": "X1OQOyoOihy9"
      },
      "execution_count": 206,
      "outputs": []
    },
    {
      "cell_type": "code",
      "source": [
        "constraint"
      ],
      "metadata": {
        "colab": {
          "base_uri": "https://localhost:8080/",
          "height": 39
        },
        "id": "ajyuy5EMr_5N",
        "outputId": "85497ea1-a851-4922-a0c6-f6a0f0179911"
      },
      "execution_count": 192,
      "outputs": [
        {
          "output_type": "execute_result",
          "data": {
            "text/plain": [
              "Matrix([[sqrt(q2(t)**2 + q3(t)**2) - q4(t)]])"
            ],
            "text/latex": "$\\displaystyle \\left[\\begin{matrix}\\sqrt{q_{2}^{2}{\\left(t \\right)} + q_{3}^{2}{\\left(t \\right)}} - q_{4}{\\left(t \\right)}\\end{matrix}\\right]$"
          },
          "metadata": {},
          "execution_count": 192
        }
      ]
    },
    {
      "cell_type": "code",
      "source": [
        "kaneeq[0]"
      ],
      "metadata": {
        "colab": {
          "base_uri": "https://localhost:8080/",
          "height": 119
        },
        "id": "8qRHtTR6iuoP",
        "outputId": "8ee36ec5-f32b-42f7-ad11-8dc34e81c62b"
      },
      "execution_count": 193,
      "outputs": [
        {
          "output_type": "execute_result",
          "data": {
            "text/plain": [
              "Matrix([\n",
              "[k1*(sqrt(q2(t)**2 + q3(t)**2) - x_0(t))*q2(t)/(sqrt(q2(t)**2/q3(t)**2 + 1)*q3(t))],\n",
              "[       -M*g + k1*(sqrt(q2(t)**2 + q3(t)**2) - x_0(t))/sqrt(q2(t)**2/q3(t)**2 + 1)]])"
            ],
            "text/latex": "$\\displaystyle \\left[\\begin{matrix}\\frac{k_{1} \\left(\\sqrt{q_{2}^{2}{\\left(t \\right)} + q_{3}^{2}{\\left(t \\right)}} - x_{0}{\\left(t \\right)}\\right) q_{2}{\\left(t \\right)}}{\\sqrt{\\frac{q_{2}^{2}{\\left(t \\right)}}{q_{3}^{2}{\\left(t \\right)}} + 1} q_{3}{\\left(t \\right)}}\\\\- M g + \\frac{k_{1} \\left(\\sqrt{q_{2}^{2}{\\left(t \\right)} + q_{3}^{2}{\\left(t \\right)}} - x_{0}{\\left(t \\right)}\\right)}{\\sqrt{\\frac{q_{2}^{2}{\\left(t \\right)}}{q_{3}^{2}{\\left(t \\right)}} + 1}}\\end{matrix}\\right]$"
          },
          "metadata": {},
          "execution_count": 193
        }
      ]
    },
    {
      "cell_type": "code",
      "source": [
        "kaneeq[1]"
      ],
      "metadata": {
        "colab": {
          "base_uri": "https://localhost:8080/",
          "height": 59
        },
        "id": "FAu2OQH0iv-y",
        "outputId": "b28274d6-67d6-46a4-eb21-a7f2c411d012"
      },
      "execution_count": 168,
      "outputs": [
        {
          "output_type": "execute_result",
          "data": {
            "text/plain": [
              "Matrix([\n",
              "[-M*Derivative(u2(t), t)],\n",
              "[-M*Derivative(u3(t), t)]])"
            ],
            "text/latex": "$\\displaystyle \\left[\\begin{matrix}- M \\frac{d}{d t} u_{2}{\\left(t \\right)}\\\\- M \\frac{d}{d t} u_{3}{\\left(t \\right)}\\end{matrix}\\right]$"
          },
          "metadata": {},
          "execution_count": 168
        }
      ]
    },
    {
      "cell_type": "code",
      "source": [
        "kane.q # q2 and q3 are independent"
      ],
      "metadata": {
        "colab": {
          "base_uri": "https://localhost:8080/",
          "height": 78
        },
        "id": "bkvykweTix7F",
        "outputId": "4b9b10fe-c9c7-4b3b-cbf3-93203108cf77"
      },
      "execution_count": 169,
      "outputs": [
        {
          "output_type": "execute_result",
          "data": {
            "text/plain": [
              "Matrix([\n",
              "[q2(t)],\n",
              "[q3(t)],\n",
              "[q4(t)]])"
            ],
            "text/latex": "$\\displaystyle \\left[\\begin{matrix}q_{2}{\\left(t \\right)}\\\\q_{3}{\\left(t \\right)}\\\\q_{4}{\\left(t \\right)}\\end{matrix}\\right]$"
          },
          "metadata": {},
          "execution_count": 169
        }
      ]
    },
    {
      "cell_type": "code",
      "source": [
        "kaneeq[0][0].subs({q4 : smp.sqrt(q2**2 + q3**2)}).diff(q2).subs({q2:0, x_0: q3 -  M*g/k1, q3:L}).subs({q3:L}) #iff(q2).subs({q2:0, L: M*g/k1 + x_0}) # this is k*delta_l*sin(theta)/(M) along the z axis, this is what we get from Lagrange Eqns"
      ],
      "metadata": {
        "colab": {
          "base_uri": "https://localhost:8080/",
          "height": 52
        },
        "id": "UcBuLHDAiw6g",
        "outputId": "577c8c0e-94fc-460b-843a-4e3a10723bc7"
      },
      "execution_count": 159,
      "outputs": [
        {
          "output_type": "execute_result",
          "data": {
            "text/plain": [
              "M*g/L"
            ],
            "text/latex": "$\\displaystyle \\frac{M g}{L}$"
          },
          "metadata": {},
          "execution_count": 159
        }
      ]
    },
    {
      "cell_type": "code",
      "source": [
        "kaneeq[0][1].subs({q4 : smp.sqrt(q2**2 + q3**2)}).diff(q3).subs({q2:0, x_0: q3 -  M*g/k1, q3:L}).subs({q3:L})"
      ],
      "metadata": {
        "colab": {
          "base_uri": "https://localhost:8080/",
          "height": 39
        },
        "id": "v02jqq6Zud4r",
        "outputId": "797989af-48b2-4689-fc0b-94d40dbe9667"
      },
      "execution_count": 160,
      "outputs": [
        {
          "output_type": "execute_result",
          "data": {
            "text/plain": [
              "k1"
            ],
            "text/latex": "$\\displaystyle k_{1}$"
          },
          "metadata": {},
          "execution_count": 160
        }
      ]
    },
    {
      "cell_type": "code",
      "source": [
        "kaneeq[0][1]"
      ],
      "metadata": {
        "colab": {
          "base_uri": "https://localhost:8080/",
          "height": 70
        },
        "id": "CezjaWbX7eR8",
        "outputId": "88222d02-b4a3-4ae0-9eff-78702d2ce912"
      },
      "execution_count": 143,
      "outputs": [
        {
          "output_type": "execute_result",
          "data": {
            "text/plain": [
              "-M*g + k1*(q4(t) - x_0(t))/sqrt(q2(t)**2/q3(t)**2 + 1)"
            ],
            "text/latex": "$\\displaystyle - M g + \\frac{k_{1} \\left(q_{4}{\\left(t \\right)} - x_{0}{\\left(t \\right)}\\right)}{\\sqrt{\\frac{q_{2}^{2}{\\left(t \\right)}}{q_{3}^{2}{\\left(t \\right)}} + 1}}$"
          },
          "metadata": {},
          "execution_count": 143
        }
      ]
    },
    {
      "cell_type": "code",
      "source": [
        "kaneeq[0][1].diff(q3) # this is k*delta_l*cos(theta)/(M) - M*g along the y axis, this is what we get from Lagrange Eqns"
      ],
      "metadata": {
        "colab": {
          "base_uri": "https://localhost:8080/",
          "height": 77
        },
        "id": "ThJHfwJdjACc",
        "outputId": "ce32eefb-2ea6-4751-b7f9-a61d01404758"
      },
      "execution_count": 144,
      "outputs": [
        {
          "output_type": "execute_result",
          "data": {
            "text/plain": [
              "k1*(q4(t) - x_0(t))*q2(t)**2/((q2(t)**2/q3(t)**2 + 1)**(3/2)*q3(t)**3)"
            ],
            "text/latex": "$\\displaystyle \\frac{k_{1} \\left(q_{4}{\\left(t \\right)} - x_{0}{\\left(t \\right)}\\right) q_{2}^{2}{\\left(t \\right)}}{\\left(\\frac{q_{2}^{2}{\\left(t \\right)}}{q_{3}^{2}{\\left(t \\right)}} + 1\\right)^{\\frac{3}{2}} q_{3}^{3}{\\left(t \\right)}}$"
          },
          "metadata": {},
          "execution_count": 144
        }
      ]
    },
    {
      "cell_type": "code",
      "source": [
        "kanel = kane.to_linearizer()\n",
        "A, B = kanel.linearize(A_and_B=True, op_point={q2:0, u2:0, u3:0, q3:L,  x_0: L -  M*g/k1 })"
      ],
      "metadata": {
        "id": "vB4TEssnjgCr"
      },
      "execution_count": 207,
      "outputs": []
    },
    {
      "cell_type": "code",
      "source": [
        "kanel.q_i"
      ],
      "metadata": {
        "colab": {
          "base_uri": "https://localhost:8080/",
          "height": 58
        },
        "id": "-FC_RRJl8BDZ",
        "outputId": "10ddacec-ae8b-4d3f-8297-f5536b99d27d"
      },
      "execution_count": 208,
      "outputs": [
        {
          "output_type": "execute_result",
          "data": {
            "text/plain": [
              "Matrix([\n",
              "[q2(t)],\n",
              "[q3(t)]])"
            ],
            "text/latex": "$\\displaystyle \\left[\\begin{matrix}q_{2}{\\left(t \\right)}\\\\q_{3}{\\left(t \\right)}\\end{matrix}\\right]$"
          },
          "metadata": {},
          "execution_count": 208
        }
      ]
    },
    {
      "cell_type": "code",
      "source": [
        "kanel.f_v"
      ],
      "metadata": {
        "colab": {
          "base_uri": "https://localhost:8080/",
          "height": 47
        },
        "id": "Yzs6phIYBacT",
        "outputId": "83cf1072-6fc5-40bc-b506-0a5ee4617c43"
      },
      "execution_count": 209,
      "outputs": [
        {
          "output_type": "execute_result",
          "data": {
            "text/plain": [
              "Matrix([[q2(t)*u2(t)/q4(t) + q3(t)*u3(t)/q4(t) - u4(t)]])"
            ],
            "text/latex": "$\\displaystyle \\left[\\begin{matrix}\\frac{q_{2}{\\left(t \\right)} u_{2}{\\left(t \\right)}}{q_{4}{\\left(t \\right)}} + \\frac{q_{3}{\\left(t \\right)} u_{3}{\\left(t \\right)}}{q_{4}{\\left(t \\right)}} - u_{4}{\\left(t \\right)}\\end{matrix}\\right]$"
          },
          "metadata": {},
          "execution_count": 209
        }
      ]
    },
    {
      "cell_type": "code",
      "source": [
        "A.simplify()"
      ],
      "metadata": {
        "id": "TrTwUjnXmqqS"
      },
      "execution_count": 210,
      "outputs": []
    },
    {
      "cell_type": "code",
      "source": [
        "A"
      ],
      "metadata": {
        "colab": {
          "base_uri": "https://localhost:8080/",
          "height": 99
        },
        "id": "DRDlMfGx56b8",
        "outputId": "1570eb76-8252-40e7-9951-6dab53fc8a4e"
      },
      "execution_count": 211,
      "outputs": [
        {
          "output_type": "execute_result",
          "data": {
            "text/plain": [
              "Matrix([\n",
              "[  0,    0, 1,  0],\n",
              "[  0,    0, 0, -1],\n",
              "[g/L,    0, 0,  0],\n",
              "[  0, k1/M, 0,  0]])"
            ],
            "text/latex": "$\\displaystyle \\left[\\begin{matrix}0 & 0 & 1 & 0\\\\0 & 0 & 0 & -1\\\\\\frac{g}{L} & 0 & 0 & 0\\\\0 & \\frac{k_{1}}{M} & 0 & 0\\end{matrix}\\right]$"
          },
          "metadata": {},
          "execution_count": 211
        }
      ]
    },
    {
      "cell_type": "code",
      "source": [
        "B"
      ],
      "metadata": {
        "colab": {
          "base_uri": "https://localhost:8080/",
          "height": 37
        },
        "id": "tcJP0BYHnenS",
        "outputId": "96f68cd2-1d16-4dd6-baba-24097e2ccb4d"
      },
      "execution_count": 212,
      "outputs": [
        {
          "output_type": "execute_result",
          "data": {
            "text/plain": [
              "Matrix(0, 0, [])"
            ],
            "text/latex": "$\\displaystyle \\left[\\begin{matrix}\\end{matrix}\\right]$"
          },
          "metadata": {},
          "execution_count": 212
        }
      ]
    },
    {
      "cell_type": "code",
      "source": [
        "kanel.r # this is the input"
      ],
      "metadata": {
        "colab": {
          "base_uri": "https://localhost:8080/",
          "height": 37
        },
        "id": "aNAtB2GRnnXb",
        "outputId": "50310465-c2f0-44f5-9fe1-0979c558a64f"
      },
      "execution_count": 213,
      "outputs": [
        {
          "output_type": "execute_result",
          "data": {
            "text/plain": [
              "Matrix(0, 0, [])"
            ],
            "text/latex": "$\\displaystyle \\left[\\begin{matrix}\\end{matrix}\\right]$"
          },
          "metadata": {},
          "execution_count": 213
        }
      ]
    },
    {
      "cell_type": "code",
      "source": [],
      "metadata": {
        "id": "GSY88q6j6tuC"
      },
      "execution_count": null,
      "outputs": []
    }
  ]
}