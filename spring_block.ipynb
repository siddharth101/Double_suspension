{
  "nbformat": 4,
  "nbformat_minor": 0,
  "metadata": {
    "colab": {
      "provenance": [],
      "authorship_tag": "ABX9TyNJHKU1oCJMpw0K9LO16F0Z",
      "include_colab_link": true
    },
    "kernelspec": {
      "name": "python3",
      "display_name": "Python 3"
    },
    "language_info": {
      "name": "python"
    }
  },
  "cells": [
    {
      "cell_type": "markdown",
      "metadata": {
        "id": "view-in-github",
        "colab_type": "text"
      },
      "source": [
        "<a href=\"https://colab.research.google.com/github/siddharth101/Double_suspension/blob/main/spring_block.ipynb\" target=\"_parent\"><img src=\"https://colab.research.google.com/assets/colab-badge.svg\" alt=\"Open In Colab\"/></a>"
      ]
    },
    {
      "cell_type": "code",
      "execution_count": 1,
      "metadata": {
        "colab": {
          "base_uri": "https://localhost:8080/",
          "height": 60
        },
        "id": "Jt56ypM3ia58",
        "outputId": "fea4abc9-03c2-4b9f-f6e4-0213887a764c"
      },
      "outputs": [
        {
          "output_type": "execute_result",
          "data": {
            "text/plain": [
              "Matrix([[M*g/sqrt(q2(t)**2/q3(t)**2 + 1) - M*Derivative(u4(t), t) - k1*(q4(t) - x_0(t))]])"
            ],
            "text/latex": "$\\displaystyle \\left[\\begin{matrix}\\frac{M g}{\\sqrt{\\frac{q_{2}^{2}{\\left(t \\right)}}{q_{3}^{2}{\\left(t \\right)}} + 1}} - M \\frac{d}{d t} u_{4}{\\left(t \\right)} - k_{1} \\left(q_{4}{\\left(t \\right)} - x_{0}{\\left(t \\right)}\\right)\\end{matrix}\\right]$"
          },
          "metadata": {},
          "execution_count": 1
        }
      ],
      "source": [
        "from sympy import zeros, symbols\n",
        "from sympy import symbols, Matrix, solve, simplify\n",
        "from sympy import Matrix\n",
        "from sympy.physics.mechanics import Body, PinJoint, SphericalJoint, PlanarJoint, PrismaticJoint, JointsMethod, inertia\n",
        "from sympy.physics.mechanics import dynamicsymbols\n",
        "from sympy import Symbol\n",
        "from sympy.physics.mechanics import dynamicsymbols, ReferenceFrame, outer\n",
        "from sympy.physics.mechanics import ReferenceFrame, Point, RigidBody\n",
        "from sympy.physics.mechanics import kinetic_energy, potential_energy, Point, Particle\n",
        "\n",
        "import sympy as smp\n",
        "import numpy as np\n",
        "import matplotlib.pyplot as plt\n",
        "import sympy.physics.mechanics as me\n",
        "\n",
        "\n",
        "O = Point('O')\n",
        "P1 = Point('P1')\n",
        "P2 = Point('P2')\n",
        "P3 = Point('P3')\n",
        "Xc = Point('Xc')\n",
        "Xd = Point('Xd')\n",
        "\n",
        "q1, q2, q3, q4, q5, q6 = dynamicsymbols('q1, q2, q3, q4, q5, q6', real=True, positive=True)\n",
        "u1, u2, u3, u4, u5, u6 = dynamicsymbols('u1, u2, u3, u4, u5, u6')\n",
        "alpha_z1, beta_z1 = dynamicsymbols('alpha_z1 beta_z1')\n",
        "alpha_x1, beta_x1 = dynamicsymbols('alpha_x1 beta_x1')\n",
        "alpha_y1, beta_y1 = dynamicsymbols('alpha_y1 beta_y1')\n",
        "x_0 = dynamicsymbols('x_0')\n",
        "ixx1, iyy1, izz1 = symbols('ixx1 iyy1 izz1')\n",
        "M,g,t = symbols('M g t')\n",
        "omega_z1 = dynamicsymbols('omega_z1')\n",
        "omega_x1 = dynamicsymbols('omega_x1')\n",
        "omega_y1 = dynamicsymbols('omega_y1')\n",
        "L = dynamicsymbols('L')\n",
        "T1 = symbols('T1')\n",
        "k1 = symbols('k1')\n",
        "delta_l1 = symbols('delta_l1')\n",
        "\n",
        "N = ReferenceFrame('N')\n",
        "Na = ReferenceFrame('Na')\n",
        "\n",
        "Na.orient_axis(N, 0, N.z)\n",
        "\n",
        "\n",
        "P1.set_vel(frame=N, value=0)\n",
        "Xc.set_pos(P1, q2*N.z - q3*N.y)\n",
        "Xc.set_vel(N, u2*N.z + u3*N.y)\n",
        "\n",
        "Xd.set_pos(Xc, -q2*N.z + q3*N.y)\n",
        "\n",
        "\n",
        "\n",
        "ceiling = Body('c', masscenter=P1, frame=N)\n",
        "p2body = Body('p2body', masscenter=P2, frame=Na)\n",
        "\n",
        "body_inertia = inertia(Na, ixx1, 0, 0)\n",
        "block = Body('block', mass=M, masscenter=Xc, frame=Na, central_inertia=body_inertia)\n",
        "#block.frame.set_ang_vel(N, omega_x1*N.x)\n",
        "\n",
        "from sympy import atan2\n",
        "angle_spring = atan2(q2, q3)\n",
        "\n",
        "rev1 = SphericalJoint(name='p1p2', parent=ceiling, child=p2body, parent_point=P1, child_point=P2, amounts=[angle_spring,0,0], coordinates=[alpha_x1,alpha_y1, alpha_z1],\n",
        "                      speeds=[omega_x1, omega_y1, omega_z1],\n",
        "                     rot_order='XYZ')\n",
        "\n",
        "#Xc.pos_from(P2)\n",
        "\n",
        "rev2 = PrismaticJoint('J2', parent=p2body, child=block, parent_point=P2, child_point=Xc, coordinates=q4, speeds=u4,\n",
        "                      joint_axis=-Na.y)\n",
        "\n",
        "Na.orient_axis(N, angle_spring, N.x)\n",
        "\n",
        "Xc.pos_from(P2)\n",
        "T1 = k1*delta_l1\n",
        "T1 = T1.subs({delta_l1: q4 - x_0})\n",
        "\n",
        "block.frame.set_ang_vel(N, omega_x1*N.x)\n",
        "\n",
        "\n",
        "\n",
        "block.apply_force(-M*g*N.y + T1*Na.y, point=Xc, reaction_body=p2body, reaction_point=P2)\n",
        "\n",
        "method = JointsMethod(block, rev2)\n",
        "method.form_eoms()"
      ]
    },
    {
      "cell_type": "code",
      "source": [
        "rev2.kdes[0]"
      ],
      "metadata": {
        "colab": {
          "base_uri": "https://localhost:8080/",
          "height": 52
        },
        "id": "tZgVkRgriopJ",
        "outputId": "104177db-00ea-4a65-a700-619c487f1067"
      },
      "execution_count": 3,
      "outputs": [
        {
          "output_type": "execute_result",
          "data": {
            "text/plain": [
              "u4(t) - Derivative(q4(t), t)"
            ],
            "text/latex": "$\\displaystyle u_{4}{\\left(t \\right)} - \\frac{d}{d t} q_{4}{\\left(t \\right)}$"
          },
          "metadata": {},
          "execution_count": 3
        }
      ]
    },
    {
      "cell_type": "code",
      "source": [
        "\n",
        "constraint = Matrix([Xc.pos_from(P1).magnitude() - q4])\n",
        "vel_constraint = constraint.diff(t).subs({q2.diff(t):u2, q3.diff(t):u3, q4.diff(t):u4, q2**2 + q3**2:q4**2})\n",
        "\n",
        "\n",
        "\n",
        "kane = me.KanesMethod(N, q_ind=[ q2, q3], q_dependent=[q4], u_dependent=[u4], configuration_constraints=constraint, velocity_constraints=vel_constraint,\n",
        "\n",
        "                      u_ind = [ u2, u3],\n",
        "\n",
        "                      kd_eqs=[\n",
        "                              q2.diff(t) - u2, q3.diff(t) + u3, rev2.kdes[0]\n",
        "                              ])\n",
        "kaneeq = kane.kanes_equations([block], block.loads)\n",
        "#kaneeq = kane.kanes_equations(method.bodies, method.loads)"
      ],
      "metadata": {
        "id": "X1OQOyoOihy9"
      },
      "execution_count": 4,
      "outputs": []
    },
    {
      "cell_type": "code",
      "source": [
        "kaneeq[0]"
      ],
      "metadata": {
        "colab": {
          "base_uri": "https://localhost:8080/",
          "height": 106
        },
        "id": "8qRHtTR6iuoP",
        "outputId": "acf7b093-1733-470c-99c3-7a3a6f24c35f"
      },
      "execution_count": 5,
      "outputs": [
        {
          "output_type": "execute_result",
          "data": {
            "text/plain": [
              "Matrix([\n",
              "[k1*(q4(t) - x_0(t))*q2(t)/(sqrt(q2(t)**2/q3(t)**2 + 1)*q3(t))],\n",
              "[       -M*g + k1*(q4(t) - x_0(t))/sqrt(q2(t)**2/q3(t)**2 + 1)]])"
            ],
            "text/latex": "$\\displaystyle \\left[\\begin{matrix}\\frac{k_{1} \\left(q_{4}{\\left(t \\right)} - x_{0}{\\left(t \\right)}\\right) q_{2}{\\left(t \\right)}}{\\sqrt{\\frac{q_{2}^{2}{\\left(t \\right)}}{q_{3}^{2}{\\left(t \\right)}} + 1} q_{3}{\\left(t \\right)}}\\\\- M g + \\frac{k_{1} \\left(q_{4}{\\left(t \\right)} - x_{0}{\\left(t \\right)}\\right)}{\\sqrt{\\frac{q_{2}^{2}{\\left(t \\right)}}{q_{3}^{2}{\\left(t \\right)}} + 1}}\\end{matrix}\\right]$"
          },
          "metadata": {},
          "execution_count": 5
        }
      ]
    },
    {
      "cell_type": "code",
      "source": [
        "kaneeq[1]"
      ],
      "metadata": {
        "colab": {
          "base_uri": "https://localhost:8080/",
          "height": 59
        },
        "id": "FAu2OQH0iv-y",
        "outputId": "396df743-383b-4956-fbc1-ce70c856bf77"
      },
      "execution_count": 6,
      "outputs": [
        {
          "output_type": "execute_result",
          "data": {
            "text/plain": [
              "Matrix([\n",
              "[-M*Derivative(u2(t), t)],\n",
              "[-M*Derivative(u3(t), t)]])"
            ],
            "text/latex": "$\\displaystyle \\left[\\begin{matrix}- M \\frac{d}{d t} u_{2}{\\left(t \\right)}\\\\- M \\frac{d}{d t} u_{3}{\\left(t \\right)}\\end{matrix}\\right]$"
          },
          "metadata": {},
          "execution_count": 6
        }
      ]
    },
    {
      "cell_type": "code",
      "source": [
        "kane.q # q2 and q3 are independent"
      ],
      "metadata": {
        "colab": {
          "base_uri": "https://localhost:8080/",
          "height": 78
        },
        "id": "bkvykweTix7F",
        "outputId": "37f934c3-30c1-41ef-9b09-82a51c94f812"
      },
      "execution_count": 7,
      "outputs": [
        {
          "output_type": "execute_result",
          "data": {
            "text/plain": [
              "Matrix([\n",
              "[q2(t)],\n",
              "[q3(t)],\n",
              "[q4(t)]])"
            ],
            "text/latex": "$\\displaystyle \\left[\\begin{matrix}q_{2}{\\left(t \\right)}\\\\q_{3}{\\left(t \\right)}\\\\q_{4}{\\left(t \\right)}\\end{matrix}\\right]$"
          },
          "metadata": {},
          "execution_count": 7
        }
      ]
    },
    {
      "cell_type": "code",
      "source": [
        "kaneeq[0][0] # this is k*delta_l*sin(theta)/(M) along the z axis, this is what we get from Lagrange Eqns"
      ],
      "metadata": {
        "colab": {
          "base_uri": "https://localhost:8080/",
          "height": 70
        },
        "id": "UcBuLHDAiw6g",
        "outputId": "3ed72c3f-7bf5-485e-977f-c0eb1915958f"
      },
      "execution_count": 8,
      "outputs": [
        {
          "output_type": "execute_result",
          "data": {
            "text/plain": [
              "k1*(q4(t) - x_0(t))*q2(t)/(sqrt(q2(t)**2/q3(t)**2 + 1)*q3(t))"
            ],
            "text/latex": "$\\displaystyle \\frac{k_{1} \\left(q_{4}{\\left(t \\right)} - x_{0}{\\left(t \\right)}\\right) q_{2}{\\left(t \\right)}}{\\sqrt{\\frac{q_{2}^{2}{\\left(t \\right)}}{q_{3}^{2}{\\left(t \\right)}} + 1} q_{3}{\\left(t \\right)}}$"
          },
          "metadata": {},
          "execution_count": 8
        }
      ]
    },
    {
      "cell_type": "code",
      "source": [
        "kaneeq[0][1] # this is k*delta_l*cos(theta)/(M) - M*g along the y axis, this is what we get from Lagrange Eqns"
      ],
      "metadata": {
        "colab": {
          "base_uri": "https://localhost:8080/",
          "height": 70
        },
        "id": "ThJHfwJdjACc",
        "outputId": "c1d6f542-913f-47d3-e0ce-2ced08c90b50"
      },
      "execution_count": 9,
      "outputs": [
        {
          "output_type": "execute_result",
          "data": {
            "text/plain": [
              "-M*g + k1*(q4(t) - x_0(t))/sqrt(q2(t)**2/q3(t)**2 + 1)"
            ],
            "text/latex": "$\\displaystyle - M g + \\frac{k_{1} \\left(q_{4}{\\left(t \\right)} - x_{0}{\\left(t \\right)}\\right)}{\\sqrt{\\frac{q_{2}^{2}{\\left(t \\right)}}{q_{3}^{2}{\\left(t \\right)}} + 1}}$"
          },
          "metadata": {},
          "execution_count": 9
        }
      ]
    },
    {
      "cell_type": "code",
      "source": [
        "kanel = kane.to_linearizer()\n",
        "A, B = kanel.linearize(A_and_B=True, op_point={q2:0, u2:0, q4:L, q3:L, u3:0})"
      ],
      "metadata": {
        "id": "vB4TEssnjgCr"
      },
      "execution_count": 34,
      "outputs": []
    },
    {
      "cell_type": "code",
      "source": [
        "A.simplify()"
      ],
      "metadata": {
        "id": "TrTwUjnXmqqS"
      },
      "execution_count": 35,
      "outputs": []
    },
    {
      "cell_type": "code",
      "source": [
        "A"
      ],
      "metadata": {
        "colab": {
          "base_uri": "https://localhost:8080/",
          "height": 115
        },
        "id": "a7h6v6UVmrHM",
        "outputId": "c257f044-9b8d-4806-d308-05a112e3e7ac"
      },
      "execution_count": 33,
      "outputs": [
        {
          "output_type": "execute_result",
          "data": {
            "text/plain": [
              "Matrix([\n",
              "[                          0,                         0, 1,  0],\n",
              "[                          0,                         0, 0, -1],\n",
              "[k1*(L(t) - x_0(t))/(M*L(t)),                         0, 0,  0],\n",
              "[                          0, k1*L(t)/(M*sqrt(L(t)**2)), 0,  0]])"
            ],
            "text/latex": "$\\displaystyle \\left[\\begin{matrix}0 & 0 & 1 & 0\\\\0 & 0 & 0 & -1\\\\\\frac{k_{1} \\left(L{\\left(t \\right)} - x_{0}{\\left(t \\right)}\\right)}{M L{\\left(t \\right)}} & 0 & 0 & 0\\\\0 & \\frac{k_{1} L{\\left(t \\right)}}{M \\sqrt{L^{2}{\\left(t \\right)}}} & 0 & 0\\end{matrix}\\right]$"
          },
          "metadata": {},
          "execution_count": 33
        }
      ]
    },
    {
      "cell_type": "code",
      "source": [
        "B"
      ],
      "metadata": {
        "colab": {
          "base_uri": "https://localhost:8080/",
          "height": 99
        },
        "id": "tcJP0BYHnenS",
        "outputId": "e49a54e3-1a57-4f84-e3f3-bcdac8bf6901"
      },
      "execution_count": 36,
      "outputs": [
        {
          "output_type": "execute_result",
          "data": {
            "text/plain": [
              "Matrix([\n",
              "[    0],\n",
              "[    0],\n",
              "[    0],\n",
              "[-k1/M]])"
            ],
            "text/latex": "$\\displaystyle \\left[\\begin{matrix}0\\\\0\\\\0\\\\- \\frac{k_{1}}{M}\\end{matrix}\\right]$"
          },
          "metadata": {},
          "execution_count": 36
        }
      ]
    },
    {
      "cell_type": "code",
      "source": [
        "kanel.r # this is the input"
      ],
      "metadata": {
        "colab": {
          "base_uri": "https://localhost:8080/",
          "height": 39
        },
        "id": "aNAtB2GRnnXb",
        "outputId": "d5446711-b147-4a88-c739-4d2512c498de"
      },
      "execution_count": 37,
      "outputs": [
        {
          "output_type": "execute_result",
          "data": {
            "text/plain": [
              "Matrix([[x_0(t)]])"
            ],
            "text/latex": "$\\displaystyle \\left[\\begin{matrix}x_{0}{\\left(t \\right)}\\end{matrix}\\right]$"
          },
          "metadata": {},
          "execution_count": 37
        }
      ]
    },
    {
      "cell_type": "code",
      "source": [],
      "metadata": {
        "id": "Uqcz7nomnpDd"
      },
      "execution_count": null,
      "outputs": []
    }
  ]
}