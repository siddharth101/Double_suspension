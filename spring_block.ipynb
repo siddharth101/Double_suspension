{
  "nbformat": 4,
  "nbformat_minor": 0,
  "metadata": {
    "colab": {
      "provenance": [],
      "authorship_tag": "ABX9TyMT746kh+IfggS44vgo2DcG",
      "include_colab_link": true
    },
    "kernelspec": {
      "name": "python3",
      "display_name": "Python 3"
    },
    "language_info": {
      "name": "python"
    }
  },
  "cells": [
    {
      "cell_type": "markdown",
      "metadata": {
        "id": "view-in-github",
        "colab_type": "text"
      },
      "source": [
        "<a href=\"https://colab.research.google.com/github/siddharth101/Double_suspension/blob/main/spring_block.ipynb\" target=\"_parent\"><img src=\"https://colab.research.google.com/assets/colab-badge.svg\" alt=\"Open In Colab\"/></a>"
      ]
    },
    {
      "cell_type": "code",
      "execution_count": 1,
      "metadata": {
        "colab": {
          "base_uri": "https://localhost:8080/",
          "height": 68
        },
        "id": "Jt56ypM3ia58",
        "outputId": "a0fbafaa-78af-4caf-b00a-5c685e6dd041"
      },
      "outputs": [
        {
          "output_type": "execute_result",
          "data": {
            "text/plain": [
              "Matrix([[M*g/sqrt(q2(t)**2/q3(t)**2 + 1) - M*Derivative(u4(t), t) - k1*(-x_0 + sqrt(q2(t)**2 + q3(t)**2))]])"
            ],
            "text/latex": "$\\displaystyle \\left[\\begin{matrix}\\frac{M g}{\\sqrt{\\frac{q_{2}^{2}{\\left(t \\right)}}{q_{3}^{2}{\\left(t \\right)}} + 1}} - M \\frac{d}{d t} u_{4}{\\left(t \\right)} - k_{1} \\left(- x_{0} + \\sqrt{q_{2}^{2}{\\left(t \\right)} + q_{3}^{2}{\\left(t \\right)}}\\right)\\end{matrix}\\right]$"
          },
          "metadata": {},
          "execution_count": 1
        }
      ],
      "source": [
        "from sympy import zeros, symbols\n",
        "from sympy import symbols, Matrix, solve, simplify\n",
        "from sympy import Matrix\n",
        "from sympy.physics.mechanics import Body, PinJoint, SphericalJoint, PlanarJoint, PrismaticJoint, JointsMethod, inertia\n",
        "from sympy.physics.mechanics import dynamicsymbols\n",
        "from sympy import Symbol\n",
        "from sympy.physics.mechanics import dynamicsymbols, ReferenceFrame, outer\n",
        "from sympy.physics.mechanics import ReferenceFrame, Point, RigidBody\n",
        "from sympy.physics.mechanics import kinetic_energy, potential_energy, Point, Particle\n",
        "\n",
        "import sympy as smp\n",
        "import numpy as np\n",
        "import matplotlib.pyplot as plt\n",
        "import sympy.physics.mechanics as me\n",
        "\n",
        "\n",
        "O = Point('O')\n",
        "P1 = Point('P1')\n",
        "P2 = Point('P2')\n",
        "P3 = Point('P3')\n",
        "Xc = Point('Xc')\n",
        "Xd = Point('Xd')\n",
        "\n",
        "q1, q2, q3, q4, q5, q6 = dynamicsymbols('q1, q2, q3, q4, q5, q6', real=True, positive=True)\n",
        "u1, u2, u3, u4, u5, u6 = dynamicsymbols('u1, u2, u3, u4, u5, u6')\n",
        "alpha_z1, beta_z1 = dynamicsymbols('alpha_z1 beta_z1')\n",
        "alpha_x1, beta_x1 = dynamicsymbols('alpha_x1 beta_x1')\n",
        "alpha_y1, beta_y1 = dynamicsymbols('alpha_y1 beta_y1')\n",
        "x_0 = symbols('x_0', real=True, positive=True)\n",
        "ixx1, iyy1, izz1 = symbols('ixx1 iyy1 izz1')\n",
        "M,g,t = symbols('M g t')\n",
        "omega_z1 = dynamicsymbols('omega_z1')\n",
        "omega_x1 = dynamicsymbols('omega_x1')\n",
        "omega_y1 = dynamicsymbols('omega_y1')\n",
        "L = symbols('L', real = True, positive=True)\n",
        "T1 = symbols('T1')\n",
        "k1 = symbols('k1')\n",
        "delta_l1 = symbols('delta_l1')\n",
        "\n",
        "N = ReferenceFrame('N')\n",
        "Na = ReferenceFrame('Na')\n",
        "\n",
        "Na.orient_axis(N, 0, N.z)\n",
        "\n",
        "\n",
        "P1.set_vel(frame=N, value=0)\n",
        "Xc.set_pos(P1, q2*N.z - q3*N.y)\n",
        "Xc.set_vel(N, u2*N.z + u3*N.y)\n",
        "\n",
        "Xd.set_pos(Xc, -q2*N.z + q3*N.y)\n",
        "\n",
        "\n",
        "\n",
        "ceiling = Body('c', masscenter=P1, frame=N)\n",
        "p2body = Body('p2body', masscenter=P2, frame=Na)\n",
        "\n",
        "body_inertia = inertia(Na, ixx1, 0, 0)\n",
        "block = Body('block', mass=M, masscenter=Xc, frame=Na, central_inertia=body_inertia)\n",
        "#block.frame.set_ang_vel(N, omega_x1*N.x)\n",
        "\n",
        "from sympy import atan2\n",
        "angle_spring = atan2(q2, q3)\n",
        "\n",
        "rev1 = SphericalJoint(name='p1p2', parent=ceiling, child=p2body, parent_point=P1, child_point=P2, amounts=[angle_spring,0,0], coordinates=[alpha_x1,alpha_y1, alpha_z1],\n",
        "                      speeds=[omega_x1, omega_y1, omega_z1],\n",
        "                     rot_order='XYZ')\n",
        "\n",
        "#Xc.pos_from(P2)\n",
        "\n",
        "rev2 = PrismaticJoint('J2', parent=p2body, child=block, parent_point=P2, child_point=Xc, coordinates=q4, speeds=u4,\n",
        "                      joint_axis=-Na.y)\n",
        "\n",
        "Na.orient_axis(N, angle_spring, N.x)\n",
        "\n",
        "Xc.pos_from(P2)\n",
        "T1 = k1*delta_l1\n",
        "T1 = T1.subs({delta_l1:  q4 - x_0}).subs({q4 : smp.sqrt(q2**2 + q3**2)})\n",
        "\n",
        "block.frame.set_ang_vel(N, omega_x1*N.x)\n",
        "\n",
        "\n",
        "\n",
        "block.apply_force(-M*g*N.y + T1*Na.y, point=Xc, reaction_body=p2body, reaction_point=P2)\n",
        "\n",
        "method = JointsMethod(block, rev2)\n",
        "method.form_eoms()"
      ]
    },
    {
      "cell_type": "code",
      "source": [
        "smp.sqrt(q2**2 + q3**2)"
      ],
      "metadata": {
        "colab": {
          "base_uri": "https://localhost:8080/",
          "height": 48
        },
        "id": "0Uz5D_79eQ5t",
        "outputId": "bc57646e-c034-4e33-a795-9079a33150fd"
      },
      "execution_count": 189,
      "outputs": [
        {
          "output_type": "execute_result",
          "data": {
            "text/plain": [
              "sqrt(q2(t)**2 + q3(t)**2)"
            ],
            "text/latex": "$\\displaystyle \\sqrt{q_{2}^{2}{\\left(t \\right)} + q_{3}^{2}{\\left(t \\right)}}$"
          },
          "metadata": {},
          "execution_count": 189
        }
      ]
    },
    {
      "cell_type": "code",
      "source": [
        "rev2.kdes[0]"
      ],
      "metadata": {
        "colab": {
          "base_uri": "https://localhost:8080/",
          "height": 52
        },
        "id": "tZgVkRgriopJ",
        "outputId": "b49174f7-ebb0-4ba7-cb1f-0a2e537e36b3"
      },
      "execution_count": 190,
      "outputs": [
        {
          "output_type": "execute_result",
          "data": {
            "text/plain": [
              "u4(t) - Derivative(q4(t), t)"
            ],
            "text/latex": "$\\displaystyle u_{4}{\\left(t \\right)} - \\frac{d}{d t} q_{4}{\\left(t \\right)}$"
          },
          "metadata": {},
          "execution_count": 190
        }
      ]
    },
    {
      "cell_type": "code",
      "source": [
        "\n",
        "constraint = Matrix([Xc.pos_from(P1).magnitude() - q4])\n",
        "vel_constraint = constraint.diff(t).subs({q2.diff(t):u2, q3.diff(t):u3, q4.diff(t):u4, q2**2 + q3**2:q4**2})\n",
        "\n",
        "\n",
        "\n",
        "kane = me.KanesMethod(N, q_ind=[ q2, q3], q_dependent=[q4], u_dependent=[u4], configuration_constraints=constraint, velocity_constraints=vel_constraint,\n",
        "\n",
        "                      u_ind = [ u2, u3],\n",
        "\n",
        "                      kd_eqs=[\n",
        "                              q2.diff(t) - u2, q3.diff(t) + u3, rev2.kdes[0]\n",
        "                              ])\n",
        "kaneeq = kane.kanes_equations([block], block.loads)\n",
        "#kaneeq = kane.kanes_equations(method.bodies, method.loads)"
      ],
      "metadata": {
        "id": "X1OQOyoOihy9"
      },
      "execution_count": 2,
      "outputs": []
    },
    {
      "cell_type": "code",
      "source": [
        "constraint"
      ],
      "metadata": {
        "colab": {
          "base_uri": "https://localhost:8080/",
          "height": 39
        },
        "id": "ajyuy5EMr_5N",
        "outputId": "0178ae64-a059-4467-ffc2-a96499835b90"
      },
      "execution_count": 3,
      "outputs": [
        {
          "output_type": "execute_result",
          "data": {
            "text/plain": [
              "Matrix([[sqrt(q2(t)**2 + q3(t)**2) - q4(t)]])"
            ],
            "text/latex": "$\\displaystyle \\left[\\begin{matrix}\\sqrt{q_{2}^{2}{\\left(t \\right)} + q_{3}^{2}{\\left(t \\right)}} - q_{4}{\\left(t \\right)}\\end{matrix}\\right]$"
          },
          "metadata": {},
          "execution_count": 3
        }
      ]
    },
    {
      "cell_type": "code",
      "source": [
        "kaneeq[0]"
      ],
      "metadata": {
        "colab": {
          "base_uri": "https://localhost:8080/",
          "height": 119
        },
        "id": "8qRHtTR6iuoP",
        "outputId": "ebfd19c8-eb24-4433-dfc6-1e2076dd9e78"
      },
      "execution_count": 4,
      "outputs": [
        {
          "output_type": "execute_result",
          "data": {
            "text/plain": [
              "Matrix([\n",
              "[k1*(-x_0 + sqrt(q2(t)**2 + q3(t)**2))*q2(t)/(sqrt(q2(t)**2/q3(t)**2 + 1)*q3(t))],\n",
              "[       -M*g + k1*(-x_0 + sqrt(q2(t)**2 + q3(t)**2))/sqrt(q2(t)**2/q3(t)**2 + 1)]])"
            ],
            "text/latex": "$\\displaystyle \\left[\\begin{matrix}\\frac{k_{1} \\left(- x_{0} + \\sqrt{q_{2}^{2}{\\left(t \\right)} + q_{3}^{2}{\\left(t \\right)}}\\right) q_{2}{\\left(t \\right)}}{\\sqrt{\\frac{q_{2}^{2}{\\left(t \\right)}}{q_{3}^{2}{\\left(t \\right)}} + 1} q_{3}{\\left(t \\right)}}\\\\- M g + \\frac{k_{1} \\left(- x_{0} + \\sqrt{q_{2}^{2}{\\left(t \\right)} + q_{3}^{2}{\\left(t \\right)}}\\right)}{\\sqrt{\\frac{q_{2}^{2}{\\left(t \\right)}}{q_{3}^{2}{\\left(t \\right)}} + 1}}\\end{matrix}\\right]$"
          },
          "metadata": {},
          "execution_count": 4
        }
      ]
    },
    {
      "cell_type": "code",
      "source": [
        "kaneeq[1]"
      ],
      "metadata": {
        "colab": {
          "base_uri": "https://localhost:8080/",
          "height": 59
        },
        "id": "FAu2OQH0iv-y",
        "outputId": "464f9d01-0c07-488c-d854-5decd383195b"
      },
      "execution_count": 5,
      "outputs": [
        {
          "output_type": "execute_result",
          "data": {
            "text/plain": [
              "Matrix([\n",
              "[-M*Derivative(u2(t), t)],\n",
              "[-M*Derivative(u3(t), t)]])"
            ],
            "text/latex": "$\\displaystyle \\left[\\begin{matrix}- M \\frac{d}{d t} u_{2}{\\left(t \\right)}\\\\- M \\frac{d}{d t} u_{3}{\\left(t \\right)}\\end{matrix}\\right]$"
          },
          "metadata": {},
          "execution_count": 5
        }
      ]
    },
    {
      "cell_type": "code",
      "source": [
        "kane.q # q2 and q3 are independent"
      ],
      "metadata": {
        "colab": {
          "base_uri": "https://localhost:8080/",
          "height": 78
        },
        "id": "bkvykweTix7F",
        "outputId": "107bee81-fbce-4fdb-c2ad-635dd9f26fe8"
      },
      "execution_count": 6,
      "outputs": [
        {
          "output_type": "execute_result",
          "data": {
            "text/plain": [
              "Matrix([\n",
              "[q2(t)],\n",
              "[q3(t)],\n",
              "[q4(t)]])"
            ],
            "text/latex": "$\\displaystyle \\left[\\begin{matrix}q_{2}{\\left(t \\right)}\\\\q_{3}{\\left(t \\right)}\\\\q_{4}{\\left(t \\right)}\\end{matrix}\\right]$"
          },
          "metadata": {},
          "execution_count": 6
        }
      ]
    },
    {
      "cell_type": "code",
      "source": [
        "kaneeq[0][0].subs({q4 : smp.sqrt(q2**2 + q3**2)}).diff(q2).subs({q2:0, x_0: q3 -  M*g/k1, q3:L}).subs({q3:L}) #iff(q2).subs({q2:0, L: M*g/k1 + x_0}) # this is k*delta_l*sin(theta)/(M) along the z axis, this is what we get from Lagrange Eqns"
      ],
      "metadata": {
        "colab": {
          "base_uri": "https://localhost:8080/",
          "height": 52
        },
        "id": "UcBuLHDAiw6g",
        "outputId": "8c45d6a5-daa1-4677-c6a9-24c89d3b13ac"
      },
      "execution_count": 7,
      "outputs": [
        {
          "output_type": "execute_result",
          "data": {
            "text/plain": [
              "M*g/L"
            ],
            "text/latex": "$\\displaystyle \\frac{M g}{L}$"
          },
          "metadata": {},
          "execution_count": 7
        }
      ]
    },
    {
      "cell_type": "code",
      "source": [
        "kaneeq[0][1].subs({q4 : smp.sqrt(q2**2 + q3**2)}).diff(q3).subs({q2:0, x_0: q3 -  M*g/k1, q3:L}).subs({q3:L})"
      ],
      "metadata": {
        "colab": {
          "base_uri": "https://localhost:8080/",
          "height": 39
        },
        "id": "v02jqq6Zud4r",
        "outputId": "e1cc8d7a-fae7-4c76-afa0-ce3d037d52b8"
      },
      "execution_count": 8,
      "outputs": [
        {
          "output_type": "execute_result",
          "data": {
            "text/plain": [
              "k1"
            ],
            "text/latex": "$\\displaystyle k_{1}$"
          },
          "metadata": {},
          "execution_count": 8
        }
      ]
    },
    {
      "cell_type": "code",
      "source": [
        "kaneeq[0][1]"
      ],
      "metadata": {
        "colab": {
          "base_uri": "https://localhost:8080/",
          "height": 83
        },
        "id": "CezjaWbX7eR8",
        "outputId": "bc098a87-d2dc-48e1-89b4-0a850c5af951"
      },
      "execution_count": 9,
      "outputs": [
        {
          "output_type": "execute_result",
          "data": {
            "text/plain": [
              "-M*g + k1*(-x_0 + sqrt(q2(t)**2 + q3(t)**2))/sqrt(q2(t)**2/q3(t)**2 + 1)"
            ],
            "text/latex": "$\\displaystyle - M g + \\frac{k_{1} \\left(- x_{0} + \\sqrt{q_{2}^{2}{\\left(t \\right)} + q_{3}^{2}{\\left(t \\right)}}\\right)}{\\sqrt{\\frac{q_{2}^{2}{\\left(t \\right)}}{q_{3}^{2}{\\left(t \\right)}} + 1}}$"
          },
          "metadata": {},
          "execution_count": 9
        }
      ]
    },
    {
      "cell_type": "code",
      "source": [
        "kaneeq[0][1].diff(q3) # this is k*delta_l*cos(theta)/(M) - M*g along the y axis, this is what we get from Lagrange Eqns"
      ],
      "metadata": {
        "colab": {
          "base_uri": "https://localhost:8080/",
          "height": 89
        },
        "id": "ThJHfwJdjACc",
        "outputId": "c61739cc-d191-413b-eb9b-d74ee20f3095"
      },
      "execution_count": 10,
      "outputs": [
        {
          "output_type": "execute_result",
          "data": {
            "text/plain": [
              "k1*(-x_0 + sqrt(q2(t)**2 + q3(t)**2))*q2(t)**2/((q2(t)**2/q3(t)**2 + 1)**(3/2)*q3(t)**3) + k1*q3(t)/(sqrt(q2(t)**2/q3(t)**2 + 1)*sqrt(q2(t)**2 + q3(t)**2))"
            ],
            "text/latex": "$\\displaystyle \\frac{k_{1} \\left(- x_{0} + \\sqrt{q_{2}^{2}{\\left(t \\right)} + q_{3}^{2}{\\left(t \\right)}}\\right) q_{2}^{2}{\\left(t \\right)}}{\\left(\\frac{q_{2}^{2}{\\left(t \\right)}}{q_{3}^{2}{\\left(t \\right)}} + 1\\right)^{\\frac{3}{2}} q_{3}^{3}{\\left(t \\right)}} + \\frac{k_{1} q_{3}{\\left(t \\right)}}{\\sqrt{\\frac{q_{2}^{2}{\\left(t \\right)}}{q_{3}^{2}{\\left(t \\right)}} + 1} \\sqrt{q_{2}^{2}{\\left(t \\right)} + q_{3}^{2}{\\left(t \\right)}}}$"
          },
          "metadata": {},
          "execution_count": 10
        }
      ]
    },
    {
      "cell_type": "code",
      "source": [
        "kanel = kane.to_linearizer()\n",
        "A, B = kanel.linearize(A_and_B=True, op_point={q2:0, u2:0, u3:0, q3:L,  x_0: L +  M*g/k1 })"
      ],
      "metadata": {
        "id": "vB4TEssnjgCr"
      },
      "execution_count": 11,
      "outputs": []
    },
    {
      "cell_type": "code",
      "source": [
        "kanel.q_i"
      ],
      "metadata": {
        "colab": {
          "base_uri": "https://localhost:8080/",
          "height": 58
        },
        "id": "-FC_RRJl8BDZ",
        "outputId": "2a607e7c-9b20-4a7e-ec44-0879e0441c8d"
      },
      "execution_count": 12,
      "outputs": [
        {
          "output_type": "execute_result",
          "data": {
            "text/plain": [
              "Matrix([\n",
              "[q2(t)],\n",
              "[q3(t)]])"
            ],
            "text/latex": "$\\displaystyle \\left[\\begin{matrix}q_{2}{\\left(t \\right)}\\\\q_{3}{\\left(t \\right)}\\end{matrix}\\right]$"
          },
          "metadata": {},
          "execution_count": 12
        }
      ]
    },
    {
      "cell_type": "code",
      "source": [
        "kanel.f_v"
      ],
      "metadata": {
        "colab": {
          "base_uri": "https://localhost:8080/",
          "height": 47
        },
        "id": "Yzs6phIYBacT",
        "outputId": "1f8f9fdf-4499-4370-a01b-0077037f36e0"
      },
      "execution_count": 13,
      "outputs": [
        {
          "output_type": "execute_result",
          "data": {
            "text/plain": [
              "Matrix([[q2(t)*u2(t)/q4(t) + q3(t)*u3(t)/q4(t) - u4(t)]])"
            ],
            "text/latex": "$\\displaystyle \\left[\\begin{matrix}\\frac{q_{2}{\\left(t \\right)} u_{2}{\\left(t \\right)}}{q_{4}{\\left(t \\right)}} + \\frac{q_{3}{\\left(t \\right)} u_{3}{\\left(t \\right)}}{q_{4}{\\left(t \\right)}} - u_{4}{\\left(t \\right)}\\end{matrix}\\right]$"
          },
          "metadata": {},
          "execution_count": 13
        }
      ]
    },
    {
      "cell_type": "code",
      "source": [
        "A.simplify()"
      ],
      "metadata": {
        "id": "TrTwUjnXmqqS"
      },
      "execution_count": 14,
      "outputs": []
    },
    {
      "cell_type": "code",
      "source": [
        "A"
      ],
      "metadata": {
        "colab": {
          "base_uri": "https://localhost:8080/",
          "height": 99
        },
        "id": "DRDlMfGx56b8",
        "outputId": "10513099-b4e1-4ad9-8d05-6567ac70b2dc"
      },
      "execution_count": 15,
      "outputs": [
        {
          "output_type": "execute_result",
          "data": {
            "text/plain": [
              "Matrix([\n",
              "[   0,    0, 1,  0],\n",
              "[   0,    0, 0, -1],\n",
              "[-g/L,    0, 0,  0],\n",
              "[   0, k1/M, 0,  0]])"
            ],
            "text/latex": "$\\displaystyle \\left[\\begin{matrix}0 & 0 & 1 & 0\\\\0 & 0 & 0 & -1\\\\- \\frac{g}{L} & 0 & 0 & 0\\\\0 & \\frac{k_{1}}{M} & 0 & 0\\end{matrix}\\right]$"
          },
          "metadata": {},
          "execution_count": 15
        }
      ]
    },
    {
      "cell_type": "code",
      "source": [
        "B"
      ],
      "metadata": {
        "colab": {
          "base_uri": "https://localhost:8080/",
          "height": 37
        },
        "id": "tcJP0BYHnenS",
        "outputId": "8de31a90-39a4-4f8c-e9af-a1f0423d83d6"
      },
      "execution_count": 16,
      "outputs": [
        {
          "output_type": "execute_result",
          "data": {
            "text/plain": [
              "Matrix(0, 0, [])"
            ],
            "text/latex": "$\\displaystyle \\left[\\begin{matrix}\\end{matrix}\\right]$"
          },
          "metadata": {},
          "execution_count": 16
        }
      ]
    },
    {
      "cell_type": "code",
      "source": [
        "kanel.r # this is the input"
      ],
      "metadata": {
        "colab": {
          "base_uri": "https://localhost:8080/",
          "height": 37
        },
        "id": "aNAtB2GRnnXb",
        "outputId": "0c7384b7-00fa-4d8a-c7ad-760a296454d6"
      },
      "execution_count": 17,
      "outputs": [
        {
          "output_type": "execute_result",
          "data": {
            "text/plain": [
              "Matrix(0, 0, [])"
            ],
            "text/latex": "$\\displaystyle \\left[\\begin{matrix}\\end{matrix}\\right]$"
          },
          "metadata": {},
          "execution_count": 17
        }
      ]
    },
    {
      "cell_type": "code",
      "source": [],
      "metadata": {
        "id": "GSY88q6j6tuC"
      },
      "execution_count": null,
      "outputs": []
    }
  ]
}