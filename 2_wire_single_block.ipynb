{
  "nbformat": 4,
  "nbformat_minor": 0,
  "metadata": {
    "colab": {
      "provenance": [],
      "authorship_tag": "ABX9TyMOQhs5kKOBsaD19seqfGq3",
      "include_colab_link": true
    },
    "kernelspec": {
      "name": "python3",
      "display_name": "Python 3"
    },
    "language_info": {
      "name": "python"
    }
  },
  "cells": [
    {
      "cell_type": "markdown",
      "metadata": {
        "id": "view-in-github",
        "colab_type": "text"
      },
      "source": [
        "<a href=\"https://colab.research.google.com/github/siddharth101/Double_suspension/blob/main/2_wire_single_block.ipynb\" target=\"_parent\"><img src=\"https://colab.research.google.com/assets/colab-badge.svg\" alt=\"Open In Colab\"/></a>"
      ]
    },
    {
      "cell_type": "code",
      "execution_count": 162,
      "metadata": {
        "id": "9vXXvnfrrJSL"
      },
      "outputs": [],
      "source": [
        "from sympy import zeros, symbols\n",
        "from sympy import Matrix\n",
        "from sympy.physics.mechanics import Body, PinJoint, SphericalJoint, PrismaticJoint, JointsMethod, inertia\n",
        "from sympy.physics.mechanics import dynamicsymbols\n",
        "from sympy import Symbol\n",
        "from sympy.physics.mechanics import dynamicsymbols, ReferenceFrame, outer\n",
        "from sympy.physics.mechanics import ReferenceFrame, Point, RigidBody\n",
        "from sympy.physics.mechanics import kinetic_energy, potential_energy, Point, Particle\n",
        "\n",
        "import sympy as smp\n",
        "import numpy as np\n",
        "import matplotlib.pyplot as plt\n",
        "import sympy.physics.mechanics as me"
      ]
    },
    {
      "cell_type": "code",
      "source": [
        "alpha_x, alpha_y, alpha_z = dynamicsymbols('alpha_x, alpha_y, alpha_z')\n",
        "q1, q2, q3, q4, u1, u2, u3, u4 = dynamicsymbols('q1 q2 q3 q4 u1 u2 u3 u4')\n",
        "alpha_x1, alpha_y1, alpha_z1 = dynamicsymbols('alpha_x1 alpha_y1, alpha_z1')\n",
        "beta_x1, beta_y1, beta_z1 = dynamicsymbols('beta_x1 beta_y1 beta_z1')\n",
        "gamma_x1, gamma_y1, gamma_z1 = dynamicsymbols('gamma_x1, gamma_y1, gamma_z1')\n",
        "eta_x1, eta_y1, eta_z1 = dynamicsymbols('eta_x1, eta_y1, eta_z1')\n",
        "\n",
        "omega_x1, omega_y1, omega_z1 = dynamicsymbols('omega_x1 omega_y1 omega_z1')\n",
        "x_0, x_1 = dynamicsymbols('x_0 x_1')\n",
        "L, g = symbols('L g')\n",
        "ixx1, iyy1, izz1 = symbols('ixx1 iyy1 izz1')\n",
        "M1, t = symbols('M1 t')\n",
        "\n",
        "\n",
        "N = ReferenceFrame('N') # global\n",
        "N_s  = ReferenceFrame('N_s') # suspension point\n",
        "N_p1 = ReferenceFrame('N_p1') # wire 1\n",
        "N_p2 = ReferenceFrame('N_p2') # wire 2\n",
        "N_b = ReferenceFrame('N_b') # body frame\n",
        "\n",
        "\n",
        "N_s.orient_axis(N, 0, N.z)\n",
        "N_b.orient_axis(N, 0, N.z)\n",
        "\n",
        "\n",
        "q1, q2, q3, q4, q5, q6 = dynamicsymbols('q1, q2, q3, q4, q5, q6', real=True, positive=True)\n",
        "u1, u2, u3, u4, u5, u6 = dynamicsymbols('u1, u2, u3, u4, u5, u6')\n",
        "w1, w2, w3, d1, d2, d3 = symbols('w1 w2 w3 d1 d2 d3')\n",
        "ixx1, iyy1, izz1 = symbols('ixx1 iyy1 izz1')\n",
        "ixx2, iyy2, izz2 = symbols('ixx2 iyy2 izz2')\n",
        "M1, M2 = symbols('M1 M2')"
      ],
      "metadata": {
        "id": "ZCKSMjV8rOPG"
      },
      "execution_count": 163,
      "outputs": []
    },
    {
      "cell_type": "code",
      "source": [
        "O = Point('O')\n",
        "P = Point('P')\n",
        "\n",
        "P1 = Point('P1')\n",
        "P1a = Point('P1a')\n",
        "\n",
        "P2 = Point('P2')\n",
        "P2a = Point('P2a')\n",
        "\n",
        "X1 = Point('X1')\n",
        "\n",
        "\n",
        "B1 = Point('B1')\n",
        "B2 = Point('B2')\n",
        "B1a = Point('B1a')\n",
        "B2a = Point('B2a')"
      ],
      "metadata": {
        "id": "N2KR5Wa0rVQc"
      },
      "execution_count": 164,
      "outputs": []
    },
    {
      "cell_type": "code",
      "source": [
        "P.set_pos(O, q1*N.x)\n",
        "X1.set_pos(O, (q1 + x_0)*N.x - q2*N.y) #COM\n",
        "\n",
        "P1.set_pos(P, -w1*N_s.x) #Suspension points\n",
        "P2.set_pos(P,  w1*N_s.x)\n",
        "\n",
        "B1.set_pos(X1, -w2*N_b.x + d2*N_b.y) #attachment points\n",
        "B2.set_pos(X1,  w2*N_b.x + d2*N_b.y)\n"
      ],
      "metadata": {
        "id": "GktxcwqqrYZi"
      },
      "execution_count": 165,
      "outputs": []
    },
    {
      "cell_type": "code",
      "source": [
        "B1.pos_from(O).express(N)"
      ],
      "metadata": {
        "colab": {
          "base_uri": "https://localhost:8080/",
          "height": 39
        },
        "id": "Eg5rfUkDrb9s",
        "outputId": "f28090b7-cf5a-4e66-9d01-eeb33c882cf5"
      },
      "execution_count": 166,
      "outputs": [
        {
          "output_type": "execute_result",
          "data": {
            "text/plain": [
              "(-w2 + q1(t) + x_0(t))*N.x + (d2 - q2(t))*N.y"
            ],
            "text/latex": "$\\displaystyle (- w_{2} + q_{1}{\\left(t \\right)} + x_{0}{\\left(t \\right)})\\mathbf{\\hat{n}_x} + (d_{2} - q_{2}{\\left(t \\right)})\\mathbf{\\hat{n}_y}$"
          },
          "metadata": {},
          "execution_count": 166
        }
      ]
    },
    {
      "cell_type": "code",
      "source": [
        "B1.pos_from(P1).express(N)"
      ],
      "metadata": {
        "colab": {
          "base_uri": "https://localhost:8080/",
          "height": 39
        },
        "id": "ioT1GSdUrfuL",
        "outputId": "d2c0fb26-5661-44be-d860-a406ce353d0a"
      },
      "execution_count": 167,
      "outputs": [
        {
          "output_type": "execute_result",
          "data": {
            "text/plain": [
              "(w1 - w2 + x_0(t))*N.x + (d2 - q2(t))*N.y"
            ],
            "text/latex": "$\\displaystyle (w_{1} - w_{2} + x_{0}{\\left(t \\right)})\\mathbf{\\hat{n}_x} + (d_{2} - q_{2}{\\left(t \\right)})\\mathbf{\\hat{n}_y}$"
          },
          "metadata": {},
          "execution_count": 167
        }
      ]
    },
    {
      "cell_type": "code",
      "source": [
        "X1.pos_from(P1).express(N)"
      ],
      "metadata": {
        "colab": {
          "base_uri": "https://localhost:8080/",
          "height": 39
        },
        "id": "UzbCREF_riou",
        "outputId": "7c87030f-402d-4285-f5a0-9ff83a469a96"
      },
      "execution_count": 168,
      "outputs": [
        {
          "output_type": "execute_result",
          "data": {
            "text/plain": [
              "(w1 + x_0(t))*N.x - q2(t)*N.y"
            ],
            "text/latex": "$\\displaystyle (w_{1} + x_{0}{\\left(t \\right)})\\mathbf{\\hat{n}_x} -  q_{2}{\\left(t \\right)}\\mathbf{\\hat{n}_y}$"
          },
          "metadata": {},
          "execution_count": 168
        }
      ]
    },
    {
      "cell_type": "code",
      "source": [
        "B1.pos_from(P1).express(N)"
      ],
      "metadata": {
        "colab": {
          "base_uri": "https://localhost:8080/",
          "height": 39
        },
        "id": "kEm8RhHS6kWs",
        "outputId": "aa09d1cb-699d-44b4-da57-5a318d533363"
      },
      "execution_count": 169,
      "outputs": [
        {
          "output_type": "execute_result",
          "data": {
            "text/plain": [
              "(w1 - w2 + x_0(t))*N.x + (d2 - q2(t))*N.y"
            ],
            "text/latex": "$\\displaystyle (w_{1} - w_{2} + x_{0}{\\left(t \\right)})\\mathbf{\\hat{n}_x} + (d_{2} - q_{2}{\\left(t \\right)})\\mathbf{\\hat{n}_y}$"
          },
          "metadata": {},
          "execution_count": 169
        }
      ]
    },
    {
      "cell_type": "code",
      "source": [
        "#atan2?"
      ],
      "metadata": {
        "id": "fOwhGybn4rnV"
      },
      "execution_count": 170,
      "outputs": []
    },
    {
      "cell_type": "code",
      "source": [
        "from sympy import atan2\n",
        "angle_p1p1a = atan2(B1.pos_from(P1).express(N).dot(N.x), B1.pos_from(P1).express(N).dot(N.y))\n",
        "angle_p2p2a = atan2(B2.pos_from(P2).express(N).dot(N.x), B2.pos_from(P2).express(N).dot(N.y))"
      ],
      "metadata": {
        "id": "-YikyeDzrmAK"
      },
      "execution_count": 171,
      "outputs": []
    },
    {
      "cell_type": "code",
      "source": [
        "angle_p1p1a"
      ],
      "metadata": {
        "colab": {
          "base_uri": "https://localhost:8080/",
          "height": 39
        },
        "id": "n2qnri4frn3n",
        "outputId": "d17886e1-7261-4128-eb74-81933d86181e"
      },
      "execution_count": 172,
      "outputs": [
        {
          "output_type": "execute_result",
          "data": {
            "text/plain": [
              "atan2(w1 - w2 + x_0(t), d2 - q2(t))"
            ],
            "text/latex": "$\\displaystyle \\operatorname{atan}_{2}{\\left(w_{1} - w_{2} + x_{0}{\\left(t \\right)},d_{2} - q_{2}{\\left(t \\right)} \\right)}$"
          },
          "metadata": {},
          "execution_count": 172
        }
      ]
    },
    {
      "cell_type": "code",
      "source": [
        "angle_p2p2a"
      ],
      "metadata": {
        "colab": {
          "base_uri": "https://localhost:8080/",
          "height": 39
        },
        "id": "PLBu4sJVroiF",
        "outputId": "2527a8c5-ab85-4ebf-bcf5-0ee57403f362"
      },
      "execution_count": 173,
      "outputs": [
        {
          "output_type": "execute_result",
          "data": {
            "text/plain": [
              "atan2(-w1 + w2 + x_0(t), d2 - q2(t))"
            ],
            "text/latex": "$\\displaystyle \\operatorname{atan}_{2}{\\left(- w_{1} + w_{2} + x_{0}{\\left(t \\right)},d_{2} - q_{2}{\\left(t \\right)} \\right)}$"
          },
          "metadata": {},
          "execution_count": 173
        }
      ]
    },
    {
      "cell_type": "code",
      "source": [
        "p1body = Body('p1body', masscenter=P1, frame=N_s)\n",
        "p2body = Body('p2body', masscenter=P2, frame=N_s)\n",
        "\n",
        "p1abody = Body('p1abody', masscenter=P1a, frame=N_p1)\n",
        "p2abody = Body('p2abody', masscenter=P2a, frame=N_p2)"
      ],
      "metadata": {
        "id": "-D99qIhrrpNY"
      },
      "execution_count": 174,
      "outputs": []
    },
    {
      "cell_type": "code",
      "source": [
        "## Spherical Joint\n",
        "revp1 = SphericalJoint(name='p1p1a', parent=p1body, child=p1abody, parent_point=P1, child_point=P1a, amounts=[0,0, angle_p1p1a],\n",
        "                     rot_order='XYZ')\n",
        "revp2 = SphericalJoint(name='p2p2a', parent=p2body, child=p2abody, parent_point=P2, child_point=P2a, amounts=[0,0,angle_p2p2a],\n",
        "                     rot_order='XYZ')"
      ],
      "metadata": {
        "id": "zq5m48JurzKF"
      },
      "execution_count": 175,
      "outputs": []
    },
    {
      "cell_type": "code",
      "source": [
        "N_p2.y.express(N)"
      ],
      "metadata": {
        "colab": {
          "base_uri": "https://localhost:8080/",
          "height": 70
        },
        "id": "g5rK1tou6Np6",
        "outputId": "23075d54-6850-4807-ec09-f608d6e5147c"
      },
      "execution_count": 176,
      "outputs": [
        {
          "output_type": "execute_result",
          "data": {
            "text/plain": [
              "- (-w1 + w2 + x_0(t))/sqrt((d2 - q2(t))**2 + (-w1 + w2 + x_0(t))**2)*N.x + (d2 - q2(t))/sqrt((d2 - q2(t))**2 + (-w1 + w2 + x_0(t))**2)*N.y"
            ],
            "text/latex": "$\\displaystyle -  \\frac{- w_{1} + w_{2} + x_{0}{\\left(t \\right)}}{\\sqrt{\\left(d_{2} - q_{2}{\\left(t \\right)}\\right)^{2} + \\left(- w_{1} + w_{2} + x_{0}{\\left(t \\right)}\\right)^{2}}}\\mathbf{\\hat{n}_x} + \\frac{d_{2} - q_{2}{\\left(t \\right)}}{\\sqrt{\\left(d_{2} - q_{2}{\\left(t \\right)}\\right)^{2} + \\left(- w_{1} + w_{2} + x_{0}{\\left(t \\right)}\\right)^{2}}}\\mathbf{\\hat{n}_y}$"
          },
          "metadata": {},
          "execution_count": 176
        }
      ]
    },
    {
      "cell_type": "code",
      "source": [
        "revp1.parent_interframe, revp1.child_interframe"
      ],
      "metadata": {
        "colab": {
          "base_uri": "https://localhost:8080/"
        },
        "id": "k2xDjKSer2W4",
        "outputId": "2e46a23f-cd2f-472b-f63e-8cfcf245050f"
      },
      "execution_count": 177,
      "outputs": [
        {
          "output_type": "execute_result",
          "data": {
            "text/plain": [
              "(N_s, N_p1)"
            ]
          },
          "metadata": {},
          "execution_count": 177
        }
      ]
    },
    {
      "cell_type": "code",
      "source": [
        "revp1.child_interframe.dcm(revp1.parent_interframe)"
      ],
      "metadata": {
        "colab": {
          "base_uri": "https://localhost:8080/",
          "height": 100
        },
        "id": "y-2ZJxtJsCeT",
        "outputId": "c38f3b8f-7ad0-485d-ac8e-9f23fea74d10"
      },
      "execution_count": 178,
      "outputs": [
        {
          "output_type": "execute_result",
          "data": {
            "text/plain": [
              "Matrix([\n",
              "[       (d2 - q2(t))/sqrt((d2 - q2(t))**2 + (w1 - w2 + x_0(t))**2), (w1 - w2 + x_0(t))/sqrt((d2 - q2(t))**2 + (w1 - w2 + x_0(t))**2), 0],\n",
              "[-(w1 - w2 + x_0(t))/sqrt((d2 - q2(t))**2 + (w1 - w2 + x_0(t))**2),       (d2 - q2(t))/sqrt((d2 - q2(t))**2 + (w1 - w2 + x_0(t))**2), 0],\n",
              "[                                                                0,                                                                0, 1]])"
            ],
            "text/latex": "$\\displaystyle \\left[\\begin{matrix}\\frac{d_{2} - q_{2}{\\left(t \\right)}}{\\sqrt{\\left(d_{2} - q_{2}{\\left(t \\right)}\\right)^{2} + \\left(w_{1} - w_{2} + x_{0}{\\left(t \\right)}\\right)^{2}}} & \\frac{w_{1} - w_{2} + x_{0}{\\left(t \\right)}}{\\sqrt{\\left(d_{2} - q_{2}{\\left(t \\right)}\\right)^{2} + \\left(w_{1} - w_{2} + x_{0}{\\left(t \\right)}\\right)^{2}}} & 0\\\\- \\frac{w_{1} - w_{2} + x_{0}{\\left(t \\right)}}{\\sqrt{\\left(d_{2} - q_{2}{\\left(t \\right)}\\right)^{2} + \\left(w_{1} - w_{2} + x_{0}{\\left(t \\right)}\\right)^{2}}} & \\frac{d_{2} - q_{2}{\\left(t \\right)}}{\\sqrt{\\left(d_{2} - q_{2}{\\left(t \\right)}\\right)^{2} + \\left(w_{1} - w_{2} + x_{0}{\\left(t \\right)}\\right)^{2}}} & 0\\\\0 & 0 & 1\\end{matrix}\\right]$"
          },
          "metadata": {},
          "execution_count": 178
        }
      ]
    },
    {
      "cell_type": "code",
      "source": [
        "revp2.child_interframe.dcm(revp2.parent_interframe)"
      ],
      "metadata": {
        "colab": {
          "base_uri": "https://localhost:8080/",
          "height": 100
        },
        "id": "mr1OqHXNsCIs",
        "outputId": "342f93bf-e206-4efc-e1a1-38b8f2ab5d10"
      },
      "execution_count": 179,
      "outputs": [
        {
          "output_type": "execute_result",
          "data": {
            "text/plain": [
              "Matrix([\n",
              "[        (d2 - q2(t))/sqrt((d2 - q2(t))**2 + (-w1 + w2 + x_0(t))**2), (-w1 + w2 + x_0(t))/sqrt((d2 - q2(t))**2 + (-w1 + w2 + x_0(t))**2), 0],\n",
              "[-(-w1 + w2 + x_0(t))/sqrt((d2 - q2(t))**2 + (-w1 + w2 + x_0(t))**2),        (d2 - q2(t))/sqrt((d2 - q2(t))**2 + (-w1 + w2 + x_0(t))**2), 0],\n",
              "[                                                                  0,                                                                  0, 1]])"
            ],
            "text/latex": "$\\displaystyle \\left[\\begin{matrix}\\frac{d_{2} - q_{2}{\\left(t \\right)}}{\\sqrt{\\left(d_{2} - q_{2}{\\left(t \\right)}\\right)^{2} + \\left(- w_{1} + w_{2} + x_{0}{\\left(t \\right)}\\right)^{2}}} & \\frac{- w_{1} + w_{2} + x_{0}{\\left(t \\right)}}{\\sqrt{\\left(d_{2} - q_{2}{\\left(t \\right)}\\right)^{2} + \\left(- w_{1} + w_{2} + x_{0}{\\left(t \\right)}\\right)^{2}}} & 0\\\\- \\frac{- w_{1} + w_{2} + x_{0}{\\left(t \\right)}}{\\sqrt{\\left(d_{2} - q_{2}{\\left(t \\right)}\\right)^{2} + \\left(- w_{1} + w_{2} + x_{0}{\\left(t \\right)}\\right)^{2}}} & \\frac{d_{2} - q_{2}{\\left(t \\right)}}{\\sqrt{\\left(d_{2} - q_{2}{\\left(t \\right)}\\right)^{2} + \\left(- w_{1} + w_{2} + x_{0}{\\left(t \\right)}\\right)^{2}}} & 0\\\\0 & 0 & 1\\end{matrix}\\right]$"
          },
          "metadata": {},
          "execution_count": 179
        }
      ]
    },
    {
      "cell_type": "code",
      "source": [
        "b1body = Body('b1body', masscenter=B1, frame=N_b)\n",
        "b2body = Body('b2body', masscenter=B1, frame=N_b)"
      ],
      "metadata": {
        "id": "1M5kQ0-Ar5pG"
      },
      "execution_count": 180,
      "outputs": []
    },
    {
      "cell_type": "code",
      "source": [
        "revp1ab1 = PrismaticJoint('p1ab1', parent=p1abody, child=b1body, coordinates=q3, parent_point=P1a, child_point=B1,\n",
        "                      joint_axis = -N_p1.y, speeds=u3)\n",
        "revp2ab2 = PrismaticJoint('p2ab2', parent=p2abody, child=b2body, coordinates=q3, parent_point=P2a, child_point=B2,\n",
        "                      joint_axis = -N_p2.y, speeds=u3)"
      ],
      "metadata": {
        "colab": {
          "base_uri": "https://localhost:8080/"
        },
        "id": "B5RYH8HSsIhm",
        "outputId": "c16613ec-6672-405a-fa56-5defef46950a"
      },
      "execution_count": 181,
      "outputs": [
        {
          "output_type": "stream",
          "name": "stderr",
          "text": [
            "/usr/local/lib/python3.10/dist-packages/sympy/physics/vector/frame.py:580: UserWarning: Loops are defined among the orientation of frames. This is likely not desired and may cause errors in your calculations.\n",
            "  warn('Loops are defined among the orientation of '\n"
          ]
        }
      ]
    },
    {
      "cell_type": "code",
      "source": [
        "B1.pos_from(X1), B2.pos_from(X1) # still the same, which is good"
      ],
      "metadata": {
        "colab": {
          "base_uri": "https://localhost:8080/"
        },
        "id": "CqosL2LCsOQR",
        "outputId": "72c960fe-48db-457e-ce9a-b31f196b526c"
      },
      "execution_count": 182,
      "outputs": [
        {
          "output_type": "execute_result",
          "data": {
            "text/plain": [
              "(- w2*N_b.x + d2*N_b.y, w2*N_b.x + d2*N_b.y)"
            ]
          },
          "metadata": {},
          "execution_count": 182
        }
      ]
    },
    {
      "cell_type": "code",
      "source": [
        "B1.pos_from(O).express(N) # this hasn't changed"
      ],
      "metadata": {
        "colab": {
          "base_uri": "https://localhost:8080/",
          "height": 39
        },
        "id": "ooFgQSFWshsj",
        "outputId": "64a04894-cd11-4d5e-9d7c-9fda23783149"
      },
      "execution_count": 183,
      "outputs": [
        {
          "output_type": "execute_result",
          "data": {
            "text/plain": [
              "(-w2 + q1(t) + x_0(t))*N.x + (d2 - q2(t))*N.y"
            ],
            "text/latex": "$\\displaystyle (- w_{2} + q_{1}{\\left(t \\right)} + x_{0}{\\left(t \\right)})\\mathbf{\\hat{n}_x} + (d_{2} - q_{2}{\\left(t \\right)})\\mathbf{\\hat{n}_y}$"
          },
          "metadata": {},
          "execution_count": 183
        }
      ]
    },
    {
      "cell_type": "code",
      "source": [
        "B1.pos_from(P1)"
      ],
      "metadata": {
        "colab": {
          "base_uri": "https://localhost:8080/",
          "height": 40
        },
        "id": "4TTEAM6JsQt-",
        "outputId": "c934ed0e-6d2c-4889-aabe-6caea792cafa"
      },
      "execution_count": 184,
      "outputs": [
        {
          "output_type": "execute_result",
          "data": {
            "text/plain": [
              "- q3(t)*N_p1.y"
            ],
            "text/latex": "$\\displaystyle -  q_{3}{\\left(t \\right)}\\mathbf{\\hat{n_p1}_y}$"
          },
          "metadata": {},
          "execution_count": 184
        }
      ]
    },
    {
      "cell_type": "code",
      "source": [
        "B1.pos_from(P1).express(N)"
      ],
      "metadata": {
        "colab": {
          "base_uri": "https://localhost:8080/",
          "height": 70
        },
        "id": "-ws90M1NsWLn",
        "outputId": "daa293cd-2511-41e5-b00b-ba1558ba47cb"
      },
      "execution_count": 185,
      "outputs": [
        {
          "output_type": "execute_result",
          "data": {
            "text/plain": [
              "(w1 - w2 + x_0(t))*q3(t)/sqrt((d2 - q2(t))**2 + (w1 - w2 + x_0(t))**2)*N.x - (d2 - q2(t))*q3(t)/sqrt((d2 - q2(t))**2 + (w1 - w2 + x_0(t))**2)*N.y"
            ],
            "text/latex": "$\\displaystyle \\frac{\\left(w_{1} - w_{2} + x_{0}{\\left(t \\right)}\\right) q_{3}{\\left(t \\right)}}{\\sqrt{\\left(d_{2} - q_{2}{\\left(t \\right)}\\right)^{2} + \\left(w_{1} - w_{2} + x_{0}{\\left(t \\right)}\\right)^{2}}}\\mathbf{\\hat{n}_x} -  \\frac{\\left(d_{2} - q_{2}{\\left(t \\right)}\\right) q_{3}{\\left(t \\right)}}{\\sqrt{\\left(d_{2} - q_{2}{\\left(t \\right)}\\right)^{2} + \\left(w_{1} - w_{2} + x_{0}{\\left(t \\right)}\\right)^{2}}}\\mathbf{\\hat{n}_y}$"
          },
          "metadata": {},
          "execution_count": 185
        }
      ]
    },
    {
      "cell_type": "code",
      "source": [
        "P2.pos_from(B2)"
      ],
      "metadata": {
        "colab": {
          "base_uri": "https://localhost:8080/",
          "height": 40
        },
        "id": "_WkYwhSu4eZk",
        "outputId": "41f5fae0-742b-4539-881d-764603ff465f"
      },
      "execution_count": 186,
      "outputs": [
        {
          "output_type": "execute_result",
          "data": {
            "text/plain": [
              "q3(t)*N_p2.y"
            ],
            "text/latex": "$\\displaystyle q_{3}{\\left(t \\right)}\\mathbf{\\hat{n_p2}_y}$"
          },
          "metadata": {},
          "execution_count": 186
        }
      ]
    },
    {
      "cell_type": "code",
      "source": [
        "N_p1.y.express(N)"
      ],
      "metadata": {
        "colab": {
          "base_uri": "https://localhost:8080/",
          "height": 70
        },
        "id": "rz28OBGT4-_k",
        "outputId": "bc7801a4-7b4f-43b4-fdce-c7a42c4ab57e"
      },
      "execution_count": 187,
      "outputs": [
        {
          "output_type": "execute_result",
          "data": {
            "text/plain": [
              "- (w1 - w2 + x_0(t))/sqrt((d2 - q2(t))**2 + (w1 - w2 + x_0(t))**2)*N.x + (d2 - q2(t))/sqrt((d2 - q2(t))**2 + (w1 - w2 + x_0(t))**2)*N.y"
            ],
            "text/latex": "$\\displaystyle -  \\frac{w_{1} - w_{2} + x_{0}{\\left(t \\right)}}{\\sqrt{\\left(d_{2} - q_{2}{\\left(t \\right)}\\right)^{2} + \\left(w_{1} - w_{2} + x_{0}{\\left(t \\right)}\\right)^{2}}}\\mathbf{\\hat{n}_x} + \\frac{d_{2} - q_{2}{\\left(t \\right)}}{\\sqrt{\\left(d_{2} - q_{2}{\\left(t \\right)}\\right)^{2} + \\left(w_{1} - w_{2} + x_{0}{\\left(t \\right)}\\right)^{2}}}\\mathbf{\\hat{n}_y}$"
          },
          "metadata": {},
          "execution_count": 187
        }
      ]
    },
    {
      "cell_type": "code",
      "source": [
        "T1, T2 = symbols('T1 T2')"
      ],
      "metadata": {
        "id": "Zrzu4ON83O53"
      },
      "execution_count": 188,
      "outputs": []
    },
    {
      "cell_type": "code",
      "source": [
        "dirT1 = N_p1.y.express(N)\n",
        "dirT2 = N_p2.y.express(N)"
      ],
      "metadata": {
        "id": "_Q1t68Ms3wCR"
      },
      "execution_count": 189,
      "outputs": []
    },
    {
      "cell_type": "code",
      "source": [
        "dirT1"
      ],
      "metadata": {
        "colab": {
          "base_uri": "https://localhost:8080/",
          "height": 70
        },
        "id": "IhuPa_Zn3kNE",
        "outputId": "db4abac3-d72b-4222-c517-f059eb23fb7f"
      },
      "execution_count": 190,
      "outputs": [
        {
          "output_type": "execute_result",
          "data": {
            "text/plain": [
              "- (w1 - w2 + x_0(t))/sqrt((d2 - q2(t))**2 + (w1 - w2 + x_0(t))**2)*N.x + (d2 - q2(t))/sqrt((d2 - q2(t))**2 + (w1 - w2 + x_0(t))**2)*N.y"
            ],
            "text/latex": "$\\displaystyle -  \\frac{w_{1} - w_{2} + x_{0}{\\left(t \\right)}}{\\sqrt{\\left(d_{2} - q_{2}{\\left(t \\right)}\\right)^{2} + \\left(w_{1} - w_{2} + x_{0}{\\left(t \\right)}\\right)^{2}}}\\mathbf{\\hat{n}_x} + \\frac{d_{2} - q_{2}{\\left(t \\right)}}{\\sqrt{\\left(d_{2} - q_{2}{\\left(t \\right)}\\right)^{2} + \\left(w_{1} - w_{2} + x_{0}{\\left(t \\right)}\\right)^{2}}}\\mathbf{\\hat{n}_y}$"
          },
          "metadata": {},
          "execution_count": 190
        }
      ]
    },
    {
      "cell_type": "code",
      "source": [
        "dirT2"
      ],
      "metadata": {
        "colab": {
          "base_uri": "https://localhost:8080/",
          "height": 70
        },
        "id": "z7fzu22X3PHN",
        "outputId": "ec707392-9680-4dc4-8660-51d63866565f"
      },
      "execution_count": 191,
      "outputs": [
        {
          "output_type": "execute_result",
          "data": {
            "text/plain": [
              "- (-w1 + w2 + x_0(t))/sqrt((d2 - q2(t))**2 + (-w1 + w2 + x_0(t))**2)*N.x + (d2 - q2(t))/sqrt((d2 - q2(t))**2 + (-w1 + w2 + x_0(t))**2)*N.y"
            ],
            "text/latex": "$\\displaystyle -  \\frac{- w_{1} + w_{2} + x_{0}{\\left(t \\right)}}{\\sqrt{\\left(d_{2} - q_{2}{\\left(t \\right)}\\right)^{2} + \\left(- w_{1} + w_{2} + x_{0}{\\left(t \\right)}\\right)^{2}}}\\mathbf{\\hat{n}_x} + \\frac{d_{2} - q_{2}{\\left(t \\right)}}{\\sqrt{\\left(d_{2} - q_{2}{\\left(t \\right)}\\right)^{2} + \\left(- w_{1} + w_{2} + x_{0}{\\left(t \\right)}\\right)^{2}}}\\mathbf{\\hat{n}_y}$"
          },
          "metadata": {},
          "execution_count": 191
        }
      ]
    },
    {
      "cell_type": "code",
      "source": [
        "F_B1 = T1*dirT1 - smp.Rational(1,2)*M1*g*N.y"
      ],
      "metadata": {
        "id": "VHqRyuro4a7f"
      },
      "execution_count": 192,
      "outputs": []
    },
    {
      "cell_type": "code",
      "source": [
        "F_B1"
      ],
      "metadata": {
        "colab": {
          "base_uri": "https://localhost:8080/",
          "height": 70
        },
        "id": "PtwsHK590W_b",
        "outputId": "eb2a369c-cd97-4b47-db5b-0b27880286de"
      },
      "execution_count": 193,
      "outputs": [
        {
          "output_type": "execute_result",
          "data": {
            "text/plain": [
              "- T1*(w1 - w2 + x_0(t))/sqrt((d2 - q2(t))**2 + (w1 - w2 + x_0(t))**2)*N.x + (-M1*g/2 + T1*(d2 - q2(t))/sqrt((d2 - q2(t))**2 + (w1 - w2 + x_0(t))**2))*N.y"
            ],
            "text/latex": "$\\displaystyle -  \\frac{T_{1} \\left(w_{1} - w_{2} + x_{0}{\\left(t \\right)}\\right)}{\\sqrt{\\left(d_{2} - q_{2}{\\left(t \\right)}\\right)^{2} + \\left(w_{1} - w_{2} + x_{0}{\\left(t \\right)}\\right)^{2}}}\\mathbf{\\hat{n}_x} + (- \\frac{M_{1} g}{2} + \\frac{T_{1} \\left(d_{2} - q_{2}{\\left(t \\right)}\\right)}{\\sqrt{\\left(d_{2} - q_{2}{\\left(t \\right)}\\right)^{2} + \\left(w_{1} - w_{2} + x_{0}{\\left(t \\right)}\\right)^{2}}})\\mathbf{\\hat{n}_y}$"
          },
          "metadata": {},
          "execution_count": 193
        }
      ]
    },
    {
      "cell_type": "code",
      "source": [
        "F_B2 = T2*dirT2 - smp.Rational(1,2)*M1*g*N.y"
      ],
      "metadata": {
        "id": "xMCe-E2a0oel"
      },
      "execution_count": 194,
      "outputs": []
    },
    {
      "cell_type": "code",
      "source": [
        "F_B2"
      ],
      "metadata": {
        "colab": {
          "base_uri": "https://localhost:8080/",
          "height": 70
        },
        "id": "zyhFMsw502_D",
        "outputId": "bbfd9828-4cc8-4f65-959b-6f5a35e4d2fd"
      },
      "execution_count": 195,
      "outputs": [
        {
          "output_type": "execute_result",
          "data": {
            "text/plain": [
              "- T2*(-w1 + w2 + x_0(t))/sqrt((d2 - q2(t))**2 + (-w1 + w2 + x_0(t))**2)*N.x + (-M1*g/2 + T2*(d2 - q2(t))/sqrt((d2 - q2(t))**2 + (-w1 + w2 + x_0(t))**2))*N.y"
            ],
            "text/latex": "$\\displaystyle -  \\frac{T_{2} \\left(- w_{1} + w_{2} + x_{0}{\\left(t \\right)}\\right)}{\\sqrt{\\left(d_{2} - q_{2}{\\left(t \\right)}\\right)^{2} + \\left(- w_{1} + w_{2} + x_{0}{\\left(t \\right)}\\right)^{2}}}\\mathbf{\\hat{n}_x} + (- \\frac{M_{1} g}{2} + \\frac{T_{2} \\left(d_{2} - q_{2}{\\left(t \\right)}\\right)}{\\sqrt{\\left(d_{2} - q_{2}{\\left(t \\right)}\\right)^{2} + \\left(- w_{1} + w_{2} + x_{0}{\\left(t \\right)}\\right)^{2}}})\\mathbf{\\hat{n}_y}$"
          },
          "metadata": {},
          "execution_count": 195
        }
      ]
    },
    {
      "cell_type": "code",
      "source": [
        "IB = inertia(N_b, ixx1, iyy1, izz1)\n",
        "body1 = Body('body1', masscenter=X1, mass=M1, frame=N_b, central_inertia=IB)"
      ],
      "metadata": {
        "id": "wST7tuR703hi"
      },
      "execution_count": 196,
      "outputs": []
    },
    {
      "cell_type": "code",
      "source": [
        "body1.frame.set_ang_vel(N, omega_z1*N.z)\n",
        "X1.set_vel(N, u1*N.x + u2*N.y)"
      ],
      "metadata": {
        "id": "ajUo7otN2aIn"
      },
      "execution_count": 197,
      "outputs": []
    },
    {
      "cell_type": "code",
      "source": [
        "body1.apply_force(F_B1, point=B1)\n",
        "body1.apply_force(F_B2, point=B2)\n",
        "#body1.apply_force(-M1*g*N.y, point=X1)"
      ],
      "metadata": {
        "id": "4Bt3NfsY2v26"
      },
      "execution_count": 198,
      "outputs": []
    },
    {
      "cell_type": "code",
      "source": [
        "body1.loads"
      ],
      "metadata": {
        "colab": {
          "base_uri": "https://localhost:8080/"
        },
        "id": "STAtHvyk2-ds",
        "outputId": "2a0ab9fe-b8f4-407f-8e88-93fd5e3ba607"
      },
      "execution_count": 199,
      "outputs": [
        {
          "output_type": "execute_result",
          "data": {
            "text/plain": [
              "[(B1,\n",
              "  - T1*(w1 - w2 + x_0(t))/sqrt((d2 - q2(t))**2 + (w1 - w2 + x_0(t))**2)*N.x + (-M1*g/2 + T1*(d2 - q2(t))/sqrt((d2 - q2(t))**2 + (w1 - w2 + x_0(t))**2))*N.y),\n",
              " (B2,\n",
              "  - T2*(-w1 + w2 + x_0(t))/sqrt((d2 - q2(t))**2 + (-w1 + w2 + x_0(t))**2)*N.x + (-M1*g/2 + T2*(d2 - q2(t))/sqrt((d2 - q2(t))**2 + (-w1 + w2 + x_0(t))**2))*N.y)]"
            ]
          },
          "metadata": {},
          "execution_count": 199
        }
      ]
    },
    {
      "cell_type": "code",
      "source": [
        "kane = me.KanesMethod(N, q_ind=[q1, q2],\n",
        "\n",
        "                      u_ind = [u1, u2],\n",
        "\n",
        "                      kd_eqs=[\n",
        "                               u1 - q1.diff(t), u2 + q2.diff(t),\n",
        "                              ])\n",
        "\n",
        "kaneeq = kane.kanes_equations([body1], body1.loads)"
      ],
      "metadata": {
        "colab": {
          "base_uri": "https://localhost:8080/"
        },
        "id": "z38OPvuu2_c4",
        "outputId": "d525addd-5fa8-45db-f672-697d01acfc5a"
      },
      "execution_count": 200,
      "outputs": [
        {
          "output_type": "stream",
          "name": "stderr",
          "text": [
            "/usr/local/lib/python3.10/dist-packages/sympy/physics/vector/point.py:574: UserWarning: Velocity automatically calculated based on point X1 but it is also possible from points(s):[X1, X1]. Velocities from these points are not necessarily the same. This may cause errors in your calculations.\n",
            "  warn('Velocity automatically calculated based on point ' +\n",
            "/usr/local/lib/python3.10/dist-packages/sympy/physics/vector/point.py:574: UserWarning: Velocity automatically calculated based on point X1 but it is also possible from points(s):[X1, B1]. Velocities from these points are not necessarily the same. This may cause errors in your calculations.\n",
            "  warn('Velocity automatically calculated based on point ' +\n"
          ]
        }
      ]
    },
    {
      "cell_type": "code",
      "source": [
        "kaneeq[1]"
      ],
      "metadata": {
        "colab": {
          "base_uri": "https://localhost:8080/",
          "height": 59
        },
        "id": "NrgZFN323Pn6",
        "outputId": "8139aa9d-d294-422e-bdd6-c5b6e5da35f5"
      },
      "execution_count": 201,
      "outputs": [
        {
          "output_type": "execute_result",
          "data": {
            "text/plain": [
              "Matrix([\n",
              "[-M1*Derivative(u1(t), t)],\n",
              "[-M1*Derivative(u2(t), t)]])"
            ],
            "text/latex": "$\\displaystyle \\left[\\begin{matrix}- M_{1} \\frac{d}{d t} u_{1}{\\left(t \\right)}\\\\- M_{1} \\frac{d}{d t} u_{2}{\\left(t \\right)}\\end{matrix}\\right]$"
          },
          "metadata": {},
          "execution_count": 201
        }
      ]
    },
    {
      "cell_type": "code",
      "source": [
        "kaneeq[0]"
      ],
      "metadata": {
        "colab": {
          "base_uri": "https://localhost:8080/",
          "height": 79
        },
        "id": "9aXWbydI3WL_",
        "outputId": "e9780461-d06b-4aa2-b4d1-e53c56e99ebc"
      },
      "execution_count": 202,
      "outputs": [
        {
          "output_type": "execute_result",
          "data": {
            "text/plain": [
              "Matrix([\n",
              "[-T1*(w1 - w2 + x_0(t))/sqrt((d2 - q2(t))**2 + (w1 - w2 + x_0(t))**2) - T2*(-w1 + w2 + x_0(t))/sqrt((d2 - q2(t))**2 + (-w1 + w2 + x_0(t))**2)],\n",
              "[      -M1*g + T1*(d2 - q2(t))/sqrt((d2 - q2(t))**2 + (w1 - w2 + x_0(t))**2) + T2*(d2 - q2(t))/sqrt((d2 - q2(t))**2 + (-w1 + w2 + x_0(t))**2)]])"
            ],
            "text/latex": "$\\displaystyle \\left[\\begin{matrix}- \\frac{T_{1} \\left(w_{1} - w_{2} + x_{0}{\\left(t \\right)}\\right)}{\\sqrt{\\left(d_{2} - q_{2}{\\left(t \\right)}\\right)^{2} + \\left(w_{1} - w_{2} + x_{0}{\\left(t \\right)}\\right)^{2}}} - \\frac{T_{2} \\left(- w_{1} + w_{2} + x_{0}{\\left(t \\right)}\\right)}{\\sqrt{\\left(d_{2} - q_{2}{\\left(t \\right)}\\right)^{2} + \\left(- w_{1} + w_{2} + x_{0}{\\left(t \\right)}\\right)^{2}}}\\\\- M_{1} g + \\frac{T_{1} \\left(d_{2} - q_{2}{\\left(t \\right)}\\right)}{\\sqrt{\\left(d_{2} - q_{2}{\\left(t \\right)}\\right)^{2} + \\left(w_{1} - w_{2} + x_{0}{\\left(t \\right)}\\right)^{2}}} + \\frac{T_{2} \\left(d_{2} - q_{2}{\\left(t \\right)}\\right)}{\\sqrt{\\left(d_{2} - q_{2}{\\left(t \\right)}\\right)^{2} + \\left(- w_{1} + w_{2} + x_{0}{\\left(t \\right)}\\right)^{2}}}\\end{matrix}\\right]$"
          },
          "metadata": {},
          "execution_count": 202
        }
      ]
    },
    {
      "cell_type": "code",
      "source": [
        "kanel = kane.to_linearizer()"
      ],
      "metadata": {
        "id": "oAKErOE3-588"
      },
      "execution_count": 203,
      "outputs": []
    },
    {
      "cell_type": "code",
      "source": [
        "A, B = kanel.linearize(A_and_B=True, op_point={ x_0:0})"
      ],
      "metadata": {
        "id": "f-8XjAuK3YBk"
      },
      "execution_count": 217,
      "outputs": []
    },
    {
      "cell_type": "code",
      "source": [
        "A"
      ],
      "metadata": {
        "colab": {
          "base_uri": "https://localhost:8080/",
          "height": 130
        },
        "id": "WyOtwwF7_Brj",
        "outputId": "2ca3ff5a-3486-4e58-cdf9-922b42506385"
      },
      "execution_count": 234,
      "outputs": [
        {
          "output_type": "execute_result",
          "data": {
            "text/plain": [
              "Matrix([\n",
              "[0,                                                                              0, 1,  0],\n",
              "[0,                                                                              0, 0, -1],\n",
              "[0, (-T1 + T2)*(d2 - q2(t))*(w1 - w2)/(M1*((d2 - q2(t))**2 + (w1 - w2)**2)**(3/2)), 0,  0],\n",
              "[0,           -(T1 + T2)*(w1 - w2)**2/(M1*((d2 - q2(t))**2 + (w1 - w2)**2)**(3/2)), 0,  0]])"
            ],
            "text/latex": "$\\displaystyle \\left[\\begin{matrix}0 & 0 & 1 & 0\\\\0 & 0 & 0 & -1\\\\0 & \\frac{\\left(- T_{1} + T_{2}\\right) \\left(d_{2} - q_{2}{\\left(t \\right)}\\right) \\left(w_{1} - w_{2}\\right)}{M_{1} \\left(\\left(d_{2} - q_{2}{\\left(t \\right)}\\right)^{2} + \\left(w_{1} - w_{2}\\right)^{2}\\right)^{\\frac{3}{2}}} & 0 & 0\\\\0 & - \\frac{\\left(T_{1} + T_{2}\\right) \\left(w_{1} - w_{2}\\right)^{2}}{M_{1} \\left(\\left(d_{2} - q_{2}{\\left(t \\right)}\\right)^{2} + \\left(w_{1} - w_{2}\\right)^{2}\\right)^{\\frac{3}{2}}} & 0 & 0\\end{matrix}\\right]$"
          },
          "metadata": {},
          "execution_count": 234
        }
      ]
    },
    {
      "cell_type": "code",
      "source": [
        "B"
      ],
      "metadata": {
        "colab": {
          "base_uri": "https://localhost:8080/",
          "height": 130
        },
        "id": "51EIDwb-_DGu",
        "outputId": "b243851c-7151-497b-b303-c076af58d5d1"
      },
      "execution_count": 232,
      "outputs": [
        {
          "output_type": "execute_result",
          "data": {
            "text/plain": [
              "Matrix([\n",
              "[                                                                             0],\n",
              "[                                                                             0],\n",
              "[       -(T1 + T2)*(d2 - q2(t))**2/(M1*((d2 - q2(t))**2 + (w1 - w2)**2)**(3/2))],\n",
              "[(-T1 + T2)*(d2 - q2(t))*(w1 - w2)/(M1*((d2 - q2(t))**2 + (w1 - w2)**2)**(3/2))]])"
            ],
            "text/latex": "$\\displaystyle \\left[\\begin{matrix}0\\\\0\\\\- \\frac{\\left(T_{1} + T_{2}\\right) \\left(d_{2} - q_{2}{\\left(t \\right)}\\right)^{2}}{M_{1} \\left(\\left(d_{2} - q_{2}{\\left(t \\right)}\\right)^{2} + \\left(w_{1} - w_{2}\\right)^{2}\\right)^{\\frac{3}{2}}}\\\\\\frac{\\left(- T_{1} + T_{2}\\right) \\left(d_{2} - q_{2}{\\left(t \\right)}\\right) \\left(w_{1} - w_{2}\\right)}{M_{1} \\left(\\left(d_{2} - q_{2}{\\left(t \\right)}\\right)^{2} + \\left(w_{1} - w_{2}\\right)^{2}\\right)^{\\frac{3}{2}}}\\end{matrix}\\right]$"
          },
          "metadata": {},
          "execution_count": 232
        }
      ]
    },
    {
      "cell_type": "code",
      "source": [
        "kane.q"
      ],
      "metadata": {
        "colab": {
          "base_uri": "https://localhost:8080/",
          "height": 58
        },
        "id": "F1OM2PdanxUK",
        "outputId": "0b7788d0-78a2-4691-9b8d-67cc1e1e53d8"
      },
      "execution_count": 220,
      "outputs": [
        {
          "output_type": "execute_result",
          "data": {
            "text/plain": [
              "Matrix([\n",
              "[q1(t)],\n",
              "[q2(t)]])"
            ],
            "text/latex": "$\\displaystyle \\left[\\begin{matrix}q_{1}{\\left(t \\right)}\\\\q_{2}{\\left(t \\right)}\\end{matrix}\\right]$"
          },
          "metadata": {},
          "execution_count": 220
        }
      ]
    },
    {
      "cell_type": "code",
      "source": [
        "kanel.r"
      ],
      "metadata": {
        "colab": {
          "base_uri": "https://localhost:8080/",
          "height": 39
        },
        "id": "w7XBjN73nx1_",
        "outputId": "b1b00bd7-da94-4a06-85d0-8b868c7d1368"
      },
      "execution_count": 221,
      "outputs": [
        {
          "output_type": "execute_result",
          "data": {
            "text/plain": [
              "Matrix([[x_0(t)]])"
            ],
            "text/latex": "$\\displaystyle \\left[\\begin{matrix}x_{0}{\\left(t \\right)}\\end{matrix}\\right]$"
          },
          "metadata": {},
          "execution_count": 221
        }
      ]
    },
    {
      "cell_type": "code",
      "source": [
        "kaneeq[0][0].diff(q2).subs({x_0:0}).simplify()"
      ],
      "metadata": {
        "colab": {
          "base_uri": "https://localhost:8080/",
          "height": 76
        },
        "id": "ZYQV8PDcnzbP",
        "outputId": "81437b1c-6408-47e5-b8b8-1ca27eadaa30"
      },
      "execution_count": 236,
      "outputs": [
        {
          "output_type": "execute_result",
          "data": {
            "text/plain": [
              "(-T1 + T2)*(d2 - q2(t))*(w1 - w2)/((d2 - q2(t))**2 + (w1 - w2)**2)**(3/2)"
            ],
            "text/latex": "$\\displaystyle \\frac{\\left(- T_{1} + T_{2}\\right) \\left(d_{2} - q_{2}{\\left(t \\right)}\\right) \\left(w_{1} - w_{2}\\right)}{\\left(\\left(d_{2} - q_{2}{\\left(t \\right)}\\right)^{2} + \\left(w_{1} - w_{2}\\right)^{2}\\right)^{\\frac{3}{2}}}$"
          },
          "metadata": {},
          "execution_count": 236
        }
      ]
    },
    {
      "cell_type": "code",
      "source": [
        "kaneeq[0][1].diff(q2).subs({x_0:0}).simplify()"
      ],
      "metadata": {
        "colab": {
          "base_uri": "https://localhost:8080/",
          "height": 79
        },
        "id": "do1jntXguER5",
        "outputId": "6f6f5a71-c2eb-4c1c-e1a3-3e54b0634e9c"
      },
      "execution_count": 235,
      "outputs": [
        {
          "output_type": "execute_result",
          "data": {
            "text/plain": [
              "-(T1 + T2)*(w1 - w2)**2/((d2 - q2(t))**2 + (w1 - w2)**2)**(3/2)"
            ],
            "text/latex": "$\\displaystyle - \\frac{\\left(T_{1} + T_{2}\\right) \\left(w_{1} - w_{2}\\right)^{2}}{\\left(\\left(d_{2} - q_{2}{\\left(t \\right)}\\right)^{2} + \\left(w_{1} - w_{2}\\right)^{2}\\right)^{\\frac{3}{2}}}$"
          },
          "metadata": {},
          "execution_count": 235
        }
      ]
    },
    {
      "cell_type": "code",
      "source": [
        "kaneeq[0][0].diff(x_0).subs({x_0:0}).simplify()"
      ],
      "metadata": {
        "colab": {
          "base_uri": "https://localhost:8080/",
          "height": 79
        },
        "id": "q9ZBQg2UuNpc",
        "outputId": "3fb021fb-8f40-4631-b32f-d40afba461be"
      },
      "execution_count": 237,
      "outputs": [
        {
          "output_type": "execute_result",
          "data": {
            "text/plain": [
              "-(T1 + T2)*(d2 - q2(t))**2/((d2 - q2(t))**2 + (w1 - w2)**2)**(3/2)"
            ],
            "text/latex": "$\\displaystyle - \\frac{\\left(T_{1} + T_{2}\\right) \\left(d_{2} - q_{2}{\\left(t \\right)}\\right)^{2}}{\\left(\\left(d_{2} - q_{2}{\\left(t \\right)}\\right)^{2} + \\left(w_{1} - w_{2}\\right)^{2}\\right)^{\\frac{3}{2}}}$"
          },
          "metadata": {},
          "execution_count": 237
        }
      ]
    },
    {
      "cell_type": "code",
      "source": [
        "kaneeq[0][1].diff(x_0).subs({x_0:0}).simplify()"
      ],
      "metadata": {
        "colab": {
          "base_uri": "https://localhost:8080/",
          "height": 76
        },
        "id": "rZwNjOEVuRuN",
        "outputId": "b8123e49-56e5-44fe-c53e-53c4f33dcee6"
      },
      "execution_count": 238,
      "outputs": [
        {
          "output_type": "execute_result",
          "data": {
            "text/plain": [
              "(-T1 + T2)*(d2 - q2(t))*(w1 - w2)/((d2 - q2(t))**2 + (w1 - w2)**2)**(3/2)"
            ],
            "text/latex": "$\\displaystyle \\frac{\\left(- T_{1} + T_{2}\\right) \\left(d_{2} - q_{2}{\\left(t \\right)}\\right) \\left(w_{1} - w_{2}\\right)}{\\left(\\left(d_{2} - q_{2}{\\left(t \\right)}\\right)^{2} + \\left(w_{1} - w_{2}\\right)^{2}\\right)^{\\frac{3}{2}}}$"
          },
          "metadata": {},
          "execution_count": 238
        }
      ]
    },
    {
      "cell_type": "code",
      "source": [],
      "metadata": {
        "id": "lGMnBe1XuUI4"
      },
      "execution_count": null,
      "outputs": []
    }
  ]
}