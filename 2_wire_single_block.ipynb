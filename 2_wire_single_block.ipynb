{
  "nbformat": 4,
  "nbformat_minor": 0,
  "metadata": {
    "colab": {
      "provenance": [],
      "authorship_tag": "ABX9TyPaxEK7KTP6X1EBXU0XMBmB",
      "include_colab_link": true
    },
    "kernelspec": {
      "name": "python3",
      "display_name": "Python 3"
    },
    "language_info": {
      "name": "python"
    }
  },
  "cells": [
    {
      "cell_type": "markdown",
      "metadata": {
        "id": "view-in-github",
        "colab_type": "text"
      },
      "source": [
        "<a href=\"https://colab.research.google.com/github/siddharth101/Double_suspension/blob/main/2_wire_single_block.ipynb\" target=\"_parent\"><img src=\"https://colab.research.google.com/assets/colab-badge.svg\" alt=\"Open In Colab\"/></a>"
      ]
    },
    {
      "cell_type": "code",
      "execution_count": 1,
      "metadata": {
        "id": "9vXXvnfrrJSL"
      },
      "outputs": [],
      "source": [
        "from sympy import zeros, symbols\n",
        "from sympy import Matrix\n",
        "from sympy.physics.mechanics import Body, PinJoint, SphericalJoint, PrismaticJoint, JointsMethod, inertia\n",
        "from sympy.physics.mechanics import dynamicsymbols\n",
        "from sympy import Symbol\n",
        "from sympy.physics.mechanics import dynamicsymbols, ReferenceFrame, outer\n",
        "from sympy.physics.mechanics import ReferenceFrame, Point, RigidBody\n",
        "from sympy.physics.mechanics import kinetic_energy, potential_energy, Point, Particle\n",
        "\n",
        "import sympy as smp\n",
        "import numpy as np\n",
        "import matplotlib.pyplot as plt\n",
        "import sympy.physics.mechanics as me"
      ]
    },
    {
      "cell_type": "code",
      "source": [
        "alpha_x, alpha_y, alpha_z = dynamicsymbols('alpha_x, alpha_y, alpha_z')\n",
        "q1, q2, q3, q4, u1, u2, u3, u4 = dynamicsymbols('q1 q2 q3 q4 u1 u2 u3 u4')\n",
        "alpha_x1, alpha_y1, alpha_z1 = dynamicsymbols('alpha_x1 alpha_y1, alpha_z1')\n",
        "beta_x1, beta_y1, beta_z1 = dynamicsymbols('beta_x1 beta_y1 beta_z1')\n",
        "gamma_x1, gamma_y1, gamma_z1 = dynamicsymbols('gamma_x1, gamma_y1, gamma_z1')\n",
        "eta_x1, eta_y1, eta_z1 = dynamicsymbols('eta_x1, eta_y1, eta_z1')\n",
        "\n",
        "omega_x1, omega_y1, omega_z1 = dynamicsymbols('omega_x1 omega_y1 omega_z1')\n",
        "x_0, x_1 = dynamicsymbols('x_0 x_1')\n",
        "L = symbols('L')\n",
        "ixx1, iyy1, izz1 = symbols('ixx1 iyy1 izz1')\n",
        "M1, t = symbols('M1 t')\n",
        "\n",
        "\n",
        "N = ReferenceFrame('N') # global\n",
        "N_s  = ReferenceFrame('N_s') # suspension point\n",
        "N_p1 = ReferenceFrame('N_p1') # wire 1\n",
        "N_p2 = ReferenceFrame('N_p2') # wire 2\n",
        "N_b = ReferenceFrame('N_b') # body frame\n",
        "\n",
        "\n",
        "N_s.orient_axis(N, 0, N.z)\n",
        "N_b.orient_axis(N, 0, N.z)\n",
        "\n",
        "\n",
        "q1, q2, q3, q4, q5, q6 = dynamicsymbols('q1, q2, q3, q4, q5, q6', real=True, positive=True)\n",
        "u1, u2, u3, u4, u5, u6 = dynamicsymbols('u1, u2, u3, u4, u5, u6')\n",
        "w1, w2, w3, d1, d2, d3 = symbols('w1 w2 w3 d1 d2 d3')\n",
        "ixx1, iyy1, izz1 = symbols('ixx1 iyy1 izz1')\n",
        "ixx2, iyy2, izz2 = symbols('ixx2 iyy2 izz2')\n",
        "M1, M2 = symbols('M1 M2')"
      ],
      "metadata": {
        "id": "ZCKSMjV8rOPG"
      },
      "execution_count": 2,
      "outputs": []
    },
    {
      "cell_type": "code",
      "source": [
        "O = Point('O')\n",
        "P = Point('P')\n",
        "\n",
        "P1 = Point('P1')\n",
        "P1a = Point('P1a')\n",
        "\n",
        "P2 = Point('P2')\n",
        "P2a = Point('P2a')\n",
        "\n",
        "X1 = Point('X1')\n",
        "\n",
        "\n",
        "B1 = Point('B1')\n",
        "B2 = Point('B2')\n",
        "B1a = Point('B1a')\n",
        "B2a = Point('B2a')"
      ],
      "metadata": {
        "id": "N2KR5Wa0rVQc"
      },
      "execution_count": 3,
      "outputs": []
    },
    {
      "cell_type": "code",
      "source": [
        "P.set_pos(O, q1*N.x)\n",
        "X1.set_pos(O, q1*N.x - q2*N.y) #COM\n",
        "\n",
        "P1.set_pos(P, -w1*N_s.x) #Suspension points\n",
        "P2.set_pos(P,  w1*N_s.x)\n",
        "\n",
        "B1.set_pos(X1, -w2*N_b.x + d2*N_b.y) #attachment points\n",
        "B2.set_pos(X1,  w2*N_b.x + d2*N_b.y)\n"
      ],
      "metadata": {
        "id": "GktxcwqqrYZi"
      },
      "execution_count": 4,
      "outputs": []
    },
    {
      "cell_type": "code",
      "source": [
        "B1.pos_from(O).express(N)"
      ],
      "metadata": {
        "colab": {
          "base_uri": "https://localhost:8080/",
          "height": 39
        },
        "id": "Eg5rfUkDrb9s",
        "outputId": "f976afa9-d39b-4c1f-92a6-a2df39043335"
      },
      "execution_count": 5,
      "outputs": [
        {
          "output_type": "execute_result",
          "data": {
            "text/plain": [
              "(-w2 + q1(t))*N.x + (d2 - q2(t))*N.y"
            ],
            "text/latex": "$\\displaystyle (- w_{2} + q_{1}{\\left(t \\right)})\\mathbf{\\hat{n}_x} + (d_{2} - q_{2}{\\left(t \\right)})\\mathbf{\\hat{n}_y}$"
          },
          "metadata": {},
          "execution_count": 5
        }
      ]
    },
    {
      "cell_type": "code",
      "source": [
        "B1.pos_from(P1).express(N)"
      ],
      "metadata": {
        "colab": {
          "base_uri": "https://localhost:8080/",
          "height": 39
        },
        "id": "ioT1GSdUrfuL",
        "outputId": "7d18fa19-9cbd-4d19-b45e-c7b2a17d858b"
      },
      "execution_count": 6,
      "outputs": [
        {
          "output_type": "execute_result",
          "data": {
            "text/plain": [
              "(w1 - w2)*N.x + (d2 - q2(t))*N.y"
            ],
            "text/latex": "$\\displaystyle (w_{1} - w_{2})\\mathbf{\\hat{n}_x} + (d_{2} - q_{2}{\\left(t \\right)})\\mathbf{\\hat{n}_y}$"
          },
          "metadata": {},
          "execution_count": 6
        }
      ]
    },
    {
      "cell_type": "code",
      "source": [
        "X1.pos_from(P1).express(N)"
      ],
      "metadata": {
        "colab": {
          "base_uri": "https://localhost:8080/",
          "height": 39
        },
        "id": "UzbCREF_riou",
        "outputId": "a7a6b5e1-2719-4973-ed62-842b6393302c"
      },
      "execution_count": 7,
      "outputs": [
        {
          "output_type": "execute_result",
          "data": {
            "text/plain": [
              "w1*N.x - q2(t)*N.y"
            ],
            "text/latex": "$\\displaystyle w_{1}\\mathbf{\\hat{n}_x} -  q_{2}{\\left(t \\right)}\\mathbf{\\hat{n}_y}$"
          },
          "metadata": {},
          "execution_count": 7
        }
      ]
    },
    {
      "cell_type": "code",
      "source": [
        "from sympy import atan2\n",
        "angle_p1p1a = atan2(B1.pos_from(P1).express(N).dot(N.y), B1.pos_from(P1).express(N).dot(N.x))\n",
        "angle_p2p2a = atan2(B2.pos_from(P2).express(N).dot(N.y), B2.pos_from(P2).express(N).dot(N.x))"
      ],
      "metadata": {
        "id": "-YikyeDzrmAK"
      },
      "execution_count": 8,
      "outputs": []
    },
    {
      "cell_type": "code",
      "source": [
        "angle_p1p1a"
      ],
      "metadata": {
        "colab": {
          "base_uri": "https://localhost:8080/",
          "height": 39
        },
        "id": "n2qnri4frn3n",
        "outputId": "4426567d-a396-475e-d58e-e69c0af878a7"
      },
      "execution_count": 9,
      "outputs": [
        {
          "output_type": "execute_result",
          "data": {
            "text/plain": [
              "atan2(d2 - q2(t), w1 - w2)"
            ],
            "text/latex": "$\\displaystyle \\operatorname{atan}_{2}{\\left(d_{2} - q_{2}{\\left(t \\right)},w_{1} - w_{2} \\right)}$"
          },
          "metadata": {},
          "execution_count": 9
        }
      ]
    },
    {
      "cell_type": "code",
      "source": [
        "angle_p2p2a"
      ],
      "metadata": {
        "colab": {
          "base_uri": "https://localhost:8080/",
          "height": 39
        },
        "id": "PLBu4sJVroiF",
        "outputId": "aa7ca9d4-b52a-4675-850a-d35ac3546e34"
      },
      "execution_count": 10,
      "outputs": [
        {
          "output_type": "execute_result",
          "data": {
            "text/plain": [
              "atan2(d2 - q2(t), -w1 + w2)"
            ],
            "text/latex": "$\\displaystyle \\operatorname{atan}_{2}{\\left(d_{2} - q_{2}{\\left(t \\right)},- w_{1} + w_{2} \\right)}$"
          },
          "metadata": {},
          "execution_count": 10
        }
      ]
    },
    {
      "cell_type": "code",
      "source": [
        "p1body = Body('p1body', masscenter=P1, frame=N_s)\n",
        "p2body = Body('p2body', masscenter=P2, frame=N_s)\n",
        "\n",
        "p1abody = Body('p1abody', masscenter=P1a, frame=N_p1)\n",
        "p2abody = Body('p2abody', masscenter=P2a, frame=N_p2)"
      ],
      "metadata": {
        "id": "-D99qIhrrpNY"
      },
      "execution_count": 11,
      "outputs": []
    },
    {
      "cell_type": "code",
      "source": [
        "## Spherical Joint\n",
        "revp1 = SphericalJoint(name='p1p1a', parent=p1body, child=p1abody, parent_point=P1, child_point=P1a, amounts=[0,0, angle_p1p1a],\n",
        "                     rot_order='XYZ')\n",
        "revp2 = SphericalJoint(name='p2p2a', parent=p2body, child=p2abody, parent_point=P2, child_point=P2a, amounts=[0,0,angle_p2p2a],\n",
        "                     rot_order='XYZ')"
      ],
      "metadata": {
        "id": "zq5m48JurzKF"
      },
      "execution_count": 12,
      "outputs": []
    },
    {
      "cell_type": "code",
      "source": [
        "revp1.parent_interframe, revp1.child_interframe"
      ],
      "metadata": {
        "colab": {
          "base_uri": "https://localhost:8080/"
        },
        "id": "k2xDjKSer2W4",
        "outputId": "4342080b-3974-44dd-cf6a-c8ceb5ba2e52"
      },
      "execution_count": 14,
      "outputs": [
        {
          "output_type": "execute_result",
          "data": {
            "text/plain": [
              "(N_s, N_p1)"
            ]
          },
          "metadata": {},
          "execution_count": 14
        }
      ]
    },
    {
      "cell_type": "code",
      "source": [
        "revp1.child_interframe.dcm(revp1.parent_interframe)"
      ],
      "metadata": {
        "colab": {
          "base_uri": "https://localhost:8080/",
          "height": 100
        },
        "id": "y-2ZJxtJsCeT",
        "outputId": "a399de45-c099-4dcd-b088-1b7a70e7cedb"
      },
      "execution_count": 15,
      "outputs": [
        {
          "output_type": "execute_result",
          "data": {
            "text/plain": [
              "Matrix([\n",
              "[    (w1 - w2)/sqrt((d2 - q2(t))**2 + (w1 - w2)**2), (d2 - q2(t))/sqrt((d2 - q2(t))**2 + (w1 - w2)**2), 0],\n",
              "[-(d2 - q2(t))/sqrt((d2 - q2(t))**2 + (w1 - w2)**2),    (w1 - w2)/sqrt((d2 - q2(t))**2 + (w1 - w2)**2), 0],\n",
              "[                                                 0,                                                 0, 1]])"
            ],
            "text/latex": "$\\displaystyle \\left[\\begin{matrix}\\frac{w_{1} - w_{2}}{\\sqrt{\\left(d_{2} - q_{2}{\\left(t \\right)}\\right)^{2} + \\left(w_{1} - w_{2}\\right)^{2}}} & \\frac{d_{2} - q_{2}{\\left(t \\right)}}{\\sqrt{\\left(d_{2} - q_{2}{\\left(t \\right)}\\right)^{2} + \\left(w_{1} - w_{2}\\right)^{2}}} & 0\\\\- \\frac{d_{2} - q_{2}{\\left(t \\right)}}{\\sqrt{\\left(d_{2} - q_{2}{\\left(t \\right)}\\right)^{2} + \\left(w_{1} - w_{2}\\right)^{2}}} & \\frac{w_{1} - w_{2}}{\\sqrt{\\left(d_{2} - q_{2}{\\left(t \\right)}\\right)^{2} + \\left(w_{1} - w_{2}\\right)^{2}}} & 0\\\\0 & 0 & 1\\end{matrix}\\right]$"
          },
          "metadata": {},
          "execution_count": 15
        }
      ]
    },
    {
      "cell_type": "code",
      "source": [
        "revp2.child_interframe.dcm(revp2.parent_interframe)"
      ],
      "metadata": {
        "colab": {
          "base_uri": "https://localhost:8080/",
          "height": 100
        },
        "id": "mr1OqHXNsCIs",
        "outputId": "0ef4093b-b1fc-4aa3-bd24-eda2a9768deb"
      },
      "execution_count": 16,
      "outputs": [
        {
          "output_type": "execute_result",
          "data": {
            "text/plain": [
              "Matrix([\n",
              "[   (-w1 + w2)/sqrt((d2 - q2(t))**2 + (-w1 + w2)**2), (d2 - q2(t))/sqrt((d2 - q2(t))**2 + (-w1 + w2)**2), 0],\n",
              "[-(d2 - q2(t))/sqrt((d2 - q2(t))**2 + (-w1 + w2)**2),   (-w1 + w2)/sqrt((d2 - q2(t))**2 + (-w1 + w2)**2), 0],\n",
              "[                                                  0,                                                  0, 1]])"
            ],
            "text/latex": "$\\displaystyle \\left[\\begin{matrix}\\frac{- w_{1} + w_{2}}{\\sqrt{\\left(d_{2} - q_{2}{\\left(t \\right)}\\right)^{2} + \\left(- w_{1} + w_{2}\\right)^{2}}} & \\frac{d_{2} - q_{2}{\\left(t \\right)}}{\\sqrt{\\left(d_{2} - q_{2}{\\left(t \\right)}\\right)^{2} + \\left(- w_{1} + w_{2}\\right)^{2}}} & 0\\\\- \\frac{d_{2} - q_{2}{\\left(t \\right)}}{\\sqrt{\\left(d_{2} - q_{2}{\\left(t \\right)}\\right)^{2} + \\left(- w_{1} + w_{2}\\right)^{2}}} & \\frac{- w_{1} + w_{2}}{\\sqrt{\\left(d_{2} - q_{2}{\\left(t \\right)}\\right)^{2} + \\left(- w_{1} + w_{2}\\right)^{2}}} & 0\\\\0 & 0 & 1\\end{matrix}\\right]$"
          },
          "metadata": {},
          "execution_count": 16
        }
      ]
    },
    {
      "cell_type": "code",
      "source": [
        "b1body = Body('b1body', masscenter=B1, frame=N_b)\n",
        "b2body = Body('b2body', masscenter=B1, frame=N_b)"
      ],
      "metadata": {
        "id": "1M5kQ0-Ar5pG"
      },
      "execution_count": 17,
      "outputs": []
    },
    {
      "cell_type": "code",
      "source": [
        "revp1ab1 = PrismaticJoint('p1ab1', parent=p1abody, child=b1body, coordinates=q3, parent_point=P1a, child_point=B1,\n",
        "                      joint_axis = -N_p1.y, speeds=u3)\n",
        "revp2ab2 = PrismaticJoint('p2ab2', parent=p2abody, child=b2body, coordinates=q3, parent_point=P2a, child_point=B2,\n",
        "                      joint_axis = -N_p2.y, speeds=u3)"
      ],
      "metadata": {
        "colab": {
          "base_uri": "https://localhost:8080/"
        },
        "id": "B5RYH8HSsIhm",
        "outputId": "392e4e75-261c-4ea2-e48e-43abad3c1eae"
      },
      "execution_count": 18,
      "outputs": [
        {
          "output_type": "stream",
          "name": "stderr",
          "text": [
            "/usr/local/lib/python3.10/dist-packages/sympy/physics/vector/frame.py:580: UserWarning: Loops are defined among the orientation of frames. This is likely not desired and may cause errors in your calculations.\n",
            "  warn('Loops are defined among the orientation of '\n"
          ]
        }
      ]
    },
    {
      "cell_type": "code",
      "source": [
        "B1.pos_from(X1), B2.pos_from(X1) # still the same, which is good"
      ],
      "metadata": {
        "colab": {
          "base_uri": "https://localhost:8080/"
        },
        "id": "CqosL2LCsOQR",
        "outputId": "9c2820d6-ceec-435c-f908-28fb6baa6756"
      },
      "execution_count": 19,
      "outputs": [
        {
          "output_type": "execute_result",
          "data": {
            "text/plain": [
              "(- w2*N_b.x + d2*N_b.y, w2*N_b.x + d2*N_b.y)"
            ]
          },
          "metadata": {},
          "execution_count": 19
        }
      ]
    },
    {
      "cell_type": "code",
      "source": [
        "B1.pos_from(O).express(N) # this hasn't changed"
      ],
      "metadata": {
        "colab": {
          "base_uri": "https://localhost:8080/",
          "height": 39
        },
        "id": "ooFgQSFWshsj",
        "outputId": "77b9141b-6b50-4311-8a94-c25effc04f92"
      },
      "execution_count": 24,
      "outputs": [
        {
          "output_type": "execute_result",
          "data": {
            "text/plain": [
              "(-w2 + q1(t))*N.x + (d2 - q2(t))*N.y"
            ],
            "text/latex": "$\\displaystyle (- w_{2} + q_{1}{\\left(t \\right)})\\mathbf{\\hat{n}_x} + (d_{2} - q_{2}{\\left(t \\right)})\\mathbf{\\hat{n}_y}$"
          },
          "metadata": {},
          "execution_count": 24
        }
      ]
    },
    {
      "cell_type": "code",
      "source": [
        "B1.pos_from(P1)"
      ],
      "metadata": {
        "colab": {
          "base_uri": "https://localhost:8080/",
          "height": 40
        },
        "id": "4TTEAM6JsQt-",
        "outputId": "ed441069-6379-434e-d58a-399a8e7660df"
      },
      "execution_count": 23,
      "outputs": [
        {
          "output_type": "execute_result",
          "data": {
            "text/plain": [
              "- q3(t)*N_p1.y"
            ],
            "text/latex": "$\\displaystyle -  q_{3}{\\left(t \\right)}\\mathbf{\\hat{n_p1}_y}$"
          },
          "metadata": {},
          "execution_count": 23
        }
      ]
    },
    {
      "cell_type": "code",
      "source": [
        "B1.pos_from(P1).express(N)"
      ],
      "metadata": {
        "colab": {
          "base_uri": "https://localhost:8080/",
          "height": 70
        },
        "id": "-ws90M1NsWLn",
        "outputId": "fff8a54b-bd92-4cea-f47d-19dcbcf1e859"
      },
      "execution_count": 21,
      "outputs": [
        {
          "output_type": "execute_result",
          "data": {
            "text/plain": [
              "(d2 - q2(t))*q3(t)/sqrt((d2 - q2(t))**2 + (w1 - w2)**2)*N.x - (w1 - w2)*q3(t)/sqrt((d2 - q2(t))**2 + (w1 - w2)**2)*N.y"
            ],
            "text/latex": "$\\displaystyle \\frac{\\left(d_{2} - q_{2}{\\left(t \\right)}\\right) q_{3}{\\left(t \\right)}}{\\sqrt{\\left(d_{2} - q_{2}{\\left(t \\right)}\\right)^{2} + \\left(w_{1} - w_{2}\\right)^{2}}}\\mathbf{\\hat{n}_x} -  \\frac{\\left(w_{1} - w_{2}\\right) q_{3}{\\left(t \\right)}}{\\sqrt{\\left(d_{2} - q_{2}{\\left(t \\right)}\\right)^{2} + \\left(w_{1} - w_{2}\\right)^{2}}}\\mathbf{\\hat{n}_y}$"
          },
          "metadata": {},
          "execution_count": 21
        }
      ]
    },
    {
      "cell_type": "code",
      "source": [],
      "metadata": {
        "id": "Ke0nyaCwsXPe"
      },
      "execution_count": null,
      "outputs": []
    }
  ]
}