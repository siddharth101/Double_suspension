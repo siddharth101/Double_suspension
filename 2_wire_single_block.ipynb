{
  "nbformat": 4,
  "nbformat_minor": 0,
  "metadata": {
    "colab": {
      "provenance": [],
      "authorship_tag": "ABX9TyPsD1/stHk4HMktfhtw7Umr",
      "include_colab_link": true
    },
    "kernelspec": {
      "name": "python3",
      "display_name": "Python 3"
    },
    "language_info": {
      "name": "python"
    }
  },
  "cells": [
    {
      "cell_type": "markdown",
      "metadata": {
        "id": "view-in-github",
        "colab_type": "text"
      },
      "source": [
        "<a href=\"https://colab.research.google.com/github/siddharth101/Double_suspension/blob/main/2_wire_single_block.ipynb\" target=\"_parent\"><img src=\"https://colab.research.google.com/assets/colab-badge.svg\" alt=\"Open In Colab\"/></a>"
      ]
    },
    {
      "cell_type": "code",
      "execution_count": 2,
      "metadata": {
        "id": "9vXXvnfrrJSL"
      },
      "outputs": [],
      "source": [
        "from sympy import zeros, symbols\n",
        "from sympy import Matrix\n",
        "from sympy.physics.mechanics import Body, PinJoint, SphericalJoint, PlanarJoint, PrismaticJoint, JointsMethod, inertia\n",
        "from sympy.physics.mechanics import dynamicsymbols\n",
        "from sympy import Symbol\n",
        "from sympy.physics.mechanics import dynamicsymbols, ReferenceFrame, outer\n",
        "from sympy.physics.mechanics import ReferenceFrame, Point, RigidBody\n",
        "from sympy.physics.mechanics import kinetic_energy, potential_energy, Point, Particle\n",
        "\n",
        "import sympy as smp\n",
        "import numpy as np\n",
        "import matplotlib.pyplot as plt\n",
        "import sympy.physics.mechanics as me"
      ]
    },
    {
      "cell_type": "code",
      "source": [
        "alpha_x, alpha_y, alpha_z = dynamicsymbols('alpha_x, alpha_y, alpha_z')\n",
        "q1, q2, q3, q4, u1, u2, u3, u4 = dynamicsymbols('q1 q2 q3 q4 u1 u2 u3 u4')\n",
        "alpha_x1, alpha_y1, alpha_z1 = dynamicsymbols('alpha_x1 alpha_y1, alpha_z1')\n",
        "beta_x1, beta_y1, beta_z1 = dynamicsymbols('beta_x1 beta_y1 beta_z1')\n",
        "gamma_x1, gamma_y1, gamma_z1 = dynamicsymbols('gamma_x1, gamma_y1, gamma_z1')\n",
        "eta_x1, eta_y1, eta_z1 = dynamicsymbols('eta_x1, eta_y1, eta_z1')\n",
        "\n",
        "omega_x1, omega_y1, omega_z1 = dynamicsymbols('omega_x1 omega_y1 omega_z1')\n",
        "x_0, x_1 = dynamicsymbols('x_0 x_1')\n",
        "L, g = symbols('L g')\n",
        "ixx1, iyy1, izz1 = symbols('ixx1 iyy1 izz1')\n",
        "M1, t = symbols('M1 t')\n",
        "\n",
        "\n",
        "N = ReferenceFrame('N') # global\n",
        "N_s  = ReferenceFrame('N_s') # suspension point\n",
        "N_p1 = ReferenceFrame('N_p1') # wire 1\n",
        "N_p2 = ReferenceFrame('N_p2') # wire 2\n",
        "N_b = ReferenceFrame('N_b') # body frame\n",
        "\n",
        "\n",
        "N_s.orient_axis(N, 0, N.z)\n",
        "N_b.orient_axis(N, 0, N.z)\n",
        "\n",
        "\n",
        "q1, q2, q3, q4, q5, q6 = dynamicsymbols('q1, q2, q3, q4, q5, q6', real=True, positive=True)\n",
        "u1, u2, u3, u4, u5, u6 = dynamicsymbols('u1, u2, u3, u4, u5, u6')\n",
        "w1, w2, w3, d1, d2, d3 = symbols('w1 w2 w3 d1 d2 d3')\n",
        "ixx1, iyy1, izz1 = symbols('ixx1 iyy1 izz1')\n",
        "ixx2, iyy2, izz2 = symbols('ixx2 iyy2 izz2')\n",
        "M1, M2 = symbols('M1 M2')"
      ],
      "metadata": {
        "id": "ZCKSMjV8rOPG"
      },
      "execution_count": 163,
      "outputs": []
    },
    {
      "cell_type": "code",
      "source": [
        "O = Point('O')\n",
        "P = Point('P')\n",
        "\n",
        "P1 = Point('P1')\n",
        "P1a = Point('P1a')\n",
        "\n",
        "P2 = Point('P2')\n",
        "P2a = Point('P2a')\n",
        "\n",
        "X1 = Point('X1')\n",
        "\n",
        "\n",
        "B1 = Point('B1')\n",
        "B2 = Point('B2')\n",
        "B1a = Point('B1a')\n",
        "B2a = Point('B2a')"
      ],
      "metadata": {
        "id": "N2KR5Wa0rVQc"
      },
      "execution_count": 164,
      "outputs": []
    },
    {
      "cell_type": "code",
      "source": [
        "P.set_pos(O, q1*N.x)\n",
        "X1.set_pos(O, (q1 + x_0)*N.x - q2*N.y) #COM\n",
        "\n",
        "P1.set_pos(P, -w1*N_s.x) #Suspension points\n",
        "P2.set_pos(P,  w1*N_s.x)\n",
        "\n",
        "B1.set_pos(X1, -w2*N_b.x + d2*N_b.y) #attachment points\n",
        "B2.set_pos(X1,  w2*N_b.x + d2*N_b.y)\n"
      ],
      "metadata": {
        "id": "GktxcwqqrYZi"
      },
      "execution_count": 165,
      "outputs": []
    },
    {
      "cell_type": "code",
      "source": [
        "B1.pos_from(O).express(N)"
      ],
      "metadata": {
        "colab": {
          "base_uri": "https://localhost:8080/",
          "height": 39
        },
        "id": "Eg5rfUkDrb9s",
        "outputId": "f28090b7-cf5a-4e66-9d01-eeb33c882cf5"
      },
      "execution_count": 166,
      "outputs": [
        {
          "output_type": "execute_result",
          "data": {
            "text/plain": [
              "(-w2 + q1(t) + x_0(t))*N.x + (d2 - q2(t))*N.y"
            ],
            "text/latex": "$\\displaystyle (- w_{2} + q_{1}{\\left(t \\right)} + x_{0}{\\left(t \\right)})\\mathbf{\\hat{n}_x} + (d_{2} - q_{2}{\\left(t \\right)})\\mathbf{\\hat{n}_y}$"
          },
          "metadata": {},
          "execution_count": 166
        }
      ]
    },
    {
      "cell_type": "code",
      "source": [
        "B1.pos_from(P1).express(N)"
      ],
      "metadata": {
        "colab": {
          "base_uri": "https://localhost:8080/",
          "height": 39
        },
        "id": "ioT1GSdUrfuL",
        "outputId": "d2c0fb26-5661-44be-d860-a406ce353d0a"
      },
      "execution_count": 167,
      "outputs": [
        {
          "output_type": "execute_result",
          "data": {
            "text/plain": [
              "(w1 - w2 + x_0(t))*N.x + (d2 - q2(t))*N.y"
            ],
            "text/latex": "$\\displaystyle (w_{1} - w_{2} + x_{0}{\\left(t \\right)})\\mathbf{\\hat{n}_x} + (d_{2} - q_{2}{\\left(t \\right)})\\mathbf{\\hat{n}_y}$"
          },
          "metadata": {},
          "execution_count": 167
        }
      ]
    },
    {
      "cell_type": "code",
      "source": [
        "X1.pos_from(P1).express(N)"
      ],
      "metadata": {
        "colab": {
          "base_uri": "https://localhost:8080/",
          "height": 39
        },
        "id": "UzbCREF_riou",
        "outputId": "7c87030f-402d-4285-f5a0-9ff83a469a96"
      },
      "execution_count": 168,
      "outputs": [
        {
          "output_type": "execute_result",
          "data": {
            "text/plain": [
              "(w1 + x_0(t))*N.x - q2(t)*N.y"
            ],
            "text/latex": "$\\displaystyle (w_{1} + x_{0}{\\left(t \\right)})\\mathbf{\\hat{n}_x} -  q_{2}{\\left(t \\right)}\\mathbf{\\hat{n}_y}$"
          },
          "metadata": {},
          "execution_count": 168
        }
      ]
    },
    {
      "cell_type": "code",
      "source": [
        "B1.pos_from(P1).express(N)"
      ],
      "metadata": {
        "colab": {
          "base_uri": "https://localhost:8080/",
          "height": 39
        },
        "id": "kEm8RhHS6kWs",
        "outputId": "aa09d1cb-699d-44b4-da57-5a318d533363"
      },
      "execution_count": 169,
      "outputs": [
        {
          "output_type": "execute_result",
          "data": {
            "text/plain": [
              "(w1 - w2 + x_0(t))*N.x + (d2 - q2(t))*N.y"
            ],
            "text/latex": "$\\displaystyle (w_{1} - w_{2} + x_{0}{\\left(t \\right)})\\mathbf{\\hat{n}_x} + (d_{2} - q_{2}{\\left(t \\right)})\\mathbf{\\hat{n}_y}$"
          },
          "metadata": {},
          "execution_count": 169
        }
      ]
    },
    {
      "cell_type": "code",
      "source": [
        "#atan2?"
      ],
      "metadata": {
        "id": "fOwhGybn4rnV"
      },
      "execution_count": 170,
      "outputs": []
    },
    {
      "cell_type": "code",
      "source": [
        "from sympy import atan2\n",
        "angle_p1p1a = atan2(B1.pos_from(P1).express(N).dot(N.x), B1.pos_from(P1).express(N).dot(N.y))\n",
        "angle_p2p2a = atan2(B2.pos_from(P2).express(N).dot(N.x), B2.pos_from(P2).express(N).dot(N.y))"
      ],
      "metadata": {
        "id": "-YikyeDzrmAK"
      },
      "execution_count": 171,
      "outputs": []
    },
    {
      "cell_type": "code",
      "source": [
        "angle_p1p1a"
      ],
      "metadata": {
        "colab": {
          "base_uri": "https://localhost:8080/",
          "height": 39
        },
        "id": "n2qnri4frn3n",
        "outputId": "d17886e1-7261-4128-eb74-81933d86181e"
      },
      "execution_count": 172,
      "outputs": [
        {
          "output_type": "execute_result",
          "data": {
            "text/plain": [
              "atan2(w1 - w2 + x_0(t), d2 - q2(t))"
            ],
            "text/latex": "$\\displaystyle \\operatorname{atan}_{2}{\\left(w_{1} - w_{2} + x_{0}{\\left(t \\right)},d_{2} - q_{2}{\\left(t \\right)} \\right)}$"
          },
          "metadata": {},
          "execution_count": 172
        }
      ]
    },
    {
      "cell_type": "code",
      "source": [
        "angle_p2p2a"
      ],
      "metadata": {
        "colab": {
          "base_uri": "https://localhost:8080/",
          "height": 39
        },
        "id": "PLBu4sJVroiF",
        "outputId": "2527a8c5-ab85-4ebf-bcf5-0ee57403f362"
      },
      "execution_count": 173,
      "outputs": [
        {
          "output_type": "execute_result",
          "data": {
            "text/plain": [
              "atan2(-w1 + w2 + x_0(t), d2 - q2(t))"
            ],
            "text/latex": "$\\displaystyle \\operatorname{atan}_{2}{\\left(- w_{1} + w_{2} + x_{0}{\\left(t \\right)},d_{2} - q_{2}{\\left(t \\right)} \\right)}$"
          },
          "metadata": {},
          "execution_count": 173
        }
      ]
    },
    {
      "cell_type": "code",
      "source": [
        "p1body = Body('p1body', masscenter=P1, frame=N_s)\n",
        "p2body = Body('p2body', masscenter=P2, frame=N_s)\n",
        "\n",
        "p1abody = Body('p1abody', masscenter=P1a, frame=N_p1)\n",
        "p2abody = Body('p2abody', masscenter=P2a, frame=N_p2)"
      ],
      "metadata": {
        "id": "-D99qIhrrpNY"
      },
      "execution_count": 174,
      "outputs": []
    },
    {
      "cell_type": "code",
      "source": [
        "## Spherical Joint\n",
        "revp1 = SphericalJoint(name='p1p1a', parent=p1body, child=p1abody, parent_point=P1, child_point=P1a, amounts=[0,0, angle_p1p1a],\n",
        "                     rot_order='XYZ')\n",
        "revp2 = SphericalJoint(name='p2p2a', parent=p2body, child=p2abody, parent_point=P2, child_point=P2a, amounts=[0,0,angle_p2p2a],\n",
        "                     rot_order='XYZ')"
      ],
      "metadata": {
        "id": "zq5m48JurzKF"
      },
      "execution_count": 175,
      "outputs": []
    },
    {
      "cell_type": "code",
      "source": [
        "N_p2.y.express(N)"
      ],
      "metadata": {
        "colab": {
          "base_uri": "https://localhost:8080/",
          "height": 70
        },
        "id": "g5rK1tou6Np6",
        "outputId": "23075d54-6850-4807-ec09-f608d6e5147c"
      },
      "execution_count": 176,
      "outputs": [
        {
          "output_type": "execute_result",
          "data": {
            "text/plain": [
              "- (-w1 + w2 + x_0(t))/sqrt((d2 - q2(t))**2 + (-w1 + w2 + x_0(t))**2)*N.x + (d2 - q2(t))/sqrt((d2 - q2(t))**2 + (-w1 + w2 + x_0(t))**2)*N.y"
            ],
            "text/latex": "$\\displaystyle -  \\frac{- w_{1} + w_{2} + x_{0}{\\left(t \\right)}}{\\sqrt{\\left(d_{2} - q_{2}{\\left(t \\right)}\\right)^{2} + \\left(- w_{1} + w_{2} + x_{0}{\\left(t \\right)}\\right)^{2}}}\\mathbf{\\hat{n}_x} + \\frac{d_{2} - q_{2}{\\left(t \\right)}}{\\sqrt{\\left(d_{2} - q_{2}{\\left(t \\right)}\\right)^{2} + \\left(- w_{1} + w_{2} + x_{0}{\\left(t \\right)}\\right)^{2}}}\\mathbf{\\hat{n}_y}$"
          },
          "metadata": {},
          "execution_count": 176
        }
      ]
    },
    {
      "cell_type": "code",
      "source": [
        "revp1.parent_interframe, revp1.child_interframe"
      ],
      "metadata": {
        "colab": {
          "base_uri": "https://localhost:8080/"
        },
        "id": "k2xDjKSer2W4",
        "outputId": "2e46a23f-cd2f-472b-f63e-8cfcf245050f"
      },
      "execution_count": 177,
      "outputs": [
        {
          "output_type": "execute_result",
          "data": {
            "text/plain": [
              "(N_s, N_p1)"
            ]
          },
          "metadata": {},
          "execution_count": 177
        }
      ]
    },
    {
      "cell_type": "code",
      "source": [
        "revp1.child_interframe.dcm(revp1.parent_interframe)"
      ],
      "metadata": {
        "colab": {
          "base_uri": "https://localhost:8080/",
          "height": 100
        },
        "id": "y-2ZJxtJsCeT",
        "outputId": "c38f3b8f-7ad0-485d-ac8e-9f23fea74d10"
      },
      "execution_count": 178,
      "outputs": [
        {
          "output_type": "execute_result",
          "data": {
            "text/plain": [
              "Matrix([\n",
              "[       (d2 - q2(t))/sqrt((d2 - q2(t))**2 + (w1 - w2 + x_0(t))**2), (w1 - w2 + x_0(t))/sqrt((d2 - q2(t))**2 + (w1 - w2 + x_0(t))**2), 0],\n",
              "[-(w1 - w2 + x_0(t))/sqrt((d2 - q2(t))**2 + (w1 - w2 + x_0(t))**2),       (d2 - q2(t))/sqrt((d2 - q2(t))**2 + (w1 - w2 + x_0(t))**2), 0],\n",
              "[                                                                0,                                                                0, 1]])"
            ],
            "text/latex": "$\\displaystyle \\left[\\begin{matrix}\\frac{d_{2} - q_{2}{\\left(t \\right)}}{\\sqrt{\\left(d_{2} - q_{2}{\\left(t \\right)}\\right)^{2} + \\left(w_{1} - w_{2} + x_{0}{\\left(t \\right)}\\right)^{2}}} & \\frac{w_{1} - w_{2} + x_{0}{\\left(t \\right)}}{\\sqrt{\\left(d_{2} - q_{2}{\\left(t \\right)}\\right)^{2} + \\left(w_{1} - w_{2} + x_{0}{\\left(t \\right)}\\right)^{2}}} & 0\\\\- \\frac{w_{1} - w_{2} + x_{0}{\\left(t \\right)}}{\\sqrt{\\left(d_{2} - q_{2}{\\left(t \\right)}\\right)^{2} + \\left(w_{1} - w_{2} + x_{0}{\\left(t \\right)}\\right)^{2}}} & \\frac{d_{2} - q_{2}{\\left(t \\right)}}{\\sqrt{\\left(d_{2} - q_{2}{\\left(t \\right)}\\right)^{2} + \\left(w_{1} - w_{2} + x_{0}{\\left(t \\right)}\\right)^{2}}} & 0\\\\0 & 0 & 1\\end{matrix}\\right]$"
          },
          "metadata": {},
          "execution_count": 178
        }
      ]
    },
    {
      "cell_type": "code",
      "source": [
        "revp2.child_interframe.dcm(revp2.parent_interframe)"
      ],
      "metadata": {
        "colab": {
          "base_uri": "https://localhost:8080/",
          "height": 100
        },
        "id": "mr1OqHXNsCIs",
        "outputId": "342f93bf-e206-4efc-e1a1-38b8f2ab5d10"
      },
      "execution_count": 179,
      "outputs": [
        {
          "output_type": "execute_result",
          "data": {
            "text/plain": [
              "Matrix([\n",
              "[        (d2 - q2(t))/sqrt((d2 - q2(t))**2 + (-w1 + w2 + x_0(t))**2), (-w1 + w2 + x_0(t))/sqrt((d2 - q2(t))**2 + (-w1 + w2 + x_0(t))**2), 0],\n",
              "[-(-w1 + w2 + x_0(t))/sqrt((d2 - q2(t))**2 + (-w1 + w2 + x_0(t))**2),        (d2 - q2(t))/sqrt((d2 - q2(t))**2 + (-w1 + w2 + x_0(t))**2), 0],\n",
              "[                                                                  0,                                                                  0, 1]])"
            ],
            "text/latex": "$\\displaystyle \\left[\\begin{matrix}\\frac{d_{2} - q_{2}{\\left(t \\right)}}{\\sqrt{\\left(d_{2} - q_{2}{\\left(t \\right)}\\right)^{2} + \\left(- w_{1} + w_{2} + x_{0}{\\left(t \\right)}\\right)^{2}}} & \\frac{- w_{1} + w_{2} + x_{0}{\\left(t \\right)}}{\\sqrt{\\left(d_{2} - q_{2}{\\left(t \\right)}\\right)^{2} + \\left(- w_{1} + w_{2} + x_{0}{\\left(t \\right)}\\right)^{2}}} & 0\\\\- \\frac{- w_{1} + w_{2} + x_{0}{\\left(t \\right)}}{\\sqrt{\\left(d_{2} - q_{2}{\\left(t \\right)}\\right)^{2} + \\left(- w_{1} + w_{2} + x_{0}{\\left(t \\right)}\\right)^{2}}} & \\frac{d_{2} - q_{2}{\\left(t \\right)}}{\\sqrt{\\left(d_{2} - q_{2}{\\left(t \\right)}\\right)^{2} + \\left(- w_{1} + w_{2} + x_{0}{\\left(t \\right)}\\right)^{2}}} & 0\\\\0 & 0 & 1\\end{matrix}\\right]$"
          },
          "metadata": {},
          "execution_count": 179
        }
      ]
    },
    {
      "cell_type": "code",
      "source": [
        "b1body = Body('b1body', masscenter=B1, frame=N_b)\n",
        "b2body = Body('b2body', masscenter=B1, frame=N_b)"
      ],
      "metadata": {
        "id": "1M5kQ0-Ar5pG"
      },
      "execution_count": 180,
      "outputs": []
    },
    {
      "cell_type": "code",
      "source": [
        "revp1ab1 = PrismaticJoint('p1ab1', parent=p1abody, child=b1body, coordinates=q3, parent_point=P1a, child_point=B1,\n",
        "                      joint_axis = -N_p1.y, speeds=u3)\n",
        "revp2ab2 = PrismaticJoint('p2ab2', parent=p2abody, child=b2body, coordinates=q3, parent_point=P2a, child_point=B2,\n",
        "                      joint_axis = -N_p2.y, speeds=u3)"
      ],
      "metadata": {
        "colab": {
          "base_uri": "https://localhost:8080/"
        },
        "id": "B5RYH8HSsIhm",
        "outputId": "c16613ec-6672-405a-fa56-5defef46950a"
      },
      "execution_count": 181,
      "outputs": [
        {
          "output_type": "stream",
          "name": "stderr",
          "text": [
            "/usr/local/lib/python3.10/dist-packages/sympy/physics/vector/frame.py:580: UserWarning: Loops are defined among the orientation of frames. This is likely not desired and may cause errors in your calculations.\n",
            "  warn('Loops are defined among the orientation of '\n"
          ]
        }
      ]
    },
    {
      "cell_type": "code",
      "source": [
        "B1.pos_from(X1), B2.pos_from(X1) # still the same, which is good"
      ],
      "metadata": {
        "colab": {
          "base_uri": "https://localhost:8080/"
        },
        "id": "CqosL2LCsOQR",
        "outputId": "72c960fe-48db-457e-ce9a-b31f196b526c"
      },
      "execution_count": 182,
      "outputs": [
        {
          "output_type": "execute_result",
          "data": {
            "text/plain": [
              "(- w2*N_b.x + d2*N_b.y, w2*N_b.x + d2*N_b.y)"
            ]
          },
          "metadata": {},
          "execution_count": 182
        }
      ]
    },
    {
      "cell_type": "code",
      "source": [
        "B1.pos_from(O).express(N) # this hasn't changed"
      ],
      "metadata": {
        "colab": {
          "base_uri": "https://localhost:8080/",
          "height": 39
        },
        "id": "ooFgQSFWshsj",
        "outputId": "64a04894-cd11-4d5e-9d7c-9fda23783149"
      },
      "execution_count": 183,
      "outputs": [
        {
          "output_type": "execute_result",
          "data": {
            "text/plain": [
              "(-w2 + q1(t) + x_0(t))*N.x + (d2 - q2(t))*N.y"
            ],
            "text/latex": "$\\displaystyle (- w_{2} + q_{1}{\\left(t \\right)} + x_{0}{\\left(t \\right)})\\mathbf{\\hat{n}_x} + (d_{2} - q_{2}{\\left(t \\right)})\\mathbf{\\hat{n}_y}$"
          },
          "metadata": {},
          "execution_count": 183
        }
      ]
    },
    {
      "cell_type": "code",
      "source": [
        "B1.pos_from(P1)"
      ],
      "metadata": {
        "colab": {
          "base_uri": "https://localhost:8080/",
          "height": 40
        },
        "id": "4TTEAM6JsQt-",
        "outputId": "c934ed0e-6d2c-4889-aabe-6caea792cafa"
      },
      "execution_count": 184,
      "outputs": [
        {
          "output_type": "execute_result",
          "data": {
            "text/plain": [
              "- q3(t)*N_p1.y"
            ],
            "text/latex": "$\\displaystyle -  q_{3}{\\left(t \\right)}\\mathbf{\\hat{n_p1}_y}$"
          },
          "metadata": {},
          "execution_count": 184
        }
      ]
    },
    {
      "cell_type": "code",
      "source": [
        "B1.pos_from(P1).express(N)"
      ],
      "metadata": {
        "colab": {
          "base_uri": "https://localhost:8080/",
          "height": 70
        },
        "id": "-ws90M1NsWLn",
        "outputId": "daa293cd-2511-41e5-b00b-ba1558ba47cb"
      },
      "execution_count": 185,
      "outputs": [
        {
          "output_type": "execute_result",
          "data": {
            "text/plain": [
              "(w1 - w2 + x_0(t))*q3(t)/sqrt((d2 - q2(t))**2 + (w1 - w2 + x_0(t))**2)*N.x - (d2 - q2(t))*q3(t)/sqrt((d2 - q2(t))**2 + (w1 - w2 + x_0(t))**2)*N.y"
            ],
            "text/latex": "$\\displaystyle \\frac{\\left(w_{1} - w_{2} + x_{0}{\\left(t \\right)}\\right) q_{3}{\\left(t \\right)}}{\\sqrt{\\left(d_{2} - q_{2}{\\left(t \\right)}\\right)^{2} + \\left(w_{1} - w_{2} + x_{0}{\\left(t \\right)}\\right)^{2}}}\\mathbf{\\hat{n}_x} -  \\frac{\\left(d_{2} - q_{2}{\\left(t \\right)}\\right) q_{3}{\\left(t \\right)}}{\\sqrt{\\left(d_{2} - q_{2}{\\left(t \\right)}\\right)^{2} + \\left(w_{1} - w_{2} + x_{0}{\\left(t \\right)}\\right)^{2}}}\\mathbf{\\hat{n}_y}$"
          },
          "metadata": {},
          "execution_count": 185
        }
      ]
    },
    {
      "cell_type": "code",
      "source": [
        "P2.pos_from(B2)"
      ],
      "metadata": {
        "colab": {
          "base_uri": "https://localhost:8080/",
          "height": 40
        },
        "id": "_WkYwhSu4eZk",
        "outputId": "41f5fae0-742b-4539-881d-764603ff465f"
      },
      "execution_count": 186,
      "outputs": [
        {
          "output_type": "execute_result",
          "data": {
            "text/plain": [
              "q3(t)*N_p2.y"
            ],
            "text/latex": "$\\displaystyle q_{3}{\\left(t \\right)}\\mathbf{\\hat{n_p2}_y}$"
          },
          "metadata": {},
          "execution_count": 186
        }
      ]
    },
    {
      "cell_type": "code",
      "source": [
        "N_p1.y.express(N)"
      ],
      "metadata": {
        "colab": {
          "base_uri": "https://localhost:8080/",
          "height": 70
        },
        "id": "rz28OBGT4-_k",
        "outputId": "bc7801a4-7b4f-43b4-fdce-c7a42c4ab57e"
      },
      "execution_count": 187,
      "outputs": [
        {
          "output_type": "execute_result",
          "data": {
            "text/plain": [
              "- (w1 - w2 + x_0(t))/sqrt((d2 - q2(t))**2 + (w1 - w2 + x_0(t))**2)*N.x + (d2 - q2(t))/sqrt((d2 - q2(t))**2 + (w1 - w2 + x_0(t))**2)*N.y"
            ],
            "text/latex": "$\\displaystyle -  \\frac{w_{1} - w_{2} + x_{0}{\\left(t \\right)}}{\\sqrt{\\left(d_{2} - q_{2}{\\left(t \\right)}\\right)^{2} + \\left(w_{1} - w_{2} + x_{0}{\\left(t \\right)}\\right)^{2}}}\\mathbf{\\hat{n}_x} + \\frac{d_{2} - q_{2}{\\left(t \\right)}}{\\sqrt{\\left(d_{2} - q_{2}{\\left(t \\right)}\\right)^{2} + \\left(w_{1} - w_{2} + x_{0}{\\left(t \\right)}\\right)^{2}}}\\mathbf{\\hat{n}_y}$"
          },
          "metadata": {},
          "execution_count": 187
        }
      ]
    },
    {
      "cell_type": "code",
      "source": [
        "T1, T2 = symbols('T1 T2')"
      ],
      "metadata": {
        "id": "Zrzu4ON83O53"
      },
      "execution_count": 188,
      "outputs": []
    },
    {
      "cell_type": "code",
      "source": [
        "dirT1 = N_p1.y.express(N)\n",
        "dirT2 = N_p2.y.express(N)"
      ],
      "metadata": {
        "id": "_Q1t68Ms3wCR"
      },
      "execution_count": 189,
      "outputs": []
    },
    {
      "cell_type": "code",
      "source": [
        "dirT1"
      ],
      "metadata": {
        "colab": {
          "base_uri": "https://localhost:8080/",
          "height": 70
        },
        "id": "IhuPa_Zn3kNE",
        "outputId": "db4abac3-d72b-4222-c517-f059eb23fb7f"
      },
      "execution_count": 190,
      "outputs": [
        {
          "output_type": "execute_result",
          "data": {
            "text/plain": [
              "- (w1 - w2 + x_0(t))/sqrt((d2 - q2(t))**2 + (w1 - w2 + x_0(t))**2)*N.x + (d2 - q2(t))/sqrt((d2 - q2(t))**2 + (w1 - w2 + x_0(t))**2)*N.y"
            ],
            "text/latex": "$\\displaystyle -  \\frac{w_{1} - w_{2} + x_{0}{\\left(t \\right)}}{\\sqrt{\\left(d_{2} - q_{2}{\\left(t \\right)}\\right)^{2} + \\left(w_{1} - w_{2} + x_{0}{\\left(t \\right)}\\right)^{2}}}\\mathbf{\\hat{n}_x} + \\frac{d_{2} - q_{2}{\\left(t \\right)}}{\\sqrt{\\left(d_{2} - q_{2}{\\left(t \\right)}\\right)^{2} + \\left(w_{1} - w_{2} + x_{0}{\\left(t \\right)}\\right)^{2}}}\\mathbf{\\hat{n}_y}$"
          },
          "metadata": {},
          "execution_count": 190
        }
      ]
    },
    {
      "cell_type": "code",
      "source": [
        "dirT2"
      ],
      "metadata": {
        "colab": {
          "base_uri": "https://localhost:8080/",
          "height": 70
        },
        "id": "z7fzu22X3PHN",
        "outputId": "ec707392-9680-4dc4-8660-51d63866565f"
      },
      "execution_count": 191,
      "outputs": [
        {
          "output_type": "execute_result",
          "data": {
            "text/plain": [
              "- (-w1 + w2 + x_0(t))/sqrt((d2 - q2(t))**2 + (-w1 + w2 + x_0(t))**2)*N.x + (d2 - q2(t))/sqrt((d2 - q2(t))**2 + (-w1 + w2 + x_0(t))**2)*N.y"
            ],
            "text/latex": "$\\displaystyle -  \\frac{- w_{1} + w_{2} + x_{0}{\\left(t \\right)}}{\\sqrt{\\left(d_{2} - q_{2}{\\left(t \\right)}\\right)^{2} + \\left(- w_{1} + w_{2} + x_{0}{\\left(t \\right)}\\right)^{2}}}\\mathbf{\\hat{n}_x} + \\frac{d_{2} - q_{2}{\\left(t \\right)}}{\\sqrt{\\left(d_{2} - q_{2}{\\left(t \\right)}\\right)^{2} + \\left(- w_{1} + w_{2} + x_{0}{\\left(t \\right)}\\right)^{2}}}\\mathbf{\\hat{n}_y}$"
          },
          "metadata": {},
          "execution_count": 191
        }
      ]
    },
    {
      "cell_type": "code",
      "source": [
        "F_B1 = T1*dirT1 - smp.Rational(1,2)*M1*g*N.y"
      ],
      "metadata": {
        "id": "VHqRyuro4a7f"
      },
      "execution_count": 192,
      "outputs": []
    },
    {
      "cell_type": "code",
      "source": [
        "F_B1"
      ],
      "metadata": {
        "colab": {
          "base_uri": "https://localhost:8080/",
          "height": 70
        },
        "id": "PtwsHK590W_b",
        "outputId": "eb2a369c-cd97-4b47-db5b-0b27880286de"
      },
      "execution_count": 193,
      "outputs": [
        {
          "output_type": "execute_result",
          "data": {
            "text/plain": [
              "- T1*(w1 - w2 + x_0(t))/sqrt((d2 - q2(t))**2 + (w1 - w2 + x_0(t))**2)*N.x + (-M1*g/2 + T1*(d2 - q2(t))/sqrt((d2 - q2(t))**2 + (w1 - w2 + x_0(t))**2))*N.y"
            ],
            "text/latex": "$\\displaystyle -  \\frac{T_{1} \\left(w_{1} - w_{2} + x_{0}{\\left(t \\right)}\\right)}{\\sqrt{\\left(d_{2} - q_{2}{\\left(t \\right)}\\right)^{2} + \\left(w_{1} - w_{2} + x_{0}{\\left(t \\right)}\\right)^{2}}}\\mathbf{\\hat{n}_x} + (- \\frac{M_{1} g}{2} + \\frac{T_{1} \\left(d_{2} - q_{2}{\\left(t \\right)}\\right)}{\\sqrt{\\left(d_{2} - q_{2}{\\left(t \\right)}\\right)^{2} + \\left(w_{1} - w_{2} + x_{0}{\\left(t \\right)}\\right)^{2}}})\\mathbf{\\hat{n}_y}$"
          },
          "metadata": {},
          "execution_count": 193
        }
      ]
    },
    {
      "cell_type": "code",
      "source": [
        "F_B2 = T2*dirT2 - smp.Rational(1,2)*M1*g*N.y"
      ],
      "metadata": {
        "id": "xMCe-E2a0oel"
      },
      "execution_count": 194,
      "outputs": []
    },
    {
      "cell_type": "code",
      "source": [
        "F_B2"
      ],
      "metadata": {
        "colab": {
          "base_uri": "https://localhost:8080/",
          "height": 70
        },
        "id": "zyhFMsw502_D",
        "outputId": "bbfd9828-4cc8-4f65-959b-6f5a35e4d2fd"
      },
      "execution_count": 195,
      "outputs": [
        {
          "output_type": "execute_result",
          "data": {
            "text/plain": [
              "- T2*(-w1 + w2 + x_0(t))/sqrt((d2 - q2(t))**2 + (-w1 + w2 + x_0(t))**2)*N.x + (-M1*g/2 + T2*(d2 - q2(t))/sqrt((d2 - q2(t))**2 + (-w1 + w2 + x_0(t))**2))*N.y"
            ],
            "text/latex": "$\\displaystyle -  \\frac{T_{2} \\left(- w_{1} + w_{2} + x_{0}{\\left(t \\right)}\\right)}{\\sqrt{\\left(d_{2} - q_{2}{\\left(t \\right)}\\right)^{2} + \\left(- w_{1} + w_{2} + x_{0}{\\left(t \\right)}\\right)^{2}}}\\mathbf{\\hat{n}_x} + (- \\frac{M_{1} g}{2} + \\frac{T_{2} \\left(d_{2} - q_{2}{\\left(t \\right)}\\right)}{\\sqrt{\\left(d_{2} - q_{2}{\\left(t \\right)}\\right)^{2} + \\left(- w_{1} + w_{2} + x_{0}{\\left(t \\right)}\\right)^{2}}})\\mathbf{\\hat{n}_y}$"
          },
          "metadata": {},
          "execution_count": 195
        }
      ]
    },
    {
      "cell_type": "code",
      "source": [
        "IB = inertia(N_b, ixx1, iyy1, izz1)\n",
        "body1 = Body('body1', masscenter=X1, mass=M1, frame=N_b, central_inertia=IB)"
      ],
      "metadata": {
        "id": "wST7tuR703hi"
      },
      "execution_count": 196,
      "outputs": []
    },
    {
      "cell_type": "code",
      "source": [
        "body1.frame.set_ang_vel(N, omega_z1*N.z)\n",
        "X1.set_vel(N, u1*N.x + u2*N.y)"
      ],
      "metadata": {
        "id": "ajUo7otN2aIn"
      },
      "execution_count": 197,
      "outputs": []
    },
    {
      "cell_type": "code",
      "source": [
        "body1.apply_force(F_B1, point=B1)\n",
        "body1.apply_force(F_B2, point=B2)\n",
        "#body1.apply_force(-M1*g*N.y, point=X1)"
      ],
      "metadata": {
        "id": "4Bt3NfsY2v26"
      },
      "execution_count": 198,
      "outputs": []
    },
    {
      "cell_type": "code",
      "source": [
        "body1.loads"
      ],
      "metadata": {
        "colab": {
          "base_uri": "https://localhost:8080/"
        },
        "id": "STAtHvyk2-ds",
        "outputId": "2a0ab9fe-b8f4-407f-8e88-93fd5e3ba607"
      },
      "execution_count": 199,
      "outputs": [
        {
          "output_type": "execute_result",
          "data": {
            "text/plain": [
              "[(B1,\n",
              "  - T1*(w1 - w2 + x_0(t))/sqrt((d2 - q2(t))**2 + (w1 - w2 + x_0(t))**2)*N.x + (-M1*g/2 + T1*(d2 - q2(t))/sqrt((d2 - q2(t))**2 + (w1 - w2 + x_0(t))**2))*N.y),\n",
              " (B2,\n",
              "  - T2*(-w1 + w2 + x_0(t))/sqrt((d2 - q2(t))**2 + (-w1 + w2 + x_0(t))**2)*N.x + (-M1*g/2 + T2*(d2 - q2(t))/sqrt((d2 - q2(t))**2 + (-w1 + w2 + x_0(t))**2))*N.y)]"
            ]
          },
          "metadata": {},
          "execution_count": 199
        }
      ]
    },
    {
      "cell_type": "code",
      "source": [
        "kane = me.KanesMethod(N, q_ind=[q1, q2],\n",
        "\n",
        "                      u_ind = [u1, u2],\n",
        "\n",
        "                      kd_eqs=[\n",
        "                               u1 - q1.diff(t), u2 + q2.diff(t),\n",
        "                              ])\n",
        "\n",
        "kaneeq = kane.kanes_equations([body1], body1.loads)"
      ],
      "metadata": {
        "colab": {
          "base_uri": "https://localhost:8080/"
        },
        "id": "z38OPvuu2_c4",
        "outputId": "d525addd-5fa8-45db-f672-697d01acfc5a"
      },
      "execution_count": 200,
      "outputs": [
        {
          "output_type": "stream",
          "name": "stderr",
          "text": [
            "/usr/local/lib/python3.10/dist-packages/sympy/physics/vector/point.py:574: UserWarning: Velocity automatically calculated based on point X1 but it is also possible from points(s):[X1, X1]. Velocities from these points are not necessarily the same. This may cause errors in your calculations.\n",
            "  warn('Velocity automatically calculated based on point ' +\n",
            "/usr/local/lib/python3.10/dist-packages/sympy/physics/vector/point.py:574: UserWarning: Velocity automatically calculated based on point X1 but it is also possible from points(s):[X1, B1]. Velocities from these points are not necessarily the same. This may cause errors in your calculations.\n",
            "  warn('Velocity automatically calculated based on point ' +\n"
          ]
        }
      ]
    },
    {
      "cell_type": "code",
      "source": [
        "kaneeq[1]"
      ],
      "metadata": {
        "colab": {
          "base_uri": "https://localhost:8080/",
          "height": 59
        },
        "id": "NrgZFN323Pn6",
        "outputId": "8139aa9d-d294-422e-bdd6-c5b6e5da35f5"
      },
      "execution_count": 201,
      "outputs": [
        {
          "output_type": "execute_result",
          "data": {
            "text/plain": [
              "Matrix([\n",
              "[-M1*Derivative(u1(t), t)],\n",
              "[-M1*Derivative(u2(t), t)]])"
            ],
            "text/latex": "$\\displaystyle \\left[\\begin{matrix}- M_{1} \\frac{d}{d t} u_{1}{\\left(t \\right)}\\\\- M_{1} \\frac{d}{d t} u_{2}{\\left(t \\right)}\\end{matrix}\\right]$"
          },
          "metadata": {},
          "execution_count": 201
        }
      ]
    },
    {
      "cell_type": "code",
      "source": [
        "kaneeq[0]"
      ],
      "metadata": {
        "colab": {
          "base_uri": "https://localhost:8080/",
          "height": 79
        },
        "id": "9aXWbydI3WL_",
        "outputId": "e9780461-d06b-4aa2-b4d1-e53c56e99ebc"
      },
      "execution_count": 202,
      "outputs": [
        {
          "output_type": "execute_result",
          "data": {
            "text/plain": [
              "Matrix([\n",
              "[-T1*(w1 - w2 + x_0(t))/sqrt((d2 - q2(t))**2 + (w1 - w2 + x_0(t))**2) - T2*(-w1 + w2 + x_0(t))/sqrt((d2 - q2(t))**2 + (-w1 + w2 + x_0(t))**2)],\n",
              "[      -M1*g + T1*(d2 - q2(t))/sqrt((d2 - q2(t))**2 + (w1 - w2 + x_0(t))**2) + T2*(d2 - q2(t))/sqrt((d2 - q2(t))**2 + (-w1 + w2 + x_0(t))**2)]])"
            ],
            "text/latex": "$\\displaystyle \\left[\\begin{matrix}- \\frac{T_{1} \\left(w_{1} - w_{2} + x_{0}{\\left(t \\right)}\\right)}{\\sqrt{\\left(d_{2} - q_{2}{\\left(t \\right)}\\right)^{2} + \\left(w_{1} - w_{2} + x_{0}{\\left(t \\right)}\\right)^{2}}} - \\frac{T_{2} \\left(- w_{1} + w_{2} + x_{0}{\\left(t \\right)}\\right)}{\\sqrt{\\left(d_{2} - q_{2}{\\left(t \\right)}\\right)^{2} + \\left(- w_{1} + w_{2} + x_{0}{\\left(t \\right)}\\right)^{2}}}\\\\- M_{1} g + \\frac{T_{1} \\left(d_{2} - q_{2}{\\left(t \\right)}\\right)}{\\sqrt{\\left(d_{2} - q_{2}{\\left(t \\right)}\\right)^{2} + \\left(w_{1} - w_{2} + x_{0}{\\left(t \\right)}\\right)^{2}}} + \\frac{T_{2} \\left(d_{2} - q_{2}{\\left(t \\right)}\\right)}{\\sqrt{\\left(d_{2} - q_{2}{\\left(t \\right)}\\right)^{2} + \\left(- w_{1} + w_{2} + x_{0}{\\left(t \\right)}\\right)^{2}}}\\end{matrix}\\right]$"
          },
          "metadata": {},
          "execution_count": 202
        }
      ]
    },
    {
      "cell_type": "code",
      "source": [
        "kanel = kane.to_linearizer()"
      ],
      "metadata": {
        "id": "oAKErOE3-588"
      },
      "execution_count": 203,
      "outputs": []
    },
    {
      "cell_type": "code",
      "source": [
        "A, B = kanel.linearize(A_and_B=True, op_point={ x_0:0})"
      ],
      "metadata": {
        "id": "f-8XjAuK3YBk"
      },
      "execution_count": 217,
      "outputs": []
    },
    {
      "cell_type": "code",
      "source": [
        "A"
      ],
      "metadata": {
        "colab": {
          "base_uri": "https://localhost:8080/",
          "height": 130
        },
        "id": "WyOtwwF7_Brj",
        "outputId": "2ca3ff5a-3486-4e58-cdf9-922b42506385"
      },
      "execution_count": 234,
      "outputs": [
        {
          "output_type": "execute_result",
          "data": {
            "text/plain": [
              "Matrix([\n",
              "[0,                                                                              0, 1,  0],\n",
              "[0,                                                                              0, 0, -1],\n",
              "[0, (-T1 + T2)*(d2 - q2(t))*(w1 - w2)/(M1*((d2 - q2(t))**2 + (w1 - w2)**2)**(3/2)), 0,  0],\n",
              "[0,           -(T1 + T2)*(w1 - w2)**2/(M1*((d2 - q2(t))**2 + (w1 - w2)**2)**(3/2)), 0,  0]])"
            ],
            "text/latex": "$\\displaystyle \\left[\\begin{matrix}0 & 0 & 1 & 0\\\\0 & 0 & 0 & -1\\\\0 & \\frac{\\left(- T_{1} + T_{2}\\right) \\left(d_{2} - q_{2}{\\left(t \\right)}\\right) \\left(w_{1} - w_{2}\\right)}{M_{1} \\left(\\left(d_{2} - q_{2}{\\left(t \\right)}\\right)^{2} + \\left(w_{1} - w_{2}\\right)^{2}\\right)^{\\frac{3}{2}}} & 0 & 0\\\\0 & - \\frac{\\left(T_{1} + T_{2}\\right) \\left(w_{1} - w_{2}\\right)^{2}}{M_{1} \\left(\\left(d_{2} - q_{2}{\\left(t \\right)}\\right)^{2} + \\left(w_{1} - w_{2}\\right)^{2}\\right)^{\\frac{3}{2}}} & 0 & 0\\end{matrix}\\right]$"
          },
          "metadata": {},
          "execution_count": 234
        }
      ]
    },
    {
      "cell_type": "code",
      "source": [
        "B"
      ],
      "metadata": {
        "colab": {
          "base_uri": "https://localhost:8080/",
          "height": 130
        },
        "id": "51EIDwb-_DGu",
        "outputId": "b243851c-7151-497b-b303-c076af58d5d1"
      },
      "execution_count": 232,
      "outputs": [
        {
          "output_type": "execute_result",
          "data": {
            "text/plain": [
              "Matrix([\n",
              "[                                                                             0],\n",
              "[                                                                             0],\n",
              "[       -(T1 + T2)*(d2 - q2(t))**2/(M1*((d2 - q2(t))**2 + (w1 - w2)**2)**(3/2))],\n",
              "[(-T1 + T2)*(d2 - q2(t))*(w1 - w2)/(M1*((d2 - q2(t))**2 + (w1 - w2)**2)**(3/2))]])"
            ],
            "text/latex": "$\\displaystyle \\left[\\begin{matrix}0\\\\0\\\\- \\frac{\\left(T_{1} + T_{2}\\right) \\left(d_{2} - q_{2}{\\left(t \\right)}\\right)^{2}}{M_{1} \\left(\\left(d_{2} - q_{2}{\\left(t \\right)}\\right)^{2} + \\left(w_{1} - w_{2}\\right)^{2}\\right)^{\\frac{3}{2}}}\\\\\\frac{\\left(- T_{1} + T_{2}\\right) \\left(d_{2} - q_{2}{\\left(t \\right)}\\right) \\left(w_{1} - w_{2}\\right)}{M_{1} \\left(\\left(d_{2} - q_{2}{\\left(t \\right)}\\right)^{2} + \\left(w_{1} - w_{2}\\right)^{2}\\right)^{\\frac{3}{2}}}\\end{matrix}\\right]$"
          },
          "metadata": {},
          "execution_count": 232
        }
      ]
    },
    {
      "cell_type": "code",
      "source": [
        "kane.q"
      ],
      "metadata": {
        "colab": {
          "base_uri": "https://localhost:8080/",
          "height": 58
        },
        "id": "F1OM2PdanxUK",
        "outputId": "0b7788d0-78a2-4691-9b8d-67cc1e1e53d8"
      },
      "execution_count": 220,
      "outputs": [
        {
          "output_type": "execute_result",
          "data": {
            "text/plain": [
              "Matrix([\n",
              "[q1(t)],\n",
              "[q2(t)]])"
            ],
            "text/latex": "$\\displaystyle \\left[\\begin{matrix}q_{1}{\\left(t \\right)}\\\\q_{2}{\\left(t \\right)}\\end{matrix}\\right]$"
          },
          "metadata": {},
          "execution_count": 220
        }
      ]
    },
    {
      "cell_type": "code",
      "source": [
        "kanel.r"
      ],
      "metadata": {
        "colab": {
          "base_uri": "https://localhost:8080/",
          "height": 39
        },
        "id": "w7XBjN73nx1_",
        "outputId": "b1b00bd7-da94-4a06-85d0-8b868c7d1368"
      },
      "execution_count": 221,
      "outputs": [
        {
          "output_type": "execute_result",
          "data": {
            "text/plain": [
              "Matrix([[x_0(t)]])"
            ],
            "text/latex": "$\\displaystyle \\left[\\begin{matrix}x_{0}{\\left(t \\right)}\\end{matrix}\\right]$"
          },
          "metadata": {},
          "execution_count": 221
        }
      ]
    },
    {
      "cell_type": "code",
      "source": [
        "kaneeq[0][0].diff(q2).subs({x_0:0}).simplify()"
      ],
      "metadata": {
        "colab": {
          "base_uri": "https://localhost:8080/",
          "height": 76
        },
        "id": "ZYQV8PDcnzbP",
        "outputId": "81437b1c-6408-47e5-b8b8-1ca27eadaa30"
      },
      "execution_count": 236,
      "outputs": [
        {
          "output_type": "execute_result",
          "data": {
            "text/plain": [
              "(-T1 + T2)*(d2 - q2(t))*(w1 - w2)/((d2 - q2(t))**2 + (w1 - w2)**2)**(3/2)"
            ],
            "text/latex": "$\\displaystyle \\frac{\\left(- T_{1} + T_{2}\\right) \\left(d_{2} - q_{2}{\\left(t \\right)}\\right) \\left(w_{1} - w_{2}\\right)}{\\left(\\left(d_{2} - q_{2}{\\left(t \\right)}\\right)^{2} + \\left(w_{1} - w_{2}\\right)^{2}\\right)^{\\frac{3}{2}}}$"
          },
          "metadata": {},
          "execution_count": 236
        }
      ]
    },
    {
      "cell_type": "code",
      "source": [
        "kaneeq[0][1].diff(q2).subs({x_0:0}).simplify()"
      ],
      "metadata": {
        "colab": {
          "base_uri": "https://localhost:8080/",
          "height": 79
        },
        "id": "do1jntXguER5",
        "outputId": "6f6f5a71-c2eb-4c1c-e1a3-3e54b0634e9c"
      },
      "execution_count": 235,
      "outputs": [
        {
          "output_type": "execute_result",
          "data": {
            "text/plain": [
              "-(T1 + T2)*(w1 - w2)**2/((d2 - q2(t))**2 + (w1 - w2)**2)**(3/2)"
            ],
            "text/latex": "$\\displaystyle - \\frac{\\left(T_{1} + T_{2}\\right) \\left(w_{1} - w_{2}\\right)^{2}}{\\left(\\left(d_{2} - q_{2}{\\left(t \\right)}\\right)^{2} + \\left(w_{1} - w_{2}\\right)^{2}\\right)^{\\frac{3}{2}}}$"
          },
          "metadata": {},
          "execution_count": 235
        }
      ]
    },
    {
      "cell_type": "code",
      "source": [
        "kaneeq[0][0].diff(x_0).subs({x_0:0}).simplify()"
      ],
      "metadata": {
        "colab": {
          "base_uri": "https://localhost:8080/",
          "height": 79
        },
        "id": "q9ZBQg2UuNpc",
        "outputId": "3fb021fb-8f40-4631-b32f-d40afba461be"
      },
      "execution_count": 237,
      "outputs": [
        {
          "output_type": "execute_result",
          "data": {
            "text/plain": [
              "-(T1 + T2)*(d2 - q2(t))**2/((d2 - q2(t))**2 + (w1 - w2)**2)**(3/2)"
            ],
            "text/latex": "$\\displaystyle - \\frac{\\left(T_{1} + T_{2}\\right) \\left(d_{2} - q_{2}{\\left(t \\right)}\\right)^{2}}{\\left(\\left(d_{2} - q_{2}{\\left(t \\right)}\\right)^{2} + \\left(w_{1} - w_{2}\\right)^{2}\\right)^{\\frac{3}{2}}}$"
          },
          "metadata": {},
          "execution_count": 237
        }
      ]
    },
    {
      "cell_type": "code",
      "source": [
        "kaneeq[0][1].diff(x_0).subs({x_0:0}).simplify()"
      ],
      "metadata": {
        "colab": {
          "base_uri": "https://localhost:8080/",
          "height": 76
        },
        "id": "rZwNjOEVuRuN",
        "outputId": "b8123e49-56e5-44fe-c53e-53c4f33dcee6"
      },
      "execution_count": 238,
      "outputs": [
        {
          "output_type": "execute_result",
          "data": {
            "text/plain": [
              "(-T1 + T2)*(d2 - q2(t))*(w1 - w2)/((d2 - q2(t))**2 + (w1 - w2)**2)**(3/2)"
            ],
            "text/latex": "$\\displaystyle \\frac{\\left(- T_{1} + T_{2}\\right) \\left(d_{2} - q_{2}{\\left(t \\right)}\\right) \\left(w_{1} - w_{2}\\right)}{\\left(\\left(d_{2} - q_{2}{\\left(t \\right)}\\right)^{2} + \\left(w_{1} - w_{2}\\right)^{2}\\right)^{\\frac{3}{2}}}$"
          },
          "metadata": {},
          "execution_count": 238
        }
      ]
    },
    {
      "cell_type": "code",
      "source": [],
      "metadata": {
        "id": "lGMnBe1XuUI4"
      },
      "execution_count": null,
      "outputs": []
    },
    {
      "cell_type": "code",
      "source": [],
      "metadata": {
        "id": "sB30GUfbB5IG"
      },
      "execution_count": null,
      "outputs": []
    },
    {
      "cell_type": "code",
      "source": [
        "O = Point('O')\n",
        "P1 = Point('P1')\n",
        "P2 = Point('P2')\n",
        "P3 = Point('P3')\n",
        "Xc = Point('Xc')\n",
        "\n",
        "q1, q2, q3, q4, q5, q6 = dynamicsymbols('q1, q2, q3, q4, q5, q6', real=True, positive=True)\n",
        "u1, u2, u3, u4, u5, u6 = dynamicsymbols('u1, u2, u3, u4, u5, u6')\n",
        "alpha_z1, beta_z1 = dynamicsymbols('alpha_z1 beta_z1')\n",
        "alpha_x1, beta_x1 = dynamicsymbols('alpha_x1 beta_x1')\n",
        "ixx1, iyy1, izz1 = symbols('ixx1 iyy1 izz1')\n",
        "M,g = symbols('M g')\n",
        "omega_z1 = dynamicsymbols('omega_z1')\n",
        "omega_x1 = dynamicsymbols('omega_x1')\n",
        "L = dynamicsymbols('L')\n",
        "\n",
        "N = ReferenceFrame('N')\n",
        "Na = ReferenceFrame('Na')\n",
        "\n",
        "Na.orient_axis(N, 0, N.z)\n",
        "\n",
        "\n",
        "P1.set_vel(frame=N, value=0)\n",
        "Xc.set_pos(P1, q2*N.z - q3*N.y)\n",
        "Xc.set_vel(N, u2*N.z + u3*N.y)\n",
        "\n",
        "p2body = Body('p2body', masscenter=P2, frame=Na)\n",
        "\n",
        "body_inertia = inertia(Na, ixx1, 0, 0)\n",
        "block = Body('block', mass=M, masscenter=Xc, frame=Na, central_inertia=body_inertia)\n",
        "block.frame.set_ang_vel(N, omega_x1*N.x)\n",
        "\n",
        "#print(block.ang_vel_in(p2body.frame))\n",
        "\n",
        "rev2p = PlanarJoint('J2', parent=p2body, child=block, parent_point=P2, child_point=Xc, rotation_coordinate=[alpha_x1], rotation_speed=[omega_x1], planar_coordinates=[q4, q5], planar_speeds=[u4, u5],\n",
        "                   child_interframe=-Na.y)\n",
        "Na.orient_axis(N, alpha_x1, N.x)\n",
        "\n",
        "print(Xc.pos_from(P2))\n",
        "\n",
        "block.apply_force(-M*g*N.y, point=Xc, reaction_body=p2body, reaction_point=P2)\n",
        "\n",
        "\n",
        "method = JointsMethod(block, rev2p)\n",
        "\n",
        "#method.kdes\n",
        "print(block.ang_vel_in(p2body.frame))\n",
        "\n",
        "method.form_eoms()\n"
      ],
      "metadata": {
        "colab": {
          "base_uri": "https://localhost:8080/",
          "height": 115
        },
        "id": "vReGTPbCB5UL",
        "outputId": "23d55dc1-be3a-438e-f1ac-e3d52ca473b3"
      },
      "execution_count": 779,
      "outputs": [
        {
          "output_type": "stream",
          "name": "stdout",
          "text": [
            "q4(t)*Na.y + q5(t)*Na.z\n",
            "0\n"
          ]
        },
        {
          "output_type": "execute_result",
          "data": {
            "text/plain": [
              "Matrix([\n",
              "[                                             0],\n",
              "[-M*g*cos(alpha_x1(t)) - M*Derivative(u4(t), t)],\n",
              "[ M*g*sin(alpha_x1(t)) - M*Derivative(u5(t), t)]])"
            ],
            "text/latex": "$\\displaystyle \\left[\\begin{matrix}0\\\\- M g \\cos{\\left(\\alpha_{x1}{\\left(t \\right)} \\right)} - M \\frac{d}{d t} u_{4}{\\left(t \\right)}\\\\M g \\sin{\\left(\\alpha_{x1}{\\left(t \\right)} \\right)} - M \\frac{d}{d t} u_{5}{\\left(t \\right)}\\end{matrix}\\right]$"
          },
          "metadata": {},
          "execution_count": 779
        }
      ]
    },
    {
      "cell_type": "code",
      "source": [
        "from sympy import zeros, symbols\n",
        "from sympy import symbols, Matrix, solve, simplify\n",
        "from sympy import Matrix\n",
        "from sympy.physics.mechanics import Body, PinJoint, SphericalJoint, PlanarJoint, PrismaticJoint, JointsMethod, inertia\n",
        "from sympy.physics.mechanics import dynamicsymbols\n",
        "from sympy import Symbol\n",
        "from sympy.physics.mechanics import dynamicsymbols, ReferenceFrame, outer\n",
        "from sympy.physics.mechanics import ReferenceFrame, Point, RigidBody\n",
        "from sympy.physics.mechanics import kinetic_energy, potential_energy, Point, Particle\n",
        "\n",
        "import sympy as smp\n",
        "import numpy as np\n",
        "import matplotlib.pyplot as plt\n",
        "import sympy.physics.mechanics as me\n",
        "\n",
        "\n",
        "O = Point('O')\n",
        "P1 = Point('P1')\n",
        "P2 = Point('P2')\n",
        "P3 = Point('P3')\n",
        "Xc = Point('Xc')\n",
        "Xd = Point('Xd')\n",
        "\n",
        "q1, q2, q3, q4, q5, q6 = dynamicsymbols('q1, q2, q3, q4, q5, q6', real=True, positive=True)\n",
        "u1, u2, u3, u4, u5, u6 = dynamicsymbols('u1, u2, u3, u4, u5, u6')\n",
        "alpha_z1, beta_z1 = dynamicsymbols('alpha_z1 beta_z1')\n",
        "alpha_x1, beta_x1 = dynamicsymbols('alpha_x1 beta_x1')\n",
        "alpha_y1, beta_y1 = dynamicsymbols('alpha_y1 beta_y1')\n",
        "x_0 = dynamicsymbols('x_0')\n",
        "ixx1, iyy1, izz1 = symbols('ixx1 iyy1 izz1')\n",
        "M,g,t = symbols('M g t')\n",
        "omega_z1 = dynamicsymbols('omega_z1')\n",
        "omega_x1 = dynamicsymbols('omega_x1')\n",
        "omega_y1 = dynamicsymbols('omega_y1')\n",
        "L = dynamicsymbols('L')\n",
        "T1 = symbols('T1')\n",
        "k1 = symbols('k1')\n",
        "delta_l1 = symbols('delta_l1')\n",
        "\n",
        "N = ReferenceFrame('N')\n",
        "Na = ReferenceFrame('Na')\n",
        "\n",
        "Na.orient_axis(N, 0, N.z)\n",
        "\n",
        "\n",
        "P1.set_vel(frame=N, value=0)\n",
        "Xc.set_pos(P1, q2*N.z - q3*N.y)\n",
        "Xc.set_vel(N, u2*N.z + u3*N.y)\n",
        "\n",
        "Xd.set_pos(Xc, -q2*N.z + q3*N.y)\n",
        "\n",
        "\n",
        "\n",
        "ceiling = Body('c', masscenter=P1, frame=N)\n",
        "p2body = Body('p2body', masscenter=P2, frame=Na)\n",
        "\n",
        "body_inertia = inertia(Na, ixx1, 0, 0)\n",
        "block = Body('block', mass=M, masscenter=Xc, frame=Na, central_inertia=body_inertia)\n",
        "#block.frame.set_ang_vel(N, omega_x1*N.x)\n",
        "\n",
        "from sympy import atan2\n",
        "angle_spring = atan2(q2, q3)\n",
        "\n",
        "rev1 = SphericalJoint(name='p1p2', parent=ceiling, child=p2body, parent_point=P1, child_point=P2, amounts=[angle_spring,0,0], coordinates=[alpha_x1,alpha_y1, alpha_z1],\n",
        "                      speeds=[omega_x1, omega_y1, omega_z1],\n",
        "                     rot_order='XYZ')\n",
        "\n",
        "#Xc.pos_from(P2)\n",
        "\n",
        "rev2 = PrismaticJoint('J2', parent=p2body, child=block, parent_point=P2, child_point=Xc, coordinates=q4, speeds=u4,\n",
        "                      joint_axis=-Na.y)\n",
        "\n",
        "Na.orient_axis(N, angle_spring, N.x)\n",
        "\n",
        "Xc.pos_from(P2)\n",
        "T1 = k1*delta_l1\n",
        "T1 = T1.subs({delta_l1: q4 - x_0})\n",
        "\n",
        "block.frame.set_ang_vel(N, omega_x1*N.x)\n",
        "\n",
        "\n",
        "\n",
        "block.apply_force(-M*g*N.y + T1*Na.y, point=Xc, reaction_body=p2body, reaction_point=P2)\n",
        "\n",
        "#ceiling.apply_force(-M*g*N.y, point=P1)\n",
        "#block.apply_force(-M*g*N.y + T1*Na.y, point=Xc, reaction_body=ceiling, reaction_point=P1)\n",
        "#p2body.apply_force(-T1*Na.y, point=P2, reaction_body=block, reaction_point=Xc)\n",
        "\n",
        "#p2body.apply_force(-T1*Na.y - M*g*N.y, point=P2, reaction_body=ceiling, reaction_point=P1)\n",
        "#block.apply_force(-M*g*N.y, point=Xc, reaction_body=ceiling, reaction_point=P1)\n",
        "#ceiling.apply_force(M*g*N.y, point=P1, reaction_body=block, reaction_point=Xc)\n",
        "\n",
        "# block.apply_force(-M*g*N.y, point=Xc, reaction_body=ceiling, reaction_point=P1)\n",
        "# p2body.apply_force(-T1*Na.y, point=P2, reaction_body=block, reaction_point=Xc)\n",
        "\n",
        "method = JointsMethod(block, rev2)\n",
        "method.form_eoms()"
      ],
      "metadata": {
        "colab": {
          "base_uri": "https://localhost:8080/",
          "height": 60
        },
        "id": "7Om9MHjbpjOe",
        "outputId": "51c01ceb-6b56-486a-a897-d90ec324358a"
      },
      "execution_count": 131,
      "outputs": [
        {
          "output_type": "execute_result",
          "data": {
            "text/plain": [
              "Matrix([[M*g/sqrt(q2(t)**2/q3(t)**2 + 1) - M*Derivative(u4(t), t) - k1*(q4(t) - x_0(t))]])"
            ],
            "text/latex": "$\\displaystyle \\left[\\begin{matrix}\\frac{M g}{\\sqrt{\\frac{q_{2}^{2}{\\left(t \\right)}}{q_{3}^{2}{\\left(t \\right)}} + 1}} - M \\frac{d}{d t} u_{4}{\\left(t \\right)} - k_{1} \\left(q_{4}{\\left(t \\right)} - x_{0}{\\left(t \\right)}\\right)\\end{matrix}\\right]$"
          },
          "metadata": {},
          "execution_count": 131
        }
      ]
    },
    {
      "cell_type": "code",
      "source": [],
      "metadata": {
        "colab": {
          "base_uri": "https://localhost:8080/",
          "height": 39
        },
        "id": "b_cVKrmXiw7Y",
        "outputId": "cb76f582-b596-49a6-dfc9-8ba77a54f2ed"
      },
      "execution_count": 99,
      "outputs": [
        {
          "output_type": "execute_result",
          "data": {
            "text/plain": [
              "omega_x1(t)*N.x"
            ],
            "text/latex": "$\\displaystyle \\omega_{x1}{\\left(t \\right)}\\mathbf{\\hat{n}_x}$"
          },
          "metadata": {},
          "execution_count": 99
        }
      ]
    },
    {
      "cell_type": "code",
      "source": [
        "method.q"
      ],
      "metadata": {
        "colab": {
          "base_uri": "https://localhost:8080/",
          "height": 98
        },
        "id": "9hA1RRppjGKS",
        "outputId": "ff1cc555-e920-4ab4-802f-f871b71a972e"
      },
      "execution_count": 329,
      "outputs": [
        {
          "output_type": "execute_result",
          "data": {
            "text/plain": [
              "Matrix([\n",
              "[alpha_x1(t)],\n",
              "[alpha_y1(t)],\n",
              "[alpha_z1(t)],\n",
              "[      q4(t)]])"
            ],
            "text/latex": "$\\displaystyle \\left[\\begin{matrix}\\alpha_{x1}{\\left(t \\right)}\\\\\\alpha_{y1}{\\left(t \\right)}\\\\\\alpha_{z1}{\\left(t \\right)}\\\\q_{4}{\\left(t \\right)}\\end{matrix}\\right]$"
          },
          "metadata": {},
          "execution_count": 329
        }
      ]
    },
    {
      "cell_type": "code",
      "source": [
        "method.forcing"
      ],
      "metadata": {
        "colab": {
          "base_uri": "https://localhost:8080/",
          "height": 39
        },
        "id": "lsEkUmXsh_l9",
        "outputId": "6dd54ed7-b40a-42eb-902b-5658ec89a3ef"
      },
      "execution_count": 116,
      "outputs": [
        {
          "output_type": "execute_result",
          "data": {
            "text/plain": [
              "Matrix([[M*g*cos(alpha_x1(t)) - k1*(q4(t) - x_0(t))]])"
            ],
            "text/latex": "$\\displaystyle \\left[\\begin{matrix}M g \\cos{\\left(\\alpha_{x1}{\\left(t \\right)} \\right)} - k_{1} \\left(q_{4}{\\left(t \\right)} - x_{0}{\\left(t \\right)}\\right)\\end{matrix}\\right]$"
          },
          "metadata": {},
          "execution_count": 116
        }
      ]
    },
    {
      "cell_type": "code",
      "source": [
        "rev1.kdes"
      ],
      "metadata": {
        "colab": {
          "base_uri": "https://localhost:8080/",
          "height": 80
        },
        "id": "4SK8AfkYg5dR",
        "outputId": "5bff8405-5cfb-476c-da61-e528292a5f2f"
      },
      "execution_count": 431,
      "outputs": [
        {
          "output_type": "execute_result",
          "data": {
            "text/plain": [
              "Matrix([\n",
              "[omega_x1(t) - Derivative(alpha_x1(t), t)],\n",
              "[omega_y1(t) - Derivative(alpha_y1(t), t)],\n",
              "[omega_z1(t) - Derivative(alpha_z1(t), t)]])"
            ],
            "text/latex": "$\\displaystyle \\left[\\begin{matrix}\\omega_{x1}{\\left(t \\right)} - \\frac{d}{d t} \\alpha_{x1}{\\left(t \\right)}\\\\\\omega_{y1}{\\left(t \\right)} - \\frac{d}{d t} \\alpha_{y1}{\\left(t \\right)}\\\\\\omega_{z1}{\\left(t \\right)} - \\frac{d}{d t} \\alpha_{z1}{\\left(t \\right)}\\end{matrix}\\right]$"
          },
          "metadata": {},
          "execution_count": 431
        }
      ]
    },
    {
      "cell_type": "code",
      "source": [
        "method.bodies, method.frame"
      ],
      "metadata": {
        "colab": {
          "base_uri": "https://localhost:8080/"
        },
        "id": "nWhgmMI-zPHy",
        "outputId": "3782332e-7772-4f59-8641-accaf0075c38"
      },
      "execution_count": 432,
      "outputs": [
        {
          "output_type": "execute_result",
          "data": {
            "text/plain": [
              "([p2body, c, block], Na)"
            ]
          },
          "metadata": {},
          "execution_count": 432
        }
      ]
    },
    {
      "cell_type": "code",
      "source": [
        "method.mass_matrix"
      ],
      "metadata": {
        "colab": {
          "base_uri": "https://localhost:8080/",
          "height": 98
        },
        "id": "64hrDwuf1e7N",
        "outputId": "c5de2855-7b98-44b1-bdcc-aae88ff9263d"
      },
      "execution_count": 433,
      "outputs": [
        {
          "output_type": "execute_result",
          "data": {
            "text/plain": [
              "Matrix([\n",
              "[                    c_ixx + c_mass*(q2(t)**2 + q3(t)**2), 0, 0, c_mass*(q2(t)*cos(alpha_x1(t)) + q3(t)*sin(alpha_x1(t)))],\n",
              "[                                                       0, 0, 0,                                                        0],\n",
              "[                                                       0, 0, 0,                                                        0],\n",
              "[c_mass*(q2(t)*cos(alpha_x1(t)) + q3(t)*sin(alpha_x1(t))), 0, 0,                                               M + c_mass]])"
            ],
            "text/latex": "$\\displaystyle \\left[\\begin{matrix}c_{ixx} + c_{mass} \\left(q_{2}^{2}{\\left(t \\right)} + q_{3}^{2}{\\left(t \\right)}\\right) & 0 & 0 & c_{mass} \\left(q_{2}{\\left(t \\right)} \\cos{\\left(\\alpha_{x1}{\\left(t \\right)} \\right)} + q_{3}{\\left(t \\right)} \\sin{\\left(\\alpha_{x1}{\\left(t \\right)} \\right)}\\right)\\\\0 & 0 & 0 & 0\\\\0 & 0 & 0 & 0\\\\c_{mass} \\left(q_{2}{\\left(t \\right)} \\cos{\\left(\\alpha_{x1}{\\left(t \\right)} \\right)} + q_{3}{\\left(t \\right)} \\sin{\\left(\\alpha_{x1}{\\left(t \\right)} \\right)}\\right) & 0 & 0 & M + c_{mass}\\end{matrix}\\right]$"
          },
          "metadata": {},
          "execution_count": 433
        }
      ]
    },
    {
      "cell_type": "code",
      "source": [
        "method.bodies[1].mass"
      ],
      "metadata": {
        "colab": {
          "base_uri": "https://localhost:8080/",
          "height": 39
        },
        "id": "avUj4FTPyrdl",
        "outputId": "77a861fc-9ffe-47ea-a9dc-c57b8e547b0a"
      },
      "execution_count": 115,
      "outputs": [
        {
          "output_type": "execute_result",
          "data": {
            "text/plain": [
              "c_mass"
            ],
            "text/latex": "$\\displaystyle c_{mass}$"
          },
          "metadata": {},
          "execution_count": 115
        }
      ]
    },
    {
      "cell_type": "code",
      "source": [
        "method.mass_matrix.subs({method.bodies[1].mass:0})"
      ],
      "metadata": {
        "colab": {
          "base_uri": "https://localhost:8080/",
          "height": 98
        },
        "id": "swTedvPMy4VO",
        "outputId": "8f504bea-a89a-4c6d-df24-e61dbfa60470"
      },
      "execution_count": 116,
      "outputs": [
        {
          "output_type": "execute_result",
          "data": {
            "text/plain": [
              "Matrix([\n",
              "[c_ixx, 0, 0, 0],\n",
              "[    0, 0, 0, 0],\n",
              "[    0, 0, 0, 0],\n",
              "[    0, 0, 0, M]])"
            ],
            "text/latex": "$\\displaystyle \\left[\\begin{matrix}c_{ixx} & 0 & 0 & 0\\\\0 & 0 & 0 & 0\\\\0 & 0 & 0 & 0\\\\0 & 0 & 0 & M\\end{matrix}\\right]$"
          },
          "metadata": {},
          "execution_count": 116
        }
      ]
    },
    {
      "cell_type": "code",
      "source": [
        "solve(method.kdes, [alpha_x1.diff(t), alpha_y1.diff(t), alpha_z1.diff(t), q4.diff(t)])"
      ],
      "metadata": {
        "colab": {
          "base_uri": "https://localhost:8080/"
        },
        "id": "_nvwhgvG2QvT",
        "outputId": "5dfe6fb4-8d6d-445b-9baa-e6ec260740a8"
      },
      "execution_count": 142,
      "outputs": [
        {
          "output_type": "execute_result",
          "data": {
            "text/plain": [
              "{Derivative(alpha_x1(t), t): omega_x1(t),\n",
              " Derivative(alpha_y1(t), t): omega_y1(t),\n",
              " Derivative(alpha_z1(t), t): omega_z1(t),\n",
              " Derivative(q4(t), t): u4(t)}"
            ]
          },
          "metadata": {},
          "execution_count": 142
        }
      ]
    },
    {
      "cell_type": "code",
      "source": [
        "constraint = Matrix([Xc.pos_from(P1).magnitude() - q4])"
      ],
      "metadata": {
        "id": "TXaNFvNs2dvr"
      },
      "execution_count": 118,
      "outputs": []
    },
    {
      "cell_type": "code",
      "source": [
        "constraint"
      ],
      "metadata": {
        "colab": {
          "base_uri": "https://localhost:8080/",
          "height": 39
        },
        "id": "BP0Qx_S6277A",
        "outputId": "51be5e8a-d5e5-42fd-eb4a-9012027fb9a8"
      },
      "execution_count": 119,
      "outputs": [
        {
          "output_type": "execute_result",
          "data": {
            "text/plain": [
              "Matrix([[sqrt(q2(t)**2 + q3(t)**2) - q4(t)]])"
            ],
            "text/latex": "$\\displaystyle \\left[\\begin{matrix}\\sqrt{q_{2}^{2}{\\left(t \\right)} + q_{3}^{2}{\\left(t \\right)}} - q_{4}{\\left(t \\right)}\\end{matrix}\\right]$"
          },
          "metadata": {},
          "execution_count": 119
        }
      ]
    },
    {
      "cell_type": "code",
      "source": [
        "constraint.diff(t).subs({q2.diff(t):u2, q3.diff(t):u3, q4.diff(t):u4})"
      ],
      "metadata": {
        "colab": {
          "base_uri": "https://localhost:8080/",
          "height": 48
        },
        "id": "zLUrclfZcAKu",
        "outputId": "7ff20522-c4ac-4175-c7b0-93b68ba5d497"
      },
      "execution_count": 120,
      "outputs": [
        {
          "output_type": "execute_result",
          "data": {
            "text/plain": [
              "Matrix([[(q2(t)*u2(t) + q3(t)*u3(t))/sqrt(q2(t)**2 + q3(t)**2) - u4(t)]])"
            ],
            "text/latex": "$\\displaystyle \\left[\\begin{matrix}\\frac{q_{2}{\\left(t \\right)} u_{2}{\\left(t \\right)} + q_{3}{\\left(t \\right)} u_{3}{\\left(t \\right)}}{\\sqrt{q_{2}^{2}{\\left(t \\right)} + q_{3}^{2}{\\left(t \\right)}}} - u_{4}{\\left(t \\right)}\\end{matrix}\\right]$"
          },
          "metadata": {},
          "execution_count": 120
        }
      ]
    },
    {
      "cell_type": "code",
      "source": [
        "vel_constraint = constraint.diff(t).subs({q2.diff(t):u2, q3.diff(t):u3, q4.diff(t):u4, q2**2 + q3**2:q4**2})"
      ],
      "metadata": {
        "id": "FTvSdVrK3HCw"
      },
      "execution_count": 121,
      "outputs": []
    },
    {
      "cell_type": "code",
      "source": [
        "vel_constraint"
      ],
      "metadata": {
        "colab": {
          "base_uri": "https://localhost:8080/",
          "height": 47
        },
        "id": "-X-G8bd88CJw",
        "outputId": "d63190f1-429b-4af9-b65e-7d81cf767d75"
      },
      "execution_count": 122,
      "outputs": [
        {
          "output_type": "execute_result",
          "data": {
            "text/plain": [
              "Matrix([[(q2(t)*u2(t) + q3(t)*u3(t))/q4(t) - u4(t)]])"
            ],
            "text/latex": "$\\displaystyle \\left[\\begin{matrix}\\frac{q_{2}{\\left(t \\right)} u_{2}{\\left(t \\right)} + q_{3}{\\left(t \\right)} u_{3}{\\left(t \\right)}}{q_{4}{\\left(t \\right)}} - u_{4}{\\left(t \\right)}\\end{matrix}\\right]$"
          },
          "metadata": {},
          "execution_count": 122
        }
      ]
    },
    {
      "cell_type": "code",
      "source": [
        "#rev2.child_point.v1pt_theory(P1, N, Na)"
      ],
      "metadata": {
        "id": "VotryZWr0jHs"
      },
      "execution_count": 1023,
      "outputs": []
    },
    {
      "cell_type": "code",
      "source": [
        "rev2.child_point.acc(N)"
      ],
      "metadata": {
        "colab": {
          "base_uri": "https://localhost:8080/",
          "height": 52
        },
        "id": "RLvKbKYI1gj7",
        "outputId": "7f0f00b5-be10-48da-e597-f714bd1585c4"
      },
      "execution_count": 12,
      "outputs": [
        {
          "output_type": "execute_result",
          "data": {
            "text/plain": [
              "Derivative(u3(t), t)*N.y + Derivative(u2(t), t)*N.z"
            ],
            "text/latex": "$\\displaystyle \\frac{d}{d t} u_{3}{\\left(t \\right)}\\mathbf{\\hat{n}_y} + \\frac{d}{d t} u_{2}{\\left(t \\right)}\\mathbf{\\hat{n}_z}$"
          },
          "metadata": {},
          "execution_count": 12
        }
      ]
    },
    {
      "cell_type": "code",
      "source": [
        "rev2.child_point.acc(Na).express(N)"
      ],
      "metadata": {
        "colab": {
          "base_uri": "https://localhost:8080/",
          "height": 52
        },
        "id": "piwMfBlY0Mxp",
        "outputId": "52d3b728-aa80-4574-eb15-d6bec59a48ba"
      },
      "execution_count": 13,
      "outputs": [
        {
          "output_type": "execute_result",
          "data": {
            "text/plain": [
              "- cos(alpha_x1(t))*Derivative(u4(t), t)*N.y - sin(alpha_x1(t))*Derivative(u4(t), t)*N.z"
            ],
            "text/latex": "$\\displaystyle -  \\cos{\\left(\\alpha_{x1}{\\left(t \\right)} \\right)} \\frac{d}{d t} u_{4}{\\left(t \\right)}\\mathbf{\\hat{n}_y} -  \\sin{\\left(\\alpha_{x1}{\\left(t \\right)} \\right)} \\frac{d}{d t} u_{4}{\\left(t \\right)}\\mathbf{\\hat{n}_z}$"
          },
          "metadata": {},
          "execution_count": 13
        }
      ]
    },
    {
      "cell_type": "code",
      "source": [
        "Xc.pos_from(P2).express(N).diff(t, N).diff(t, N)"
      ],
      "metadata": {
        "colab": {
          "base_uri": "https://localhost:8080/",
          "height": 105
        },
        "id": "Hc7_ad8J3r2y",
        "outputId": "c6125bfc-71b3-4e29-d8de-eb649850b013"
      },
      "execution_count": 14,
      "outputs": [
        {
          "output_type": "execute_result",
          "data": {
            "text/plain": [
              "(q4(t)*sin(alpha_x1(t))*Derivative(alpha_x1(t), (t, 2)) + q4(t)*cos(alpha_x1(t))*Derivative(alpha_x1(t), t)**2 + 2*sin(alpha_x1(t))*Derivative(alpha_x1(t), t)*Derivative(q4(t), t) - cos(alpha_x1(t))*Derivative(q4(t), (t, 2)))*N.y + (q4(t)*sin(alpha_x1(t))*Derivative(alpha_x1(t), t)**2 - q4(t)*cos(alpha_x1(t))*Derivative(alpha_x1(t), (t, 2)) - sin(alpha_x1(t))*Derivative(q4(t), (t, 2)) - 2*cos(alpha_x1(t))*Derivative(alpha_x1(t), t)*Derivative(q4(t), t))*N.z"
            ],
            "text/latex": "$\\displaystyle (q_{4}{\\left(t \\right)} \\sin{\\left(\\alpha_{x1}{\\left(t \\right)} \\right)} \\frac{d^{2}}{d t^{2}} \\alpha_{x1}{\\left(t \\right)} + q_{4}{\\left(t \\right)} \\cos{\\left(\\alpha_{x1}{\\left(t \\right)} \\right)} \\left(\\frac{d}{d t} \\alpha_{x1}{\\left(t \\right)}\\right)^{2} + 2 \\sin{\\left(\\alpha_{x1}{\\left(t \\right)} \\right)} \\frac{d}{d t} \\alpha_{x1}{\\left(t \\right)} \\frac{d}{d t} q_{4}{\\left(t \\right)} - \\cos{\\left(\\alpha_{x1}{\\left(t \\right)} \\right)} \\frac{d^{2}}{d t^{2}} q_{4}{\\left(t \\right)})\\mathbf{\\hat{n}_y} + (q_{4}{\\left(t \\right)} \\sin{\\left(\\alpha_{x1}{\\left(t \\right)} \\right)} \\left(\\frac{d}{d t} \\alpha_{x1}{\\left(t \\right)}\\right)^{2} - q_{4}{\\left(t \\right)} \\cos{\\left(\\alpha_{x1}{\\left(t \\right)} \\right)} \\frac{d^{2}}{d t^{2}} \\alpha_{x1}{\\left(t \\right)} - \\sin{\\left(\\alpha_{x1}{\\left(t \\right)} \\right)} \\frac{d^{2}}{d t^{2}} q_{4}{\\left(t \\right)} - 2 \\cos{\\left(\\alpha_{x1}{\\left(t \\right)} \\right)} \\frac{d}{d t} \\alpha_{x1}{\\left(t \\right)} \\frac{d}{d t} q_{4}{\\left(t \\right)})\\mathbf{\\hat{n}_z}$"
          },
          "metadata": {},
          "execution_count": 14
        }
      ]
    },
    {
      "cell_type": "code",
      "source": [
        "[(p2body.masscenter, method.loads[0][1].express(N)),\n",
        " (ceiling.masscenter, method.loads[1][1].express(N)),\n",
        " (block.masscenter, -M*g*N.y)]"
      ],
      "metadata": {
        "colab": {
          "base_uri": "https://localhost:8080/"
        },
        "id": "By9iYRIw_7p7",
        "outputId": "f38c90d5-9d8e-4221-b39d-10aee7607db5"
      },
      "execution_count": 200,
      "outputs": [
        {
          "output_type": "execute_result",
          "data": {
            "text/plain": [
              "[(P2,\n",
              "  - k1*(q4(t) - x_0(t))*cos(alpha_x1(t))*N.y - k1*(q4(t) - x_0(t))*sin(alpha_x1(t))*N.z),\n",
              " (P1,\n",
              "  (M*g + k1*(q4(t) - x_0(t))*cos(alpha_x1(t)))*N.y + k1*(q4(t) - x_0(t))*sin(alpha_x1(t))*N.z),\n",
              " (Xc, - M*g*N.y)]"
            ]
          },
          "metadata": {},
          "execution_count": 200
        }
      ]
    },
    {
      "cell_type": "code",
      "source": [
        "method.loads"
      ],
      "metadata": {
        "colab": {
          "base_uri": "https://localhost:8080/"
        },
        "id": "_RzeAp1CxgCQ",
        "outputId": "d7ad3c98-5ae8-4fc0-8f32-154b69d5bb31"
      },
      "execution_count": 558,
      "outputs": [
        {
          "output_type": "execute_result",
          "data": {
            "text/plain": [
              "[(P2, M*g*N.y - k1*(q4(t) - x_0(t))*Na.y),\n",
              " (Xc, - M*g*N.y + k1*(q4(t) - x_0(t))*Na.y)]"
            ]
          },
          "metadata": {},
          "execution_count": 558
        }
      ]
    },
    {
      "cell_type": "code",
      "source": [
        "method.bodies"
      ],
      "metadata": {
        "colab": {
          "base_uri": "https://localhost:8080/"
        },
        "id": "euModRjjCa5M",
        "outputId": "26179437-a038-44d4-f6e1-2231e7d53981"
      },
      "execution_count": 559,
      "outputs": [
        {
          "output_type": "execute_result",
          "data": {
            "text/plain": [
              "[p2body, c, block]"
            ]
          },
          "metadata": {},
          "execution_count": 559
        }
      ]
    },
    {
      "cell_type": "code",
      "source": [
        "block.loads"
      ],
      "metadata": {
        "colab": {
          "base_uri": "https://localhost:8080/"
        },
        "id": "vA60fxx-YV0R",
        "outputId": "b2e4ff6b-0c9f-4942-f6cf-e17a0f85a6a1"
      },
      "execution_count": 352,
      "outputs": [
        {
          "output_type": "execute_result",
          "data": {
            "text/plain": [
              "[(Xc, - M*g*N.y + k1*(q4(t) - x_0(t))*Na.y), (Xd, - M*g*N.y)]"
            ]
          },
          "metadata": {},
          "execution_count": 352
        }
      ]
    },
    {
      "cell_type": "code",
      "source": [
        "method.loads[0][1].express(N)"
      ],
      "metadata": {
        "colab": {
          "base_uri": "https://localhost:8080/",
          "height": 39
        },
        "id": "RyaGddUnCQtM",
        "outputId": "6894f11b-446c-4135-ee80-b5e708a7c229"
      },
      "execution_count": 434,
      "outputs": [
        {
          "output_type": "execute_result",
          "data": {
            "text/plain": [
              "(M*g - k1*(q4(t) - x_0(t))*cos(alpha_x1(t)))*N.y - k1*(q4(t) - x_0(t))*sin(alpha_x1(t))*N.z"
            ],
            "text/latex": "$\\displaystyle (M g - k_{1} \\left(q_{4}{\\left(t \\right)} - x_{0}{\\left(t \\right)}\\right) \\cos{\\left(\\alpha_{x1}{\\left(t \\right)} \\right)})\\mathbf{\\hat{n}_y} -  k_{1} \\left(q_{4}{\\left(t \\right)} - x_{0}{\\left(t \\right)}\\right) \\sin{\\left(\\alpha_{x1}{\\left(t \\right)} \\right)}\\mathbf{\\hat{n}_z}$"
          },
          "metadata": {},
          "execution_count": 434
        }
      ]
    },
    {
      "cell_type": "code",
      "source": [
        "method.loads[1][1].express(N)"
      ],
      "metadata": {
        "colab": {
          "base_uri": "https://localhost:8080/",
          "height": 39
        },
        "id": "-1t6MsqGxe0h",
        "outputId": "4c6364a5-6fe2-490a-a941-7281ef5a98d5"
      },
      "execution_count": 217,
      "outputs": [
        {
          "output_type": "execute_result",
          "data": {
            "text/plain": [
              "(M*g + k1*(q4(t) - x_0(t))*cos(alpha_x1(t)))*N.y + k1*(q4(t) - x_0(t))*sin(alpha_x1(t))*N.z"
            ],
            "text/latex": "$\\displaystyle (M g + k_{1} \\left(q_{4}{\\left(t \\right)} - x_{0}{\\left(t \\right)}\\right) \\cos{\\left(\\alpha_{x1}{\\left(t \\right)} \\right)})\\mathbf{\\hat{n}_y} + k_{1} \\left(q_{4}{\\left(t \\right)} - x_{0}{\\left(t \\right)}\\right) \\sin{\\left(\\alpha_{x1}{\\left(t \\right)} \\right)}\\mathbf{\\hat{n}_z}$"
          },
          "metadata": {},
          "execution_count": 217
        }
      ]
    },
    {
      "cell_type": "code",
      "source": [
        "method.kdes"
      ],
      "metadata": {
        "colab": {
          "base_uri": "https://localhost:8080/",
          "height": 39
        },
        "id": "6bZ08S7gcT3b",
        "outputId": "0836d9ad-cf8f-4fc4-8603-4cf70149ce61"
      },
      "execution_count": 124,
      "outputs": [
        {
          "output_type": "execute_result",
          "data": {
            "text/plain": [
              "Matrix([[u4(t) - Derivative(q4(t), t)]])"
            ],
            "text/latex": "$\\displaystyle \\left[\\begin{matrix}u_{4}{\\left(t \\right)} - \\frac{d}{d t} q_{4}{\\left(t \\right)}\\end{matrix}\\right]$"
          },
          "metadata": {},
          "execution_count": 124
        }
      ]
    },
    {
      "cell_type": "code",
      "source": [
        "\n",
        "constraint = Matrix([Xc.pos_from(P1).magnitude() - q4])\n",
        "vel_constraint = constraint.diff(t).subs({q2.diff(t):u2, q3.diff(t):u3, q4.diff(t):u4, q2**2 + q3**2:q4**2})\n",
        "\n",
        "\n",
        "\n",
        "kane = me.KanesMethod(N, q_ind=[ q2, q3], q_dependent=[q4], u_dependent=[u4], configuration_constraints=constraint, velocity_constraints=vel_constraint,\n",
        "\n",
        "                      u_ind = [ u2, u3],\n",
        "\n",
        "                      kd_eqs=[\n",
        "                              q2.diff(t) - u2, q3.diff(t) + u3, q4.diff(t) - u4\n",
        "                              ])\n",
        "kaneeq = kane.kanes_equations([block], block.loads)\n",
        "#kaneeq = kane.kanes_equations(method.bodies, method.loads)"
      ],
      "metadata": {
        "id": "upevm9iZ5kqf"
      },
      "execution_count": 132,
      "outputs": []
    },
    {
      "cell_type": "code",
      "source": [
        "constraint"
      ],
      "metadata": {
        "colab": {
          "base_uri": "https://localhost:8080/",
          "height": 39
        },
        "id": "iNN_IB9XOOjG",
        "outputId": "8a4e5ae5-c5f1-4e4d-cf50-3cefc011e7be"
      },
      "execution_count": 126,
      "outputs": [
        {
          "output_type": "execute_result",
          "data": {
            "text/plain": [
              "Matrix([[sqrt(q2(t)**2 + q3(t)**2) - q4(t)]])"
            ],
            "text/latex": "$\\displaystyle \\left[\\begin{matrix}\\sqrt{q_{2}^{2}{\\left(t \\right)} + q_{3}^{2}{\\left(t \\right)}} - q_{4}{\\left(t \\right)}\\end{matrix}\\right]$"
          },
          "metadata": {},
          "execution_count": 126
        }
      ]
    },
    {
      "cell_type": "code",
      "source": [
        "vel_constraint"
      ],
      "metadata": {
        "colab": {
          "base_uri": "https://localhost:8080/",
          "height": 47
        },
        "id": "dDbou2eGOQNi",
        "outputId": "249dc7c9-b0a1-4dcd-97a8-421324f36d95"
      },
      "execution_count": 127,
      "outputs": [
        {
          "output_type": "execute_result",
          "data": {
            "text/plain": [
              "Matrix([[(q2(t)*u2(t) + q3(t)*u3(t))/q4(t) - u4(t)]])"
            ],
            "text/latex": "$\\displaystyle \\left[\\begin{matrix}\\frac{q_{2}{\\left(t \\right)} u_{2}{\\left(t \\right)} + q_{3}{\\left(t \\right)} u_{3}{\\left(t \\right)}}{q_{4}{\\left(t \\right)}} - u_{4}{\\left(t \\right)}\\end{matrix}\\right]$"
          },
          "metadata": {},
          "execution_count": 127
        }
      ]
    },
    {
      "cell_type": "code",
      "source": [
        "kane.q"
      ],
      "metadata": {
        "colab": {
          "base_uri": "https://localhost:8080/",
          "height": 78
        },
        "id": "7gxrIZMc_Cn5",
        "outputId": "2fa77090-25e5-4ea4-8b8d-27b6a742bb38"
      },
      "execution_count": 128,
      "outputs": [
        {
          "output_type": "execute_result",
          "data": {
            "text/plain": [
              "Matrix([\n",
              "[q2(t)],\n",
              "[q3(t)],\n",
              "[q4(t)]])"
            ],
            "text/latex": "$\\displaystyle \\left[\\begin{matrix}q_{2}{\\left(t \\right)}\\\\q_{3}{\\left(t \\right)}\\\\q_{4}{\\left(t \\right)}\\end{matrix}\\right]$"
          },
          "metadata": {},
          "execution_count": 128
        }
      ]
    },
    {
      "cell_type": "code",
      "source": [
        "kaneeq[0]"
      ],
      "metadata": {
        "colab": {
          "base_uri": "https://localhost:8080/",
          "height": 106
        },
        "id": "TaM2wZIs6VBe",
        "outputId": "0bdf0bfd-c8a7-4bb8-d725-7eaf0d931151"
      },
      "execution_count": 136,
      "outputs": [
        {
          "output_type": "execute_result",
          "data": {
            "text/plain": [
              "Matrix([\n",
              "[k1*(q4(t) - x_0(t))*q2(t)/(sqrt(q2(t)**2/q3(t)**2 + 1)*q3(t))],\n",
              "[       -M*g + k1*(q4(t) - x_0(t))/sqrt(q2(t)**2/q3(t)**2 + 1)]])"
            ],
            "text/latex": "$\\displaystyle \\left[\\begin{matrix}\\frac{k_{1} \\left(q_{4}{\\left(t \\right)} - x_{0}{\\left(t \\right)}\\right) q_{2}{\\left(t \\right)}}{\\sqrt{\\frac{q_{2}^{2}{\\left(t \\right)}}{q_{3}^{2}{\\left(t \\right)}} + 1} q_{3}{\\left(t \\right)}}\\\\- M g + \\frac{k_{1} \\left(q_{4}{\\left(t \\right)} - x_{0}{\\left(t \\right)}\\right)}{\\sqrt{\\frac{q_{2}^{2}{\\left(t \\right)}}{q_{3}^{2}{\\left(t \\right)}} + 1}}\\end{matrix}\\right]$"
          },
          "metadata": {},
          "execution_count": 136
        }
      ]
    },
    {
      "cell_type": "code",
      "source": [
        "kaneeq[1]"
      ],
      "metadata": {
        "colab": {
          "base_uri": "https://localhost:8080/",
          "height": 80
        },
        "id": "n8unq7Lq5k5R",
        "outputId": "b767ee00-8faf-4103-8613-28c62769b0f8"
      },
      "execution_count": 562,
      "outputs": [
        {
          "output_type": "execute_result",
          "data": {
            "text/plain": [
              "Matrix([\n",
              "[-ixx1*Derivative(omega_x1(t), t)],\n",
              "[         -M*Derivative(u2(t), t)],\n",
              "[         -M*Derivative(u3(t), t)]])"
            ],
            "text/latex": "$\\displaystyle \\left[\\begin{matrix}- ixx_{1} \\frac{d}{d t} \\omega_{x1}{\\left(t \\right)}\\\\- M \\frac{d}{d t} u_{2}{\\left(t \\right)}\\\\- M \\frac{d}{d t} u_{3}{\\left(t \\right)}\\end{matrix}\\right]$"
          },
          "metadata": {},
          "execution_count": 562
        }
      ]
    },
    {
      "cell_type": "code",
      "source": [
        "kane.forcing_full"
      ],
      "metadata": {
        "colab": {
          "base_uri": "https://localhost:8080/",
          "height": 190
        },
        "id": "iWYOFVb18xhO",
        "outputId": "9a99d7e6-516c-4d43-90e2-f8bac39adbd2"
      },
      "execution_count": 313,
      "outputs": [
        {
          "output_type": "execute_result",
          "data": {
            "text/plain": [
              "Matrix([\n",
              "[                                                                               omega_x1(t)],\n",
              "[                                                                                     u2(t)],\n",
              "[                                                                                    -u3(t)],\n",
              "[                                                                                     u4(t)],\n",
              "[                                                                                         0],\n",
              "[                                                      k1*(q4(t) - x_0(t))*sin(alpha_x1(t))],\n",
              "[                                               -M*g + k1*(q4(t) - x_0(t))*cos(alpha_x1(t))],\n",
              "[-(-q2(t)*u4(t)/q4(t)**2 + u2(t)/q4(t))*u2(t) - (-q3(t)*u4(t)/q4(t)**2 - u3(t)/q4(t))*u3(t)]])"
            ],
            "text/latex": "$\\displaystyle \\left[\\begin{matrix}\\omega_{x1}{\\left(t \\right)}\\\\u_{2}{\\left(t \\right)}\\\\- u_{3}{\\left(t \\right)}\\\\u_{4}{\\left(t \\right)}\\\\0\\\\k_{1} \\left(q_{4}{\\left(t \\right)} - x_{0}{\\left(t \\right)}\\right) \\sin{\\left(\\alpha_{x1}{\\left(t \\right)} \\right)}\\\\- M g + k_{1} \\left(q_{4}{\\left(t \\right)} - x_{0}{\\left(t \\right)}\\right) \\cos{\\left(\\alpha_{x1}{\\left(t \\right)} \\right)}\\\\- \\left(- \\frac{q_{2}{\\left(t \\right)} u_{4}{\\left(t \\right)}}{q_{4}^{2}{\\left(t \\right)}} + \\frac{u_{2}{\\left(t \\right)}}{q_{4}{\\left(t \\right)}}\\right) u_{2}{\\left(t \\right)} - \\left(- \\frac{q_{3}{\\left(t \\right)} u_{4}{\\left(t \\right)}}{q_{4}^{2}{\\left(t \\right)}} - \\frac{u_{3}{\\left(t \\right)}}{q_{4}{\\left(t \\right)}}\\right) u_{3}{\\left(t \\right)}\\end{matrix}\\right]$"
          },
          "metadata": {},
          "execution_count": 313
        }
      ]
    },
    {
      "cell_type": "code",
      "source": [
        "Xc.vel(N).express(Na)"
      ],
      "metadata": {
        "colab": {
          "base_uri": "https://localhost:8080/",
          "height": 39
        },
        "id": "vv-Dhlhth3rQ",
        "outputId": "160dc8b8-480c-4a10-f174-909cdfccb988"
      },
      "execution_count": 277,
      "outputs": [
        {
          "output_type": "execute_result",
          "data": {
            "text/plain": [
              "(u2(t)*sin(alpha_x1(t)) + u3(t)*cos(alpha_x1(t)))*Na.y + (u2(t)*cos(alpha_x1(t)) - u3(t)*sin(alpha_x1(t)))*Na.z"
            ],
            "text/latex": "$\\displaystyle (u_{2}{\\left(t \\right)} \\sin{\\left(\\alpha_{x1}{\\left(t \\right)} \\right)} + u_{3}{\\left(t \\right)} \\cos{\\left(\\alpha_{x1}{\\left(t \\right)} \\right)})\\mathbf{\\hat{na}_y} + (u_{2}{\\left(t \\right)} \\cos{\\left(\\alpha_{x1}{\\left(t \\right)} \\right)} - u_{3}{\\left(t \\right)} \\sin{\\left(\\alpha_{x1}{\\left(t \\right)} \\right)})\\mathbf{\\hat{na}_z}$"
          },
          "metadata": {},
          "execution_count": 277
        }
      ]
    },
    {
      "cell_type": "code",
      "source": [
        "kanel = kane.to_linearizer()\n",
        "A, B = kanel.linearize(A_and_B=True, op_point={q2:0, u2:0})"
      ],
      "metadata": {
        "id": "-ChmSJya6eLy"
      },
      "execution_count": 141,
      "outputs": []
    },
    {
      "cell_type": "code",
      "source": [
        "kanel.f_v"
      ],
      "metadata": {
        "colab": {
          "base_uri": "https://localhost:8080/",
          "height": 47
        },
        "id": "N6tb-ADucj-9",
        "outputId": "f831142a-4ea6-42d1-e631-780aee745002"
      },
      "execution_count": 138,
      "outputs": [
        {
          "output_type": "execute_result",
          "data": {
            "text/plain": [
              "Matrix([[q2(t)*u2(t)/q4(t) + q3(t)*u3(t)/q4(t) - u4(t)]])"
            ],
            "text/latex": "$\\displaystyle \\left[\\begin{matrix}\\frac{q_{2}{\\left(t \\right)} u_{2}{\\left(t \\right)}}{q_{4}{\\left(t \\right)}} + \\frac{q_{3}{\\left(t \\right)} u_{3}{\\left(t \\right)}}{q_{4}{\\left(t \\right)}} - u_{4}{\\left(t \\right)}\\end{matrix}\\right]$"
          },
          "metadata": {},
          "execution_count": 138
        }
      ]
    },
    {
      "cell_type": "code",
      "source": [
        "kanel.q"
      ],
      "metadata": {
        "colab": {
          "base_uri": "https://localhost:8080/",
          "height": 78
        },
        "id": "5Sf9LDaZZxQb",
        "outputId": "2e2c14cd-3872-4efa-bc63-63d4397971df"
      },
      "execution_count": 144,
      "outputs": [
        {
          "output_type": "execute_result",
          "data": {
            "text/plain": [
              "Matrix([\n",
              "[q2(t)],\n",
              "[q3(t)],\n",
              "[q4(t)]])"
            ],
            "text/latex": "$\\displaystyle \\left[\\begin{matrix}q_{2}{\\left(t \\right)}\\\\q_{3}{\\left(t \\right)}\\\\q_{4}{\\left(t \\right)}\\end{matrix}\\right]$"
          },
          "metadata": {},
          "execution_count": 144
        }
      ]
    },
    {
      "cell_type": "code",
      "source": [
        "kanel.r"
      ],
      "metadata": {
        "colab": {
          "base_uri": "https://localhost:8080/",
          "height": 39
        },
        "id": "9YsPPTtRZyWy",
        "outputId": "32c435d5-3587-41e0-e992-8e8a2ac3084e"
      },
      "execution_count": 384,
      "outputs": [
        {
          "output_type": "execute_result",
          "data": {
            "text/plain": [
              "Matrix([[x_0(t)]])"
            ],
            "text/latex": "$\\displaystyle \\left[\\begin{matrix}x_{0}{\\left(t \\right)}\\end{matrix}\\right]$"
          },
          "metadata": {},
          "execution_count": 384
        }
      ]
    },
    {
      "cell_type": "code",
      "source": [
        "A"
      ],
      "metadata": {
        "colab": {
          "base_uri": "https://localhost:8080/",
          "height": 221
        },
        "id": "AZPHxdK-6eXQ",
        "outputId": "627fe4f9-1043-4c59-f244-637b3f0f2b79"
      },
      "execution_count": 142,
      "outputs": [
        {
          "output_type": "execute_result",
          "data": {
            "text/plain": [
              "Matrix([\n",
              "[                            0,                                                                                                                                                                                                                                                                                                                                                                                                                                                          0, 1,  0],\n",
              "[                            0,                                                                                                                                                                                                                                                                                                                                                                                                                                                          0, 0, -1],\n",
              "[k1*(q4(t) - x_0(t))/(M*q3(t)),                                                                                                                                                                                                                                                                                                                                                                                                                                                          0, 0,  0],\n",
              "[                            0, (-(2*q3(t)*u4(t)/q4(t)**3 + u3(t)/q4(t)**2)*u3(t) - q3(t)**2*u3(t)**2/q4(t)**4 + q3(t)*Derivative(u3(t), t)/q4(t)**2 + q3(t)*u3(t)**2/q4(t)**3 - Derivative(u3(t), t)/q4(t) + u3(t)*u4(t)/q4(t)**2 - (M*(-(2*q3(t)*u4(t)/q4(t)**3 + u3(t)/q4(t)**2)*u3(t) - q3(t)**2*u3(t)**2/q4(t)**4 + q3(t)*Derivative(u3(t), t)/q4(t)**2 + q3(t)*u3(t)**2/q4(t)**3 - Derivative(u3(t), t)/q4(t) + u3(t)*u4(t)/q4(t)**2)*q4(t)/q3(t) - k1)*q3(t)/(M*q4(t)))*q4(t)/q3(t), 0,  0]])"
            ],
            "text/latex": "$\\displaystyle \\left[\\begin{matrix}0 & 0 & 1 & 0\\\\0 & 0 & 0 & -1\\\\\\frac{k_{1} \\left(q_{4}{\\left(t \\right)} - x_{0}{\\left(t \\right)}\\right)}{M q_{3}{\\left(t \\right)}} & 0 & 0 & 0\\\\0 & \\frac{\\left(- \\left(\\frac{2 q_{3}{\\left(t \\right)} u_{4}{\\left(t \\right)}}{q_{4}^{3}{\\left(t \\right)}} + \\frac{u_{3}{\\left(t \\right)}}{q_{4}^{2}{\\left(t \\right)}}\\right) u_{3}{\\left(t \\right)} - \\frac{q_{3}^{2}{\\left(t \\right)} u_{3}^{2}{\\left(t \\right)}}{q_{4}^{4}{\\left(t \\right)}} + \\frac{q_{3}{\\left(t \\right)} \\frac{d}{d t} u_{3}{\\left(t \\right)}}{q_{4}^{2}{\\left(t \\right)}} + \\frac{q_{3}{\\left(t \\right)} u_{3}^{2}{\\left(t \\right)}}{q_{4}^{3}{\\left(t \\right)}} - \\frac{\\frac{d}{d t} u_{3}{\\left(t \\right)}}{q_{4}{\\left(t \\right)}} + \\frac{u_{3}{\\left(t \\right)} u_{4}{\\left(t \\right)}}{q_{4}^{2}{\\left(t \\right)}} - \\frac{\\left(\\frac{M \\left(- \\left(\\frac{2 q_{3}{\\left(t \\right)} u_{4}{\\left(t \\right)}}{q_{4}^{3}{\\left(t \\right)}} + \\frac{u_{3}{\\left(t \\right)}}{q_{4}^{2}{\\left(t \\right)}}\\right) u_{3}{\\left(t \\right)} - \\frac{q_{3}^{2}{\\left(t \\right)} u_{3}^{2}{\\left(t \\right)}}{q_{4}^{4}{\\left(t \\right)}} + \\frac{q_{3}{\\left(t \\right)} \\frac{d}{d t} u_{3}{\\left(t \\right)}}{q_{4}^{2}{\\left(t \\right)}} + \\frac{q_{3}{\\left(t \\right)} u_{3}^{2}{\\left(t \\right)}}{q_{4}^{3}{\\left(t \\right)}} - \\frac{\\frac{d}{d t} u_{3}{\\left(t \\right)}}{q_{4}{\\left(t \\right)}} + \\frac{u_{3}{\\left(t \\right)} u_{4}{\\left(t \\right)}}{q_{4}^{2}{\\left(t \\right)}}\\right) q_{4}{\\left(t \\right)}}{q_{3}{\\left(t \\right)}} - k_{1}\\right) q_{3}{\\left(t \\right)}}{M q_{4}{\\left(t \\right)}}\\right) q_{4}{\\left(t \\right)}}{q_{3}{\\left(t \\right)}} & 0 & 0\\end{matrix}\\right]$"
          },
          "metadata": {},
          "execution_count": 142
        }
      ]
    },
    {
      "cell_type": "code",
      "source": [
        "B"
      ],
      "metadata": {
        "colab": {
          "base_uri": "https://localhost:8080/",
          "height": 99
        },
        "id": "C4FsE-zb7efh",
        "outputId": "6e08dca2-de42-4a6c-90f7-809814a2676a"
      },
      "execution_count": 143,
      "outputs": [
        {
          "output_type": "execute_result",
          "data": {
            "text/plain": [
              "Matrix([\n",
              "[    0],\n",
              "[    0],\n",
              "[    0],\n",
              "[-k1/M]])"
            ],
            "text/latex": "$\\displaystyle \\left[\\begin{matrix}0\\\\0\\\\0\\\\- \\frac{k_{1}}{M}\\end{matrix}\\right]$"
          },
          "metadata": {},
          "execution_count": 143
        }
      ]
    },
    {
      "cell_type": "code",
      "source": [
        "kanel.q"
      ],
      "metadata": {
        "colab": {
          "base_uri": "https://localhost:8080/",
          "height": 58
        },
        "id": "FekALqAx81RE",
        "outputId": "390ba457-6547-4432-ae60-521c51a72fe5"
      },
      "execution_count": 1071,
      "outputs": [
        {
          "output_type": "execute_result",
          "data": {
            "text/plain": [
              "Matrix([\n",
              "[q2(t)],\n",
              "[q3(t)]])"
            ],
            "text/latex": "$\\displaystyle \\left[\\begin{matrix}q_{2}{\\left(t \\right)}\\\\q_{3}{\\left(t \\right)}\\end{matrix}\\right]$"
          },
          "metadata": {},
          "execution_count": 1071
        }
      ]
    },
    {
      "cell_type": "code",
      "source": [
        "kanel.r"
      ],
      "metadata": {
        "colab": {
          "base_uri": "https://localhost:8080/",
          "height": 58
        },
        "id": "siSOFvLC7hYX",
        "outputId": "3b7256e1-f789-4dd1-dc73-de4d4e8751bb"
      },
      "execution_count": 1072,
      "outputs": [
        {
          "output_type": "execute_result",
          "data": {
            "text/plain": [
              "Matrix([\n",
              "[alpha_x1(t)],\n",
              "[     x_0(t)]])"
            ],
            "text/latex": "$\\displaystyle \\left[\\begin{matrix}\\alpha_{x1}{\\left(t \\right)}\\\\x_{0}{\\left(t \\right)}\\end{matrix}\\right]$"
          },
          "metadata": {},
          "execution_count": 1072
        }
      ]
    },
    {
      "cell_type": "code",
      "source": [
        "method.kdes"
      ],
      "metadata": {
        "colab": {
          "base_uri": "https://localhost:8080/",
          "height": 39
        },
        "id": "InGt8nX_1kqq",
        "outputId": "ddb6c74d-3308-4097-dbe3-0877051c24bb"
      },
      "execution_count": 991,
      "outputs": [
        {
          "output_type": "execute_result",
          "data": {
            "text/plain": [
              "Matrix([[u4(t) - Derivative(q4(t), t)]])"
            ],
            "text/latex": "$\\displaystyle \\left[\\begin{matrix}u_{4}{\\left(t \\right)} - \\frac{d}{d t} q_{4}{\\left(t \\right)}\\end{matrix}\\right]$"
          },
          "metadata": {},
          "execution_count": 991
        }
      ]
    },
    {
      "cell_type": "code",
      "source": [
        "solve(method.form_eoms(), [u4.diff(t)])"
      ],
      "metadata": {
        "colab": {
          "base_uri": "https://localhost:8080/"
        },
        "id": "Jzt9hJzOB9-1",
        "outputId": "67216ed3-9526-49a1-8c6a-4e674602fc72"
      },
      "execution_count": 992,
      "outputs": [
        {
          "output_type": "execute_result",
          "data": {
            "text/plain": [
              "{Derivative(u4(t), t): (M*g*cos(alpha_x1(t)) - T1)/M}"
            ]
          },
          "metadata": {},
          "execution_count": 992
        }
      ]
    },
    {
      "cell_type": "code",
      "source": [
        "method.forcing"
      ],
      "metadata": {
        "colab": {
          "base_uri": "https://localhost:8080/",
          "height": 39
        },
        "id": "9FrFvApe1nc2",
        "outputId": "6becc3a7-6385-4c1f-b428-e45ecf253250"
      },
      "execution_count": 993,
      "outputs": [
        {
          "output_type": "execute_result",
          "data": {
            "text/plain": [
              "Matrix([[M*g*cos(alpha_x1(t)) - T1]])"
            ],
            "text/latex": "$\\displaystyle \\left[\\begin{matrix}M g \\cos{\\left(\\alpha_{x1}{\\left(t \\right)} \\right)} - T_{1}\\end{matrix}\\right]$"
          },
          "metadata": {},
          "execution_count": 993
        }
      ]
    },
    {
      "cell_type": "code",
      "source": [
        "rev2.child_point.pos_from(rev2.parent_point).express(N)"
      ],
      "metadata": {
        "colab": {
          "base_uri": "https://localhost:8080/",
          "height": 39
        },
        "id": "Q7AWbkuU7ek-",
        "outputId": "81cb1604-d6b1-42f1-e094-c0637003564b"
      },
      "execution_count": 994,
      "outputs": [
        {
          "output_type": "execute_result",
          "data": {
            "text/plain": [
              "- q4(t)*cos(alpha_x1(t))*N.y - q4(t)*sin(alpha_x1(t))*N.z"
            ],
            "text/latex": "$\\displaystyle -  q_{4}{\\left(t \\right)} \\cos{\\left(\\alpha_{x1}{\\left(t \\right)} \\right)}\\mathbf{\\hat{n}_y} -  q_{4}{\\left(t \\right)} \\sin{\\left(\\alpha_{x1}{\\left(t \\right)} \\right)}\\mathbf{\\hat{n}_z}$"
          },
          "metadata": {},
          "execution_count": 994
        }
      ]
    },
    {
      "cell_type": "code",
      "source": [
        "Xc.pos_from(P1).express(Na)"
      ],
      "metadata": {
        "colab": {
          "base_uri": "https://localhost:8080/",
          "height": 39
        },
        "id": "TNgbrpqW1npb",
        "outputId": "0c5e1226-6862-404a-9eef-64e195038ce0"
      },
      "execution_count": 995,
      "outputs": [
        {
          "output_type": "execute_result",
          "data": {
            "text/plain": [
              "(q2(t)*sin(alpha_x1(t)) - q3(t)*cos(alpha_x1(t)))*Na.y + (q2(t)*cos(alpha_x1(t)) + q3(t)*sin(alpha_x1(t)))*Na.z"
            ],
            "text/latex": "$\\displaystyle (q_{2}{\\left(t \\right)} \\sin{\\left(\\alpha_{x1}{\\left(t \\right)} \\right)} - q_{3}{\\left(t \\right)} \\cos{\\left(\\alpha_{x1}{\\left(t \\right)} \\right)})\\mathbf{\\hat{na}_y} + (q_{2}{\\left(t \\right)} \\cos{\\left(\\alpha_{x1}{\\left(t \\right)} \\right)} + q_{3}{\\left(t \\right)} \\sin{\\left(\\alpha_{x1}{\\left(t \\right)} \\right)})\\mathbf{\\hat{na}_z}$"
          },
          "metadata": {},
          "execution_count": 995
        }
      ]
    },
    {
      "cell_type": "code",
      "source": [
        "Xc.pos_from(P2).express(N)"
      ],
      "metadata": {
        "colab": {
          "base_uri": "https://localhost:8080/",
          "height": 39
        },
        "id": "GsYVk5_t9YAf",
        "outputId": "f285d5cf-d410-47fa-eceb-e77339735ddf"
      },
      "execution_count": 996,
      "outputs": [
        {
          "output_type": "execute_result",
          "data": {
            "text/plain": [
              "- q4(t)*cos(alpha_x1(t))*N.y - q4(t)*sin(alpha_x1(t))*N.z"
            ],
            "text/latex": "$\\displaystyle -  q_{4}{\\left(t \\right)} \\cos{\\left(\\alpha_{x1}{\\left(t \\right)} \\right)}\\mathbf{\\hat{n}_y} -  q_{4}{\\left(t \\right)} \\sin{\\left(\\alpha_{x1}{\\left(t \\right)} \\right)}\\mathbf{\\hat{n}_z}$"
          },
          "metadata": {},
          "execution_count": 996
        }
      ]
    },
    {
      "cell_type": "code",
      "source": [
        "from sympy.physics.mechanics.functions import find_dynamicsymbols"
      ],
      "metadata": {
        "id": "uXrRSVPIy_Em"
      },
      "execution_count": 846,
      "outputs": []
    },
    {
      "cell_type": "code",
      "source": [
        "find_dynamicsymbols(a)"
      ],
      "metadata": {
        "colab": {
          "base_uri": "https://localhost:8080/"
        },
        "id": "xsf3WN76zzHr",
        "outputId": "6b99da7d-3490-4528-de69-66e8dd9ad432"
      },
      "execution_count": 847,
      "outputs": [
        {
          "output_type": "execute_result",
          "data": {
            "text/plain": [
              "{a(t)}"
            ]
          },
          "metadata": {},
          "execution_count": 847
        }
      ]
    },
    {
      "cell_type": "code",
      "source": [
        "a = dynamicsymbols('a')"
      ],
      "metadata": {
        "id": "eT4ZPPsCz88A"
      },
      "execution_count": 848,
      "outputs": []
    },
    {
      "cell_type": "code",
      "source": [],
      "metadata": {
        "id": "KJtVcCQD0HgZ"
      },
      "execution_count": null,
      "outputs": []
    },
    {
      "cell_type": "code",
      "source": [
        "a = q2 + q3"
      ],
      "metadata": {
        "id": "CLWZJ5XOz3VF"
      },
      "execution_count": 841,
      "outputs": []
    },
    {
      "cell_type": "code",
      "source": [
        "method.kdes"
      ],
      "metadata": {
        "colab": {
          "base_uri": "https://localhost:8080/",
          "height": 39
        },
        "id": "X5wq8m_5ut2r",
        "outputId": "ed78ce9d-680d-4659-c361-0b7cdeec69db"
      },
      "execution_count": 821,
      "outputs": [
        {
          "output_type": "execute_result",
          "data": {
            "text/plain": [
              "Matrix([[u_J2(t) - Derivative(q_J2(t), t)]])"
            ],
            "text/latex": "$\\displaystyle \\left[\\begin{matrix}u_{J2}{\\left(t \\right)} - \\frac{d}{d t} q_{J2}{\\left(t \\right)}\\end{matrix}\\right]$"
          },
          "metadata": {},
          "execution_count": 821
        }
      ]
    },
    {
      "cell_type": "code",
      "source": [
        "Xc.pos_from(P1)"
      ],
      "metadata": {
        "colab": {
          "base_uri": "https://localhost:8080/",
          "height": 39
        },
        "id": "6oXaEBOQyg6F",
        "outputId": "2dc0ca8c-4f98-4d73-a143-f64cfcc157f3"
      },
      "execution_count": 825,
      "outputs": [
        {
          "output_type": "execute_result",
          "data": {
            "text/plain": [
              "- q3(t)*N.y + q2(t)*N.z"
            ],
            "text/latex": "$\\displaystyle -  q_{3}{\\left(t \\right)}\\mathbf{\\hat{n}_y} + q_{2}{\\left(t \\right)}\\mathbf{\\hat{n}_z}$"
          },
          "metadata": {},
          "execution_count": 825
        }
      ]
    },
    {
      "cell_type": "code",
      "source": [
        "Xc.pos_from(P2).express(N)"
      ],
      "metadata": {
        "colab": {
          "base_uri": "https://localhost:8080/",
          "height": 39
        },
        "id": "B7IQbCqNyTHG",
        "outputId": "fa278ffa-8c4d-4134-931c-46f36dd2fce1"
      },
      "execution_count": 824,
      "outputs": [
        {
          "output_type": "execute_result",
          "data": {
            "text/plain": [
              "- q_J2(t)*cos(alpha_x1(t))*N.y - q_J2(t)*sin(alpha_x1(t))*N.z"
            ],
            "text/latex": "$\\displaystyle -  q_{J2}{\\left(t \\right)} \\cos{\\left(\\alpha_{x1}{\\left(t \\right)} \\right)}\\mathbf{\\hat{n}_y} -  q_{J2}{\\left(t \\right)} \\sin{\\left(\\alpha_{x1}{\\left(t \\right)} \\right)}\\mathbf{\\hat{n}_z}$"
          },
          "metadata": {},
          "execution_count": 824
        }
      ]
    },
    {
      "cell_type": "code",
      "source": [
        "rev2.coordinates[0]"
      ],
      "metadata": {
        "colab": {
          "base_uri": "https://localhost:8080/",
          "height": 39
        },
        "id": "3V4Xdhmxt4sm",
        "outputId": "9d743a63-1478-4187-f8b8-51d6f989419d"
      },
      "execution_count": 822,
      "outputs": [
        {
          "output_type": "execute_result",
          "data": {
            "text/plain": [
              "q_J2(t)"
            ],
            "text/latex": "$\\displaystyle q_{J2}{\\left(t \\right)}$"
          },
          "metadata": {},
          "execution_count": 822
        }
      ]
    },
    {
      "cell_type": "code",
      "source": [
        "block.loads[0][1].express(Na)"
      ],
      "metadata": {
        "colab": {
          "base_uri": "https://localhost:8080/",
          "height": 39
        },
        "id": "_QauhdYRe_2x",
        "outputId": "563d0be7-8026-4529-c8a9-c5cf53075461"
      },
      "execution_count": 398,
      "outputs": [
        {
          "output_type": "execute_result",
          "data": {
            "text/plain": [
              "- M*g*cos(alpha_x1(t))*Na.y + M*g*sin(alpha_x1(t))*Na.z"
            ],
            "text/latex": "$\\displaystyle -  M g \\cos{\\left(\\alpha_{x1}{\\left(t \\right)} \\right)}\\mathbf{\\hat{na}_y} + M g \\sin{\\left(\\alpha_{x1}{\\left(t \\right)} \\right)}\\mathbf{\\hat{na}_z}$"
          },
          "metadata": {},
          "execution_count": 398
        }
      ]
    },
    {
      "cell_type": "code",
      "source": [
        "\n",
        "# constraint = Matrix([Xc.pos_from(P1).magnitude() - q4])\n",
        "# vel_constraint = constraint.diff(t).subs({q2.diff(t):u2, q3.diff(t):u3, q4.diff(t):u4, q2**2 + q3**2:q4**2})\n",
        "\n",
        "\n",
        "\n",
        "kane = me.KanesMethod(N, q_ind=[alpha_x1, q3, q4],\n",
        "\n",
        "                      u_ind = [omega_x1, u3, u4],\n",
        "\n",
        "                      kd_eqs=[alpha_x1.diff(t) - omega_x1, q3.diff(t) - u3,\n",
        "                               q4.diff(t) - u4\n",
        "                              ])\n",
        "kaneeq = kane.kanes_equations([block], block.loads)\n",
        "#kaneeq = kane.kanes_equations(method.bodies, method.loads)"
      ],
      "metadata": {
        "id": "qJ0iLgLke5Aa"
      },
      "execution_count": 424,
      "outputs": []
    },
    {
      "cell_type": "code",
      "source": [
        "kane.q"
      ],
      "metadata": {
        "colab": {
          "base_uri": "https://localhost:8080/",
          "height": 78
        },
        "id": "83ryZkWhfNXL",
        "outputId": "8445c472-3092-4614-b0d8-3db229ecf8ca"
      },
      "execution_count": 425,
      "outputs": [
        {
          "output_type": "execute_result",
          "data": {
            "text/plain": [
              "Matrix([\n",
              "[alpha_x1(t)],\n",
              "[      q3(t)],\n",
              "[      q4(t)]])"
            ],
            "text/latex": "$\\displaystyle \\left[\\begin{matrix}\\alpha_{x1}{\\left(t \\right)}\\\\q_{3}{\\left(t \\right)}\\\\q_{4}{\\left(t \\right)}\\end{matrix}\\right]$"
          },
          "metadata": {},
          "execution_count": 425
        }
      ]
    },
    {
      "cell_type": "code",
      "source": [
        "kaneeq[0]"
      ],
      "metadata": {
        "colab": {
          "base_uri": "https://localhost:8080/",
          "height": 78
        },
        "id": "vIyD0H7-fIWG",
        "outputId": "a6e64fe0-30d9-48aa-967a-812bdf129d6c"
      },
      "execution_count": 426,
      "outputs": [
        {
          "output_type": "execute_result",
          "data": {
            "text/plain": [
              "Matrix([\n",
              "[   0],\n",
              "[-M*g],\n",
              "[   0]])"
            ],
            "text/latex": "$\\displaystyle \\left[\\begin{matrix}0\\\\- M g\\\\0\\end{matrix}\\right]$"
          },
          "metadata": {},
          "execution_count": 426
        }
      ]
    },
    {
      "cell_type": "code",
      "source": [
        "kaneeq[1]"
      ],
      "metadata": {
        "colab": {
          "base_uri": "https://localhost:8080/",
          "height": 79
        },
        "id": "P0v_UdtyfKZq",
        "outputId": "51aef2bf-083b-439d-8042-02753f60d0d7"
      },
      "execution_count": 427,
      "outputs": [
        {
          "output_type": "execute_result",
          "data": {
            "text/plain": [
              "Matrix([\n",
              "[-ixx1*Derivative(omega_x1(t), t)],\n",
              "[         -M*Derivative(u3(t), t)],\n",
              "[                               0]])"
            ],
            "text/latex": "$\\displaystyle \\left[\\begin{matrix}- ixx_{1} \\frac{d}{d t} \\omega_{x1}{\\left(t \\right)}\\\\- M \\frac{d}{d t} u_{3}{\\left(t \\right)}\\\\0\\end{matrix}\\right]$"
          },
          "metadata": {},
          "execution_count": 427
        }
      ]
    },
    {
      "cell_type": "markdown",
      "source": [
        "### Spring block Pendulum"
      ],
      "metadata": {
        "id": "h5spZb1XB7VT"
      }
    },
    {
      "cell_type": "code",
      "source": [
        "O = Point('O')\n",
        "P1 = Point('P1')\n",
        "P2 = Point('P2')\n",
        "P3 = Point('P3')\n",
        "Xc = Point('Xc')\n",
        "\n",
        "q1, q2, q3, q4, q5, q6 = dynamicsymbols('q1, q2, q3, q4, q5, q6', real=True, positive=True)\n",
        "u1, u2, u3, u4, u5, u6 = dynamicsymbols('u1, u2, u3, u4, u5, u6')\n",
        "alpha_z1, beta_z1 = dynamicsymbols('alpha_z1 beta_z1')\n",
        "alpha_x1, beta_x1 = dynamicsymbols('alpha_x1 beta_x1')\n",
        "ixx1, iyy1, izz1 = symbols('ixx1 iyy1 izz1')\n",
        "M,g = symbols('M g')\n",
        "omega_z1 = dynamicsymbols('omega_z1')\n",
        "omega_x1 = dynamicsymbols('omega_x1')\n",
        "L = dynamicsymbols('L')\n",
        "\n",
        "N = ReferenceFrame('N')\n",
        "Na = ReferenceFrame('Na')\n",
        "\n",
        "Na.orient_axis(N, 0, N.z)\n"
      ],
      "metadata": {
        "id": "oGuCRSoeB8dT"
      },
      "execution_count": 780,
      "outputs": []
    },
    {
      "cell_type": "code",
      "source": [
        "# P1.set_pos(O, q1*N.x)\n",
        "# P2.set_pos(O, q1*Na.x)\n",
        "P1.set_vel(frame=N, value=0)"
      ],
      "metadata": {
        "id": "8k5Rp9q1CtRI"
      },
      "execution_count": 781,
      "outputs": []
    },
    {
      "cell_type": "code",
      "source": [
        "Xc.set_pos(P1, q2*N.z - q3*N.y)\n",
        "Xc.set_vel(N, u2*N.z + u3*N.y)\n"
      ],
      "metadata": {
        "id": "0pVoqG4nDNtP"
      },
      "execution_count": 782,
      "outputs": []
    },
    {
      "cell_type": "code",
      "source": [
        "ceiling = Body('c', masscenter=P1, frame=N)\n",
        "p2body = Body('p2body', masscenter=P2, frame=Na)"
      ],
      "metadata": {
        "id": "GFGZXLVDC_ob"
      },
      "execution_count": 783,
      "outputs": []
    },
    {
      "cell_type": "code",
      "source": [
        "body_inertia = inertia(Na, ixx1, 0, 0)\n",
        "block = Body('block', mass=M, masscenter=Xc, frame=Na, central_inertia=body_inertia)\n",
        "block.frame.set_ang_vel(N, omega_x1*N.x)"
      ],
      "metadata": {
        "id": "TuRZd4mxDKHV"
      },
      "execution_count": 784,
      "outputs": []
    },
    {
      "cell_type": "code",
      "source": [
        "from sympy import atan2\n",
        "angle_spring = atan2(q2, q3)\n",
        "#angle_spring = alpha_z1 - beta_z1"
      ],
      "metadata": {
        "id": "oR7C_rX2Fvtx"
      },
      "execution_count": 785,
      "outputs": []
    },
    {
      "cell_type": "code",
      "source": [
        "rev1 = SphericalJoint(name='p1p2', parent=ceiling, child=p2body, parent_point=P1, child_point=P2, amounts=[alpha_x1,0,0],\n",
        "                     rot_order='XYZ')"
      ],
      "metadata": {
        "id": "P4sHm0bfC52b"
      },
      "execution_count": 786,
      "outputs": []
    },
    {
      "cell_type": "code",
      "source": [
        "rev1.child_interframe, rev1.parent_interframe"
      ],
      "metadata": {
        "colab": {
          "base_uri": "https://localhost:8080/"
        },
        "id": "7JzTq1qFGs9W",
        "outputId": "b631cbc5-75cd-453e-e3a6-367a6a981fef"
      },
      "execution_count": 787,
      "outputs": [
        {
          "output_type": "execute_result",
          "data": {
            "text/plain": [
              "(Na, N)"
            ]
          },
          "metadata": {},
          "execution_count": 787
        }
      ]
    },
    {
      "cell_type": "code",
      "source": [
        "Na.dcm(N).simplify()"
      ],
      "metadata": {
        "colab": {
          "base_uri": "https://localhost:8080/",
          "height": 78
        },
        "id": "mtYBVwHrGvoR",
        "outputId": "129a7863-24b2-4266-8a5f-ac114226a926"
      },
      "execution_count": 788,
      "outputs": [
        {
          "output_type": "execute_result",
          "data": {
            "text/plain": [
              "Matrix([\n",
              "[1,                 0,                0],\n",
              "[0,  cos(alpha_x1(t)), sin(alpha_x1(t))],\n",
              "[0, -sin(alpha_x1(t)), cos(alpha_x1(t))]])"
            ],
            "text/latex": "$\\displaystyle \\left[\\begin{matrix}1 & 0 & 0\\\\0 & \\cos{\\left(\\alpha_{x1}{\\left(t \\right)} \\right)} & \\sin{\\left(\\alpha_{x1}{\\left(t \\right)} \\right)}\\\\0 & - \\sin{\\left(\\alpha_{x1}{\\left(t \\right)} \\right)} & \\cos{\\left(\\alpha_{x1}{\\left(t \\right)} \\right)}\\end{matrix}\\right]$"
          },
          "metadata": {},
          "execution_count": 788
        }
      ]
    },
    {
      "cell_type": "code",
      "source": [
        "Xc.pos_from(P2)"
      ],
      "metadata": {
        "colab": {
          "base_uri": "https://localhost:8080/",
          "height": 39
        },
        "id": "N9h_DRunsY_E",
        "outputId": "48a7c041-98ff-431a-c962-5fa476c1693b"
      },
      "execution_count": 789,
      "outputs": [
        {
          "output_type": "execute_result",
          "data": {
            "text/plain": [
              "- q3(t)*N.y + q2(t)*N.z"
            ],
            "text/latex": "$\\displaystyle -  q_{3}{\\left(t \\right)}\\mathbf{\\hat{n}_y} + q_{2}{\\left(t \\right)}\\mathbf{\\hat{n}_z}$"
          },
          "metadata": {},
          "execution_count": 789
        }
      ]
    },
    {
      "cell_type": "code",
      "source": [
        "Na.y.express(N).simplify()"
      ],
      "metadata": {
        "colab": {
          "base_uri": "https://localhost:8080/",
          "height": 39
        },
        "id": "SRL7myy5768G",
        "outputId": "06254b8c-45b7-444a-8be4-4e1c1a14ad83"
      },
      "execution_count": 790,
      "outputs": [
        {
          "output_type": "execute_result",
          "data": {
            "text/plain": [
              "cos(alpha_x1(t))*N.y + sin(alpha_x1(t))*N.z"
            ],
            "text/latex": "$\\displaystyle \\cos{\\left(\\alpha_{x1}{\\left(t \\right)} \\right)}\\mathbf{\\hat{n}_y} + \\sin{\\left(\\alpha_{x1}{\\left(t \\right)} \\right)}\\mathbf{\\hat{n}_z}$"
          },
          "metadata": {},
          "execution_count": 790
        }
      ]
    },
    {
      "cell_type": "code",
      "source": [
        "rev2 = PrismaticJoint('J2', parent=p2body, child=block, parent_point=P2, child_point=Xc,\n",
        "                      joint_axis=-Na.y)"
      ],
      "metadata": {
        "id": "Z0W_bqaKGxDH"
      },
      "execution_count": 791,
      "outputs": []
    },
    {
      "cell_type": "code",
      "source": [
        "Na.orient_axis(N, alpha_x1, N.x)"
      ],
      "metadata": {
        "id": "SlRind80pRRG"
      },
      "execution_count": 797,
      "outputs": []
    },
    {
      "cell_type": "code",
      "source": [
        "Na.dcm(N)"
      ],
      "metadata": {
        "colab": {
          "base_uri": "https://localhost:8080/",
          "height": 78
        },
        "id": "6FnBn_szpM2n",
        "outputId": "4d797149-795a-4572-87e5-182120cb8395"
      },
      "execution_count": 798,
      "outputs": [
        {
          "output_type": "execute_result",
          "data": {
            "text/plain": [
              "Matrix([\n",
              "[1,                 0,                0],\n",
              "[0,  cos(alpha_x1(t)), sin(alpha_x1(t))],\n",
              "[0, -sin(alpha_x1(t)), cos(alpha_x1(t))]])"
            ],
            "text/latex": "$\\displaystyle \\left[\\begin{matrix}1 & 0 & 0\\\\0 & \\cos{\\left(\\alpha_{x1}{\\left(t \\right)} \\right)} & \\sin{\\left(\\alpha_{x1}{\\left(t \\right)} \\right)}\\\\0 & - \\sin{\\left(\\alpha_{x1}{\\left(t \\right)} \\right)} & \\cos{\\left(\\alpha_{x1}{\\left(t \\right)} \\right)}\\end{matrix}\\right]$"
          },
          "metadata": {},
          "execution_count": 798
        }
      ]
    },
    {
      "cell_type": "code",
      "source": [
        "rev2.coordinates"
      ],
      "metadata": {
        "colab": {
          "base_uri": "https://localhost:8080/",
          "height": 39
        },
        "id": "6Ay2J88ZxLUA",
        "outputId": "7337d2cb-cc00-424d-9664-34e4449a3d6b"
      },
      "execution_count": 792,
      "outputs": [
        {
          "output_type": "execute_result",
          "data": {
            "text/plain": [
              "Matrix([[q_J2(t)]])"
            ],
            "text/latex": "$\\displaystyle \\left[\\begin{matrix}q_{J2}{\\left(t \\right)}\\end{matrix}\\right]$"
          },
          "metadata": {},
          "execution_count": 792
        }
      ]
    },
    {
      "cell_type": "code",
      "source": [
        "rev2.kdes"
      ],
      "metadata": {
        "colab": {
          "base_uri": "https://localhost:8080/",
          "height": 39
        },
        "id": "6JC-qzUqxti6",
        "outputId": "d218e45f-83fa-4687-b6da-dca218d09c48"
      },
      "execution_count": 793,
      "outputs": [
        {
          "output_type": "execute_result",
          "data": {
            "text/plain": [
              "Matrix([[u_J2(t) - Derivative(q_J2(t), t)]])"
            ],
            "text/latex": "$\\displaystyle \\left[\\begin{matrix}u_{J2}{\\left(t \\right)} - \\frac{d}{d t} q_{J2}{\\left(t \\right)}\\end{matrix}\\right]$"
          },
          "metadata": {},
          "execution_count": 793
        }
      ]
    },
    {
      "cell_type": "code",
      "source": [
        "rev2.child_interframe, rev2.parent_interframe"
      ],
      "metadata": {
        "colab": {
          "base_uri": "https://localhost:8080/"
        },
        "id": "rP3_Q-gV4EW8",
        "outputId": "f618d9cc-a7b5-455a-d44f-63a610be7418"
      },
      "execution_count": 795,
      "outputs": [
        {
          "output_type": "execute_result",
          "data": {
            "text/plain": [
              "(Na, Na)"
            ]
          },
          "metadata": {},
          "execution_count": 795
        }
      ]
    },
    {
      "cell_type": "code",
      "source": [
        "Na.dcm(N).simplify()"
      ],
      "metadata": {
        "colab": {
          "base_uri": "https://localhost:8080/",
          "height": 78
        },
        "id": "x5R4OygeHslW",
        "outputId": "14cb52c8-d1b4-438a-bd1a-0781b036aa50"
      },
      "execution_count": 799,
      "outputs": [
        {
          "output_type": "execute_result",
          "data": {
            "text/plain": [
              "Matrix([\n",
              "[1,                 0,                0],\n",
              "[0,  cos(alpha_x1(t)), sin(alpha_x1(t))],\n",
              "[0, -sin(alpha_x1(t)), cos(alpha_x1(t))]])"
            ],
            "text/latex": "$\\displaystyle \\left[\\begin{matrix}1 & 0 & 0\\\\0 & \\cos{\\left(\\alpha_{x1}{\\left(t \\right)} \\right)} & \\sin{\\left(\\alpha_{x1}{\\left(t \\right)} \\right)}\\\\0 & - \\sin{\\left(\\alpha_{x1}{\\left(t \\right)} \\right)} & \\cos{\\left(\\alpha_{x1}{\\left(t \\right)} \\right)}\\end{matrix}\\right]$"
          },
          "metadata": {},
          "execution_count": 799
        }
      ]
    },
    {
      "cell_type": "code",
      "source": [
        "Xc.pos_from(P1).express(N).simplify()"
      ],
      "metadata": {
        "colab": {
          "base_uri": "https://localhost:8080/",
          "height": 39
        },
        "id": "EHG0hGQ-HS6f",
        "outputId": "6dc83f5e-69de-47f8-a8c9-4ece1c01a574"
      },
      "execution_count": 800,
      "outputs": [
        {
          "output_type": "execute_result",
          "data": {
            "text/plain": [
              "- q3(t)*N.y + q2(t)*N.z"
            ],
            "text/latex": "$\\displaystyle -  q_{3}{\\left(t \\right)}\\mathbf{\\hat{n}_y} + q_{2}{\\left(t \\right)}\\mathbf{\\hat{n}_z}$"
          },
          "metadata": {},
          "execution_count": 800
        }
      ]
    },
    {
      "cell_type": "code",
      "source": [
        "Xc.pos_from(P2)"
      ],
      "metadata": {
        "colab": {
          "base_uri": "https://localhost:8080/",
          "height": 39
        },
        "id": "RbQ67kUiWNvJ",
        "outputId": "26bd551e-2df5-4e60-8b75-4c2f7cec442a"
      },
      "execution_count": 801,
      "outputs": [
        {
          "output_type": "execute_result",
          "data": {
            "text/plain": [
              "- q_J2(t)*Na.y"
            ],
            "text/latex": "$\\displaystyle -  q_{J2}{\\left(t \\right)}\\mathbf{\\hat{na}_y}$"
          },
          "metadata": {},
          "execution_count": 801
        }
      ]
    },
    {
      "cell_type": "code",
      "source": [
        "P2.pos_from(Xc)"
      ],
      "metadata": {
        "colab": {
          "base_uri": "https://localhost:8080/",
          "height": 39
        },
        "id": "dsbryayA_k85",
        "outputId": "fd272a41-7cc9-40f8-def7-319de80e6ead"
      },
      "execution_count": 802,
      "outputs": [
        {
          "output_type": "execute_result",
          "data": {
            "text/plain": [
              "q_J2(t)*Na.y"
            ],
            "text/latex": "$\\displaystyle q_{J2}{\\left(t \\right)}\\mathbf{\\hat{na}_y}$"
          },
          "metadata": {},
          "execution_count": 802
        }
      ]
    },
    {
      "cell_type": "code",
      "source": [
        "block.apply_force(-M*g*N.y, point=Xc, reaction_body=p2body, reaction_point=P2)\n",
        "#block.apply_force(-M*g*N.y, point=P2, reaction_body=p2body, reaction_point=Xc)"
      ],
      "metadata": {
        "id": "AHDRV2LbnjP0"
      },
      "execution_count": 803,
      "outputs": []
    },
    {
      "cell_type": "code",
      "source": [
        "#block.apply_force(-M*g*N.y, reaction_body=ceiling)"
      ],
      "metadata": {
        "id": "f2MEZATy93KM"
      },
      "execution_count": 753,
      "outputs": []
    },
    {
      "cell_type": "code",
      "source": [],
      "metadata": {
        "id": "DfeQDWe993fv"
      },
      "execution_count": 753,
      "outputs": []
    },
    {
      "cell_type": "code",
      "source": [
        "method = JointsMethod(block, rev2)"
      ],
      "metadata": {
        "id": "GOH-P9_unjdF"
      },
      "execution_count": 804,
      "outputs": []
    },
    {
      "cell_type": "code",
      "source": [
        "method.loads"
      ],
      "metadata": {
        "colab": {
          "base_uri": "https://localhost:8080/"
        },
        "id": "Km9ogsg9vS1f",
        "outputId": "068f25c2-dede-4059-ef8a-65df153ab71c"
      },
      "execution_count": 805,
      "outputs": [
        {
          "output_type": "execute_result",
          "data": {
            "text/plain": [
              "[(Xc, - M*g*N.y), (P2, M*g*N.y)]"
            ]
          },
          "metadata": {},
          "execution_count": 805
        }
      ]
    },
    {
      "cell_type": "code",
      "source": [
        "# Xc.set_vel(Na, (u2*N.x.express(Na).simplify().dot(Na.x) + u3*N.y.express(Na).simplify().dot(Na.x))*Na.x +\n",
        "#            (u2*N.x.express(Na).simplify().dot(Na.y) + u3*N.y.express(Na).simplify().dot(Na.y))*Na.y)"
      ],
      "metadata": {
        "id": "J8DEcOcKxkur"
      },
      "execution_count": 756,
      "outputs": []
    },
    {
      "cell_type": "code",
      "source": [
        "# Xc.vel(Na)"
      ],
      "metadata": {
        "id": "L_Cos3IeybIF"
      },
      "execution_count": 757,
      "outputs": []
    },
    {
      "cell_type": "code",
      "source": [
        "method.q"
      ],
      "metadata": {
        "colab": {
          "base_uri": "https://localhost:8080/",
          "height": 39
        },
        "id": "-51Dfa-n3Ill",
        "outputId": "778eaa9c-442c-4652-e7e6-a1d8e7287763"
      },
      "execution_count": 806,
      "outputs": [
        {
          "output_type": "execute_result",
          "data": {
            "text/plain": [
              "Matrix([[q_J2(t)]])"
            ],
            "text/latex": "$\\displaystyle \\left[\\begin{matrix}q_{J2}{\\left(t \\right)}\\end{matrix}\\right]$"
          },
          "metadata": {},
          "execution_count": 806
        }
      ]
    },
    {
      "cell_type": "code",
      "source": [
        "method.kdes"
      ],
      "metadata": {
        "colab": {
          "base_uri": "https://localhost:8080/",
          "height": 39
        },
        "id": "G4f_h_z82nlC",
        "outputId": "882495ac-b05a-44ca-dfaa-a10951ff67fa"
      },
      "execution_count": 807,
      "outputs": [
        {
          "output_type": "execute_result",
          "data": {
            "text/plain": [
              "Matrix([[u_J2(t) - Derivative(q_J2(t), t)]])"
            ],
            "text/latex": "$\\displaystyle \\left[\\begin{matrix}u_{J2}{\\left(t \\right)} - \\frac{d}{d t} q_{J2}{\\left(t \\right)}\\end{matrix}\\right]$"
          },
          "metadata": {},
          "execution_count": 807
        }
      ]
    },
    {
      "cell_type": "code",
      "source": [
        "method.form_eoms()"
      ],
      "metadata": {
        "colab": {
          "base_uri": "https://localhost:8080/",
          "height": 39
        },
        "id": "xPATnkvrnjxA",
        "outputId": "5a47a079-6e2a-4e90-ebb1-5add6a2cb310"
      },
      "execution_count": 808,
      "outputs": [
        {
          "output_type": "execute_result",
          "data": {
            "text/plain": [
              "Matrix([[M*g*cos(alpha_x1(t)) - M*Derivative(u_J2(t), t)]])"
            ],
            "text/latex": "$\\displaystyle \\left[\\begin{matrix}M g \\cos{\\left(\\alpha_{x1}{\\left(t \\right)} \\right)} - M \\frac{d}{d t} u_{J2}{\\left(t \\right)}\\end{matrix}\\right]$"
          },
          "metadata": {},
          "execution_count": 808
        }
      ]
    },
    {
      "cell_type": "code",
      "source": [
        "rev2p.parent.frame, rev2p.child.frame"
      ],
      "metadata": {
        "colab": {
          "base_uri": "https://localhost:8080/"
        },
        "id": "9ffKBTW-BEWt",
        "outputId": "9fd1bdae-145d-4aea-d2a2-79f6ec7d86e1"
      },
      "execution_count": 809,
      "outputs": [
        {
          "output_type": "execute_result",
          "data": {
            "text/plain": [
              "(Na, Na)"
            ]
          },
          "metadata": {},
          "execution_count": 809
        }
      ]
    },
    {
      "cell_type": "code",
      "source": [
        "rev2p.child_axis, rev2p.parent_axis"
      ],
      "metadata": {
        "colab": {
          "base_uri": "https://localhost:8080/"
        },
        "id": "Y1cxorHoRphl",
        "outputId": "010eee9b-c7ef-4997-cfa4-07cf4487ebec"
      },
      "execution_count": 810,
      "outputs": [
        {
          "output_type": "execute_result",
          "data": {
            "text/plain": [
              "(Na.x, Na.x)"
            ]
          },
          "metadata": {},
          "execution_count": 810
        }
      ]
    },
    {
      "cell_type": "code",
      "source": [
        "rev2.child.frame.ang_vel_in(rev2.parent.frame)"
      ],
      "metadata": {
        "colab": {
          "base_uri": "https://localhost:8080/",
          "height": 37
        },
        "id": "NZrljncYAxAn",
        "outputId": "eed6d838-a3f0-4bd2-b93a-90cf23b17755"
      },
      "execution_count": 812,
      "outputs": [
        {
          "output_type": "execute_result",
          "data": {
            "text/plain": [
              "0"
            ],
            "text/latex": "$\\displaystyle 0$"
          },
          "metadata": {},
          "execution_count": 812
        }
      ]
    },
    {
      "cell_type": "code",
      "source": [
        "rev2p.parent.mass"
      ],
      "metadata": {
        "colab": {
          "base_uri": "https://localhost:8080/",
          "height": 39
        },
        "id": "RCxM3FOcMgU1",
        "outputId": "1d52fed6-46f5-4950-997d-8bd9bb700cba"
      },
      "execution_count": 765,
      "outputs": [
        {
          "output_type": "execute_result",
          "data": {
            "text/plain": [
              "p2body_mass"
            ],
            "text/latex": "$\\displaystyle p2body_{mass}$"
          },
          "metadata": {},
          "execution_count": 765
        }
      ]
    },
    {
      "cell_type": "code",
      "source": [
        "method.forcing#.subs({rev2p.parent.mass:0})"
      ],
      "metadata": {
        "colab": {
          "base_uri": "https://localhost:8080/",
          "height": 78
        },
        "id": "iiqCBwNh-Act",
        "outputId": "efcbf7d1-fb97-4b16-c0d8-abe9a2f9b147"
      },
      "execution_count": 766,
      "outputs": [
        {
          "output_type": "execute_result",
          "data": {
            "text/plain": [
              "Matrix([\n",
              "[                    0],\n",
              "[-M*g*cos(alpha_x1(t))],\n",
              "[ M*g*sin(alpha_x1(t))]])"
            ],
            "text/latex": "$\\displaystyle \\left[\\begin{matrix}0\\\\- M g \\cos{\\left(\\alpha_{x1}{\\left(t \\right)} \\right)}\\\\M g \\sin{\\left(\\alpha_{x1}{\\left(t \\right)} \\right)}\\end{matrix}\\right]$"
          },
          "metadata": {},
          "execution_count": 766
        }
      ]
    },
    {
      "cell_type": "code",
      "source": [
        "p2body.apply_force(-M*g*N.y, reaction_body=ceiling)"
      ],
      "metadata": {
        "id": "pCsF7Bbns1vv"
      },
      "execution_count": 803,
      "outputs": []
    },
    {
      "cell_type": "code",
      "source": [
        "method2 = JointsMethod(p2body, rev1)"
      ],
      "metadata": {
        "id": "hBwvT7bKq7ct"
      },
      "execution_count": 804,
      "outputs": []
    },
    {
      "cell_type": "code",
      "source": [
        "method2.loads"
      ],
      "metadata": {
        "colab": {
          "base_uri": "https://localhost:8080/"
        },
        "id": "MLs6wh3wq7G1",
        "outputId": "dae874ce-95fb-474a-b6cb-532d5ecb835c"
      },
      "execution_count": 805,
      "outputs": [
        {
          "output_type": "execute_result",
          "data": {
            "text/plain": [
              "[(P2, - M*g*N.y), (P1, M*g*N.y)]"
            ]
          },
          "metadata": {},
          "execution_count": 805
        }
      ]
    },
    {
      "cell_type": "code",
      "source": [
        "method2.form_eoms()"
      ],
      "metadata": {
        "colab": {
          "base_uri": "https://localhost:8080/",
          "height": 134
        },
        "id": "NCOw7l4_tBMM",
        "outputId": "d16ae949-bc9d-4237-af70-cacdd9070e61"
      },
      "execution_count": 806,
      "outputs": [
        {
          "output_type": "stream",
          "name": "stderr",
          "text": [
            "/usr/local/lib/python3.10/dist-packages/sympy/physics/vector/point.py:574: UserWarning: Velocity automatically calculated based on point Xc but it is also possible from points(s):[P2]. Velocities from these points are not necessarily the same. This may cause errors in your calculations.\n",
            "  warn('Velocity automatically calculated based on point ' +\n"
          ]
        },
        {
          "output_type": "execute_result",
          "data": {
            "text/plain": [
              "Matrix([\n",
              "[0],\n",
              "[0],\n",
              "[0]])"
            ],
            "text/latex": "$\\displaystyle \\left[\\begin{matrix}0\\\\0\\\\0\\end{matrix}\\right]$"
          },
          "metadata": {},
          "execution_count": 806
        }
      ]
    },
    {
      "cell_type": "code",
      "source": [],
      "metadata": {
        "id": "lgK4Ubc1tBky"
      },
      "execution_count": null,
      "outputs": []
    },
    {
      "cell_type": "code",
      "source": [
        "T1 = symbols('T1')\n",
        "k1 = symbols('k1')\n",
        "delta_l1 = symbols('delta_l1')\n",
        "\n",
        "T1 = k1*delta_l1"
      ],
      "metadata": {
        "id": "sG-mSiJ_JP3H"
      },
      "execution_count": 652,
      "outputs": []
    },
    {
      "cell_type": "code",
      "source": [
        "dirT1 = Na.y.express(N).simplify()"
      ],
      "metadata": {
        "id": "PybDtSWFLml2"
      },
      "execution_count": 653,
      "outputs": []
    },
    {
      "cell_type": "code",
      "source": [
        "dirT1"
      ],
      "metadata": {
        "colab": {
          "base_uri": "https://localhost:8080/",
          "height": 60
        },
        "id": "JW-QXUMALqXG",
        "outputId": "94e9ba85-faa3-4b82-f510-3d8afb42bf7e"
      },
      "execution_count": 654,
      "outputs": [
        {
          "output_type": "execute_result",
          "data": {
            "text/plain": [
              "- q2(t)/sqrt(q2(t)**2 + q3(t)**2)*N.x + q3(t)/sqrt(q2(t)**2 + q3(t)**2)*N.y"
            ],
            "text/latex": "$\\displaystyle -  \\frac{q_{2}{\\left(t \\right)}}{\\sqrt{q_{2}^{2}{\\left(t \\right)} + q_{3}^{2}{\\left(t \\right)}}}\\mathbf{\\hat{n}_x} + \\frac{q_{3}{\\left(t \\right)}}{\\sqrt{q_{2}^{2}{\\left(t \\right)} + q_{3}^{2}{\\left(t \\right)}}}\\mathbf{\\hat{n}_y}$"
          },
          "metadata": {},
          "execution_count": 654
        }
      ]
    },
    {
      "cell_type": "code",
      "source": [
        "T1 = T1.subs({delta_l1:q3 - x_0})"
      ],
      "metadata": {
        "id": "SXZnK3u9PosX"
      },
      "execution_count": 655,
      "outputs": []
    },
    {
      "cell_type": "code",
      "source": [
        "#Xc.pos_from(P1).dt(N).subs(dq_dict)"
      ],
      "metadata": {
        "id": "yJPzas-uN1us"
      },
      "execution_count": 656,
      "outputs": []
    },
    {
      "cell_type": "code",
      "source": [
        "q2d = q2.diff(t)\n",
        "q3d = q3.diff(t)\n",
        "\n",
        "\n",
        "from sympy import symbols, atan, Matrix, solve\n",
        "kde = Matrix([q2d - u2,\n",
        "              q3d + u3])\n",
        "dq_dict = solve(kde, [q2d, q3d])"
      ],
      "metadata": {
        "id": "S_MP0CEZOX_6"
      },
      "execution_count": 657,
      "outputs": []
    },
    {
      "cell_type": "code",
      "source": [
        "dq_dict"
      ],
      "metadata": {
        "colab": {
          "base_uri": "https://localhost:8080/"
        },
        "id": "lHIPZnVBOc7O",
        "outputId": "844f455a-8494-45a9-d121-9138b5fbfc6f"
      },
      "execution_count": 658,
      "outputs": [
        {
          "output_type": "execute_result",
          "data": {
            "text/plain": [
              "{Derivative(q2(t), t): u2(t), Derivative(q3(t), t): -u3(t)}"
            ]
          },
          "metadata": {},
          "execution_count": 658
        }
      ]
    },
    {
      "cell_type": "code",
      "source": [],
      "metadata": {
        "id": "7fk7pcxcc99C"
      },
      "execution_count": 658,
      "outputs": []
    },
    {
      "cell_type": "code",
      "source": [
        "#P3.set_pos(Xc, -Na.y*smp.sqrt(q2**2 + q3**2))"
      ],
      "metadata": {
        "id": "i12NYTNQPnTo"
      },
      "execution_count": 659,
      "outputs": []
    },
    {
      "cell_type": "code",
      "source": [
        "block.frame.set_ang_vel(N, omega_z1*N.z)\n",
        "Xc.set_vel(N, Xc.pos_from(P1).dt(N).subs(dq_dict)) # same as Xc.set_vel(N, u2*N.x + u3*N.y)\n",
        "\n",
        "block.apply_force(T1*dirT1, point=Xc)\n",
        "block.apply_force(-M*g*N.y, point=Xc)"
      ],
      "metadata": {
        "id": "5r-QLMRbLwNl"
      },
      "execution_count": 660,
      "outputs": []
    },
    {
      "cell_type": "code",
      "source": [
        "block.loads"
      ],
      "metadata": {
        "colab": {
          "base_uri": "https://localhost:8080/"
        },
        "id": "mkH_rnr8NFZy",
        "outputId": "943c4409-8578-48ab-f77d-3fd7a1ddb55d"
      },
      "execution_count": 661,
      "outputs": [
        {
          "output_type": "execute_result",
          "data": {
            "text/plain": [
              "[(Xc,\n",
              "  - k1*(q3(t) - x_0(t))*q2(t)/sqrt(q2(t)**2 + q3(t)**2)*N.x + (-M*g + k1*(q3(t) - x_0(t))*q3(t)/sqrt(q2(t)**2 + q3(t)**2))*N.y)]"
            ]
          },
          "metadata": {},
          "execution_count": 661
        }
      ]
    },
    {
      "cell_type": "code",
      "source": [
        "f_c = Matrix([Xc.pos_from(P1).magnitude()- L])"
      ],
      "metadata": {
        "id": "7K1QwpSmlZ_e"
      },
      "execution_count": 664,
      "outputs": []
    },
    {
      "cell_type": "code",
      "source": [
        "f_c"
      ],
      "metadata": {
        "colab": {
          "base_uri": "https://localhost:8080/",
          "height": 39
        },
        "id": "0J8W2ZBAlnMc",
        "outputId": "488d2477-dd41-47de-b83f-be8e7f352eb5"
      },
      "execution_count": 665,
      "outputs": [
        {
          "output_type": "execute_result",
          "data": {
            "text/plain": [
              "Matrix([[sqrt(q2(t)**2 + q3(t)**2) - L(t)]])"
            ],
            "text/latex": "$\\displaystyle \\left[\\begin{matrix}\\sqrt{q_{2}^{2}{\\left(t \\right)} + q_{3}^{2}{\\left(t \\right)}} - L{\\left(t \\right)}\\end{matrix}\\right]$"
          },
          "metadata": {},
          "execution_count": 665
        }
      ]
    },
    {
      "cell_type": "code",
      "source": [],
      "metadata": {
        "id": "KK0T_LJ9nUev"
      },
      "execution_count": null,
      "outputs": []
    },
    {
      "cell_type": "code",
      "source": [
        "kane = me.KanesMethod(N, q_ind=[q2], q_dependent=[q3],\n",
        "\n",
        "                      u_ind = [u2], u_dependent=[u3],\n",
        "                      configuration_constraints=f_c,\n",
        "\n",
        "                      kd_eqs=[\n",
        "                              q2d - u2, q3d + u3\n",
        "                              ])\n",
        "\n",
        "\n",
        "# kaneeq = kane.kanes_equations([block], block.loads)\n",
        "\n",
        "# kane = me.KanesMethod(N, q_ind=[alpha_z1, q2, q3],\n",
        "\n",
        "#                       u_ind = [omega_z1, u2, u3],\n",
        "\n",
        "#                       kd_eqs=[\n",
        "#                               omega_z1 - alpha_z1.diff(t), q2d - u2, q3d + u3\n",
        "#                               ])\n",
        "\n",
        "kaneeq = kane.kanes_equations([block], block.loads)"
      ],
      "metadata": {
        "colab": {
          "base_uri": "https://localhost:8080/",
          "height": 365
        },
        "id": "eThA8AP2OHOb",
        "outputId": "e3c0e0ab-cea1-4adc-eb81-14ca24632544"
      },
      "execution_count": 669,
      "outputs": [
        {
          "output_type": "error",
          "ename": "ValueError",
          "evalue": "There must be an equal number of dependent speeds and velocity constraints.",
          "traceback": [
            "\u001b[0;31m---------------------------------------------------------------------------\u001b[0m",
            "\u001b[0;31mValueError\u001b[0m                                Traceback (most recent call last)",
            "\u001b[0;32m<ipython-input-669-94db6557d95e>\u001b[0m in \u001b[0;36m<cell line: 1>\u001b[0;34m()\u001b[0m\n\u001b[0;32m----> 1\u001b[0;31m kane = me.KanesMethod(N, q_ind=[q2], q_dependent=[q3],\n\u001b[0m\u001b[1;32m      2\u001b[0m \u001b[0;34m\u001b[0m\u001b[0m\n\u001b[1;32m      3\u001b[0m                       \u001b[0mu_ind\u001b[0m \u001b[0;34m=\u001b[0m \u001b[0;34m[\u001b[0m\u001b[0mu2\u001b[0m\u001b[0;34m]\u001b[0m\u001b[0;34m,\u001b[0m \u001b[0mu_dependent\u001b[0m\u001b[0;34m=\u001b[0m\u001b[0;34m[\u001b[0m\u001b[0mu3\u001b[0m\u001b[0;34m]\u001b[0m\u001b[0;34m,\u001b[0m \u001b[0mconfiguration_constraints\u001b[0m\u001b[0;34m=\u001b[0m\u001b[0mf_c\u001b[0m\u001b[0;34m,\u001b[0m\u001b[0;34m\u001b[0m\u001b[0;34m\u001b[0m\u001b[0m\n\u001b[1;32m      4\u001b[0m \u001b[0;34m\u001b[0m\u001b[0m\n\u001b[1;32m      5\u001b[0m                       kd_eqs=[\n",
            "\u001b[0;32m/usr/local/lib/python3.10/dist-packages/sympy/physics/mechanics/kane.py\u001b[0m in \u001b[0;36m__init__\u001b[0;34m(self, frame, q_ind, u_ind, kd_eqs, q_dependent, configuration_constraints, u_dependent, velocity_constraints, acceleration_constraints, u_auxiliary, bodies, forcelist, explicit_kinematics)\u001b[0m\n\u001b[1;32m    160\u001b[0m         \u001b[0m_validate_coordinates\u001b[0m\u001b[0;34m(\u001b[0m\u001b[0mself\u001b[0m\u001b[0;34m.\u001b[0m\u001b[0mq\u001b[0m\u001b[0;34m,\u001b[0m \u001b[0mself\u001b[0m\u001b[0;34m.\u001b[0m\u001b[0mu\u001b[0m\u001b[0;34m)\u001b[0m\u001b[0;34m\u001b[0m\u001b[0;34m\u001b[0m\u001b[0m\n\u001b[1;32m    161\u001b[0m         \u001b[0mself\u001b[0m\u001b[0;34m.\u001b[0m\u001b[0m_initialize_kindiffeq_matrices\u001b[0m\u001b[0;34m(\u001b[0m\u001b[0mkd_eqs\u001b[0m\u001b[0;34m)\u001b[0m\u001b[0;34m\u001b[0m\u001b[0;34m\u001b[0m\u001b[0m\n\u001b[0;32m--> 162\u001b[0;31m         self._initialize_constraint_matrices(configuration_constraints,\n\u001b[0m\u001b[1;32m    163\u001b[0m                 velocity_constraints, acceleration_constraints)\n\u001b[1;32m    164\u001b[0m \u001b[0;34m\u001b[0m\u001b[0m\n",
            "\u001b[0;32m/usr/local/lib/python3.10/dist-packages/sympy/physics/mechanics/kane.py\u001b[0m in \u001b[0;36m_initialize_constraint_matrices\u001b[0;34m(self, config, vel, acc)\u001b[0m\n\u001b[1;32m    211\u001b[0m         \u001b[0macc\u001b[0m \u001b[0;34m=\u001b[0m \u001b[0mnone_handler\u001b[0m\u001b[0;34m(\u001b[0m\u001b[0macc\u001b[0m\u001b[0;34m)\u001b[0m\u001b[0;34m\u001b[0m\u001b[0;34m\u001b[0m\u001b[0m\n\u001b[1;32m    212\u001b[0m         \u001b[0;32mif\u001b[0m \u001b[0mlen\u001b[0m\u001b[0;34m(\u001b[0m\u001b[0mvel\u001b[0m\u001b[0;34m)\u001b[0m \u001b[0;34m!=\u001b[0m \u001b[0mm\u001b[0m\u001b[0;34m:\u001b[0m\u001b[0;34m\u001b[0m\u001b[0;34m\u001b[0m\u001b[0m\n\u001b[0;32m--> 213\u001b[0;31m             raise ValueError('There must be an equal number of dependent '\n\u001b[0m\u001b[1;32m    214\u001b[0m                              'speeds and velocity constraints.')\n\u001b[1;32m    215\u001b[0m         \u001b[0;32mif\u001b[0m \u001b[0macc\u001b[0m \u001b[0;32mand\u001b[0m \u001b[0;34m(\u001b[0m\u001b[0mlen\u001b[0m\u001b[0;34m(\u001b[0m\u001b[0macc\u001b[0m\u001b[0;34m)\u001b[0m \u001b[0;34m!=\u001b[0m \u001b[0mm\u001b[0m\u001b[0;34m)\u001b[0m\u001b[0;34m:\u001b[0m\u001b[0;34m\u001b[0m\u001b[0;34m\u001b[0m\u001b[0m\n",
            "\u001b[0;31mValueError\u001b[0m: There must be an equal number of dependent speeds and velocity constraints."
          ]
        }
      ]
    },
    {
      "cell_type": "code",
      "source": [
        "kaneeq[0]"
      ],
      "metadata": {
        "colab": {
          "base_uri": "https://localhost:8080/",
          "height": 79
        },
        "id": "QGCdcDneNGN3",
        "outputId": "0d9eb01e-a24e-4d22-c842-a6ad5c3e0d3f"
      },
      "execution_count": 625,
      "outputs": [
        {
          "output_type": "execute_result",
          "data": {
            "text/plain": [
              "Matrix([\n",
              "[      -k1*(q3(t) - x_0(t))*q2(t)/sqrt(q2(t)**2 + q3(t)**2)],\n",
              "[-M*g + k1*(q3(t) - x_0(t))*q3(t)/sqrt(q2(t)**2 + q3(t)**2)]])"
            ],
            "text/latex": "$\\displaystyle \\left[\\begin{matrix}- \\frac{k_{1} \\left(q_{3}{\\left(t \\right)} - x_{0}{\\left(t \\right)}\\right) q_{2}{\\left(t \\right)}}{\\sqrt{q_{2}^{2}{\\left(t \\right)} + q_{3}^{2}{\\left(t \\right)}}}\\\\- M g + \\frac{k_{1} \\left(q_{3}{\\left(t \\right)} - x_{0}{\\left(t \\right)}\\right) q_{3}{\\left(t \\right)}}{\\sqrt{q_{2}^{2}{\\left(t \\right)} + q_{3}^{2}{\\left(t \\right)}}}\\end{matrix}\\right]$"
          },
          "metadata": {},
          "execution_count": 625
        }
      ]
    },
    {
      "cell_type": "code",
      "source": [
        "kaneeq[1]"
      ],
      "metadata": {
        "colab": {
          "base_uri": "https://localhost:8080/",
          "height": 59
        },
        "id": "DbyZJNH2Pi8p",
        "outputId": "2cffd879-81ff-4cb4-f016-e58ed23a72cf"
      },
      "execution_count": 626,
      "outputs": [
        {
          "output_type": "execute_result",
          "data": {
            "text/plain": [
              "Matrix([\n",
              "[-M*Derivative(u2(t), t)],\n",
              "[-M*Derivative(u3(t), t)]])"
            ],
            "text/latex": "$\\displaystyle \\left[\\begin{matrix}- M \\frac{d}{d t} u_{2}{\\left(t \\right)}\\\\- M \\frac{d}{d t} u_{3}{\\left(t \\right)}\\end{matrix}\\right]$"
          },
          "metadata": {},
          "execution_count": 626
        }
      ]
    },
    {
      "cell_type": "code",
      "source": [
        "kane.q"
      ],
      "metadata": {
        "colab": {
          "base_uri": "https://localhost:8080/",
          "height": 58
        },
        "id": "oYaettnucmuc",
        "outputId": "ad165299-232f-41e6-9b6e-02164d064a08"
      },
      "execution_count": 627,
      "outputs": [
        {
          "output_type": "execute_result",
          "data": {
            "text/plain": [
              "Matrix([\n",
              "[q2(t)],\n",
              "[q3(t)]])"
            ],
            "text/latex": "$\\displaystyle \\left[\\begin{matrix}q_{2}{\\left(t \\right)}\\\\q_{3}{\\left(t \\right)}\\end{matrix}\\right]$"
          },
          "metadata": {},
          "execution_count": 627
        }
      ]
    },
    {
      "cell_type": "code",
      "source": [
        "kanel = kane.to_linearizer()\n",
        "A, B = kanel.linearize(A_and_B=True, op_point={q2:0})\n",
        "#A, B = kanel.linearize(A_and_B=True, op_point={alpha_z1:beta_z1})"
      ],
      "metadata": {
        "id": "hqsWyTu5Pk15"
      },
      "execution_count": 629,
      "outputs": []
    },
    {
      "cell_type": "code",
      "source": [
        "kanel.r"
      ],
      "metadata": {
        "colab": {
          "base_uri": "https://localhost:8080/",
          "height": 39
        },
        "id": "vXmMqFcucnxL",
        "outputId": "719ffb91-c852-4710-debb-77f06f97af26"
      },
      "execution_count": 630,
      "outputs": [
        {
          "output_type": "execute_result",
          "data": {
            "text/plain": [
              "Matrix([[x_0(t)]])"
            ],
            "text/latex": "$\\displaystyle \\left[\\begin{matrix}x_{0}{\\left(t \\right)}\\end{matrix}\\right]$"
          },
          "metadata": {},
          "execution_count": 630
        }
      ]
    },
    {
      "cell_type": "code",
      "source": [
        "A"
      ],
      "metadata": {
        "colab": {
          "base_uri": "https://localhost:8080/",
          "height": 105
        },
        "id": "wW6VncOEUa4d",
        "outputId": "fbc03d54-cffa-45d1-8b6d-04e4deff5996"
      },
      "execution_count": 631,
      "outputs": [
        {
          "output_type": "execute_result",
          "data": {
            "text/plain": [
              "Matrix([\n",
              "[                             0,    0, 1,  0],\n",
              "[                             0,    0, 0, -1],\n",
              "[-k1*(q3(t) - x_0(t))/(M*q3(t)),    0, 0,  0],\n",
              "[                             0, k1/M, 0,  0]])"
            ],
            "text/latex": "$\\displaystyle \\left[\\begin{matrix}0 & 0 & 1 & 0\\\\0 & 0 & 0 & -1\\\\- \\frac{k_{1} \\left(q_{3}{\\left(t \\right)} - x_{0}{\\left(t \\right)}\\right)}{M q_{3}{\\left(t \\right)}} & 0 & 0 & 0\\\\0 & \\frac{k_{1}}{M} & 0 & 0\\end{matrix}\\right]$"
          },
          "metadata": {},
          "execution_count": 631
        }
      ]
    },
    {
      "cell_type": "code",
      "source": [
        "B"
      ],
      "metadata": {
        "colab": {
          "base_uri": "https://localhost:8080/",
          "height": 99
        },
        "id": "kykVWP0vUbux",
        "outputId": "01092d1d-3518-421f-e6e7-091525ecdc6f"
      },
      "execution_count": 632,
      "outputs": [
        {
          "output_type": "execute_result",
          "data": {
            "text/plain": [
              "Matrix([\n",
              "[    0],\n",
              "[    0],\n",
              "[    0],\n",
              "[-k1/M]])"
            ],
            "text/latex": "$\\displaystyle \\left[\\begin{matrix}0\\\\0\\\\0\\\\- \\frac{k_{1}}{M}\\end{matrix}\\right]$"
          },
          "metadata": {},
          "execution_count": 632
        }
      ]
    },
    {
      "cell_type": "code",
      "source": [
        "kaneeq[0][0].diff(q2).subs({q2:0})"
      ],
      "metadata": {
        "colab": {
          "base_uri": "https://localhost:8080/",
          "height": 57
        },
        "id": "8taPiPy0TYGW",
        "outputId": "d3f41afb-c4dd-4127-a891-6d90a2e106c7"
      },
      "execution_count": 633,
      "outputs": [
        {
          "output_type": "execute_result",
          "data": {
            "text/plain": [
              "-k1*(q3(t) - x_0(t))/q3(t)"
            ],
            "text/latex": "$\\displaystyle - \\frac{k_{1} \\left(q_{3}{\\left(t \\right)} - x_{0}{\\left(t \\right)}\\right)}{q_{3}{\\left(t \\right)}}$"
          },
          "metadata": {},
          "execution_count": 633
        }
      ]
    },
    {
      "cell_type": "code",
      "source": [
        "kaneeq[0][1].diff(x_0)"
      ],
      "metadata": {
        "colab": {
          "base_uri": "https://localhost:8080/",
          "height": 60
        },
        "id": "cjDPW77MTh0r",
        "outputId": "dedf88b4-28c9-493b-b5bd-c26df7228c60"
      },
      "execution_count": 634,
      "outputs": [
        {
          "output_type": "execute_result",
          "data": {
            "text/plain": [
              "-k1*q3(t)/sqrt(q2(t)**2 + q3(t)**2)"
            ],
            "text/latex": "$\\displaystyle - \\frac{k_{1} q_{3}{\\left(t \\right)}}{\\sqrt{q_{2}^{2}{\\left(t \\right)} + q_{3}^{2}{\\left(t \\right)}}}$"
          },
          "metadata": {},
          "execution_count": 634
        }
      ]
    },
    {
      "cell_type": "code",
      "source": [
        "A"
      ],
      "metadata": {
        "colab": {
          "base_uri": "https://localhost:8080/",
          "height": 105
        },
        "id": "pmKTuuyyQKYV",
        "outputId": "6e96bb2e-72ab-40e2-b824-fbb8512573c1"
      },
      "execution_count": 500,
      "outputs": [
        {
          "output_type": "execute_result",
          "data": {
            "text/plain": [
              "Matrix([\n",
              "[                             0,    0, 1,  0],\n",
              "[                             0,    0, 0, -1],\n",
              "[-k1*(q3(t) - x_0(t))/(M*q3(t)),    0, 0,  0],\n",
              "[                             0, k1/M, 0,  0]])"
            ],
            "text/latex": "$\\displaystyle \\left[\\begin{matrix}0 & 0 & 1 & 0\\\\0 & 0 & 0 & -1\\\\- \\frac{k_{1} \\left(q_{3}{\\left(t \\right)} - x_{0}{\\left(t \\right)}\\right)}{M q_{3}{\\left(t \\right)}} & 0 & 0 & 0\\\\0 & \\frac{k_{1}}{M} & 0 & 0\\end{matrix}\\right]$"
          },
          "metadata": {},
          "execution_count": 500
        }
      ]
    },
    {
      "cell_type": "code",
      "source": [
        "B"
      ],
      "metadata": {
        "colab": {
          "base_uri": "https://localhost:8080/",
          "height": 99
        },
        "id": "onza6IoiQKvs",
        "outputId": "9d33b9eb-b969-48c5-bf55-0498f9c52643"
      },
      "execution_count": 501,
      "outputs": [
        {
          "output_type": "execute_result",
          "data": {
            "text/plain": [
              "Matrix([\n",
              "[    0],\n",
              "[    0],\n",
              "[    0],\n",
              "[-k1/M]])"
            ],
            "text/latex": "$\\displaystyle \\left[\\begin{matrix}0\\\\0\\\\0\\\\- \\frac{k_{1}}{M}\\end{matrix}\\right]$"
          },
          "metadata": {},
          "execution_count": 501
        }
      ]
    },
    {
      "cell_type": "code",
      "source": [
        "kane.q"
      ],
      "metadata": {
        "colab": {
          "base_uri": "https://localhost:8080/",
          "height": 78
        },
        "id": "8RMXAQRjQY6c",
        "outputId": "f21a2877-75ee-4627-cce4-123078c95c42"
      },
      "execution_count": 544,
      "outputs": [
        {
          "output_type": "execute_result",
          "data": {
            "text/plain": [
              "Matrix([\n",
              "[alpha_z1(t)],\n",
              "[      q2(t)],\n",
              "[      q3(t)]])"
            ],
            "text/latex": "$\\displaystyle \\left[\\begin{matrix}\\alpha_{z1}{\\left(t \\right)}\\\\q_{2}{\\left(t \\right)}\\\\q_{3}{\\left(t \\right)}\\end{matrix}\\right]$"
          },
          "metadata": {},
          "execution_count": 544
        }
      ]
    },
    {
      "cell_type": "code",
      "source": [
        "kanel.r"
      ],
      "metadata": {
        "colab": {
          "base_uri": "https://localhost:8080/",
          "height": 58
        },
        "id": "Z3hOx1njQL5b",
        "outputId": "c841bbd9-4652-4f1e-cdbc-7a7b3414d9de"
      },
      "execution_count": 543,
      "outputs": [
        {
          "output_type": "execute_result",
          "data": {
            "text/plain": [
              "Matrix([\n",
              "[beta_z1(t)],\n",
              "[    x_0(t)]])"
            ],
            "text/latex": "$\\displaystyle \\left[\\begin{matrix}\\beta_{z1}{\\left(t \\right)}\\\\x_{0}{\\left(t \\right)}\\end{matrix}\\right]$"
          },
          "metadata": {},
          "execution_count": 543
        }
      ]
    },
    {
      "cell_type": "code",
      "source": [
        "from sympy import zeros, symbols\n",
        "from sympy import symbols, Matrix, solve, simplify\n",
        "from sympy import Matrix\n",
        "from sympy.physics.mechanics import Body, PinJoint, SphericalJoint, PlanarJoint, PrismaticJoint, JointsMethod, inertia\n",
        "from sympy.physics.mechanics import dynamicsymbols\n",
        "from sympy import Symbol\n",
        "from sympy.physics.mechanics import dynamicsymbols, ReferenceFrame, outer\n",
        "from sympy.physics.mechanics import ReferenceFrame, Point, RigidBody\n",
        "from sympy.physics.mechanics import kinetic_energy, potential_energy, Point, Particle\n",
        "\n",
        "import sympy as smp\n",
        "import numpy as np\n",
        "import matplotlib.pyplot as plt\n",
        "import sympy.physics.mechanics as me\n",
        "\n",
        "\n",
        "O = Point('O')\n",
        "P1 = Point('P1')\n",
        "P2 = Point('P2')\n",
        "P3 = Point('P3')\n",
        "Xc = Point('Xc')\n",
        "Xd = Point('Xd')\n",
        "\n",
        "q1, q2, q3, q4, q5, q6 = dynamicsymbols('q1, q2, q3, q4, q5, q6', real=True, positive=True)\n",
        "u1, u2, u3, u4, u5, u6 = dynamicsymbols('u1, u2, u3, u4, u5, u6')\n",
        "alpha_z1, beta_z1 = dynamicsymbols('alpha_z1 beta_z1')\n",
        "alpha_x1, beta_x1 = dynamicsymbols('alpha_x1 beta_x1')\n",
        "alpha_y1, beta_y1 = dynamicsymbols('alpha_y1 beta_y1')\n",
        "x_0 = dynamicsymbols('x_0')\n",
        "ixx1, iyy1, izz1 = symbols('ixx1 iyy1 izz1')\n",
        "M,g,t = symbols('M g t')\n",
        "omega_z1 = dynamicsymbols('omega_z1')\n",
        "omega_x1 = dynamicsymbols('omega_x1')\n",
        "omega_y1 = dynamicsymbols('omega_y1')\n",
        "#L = dynamicsymbols('L')\n",
        "L = symbols('L')\n",
        "T1 = symbols('T1')\n",
        "k1 = symbols('k1')\n",
        "delta_l1 = symbols('delta_l1')\n",
        "\n",
        "N = ReferenceFrame('N')\n",
        "Na = ReferenceFrame('Na')\n",
        "\n",
        "Na.orient_axis(N, 0, N.z)\n",
        "\n",
        "\n",
        "P1.set_vel(frame=N, value=0)\n",
        "\n",
        "Xc.set_pos(P1, q2*N.z - q3*N.y)\n",
        "Xc.set_vel(N, u2*N.z + u3*N.y)\n",
        "\n",
        "P2.set_pos(Xc, -L*Na.y)\n",
        "\n",
        "\n",
        "# ceiling = Body('c', masscenter=P1, frame=N)\n",
        "# p2body = Body('p2body', masscenter=P2, frame=Na)\n",
        "\n",
        "\n",
        "# rev1 = SphericalJoint(name='p1p2', parent=ceiling, child=p2body, parent_point=P1, child_point=P2, amounts=[alpha_x1,0,0], coordinates=[alpha_x1,alpha_y1, alpha_z1],\n",
        "#                       speeds=[omega_x1, omega_y1, omega_z1],\n",
        "#                      rot_order='XYZ')\n",
        "\n",
        "\n",
        "\n",
        "body_inertia = inertia(Na, ixx1, 0, 0)\n",
        "block = Body('block', mass=M, masscenter=Xc, frame=Na, central_inertia=body_inertia)\n",
        "Na.orient_axis(N, alpha_x1-beta_x1, N.x)\n",
        "\n",
        "# rev2 = PrismaticJoint('J2', parent=p2body, child=block, parent_point=P2, child_point=Xc, coordinates=q4, speeds=u4,\n",
        "#                       joint_axis=-Na.y)\n",
        "# Na.orient_axis(N, alpha_x1, N.x)\n",
        "\n",
        "block.frame.set_ang_vel(N, omega_x1*N.x)\n",
        "block.apply_force(-M*g*N.y, point=P2)\n",
        "\n",
        "T1 = k1*delta_l1\n",
        "T1 = T1.subs({delta_l1: L - x_0})\n",
        "\n",
        "block.apply_force(T1*Na.y, point=Xc)\n",
        "\n",
        "\n",
        "\n",
        "kane = me.KanesMethod(N, q_ind=[alpha_x1, q2, q3],\n",
        "\n",
        "                      u_ind = [omega_x1, u2, u3],\n",
        "\n",
        "                      kd_eqs=[alpha_x1.diff(t) - omega_x1, q2.diff(t) - u2,\n",
        "                               q3.diff(t) - u3\n",
        "                              ])\n",
        "kaneeq = kane.kanes_equations([block], block.loads)"
      ],
      "metadata": {
        "id": "f0wGp8FaSYOL"
      },
      "execution_count": 106,
      "outputs": []
    },
    {
      "cell_type": "code",
      "source": [
        "P2.pos_from(Xc)"
      ],
      "metadata": {
        "colab": {
          "base_uri": "https://localhost:8080/",
          "height": 39
        },
        "id": "sqUGivCj03dT",
        "outputId": "53b83924-bf1f-43e6-9bc7-573ae12290bb"
      },
      "execution_count": 107,
      "outputs": [
        {
          "output_type": "execute_result",
          "data": {
            "text/plain": [
              "- L*Na.y"
            ],
            "text/latex": "$\\displaystyle -  L\\mathbf{\\hat{na}_y}$"
          },
          "metadata": {},
          "execution_count": 107
        }
      ]
    },
    {
      "cell_type": "code",
      "source": [
        "block.loads"
      ],
      "metadata": {
        "colab": {
          "base_uri": "https://localhost:8080/"
        },
        "id": "PU2U1QG-0QbR",
        "outputId": "345c4e16-a601-4b46-fd94-f40a5db14daa"
      },
      "execution_count": 108,
      "outputs": [
        {
          "output_type": "execute_result",
          "data": {
            "text/plain": [
              "[(P2, - M*g*N.y), (Xc, k1*(L - x_0(t))*Na.y)]"
            ]
          },
          "metadata": {},
          "execution_count": 108
        }
      ]
    },
    {
      "cell_type": "code",
      "source": [
        "kane.q"
      ],
      "metadata": {
        "colab": {
          "base_uri": "https://localhost:8080/",
          "height": 78
        },
        "id": "17iXg3urqbHL",
        "outputId": "b04e5b86-6d6c-47cb-8205-3692a85d400c"
      },
      "execution_count": 109,
      "outputs": [
        {
          "output_type": "execute_result",
          "data": {
            "text/plain": [
              "Matrix([\n",
              "[alpha_x1(t)],\n",
              "[      q2(t)],\n",
              "[      q3(t)]])"
            ],
            "text/latex": "$\\displaystyle \\left[\\begin{matrix}\\alpha_{x1}{\\left(t \\right)}\\\\q_{2}{\\left(t \\right)}\\\\q_{3}{\\left(t \\right)}\\end{matrix}\\right]$"
          },
          "metadata": {},
          "execution_count": 109
        }
      ]
    },
    {
      "cell_type": "code",
      "source": [
        "kaneeq[0]"
      ],
      "metadata": {
        "colab": {
          "base_uri": "https://localhost:8080/",
          "height": 78
        },
        "id": "64kRAyOuo00h",
        "outputId": "ea1194f9-bbbb-4fde-96d4-5f1014aa51f2"
      },
      "execution_count": 110,
      "outputs": [
        {
          "output_type": "execute_result",
          "data": {
            "text/plain": [
              "Matrix([\n",
              "[                -L*M*g*sin(alpha_x1(t) - beta_x1(t))],\n",
              "[       k1*(L - x_0(t))*sin(alpha_x1(t) - beta_x1(t))],\n",
              "[-M*g + k1*(L - x_0(t))*cos(alpha_x1(t) - beta_x1(t))]])"
            ],
            "text/latex": "$\\displaystyle \\left[\\begin{matrix}- L M g \\sin{\\left(\\alpha_{x1}{\\left(t \\right)} - \\beta_{x1}{\\left(t \\right)} \\right)}\\\\k_{1} \\left(L - x_{0}{\\left(t \\right)}\\right) \\sin{\\left(\\alpha_{x1}{\\left(t \\right)} - \\beta_{x1}{\\left(t \\right)} \\right)}\\\\- M g + k_{1} \\left(L - x_{0}{\\left(t \\right)}\\right) \\cos{\\left(\\alpha_{x1}{\\left(t \\right)} - \\beta_{x1}{\\left(t \\right)} \\right)}\\end{matrix}\\right]$"
          },
          "metadata": {},
          "execution_count": 110
        }
      ]
    },
    {
      "cell_type": "code",
      "source": [
        "kaneeq[1]"
      ],
      "metadata": {
        "colab": {
          "base_uri": "https://localhost:8080/",
          "height": 80
        },
        "id": "DiBLJHm_o12n",
        "outputId": "51981079-21fc-47f7-c07d-3d40ccc366a2"
      },
      "execution_count": 111,
      "outputs": [
        {
          "output_type": "execute_result",
          "data": {
            "text/plain": [
              "Matrix([\n",
              "[-ixx1*Derivative(omega_x1(t), t)],\n",
              "[         -M*Derivative(u2(t), t)],\n",
              "[         -M*Derivative(u3(t), t)]])"
            ],
            "text/latex": "$\\displaystyle \\left[\\begin{matrix}- ixx_{1} \\frac{d}{d t} \\omega_{x1}{\\left(t \\right)}\\\\- M \\frac{d}{d t} u_{2}{\\left(t \\right)}\\\\- M \\frac{d}{d t} u_{3}{\\left(t \\right)}\\end{matrix}\\right]$"
          },
          "metadata": {},
          "execution_count": 111
        }
      ]
    },
    {
      "cell_type": "code",
      "source": [
        "kanel = kane.to_linearizer()\n",
        "A, B = kanel.linearize(A_and_B=True, op_point={alpha_x1:beta_x1})"
      ],
      "metadata": {
        "id": "ad2BZNrXrJ50"
      },
      "execution_count": 112,
      "outputs": []
    },
    {
      "cell_type": "code",
      "source": [
        "A"
      ],
      "metadata": {
        "colab": {
          "base_uri": "https://localhost:8080/",
          "height": 145
        },
        "id": "UGT7EHSZrOwb",
        "outputId": "6e420757-234a-4ff5-9afe-89a157e306fc"
      },
      "execution_count": 113,
      "outputs": [
        {
          "output_type": "execute_result",
          "data": {
            "text/plain": [
              "Matrix([\n",
              "[                0, 0, 0, 1, 0, 0],\n",
              "[                0, 0, 0, 0, 1, 0],\n",
              "[                0, 0, 0, 0, 0, 1],\n",
              "[      -L*M*g/ixx1, 0, 0, 0, 0, 0],\n",
              "[k1*(L - x_0(t))/M, 0, 0, 0, 0, 0],\n",
              "[                0, 0, 0, 0, 0, 0]])"
            ],
            "text/latex": "$\\displaystyle \\left[\\begin{matrix}0 & 0 & 0 & 1 & 0 & 0\\\\0 & 0 & 0 & 0 & 1 & 0\\\\0 & 0 & 0 & 0 & 0 & 1\\\\- \\frac{L M g}{ixx_{1}} & 0 & 0 & 0 & 0 & 0\\\\\\frac{k_{1} \\left(L - x_{0}{\\left(t \\right)}\\right)}{M} & 0 & 0 & 0 & 0 & 0\\\\0 & 0 & 0 & 0 & 0 & 0\\end{matrix}\\right]$"
          },
          "metadata": {},
          "execution_count": 113
        }
      ]
    },
    {
      "cell_type": "code",
      "source": [
        "B"
      ],
      "metadata": {
        "colab": {
          "base_uri": "https://localhost:8080/",
          "height": 146
        },
        "id": "p616U1VgrPu6",
        "outputId": "31231cf2-6105-4893-807d-52ca455bf4ff"
      },
      "execution_count": 114,
      "outputs": [
        {
          "output_type": "execute_result",
          "data": {
            "text/plain": [
              "Matrix([\n",
              "[                 0,     0],\n",
              "[                 0,     0],\n",
              "[                 0,     0],\n",
              "[        L*M*g/ixx1,     0],\n",
              "[-k1*(L - x_0(t))/M,     0],\n",
              "[                 0, -k1/M]])"
            ],
            "text/latex": "$\\displaystyle \\left[\\begin{matrix}0 & 0\\\\0 & 0\\\\0 & 0\\\\\\frac{L M g}{ixx_{1}} & 0\\\\- \\frac{k_{1} \\left(L - x_{0}{\\left(t \\right)}\\right)}{M} & 0\\\\0 & - \\frac{k_{1}}{M}\\end{matrix}\\right]$"
          },
          "metadata": {},
          "execution_count": 114
        }
      ]
    },
    {
      "cell_type": "code",
      "source": [
        "block.ang_vel_in(N)"
      ],
      "metadata": {
        "colab": {
          "base_uri": "https://localhost:8080/",
          "height": 39
        },
        "id": "epJFf52No2zQ",
        "outputId": "1ae50fbc-5e7b-4e11-f4b4-a0b8f9fb2833"
      },
      "execution_count": 92,
      "outputs": [
        {
          "output_type": "execute_result",
          "data": {
            "text/plain": [
              "omega_x1(t)*N.x"
            ],
            "text/latex": "$\\displaystyle \\omega_{x1}{\\left(t \\right)}\\mathbf{\\hat{n}_x}$"
          },
          "metadata": {},
          "execution_count": 92
        }
      ]
    },
    {
      "cell_type": "code",
      "source": [
        "Xc.pos_from(P2).express(N)"
      ],
      "metadata": {
        "colab": {
          "base_uri": "https://localhost:8080/",
          "height": 39
        },
        "id": "nWMiFgW-pUNC",
        "outputId": "4541919b-76f7-4d3a-c2ec-80ac71af4f9b"
      },
      "execution_count": 93,
      "outputs": [
        {
          "output_type": "execute_result",
          "data": {
            "text/plain": [
              "L*cos(alpha_x1(t) - beta_x1(t))*N.y + L*sin(alpha_x1(t) - beta_x1(t))*N.z"
            ],
            "text/latex": "$\\displaystyle L \\cos{\\left(\\alpha_{x1}{\\left(t \\right)} - \\beta_{x1}{\\left(t \\right)} \\right)}\\mathbf{\\hat{n}_y} + L \\sin{\\left(\\alpha_{x1}{\\left(t \\right)} - \\beta_{x1}{\\left(t \\right)} \\right)}\\mathbf{\\hat{n}_z}$"
          },
          "metadata": {},
          "execution_count": 93
        }
      ]
    },
    {
      "cell_type": "code",
      "source": [
        "block.loads[0][1].express(Na)"
      ],
      "metadata": {
        "colab": {
          "base_uri": "https://localhost:8080/",
          "height": 39
        },
        "id": "sXE3FXCrpyFi",
        "outputId": "7491a005-a3ed-43eb-c967-91d188b7711d"
      },
      "execution_count": 94,
      "outputs": [
        {
          "output_type": "execute_result",
          "data": {
            "text/plain": [
              "- M*g*cos(alpha_x1(t) - beta_x1(t))*Na.y + M*g*sin(alpha_x1(t) - beta_x1(t))*Na.z"
            ],
            "text/latex": "$\\displaystyle -  M g \\cos{\\left(\\alpha_{x1}{\\left(t \\right)} - \\beta_{x1}{\\left(t \\right)} \\right)}\\mathbf{\\hat{na}_y} + M g \\sin{\\left(\\alpha_{x1}{\\left(t \\right)} - \\beta_{x1}{\\left(t \\right)} \\right)}\\mathbf{\\hat{na}_z}$"
          },
          "metadata": {},
          "execution_count": 94
        }
      ]
    },
    {
      "cell_type": "code",
      "source": [
        "kanel.r"
      ],
      "metadata": {
        "colab": {
          "base_uri": "https://localhost:8080/",
          "height": 58
        },
        "id": "gOZ4uiqCqW4w",
        "outputId": "dd0eacfe-df90-4ee5-8ed3-85dfd968dd0e"
      },
      "execution_count": 95,
      "outputs": [
        {
          "output_type": "execute_result",
          "data": {
            "text/plain": [
              "Matrix([\n",
              "[beta_x1(t)],\n",
              "[    x_0(t)]])"
            ],
            "text/latex": "$\\displaystyle \\left[\\begin{matrix}\\beta_{x1}{\\left(t \\right)}\\\\x_{0}{\\left(t \\right)}\\end{matrix}\\right]$"
          },
          "metadata": {},
          "execution_count": 95
        }
      ]
    },
    {
      "cell_type": "code",
      "source": [
        "from sympy import zeros, symbols\n",
        "from sympy import symbols, Matrix, solve, simplify\n",
        "from sympy import Matrix\n",
        "from sympy.physics.mechanics import Body, PinJoint, SphericalJoint, PlanarJoint, PrismaticJoint, JointsMethod, inertia\n",
        "from sympy.physics.mechanics import dynamicsymbols\n",
        "from sympy import Symbol\n",
        "from sympy.physics.mechanics import dynamicsymbols, ReferenceFrame, outer\n",
        "from sympy.physics.mechanics import ReferenceFrame, Point, RigidBody\n",
        "from sympy.physics.mechanics import kinetic_energy, potential_energy, Point, Particle\n",
        "\n",
        "import sympy as smp\n",
        "import numpy as np\n",
        "import matplotlib.pyplot as plt\n",
        "import sympy.physics.mechanics as me\n",
        "\n",
        "\n",
        "O = Point('O')\n",
        "P1 = Point('P1')\n",
        "P2 = Point('P2')\n",
        "Xc = Point('Xc')\n",
        "\n",
        "q1, q2, q3, q4, q5, q6 = dynamicsymbols('q1, q2, q3, q4, q5, q6', real=True, positive=True)\n",
        "u1, u2, u3, u4, u5, u6 = dynamicsymbols('u1, u2, u3, u4, u5, u6')\n",
        "alpha_z1, beta_z1 = dynamicsymbols('alpha_z1 beta_z1')\n",
        "alpha_x1, beta_x1 = dynamicsymbols('alpha_x1 beta_x1')\n",
        "alpha_y1, beta_y1 = dynamicsymbols('alpha_y1 beta_y1')\n",
        "x_0 = dynamicsymbols('x_0')\n",
        "ixx1, iyy1, izz1 = symbols('ixx1 iyy1 izz1')\n",
        "M,g,t = symbols('M g t')\n",
        "omega_z1 = dynamicsymbols('omega_z1')\n",
        "omega_x1 = dynamicsymbols('omega_x1')\n",
        "omega_y1 = dynamicsymbols('omega_y1')\n",
        "L = symbols('L')\n",
        "T1 = symbols('T1')\n",
        "k1 = symbols('k1')\n",
        "delta_l1 = symbols('delta_l1')\n",
        "\n",
        "N = ReferenceFrame('N')\n",
        "Na = ReferenceFrame('Na')\n",
        "\n",
        "Na.orient_axis(N, 0, N.z)\n",
        "\n",
        "\n",
        "P1.set_vel(frame=N, value=0)\n",
        "\n",
        "Xc.set_pos(P1, q2*N.z - q3*N.y)\n",
        "Xc.set_vel(N, u2*N.z + u3*N.y)\n",
        "\n",
        "P2.set_pos(Xc, -L*Na.y)\n",
        "\n",
        "\n",
        "\n",
        "\n",
        "\n",
        "body_inertia = inertia(Na, ixx1, 0, 0)\n",
        "block = Body('block', mass=M, masscenter=Xc, frame=Na, central_inertia=body_inertia)\n",
        "Na.orient_axis(N, alpha_x1, N.x)\n",
        "\n",
        "\n",
        "block.frame.set_ang_vel(N, omega_x1*N.x)\n",
        "block.apply_force(-M*g*N.y, point=P2)\n",
        "\n",
        "\n",
        "\n",
        "kane = me.KanesMethod(N, q_ind=[alpha_x1, q2, q3],\n",
        "\n",
        "                      u_ind = [omega_x1, u2, u3],\n",
        "\n",
        "                      kd_eqs=[alpha_x1.diff(t) - omega_x1, q2.diff(t) - u2,\n",
        "                               q3.diff(t) - u3\n",
        "                              ])\n",
        "kaneeq = kane.kanes_equations([block], block.loads)"
      ],
      "metadata": {
        "id": "yhiWgx4KsaNY"
      },
      "execution_count": 103,
      "outputs": []
    },
    {
      "cell_type": "code",
      "source": [
        "kane.q"
      ],
      "metadata": {
        "colab": {
          "base_uri": "https://localhost:8080/",
          "height": 78
        },
        "id": "YwaSwdJpWGOY",
        "outputId": "ac47a6b3-b762-4a35-be2e-189df5f14aaa"
      },
      "execution_count": 104,
      "outputs": [
        {
          "output_type": "execute_result",
          "data": {
            "text/plain": [
              "Matrix([\n",
              "[alpha_x1(t)],\n",
              "[      q2(t)],\n",
              "[      q3(t)]])"
            ],
            "text/latex": "$\\displaystyle \\left[\\begin{matrix}\\alpha_{x1}{\\left(t \\right)}\\\\q_{2}{\\left(t \\right)}\\\\q_{3}{\\left(t \\right)}\\end{matrix}\\right]$"
          },
          "metadata": {},
          "execution_count": 104
        }
      ]
    },
    {
      "cell_type": "code",
      "source": [
        "kaneeq[0]"
      ],
      "metadata": {
        "colab": {
          "base_uri": "https://localhost:8080/",
          "height": 78
        },
        "id": "KCDF9wGwBco1",
        "outputId": "1177bc3f-ef51-4166-8761-34d749e1d739"
      },
      "execution_count": 105,
      "outputs": [
        {
          "output_type": "execute_result",
          "data": {
            "text/plain": [
              "Matrix([\n",
              "[-L*M*g*sin(alpha_x1(t))],\n",
              "[                      0],\n",
              "[                   -M*g]])"
            ],
            "text/latex": "$\\displaystyle \\left[\\begin{matrix}- L M g \\sin{\\left(\\alpha_{x1}{\\left(t \\right)} \\right)}\\\\0\\\\- M g\\end{matrix}\\right]$"
          },
          "metadata": {},
          "execution_count": 105
        }
      ]
    },
    {
      "cell_type": "code",
      "source": [
        "kaneeq[1]"
      ],
      "metadata": {
        "colab": {
          "base_uri": "https://localhost:8080/",
          "height": 80
        },
        "id": "VjpI8QUxBfJz",
        "outputId": "1155d476-6bb8-4439-9184-d662dda583d1"
      },
      "execution_count": 98,
      "outputs": [
        {
          "output_type": "execute_result",
          "data": {
            "text/plain": [
              "Matrix([\n",
              "[-ixx1*Derivative(omega_x1(t), t)],\n",
              "[         -M*Derivative(u2(t), t)],\n",
              "[         -M*Derivative(u3(t), t)]])"
            ],
            "text/latex": "$\\displaystyle \\left[\\begin{matrix}- ixx_{1} \\frac{d}{d t} \\omega_{x1}{\\left(t \\right)}\\\\- M \\frac{d}{d t} u_{2}{\\left(t \\right)}\\\\- M \\frac{d}{d t} u_{3}{\\left(t \\right)}\\end{matrix}\\right]$"
          },
          "metadata": {},
          "execution_count": 98
        }
      ]
    },
    {
      "cell_type": "code",
      "source": [
        "kanel = kane.to_linearizer()\n",
        "A, B = kanel.linearize(A_and_B=True, op_point={alpha_x1:0})"
      ],
      "metadata": {
        "id": "V4cWqVOiBgXS"
      },
      "execution_count": 99,
      "outputs": []
    },
    {
      "cell_type": "code",
      "source": [
        "A"
      ],
      "metadata": {
        "colab": {
          "base_uri": "https://localhost:8080/",
          "height": 142
        },
        "id": "r5CfNtgxBi-E",
        "outputId": "8aa23fc5-241f-4205-81e0-38989246a665"
      },
      "execution_count": 100,
      "outputs": [
        {
          "output_type": "execute_result",
          "data": {
            "text/plain": [
              "Matrix([\n",
              "[          0, 0, 0, 1, 0, 0],\n",
              "[          0, 0, 0, 0, 1, 0],\n",
              "[          0, 0, 0, 0, 0, 1],\n",
              "[-L*M*g/ixx1, 0, 0, 0, 0, 0],\n",
              "[          0, 0, 0, 0, 0, 0],\n",
              "[          0, 0, 0, 0, 0, 0]])"
            ],
            "text/latex": "$\\displaystyle \\left[\\begin{matrix}0 & 0 & 0 & 1 & 0 & 0\\\\0 & 0 & 0 & 0 & 1 & 0\\\\0 & 0 & 0 & 0 & 0 & 1\\\\- \\frac{L M g}{ixx_{1}} & 0 & 0 & 0 & 0 & 0\\\\0 & 0 & 0 & 0 & 0 & 0\\\\0 & 0 & 0 & 0 & 0 & 0\\end{matrix}\\right]$"
          },
          "metadata": {},
          "execution_count": 100
        }
      ]
    },
    {
      "cell_type": "code",
      "source": [
        "B"
      ],
      "metadata": {
        "colab": {
          "base_uri": "https://localhost:8080/",
          "height": 37
        },
        "id": "UVCNTRFsBjSn",
        "outputId": "34747b40-2d59-4f54-dc1f-d22dc39aa081"
      },
      "execution_count": 101,
      "outputs": [
        {
          "output_type": "execute_result",
          "data": {
            "text/plain": [
              "Matrix(0, 0, [])"
            ],
            "text/latex": "$\\displaystyle \\left[\\begin{matrix}\\end{matrix}\\right]$"
          },
          "metadata": {},
          "execution_count": 101
        }
      ]
    },
    {
      "cell_type": "code",
      "source": [],
      "metadata": {
        "id": "9jElxqfWBqnn"
      },
      "execution_count": null,
      "outputs": []
    }
  ]
}