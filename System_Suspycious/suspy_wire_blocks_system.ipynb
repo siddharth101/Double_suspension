{
 "cells": [
  {
   "cell_type": "code",
   "execution_count": 1,
   "id": "94da8e82-f879-4ede-a35c-e8c3e3c21841",
   "metadata": {},
   "outputs": [],
   "source": [
    "from sympy.physics.mechanics import (\n",
    "    dynamicsymbols, ReferenceFrame, Point, RigidBody, Particle, System, Force\n",
    ")\n",
    "from sympy import zeros, symbols\n",
    "import sympy\n",
    "import numpy as np\n",
    "import sympy as sp\n",
    "import sympy.physics.mechanics as me\n",
    "from IPython.display import display\n",
    "from suspycious import Model\n",
    "import suspycious.components as scmp\n",
    "from pathway import LinearPathway\n",
    "from utils import add_points, get_tension_dirs, give_deltas, give_tensions, get_linpaths, get_wire_dir, apply_force\n",
    "from utils import (\n",
    "    add_points, make_wire_bodies, get_points, get_deltas, get_linpaths,\n",
    "    get_wires, get_forces, deltas_dict, linpaths_dict, add_wire_info,\n",
    "    get_force_wire, apply_force_on_body, apply_gravity\n",
    ")"
   ]
  },
  {
   "cell_type": "code",
   "execution_count": 2,
   "id": "1c23f5e5-1835-4c10-a4c1-be403fdb14d3",
   "metadata": {},
   "outputs": [],
   "source": [
    "d1, d2, n1, n2, w1, w2 = symbols('d1 d2 n1 n2 w1 w2', real=True, positive=True)\n",
    "d3, n3, w3 = symbols('d3 n3 w3', real=True, positive=True)\n",
    "d4, n4, w4 = symbols('d4 n4 w4', real=True, positive=True)\n",
    "d5, n5, w5 = symbols('d5 n5 w5', real=True, positive=True)\n",
    "d6, n6, w6 = symbols('d6 n6 w6', real=True, positive=True)\n",
    "d7, n7, w7 = symbols('d7 n7 w7', real=True, positive=True)\n",
    "d8, d9 = symbols('d8 d9', real=True, positive=True)\n",
    "\n",
    "l1, l2, l3, l4, l2a = symbols('l1 l2 l3 l4 l_2a', positive=True)"
   ]
  },
  {
   "cell_type": "code",
   "execution_count": 3,
   "id": "4f6e135c-2aed-456b-8529-36b4d1dba182",
   "metadata": {},
   "outputs": [],
   "source": [
    "def set_up_bodies():\n",
    "    model2 = Model()\n",
    "    S = model2.add(scmp.RigidBody(\"S\"))\n",
    "    B = model2.add(scmp.RigidBody(\"B\"))\n",
    "    C = model2.add(scmp.RigidBody(\"C\"))\n",
    "    D = model2.add(scmp.RigidBody(\"D\"))\n",
    "    F = model2.add(scmp.RigidBody(\"F\"))\n",
    "    \n",
    "    S.set_global_position(0,0,0)\n",
    "    B.set_global_position(0,0, -l1-d1)\n",
    "    C.set_global_position(0,0, -l1 -d1-d2-l2-d3)\n",
    "    D.set_global_position(0,0, -l1 -d1-d2-l2-d3-d4-l3-d5)\n",
    "    F.set_global_position(0,0, -l1 -d1-d2-l2-d3-d4-l3-d5-d6-l4-d7)\n",
    "    S.set_global_orientation(0,0,0)\n",
    "    B.set_global_orientation(0,0,0)\n",
    "    C.set_global_orientation(0,0,0)\n",
    "    D.set_global_orientation(0,0,0)\n",
    "    F.set_global_orientation(0,0,0)\n",
    "    \n",
    "    add_points(body=S, point='P', attachment_points=[w1, n1, 0])\n",
    "    \n",
    "    add_points(body=B, point='B', attachment_points=[w1, n1, d1])\n",
    "    add_points(body=B, point='C', attachment_points=[w2, n2, -d2])\n",
    "    \n",
    "    add_points(body=C, point='D', attachment_points=[w2, n2, d3])\n",
    "    add_points(body=C, point='E', attachment_points=[w3, n3, -d4])\n",
    "    \n",
    "    add_points(body=D, point='F', attachment_points=[w3, n3, d5])\n",
    "    add_points(body=D, point='G', attachment_points=[w4, n4, -d6])\n",
    "    \n",
    "    add_points(body=F, point='H', attachment_points=[w4, n4, d7])\n",
    "    add_points(body=F, point='J', attachment_points=[w5, n5, -d8])\n",
    "\n",
    "    return S, B, C, D, F, model2"
   ]
  },
  {
   "cell_type": "code",
   "execution_count": 4,
   "id": "755ecdf2-7028-42a1-900f-fb899ff3889c",
   "metadata": {},
   "outputs": [
    {
     "name": "stderr",
     "output_type": "stream",
     "text": [
      "/Users/siddharth/Desktop/suspycious/src/suspycious/components/body.py:81: SymPyDeprecationWarning: \n",
      "\n",
      "Support for the Body class has been removed, as its functionality is\n",
      "fully captured by RigidBody and Particle.\n",
      "\n",
      "See https://docs.sympy.org/latest/explanation/active-deprecations.html#deprecated-mechanics-body-class\n",
      "for details.\n",
      "\n",
      "This has been deprecated since SymPy version 1.13. It\n",
      "will be removed in a future version of SymPy.\n",
      "\n",
      "  self.__body = mech.Body(\n"
     ]
    }
   ],
   "source": [
    "S, B, C, D, F, model2 = set_up_bodies()"
   ]
  },
  {
   "cell_type": "code",
   "execution_count": 5,
   "id": "bb138fab-8d27-45ef-8acc-98f18c5ce1a4",
   "metadata": {},
   "outputs": [],
   "source": [
    "sys = model2.system"
   ]
  },
  {
   "cell_type": "code",
   "execution_count": 11,
   "id": "f7c979d5-dbac-4a65-9f5c-470fa4fb354c",
   "metadata": {},
   "outputs": [],
   "source": [
    "n_violin_modes = 1"
   ]
  },
  {
   "cell_type": "code",
   "execution_count": 12,
   "id": "ab9508ab-9cae-44c4-8ccd-7436132b291a",
   "metadata": {},
   "outputs": [
    {
     "name": "stdout",
     "output_type": "stream",
     "text": [
      "Calculating deltas for points between bodies S and B\n",
      "(S.P1, SB11.com)\n",
      "(SB11.com, B.B1)\n",
      "(S.P2, SB12.com)\n",
      "(SB12.com, B.B2)\n",
      "(S.P3, SB13.com)\n",
      "(SB13.com, B.B3)\n",
      "(S.P4, SB14.com)\n",
      "(SB14.com, B.B4)\n",
      "Calculating deltas for points between bodies B and C\n",
      "(B.C1, BC11.com)\n",
      "(BC11.com, C.D1)\n",
      "(B.C2, BC12.com)\n",
      "(BC12.com, C.D2)\n",
      "(B.C3, BC13.com)\n",
      "(BC13.com, C.D3)\n",
      "(B.C4, BC14.com)\n",
      "(BC14.com, C.D4)\n",
      "Calculating deltas for points between bodies C and D\n",
      "(C.E1, CD11.com)\n",
      "(CD11.com, D.F1)\n",
      "(C.E2, CD12.com)\n",
      "(CD12.com, D.F2)\n",
      "(C.E3, CD13.com)\n",
      "(CD13.com, D.F3)\n",
      "(C.E4, CD14.com)\n",
      "(CD14.com, D.F4)\n",
      "Calculating deltas for points between bodies D and F\n",
      "(D.G1, DF11.com)\n",
      "(DF11.com, F.H1)\n",
      "(D.G2, DF12.com)\n",
      "(DF12.com, F.H2)\n",
      "(D.G3, DF13.com)\n",
      "(DF13.com, F.H3)\n",
      "(D.G4, DF14.com)\n",
      "(DF14.com, F.H4)\n",
      "Finding linpath between S.P1 and SB11.com\n",
      "Finding linpath between SB11.com and B.B1\n",
      "Finding linpath between S.P2 and SB12.com\n",
      "Finding linpath between SB12.com and B.B2\n",
      "Finding linpath between S.P3 and SB13.com\n",
      "Finding linpath between SB13.com and B.B3\n",
      "Finding linpath between S.P4 and SB14.com\n",
      "Finding linpath between SB14.com and B.B4\n",
      "Finding linpath between B.C1 and BC11.com\n",
      "Finding linpath between BC11.com and C.D1\n",
      "Finding linpath between B.C2 and BC12.com\n",
      "Finding linpath between BC12.com and C.D2\n",
      "Finding linpath between B.C3 and BC13.com\n",
      "Finding linpath between BC13.com and C.D3\n",
      "Finding linpath between B.C4 and BC14.com\n",
      "Finding linpath between BC14.com and C.D4\n",
      "Finding linpath between C.E1 and CD11.com\n",
      "Finding linpath between CD11.com and D.F1\n",
      "Finding linpath between C.E2 and CD12.com\n",
      "Finding linpath between CD12.com and D.F2\n",
      "Finding linpath between C.E3 and CD13.com\n",
      "Finding linpath between CD13.com and D.F3\n",
      "Finding linpath between C.E4 and CD14.com\n",
      "Finding linpath between CD14.com and D.F4\n",
      "Finding linpath between D.G1 and DF11.com\n",
      "Finding linpath between DF11.com and F.H1\n",
      "Finding linpath between D.G2 and DF12.com\n",
      "Finding linpath between DF12.com and F.H2\n",
      "Finding linpath between D.G3 and DF13.com\n",
      "Finding linpath between DF13.com and F.H3\n",
      "Finding linpath between D.G4 and DF14.com\n",
      "Finding linpath between DF14.com and F.H4\n",
      "[(S.P1, SB11.com), (SB11.com, B.B1)]\n",
      "[(S.P2, SB12.com), (SB12.com, B.B2)]\n",
      "[(S.P3, SB13.com), (SB13.com, B.B3)]\n",
      "[(S.P4, SB14.com), (SB14.com, B.B4)]\n",
      "[(B.C1, BC11.com), (BC11.com, C.D1)]\n",
      "[(B.C2, BC12.com), (BC12.com, C.D2)]\n",
      "[(B.C3, BC13.com), (BC13.com, C.D3)]\n",
      "[(B.C4, BC14.com), (BC14.com, C.D4)]\n",
      "[(C.E1, CD11.com), (CD11.com, D.F1)]\n",
      "[(C.E2, CD12.com), (CD12.com, D.F2)]\n",
      "[(C.E3, CD13.com), (CD13.com, D.F3)]\n",
      "[(C.E4, CD14.com), (CD14.com, D.F4)]\n",
      "[(D.G1, DF11.com), (DF11.com, F.H1)]\n",
      "[(D.G2, DF12.com), (DF12.com, F.H2)]\n",
      "[(D.G3, DF13.com), (DF13.com, F.H3)]\n",
      "[(D.G4, DF14.com), (DF14.com, F.H4)]\n"
     ]
    }
   ],
   "source": [
    "bodies_ = [[S, B], [B, C], [C, D], [D, F]]\n",
    "attach_points_ = [[S.P1, B.B1], [B.C1, C.D1], [C.E1, D.F1], [D.G1, F.H1]]\n",
    "\n",
    "points_bodies = get_points(\n",
    "        n=n_violin_modes, num_blocks=4, model=model2,\n",
    "        bodies=bodies_, attach_points=attach_points_, suspension_body=S)\n",
    "\n",
    "model2.add_bodies_system()\n",
    "\n",
    "\n",
    "deltas = deltas_dict(\n",
    "    points_body=points_bodies, num_blocks=4, model=model2,\n",
    "    suspension_body=S\n",
    ")\n",
    "\n",
    "linpaths = linpaths_dict(\n",
    "    points_body=points_bodies, num_blocks=4, model=model2\n",
    ")\n",
    "\n",
    "num_blocks = 4\n",
    "all_masses = [\n",
    "    i.body.mass for j in range(num_blocks)\n",
    "    for i in points_bodies[f'body{j + 1}']['bodies']\n",
    "]\n",
    "\n",
    "all_masses_ = list(dict.fromkeys(all_masses))\n",
    "wires = get_wires(\n",
    "    num_blocks=4, point_body=points_bodies,\n",
    "    deltas=deltas, linpaths=linpaths\n",
    ")\n",
    "\n",
    "ks = symbols('k1:5')\n",
    "\n",
    "n_wire_per_wire = n_violin_modes + 1\n",
    "body1_force = get_forces(\n",
    "        n_body=1, n_wire_body=n_wire_per_wire,\n",
    "        wire_dict=wires, spring_constants=ks, masses=all_masses_\n",
    "    )\n",
    "body2_force = get_forces(\n",
    "    n_body=2, n_wire_body=n_wire_per_wire,\n",
    "    wire_dict=wires, spring_constants=ks, masses=all_masses_\n",
    ")\n",
    "body3_force = get_forces(\n",
    "    n_body=3, n_wire_body=n_wire_per_wire,\n",
    "    wire_dict=wires, spring_constants=ks, masses=all_masses_\n",
    ")\n",
    "body4_force = get_forces(\n",
    "    n_body=4, n_wire_body=n_wire_per_wire,\n",
    "    wire_dict=wires, spring_constants=ks, masses=all_masses_\n",
    ")\n",
    "\n",
    "for j in [body1_force, body2_force, body3_force, body4_force]:\n",
    "    for i in j.keys():\n",
    "        force = j[i]['force']\n",
    "        path = j[i]['path']\n",
    "        points = j[i]['points']\n",
    "        bodies = j[i]['bodies']\n",
    "    \n",
    "        sys.add_loads(path.to_loads(-force, frame=S.global_frame)[0])\n",
    "        sys.add_loads(path.to_loads(-force, frame=S.global_frame)[1])\n",
    "\n",
    "def apply_gravity(body):\n",
    "    g = symbols('g')\n",
    "    body.Fz = -g*body.body.mass\n",
    "         \n",
    "    return\n",
    "\n",
    "apply_gravity(model2.components['S'])\n",
    "apply_gravity(model2.components['B'])\n",
    "apply_gravity(model2.components['C'])\n",
    "apply_gravity(model2.components['D'])\n",
    "apply_gravity(model2.components['F'])"
   ]
  },
  {
   "cell_type": "code",
   "execution_count": 8,
   "id": "995439fe-13a7-4f40-a8c8-39a87ab7499c",
   "metadata": {},
   "outputs": [],
   "source": [
    "kane_0 = model2.extract_statespacesystem()"
   ]
  },
  {
   "cell_type": "code",
   "execution_count": 9,
   "id": "3c9b59a7-4c64-48c2-b3f1-283a71a3084f",
   "metadata": {},
   "outputs": [],
   "source": [
    "Amat0, Bmat0 = kane_0.A, kane_0.B"
   ]
  },
  {
   "cell_type": "code",
   "execution_count": 10,
   "id": "2bb2c1c7-9ab0-4751-8ea3-c021ff0b32f0",
   "metadata": {},
   "outputs": [],
   "source": [
    "S, B, C, D, F, model2 = set_up_bodies()\n",
    "sys = model2.system"
   ]
  },
  {
   "cell_type": "code",
   "execution_count": 13,
   "id": "5b09fba9-0f6e-4423-8ba7-42bcf5603844",
   "metadata": {},
   "outputs": [],
   "source": [
    "kane_1 = model2.extract_statespacesystem()"
   ]
  },
  {
   "cell_type": "code",
   "execution_count": 14,
   "id": "89fcd888-ba79-4e11-be94-58e3b2bd7169",
   "metadata": {},
   "outputs": [],
   "source": [
    "Amat1, Bmat1 = kane_1.A, kane_1.B"
   ]
  },
  {
   "cell_type": "code",
   "execution_count": 15,
   "id": "daa95618-150a-40e0-8ad1-d5dee547db45",
   "metadata": {},
   "outputs": [
    {
     "data": {
      "text/plain": [
       "(252, 252)"
      ]
     },
     "execution_count": 15,
     "metadata": {},
     "output_type": "execute_result"
    }
   ],
   "source": [
    "Amat1.shape"
   ]
  },
  {
   "cell_type": "code",
   "execution_count": 16,
   "id": "aed812b9-f605-4c43-8d18-e4daea7f6add",
   "metadata": {},
   "outputs": [
    {
     "data": {
      "text/latex": [
       "$\\displaystyle - 4 d_{1} \\left(- \\frac{2 d_{1} g \\left(\\frac{B.M}{4} + \\frac{BC11.M}{4} + \\frac{BC12.M}{4} + \\frac{BC13.M}{4} + \\frac{BC14.M}{4} + \\frac{C.M}{4} + \\frac{CD11.M}{4} + \\frac{CD12.M}{4} + \\frac{CD13.M}{4} + \\frac{CD14.M}{4} + \\frac{D.M}{4} + \\frac{DF11.M}{4} + \\frac{DF12.M}{4} + \\frac{DF13.M}{4} + \\frac{DF14.M}{4} + \\frac{F.M}{4}\\right)}{l_{1}} - g \\left(\\frac{B.M}{4} + \\frac{BC11.M}{4} + \\frac{BC12.M}{4} + \\frac{BC13.M}{4} + \\frac{BC14.M}{4} + \\frac{C.M}{4} + \\frac{CD11.M}{4} + \\frac{CD12.M}{4} + \\frac{CD13.M}{4} + \\frac{CD14.M}{4} + \\frac{D.M}{4} + \\frac{DF11.M}{4} + \\frac{DF12.M}{4} + \\frac{DF13.M}{4} + \\frac{DF14.M}{4} + \\frac{F.M}{4}\\right)\\right) + d_{2} \\left(BC11.M g + \\frac{2 d_{2} \\left(BC11.M g + g \\left(\\frac{C.M}{4} + \\frac{CD11.M}{4} + \\frac{CD12.M}{4} + \\frac{CD13.M}{4} + \\frac{CD14.M}{4} + \\frac{D.M}{4} + \\frac{DF11.M}{4} + \\frac{DF12.M}{4} + \\frac{DF13.M}{4} + \\frac{DF14.M}{4} + \\frac{F.M}{4}\\right)\\right)}{l_{2}} + g \\left(\\frac{C.M}{4} + \\frac{CD11.M}{4} + \\frac{CD12.M}{4} + \\frac{CD13.M}{4} + \\frac{CD14.M}{4} + \\frac{D.M}{4} + \\frac{DF11.M}{4} + \\frac{DF12.M}{4} + \\frac{DF13.M}{4} + \\frac{DF14.M}{4} + \\frac{F.M}{4}\\right)\\right) + d_{2} \\left(BC12.M g + \\frac{2 d_{2} \\left(BC12.M g + g \\left(\\frac{C.M}{4} + \\frac{CD11.M}{4} + \\frac{CD12.M}{4} + \\frac{CD13.M}{4} + \\frac{CD14.M}{4} + \\frac{D.M}{4} + \\frac{DF11.M}{4} + \\frac{DF12.M}{4} + \\frac{DF13.M}{4} + \\frac{DF14.M}{4} + \\frac{F.M}{4}\\right)\\right)}{l_{2}} + g \\left(\\frac{C.M}{4} + \\frac{CD11.M}{4} + \\frac{CD12.M}{4} + \\frac{CD13.M}{4} + \\frac{CD14.M}{4} + \\frac{D.M}{4} + \\frac{DF11.M}{4} + \\frac{DF12.M}{4} + \\frac{DF13.M}{4} + \\frac{DF14.M}{4} + \\frac{F.M}{4}\\right)\\right) + d_{2} \\left(BC13.M g + \\frac{2 d_{2} \\left(BC13.M g + g \\left(\\frac{C.M}{4} + \\frac{CD11.M}{4} + \\frac{CD12.M}{4} + \\frac{CD13.M}{4} + \\frac{CD14.M}{4} + \\frac{D.M}{4} + \\frac{DF11.M}{4} + \\frac{DF12.M}{4} + \\frac{DF13.M}{4} + \\frac{DF14.M}{4} + \\frac{F.M}{4}\\right)\\right)}{l_{2}} + g \\left(\\frac{C.M}{4} + \\frac{CD11.M}{4} + \\frac{CD12.M}{4} + \\frac{CD13.M}{4} + \\frac{CD14.M}{4} + \\frac{D.M}{4} + \\frac{DF11.M}{4} + \\frac{DF12.M}{4} + \\frac{DF13.M}{4} + \\frac{DF14.M}{4} + \\frac{F.M}{4}\\right)\\right) + d_{2} \\left(BC14.M g + \\frac{2 d_{2} \\left(BC14.M g + g \\left(\\frac{C.M}{4} + \\frac{CD11.M}{4} + \\frac{CD12.M}{4} + \\frac{CD13.M}{4} + \\frac{CD14.M}{4} + \\frac{D.M}{4} + \\frac{DF11.M}{4} + \\frac{DF12.M}{4} + \\frac{DF13.M}{4} + \\frac{DF14.M}{4} + \\frac{F.M}{4}\\right)\\right)}{l_{2}} + g \\left(\\frac{C.M}{4} + \\frac{CD11.M}{4} + \\frac{CD12.M}{4} + \\frac{CD13.M}{4} + \\frac{CD14.M}{4} + \\frac{D.M}{4} + \\frac{DF11.M}{4} + \\frac{DF12.M}{4} + \\frac{DF13.M}{4} + \\frac{DF14.M}{4} + \\frac{F.M}{4}\\right)\\right) + 4 k_{1} w_{1}^{2} + 4 k_{2} w_{2}^{2}$"
      ],
      "text/plain": [
       "-4*d1*(-2*d1*g*(B.M/4 + BC11.M/4 + BC12.M/4 + BC13.M/4 + BC14.M/4 + C.M/4 + CD11.M/4 + CD12.M/4 + CD13.M/4 + CD14.M/4 + D.M/4 + DF11.M/4 + DF12.M/4 + DF13.M/4 + DF14.M/4 + F.M/4)/l1 - g*(B.M/4 + BC11.M/4 + BC12.M/4 + BC13.M/4 + BC14.M/4 + C.M/4 + CD11.M/4 + CD12.M/4 + CD13.M/4 + CD14.M/4 + D.M/4 + DF11.M/4 + DF12.M/4 + DF13.M/4 + DF14.M/4 + F.M/4)) + d2*(BC11.M*g + 2*d2*(BC11.M*g + g*(C.M/4 + CD11.M/4 + CD12.M/4 + CD13.M/4 + CD14.M/4 + D.M/4 + DF11.M/4 + DF12.M/4 + DF13.M/4 + DF14.M/4 + F.M/4))/l2 + g*(C.M/4 + CD11.M/4 + CD12.M/4 + CD13.M/4 + CD14.M/4 + D.M/4 + DF11.M/4 + DF12.M/4 + DF13.M/4 + DF14.M/4 + F.M/4)) + d2*(BC12.M*g + 2*d2*(BC12.M*g + g*(C.M/4 + CD11.M/4 + CD12.M/4 + CD13.M/4 + CD14.M/4 + D.M/4 + DF11.M/4 + DF12.M/4 + DF13.M/4 + DF14.M/4 + F.M/4))/l2 + g*(C.M/4 + CD11.M/4 + CD12.M/4 + CD13.M/4 + CD14.M/4 + D.M/4 + DF11.M/4 + DF12.M/4 + DF13.M/4 + DF14.M/4 + F.M/4)) + d2*(BC13.M*g + 2*d2*(BC13.M*g + g*(C.M/4 + CD11.M/4 + CD12.M/4 + CD13.M/4 + CD14.M/4 + D.M/4 + DF11.M/4 + DF12.M/4 + DF13.M/4 + DF14.M/4 + F.M/4))/l2 + g*(C.M/4 + CD11.M/4 + CD12.M/4 + CD13.M/4 + CD14.M/4 + D.M/4 + DF11.M/4 + DF12.M/4 + DF13.M/4 + DF14.M/4 + F.M/4)) + d2*(BC14.M*g + 2*d2*(BC14.M*g + g*(C.M/4 + CD11.M/4 + CD12.M/4 + CD13.M/4 + CD14.M/4 + D.M/4 + DF11.M/4 + DF12.M/4 + DF13.M/4 + DF14.M/4 + F.M/4))/l2 + g*(C.M/4 + CD11.M/4 + CD12.M/4 + CD13.M/4 + CD14.M/4 + D.M/4 + DF11.M/4 + DF12.M/4 + DF13.M/4 + DF14.M/4 + F.M/4)) + 4*k1*w1**2 + 4*k2*w2**2"
      ]
     },
     "execution_count": 16,
     "metadata": {},
     "output_type": "execute_result"
    }
   ],
   "source": [
    "Amat1[136,10]"
   ]
  },
  {
   "cell_type": "code",
   "execution_count": 20,
   "id": "1b3a29f7-e61b-4e09-a114-388696dc380c",
   "metadata": {},
   "outputs": [
    {
     "data": {
      "text/latex": [
       "$\\displaystyle \\left[\\begin{array}{cccccccccccccccccccccccccccccccccccccccccccccccccccccccccccc}1 & 0 & 0 & 0 & 0 & 0 & 0 & 0 & 0 & 0 & 0 & 0 & 0 & 0 & 0 & 0 & 0 & 0 & 0 & 0 & 0 & 0 & 0 & 0 & 0 & 0 & 0 & 0 & 0 & 0 & 0 & 0 & 0 & 0 & 0 & 0 & 0 & 0 & 0 & 0 & 0 & 0 & 0 & 0 & 0 & 0 & 0 & 0 & 0 & 0 & 0 & 0 & 0 & 0 & 0 & 0 & 0 & 0 & 0 & 0\\\\0 & 1 & 0 & 0 & 0 & 0 & 0 & 0 & 0 & 0 & 0 & 0 & 0 & 0 & 0 & 0 & 0 & 0 & 0 & 0 & 0 & 0 & 0 & 0 & 0 & 0 & 0 & 0 & 0 & 0 & 0 & 0 & 0 & 0 & 0 & 0 & 0 & 0 & 0 & 0 & 0 & 0 & 0 & 0 & 0 & 0 & 0 & 0 & 0 & 0 & 0 & 0 & 0 & 0 & 0 & 0 & 0 & 0 & 0 & 0\\\\0 & 0 & 1 & 0 & 0 & 0 & 0 & 0 & 0 & 0 & 0 & 0 & 0 & 0 & 0 & 0 & 0 & 0 & 0 & 0 & 0 & 0 & 0 & 0 & 0 & 0 & 0 & 0 & 0 & 0 & 0 & 0 & 0 & 0 & 0 & 0 & 0 & 0 & 0 & 0 & 0 & 0 & 0 & 0 & 0 & 0 & 0 & 0 & 0 & 0 & 0 & 0 & 0 & 0 & 0 & 0 & 0 & 0 & 0 & 0\\\\0 & 0 & 0 & 1 & 0 & 0 & 0 & 0 & 0 & 0 & 0 & 0 & 0 & 0 & 0 & 0 & 0 & 0 & 0 & 0 & 0 & 0 & 0 & 0 & 0 & 0 & 0 & 0 & 0 & 0 & 0 & 0 & 0 & 0 & 0 & 0 & 0 & 0 & 0 & 0 & 0 & 0 & 0 & 0 & 0 & 0 & 0 & 0 & 0 & 0 & 0 & 0 & 0 & 0 & 0 & 0 & 0 & 0 & 0 & 0\\\\0 & 0 & 0 & 0 & 1 & 0 & 0 & 0 & 0 & 0 & 0 & 0 & 0 & 0 & 0 & 0 & 0 & 0 & 0 & 0 & 0 & 0 & 0 & 0 & 0 & 0 & 0 & 0 & 0 & 0 & 0 & 0 & 0 & 0 & 0 & 0 & 0 & 0 & 0 & 0 & 0 & 0 & 0 & 0 & 0 & 0 & 0 & 0 & 0 & 0 & 0 & 0 & 0 & 0 & 0 & 0 & 0 & 0 & 0 & 0\\\\0 & 0 & 0 & 0 & 0 & 1 & 0 & 0 & 0 & 0 & 0 & 0 & 0 & 0 & 0 & 0 & 0 & 0 & 0 & 0 & 0 & 0 & 0 & 0 & 0 & 0 & 0 & 0 & 0 & 0 & 0 & 0 & 0 & 0 & 0 & 0 & 0 & 0 & 0 & 0 & 0 & 0 & 0 & 0 & 0 & 0 & 0 & 0 & 0 & 0 & 0 & 0 & 0 & 0 & 0 & 0 & 0 & 0 & 0 & 0\\\\0 & 0 & 0 & 0 & 0 & 0 & 1 & 0 & 0 & 0 & 0 & 0 & 0 & 0 & 0 & 0 & 0 & 0 & 0 & 0 & 0 & 0 & 0 & 0 & 0 & 0 & 0 & 0 & 0 & 0 & 0 & 0 & 0 & 0 & 0 & 0 & 0 & 0 & 0 & 0 & 0 & 0 & 0 & 0 & 0 & 0 & 0 & 0 & 0 & 0 & 0 & 0 & 0 & 0 & 0 & 0 & 0 & 0 & 0 & 0\\\\0 & 0 & 0 & 0 & 0 & 0 & 0 & 1 & 0 & 0 & 0 & 0 & 0 & 0 & 0 & 0 & 0 & 0 & 0 & 0 & 0 & 0 & 0 & 0 & 0 & 0 & 0 & 0 & 0 & 0 & 0 & 0 & 0 & 0 & 0 & 0 & 0 & 0 & 0 & 0 & 0 & 0 & 0 & 0 & 0 & 0 & 0 & 0 & 0 & 0 & 0 & 0 & 0 & 0 & 0 & 0 & 0 & 0 & 0 & 0\\\\0 & 0 & 0 & 0 & 0 & 0 & 0 & 0 & 1 & 0 & 0 & 0 & 0 & 0 & 0 & 0 & 0 & 0 & 0 & 0 & 0 & 0 & 0 & 0 & 0 & 0 & 0 & 0 & 0 & 0 & 0 & 0 & 0 & 0 & 0 & 0 & 0 & 0 & 0 & 0 & 0 & 0 & 0 & 0 & 0 & 0 & 0 & 0 & 0 & 0 & 0 & 0 & 0 & 0 & 0 & 0 & 0 & 0 & 0 & 0\\\\0 & 0 & 0 & 0 & 0 & 0 & 0 & 0 & 0 & 1 & 0 & 0 & 0 & 0 & 0 & 0 & 0 & 0 & 0 & 0 & 0 & 0 & 0 & 0 & 0 & 0 & 0 & 0 & 0 & 0 & 0 & 0 & 0 & 0 & 0 & 0 & 0 & 0 & 0 & 0 & 0 & 0 & 0 & 0 & 0 & 0 & 0 & 0 & 0 & 0 & 0 & 0 & 0 & 0 & 0 & 0 & 0 & 0 & 0 & 0\\\\0 & 0 & 0 & 0 & 0 & 0 & 0 & 0 & 0 & 0 & 1 & 0 & 0 & 0 & 0 & 0 & 0 & 0 & 0 & 0 & 0 & 0 & 0 & 0 & 0 & 0 & 0 & 0 & 0 & 0 & 0 & 0 & 0 & 0 & 0 & 0 & 0 & 0 & 0 & 0 & 0 & 0 & 0 & 0 & 0 & 0 & 0 & 0 & 0 & 0 & 0 & 0 & 0 & 0 & 0 & 0 & 0 & 0 & 0 & 0\\\\0 & 0 & 0 & 0 & 0 & 0 & 0 & 0 & 0 & 0 & 0 & 1 & 0 & 0 & 0 & 0 & 0 & 0 & 0 & 0 & 0 & 0 & 0 & 0 & 0 & 0 & 0 & 0 & 0 & 0 & 0 & 0 & 0 & 0 & 0 & 0 & 0 & 0 & 0 & 0 & 0 & 0 & 0 & 0 & 0 & 0 & 0 & 0 & 0 & 0 & 0 & 0 & 0 & 0 & 0 & 0 & 0 & 0 & 0 & 0\\\\0 & 0 & 0 & 0 & 0 & 0 & 0 & 0 & 0 & 0 & 0 & 0 & 1 & 0 & 0 & 0 & 0 & 0 & 0 & 0 & 0 & 0 & 0 & 0 & 0 & 0 & 0 & 0 & 0 & 0 & 0 & 0 & 0 & 0 & 0 & 0 & 0 & 0 & 0 & 0 & 0 & 0 & 0 & 0 & 0 & 0 & 0 & 0 & 0 & 0 & 0 & 0 & 0 & 0 & 0 & 0 & 0 & 0 & 0 & 0\\\\0 & 0 & 0 & 0 & 0 & 0 & 0 & 0 & 0 & 0 & 0 & 0 & 0 & 1 & 0 & 0 & 0 & 0 & 0 & 0 & 0 & 0 & 0 & 0 & 0 & 0 & 0 & 0 & 0 & 0 & 0 & 0 & 0 & 0 & 0 & 0 & 0 & 0 & 0 & 0 & 0 & 0 & 0 & 0 & 0 & 0 & 0 & 0 & 0 & 0 & 0 & 0 & 0 & 0 & 0 & 0 & 0 & 0 & 0 & 0\\\\0 & 0 & 0 & 0 & 0 & 0 & 0 & 0 & 0 & 0 & 0 & 0 & 0 & 0 & 1 & 0 & 0 & 0 & 0 & 0 & 0 & 0 & 0 & 0 & 0 & 0 & 0 & 0 & 0 & 0 & 0 & 0 & 0 & 0 & 0 & 0 & 0 & 0 & 0 & 0 & 0 & 0 & 0 & 0 & 0 & 0 & 0 & 0 & 0 & 0 & 0 & 0 & 0 & 0 & 0 & 0 & 0 & 0 & 0 & 0\\\\0 & 0 & 0 & 0 & 0 & 0 & 0 & 0 & 0 & 0 & 0 & 0 & 0 & 0 & 0 & 1 & 0 & 0 & 0 & 0 & 0 & 0 & 0 & 0 & 0 & 0 & 0 & 0 & 0 & 0 & 0 & 0 & 0 & 0 & 0 & 0 & 0 & 0 & 0 & 0 & 0 & 0 & 0 & 0 & 0 & 0 & 0 & 0 & 0 & 0 & 0 & 0 & 0 & 0 & 0 & 0 & 0 & 0 & 0 & 0\\\\0 & 0 & 0 & 0 & 0 & 0 & 0 & 0 & 0 & 0 & 0 & 0 & 0 & 0 & 0 & 0 & 1 & 0 & 0 & 0 & 0 & 0 & 0 & 0 & 0 & 0 & 0 & 0 & 0 & 0 & 0 & 0 & 0 & 0 & 0 & 0 & 0 & 0 & 0 & 0 & 0 & 0 & 0 & 0 & 0 & 0 & 0 & 0 & 0 & 0 & 0 & 0 & 0 & 0 & 0 & 0 & 0 & 0 & 0 & 0\\\\0 & 0 & 0 & 0 & 0 & 0 & 0 & 0 & 0 & 0 & 0 & 0 & 0 & 0 & 0 & 0 & 0 & 1 & 0 & 0 & 0 & 0 & 0 & 0 & 0 & 0 & 0 & 0 & 0 & 0 & 0 & 0 & 0 & 0 & 0 & 0 & 0 & 0 & 0 & 0 & 0 & 0 & 0 & 0 & 0 & 0 & 0 & 0 & 0 & 0 & 0 & 0 & 0 & 0 & 0 & 0 & 0 & 0 & 0 & 0\\\\0 & 0 & 0 & 0 & 0 & 0 & 0 & 0 & 0 & 0 & 0 & 0 & 0 & 0 & 0 & 0 & 0 & 0 & 1 & 0 & 0 & 0 & 0 & 0 & 0 & 0 & 0 & 0 & 0 & 0 & 0 & 0 & 0 & 0 & 0 & 0 & 0 & 0 & 0 & 0 & 0 & 0 & 0 & 0 & 0 & 0 & 0 & 0 & 0 & 0 & 0 & 0 & 0 & 0 & 0 & 0 & 0 & 0 & 0 & 0\\\\0 & 0 & 0 & 0 & 0 & 0 & 0 & 0 & 0 & 0 & 0 & 0 & 0 & 0 & 0 & 0 & 0 & 0 & 0 & 1 & 0 & 0 & 0 & 0 & 0 & 0 & 0 & 0 & 0 & 0 & 0 & 0 & 0 & 0 & 0 & 0 & 0 & 0 & 0 & 0 & 0 & 0 & 0 & 0 & 0 & 0 & 0 & 0 & 0 & 0 & 0 & 0 & 0 & 0 & 0 & 0 & 0 & 0 & 0 & 0\\\\0 & 0 & 0 & 0 & 0 & 0 & 0 & 0 & 0 & 0 & 0 & 0 & 0 & 0 & 0 & 0 & 0 & 0 & 0 & 0 & 1 & 0 & 0 & 0 & 0 & 0 & 0 & 0 & 0 & 0 & 0 & 0 & 0 & 0 & 0 & 0 & 0 & 0 & 0 & 0 & 0 & 0 & 0 & 0 & 0 & 0 & 0 & 0 & 0 & 0 & 0 & 0 & 0 & 0 & 0 & 0 & 0 & 0 & 0 & 0\\\\0 & 0 & 0 & 0 & 0 & 0 & 0 & 0 & 0 & 0 & 0 & 0 & 0 & 0 & 0 & 0 & 0 & 0 & 0 & 0 & 0 & 1 & 0 & 0 & 0 & 0 & 0 & 0 & 0 & 0 & 0 & 0 & 0 & 0 & 0 & 0 & 0 & 0 & 0 & 0 & 0 & 0 & 0 & 0 & 0 & 0 & 0 & 0 & 0 & 0 & 0 & 0 & 0 & 0 & 0 & 0 & 0 & 0 & 0 & 0\\\\0 & 0 & 0 & 0 & 0 & 0 & 0 & 0 & 0 & 0 & 0 & 0 & 0 & 0 & 0 & 0 & 0 & 0 & 0 & 0 & 0 & 0 & 1 & 0 & 0 & 0 & 0 & 0 & 0 & 0 & 0 & 0 & 0 & 0 & 0 & 0 & 0 & 0 & 0 & 0 & 0 & 0 & 0 & 0 & 0 & 0 & 0 & 0 & 0 & 0 & 0 & 0 & 0 & 0 & 0 & 0 & 0 & 0 & 0 & 0\\\\0 & 0 & 0 & 0 & 0 & 0 & 0 & 0 & 0 & 0 & 0 & 0 & 0 & 0 & 0 & 0 & 0 & 0 & 0 & 0 & 0 & 0 & 0 & 1 & 0 & 0 & 0 & 0 & 0 & 0 & 0 & 0 & 0 & 0 & 0 & 0 & 0 & 0 & 0 & 0 & 0 & 0 & 0 & 0 & 0 & 0 & 0 & 0 & 0 & 0 & 0 & 0 & 0 & 0 & 0 & 0 & 0 & 0 & 0 & 0\\\\0 & 0 & 0 & 0 & 0 & 0 & 0 & 0 & 0 & 0 & 0 & 0 & 0 & 0 & 0 & 0 & 0 & 0 & 0 & 0 & 0 & 0 & 0 & 0 & 1 & 0 & 0 & 0 & 0 & 0 & 0 & 0 & 0 & 0 & 0 & 0 & 0 & 0 & 0 & 0 & 0 & 0 & 0 & 0 & 0 & 0 & 0 & 0 & 0 & 0 & 0 & 0 & 0 & 0 & 0 & 0 & 0 & 0 & 0 & 0\\\\0 & 0 & 0 & 0 & 0 & 0 & 0 & 0 & 0 & 0 & 0 & 0 & 0 & 0 & 0 & 0 & 0 & 0 & 0 & 0 & 0 & 0 & 0 & 0 & 0 & 1 & 0 & 0 & 0 & 0 & 0 & 0 & 0 & 0 & 0 & 0 & 0 & 0 & 0 & 0 & 0 & 0 & 0 & 0 & 0 & 0 & 0 & 0 & 0 & 0 & 0 & 0 & 0 & 0 & 0 & 0 & 0 & 0 & 0 & 0\\\\0 & 0 & 0 & 0 & 0 & 0 & 0 & 0 & 0 & 0 & 0 & 0 & 0 & 0 & 0 & 0 & 0 & 0 & 0 & 0 & 0 & 0 & 0 & 0 & 0 & 0 & 1 & 0 & 0 & 0 & 0 & 0 & 0 & 0 & 0 & 0 & 0 & 0 & 0 & 0 & 0 & 0 & 0 & 0 & 0 & 0 & 0 & 0 & 0 & 0 & 0 & 0 & 0 & 0 & 0 & 0 & 0 & 0 & 0 & 0\\\\0 & 0 & 0 & 0 & 0 & 0 & 0 & 0 & 0 & 0 & 0 & 0 & 0 & 0 & 0 & 0 & 0 & 0 & 0 & 0 & 0 & 0 & 0 & 0 & 0 & 0 & 0 & 1 & 0 & 0 & 0 & 0 & 0 & 0 & 0 & 0 & 0 & 0 & 0 & 0 & 0 & 0 & 0 & 0 & 0 & 0 & 0 & 0 & 0 & 0 & 0 & 0 & 0 & 0 & 0 & 0 & 0 & 0 & 0 & 0\\\\0 & 0 & 0 & 0 & 0 & 0 & 0 & 0 & 0 & 0 & 0 & 0 & 0 & 0 & 0 & 0 & 0 & 0 & 0 & 0 & 0 & 0 & 0 & 0 & 0 & 0 & 0 & 0 & 1 & 0 & 0 & 0 & 0 & 0 & 0 & 0 & 0 & 0 & 0 & 0 & 0 & 0 & 0 & 0 & 0 & 0 & 0 & 0 & 0 & 0 & 0 & 0 & 0 & 0 & 0 & 0 & 0 & 0 & 0 & 0\\\\0 & 0 & 0 & 0 & 0 & 0 & 0 & 0 & 0 & 0 & 0 & 0 & 0 & 0 & 0 & 0 & 0 & 0 & 0 & 0 & 0 & 0 & 0 & 0 & 0 & 0 & 0 & 0 & 0 & 1 & 0 & 0 & 0 & 0 & 0 & 0 & 0 & 0 & 0 & 0 & 0 & 0 & 0 & 0 & 0 & 0 & 0 & 0 & 0 & 0 & 0 & 0 & 0 & 0 & 0 & 0 & 0 & 0 & 0 & 0\\\\0 & 0 & 0 & 0 & 0 & 0 & 0 & 0 & 0 & 0 & 0 & 0 & 0 & 0 & 0 & 0 & 0 & 0 & 0 & 0 & 0 & 0 & 0 & 0 & 0 & 0 & 0 & 0 & 0 & 0 & - S.M & 0 & 0 & 0 & 0 & 0 & 0 & 0 & 0 & 0 & 0 & 0 & 0 & 0 & 0 & 0 & 0 & 0 & 0 & 0 & 0 & 0 & 0 & 0 & 0 & 0 & 0 & 0 & 0 & 0\\\\0 & 0 & 0 & 0 & 0 & 0 & 0 & 0 & 0 & 0 & 0 & 0 & 0 & 0 & 0 & 0 & 0 & 0 & 0 & 0 & 0 & 0 & 0 & 0 & 0 & 0 & 0 & 0 & 0 & 0 & 0 & - S.M & 0 & 0 & 0 & 0 & 0 & 0 & 0 & 0 & 0 & 0 & 0 & 0 & 0 & 0 & 0 & 0 & 0 & 0 & 0 & 0 & 0 & 0 & 0 & 0 & 0 & 0 & 0 & 0\\\\0 & 0 & 0 & 0 & 0 & 0 & 0 & 0 & 0 & 0 & 0 & 0 & 0 & 0 & 0 & 0 & 0 & 0 & 0 & 0 & 0 & 0 & 0 & 0 & 0 & 0 & 0 & 0 & 0 & 0 & 0 & 0 & - S.M & 0 & 0 & 0 & 0 & 0 & 0 & 0 & 0 & 0 & 0 & 0 & 0 & 0 & 0 & 0 & 0 & 0 & 0 & 0 & 0 & 0 & 0 & 0 & 0 & 0 & 0 & 0\\\\0 & 0 & 0 & 0 & 0 & 0 & 0 & 0 & 0 & 0 & 0 & 0 & 0 & 0 & 0 & 0 & 0 & 0 & 0 & 0 & 0 & 0 & 0 & 0 & 0 & 0 & 0 & 0 & 0 & 0 & 0 & 0 & 0 & - S.I_{xx} & - S.I_{xy} & - S.I_{zx} & 0 & 0 & 0 & 0 & 0 & 0 & 0 & 0 & 0 & 0 & 0 & 0 & 0 & 0 & 0 & 0 & 0 & 0 & 0 & 0 & 0 & 0 & 0 & 0\\\\0 & 0 & 0 & 0 & 0 & 0 & 0 & 0 & 0 & 0 & 0 & 0 & 0 & 0 & 0 & 0 & 0 & 0 & 0 & 0 & 0 & 0 & 0 & 0 & 0 & 0 & 0 & 0 & 0 & 0 & 0 & 0 & 0 & - S.I_{xy} & - S.I_{yy} & - S.I_{yz} & 0 & 0 & 0 & 0 & 0 & 0 & 0 & 0 & 0 & 0 & 0 & 0 & 0 & 0 & 0 & 0 & 0 & 0 & 0 & 0 & 0 & 0 & 0 & 0\\\\0 & 0 & 0 & 0 & 0 & 0 & 0 & 0 & 0 & 0 & 0 & 0 & 0 & 0 & 0 & 0 & 0 & 0 & 0 & 0 & 0 & 0 & 0 & 0 & 0 & 0 & 0 & 0 & 0 & 0 & 0 & 0 & 0 & - S.I_{zx} & - S.I_{yz} & - S.I_{zz} & 0 & 0 & 0 & 0 & 0 & 0 & 0 & 0 & 0 & 0 & 0 & 0 & 0 & 0 & 0 & 0 & 0 & 0 & 0 & 0 & 0 & 0 & 0 & 0\\\\0 & 0 & 0 & 0 & 0 & 0 & 0 & 0 & 0 & 0 & 0 & 0 & 0 & 0 & 0 & 0 & 0 & 0 & 0 & 0 & 0 & 0 & 0 & 0 & 0 & 0 & 0 & 0 & 0 & 0 & 0 & 0 & 0 & 0 & 0 & 0 & - B.M & 0 & 0 & 0 & 0 & 0 & 0 & 0 & 0 & 0 & 0 & 0 & 0 & 0 & 0 & 0 & 0 & 0 & 0 & 0 & 0 & 0 & 0 & 0\\\\0 & 0 & 0 & 0 & 0 & 0 & 0 & 0 & 0 & 0 & 0 & 0 & 0 & 0 & 0 & 0 & 0 & 0 & 0 & 0 & 0 & 0 & 0 & 0 & 0 & 0 & 0 & 0 & 0 & 0 & 0 & 0 & 0 & 0 & 0 & 0 & 0 & - B.M & 0 & 0 & 0 & 0 & 0 & 0 & 0 & 0 & 0 & 0 & 0 & 0 & 0 & 0 & 0 & 0 & 0 & 0 & 0 & 0 & 0 & 0\\\\0 & 0 & 0 & 0 & 0 & 0 & 0 & 0 & 0 & 0 & 0 & 0 & 0 & 0 & 0 & 0 & 0 & 0 & 0 & 0 & 0 & 0 & 0 & 0 & 0 & 0 & 0 & 0 & 0 & 0 & 0 & 0 & 0 & 0 & 0 & 0 & 0 & 0 & - B.M & 0 & 0 & 0 & 0 & 0 & 0 & 0 & 0 & 0 & 0 & 0 & 0 & 0 & 0 & 0 & 0 & 0 & 0 & 0 & 0 & 0\\\\0 & 0 & 0 & 0 & 0 & 0 & 0 & 0 & 0 & 0 & 0 & 0 & 0 & 0 & 0 & 0 & 0 & 0 & 0 & 0 & 0 & 0 & 0 & 0 & 0 & 0 & 0 & 0 & 0 & 0 & 0 & 0 & 0 & 0 & 0 & 0 & 0 & 0 & 0 & - B.I_{xx} & - B.I_{xy} & - B.I_{zx} & 0 & 0 & 0 & 0 & 0 & 0 & 0 & 0 & 0 & 0 & 0 & 0 & 0 & 0 & 0 & 0 & 0 & 0\\\\0 & 0 & 0 & 0 & 0 & 0 & 0 & 0 & 0 & 0 & 0 & 0 & 0 & 0 & 0 & 0 & 0 & 0 & 0 & 0 & 0 & 0 & 0 & 0 & 0 & 0 & 0 & 0 & 0 & 0 & 0 & 0 & 0 & 0 & 0 & 0 & 0 & 0 & 0 & - B.I_{xy} & - B.I_{yy} & - B.I_{yz} & 0 & 0 & 0 & 0 & 0 & 0 & 0 & 0 & 0 & 0 & 0 & 0 & 0 & 0 & 0 & 0 & 0 & 0\\\\0 & 0 & 0 & 0 & 0 & 0 & 0 & 0 & 0 & 0 & 0 & 0 & 0 & 0 & 0 & 0 & 0 & 0 & 0 & 0 & 0 & 0 & 0 & 0 & 0 & 0 & 0 & 0 & 0 & 0 & 0 & 0 & 0 & 0 & 0 & 0 & 0 & 0 & 0 & - B.I_{zx} & - B.I_{yz} & - B.I_{zz} & 0 & 0 & 0 & 0 & 0 & 0 & 0 & 0 & 0 & 0 & 0 & 0 & 0 & 0 & 0 & 0 & 0 & 0\\\\0 & 0 & 0 & 0 & 0 & 0 & 0 & 0 & 0 & 0 & 0 & 0 & 0 & 0 & 0 & 0 & 0 & 0 & 0 & 0 & 0 & 0 & 0 & 0 & 0 & 0 & 0 & 0 & 0 & 0 & 0 & 0 & 0 & 0 & 0 & 0 & 0 & 0 & 0 & 0 & 0 & 0 & - C.M & 0 & 0 & 0 & 0 & 0 & 0 & 0 & 0 & 0 & 0 & 0 & 0 & 0 & 0 & 0 & 0 & 0\\\\0 & 0 & 0 & 0 & 0 & 0 & 0 & 0 & 0 & 0 & 0 & 0 & 0 & 0 & 0 & 0 & 0 & 0 & 0 & 0 & 0 & 0 & 0 & 0 & 0 & 0 & 0 & 0 & 0 & 0 & 0 & 0 & 0 & 0 & 0 & 0 & 0 & 0 & 0 & 0 & 0 & 0 & 0 & - C.M & 0 & 0 & 0 & 0 & 0 & 0 & 0 & 0 & 0 & 0 & 0 & 0 & 0 & 0 & 0 & 0\\\\0 & 0 & 0 & 0 & 0 & 0 & 0 & 0 & 0 & 0 & 0 & 0 & 0 & 0 & 0 & 0 & 0 & 0 & 0 & 0 & 0 & 0 & 0 & 0 & 0 & 0 & 0 & 0 & 0 & 0 & 0 & 0 & 0 & 0 & 0 & 0 & 0 & 0 & 0 & 0 & 0 & 0 & 0 & 0 & - C.M & 0 & 0 & 0 & 0 & 0 & 0 & 0 & 0 & 0 & 0 & 0 & 0 & 0 & 0 & 0\\\\0 & 0 & 0 & 0 & 0 & 0 & 0 & 0 & 0 & 0 & 0 & 0 & 0 & 0 & 0 & 0 & 0 & 0 & 0 & 0 & 0 & 0 & 0 & 0 & 0 & 0 & 0 & 0 & 0 & 0 & 0 & 0 & 0 & 0 & 0 & 0 & 0 & 0 & 0 & 0 & 0 & 0 & 0 & 0 & 0 & - C.I_{xx} & - C.I_{xy} & - C.I_{zx} & 0 & 0 & 0 & 0 & 0 & 0 & 0 & 0 & 0 & 0 & 0 & 0\\\\0 & 0 & 0 & 0 & 0 & 0 & 0 & 0 & 0 & 0 & 0 & 0 & 0 & 0 & 0 & 0 & 0 & 0 & 0 & 0 & 0 & 0 & 0 & 0 & 0 & 0 & 0 & 0 & 0 & 0 & 0 & 0 & 0 & 0 & 0 & 0 & 0 & 0 & 0 & 0 & 0 & 0 & 0 & 0 & 0 & - C.I_{xy} & - C.I_{yy} & - C.I_{yz} & 0 & 0 & 0 & 0 & 0 & 0 & 0 & 0 & 0 & 0 & 0 & 0\\\\0 & 0 & 0 & 0 & 0 & 0 & 0 & 0 & 0 & 0 & 0 & 0 & 0 & 0 & 0 & 0 & 0 & 0 & 0 & 0 & 0 & 0 & 0 & 0 & 0 & 0 & 0 & 0 & 0 & 0 & 0 & 0 & 0 & 0 & 0 & 0 & 0 & 0 & 0 & 0 & 0 & 0 & 0 & 0 & 0 & - C.I_{zx} & - C.I_{yz} & - C.I_{zz} & 0 & 0 & 0 & 0 & 0 & 0 & 0 & 0 & 0 & 0 & 0 & 0\\\\0 & 0 & 0 & 0 & 0 & 0 & 0 & 0 & 0 & 0 & 0 & 0 & 0 & 0 & 0 & 0 & 0 & 0 & 0 & 0 & 0 & 0 & 0 & 0 & 0 & 0 & 0 & 0 & 0 & 0 & 0 & 0 & 0 & 0 & 0 & 0 & 0 & 0 & 0 & 0 & 0 & 0 & 0 & 0 & 0 & 0 & 0 & 0 & - D.M & 0 & 0 & 0 & 0 & 0 & 0 & 0 & 0 & 0 & 0 & 0\\\\0 & 0 & 0 & 0 & 0 & 0 & 0 & 0 & 0 & 0 & 0 & 0 & 0 & 0 & 0 & 0 & 0 & 0 & 0 & 0 & 0 & 0 & 0 & 0 & 0 & 0 & 0 & 0 & 0 & 0 & 0 & 0 & 0 & 0 & 0 & 0 & 0 & 0 & 0 & 0 & 0 & 0 & 0 & 0 & 0 & 0 & 0 & 0 & 0 & - D.M & 0 & 0 & 0 & 0 & 0 & 0 & 0 & 0 & 0 & 0\\\\0 & 0 & 0 & 0 & 0 & 0 & 0 & 0 & 0 & 0 & 0 & 0 & 0 & 0 & 0 & 0 & 0 & 0 & 0 & 0 & 0 & 0 & 0 & 0 & 0 & 0 & 0 & 0 & 0 & 0 & 0 & 0 & 0 & 0 & 0 & 0 & 0 & 0 & 0 & 0 & 0 & 0 & 0 & 0 & 0 & 0 & 0 & 0 & 0 & 0 & - D.M & 0 & 0 & 0 & 0 & 0 & 0 & 0 & 0 & 0\\\\0 & 0 & 0 & 0 & 0 & 0 & 0 & 0 & 0 & 0 & 0 & 0 & 0 & 0 & 0 & 0 & 0 & 0 & 0 & 0 & 0 & 0 & 0 & 0 & 0 & 0 & 0 & 0 & 0 & 0 & 0 & 0 & 0 & 0 & 0 & 0 & 0 & 0 & 0 & 0 & 0 & 0 & 0 & 0 & 0 & 0 & 0 & 0 & 0 & 0 & 0 & - D.I_{xx} & - D.I_{xy} & - D.I_{zx} & 0 & 0 & 0 & 0 & 0 & 0\\\\0 & 0 & 0 & 0 & 0 & 0 & 0 & 0 & 0 & 0 & 0 & 0 & 0 & 0 & 0 & 0 & 0 & 0 & 0 & 0 & 0 & 0 & 0 & 0 & 0 & 0 & 0 & 0 & 0 & 0 & 0 & 0 & 0 & 0 & 0 & 0 & 0 & 0 & 0 & 0 & 0 & 0 & 0 & 0 & 0 & 0 & 0 & 0 & 0 & 0 & 0 & - D.I_{xy} & - D.I_{yy} & - D.I_{yz} & 0 & 0 & 0 & 0 & 0 & 0\\\\0 & 0 & 0 & 0 & 0 & 0 & 0 & 0 & 0 & 0 & 0 & 0 & 0 & 0 & 0 & 0 & 0 & 0 & 0 & 0 & 0 & 0 & 0 & 0 & 0 & 0 & 0 & 0 & 0 & 0 & 0 & 0 & 0 & 0 & 0 & 0 & 0 & 0 & 0 & 0 & 0 & 0 & 0 & 0 & 0 & 0 & 0 & 0 & 0 & 0 & 0 & - D.I_{zx} & - D.I_{yz} & - D.I_{zz} & 0 & 0 & 0 & 0 & 0 & 0\\\\0 & 0 & 0 & 0 & 0 & 0 & 0 & 0 & 0 & 0 & 0 & 0 & 0 & 0 & 0 & 0 & 0 & 0 & 0 & 0 & 0 & 0 & 0 & 0 & 0 & 0 & 0 & 0 & 0 & 0 & 0 & 0 & 0 & 0 & 0 & 0 & 0 & 0 & 0 & 0 & 0 & 0 & 0 & 0 & 0 & 0 & 0 & 0 & 0 & 0 & 0 & 0 & 0 & 0 & - F.M & 0 & 0 & 0 & 0 & 0\\\\0 & 0 & 0 & 0 & 0 & 0 & 0 & 0 & 0 & 0 & 0 & 0 & 0 & 0 & 0 & 0 & 0 & 0 & 0 & 0 & 0 & 0 & 0 & 0 & 0 & 0 & 0 & 0 & 0 & 0 & 0 & 0 & 0 & 0 & 0 & 0 & 0 & 0 & 0 & 0 & 0 & 0 & 0 & 0 & 0 & 0 & 0 & 0 & 0 & 0 & 0 & 0 & 0 & 0 & 0 & - F.M & 0 & 0 & 0 & 0\\\\0 & 0 & 0 & 0 & 0 & 0 & 0 & 0 & 0 & 0 & 0 & 0 & 0 & 0 & 0 & 0 & 0 & 0 & 0 & 0 & 0 & 0 & 0 & 0 & 0 & 0 & 0 & 0 & 0 & 0 & 0 & 0 & 0 & 0 & 0 & 0 & 0 & 0 & 0 & 0 & 0 & 0 & 0 & 0 & 0 & 0 & 0 & 0 & 0 & 0 & 0 & 0 & 0 & 0 & 0 & 0 & - F.M & 0 & 0 & 0\\\\0 & 0 & 0 & 0 & 0 & 0 & 0 & 0 & 0 & 0 & 0 & 0 & 0 & 0 & 0 & 0 & 0 & 0 & 0 & 0 & 0 & 0 & 0 & 0 & 0 & 0 & 0 & 0 & 0 & 0 & 0 & 0 & 0 & 0 & 0 & 0 & 0 & 0 & 0 & 0 & 0 & 0 & 0 & 0 & 0 & 0 & 0 & 0 & 0 & 0 & 0 & 0 & 0 & 0 & 0 & 0 & 0 & - F.I_{xx} & - F.I_{xy} & - F.I_{zx}\\\\0 & 0 & 0 & 0 & 0 & 0 & 0 & 0 & 0 & 0 & 0 & 0 & 0 & 0 & 0 & 0 & 0 & 0 & 0 & 0 & 0 & 0 & 0 & 0 & 0 & 0 & 0 & 0 & 0 & 0 & 0 & 0 & 0 & 0 & 0 & 0 & 0 & 0 & 0 & 0 & 0 & 0 & 0 & 0 & 0 & 0 & 0 & 0 & 0 & 0 & 0 & 0 & 0 & 0 & 0 & 0 & 0 & - F.I_{xy} & - F.I_{yy} & - F.I_{yz}\\\\0 & 0 & 0 & 0 & 0 & 0 & 0 & 0 & 0 & 0 & 0 & 0 & 0 & 0 & 0 & 0 & 0 & 0 & 0 & 0 & 0 & 0 & 0 & 0 & 0 & 0 & 0 & 0 & 0 & 0 & 0 & 0 & 0 & 0 & 0 & 0 & 0 & 0 & 0 & 0 & 0 & 0 & 0 & 0 & 0 & 0 & 0 & 0 & 0 & 0 & 0 & 0 & 0 & 0 & 0 & 0 & 0 & - F.I_{zx} & - F.I_{yz} & - F.I_{zz}\\end{array}\\right]$"
      ],
      "text/plain": [
       "Matrix([\n",
       "[1, 0, 0, 0, 0, 0, 0, 0, 0, 0, 0, 0, 0, 0, 0, 0, 0, 0, 0, 0, 0, 0, 0, 0, 0, 0, 0, 0, 0, 0,    0,    0,    0,         0,         0,         0,    0,    0,    0,         0,         0,         0,    0,    0,    0,         0,         0,         0,    0,    0,    0,         0,         0,         0,    0,    0,    0,         0,         0,         0],\n",
       "[0, 1, 0, 0, 0, 0, 0, 0, 0, 0, 0, 0, 0, 0, 0, 0, 0, 0, 0, 0, 0, 0, 0, 0, 0, 0, 0, 0, 0, 0,    0,    0,    0,         0,         0,         0,    0,    0,    0,         0,         0,         0,    0,    0,    0,         0,         0,         0,    0,    0,    0,         0,         0,         0,    0,    0,    0,         0,         0,         0],\n",
       "[0, 0, 1, 0, 0, 0, 0, 0, 0, 0, 0, 0, 0, 0, 0, 0, 0, 0, 0, 0, 0, 0, 0, 0, 0, 0, 0, 0, 0, 0,    0,    0,    0,         0,         0,         0,    0,    0,    0,         0,         0,         0,    0,    0,    0,         0,         0,         0,    0,    0,    0,         0,         0,         0,    0,    0,    0,         0,         0,         0],\n",
       "[0, 0, 0, 1, 0, 0, 0, 0, 0, 0, 0, 0, 0, 0, 0, 0, 0, 0, 0, 0, 0, 0, 0, 0, 0, 0, 0, 0, 0, 0,    0,    0,    0,         0,         0,         0,    0,    0,    0,         0,         0,         0,    0,    0,    0,         0,         0,         0,    0,    0,    0,         0,         0,         0,    0,    0,    0,         0,         0,         0],\n",
       "[0, 0, 0, 0, 1, 0, 0, 0, 0, 0, 0, 0, 0, 0, 0, 0, 0, 0, 0, 0, 0, 0, 0, 0, 0, 0, 0, 0, 0, 0,    0,    0,    0,         0,         0,         0,    0,    0,    0,         0,         0,         0,    0,    0,    0,         0,         0,         0,    0,    0,    0,         0,         0,         0,    0,    0,    0,         0,         0,         0],\n",
       "[0, 0, 0, 0, 0, 1, 0, 0, 0, 0, 0, 0, 0, 0, 0, 0, 0, 0, 0, 0, 0, 0, 0, 0, 0, 0, 0, 0, 0, 0,    0,    0,    0,         0,         0,         0,    0,    0,    0,         0,         0,         0,    0,    0,    0,         0,         0,         0,    0,    0,    0,         0,         0,         0,    0,    0,    0,         0,         0,         0],\n",
       "[0, 0, 0, 0, 0, 0, 1, 0, 0, 0, 0, 0, 0, 0, 0, 0, 0, 0, 0, 0, 0, 0, 0, 0, 0, 0, 0, 0, 0, 0,    0,    0,    0,         0,         0,         0,    0,    0,    0,         0,         0,         0,    0,    0,    0,         0,         0,         0,    0,    0,    0,         0,         0,         0,    0,    0,    0,         0,         0,         0],\n",
       "[0, 0, 0, 0, 0, 0, 0, 1, 0, 0, 0, 0, 0, 0, 0, 0, 0, 0, 0, 0, 0, 0, 0, 0, 0, 0, 0, 0, 0, 0,    0,    0,    0,         0,         0,         0,    0,    0,    0,         0,         0,         0,    0,    0,    0,         0,         0,         0,    0,    0,    0,         0,         0,         0,    0,    0,    0,         0,         0,         0],\n",
       "[0, 0, 0, 0, 0, 0, 0, 0, 1, 0, 0, 0, 0, 0, 0, 0, 0, 0, 0, 0, 0, 0, 0, 0, 0, 0, 0, 0, 0, 0,    0,    0,    0,         0,         0,         0,    0,    0,    0,         0,         0,         0,    0,    0,    0,         0,         0,         0,    0,    0,    0,         0,         0,         0,    0,    0,    0,         0,         0,         0],\n",
       "[0, 0, 0, 0, 0, 0, 0, 0, 0, 1, 0, 0, 0, 0, 0, 0, 0, 0, 0, 0, 0, 0, 0, 0, 0, 0, 0, 0, 0, 0,    0,    0,    0,         0,         0,         0,    0,    0,    0,         0,         0,         0,    0,    0,    0,         0,         0,         0,    0,    0,    0,         0,         0,         0,    0,    0,    0,         0,         0,         0],\n",
       "[0, 0, 0, 0, 0, 0, 0, 0, 0, 0, 1, 0, 0, 0, 0, 0, 0, 0, 0, 0, 0, 0, 0, 0, 0, 0, 0, 0, 0, 0,    0,    0,    0,         0,         0,         0,    0,    0,    0,         0,         0,         0,    0,    0,    0,         0,         0,         0,    0,    0,    0,         0,         0,         0,    0,    0,    0,         0,         0,         0],\n",
       "[0, 0, 0, 0, 0, 0, 0, 0, 0, 0, 0, 1, 0, 0, 0, 0, 0, 0, 0, 0, 0, 0, 0, 0, 0, 0, 0, 0, 0, 0,    0,    0,    0,         0,         0,         0,    0,    0,    0,         0,         0,         0,    0,    0,    0,         0,         0,         0,    0,    0,    0,         0,         0,         0,    0,    0,    0,         0,         0,         0],\n",
       "[0, 0, 0, 0, 0, 0, 0, 0, 0, 0, 0, 0, 1, 0, 0, 0, 0, 0, 0, 0, 0, 0, 0, 0, 0, 0, 0, 0, 0, 0,    0,    0,    0,         0,         0,         0,    0,    0,    0,         0,         0,         0,    0,    0,    0,         0,         0,         0,    0,    0,    0,         0,         0,         0,    0,    0,    0,         0,         0,         0],\n",
       "[0, 0, 0, 0, 0, 0, 0, 0, 0, 0, 0, 0, 0, 1, 0, 0, 0, 0, 0, 0, 0, 0, 0, 0, 0, 0, 0, 0, 0, 0,    0,    0,    0,         0,         0,         0,    0,    0,    0,         0,         0,         0,    0,    0,    0,         0,         0,         0,    0,    0,    0,         0,         0,         0,    0,    0,    0,         0,         0,         0],\n",
       "[0, 0, 0, 0, 0, 0, 0, 0, 0, 0, 0, 0, 0, 0, 1, 0, 0, 0, 0, 0, 0, 0, 0, 0, 0, 0, 0, 0, 0, 0,    0,    0,    0,         0,         0,         0,    0,    0,    0,         0,         0,         0,    0,    0,    0,         0,         0,         0,    0,    0,    0,         0,         0,         0,    0,    0,    0,         0,         0,         0],\n",
       "[0, 0, 0, 0, 0, 0, 0, 0, 0, 0, 0, 0, 0, 0, 0, 1, 0, 0, 0, 0, 0, 0, 0, 0, 0, 0, 0, 0, 0, 0,    0,    0,    0,         0,         0,         0,    0,    0,    0,         0,         0,         0,    0,    0,    0,         0,         0,         0,    0,    0,    0,         0,         0,         0,    0,    0,    0,         0,         0,         0],\n",
       "[0, 0, 0, 0, 0, 0, 0, 0, 0, 0, 0, 0, 0, 0, 0, 0, 1, 0, 0, 0, 0, 0, 0, 0, 0, 0, 0, 0, 0, 0,    0,    0,    0,         0,         0,         0,    0,    0,    0,         0,         0,         0,    0,    0,    0,         0,         0,         0,    0,    0,    0,         0,         0,         0,    0,    0,    0,         0,         0,         0],\n",
       "[0, 0, 0, 0, 0, 0, 0, 0, 0, 0, 0, 0, 0, 0, 0, 0, 0, 1, 0, 0, 0, 0, 0, 0, 0, 0, 0, 0, 0, 0,    0,    0,    0,         0,         0,         0,    0,    0,    0,         0,         0,         0,    0,    0,    0,         0,         0,         0,    0,    0,    0,         0,         0,         0,    0,    0,    0,         0,         0,         0],\n",
       "[0, 0, 0, 0, 0, 0, 0, 0, 0, 0, 0, 0, 0, 0, 0, 0, 0, 0, 1, 0, 0, 0, 0, 0, 0, 0, 0, 0, 0, 0,    0,    0,    0,         0,         0,         0,    0,    0,    0,         0,         0,         0,    0,    0,    0,         0,         0,         0,    0,    0,    0,         0,         0,         0,    0,    0,    0,         0,         0,         0],\n",
       "[0, 0, 0, 0, 0, 0, 0, 0, 0, 0, 0, 0, 0, 0, 0, 0, 0, 0, 0, 1, 0, 0, 0, 0, 0, 0, 0, 0, 0, 0,    0,    0,    0,         0,         0,         0,    0,    0,    0,         0,         0,         0,    0,    0,    0,         0,         0,         0,    0,    0,    0,         0,         0,         0,    0,    0,    0,         0,         0,         0],\n",
       "[0, 0, 0, 0, 0, 0, 0, 0, 0, 0, 0, 0, 0, 0, 0, 0, 0, 0, 0, 0, 1, 0, 0, 0, 0, 0, 0, 0, 0, 0,    0,    0,    0,         0,         0,         0,    0,    0,    0,         0,         0,         0,    0,    0,    0,         0,         0,         0,    0,    0,    0,         0,         0,         0,    0,    0,    0,         0,         0,         0],\n",
       "[0, 0, 0, 0, 0, 0, 0, 0, 0, 0, 0, 0, 0, 0, 0, 0, 0, 0, 0, 0, 0, 1, 0, 0, 0, 0, 0, 0, 0, 0,    0,    0,    0,         0,         0,         0,    0,    0,    0,         0,         0,         0,    0,    0,    0,         0,         0,         0,    0,    0,    0,         0,         0,         0,    0,    0,    0,         0,         0,         0],\n",
       "[0, 0, 0, 0, 0, 0, 0, 0, 0, 0, 0, 0, 0, 0, 0, 0, 0, 0, 0, 0, 0, 0, 1, 0, 0, 0, 0, 0, 0, 0,    0,    0,    0,         0,         0,         0,    0,    0,    0,         0,         0,         0,    0,    0,    0,         0,         0,         0,    0,    0,    0,         0,         0,         0,    0,    0,    0,         0,         0,         0],\n",
       "[0, 0, 0, 0, 0, 0, 0, 0, 0, 0, 0, 0, 0, 0, 0, 0, 0, 0, 0, 0, 0, 0, 0, 1, 0, 0, 0, 0, 0, 0,    0,    0,    0,         0,         0,         0,    0,    0,    0,         0,         0,         0,    0,    0,    0,         0,         0,         0,    0,    0,    0,         0,         0,         0,    0,    0,    0,         0,         0,         0],\n",
       "[0, 0, 0, 0, 0, 0, 0, 0, 0, 0, 0, 0, 0, 0, 0, 0, 0, 0, 0, 0, 0, 0, 0, 0, 1, 0, 0, 0, 0, 0,    0,    0,    0,         0,         0,         0,    0,    0,    0,         0,         0,         0,    0,    0,    0,         0,         0,         0,    0,    0,    0,         0,         0,         0,    0,    0,    0,         0,         0,         0],\n",
       "[0, 0, 0, 0, 0, 0, 0, 0, 0, 0, 0, 0, 0, 0, 0, 0, 0, 0, 0, 0, 0, 0, 0, 0, 0, 1, 0, 0, 0, 0,    0,    0,    0,         0,         0,         0,    0,    0,    0,         0,         0,         0,    0,    0,    0,         0,         0,         0,    0,    0,    0,         0,         0,         0,    0,    0,    0,         0,         0,         0],\n",
       "[0, 0, 0, 0, 0, 0, 0, 0, 0, 0, 0, 0, 0, 0, 0, 0, 0, 0, 0, 0, 0, 0, 0, 0, 0, 0, 1, 0, 0, 0,    0,    0,    0,         0,         0,         0,    0,    0,    0,         0,         0,         0,    0,    0,    0,         0,         0,         0,    0,    0,    0,         0,         0,         0,    0,    0,    0,         0,         0,         0],\n",
       "[0, 0, 0, 0, 0, 0, 0, 0, 0, 0, 0, 0, 0, 0, 0, 0, 0, 0, 0, 0, 0, 0, 0, 0, 0, 0, 0, 1, 0, 0,    0,    0,    0,         0,         0,         0,    0,    0,    0,         0,         0,         0,    0,    0,    0,         0,         0,         0,    0,    0,    0,         0,         0,         0,    0,    0,    0,         0,         0,         0],\n",
       "[0, 0, 0, 0, 0, 0, 0, 0, 0, 0, 0, 0, 0, 0, 0, 0, 0, 0, 0, 0, 0, 0, 0, 0, 0, 0, 0, 0, 1, 0,    0,    0,    0,         0,         0,         0,    0,    0,    0,         0,         0,         0,    0,    0,    0,         0,         0,         0,    0,    0,    0,         0,         0,         0,    0,    0,    0,         0,         0,         0],\n",
       "[0, 0, 0, 0, 0, 0, 0, 0, 0, 0, 0, 0, 0, 0, 0, 0, 0, 0, 0, 0, 0, 0, 0, 0, 0, 0, 0, 0, 0, 1,    0,    0,    0,         0,         0,         0,    0,    0,    0,         0,         0,         0,    0,    0,    0,         0,         0,         0,    0,    0,    0,         0,         0,         0,    0,    0,    0,         0,         0,         0],\n",
       "[0, 0, 0, 0, 0, 0, 0, 0, 0, 0, 0, 0, 0, 0, 0, 0, 0, 0, 0, 0, 0, 0, 0, 0, 0, 0, 0, 0, 0, 0, -S.M,    0,    0,         0,         0,         0,    0,    0,    0,         0,         0,         0,    0,    0,    0,         0,         0,         0,    0,    0,    0,         0,         0,         0,    0,    0,    0,         0,         0,         0],\n",
       "[0, 0, 0, 0, 0, 0, 0, 0, 0, 0, 0, 0, 0, 0, 0, 0, 0, 0, 0, 0, 0, 0, 0, 0, 0, 0, 0, 0, 0, 0,    0, -S.M,    0,         0,         0,         0,    0,    0,    0,         0,         0,         0,    0,    0,    0,         0,         0,         0,    0,    0,    0,         0,         0,         0,    0,    0,    0,         0,         0,         0],\n",
       "[0, 0, 0, 0, 0, 0, 0, 0, 0, 0, 0, 0, 0, 0, 0, 0, 0, 0, 0, 0, 0, 0, 0, 0, 0, 0, 0, 0, 0, 0,    0,    0, -S.M,         0,         0,         0,    0,    0,    0,         0,         0,         0,    0,    0,    0,         0,         0,         0,    0,    0,    0,         0,         0,         0,    0,    0,    0,         0,         0,         0],\n",
       "[0, 0, 0, 0, 0, 0, 0, 0, 0, 0, 0, 0, 0, 0, 0, 0, 0, 0, 0, 0, 0, 0, 0, 0, 0, 0, 0, 0, 0, 0,    0,    0,    0, -S.I_{xx}, -S.I_{xy}, -S.I_{zx},    0,    0,    0,         0,         0,         0,    0,    0,    0,         0,         0,         0,    0,    0,    0,         0,         0,         0,    0,    0,    0,         0,         0,         0],\n",
       "[0, 0, 0, 0, 0, 0, 0, 0, 0, 0, 0, 0, 0, 0, 0, 0, 0, 0, 0, 0, 0, 0, 0, 0, 0, 0, 0, 0, 0, 0,    0,    0,    0, -S.I_{xy}, -S.I_{yy}, -S.I_{yz},    0,    0,    0,         0,         0,         0,    0,    0,    0,         0,         0,         0,    0,    0,    0,         0,         0,         0,    0,    0,    0,         0,         0,         0],\n",
       "[0, 0, 0, 0, 0, 0, 0, 0, 0, 0, 0, 0, 0, 0, 0, 0, 0, 0, 0, 0, 0, 0, 0, 0, 0, 0, 0, 0, 0, 0,    0,    0,    0, -S.I_{zx}, -S.I_{yz}, -S.I_{zz},    0,    0,    0,         0,         0,         0,    0,    0,    0,         0,         0,         0,    0,    0,    0,         0,         0,         0,    0,    0,    0,         0,         0,         0],\n",
       "[0, 0, 0, 0, 0, 0, 0, 0, 0, 0, 0, 0, 0, 0, 0, 0, 0, 0, 0, 0, 0, 0, 0, 0, 0, 0, 0, 0, 0, 0,    0,    0,    0,         0,         0,         0, -B.M,    0,    0,         0,         0,         0,    0,    0,    0,         0,         0,         0,    0,    0,    0,         0,         0,         0,    0,    0,    0,         0,         0,         0],\n",
       "[0, 0, 0, 0, 0, 0, 0, 0, 0, 0, 0, 0, 0, 0, 0, 0, 0, 0, 0, 0, 0, 0, 0, 0, 0, 0, 0, 0, 0, 0,    0,    0,    0,         0,         0,         0,    0, -B.M,    0,         0,         0,         0,    0,    0,    0,         0,         0,         0,    0,    0,    0,         0,         0,         0,    0,    0,    0,         0,         0,         0],\n",
       "[0, 0, 0, 0, 0, 0, 0, 0, 0, 0, 0, 0, 0, 0, 0, 0, 0, 0, 0, 0, 0, 0, 0, 0, 0, 0, 0, 0, 0, 0,    0,    0,    0,         0,         0,         0,    0,    0, -B.M,         0,         0,         0,    0,    0,    0,         0,         0,         0,    0,    0,    0,         0,         0,         0,    0,    0,    0,         0,         0,         0],\n",
       "[0, 0, 0, 0, 0, 0, 0, 0, 0, 0, 0, 0, 0, 0, 0, 0, 0, 0, 0, 0, 0, 0, 0, 0, 0, 0, 0, 0, 0, 0,    0,    0,    0,         0,         0,         0,    0,    0,    0, -B.I_{xx}, -B.I_{xy}, -B.I_{zx},    0,    0,    0,         0,         0,         0,    0,    0,    0,         0,         0,         0,    0,    0,    0,         0,         0,         0],\n",
       "[0, 0, 0, 0, 0, 0, 0, 0, 0, 0, 0, 0, 0, 0, 0, 0, 0, 0, 0, 0, 0, 0, 0, 0, 0, 0, 0, 0, 0, 0,    0,    0,    0,         0,         0,         0,    0,    0,    0, -B.I_{xy}, -B.I_{yy}, -B.I_{yz},    0,    0,    0,         0,         0,         0,    0,    0,    0,         0,         0,         0,    0,    0,    0,         0,         0,         0],\n",
       "[0, 0, 0, 0, 0, 0, 0, 0, 0, 0, 0, 0, 0, 0, 0, 0, 0, 0, 0, 0, 0, 0, 0, 0, 0, 0, 0, 0, 0, 0,    0,    0,    0,         0,         0,         0,    0,    0,    0, -B.I_{zx}, -B.I_{yz}, -B.I_{zz},    0,    0,    0,         0,         0,         0,    0,    0,    0,         0,         0,         0,    0,    0,    0,         0,         0,         0],\n",
       "[0, 0, 0, 0, 0, 0, 0, 0, 0, 0, 0, 0, 0, 0, 0, 0, 0, 0, 0, 0, 0, 0, 0, 0, 0, 0, 0, 0, 0, 0,    0,    0,    0,         0,         0,         0,    0,    0,    0,         0,         0,         0, -C.M,    0,    0,         0,         0,         0,    0,    0,    0,         0,         0,         0,    0,    0,    0,         0,         0,         0],\n",
       "[0, 0, 0, 0, 0, 0, 0, 0, 0, 0, 0, 0, 0, 0, 0, 0, 0, 0, 0, 0, 0, 0, 0, 0, 0, 0, 0, 0, 0, 0,    0,    0,    0,         0,         0,         0,    0,    0,    0,         0,         0,         0,    0, -C.M,    0,         0,         0,         0,    0,    0,    0,         0,         0,         0,    0,    0,    0,         0,         0,         0],\n",
       "[0, 0, 0, 0, 0, 0, 0, 0, 0, 0, 0, 0, 0, 0, 0, 0, 0, 0, 0, 0, 0, 0, 0, 0, 0, 0, 0, 0, 0, 0,    0,    0,    0,         0,         0,         0,    0,    0,    0,         0,         0,         0,    0,    0, -C.M,         0,         0,         0,    0,    0,    0,         0,         0,         0,    0,    0,    0,         0,         0,         0],\n",
       "[0, 0, 0, 0, 0, 0, 0, 0, 0, 0, 0, 0, 0, 0, 0, 0, 0, 0, 0, 0, 0, 0, 0, 0, 0, 0, 0, 0, 0, 0,    0,    0,    0,         0,         0,         0,    0,    0,    0,         0,         0,         0,    0,    0,    0, -C.I_{xx}, -C.I_{xy}, -C.I_{zx},    0,    0,    0,         0,         0,         0,    0,    0,    0,         0,         0,         0],\n",
       "[0, 0, 0, 0, 0, 0, 0, 0, 0, 0, 0, 0, 0, 0, 0, 0, 0, 0, 0, 0, 0, 0, 0, 0, 0, 0, 0, 0, 0, 0,    0,    0,    0,         0,         0,         0,    0,    0,    0,         0,         0,         0,    0,    0,    0, -C.I_{xy}, -C.I_{yy}, -C.I_{yz},    0,    0,    0,         0,         0,         0,    0,    0,    0,         0,         0,         0],\n",
       "[0, 0, 0, 0, 0, 0, 0, 0, 0, 0, 0, 0, 0, 0, 0, 0, 0, 0, 0, 0, 0, 0, 0, 0, 0, 0, 0, 0, 0, 0,    0,    0,    0,         0,         0,         0,    0,    0,    0,         0,         0,         0,    0,    0,    0, -C.I_{zx}, -C.I_{yz}, -C.I_{zz},    0,    0,    0,         0,         0,         0,    0,    0,    0,         0,         0,         0],\n",
       "[0, 0, 0, 0, 0, 0, 0, 0, 0, 0, 0, 0, 0, 0, 0, 0, 0, 0, 0, 0, 0, 0, 0, 0, 0, 0, 0, 0, 0, 0,    0,    0,    0,         0,         0,         0,    0,    0,    0,         0,         0,         0,    0,    0,    0,         0,         0,         0, -D.M,    0,    0,         0,         0,         0,    0,    0,    0,         0,         0,         0],\n",
       "[0, 0, 0, 0, 0, 0, 0, 0, 0, 0, 0, 0, 0, 0, 0, 0, 0, 0, 0, 0, 0, 0, 0, 0, 0, 0, 0, 0, 0, 0,    0,    0,    0,         0,         0,         0,    0,    0,    0,         0,         0,         0,    0,    0,    0,         0,         0,         0,    0, -D.M,    0,         0,         0,         0,    0,    0,    0,         0,         0,         0],\n",
       "[0, 0, 0, 0, 0, 0, 0, 0, 0, 0, 0, 0, 0, 0, 0, 0, 0, 0, 0, 0, 0, 0, 0, 0, 0, 0, 0, 0, 0, 0,    0,    0,    0,         0,         0,         0,    0,    0,    0,         0,         0,         0,    0,    0,    0,         0,         0,         0,    0,    0, -D.M,         0,         0,         0,    0,    0,    0,         0,         0,         0],\n",
       "[0, 0, 0, 0, 0, 0, 0, 0, 0, 0, 0, 0, 0, 0, 0, 0, 0, 0, 0, 0, 0, 0, 0, 0, 0, 0, 0, 0, 0, 0,    0,    0,    0,         0,         0,         0,    0,    0,    0,         0,         0,         0,    0,    0,    0,         0,         0,         0,    0,    0,    0, -D.I_{xx}, -D.I_{xy}, -D.I_{zx},    0,    0,    0,         0,         0,         0],\n",
       "[0, 0, 0, 0, 0, 0, 0, 0, 0, 0, 0, 0, 0, 0, 0, 0, 0, 0, 0, 0, 0, 0, 0, 0, 0, 0, 0, 0, 0, 0,    0,    0,    0,         0,         0,         0,    0,    0,    0,         0,         0,         0,    0,    0,    0,         0,         0,         0,    0,    0,    0, -D.I_{xy}, -D.I_{yy}, -D.I_{yz},    0,    0,    0,         0,         0,         0],\n",
       "[0, 0, 0, 0, 0, 0, 0, 0, 0, 0, 0, 0, 0, 0, 0, 0, 0, 0, 0, 0, 0, 0, 0, 0, 0, 0, 0, 0, 0, 0,    0,    0,    0,         0,         0,         0,    0,    0,    0,         0,         0,         0,    0,    0,    0,         0,         0,         0,    0,    0,    0, -D.I_{zx}, -D.I_{yz}, -D.I_{zz},    0,    0,    0,         0,         0,         0],\n",
       "[0, 0, 0, 0, 0, 0, 0, 0, 0, 0, 0, 0, 0, 0, 0, 0, 0, 0, 0, 0, 0, 0, 0, 0, 0, 0, 0, 0, 0, 0,    0,    0,    0,         0,         0,         0,    0,    0,    0,         0,         0,         0,    0,    0,    0,         0,         0,         0,    0,    0,    0,         0,         0,         0, -F.M,    0,    0,         0,         0,         0],\n",
       "[0, 0, 0, 0, 0, 0, 0, 0, 0, 0, 0, 0, 0, 0, 0, 0, 0, 0, 0, 0, 0, 0, 0, 0, 0, 0, 0, 0, 0, 0,    0,    0,    0,         0,         0,         0,    0,    0,    0,         0,         0,         0,    0,    0,    0,         0,         0,         0,    0,    0,    0,         0,         0,         0,    0, -F.M,    0,         0,         0,         0],\n",
       "[0, 0, 0, 0, 0, 0, 0, 0, 0, 0, 0, 0, 0, 0, 0, 0, 0, 0, 0, 0, 0, 0, 0, 0, 0, 0, 0, 0, 0, 0,    0,    0,    0,         0,         0,         0,    0,    0,    0,         0,         0,         0,    0,    0,    0,         0,         0,         0,    0,    0,    0,         0,         0,         0,    0,    0, -F.M,         0,         0,         0],\n",
       "[0, 0, 0, 0, 0, 0, 0, 0, 0, 0, 0, 0, 0, 0, 0, 0, 0, 0, 0, 0, 0, 0, 0, 0, 0, 0, 0, 0, 0, 0,    0,    0,    0,         0,         0,         0,    0,    0,    0,         0,         0,         0,    0,    0,    0,         0,         0,         0,    0,    0,    0,         0,         0,         0,    0,    0,    0, -F.I_{xx}, -F.I_{xy}, -F.I_{zx}],\n",
       "[0, 0, 0, 0, 0, 0, 0, 0, 0, 0, 0, 0, 0, 0, 0, 0, 0, 0, 0, 0, 0, 0, 0, 0, 0, 0, 0, 0, 0, 0,    0,    0,    0,         0,         0,         0,    0,    0,    0,         0,         0,         0,    0,    0,    0,         0,         0,         0,    0,    0,    0,         0,         0,         0,    0,    0,    0, -F.I_{xy}, -F.I_{yy}, -F.I_{yz}],\n",
       "[0, 0, 0, 0, 0, 0, 0, 0, 0, 0, 0, 0, 0, 0, 0, 0, 0, 0, 0, 0, 0, 0, 0, 0, 0, 0, 0, 0, 0, 0,    0,    0,    0,         0,         0,         0,    0,    0,    0,         0,         0,         0,    0,    0,    0,         0,         0,         0,    0,    0,    0,         0,         0,         0,    0,    0,    0, -F.I_{zx}, -F.I_{yz}, -F.I_{zz}]])"
      ]
     },
     "execution_count": 20,
     "metadata": {},
     "output_type": "execute_result"
    }
   ],
   "source": [
    "kane_0.E"
   ]
  },
  {
   "cell_type": "code",
   "execution_count": null,
   "id": "2d6cba27-f623-49fa-a7ae-f977359104f5",
   "metadata": {},
   "outputs": [],
   "source": []
  }
 ],
 "metadata": {
  "kernelspec": {
   "display_name": "suspy_env",
   "language": "python",
   "name": "suspy_env"
  },
  "language_info": {
   "codemirror_mode": {
    "name": "ipython",
    "version": 3
   },
   "file_extension": ".py",
   "mimetype": "text/x-python",
   "name": "python",
   "nbconvert_exporter": "python",
   "pygments_lexer": "ipython3",
   "version": "3.9.19"
  }
 },
 "nbformat": 4,
 "nbformat_minor": 5
}
