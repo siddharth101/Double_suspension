{
 "cells": [
  {
   "cell_type": "code",
   "execution_count": 1,
   "id": "1968a879-376f-4c51-b6dd-69727ee406df",
   "metadata": {},
   "outputs": [],
   "source": [
    "from sympy.physics.mechanics import (\n",
    "    dynamicsymbols, ReferenceFrame, Point, RigidBody, Particle, System, Force\n",
    ")\n",
    "from sympy import zeros, symbols\n",
    "import sympy\n",
    "import numpy as np\n",
    "import sympy as sp\n",
    "import sympy.physics.mechanics as me\n",
    "from IPython.display import display\n",
    "from suspycious import Model\n",
    "import suspycious.components as scmp\n",
    "from pathway import LinearPathway\n",
    "#from utils import add_points, get_tension_dirs, give_deltas, give_tensions, get_linpaths, get_wire_dir, apply_force\n",
    "\n",
    "from utils import (\n",
    "    add_points, make_wire_bodies, get_points, get_deltas, get_linpaths,\n",
    "    get_wires, get_forces, deltas_dict, linpaths_dict, add_wire_info,\n",
    "    get_force_wire, apply_force_on_body, apply_gravity\n",
    ")"
   ]
  },
  {
   "cell_type": "code",
   "execution_count": 2,
   "id": "4215232a-678c-46ca-b0e0-adb107154dc9",
   "metadata": {},
   "outputs": [],
   "source": [
    "d1, d2, n1, n2, w1, w2 = symbols('d1 d2 n1 n2 w1 w2', real=True, positive=True)\n",
    "d3, n3, w3 = symbols('d3 n3 w3', real=True, positive=True)\n",
    "d4, n4, w4 = symbols('d4 n4 w4', real=True, positive=True)\n",
    "d5, n5, w5 = symbols('d5 n5 w5', real=True, positive=True)\n",
    "d6, n6, w6 = symbols('d6 n6 w6', real=True, positive=True)\n",
    "d7, n7, w7 = symbols('d7 n7 w7', real=True, positive=True)\n",
    "d8, d9 = symbols('d8 d9', real=True, positive=True)\n",
    "\n",
    "l1, l2, l3, l4, l2a = symbols('l1 l2 l3 l4 l_2a', positive=True)"
   ]
  },
  {
   "cell_type": "code",
   "execution_count": 3,
   "id": "a71d5565-15c0-4200-a1fe-a57ab845bff6",
   "metadata": {},
   "outputs": [],
   "source": [
    "def set_up_bodies():\n",
    "    model2 = Model()\n",
    "    S = model2.add(scmp.RigidBody(\"S\"))\n",
    "    B = model2.add(scmp.RigidBody(\"B\"))\n",
    "    C = model2.add(scmp.RigidBody(\"C\"))\n",
    "    D = model2.add(scmp.RigidBody(\"D\"))\n",
    "    F = model2.add(scmp.RigidBody(\"F\"))\n",
    "    \n",
    "    S.set_global_position(0,0,0)\n",
    "    B.set_global_position(0,0, -l1-d1)\n",
    "    C.set_global_position(0,0, -l1 -d1-d2-l2-d3)\n",
    "    D.set_global_position(0,0, -l1 -d1-d2-l2-d3-d4-l3-d5)\n",
    "    F.set_global_position(0,0, -l1 -d1-d2-l2-d3-d4-l3-d5-d6-l4-d7)\n",
    "    S.set_global_orientation(0,0,0)\n",
    "    B.set_global_orientation(0,0,0)\n",
    "    C.set_global_orientation(0,0,0)\n",
    "    D.set_global_orientation(0,0,0)\n",
    "    F.set_global_orientation(0,0,0)\n",
    "    \n",
    "    add_points(body=S, point='P', attachment_points=[w1, n1, 0])\n",
    "    \n",
    "    add_points(body=B, point='B', attachment_points=[w1, n1, d1])\n",
    "    add_points(body=B, point='C', attachment_points=[w2, n2, -d2])\n",
    "    \n",
    "    add_points(body=C, point='D', attachment_points=[w2, n2, d3])\n",
    "    add_points(body=C, point='E', attachment_points=[w3, n3, -d4])\n",
    "    \n",
    "    add_points(body=D, point='F', attachment_points=[w3, n3, d5])\n",
    "    add_points(body=D, point='G', attachment_points=[w4, n4, -d6])\n",
    "    \n",
    "    add_points(body=F, point='H', attachment_points=[w4, n4, d7])\n",
    "    add_points(body=F, point='J', attachment_points=[w5, n5, -d8])\n",
    "\n",
    "    return S, B, C, D, F, model2"
   ]
  },
  {
   "cell_type": "code",
   "execution_count": 4,
   "id": "e3c41a84-0437-4956-a8c7-ffe476fa62f7",
   "metadata": {},
   "outputs": [],
   "source": [
    "\n",
    "def get_kane(\n",
    "        n_violin_modes, bodies_,\n",
    "        attach_points_, model, suspension_body\n",
    "):\n",
    "    n_wire_per_wire = n_violin_modes + 1\n",
    "\n",
    "    points_bodies = get_points(\n",
    "        n=n_violin_modes, num_blocks=4, model=model,\n",
    "        bodies=bodies_, attach_points=attach_points_, suspension_body=suspension_body\n",
    "    )\n",
    "\n",
    "    deltas = deltas_dict(\n",
    "        points_body=points_bodies, num_blocks=4, model=model,\n",
    "        suspension_body=suspension_body\n",
    "    )\n",
    "\n",
    "    linpaths = linpaths_dict(\n",
    "        points_body=points_bodies, num_blocks=4, model=model\n",
    "    )\n",
    "\n",
    "    num_blocks = 4\n",
    "    all_masses = [\n",
    "        i.body.mass for j in range(num_blocks)\n",
    "        for i in points_bodies[f'body{j + 1}']['bodies']\n",
    "    ]\n",
    "\n",
    "    all_masses_ = list(dict.fromkeys(all_masses))\n",
    "    wires = get_wires(\n",
    "        num_blocks=4, point_body=points_bodies,\n",
    "        deltas=deltas, linpaths=linpaths\n",
    "    )\n",
    "\n",
    "    ks = symbols('k1:5')\n",
    "\n",
    "    body1_force = get_forces(\n",
    "        n_body=1, n_wire_body=n_wire_per_wire,\n",
    "        wire_dict=wires, spring_constants=ks, masses=all_masses_\n",
    "    )\n",
    "    body2_force = get_forces(\n",
    "        n_body=2, n_wire_body=n_wire_per_wire,\n",
    "        wire_dict=wires, spring_constants=ks, masses=all_masses_\n",
    "    )\n",
    "    body3_force = get_forces(\n",
    "        n_body=3, n_wire_body=n_wire_per_wire,\n",
    "        wire_dict=wires, spring_constants=ks, masses=all_masses_\n",
    "    )\n",
    "    body4_force = get_forces(\n",
    "        n_body=4, n_wire_body=n_wire_per_wire,\n",
    "        wire_dict=wires, spring_constants=ks, masses=all_masses_\n",
    "    )\n",
    "\n",
    "    apply_force_on_body(body1_force, suspension_body=S)\n",
    "    apply_force_on_body(body2_force, suspension_body=S)\n",
    "    apply_force_on_body(body3_force, suspension_body=S)\n",
    "    apply_force_on_body(body4_force, suspension_body=S)\n",
    "\n",
    "    apply_gravity(model.components['S'])\n",
    "    apply_gravity(model.components['B'])\n",
    "    apply_gravity(model.components['C'])\n",
    "    apply_gravity(model.components['D'])\n",
    "\n",
    "    print(\"The bodies have been set up, forces applied, now solving for dynamics\")\n",
    "    kane = model.extract_statespace()\n",
    "\n",
    "    return kane"
   ]
  },
  {
   "cell_type": "code",
   "execution_count": null,
   "id": "6d29c6fb-b2e4-419a-b8bb-3b7bedbbb3db",
   "metadata": {},
   "outputs": [],
   "source": []
  },
  {
   "cell_type": "code",
   "execution_count": 6,
   "id": "6a51b29a-2aea-4415-bec9-593aece54fe9",
   "metadata": {},
   "outputs": [
    {
     "name": "stderr",
     "output_type": "stream",
     "text": [
      "/Users/siddharth/Desktop/suspycious/src/suspycious/components/body.py:81: SymPyDeprecationWarning: \n",
      "\n",
      "Support for the Body class has been removed, as its functionality is\n",
      "fully captured by RigidBody and Particle.\n",
      "\n",
      "See https://docs.sympy.org/latest/explanation/active-deprecations.html#deprecated-mechanics-body-class\n",
      "for details.\n",
      "\n",
      "This has been deprecated since SymPy version 1.13. It\n",
      "will be removed in a future version of SymPy.\n",
      "\n",
      "  self.__body = mech.Body(\n"
     ]
    },
    {
     "name": "stdout",
     "output_type": "stream",
     "text": [
      "Calculating deltas for points between bodies S and B\n",
      "(S.P1, SB11.com)\n",
      "(SB11.com, B.B1)\n",
      "(S.P2, SB12.com)\n",
      "(SB12.com, B.B2)\n",
      "(S.P3, SB13.com)\n",
      "(SB13.com, B.B3)\n",
      "(S.P4, SB14.com)\n",
      "(SB14.com, B.B4)\n",
      "Calculating deltas for points between bodies B and C\n",
      "(B.C1, BC11.com)\n",
      "(BC11.com, C.D1)\n",
      "(B.C2, BC12.com)\n",
      "(BC12.com, C.D2)\n",
      "(B.C3, BC13.com)\n",
      "(BC13.com, C.D3)\n",
      "(B.C4, BC14.com)\n",
      "(BC14.com, C.D4)\n",
      "Calculating deltas for points between bodies C and D\n",
      "(C.E1, CD11.com)\n",
      "(CD11.com, D.F1)\n",
      "(C.E2, CD12.com)\n",
      "(CD12.com, D.F2)\n",
      "(C.E3, CD13.com)\n",
      "(CD13.com, D.F3)\n",
      "(C.E4, CD14.com)\n",
      "(CD14.com, D.F4)\n",
      "Calculating deltas for points between bodies D and F\n",
      "(D.G1, DF11.com)\n",
      "(DF11.com, F.H1)\n",
      "(D.G2, DF12.com)\n",
      "(DF12.com, F.H2)\n",
      "(D.G3, DF13.com)\n",
      "(DF13.com, F.H3)\n",
      "(D.G4, DF14.com)\n",
      "(DF14.com, F.H4)\n",
      "Finding linpath between S.P1 and SB11.com\n",
      "Finding linpath between SB11.com and B.B1\n",
      "Finding linpath between S.P2 and SB12.com\n",
      "Finding linpath between SB12.com and B.B2\n",
      "Finding linpath between S.P3 and SB13.com\n",
      "Finding linpath between SB13.com and B.B3\n",
      "Finding linpath between S.P4 and SB14.com\n",
      "Finding linpath between SB14.com and B.B4\n",
      "Finding linpath between B.C1 and BC11.com\n",
      "Finding linpath between BC11.com and C.D1\n",
      "Finding linpath between B.C2 and BC12.com\n",
      "Finding linpath between BC12.com and C.D2\n",
      "Finding linpath between B.C3 and BC13.com\n",
      "Finding linpath between BC13.com and C.D3\n",
      "Finding linpath between B.C4 and BC14.com\n",
      "Finding linpath between BC14.com and C.D4\n",
      "Finding linpath between C.E1 and CD11.com\n",
      "Finding linpath between CD11.com and D.F1\n",
      "Finding linpath between C.E2 and CD12.com\n",
      "Finding linpath between CD12.com and D.F2\n",
      "Finding linpath between C.E3 and CD13.com\n",
      "Finding linpath between CD13.com and D.F3\n",
      "Finding linpath between C.E4 and CD14.com\n",
      "Finding linpath between CD14.com and D.F4\n",
      "Finding linpath between D.G1 and DF11.com\n",
      "Finding linpath between DF11.com and F.H1\n",
      "Finding linpath between D.G2 and DF12.com\n",
      "Finding linpath between DF12.com and F.H2\n",
      "Finding linpath between D.G3 and DF13.com\n",
      "Finding linpath between DF13.com and F.H3\n",
      "Finding linpath between D.G4 and DF14.com\n",
      "Finding linpath between DF14.com and F.H4\n",
      "[(S.P1, SB11.com), (SB11.com, B.B1)]\n",
      "[(S.P2, SB12.com), (SB12.com, B.B2)]\n",
      "[(S.P3, SB13.com), (SB13.com, B.B3)]\n",
      "[(S.P4, SB14.com), (SB14.com, B.B4)]\n",
      "[(B.C1, BC11.com), (BC11.com, C.D1)]\n",
      "[(B.C2, BC12.com), (BC12.com, C.D2)]\n",
      "[(B.C3, BC13.com), (BC13.com, C.D3)]\n",
      "[(B.C4, BC14.com), (BC14.com, C.D4)]\n",
      "[(C.E1, CD11.com), (CD11.com, D.F1)]\n",
      "[(C.E2, CD12.com), (CD12.com, D.F2)]\n",
      "[(C.E3, CD13.com), (CD13.com, D.F3)]\n",
      "[(C.E4, CD14.com), (CD14.com, D.F4)]\n",
      "[(D.G1, DF11.com), (DF11.com, F.H1)]\n",
      "[(D.G2, DF12.com), (DF12.com, F.H2)]\n",
      "[(D.G3, DF13.com), (DF13.com, F.H3)]\n",
      "[(D.G4, DF14.com), (DF14.com, F.H4)]\n",
      "The bodies have been set up, forces applied, now solving for dynamics\n"
     ]
    }
   ],
   "source": [
    "S, B, C, D, F, model2 = set_up_bodies()\n",
    "n_violin_modes = 1\n",
    "\n",
    "kane_violin_1  = get_kane( n_violin_modes=n_violin_modes, bodies_=[[S, B], [B,C], [C,D], [D,F]],\n",
    "        attach_points_=[[S.P1, B.B1], [B.C1, C.D1], [C.E1, D.F1], [D.G1, F.H1]], model=model2, suspension_body=S)"
   ]
  },
  {
   "cell_type": "code",
   "execution_count": 17,
   "id": "2fe4d2f1-012b-4a8d-8061-3366f8b97218",
   "metadata": {},
   "outputs": [
    {
     "data": {
      "text/plain": [
       "<suspycious.statespace.KanesMethodStateSpace at 0x14e82bb50>"
      ]
     },
     "execution_count": 17,
     "metadata": {},
     "output_type": "execute_result"
    }
   ],
   "source": [
    "kane_violin_1"
   ]
  },
  {
   "cell_type": "code",
   "execution_count": 8,
   "id": "6b506e07-6b02-43db-ade4-3a24e6ea32fe",
   "metadata": {},
   "outputs": [],
   "source": [
    "Amat_1, Bmat_1 = kane_violin_1.A, kane_violin_1.B"
   ]
  },
  {
   "cell_type": "code",
   "execution_count": 9,
   "id": "9deed2a6-edb3-4f2c-8c96-172b30dec6b7",
   "metadata": {},
   "outputs": [
    {
     "data": {
      "text/plain": [
       "(252, 252)"
      ]
     },
     "execution_count": 9,
     "metadata": {},
     "output_type": "execute_result"
    }
   ],
   "source": [
    "Amat_1.shape"
   ]
  },
  {
   "cell_type": "code",
   "execution_count": 10,
   "id": "4408cb5e-8d45-4b3d-aa2d-3fd7be6f2eb6",
   "metadata": {},
   "outputs": [
    {
     "data": {
      "text/latex": [
       "$\\displaystyle - 4 d_{1} \\left(- \\frac{2 d_{1} g \\left(\\frac{B.M}{4} + \\frac{BC11.M}{4} + \\frac{BC12.M}{4} + \\frac{BC13.M}{4} + \\frac{BC14.M}{4} + \\frac{C.M}{4} + \\frac{CD11.M}{4} + \\frac{CD12.M}{4} + \\frac{CD13.M}{4} + \\frac{CD14.M}{4} + \\frac{D.M}{4} + \\frac{DF11.M}{4} + \\frac{DF12.M}{4} + \\frac{DF13.M}{4} + \\frac{DF14.M}{4} + \\frac{F.M}{4}\\right)}{l_{1}} - g \\left(\\frac{B.M}{4} + \\frac{BC11.M}{4} + \\frac{BC12.M}{4} + \\frac{BC13.M}{4} + \\frac{BC14.M}{4} + \\frac{C.M}{4} + \\frac{CD11.M}{4} + \\frac{CD12.M}{4} + \\frac{CD13.M}{4} + \\frac{CD14.M}{4} + \\frac{D.M}{4} + \\frac{DF11.M}{4} + \\frac{DF12.M}{4} + \\frac{DF13.M}{4} + \\frac{DF14.M}{4} + \\frac{F.M}{4}\\right)\\right) + d_{2} \\left(BC11.M g + \\frac{2 d_{2} \\left(BC11.M g + g \\left(\\frac{C.M}{4} + \\frac{CD11.M}{4} + \\frac{CD12.M}{4} + \\frac{CD13.M}{4} + \\frac{CD14.M}{4} + \\frac{D.M}{4} + \\frac{DF11.M}{4} + \\frac{DF12.M}{4} + \\frac{DF13.M}{4} + \\frac{DF14.M}{4} + \\frac{F.M}{4}\\right)\\right)}{l_{2}} + g \\left(\\frac{C.M}{4} + \\frac{CD11.M}{4} + \\frac{CD12.M}{4} + \\frac{CD13.M}{4} + \\frac{CD14.M}{4} + \\frac{D.M}{4} + \\frac{DF11.M}{4} + \\frac{DF12.M}{4} + \\frac{DF13.M}{4} + \\frac{DF14.M}{4} + \\frac{F.M}{4}\\right)\\right) + d_{2} \\left(BC12.M g + \\frac{2 d_{2} \\left(BC12.M g + g \\left(\\frac{C.M}{4} + \\frac{CD11.M}{4} + \\frac{CD12.M}{4} + \\frac{CD13.M}{4} + \\frac{CD14.M}{4} + \\frac{D.M}{4} + \\frac{DF11.M}{4} + \\frac{DF12.M}{4} + \\frac{DF13.M}{4} + \\frac{DF14.M}{4} + \\frac{F.M}{4}\\right)\\right)}{l_{2}} + g \\left(\\frac{C.M}{4} + \\frac{CD11.M}{4} + \\frac{CD12.M}{4} + \\frac{CD13.M}{4} + \\frac{CD14.M}{4} + \\frac{D.M}{4} + \\frac{DF11.M}{4} + \\frac{DF12.M}{4} + \\frac{DF13.M}{4} + \\frac{DF14.M}{4} + \\frac{F.M}{4}\\right)\\right) + d_{2} \\left(BC13.M g + \\frac{2 d_{2} \\left(BC13.M g + g \\left(\\frac{C.M}{4} + \\frac{CD11.M}{4} + \\frac{CD12.M}{4} + \\frac{CD13.M}{4} + \\frac{CD14.M}{4} + \\frac{D.M}{4} + \\frac{DF11.M}{4} + \\frac{DF12.M}{4} + \\frac{DF13.M}{4} + \\frac{DF14.M}{4} + \\frac{F.M}{4}\\right)\\right)}{l_{2}} + g \\left(\\frac{C.M}{4} + \\frac{CD11.M}{4} + \\frac{CD12.M}{4} + \\frac{CD13.M}{4} + \\frac{CD14.M}{4} + \\frac{D.M}{4} + \\frac{DF11.M}{4} + \\frac{DF12.M}{4} + \\frac{DF13.M}{4} + \\frac{DF14.M}{4} + \\frac{F.M}{4}\\right)\\right) + d_{2} \\left(BC14.M g + \\frac{2 d_{2} \\left(BC14.M g + g \\left(\\frac{C.M}{4} + \\frac{CD11.M}{4} + \\frac{CD12.M}{4} + \\frac{CD13.M}{4} + \\frac{CD14.M}{4} + \\frac{D.M}{4} + \\frac{DF11.M}{4} + \\frac{DF12.M}{4} + \\frac{DF13.M}{4} + \\frac{DF14.M}{4} + \\frac{F.M}{4}\\right)\\right)}{l_{2}} + g \\left(\\frac{C.M}{4} + \\frac{CD11.M}{4} + \\frac{CD12.M}{4} + \\frac{CD13.M}{4} + \\frac{CD14.M}{4} + \\frac{D.M}{4} + \\frac{DF11.M}{4} + \\frac{DF12.M}{4} + \\frac{DF13.M}{4} + \\frac{DF14.M}{4} + \\frac{F.M}{4}\\right)\\right) + 4 k_{1} w_{1}^{2} + 4 k_{2} w_{2}^{2}$"
      ],
      "text/plain": [
       "-4*d1*(-2*d1*g*(B.M/4 + BC11.M/4 + BC12.M/4 + BC13.M/4 + BC14.M/4 + C.M/4 + CD11.M/4 + CD12.M/4 + CD13.M/4 + CD14.M/4 + D.M/4 + DF11.M/4 + DF12.M/4 + DF13.M/4 + DF14.M/4 + F.M/4)/l1 - g*(B.M/4 + BC11.M/4 + BC12.M/4 + BC13.M/4 + BC14.M/4 + C.M/4 + CD11.M/4 + CD12.M/4 + CD13.M/4 + CD14.M/4 + D.M/4 + DF11.M/4 + DF12.M/4 + DF13.M/4 + DF14.M/4 + F.M/4)) + d2*(BC11.M*g + 2*d2*(BC11.M*g + g*(C.M/4 + CD11.M/4 + CD12.M/4 + CD13.M/4 + CD14.M/4 + D.M/4 + DF11.M/4 + DF12.M/4 + DF13.M/4 + DF14.M/4 + F.M/4))/l2 + g*(C.M/4 + CD11.M/4 + CD12.M/4 + CD13.M/4 + CD14.M/4 + D.M/4 + DF11.M/4 + DF12.M/4 + DF13.M/4 + DF14.M/4 + F.M/4)) + d2*(BC12.M*g + 2*d2*(BC12.M*g + g*(C.M/4 + CD11.M/4 + CD12.M/4 + CD13.M/4 + CD14.M/4 + D.M/4 + DF11.M/4 + DF12.M/4 + DF13.M/4 + DF14.M/4 + F.M/4))/l2 + g*(C.M/4 + CD11.M/4 + CD12.M/4 + CD13.M/4 + CD14.M/4 + D.M/4 + DF11.M/4 + DF12.M/4 + DF13.M/4 + DF14.M/4 + F.M/4)) + d2*(BC13.M*g + 2*d2*(BC13.M*g + g*(C.M/4 + CD11.M/4 + CD12.M/4 + CD13.M/4 + CD14.M/4 + D.M/4 + DF11.M/4 + DF12.M/4 + DF13.M/4 + DF14.M/4 + F.M/4))/l2 + g*(C.M/4 + CD11.M/4 + CD12.M/4 + CD13.M/4 + CD14.M/4 + D.M/4 + DF11.M/4 + DF12.M/4 + DF13.M/4 + DF14.M/4 + F.M/4)) + d2*(BC14.M*g + 2*d2*(BC14.M*g + g*(C.M/4 + CD11.M/4 + CD12.M/4 + CD13.M/4 + CD14.M/4 + D.M/4 + DF11.M/4 + DF12.M/4 + DF13.M/4 + DF14.M/4 + F.M/4))/l2 + g*(C.M/4 + CD11.M/4 + CD12.M/4 + CD13.M/4 + CD14.M/4 + D.M/4 + DF11.M/4 + DF12.M/4 + DF13.M/4 + DF14.M/4 + F.M/4)) + 4*k1*w1**2 + 4*k2*w2**2"
      ]
     },
     "execution_count": 10,
     "metadata": {},
     "output_type": "execute_result"
    }
   ],
   "source": [
    "Amat_1[136,10]"
   ]
  },
  {
   "cell_type": "code",
   "execution_count": 7,
   "id": "720f0402-1aaf-40d0-9392-b8a3f7d7a9b7",
   "metadata": {},
   "outputs": [
    {
     "name": "stdout",
     "output_type": "stream",
     "text": [
      "Calculating deltas for points between bodies S and B\n",
      "(S.P1, B.B1)\n",
      "(S.P2, B.B2)\n",
      "(S.P3, B.B3)\n",
      "(S.P4, B.B4)\n",
      "Calculating deltas for points between bodies B and C\n",
      "(B.C1, C.D1)\n",
      "(B.C2, C.D2)\n",
      "(B.C3, C.D3)\n",
      "(B.C4, C.D4)\n",
      "Calculating deltas for points between bodies C and D\n",
      "(C.E1, D.F1)\n",
      "(C.E2, D.F2)\n",
      "(C.E3, D.F3)\n",
      "(C.E4, D.F4)\n",
      "Calculating deltas for points between bodies D and F\n",
      "(D.G1, F.H1)\n",
      "(D.G2, F.H2)\n",
      "(D.G3, F.H3)\n",
      "(D.G4, F.H4)\n",
      "Finding linpath between S.P1 and B.B1\n",
      "Finding linpath between S.P2 and B.B2\n",
      "Finding linpath between S.P3 and B.B3\n",
      "Finding linpath between S.P4 and B.B4\n",
      "Finding linpath between B.C1 and C.D1\n",
      "Finding linpath between B.C2 and C.D2\n",
      "Finding linpath between B.C3 and C.D3\n",
      "Finding linpath between B.C4 and C.D4\n",
      "Finding linpath between C.E1 and D.F1\n",
      "Finding linpath between C.E2 and D.F2\n",
      "Finding linpath between C.E3 and D.F3\n",
      "Finding linpath between C.E4 and D.F4\n",
      "Finding linpath between D.G1 and F.H1\n",
      "Finding linpath between D.G2 and F.H2\n",
      "Finding linpath between D.G3 and F.H3\n",
      "Finding linpath between D.G4 and F.H4\n",
      "[(S.P1, B.B1)]\n",
      "[(S.P2, B.B2)]\n",
      "[(S.P3, B.B3)]\n",
      "[(S.P4, B.B4)]\n",
      "[(B.C1, C.D1)]\n",
      "[(B.C2, C.D2)]\n",
      "[(B.C3, C.D3)]\n",
      "[(B.C4, C.D4)]\n",
      "[(C.E1, D.F1)]\n",
      "[(C.E2, D.F2)]\n",
      "[(C.E3, D.F3)]\n",
      "[(C.E4, D.F4)]\n",
      "[(D.G1, F.H1)]\n",
      "[(D.G2, F.H2)]\n",
      "[(D.G3, F.H3)]\n",
      "[(D.G4, F.H4)]\n",
      "The bodies have been set up, forces applied, now solving for dynamics\n"
     ]
    }
   ],
   "source": [
    "S, B, C, D, F, model2 = set_up_bodies()\n",
    "n_violin_modes = 0\n",
    "\n",
    "kane_violin_0  = get_kane( n_violin_modes=n_violin_modes, bodies_=[[S, B], [B,C], [C,D], [D,F]],\n",
    "        attach_points_=[[S.P1, B.B1], [B.C1, C.D1], [C.E1, D.F1], [D.G1, F.H1]], model=model2, suspension_body=S)"
   ]
  },
  {
   "cell_type": "code",
   "execution_count": 11,
   "id": "04ff72da-c506-435d-bc63-3c381c9899d4",
   "metadata": {},
   "outputs": [],
   "source": [
    "Amat_0, Bmat_0 = kane_violin_0.A, kane_violin_0.B"
   ]
  },
  {
   "cell_type": "code",
   "execution_count": 12,
   "id": "479698de-2072-4efa-acf6-9df63fbf17de",
   "metadata": {},
   "outputs": [
    {
     "data": {
      "text/latex": [
       "$\\displaystyle - 4 d_{1} \\left(- \\frac{d_{1} g \\left(\\frac{B.M}{4} + \\frac{C.M}{4} + \\frac{D.M}{4} + \\frac{F.M}{4}\\right)}{l_{1}} - g \\left(\\frac{B.M}{4} + \\frac{C.M}{4} + \\frac{D.M}{4} + \\frac{F.M}{4}\\right)\\right) + 4 d_{2} \\left(\\frac{d_{2} g \\left(\\frac{C.M}{4} + \\frac{D.M}{4} + \\frac{F.M}{4}\\right)}{l_{2}} + g \\left(\\frac{C.M}{4} + \\frac{D.M}{4} + \\frac{F.M}{4}\\right)\\right) + 4 k_{1} w_{1}^{2} + 4 k_{2} w_{2}^{2}$"
      ],
      "text/plain": [
       "-4*d1*(-d1*g*(B.M/4 + C.M/4 + D.M/4 + F.M/4)/l1 - g*(B.M/4 + C.M/4 + D.M/4 + F.M/4)) + 4*d2*(d2*g*(C.M/4 + D.M/4 + F.M/4)/l2 + g*(C.M/4 + D.M/4 + F.M/4)) + 4*k1*w1**2 + 4*k2*w2**2"
      ]
     },
     "execution_count": 12,
     "metadata": {},
     "output_type": "execute_result"
    }
   ],
   "source": [
    "Amat_0[40,10]"
   ]
  },
  {
   "cell_type": "code",
   "execution_count": null,
   "id": "8b847759-4051-4aa6-a17c-b36a07c77bc8",
   "metadata": {},
   "outputs": [],
   "source": []
  },
  {
   "cell_type": "code",
   "execution_count": null,
   "id": "bcca2d2b-fb51-4ea4-be66-2fdb2e6b8974",
   "metadata": {},
   "outputs": [],
   "source": []
  },
  {
   "cell_type": "markdown",
   "id": "29ba9baa-ca0f-4a38-a258-d8fe277908d0",
   "metadata": {},
   "source": [
    "### Testing"
   ]
  },
  {
   "cell_type": "code",
   "execution_count": 6,
   "id": "483e476b-6ebd-49e0-9a0c-4aa3ce6fc936",
   "metadata": {},
   "outputs": [
    {
     "name": "stderr",
     "output_type": "stream",
     "text": [
      "/Users/siddharth/Desktop/suspycious/src/suspycious/components/body.py:81: SymPyDeprecationWarning: \n",
      "\n",
      "Support for the Body class has been removed, as its functionality is\n",
      "fully captured by RigidBody and Particle.\n",
      "\n",
      "See https://docs.sympy.org/latest/explanation/active-deprecations.html#deprecated-mechanics-body-class\n",
      "for details.\n",
      "\n",
      "This has been deprecated since SymPy version 1.13. It\n",
      "will be removed in a future version of SymPy.\n",
      "\n",
      "  self.__body = mech.Body(\n"
     ]
    },
    {
     "name": "stdout",
     "output_type": "stream",
     "text": [
      "Calculating deltas for points between bodies S and B\n",
      "(S.P1, B.B1)\n",
      "(S.P2, B.B2)\n",
      "(S.P3, B.B3)\n",
      "(S.P4, B.B4)\n",
      "Calculating deltas for points between bodies B and C\n",
      "(B.C1, C.D1)\n",
      "(B.C2, C.D2)\n",
      "(B.C3, C.D3)\n",
      "(B.C4, C.D4)\n",
      "Calculating deltas for points between bodies C and D\n",
      "(C.E1, D.F1)\n",
      "(C.E2, D.F2)\n",
      "(C.E3, D.F3)\n",
      "(C.E4, D.F4)\n",
      "Calculating deltas for points between bodies D and F\n",
      "(D.G1, F.H1)\n",
      "(D.G2, F.H2)\n",
      "(D.G3, F.H3)\n",
      "(D.G4, F.H4)\n",
      "Finding linpath between S.P1 and B.B1\n",
      "Finding linpath between S.P2 and B.B2\n",
      "Finding linpath between S.P3 and B.B3\n",
      "Finding linpath between S.P4 and B.B4\n",
      "Finding linpath between B.C1 and C.D1\n",
      "Finding linpath between B.C2 and C.D2\n",
      "Finding linpath between B.C3 and C.D3\n",
      "Finding linpath between B.C4 and C.D4\n",
      "Finding linpath between C.E1 and D.F1\n",
      "Finding linpath between C.E2 and D.F2\n",
      "Finding linpath between C.E3 and D.F3\n",
      "Finding linpath between C.E4 and D.F4\n",
      "Finding linpath between D.G1 and F.H1\n",
      "Finding linpath between D.G2 and F.H2\n",
      "Finding linpath between D.G3 and F.H3\n",
      "Finding linpath between D.G4 and F.H4\n",
      "[(S.P1, B.B1)]\n",
      "[(S.P2, B.B2)]\n",
      "[(S.P3, B.B3)]\n",
      "[(S.P4, B.B4)]\n",
      "[(B.C1, C.D1)]\n",
      "[(B.C2, C.D2)]\n",
      "[(B.C3, C.D3)]\n",
      "[(B.C4, C.D4)]\n",
      "[(C.E1, D.F1)]\n",
      "[(C.E2, D.F2)]\n",
      "[(C.E3, D.F3)]\n",
      "[(C.E4, D.F4)]\n",
      "[(D.G1, F.H1)]\n",
      "[(D.G2, F.H2)]\n",
      "[(D.G3, F.H3)]\n",
      "[(D.G4, F.H4)]\n"
     ]
    }
   ],
   "source": [
    "S, B, C, D, F, model2 = set_up_bodies()\n",
    "n_violin_modes=0\n",
    "n_wire_per_wire = n_violin_modes + 1\n",
    "model=model2\n",
    "\n",
    "bodies_=[[S, B], [B,C], [C,D], [D,F]]\n",
    "attach_points_=[[S.P1, B.B1], [B.C1, C.D1], [C.E1, D.F1], [D.G1, F.H1]]\n",
    "suspension_body=S\n",
    "\n",
    "\n",
    "points_bodies = get_points(\n",
    "    n=n_violin_modes, num_blocks=4, model=model,\n",
    "    bodies=bodies_, attach_points=attach_points_, suspension_body=suspension_body\n",
    ")\n",
    "\n",
    "deltas = deltas_dict(\n",
    "    points_body=points_bodies, num_blocks=4, model=model,\n",
    "    suspension_body=suspension_body\n",
    ")\n",
    "\n",
    "linpaths = linpaths_dict(\n",
    "    points_body=points_bodies, num_blocks=4, model=model\n",
    ")\n",
    "\n",
    "num_blocks = 4\n",
    "all_masses = [\n",
    "    i.body.mass for j in range(num_blocks)\n",
    "    for i in points_bodies[f'body{j + 1}']['bodies']\n",
    "]\n",
    "\n",
    "all_masses_ = list(dict.fromkeys(all_masses))\n",
    "wires = get_wires(\n",
    "    num_blocks=4, point_body=points_bodies,\n",
    "    deltas=deltas, linpaths=linpaths\n",
    ")\n",
    "\n",
    "ks = symbols('k1:5')\n",
    "\n",
    "body1_force = get_forces(\n",
    "    n_body=1, n_wire_body=n_wire_per_wire,\n",
    "    wire_dict=wires, spring_constants=ks, masses=all_masses_\n",
    ")\n",
    "body2_force = get_forces(\n",
    "    n_body=2, n_wire_body=n_wire_per_wire,\n",
    "    wire_dict=wires, spring_constants=ks, masses=all_masses_\n",
    ")\n",
    "body3_force = get_forces(\n",
    "    n_body=3, n_wire_body=n_wire_per_wire,\n",
    "    wire_dict=wires, spring_constants=ks, masses=all_masses_\n",
    ")\n",
    "body4_force = get_forces(\n",
    "    n_body=4, n_wire_body=n_wire_per_wire,\n",
    "    wire_dict=wires, spring_constants=ks, masses=all_masses_\n",
    ")\n",
    "\n",
    "apply_force_on_body(body1_force, suspension_body=S)\n",
    "apply_force_on_body(body2_force, suspension_body=S)\n",
    "apply_force_on_body(body3_force, suspension_body=S)\n",
    "apply_force_on_body(body4_force, suspension_body=S)\n",
    "\n",
    "apply_gravity(model.components['S'])\n",
    "apply_gravity(model.components['B'])\n",
    "apply_gravity(model.components['C'])\n",
    "apply_gravity(model.components['D'])"
   ]
  },
  {
   "cell_type": "code",
   "execution_count": 10,
   "id": "c72b816b-d2e9-4712-9751-1e28e611dbc1",
   "metadata": {},
   "outputs": [],
   "source": [
    "#B.body.loads"
   ]
  },
  {
   "cell_type": "code",
   "execution_count": 11,
   "id": "8d06d13e-1dd9-4419-9be3-9e74522701cf",
   "metadata": {},
   "outputs": [],
   "source": [
    "#S.body.loads"
   ]
  },
  {
   "cell_type": "code",
   "execution_count": 12,
   "id": "5447f64e-27ae-46f6-9680-540cd5e01b8e",
   "metadata": {},
   "outputs": [],
   "source": [
    "kane = model.extract_statespace()"
   ]
  },
  {
   "cell_type": "code",
   "execution_count": 13,
   "id": "6d912b44-8925-49d2-bc4c-3f95e790c453",
   "metadata": {},
   "outputs": [
    {
     "data": {
      "text/latex": [
       "$\\displaystyle \\left[\\begin{array}{cccccccccccccccccccccccccccccccccccccccccccccccccccccccccccc}1 & 0 & 0 & 0 & 0 & 0 & 0 & 0 & 0 & 0 & 0 & 0 & 0 & 0 & 0 & 0 & 0 & 0 & 0 & 0 & 0 & 0 & 0 & 0 & 0 & 0 & 0 & 0 & 0 & 0 & 0 & 0 & 0 & 0 & 0 & 0 & 0 & 0 & 0 & 0 & 0 & 0 & 0 & 0 & 0 & 0 & 0 & 0 & 0 & 0 & 0 & 0 & 0 & 0 & 0 & 0 & 0 & 0 & 0 & 0\\\\0 & 1 & 0 & 0 & 0 & 0 & 0 & 0 & 0 & 0 & 0 & 0 & 0 & 0 & 0 & 0 & 0 & 0 & 0 & 0 & 0 & 0 & 0 & 0 & 0 & 0 & 0 & 0 & 0 & 0 & 0 & 0 & 0 & 0 & 0 & 0 & 0 & 0 & 0 & 0 & 0 & 0 & 0 & 0 & 0 & 0 & 0 & 0 & 0 & 0 & 0 & 0 & 0 & 0 & 0 & 0 & 0 & 0 & 0 & 0\\\\0 & 0 & 1 & 0 & 0 & 0 & 0 & 0 & 0 & 0 & 0 & 0 & 0 & 0 & 0 & 0 & 0 & 0 & 0 & 0 & 0 & 0 & 0 & 0 & 0 & 0 & 0 & 0 & 0 & 0 & 0 & 0 & 0 & 0 & 0 & 0 & 0 & 0 & 0 & 0 & 0 & 0 & 0 & 0 & 0 & 0 & 0 & 0 & 0 & 0 & 0 & 0 & 0 & 0 & 0 & 0 & 0 & 0 & 0 & 0\\\\0 & 0 & 0 & 1 & 0 & 0 & 0 & 0 & 0 & 0 & 0 & 0 & 0 & 0 & 0 & 0 & 0 & 0 & 0 & 0 & 0 & 0 & 0 & 0 & 0 & 0 & 0 & 0 & 0 & 0 & 0 & 0 & 0 & 0 & 0 & 0 & 0 & 0 & 0 & 0 & 0 & 0 & 0 & 0 & 0 & 0 & 0 & 0 & 0 & 0 & 0 & 0 & 0 & 0 & 0 & 0 & 0 & 0 & 0 & 0\\\\0 & 0 & 0 & 0 & 1 & 0 & 0 & 0 & 0 & 0 & 0 & 0 & 0 & 0 & 0 & 0 & 0 & 0 & 0 & 0 & 0 & 0 & 0 & 0 & 0 & 0 & 0 & 0 & 0 & 0 & 0 & 0 & 0 & 0 & 0 & 0 & 0 & 0 & 0 & 0 & 0 & 0 & 0 & 0 & 0 & 0 & 0 & 0 & 0 & 0 & 0 & 0 & 0 & 0 & 0 & 0 & 0 & 0 & 0 & 0\\\\0 & 0 & 0 & 0 & 0 & 1 & 0 & 0 & 0 & 0 & 0 & 0 & 0 & 0 & 0 & 0 & 0 & 0 & 0 & 0 & 0 & 0 & 0 & 0 & 0 & 0 & 0 & 0 & 0 & 0 & 0 & 0 & 0 & 0 & 0 & 0 & 0 & 0 & 0 & 0 & 0 & 0 & 0 & 0 & 0 & 0 & 0 & 0 & 0 & 0 & 0 & 0 & 0 & 0 & 0 & 0 & 0 & 0 & 0 & 0\\\\0 & 0 & 0 & 0 & 0 & 0 & 1 & 0 & 0 & 0 & 0 & 0 & 0 & 0 & 0 & 0 & 0 & 0 & 0 & 0 & 0 & 0 & 0 & 0 & 0 & 0 & 0 & 0 & 0 & 0 & 0 & 0 & 0 & 0 & 0 & 0 & 0 & 0 & 0 & 0 & 0 & 0 & 0 & 0 & 0 & 0 & 0 & 0 & 0 & 0 & 0 & 0 & 0 & 0 & 0 & 0 & 0 & 0 & 0 & 0\\\\0 & 0 & 0 & 0 & 0 & 0 & 0 & 1 & 0 & 0 & 0 & 0 & 0 & 0 & 0 & 0 & 0 & 0 & 0 & 0 & 0 & 0 & 0 & 0 & 0 & 0 & 0 & 0 & 0 & 0 & 0 & 0 & 0 & 0 & 0 & 0 & 0 & 0 & 0 & 0 & 0 & 0 & 0 & 0 & 0 & 0 & 0 & 0 & 0 & 0 & 0 & 0 & 0 & 0 & 0 & 0 & 0 & 0 & 0 & 0\\\\0 & 0 & 0 & 0 & 0 & 0 & 0 & 0 & 1 & 0 & 0 & 0 & 0 & 0 & 0 & 0 & 0 & 0 & 0 & 0 & 0 & 0 & 0 & 0 & 0 & 0 & 0 & 0 & 0 & 0 & 0 & 0 & 0 & 0 & 0 & 0 & 0 & 0 & 0 & 0 & 0 & 0 & 0 & 0 & 0 & 0 & 0 & 0 & 0 & 0 & 0 & 0 & 0 & 0 & 0 & 0 & 0 & 0 & 0 & 0\\\\0 & 0 & 0 & 0 & 0 & 0 & 0 & 0 & 0 & 1 & 0 & 0 & 0 & 0 & 0 & 0 & 0 & 0 & 0 & 0 & 0 & 0 & 0 & 0 & 0 & 0 & 0 & 0 & 0 & 0 & 0 & 0 & 0 & 0 & 0 & 0 & 0 & 0 & 0 & 0 & 0 & 0 & 0 & 0 & 0 & 0 & 0 & 0 & 0 & 0 & 0 & 0 & 0 & 0 & 0 & 0 & 0 & 0 & 0 & 0\\\\0 & 0 & 0 & 0 & 0 & 0 & 0 & 0 & 0 & 0 & 1 & 0 & 0 & 0 & 0 & 0 & 0 & 0 & 0 & 0 & 0 & 0 & 0 & 0 & 0 & 0 & 0 & 0 & 0 & 0 & 0 & 0 & 0 & 0 & 0 & 0 & 0 & 0 & 0 & 0 & 0 & 0 & 0 & 0 & 0 & 0 & 0 & 0 & 0 & 0 & 0 & 0 & 0 & 0 & 0 & 0 & 0 & 0 & 0 & 0\\\\0 & 0 & 0 & 0 & 0 & 0 & 0 & 0 & 0 & 0 & 0 & 1 & 0 & 0 & 0 & 0 & 0 & 0 & 0 & 0 & 0 & 0 & 0 & 0 & 0 & 0 & 0 & 0 & 0 & 0 & 0 & 0 & 0 & 0 & 0 & 0 & 0 & 0 & 0 & 0 & 0 & 0 & 0 & 0 & 0 & 0 & 0 & 0 & 0 & 0 & 0 & 0 & 0 & 0 & 0 & 0 & 0 & 0 & 0 & 0\\\\0 & 0 & 0 & 0 & 0 & 0 & 0 & 0 & 0 & 0 & 0 & 0 & 1 & 0 & 0 & 0 & 0 & 0 & 0 & 0 & 0 & 0 & 0 & 0 & 0 & 0 & 0 & 0 & 0 & 0 & 0 & 0 & 0 & 0 & 0 & 0 & 0 & 0 & 0 & 0 & 0 & 0 & 0 & 0 & 0 & 0 & 0 & 0 & 0 & 0 & 0 & 0 & 0 & 0 & 0 & 0 & 0 & 0 & 0 & 0\\\\0 & 0 & 0 & 0 & 0 & 0 & 0 & 0 & 0 & 0 & 0 & 0 & 0 & 1 & 0 & 0 & 0 & 0 & 0 & 0 & 0 & 0 & 0 & 0 & 0 & 0 & 0 & 0 & 0 & 0 & 0 & 0 & 0 & 0 & 0 & 0 & 0 & 0 & 0 & 0 & 0 & 0 & 0 & 0 & 0 & 0 & 0 & 0 & 0 & 0 & 0 & 0 & 0 & 0 & 0 & 0 & 0 & 0 & 0 & 0\\\\0 & 0 & 0 & 0 & 0 & 0 & 0 & 0 & 0 & 0 & 0 & 0 & 0 & 0 & 1 & 0 & 0 & 0 & 0 & 0 & 0 & 0 & 0 & 0 & 0 & 0 & 0 & 0 & 0 & 0 & 0 & 0 & 0 & 0 & 0 & 0 & 0 & 0 & 0 & 0 & 0 & 0 & 0 & 0 & 0 & 0 & 0 & 0 & 0 & 0 & 0 & 0 & 0 & 0 & 0 & 0 & 0 & 0 & 0 & 0\\\\0 & 0 & 0 & 0 & 0 & 0 & 0 & 0 & 0 & 0 & 0 & 0 & 0 & 0 & 0 & 1 & 0 & 0 & 0 & 0 & 0 & 0 & 0 & 0 & 0 & 0 & 0 & 0 & 0 & 0 & 0 & 0 & 0 & 0 & 0 & 0 & 0 & 0 & 0 & 0 & 0 & 0 & 0 & 0 & 0 & 0 & 0 & 0 & 0 & 0 & 0 & 0 & 0 & 0 & 0 & 0 & 0 & 0 & 0 & 0\\\\0 & 0 & 0 & 0 & 0 & 0 & 0 & 0 & 0 & 0 & 0 & 0 & 0 & 0 & 0 & 0 & 1 & 0 & 0 & 0 & 0 & 0 & 0 & 0 & 0 & 0 & 0 & 0 & 0 & 0 & 0 & 0 & 0 & 0 & 0 & 0 & 0 & 0 & 0 & 0 & 0 & 0 & 0 & 0 & 0 & 0 & 0 & 0 & 0 & 0 & 0 & 0 & 0 & 0 & 0 & 0 & 0 & 0 & 0 & 0\\\\0 & 0 & 0 & 0 & 0 & 0 & 0 & 0 & 0 & 0 & 0 & 0 & 0 & 0 & 0 & 0 & 0 & 1 & 0 & 0 & 0 & 0 & 0 & 0 & 0 & 0 & 0 & 0 & 0 & 0 & 0 & 0 & 0 & 0 & 0 & 0 & 0 & 0 & 0 & 0 & 0 & 0 & 0 & 0 & 0 & 0 & 0 & 0 & 0 & 0 & 0 & 0 & 0 & 0 & 0 & 0 & 0 & 0 & 0 & 0\\\\0 & 0 & 0 & 0 & 0 & 0 & 0 & 0 & 0 & 0 & 0 & 0 & 0 & 0 & 0 & 0 & 0 & 0 & 1 & 0 & 0 & 0 & 0 & 0 & 0 & 0 & 0 & 0 & 0 & 0 & 0 & 0 & 0 & 0 & 0 & 0 & 0 & 0 & 0 & 0 & 0 & 0 & 0 & 0 & 0 & 0 & 0 & 0 & 0 & 0 & 0 & 0 & 0 & 0 & 0 & 0 & 0 & 0 & 0 & 0\\\\0 & 0 & 0 & 0 & 0 & 0 & 0 & 0 & 0 & 0 & 0 & 0 & 0 & 0 & 0 & 0 & 0 & 0 & 0 & 1 & 0 & 0 & 0 & 0 & 0 & 0 & 0 & 0 & 0 & 0 & 0 & 0 & 0 & 0 & 0 & 0 & 0 & 0 & 0 & 0 & 0 & 0 & 0 & 0 & 0 & 0 & 0 & 0 & 0 & 0 & 0 & 0 & 0 & 0 & 0 & 0 & 0 & 0 & 0 & 0\\\\0 & 0 & 0 & 0 & 0 & 0 & 0 & 0 & 0 & 0 & 0 & 0 & 0 & 0 & 0 & 0 & 0 & 0 & 0 & 0 & 1 & 0 & 0 & 0 & 0 & 0 & 0 & 0 & 0 & 0 & 0 & 0 & 0 & 0 & 0 & 0 & 0 & 0 & 0 & 0 & 0 & 0 & 0 & 0 & 0 & 0 & 0 & 0 & 0 & 0 & 0 & 0 & 0 & 0 & 0 & 0 & 0 & 0 & 0 & 0\\\\0 & 0 & 0 & 0 & 0 & 0 & 0 & 0 & 0 & 0 & 0 & 0 & 0 & 0 & 0 & 0 & 0 & 0 & 0 & 0 & 0 & 1 & 0 & 0 & 0 & 0 & 0 & 0 & 0 & 0 & 0 & 0 & 0 & 0 & 0 & 0 & 0 & 0 & 0 & 0 & 0 & 0 & 0 & 0 & 0 & 0 & 0 & 0 & 0 & 0 & 0 & 0 & 0 & 0 & 0 & 0 & 0 & 0 & 0 & 0\\\\0 & 0 & 0 & 0 & 0 & 0 & 0 & 0 & 0 & 0 & 0 & 0 & 0 & 0 & 0 & 0 & 0 & 0 & 0 & 0 & 0 & 0 & 1 & 0 & 0 & 0 & 0 & 0 & 0 & 0 & 0 & 0 & 0 & 0 & 0 & 0 & 0 & 0 & 0 & 0 & 0 & 0 & 0 & 0 & 0 & 0 & 0 & 0 & 0 & 0 & 0 & 0 & 0 & 0 & 0 & 0 & 0 & 0 & 0 & 0\\\\0 & 0 & 0 & 0 & 0 & 0 & 0 & 0 & 0 & 0 & 0 & 0 & 0 & 0 & 0 & 0 & 0 & 0 & 0 & 0 & 0 & 0 & 0 & 1 & 0 & 0 & 0 & 0 & 0 & 0 & 0 & 0 & 0 & 0 & 0 & 0 & 0 & 0 & 0 & 0 & 0 & 0 & 0 & 0 & 0 & 0 & 0 & 0 & 0 & 0 & 0 & 0 & 0 & 0 & 0 & 0 & 0 & 0 & 0 & 0\\\\0 & 0 & 0 & 0 & 0 & 0 & 0 & 0 & 0 & 0 & 0 & 0 & 0 & 0 & 0 & 0 & 0 & 0 & 0 & 0 & 0 & 0 & 0 & 0 & 1 & 0 & 0 & 0 & 0 & 0 & 0 & 0 & 0 & 0 & 0 & 0 & 0 & 0 & 0 & 0 & 0 & 0 & 0 & 0 & 0 & 0 & 0 & 0 & 0 & 0 & 0 & 0 & 0 & 0 & 0 & 0 & 0 & 0 & 0 & 0\\\\0 & 0 & 0 & 0 & 0 & 0 & 0 & 0 & 0 & 0 & 0 & 0 & 0 & 0 & 0 & 0 & 0 & 0 & 0 & 0 & 0 & 0 & 0 & 0 & 0 & 1 & 0 & 0 & 0 & 0 & 0 & 0 & 0 & 0 & 0 & 0 & 0 & 0 & 0 & 0 & 0 & 0 & 0 & 0 & 0 & 0 & 0 & 0 & 0 & 0 & 0 & 0 & 0 & 0 & 0 & 0 & 0 & 0 & 0 & 0\\\\0 & 0 & 0 & 0 & 0 & 0 & 0 & 0 & 0 & 0 & 0 & 0 & 0 & 0 & 0 & 0 & 0 & 0 & 0 & 0 & 0 & 0 & 0 & 0 & 0 & 0 & 1 & 0 & 0 & 0 & 0 & 0 & 0 & 0 & 0 & 0 & 0 & 0 & 0 & 0 & 0 & 0 & 0 & 0 & 0 & 0 & 0 & 0 & 0 & 0 & 0 & 0 & 0 & 0 & 0 & 0 & 0 & 0 & 0 & 0\\\\0 & 0 & 0 & 0 & 0 & 0 & 0 & 0 & 0 & 0 & 0 & 0 & 0 & 0 & 0 & 0 & 0 & 0 & 0 & 0 & 0 & 0 & 0 & 0 & 0 & 0 & 0 & 1 & 0 & 0 & 0 & 0 & 0 & 0 & 0 & 0 & 0 & 0 & 0 & 0 & 0 & 0 & 0 & 0 & 0 & 0 & 0 & 0 & 0 & 0 & 0 & 0 & 0 & 0 & 0 & 0 & 0 & 0 & 0 & 0\\\\0 & 0 & 0 & 0 & 0 & 0 & 0 & 0 & 0 & 0 & 0 & 0 & 0 & 0 & 0 & 0 & 0 & 0 & 0 & 0 & 0 & 0 & 0 & 0 & 0 & 0 & 0 & 0 & 1 & 0 & 0 & 0 & 0 & 0 & 0 & 0 & 0 & 0 & 0 & 0 & 0 & 0 & 0 & 0 & 0 & 0 & 0 & 0 & 0 & 0 & 0 & 0 & 0 & 0 & 0 & 0 & 0 & 0 & 0 & 0\\\\0 & 0 & 0 & 0 & 0 & 0 & 0 & 0 & 0 & 0 & 0 & 0 & 0 & 0 & 0 & 0 & 0 & 0 & 0 & 0 & 0 & 0 & 0 & 0 & 0 & 0 & 0 & 0 & 0 & 1 & 0 & 0 & 0 & 0 & 0 & 0 & 0 & 0 & 0 & 0 & 0 & 0 & 0 & 0 & 0 & 0 & 0 & 0 & 0 & 0 & 0 & 0 & 0 & 0 & 0 & 0 & 0 & 0 & 0 & 0\\\\0 & 0 & 0 & 0 & 0 & 0 & 0 & 0 & 0 & 0 & 0 & 0 & 0 & 0 & 0 & 0 & 0 & 0 & 0 & 0 & 0 & 0 & 0 & 0 & 0 & 0 & 0 & 0 & 0 & 0 & - S.M & 0 & 0 & 0 & 0 & 0 & 0 & 0 & 0 & 0 & 0 & 0 & 0 & 0 & 0 & 0 & 0 & 0 & 0 & 0 & 0 & 0 & 0 & 0 & 0 & 0 & 0 & 0 & 0 & 0\\\\0 & 0 & 0 & 0 & 0 & 0 & 0 & 0 & 0 & 0 & 0 & 0 & 0 & 0 & 0 & 0 & 0 & 0 & 0 & 0 & 0 & 0 & 0 & 0 & 0 & 0 & 0 & 0 & 0 & 0 & 0 & - S.M & 0 & 0 & 0 & 0 & 0 & 0 & 0 & 0 & 0 & 0 & 0 & 0 & 0 & 0 & 0 & 0 & 0 & 0 & 0 & 0 & 0 & 0 & 0 & 0 & 0 & 0 & 0 & 0\\\\0 & 0 & 0 & 0 & 0 & 0 & 0 & 0 & 0 & 0 & 0 & 0 & 0 & 0 & 0 & 0 & 0 & 0 & 0 & 0 & 0 & 0 & 0 & 0 & 0 & 0 & 0 & 0 & 0 & 0 & 0 & 0 & - S.M & 0 & 0 & 0 & 0 & 0 & 0 & 0 & 0 & 0 & 0 & 0 & 0 & 0 & 0 & 0 & 0 & 0 & 0 & 0 & 0 & 0 & 0 & 0 & 0 & 0 & 0 & 0\\\\0 & 0 & 0 & 0 & 0 & 0 & 0 & 0 & 0 & 0 & 0 & 0 & 0 & 0 & 0 & 0 & 0 & 0 & 0 & 0 & 0 & 0 & 0 & 0 & 0 & 0 & 0 & 0 & 0 & 0 & 0 & 0 & 0 & - S.I_{xx} & - S.I_{xy} & - S.I_{zx} & 0 & 0 & 0 & 0 & 0 & 0 & 0 & 0 & 0 & 0 & 0 & 0 & 0 & 0 & 0 & 0 & 0 & 0 & 0 & 0 & 0 & 0 & 0 & 0\\\\0 & 0 & 0 & 0 & 0 & 0 & 0 & 0 & 0 & 0 & 0 & 0 & 0 & 0 & 0 & 0 & 0 & 0 & 0 & 0 & 0 & 0 & 0 & 0 & 0 & 0 & 0 & 0 & 0 & 0 & 0 & 0 & 0 & - S.I_{xy} & - S.I_{yy} & - S.I_{yz} & 0 & 0 & 0 & 0 & 0 & 0 & 0 & 0 & 0 & 0 & 0 & 0 & 0 & 0 & 0 & 0 & 0 & 0 & 0 & 0 & 0 & 0 & 0 & 0\\\\0 & 0 & 0 & 0 & 0 & 0 & 0 & 0 & 0 & 0 & 0 & 0 & 0 & 0 & 0 & 0 & 0 & 0 & 0 & 0 & 0 & 0 & 0 & 0 & 0 & 0 & 0 & 0 & 0 & 0 & 0 & 0 & 0 & - S.I_{zx} & - S.I_{yz} & - S.I_{zz} & 0 & 0 & 0 & 0 & 0 & 0 & 0 & 0 & 0 & 0 & 0 & 0 & 0 & 0 & 0 & 0 & 0 & 0 & 0 & 0 & 0 & 0 & 0 & 0\\\\0 & 0 & 0 & 0 & 0 & 0 & 0 & 0 & 0 & 0 & 0 & 0 & 0 & 0 & 0 & 0 & 0 & 0 & 0 & 0 & 0 & 0 & 0 & 0 & 0 & 0 & 0 & 0 & 0 & 0 & 0 & 0 & 0 & 0 & 0 & 0 & - B.M & 0 & 0 & 0 & 0 & 0 & 0 & 0 & 0 & 0 & 0 & 0 & 0 & 0 & 0 & 0 & 0 & 0 & 0 & 0 & 0 & 0 & 0 & 0\\\\0 & 0 & 0 & 0 & 0 & 0 & 0 & 0 & 0 & 0 & 0 & 0 & 0 & 0 & 0 & 0 & 0 & 0 & 0 & 0 & 0 & 0 & 0 & 0 & 0 & 0 & 0 & 0 & 0 & 0 & 0 & 0 & 0 & 0 & 0 & 0 & 0 & - B.M & 0 & 0 & 0 & 0 & 0 & 0 & 0 & 0 & 0 & 0 & 0 & 0 & 0 & 0 & 0 & 0 & 0 & 0 & 0 & 0 & 0 & 0\\\\0 & 0 & 0 & 0 & 0 & 0 & 0 & 0 & 0 & 0 & 0 & 0 & 0 & 0 & 0 & 0 & 0 & 0 & 0 & 0 & 0 & 0 & 0 & 0 & 0 & 0 & 0 & 0 & 0 & 0 & 0 & 0 & 0 & 0 & 0 & 0 & 0 & 0 & - B.M & 0 & 0 & 0 & 0 & 0 & 0 & 0 & 0 & 0 & 0 & 0 & 0 & 0 & 0 & 0 & 0 & 0 & 0 & 0 & 0 & 0\\\\0 & 0 & 0 & 0 & 0 & 0 & 0 & 0 & 0 & 0 & 0 & 0 & 0 & 0 & 0 & 0 & 0 & 0 & 0 & 0 & 0 & 0 & 0 & 0 & 0 & 0 & 0 & 0 & 0 & 0 & 0 & 0 & 0 & 0 & 0 & 0 & 0 & 0 & 0 & - B.I_{xx} & - B.I_{xy} & - B.I_{zx} & 0 & 0 & 0 & 0 & 0 & 0 & 0 & 0 & 0 & 0 & 0 & 0 & 0 & 0 & 0 & 0 & 0 & 0\\\\0 & 0 & 0 & 0 & 0 & 0 & 0 & 0 & 0 & 0 & 0 & 0 & 0 & 0 & 0 & 0 & 0 & 0 & 0 & 0 & 0 & 0 & 0 & 0 & 0 & 0 & 0 & 0 & 0 & 0 & 0 & 0 & 0 & 0 & 0 & 0 & 0 & 0 & 0 & - B.I_{xy} & - B.I_{yy} & - B.I_{yz} & 0 & 0 & 0 & 0 & 0 & 0 & 0 & 0 & 0 & 0 & 0 & 0 & 0 & 0 & 0 & 0 & 0 & 0\\\\0 & 0 & 0 & 0 & 0 & 0 & 0 & 0 & 0 & 0 & 0 & 0 & 0 & 0 & 0 & 0 & 0 & 0 & 0 & 0 & 0 & 0 & 0 & 0 & 0 & 0 & 0 & 0 & 0 & 0 & 0 & 0 & 0 & 0 & 0 & 0 & 0 & 0 & 0 & - B.I_{zx} & - B.I_{yz} & - B.I_{zz} & 0 & 0 & 0 & 0 & 0 & 0 & 0 & 0 & 0 & 0 & 0 & 0 & 0 & 0 & 0 & 0 & 0 & 0\\\\0 & 0 & 0 & 0 & 0 & 0 & 0 & 0 & 0 & 0 & 0 & 0 & 0 & 0 & 0 & 0 & 0 & 0 & 0 & 0 & 0 & 0 & 0 & 0 & 0 & 0 & 0 & 0 & 0 & 0 & 0 & 0 & 0 & 0 & 0 & 0 & 0 & 0 & 0 & 0 & 0 & 0 & - C.M & 0 & 0 & 0 & 0 & 0 & 0 & 0 & 0 & 0 & 0 & 0 & 0 & 0 & 0 & 0 & 0 & 0\\\\0 & 0 & 0 & 0 & 0 & 0 & 0 & 0 & 0 & 0 & 0 & 0 & 0 & 0 & 0 & 0 & 0 & 0 & 0 & 0 & 0 & 0 & 0 & 0 & 0 & 0 & 0 & 0 & 0 & 0 & 0 & 0 & 0 & 0 & 0 & 0 & 0 & 0 & 0 & 0 & 0 & 0 & 0 & - C.M & 0 & 0 & 0 & 0 & 0 & 0 & 0 & 0 & 0 & 0 & 0 & 0 & 0 & 0 & 0 & 0\\\\0 & 0 & 0 & 0 & 0 & 0 & 0 & 0 & 0 & 0 & 0 & 0 & 0 & 0 & 0 & 0 & 0 & 0 & 0 & 0 & 0 & 0 & 0 & 0 & 0 & 0 & 0 & 0 & 0 & 0 & 0 & 0 & 0 & 0 & 0 & 0 & 0 & 0 & 0 & 0 & 0 & 0 & 0 & 0 & - C.M & 0 & 0 & 0 & 0 & 0 & 0 & 0 & 0 & 0 & 0 & 0 & 0 & 0 & 0 & 0\\\\0 & 0 & 0 & 0 & 0 & 0 & 0 & 0 & 0 & 0 & 0 & 0 & 0 & 0 & 0 & 0 & 0 & 0 & 0 & 0 & 0 & 0 & 0 & 0 & 0 & 0 & 0 & 0 & 0 & 0 & 0 & 0 & 0 & 0 & 0 & 0 & 0 & 0 & 0 & 0 & 0 & 0 & 0 & 0 & 0 & - C.I_{xx} & - C.I_{xy} & - C.I_{zx} & 0 & 0 & 0 & 0 & 0 & 0 & 0 & 0 & 0 & 0 & 0 & 0\\\\0 & 0 & 0 & 0 & 0 & 0 & 0 & 0 & 0 & 0 & 0 & 0 & 0 & 0 & 0 & 0 & 0 & 0 & 0 & 0 & 0 & 0 & 0 & 0 & 0 & 0 & 0 & 0 & 0 & 0 & 0 & 0 & 0 & 0 & 0 & 0 & 0 & 0 & 0 & 0 & 0 & 0 & 0 & 0 & 0 & - C.I_{xy} & - C.I_{yy} & - C.I_{yz} & 0 & 0 & 0 & 0 & 0 & 0 & 0 & 0 & 0 & 0 & 0 & 0\\\\0 & 0 & 0 & 0 & 0 & 0 & 0 & 0 & 0 & 0 & 0 & 0 & 0 & 0 & 0 & 0 & 0 & 0 & 0 & 0 & 0 & 0 & 0 & 0 & 0 & 0 & 0 & 0 & 0 & 0 & 0 & 0 & 0 & 0 & 0 & 0 & 0 & 0 & 0 & 0 & 0 & 0 & 0 & 0 & 0 & - C.I_{zx} & - C.I_{yz} & - C.I_{zz} & 0 & 0 & 0 & 0 & 0 & 0 & 0 & 0 & 0 & 0 & 0 & 0\\\\0 & 0 & 0 & 0 & 0 & 0 & 0 & 0 & 0 & 0 & 0 & 0 & 0 & 0 & 0 & 0 & 0 & 0 & 0 & 0 & 0 & 0 & 0 & 0 & 0 & 0 & 0 & 0 & 0 & 0 & 0 & 0 & 0 & 0 & 0 & 0 & 0 & 0 & 0 & 0 & 0 & 0 & 0 & 0 & 0 & 0 & 0 & 0 & - D.M & 0 & 0 & 0 & 0 & 0 & 0 & 0 & 0 & 0 & 0 & 0\\\\0 & 0 & 0 & 0 & 0 & 0 & 0 & 0 & 0 & 0 & 0 & 0 & 0 & 0 & 0 & 0 & 0 & 0 & 0 & 0 & 0 & 0 & 0 & 0 & 0 & 0 & 0 & 0 & 0 & 0 & 0 & 0 & 0 & 0 & 0 & 0 & 0 & 0 & 0 & 0 & 0 & 0 & 0 & 0 & 0 & 0 & 0 & 0 & 0 & - D.M & 0 & 0 & 0 & 0 & 0 & 0 & 0 & 0 & 0 & 0\\\\0 & 0 & 0 & 0 & 0 & 0 & 0 & 0 & 0 & 0 & 0 & 0 & 0 & 0 & 0 & 0 & 0 & 0 & 0 & 0 & 0 & 0 & 0 & 0 & 0 & 0 & 0 & 0 & 0 & 0 & 0 & 0 & 0 & 0 & 0 & 0 & 0 & 0 & 0 & 0 & 0 & 0 & 0 & 0 & 0 & 0 & 0 & 0 & 0 & 0 & - D.M & 0 & 0 & 0 & 0 & 0 & 0 & 0 & 0 & 0\\\\0 & 0 & 0 & 0 & 0 & 0 & 0 & 0 & 0 & 0 & 0 & 0 & 0 & 0 & 0 & 0 & 0 & 0 & 0 & 0 & 0 & 0 & 0 & 0 & 0 & 0 & 0 & 0 & 0 & 0 & 0 & 0 & 0 & 0 & 0 & 0 & 0 & 0 & 0 & 0 & 0 & 0 & 0 & 0 & 0 & 0 & 0 & 0 & 0 & 0 & 0 & - D.I_{xx} & - D.I_{xy} & - D.I_{zx} & 0 & 0 & 0 & 0 & 0 & 0\\\\0 & 0 & 0 & 0 & 0 & 0 & 0 & 0 & 0 & 0 & 0 & 0 & 0 & 0 & 0 & 0 & 0 & 0 & 0 & 0 & 0 & 0 & 0 & 0 & 0 & 0 & 0 & 0 & 0 & 0 & 0 & 0 & 0 & 0 & 0 & 0 & 0 & 0 & 0 & 0 & 0 & 0 & 0 & 0 & 0 & 0 & 0 & 0 & 0 & 0 & 0 & - D.I_{xy} & - D.I_{yy} & - D.I_{yz} & 0 & 0 & 0 & 0 & 0 & 0\\\\0 & 0 & 0 & 0 & 0 & 0 & 0 & 0 & 0 & 0 & 0 & 0 & 0 & 0 & 0 & 0 & 0 & 0 & 0 & 0 & 0 & 0 & 0 & 0 & 0 & 0 & 0 & 0 & 0 & 0 & 0 & 0 & 0 & 0 & 0 & 0 & 0 & 0 & 0 & 0 & 0 & 0 & 0 & 0 & 0 & 0 & 0 & 0 & 0 & 0 & 0 & - D.I_{zx} & - D.I_{yz} & - D.I_{zz} & 0 & 0 & 0 & 0 & 0 & 0\\\\0 & 0 & 0 & 0 & 0 & 0 & 0 & 0 & 0 & 0 & 0 & 0 & 0 & 0 & 0 & 0 & 0 & 0 & 0 & 0 & 0 & 0 & 0 & 0 & 0 & 0 & 0 & 0 & 0 & 0 & 0 & 0 & 0 & 0 & 0 & 0 & 0 & 0 & 0 & 0 & 0 & 0 & 0 & 0 & 0 & 0 & 0 & 0 & 0 & 0 & 0 & 0 & 0 & 0 & - F.M & 0 & 0 & 0 & 0 & 0\\\\0 & 0 & 0 & 0 & 0 & 0 & 0 & 0 & 0 & 0 & 0 & 0 & 0 & 0 & 0 & 0 & 0 & 0 & 0 & 0 & 0 & 0 & 0 & 0 & 0 & 0 & 0 & 0 & 0 & 0 & 0 & 0 & 0 & 0 & 0 & 0 & 0 & 0 & 0 & 0 & 0 & 0 & 0 & 0 & 0 & 0 & 0 & 0 & 0 & 0 & 0 & 0 & 0 & 0 & 0 & - F.M & 0 & 0 & 0 & 0\\\\0 & 0 & 0 & 0 & 0 & 0 & 0 & 0 & 0 & 0 & 0 & 0 & 0 & 0 & 0 & 0 & 0 & 0 & 0 & 0 & 0 & 0 & 0 & 0 & 0 & 0 & 0 & 0 & 0 & 0 & 0 & 0 & 0 & 0 & 0 & 0 & 0 & 0 & 0 & 0 & 0 & 0 & 0 & 0 & 0 & 0 & 0 & 0 & 0 & 0 & 0 & 0 & 0 & 0 & 0 & 0 & - F.M & 0 & 0 & 0\\\\0 & 0 & 0 & 0 & 0 & 0 & 0 & 0 & 0 & 0 & 0 & 0 & 0 & 0 & 0 & 0 & 0 & 0 & 0 & 0 & 0 & 0 & 0 & 0 & 0 & 0 & 0 & 0 & 0 & 0 & 0 & 0 & 0 & 0 & 0 & 0 & 0 & 0 & 0 & 0 & 0 & 0 & 0 & 0 & 0 & 0 & 0 & 0 & 0 & 0 & 0 & 0 & 0 & 0 & 0 & 0 & 0 & - F.I_{xx} & - F.I_{xy} & - F.I_{zx}\\\\0 & 0 & 0 & 0 & 0 & 0 & 0 & 0 & 0 & 0 & 0 & 0 & 0 & 0 & 0 & 0 & 0 & 0 & 0 & 0 & 0 & 0 & 0 & 0 & 0 & 0 & 0 & 0 & 0 & 0 & 0 & 0 & 0 & 0 & 0 & 0 & 0 & 0 & 0 & 0 & 0 & 0 & 0 & 0 & 0 & 0 & 0 & 0 & 0 & 0 & 0 & 0 & 0 & 0 & 0 & 0 & 0 & - F.I_{xy} & - F.I_{yy} & - F.I_{yz}\\\\0 & 0 & 0 & 0 & 0 & 0 & 0 & 0 & 0 & 0 & 0 & 0 & 0 & 0 & 0 & 0 & 0 & 0 & 0 & 0 & 0 & 0 & 0 & 0 & 0 & 0 & 0 & 0 & 0 & 0 & 0 & 0 & 0 & 0 & 0 & 0 & 0 & 0 & 0 & 0 & 0 & 0 & 0 & 0 & 0 & 0 & 0 & 0 & 0 & 0 & 0 & 0 & 0 & 0 & 0 & 0 & 0 & - F.I_{zx} & - F.I_{yz} & - F.I_{zz}\\end{array}\\right]$"
      ],
      "text/plain": [
       "Matrix([\n",
       "[1, 0, 0, 0, 0, 0, 0, 0, 0, 0, 0, 0, 0, 0, 0, 0, 0, 0, 0, 0, 0, 0, 0, 0, 0, 0, 0, 0, 0, 0,    0,    0,    0,         0,         0,         0,    0,    0,    0,         0,         0,         0,    0,    0,    0,         0,         0,         0,    0,    0,    0,         0,         0,         0,    0,    0,    0,         0,         0,         0],\n",
       "[0, 1, 0, 0, 0, 0, 0, 0, 0, 0, 0, 0, 0, 0, 0, 0, 0, 0, 0, 0, 0, 0, 0, 0, 0, 0, 0, 0, 0, 0,    0,    0,    0,         0,         0,         0,    0,    0,    0,         0,         0,         0,    0,    0,    0,         0,         0,         0,    0,    0,    0,         0,         0,         0,    0,    0,    0,         0,         0,         0],\n",
       "[0, 0, 1, 0, 0, 0, 0, 0, 0, 0, 0, 0, 0, 0, 0, 0, 0, 0, 0, 0, 0, 0, 0, 0, 0, 0, 0, 0, 0, 0,    0,    0,    0,         0,         0,         0,    0,    0,    0,         0,         0,         0,    0,    0,    0,         0,         0,         0,    0,    0,    0,         0,         0,         0,    0,    0,    0,         0,         0,         0],\n",
       "[0, 0, 0, 1, 0, 0, 0, 0, 0, 0, 0, 0, 0, 0, 0, 0, 0, 0, 0, 0, 0, 0, 0, 0, 0, 0, 0, 0, 0, 0,    0,    0,    0,         0,         0,         0,    0,    0,    0,         0,         0,         0,    0,    0,    0,         0,         0,         0,    0,    0,    0,         0,         0,         0,    0,    0,    0,         0,         0,         0],\n",
       "[0, 0, 0, 0, 1, 0, 0, 0, 0, 0, 0, 0, 0, 0, 0, 0, 0, 0, 0, 0, 0, 0, 0, 0, 0, 0, 0, 0, 0, 0,    0,    0,    0,         0,         0,         0,    0,    0,    0,         0,         0,         0,    0,    0,    0,         0,         0,         0,    0,    0,    0,         0,         0,         0,    0,    0,    0,         0,         0,         0],\n",
       "[0, 0, 0, 0, 0, 1, 0, 0, 0, 0, 0, 0, 0, 0, 0, 0, 0, 0, 0, 0, 0, 0, 0, 0, 0, 0, 0, 0, 0, 0,    0,    0,    0,         0,         0,         0,    0,    0,    0,         0,         0,         0,    0,    0,    0,         0,         0,         0,    0,    0,    0,         0,         0,         0,    0,    0,    0,         0,         0,         0],\n",
       "[0, 0, 0, 0, 0, 0, 1, 0, 0, 0, 0, 0, 0, 0, 0, 0, 0, 0, 0, 0, 0, 0, 0, 0, 0, 0, 0, 0, 0, 0,    0,    0,    0,         0,         0,         0,    0,    0,    0,         0,         0,         0,    0,    0,    0,         0,         0,         0,    0,    0,    0,         0,         0,         0,    0,    0,    0,         0,         0,         0],\n",
       "[0, 0, 0, 0, 0, 0, 0, 1, 0, 0, 0, 0, 0, 0, 0, 0, 0, 0, 0, 0, 0, 0, 0, 0, 0, 0, 0, 0, 0, 0,    0,    0,    0,         0,         0,         0,    0,    0,    0,         0,         0,         0,    0,    0,    0,         0,         0,         0,    0,    0,    0,         0,         0,         0,    0,    0,    0,         0,         0,         0],\n",
       "[0, 0, 0, 0, 0, 0, 0, 0, 1, 0, 0, 0, 0, 0, 0, 0, 0, 0, 0, 0, 0, 0, 0, 0, 0, 0, 0, 0, 0, 0,    0,    0,    0,         0,         0,         0,    0,    0,    0,         0,         0,         0,    0,    0,    0,         0,         0,         0,    0,    0,    0,         0,         0,         0,    0,    0,    0,         0,         0,         0],\n",
       "[0, 0, 0, 0, 0, 0, 0, 0, 0, 1, 0, 0, 0, 0, 0, 0, 0, 0, 0, 0, 0, 0, 0, 0, 0, 0, 0, 0, 0, 0,    0,    0,    0,         0,         0,         0,    0,    0,    0,         0,         0,         0,    0,    0,    0,         0,         0,         0,    0,    0,    0,         0,         0,         0,    0,    0,    0,         0,         0,         0],\n",
       "[0, 0, 0, 0, 0, 0, 0, 0, 0, 0, 1, 0, 0, 0, 0, 0, 0, 0, 0, 0, 0, 0, 0, 0, 0, 0, 0, 0, 0, 0,    0,    0,    0,         0,         0,         0,    0,    0,    0,         0,         0,         0,    0,    0,    0,         0,         0,         0,    0,    0,    0,         0,         0,         0,    0,    0,    0,         0,         0,         0],\n",
       "[0, 0, 0, 0, 0, 0, 0, 0, 0, 0, 0, 1, 0, 0, 0, 0, 0, 0, 0, 0, 0, 0, 0, 0, 0, 0, 0, 0, 0, 0,    0,    0,    0,         0,         0,         0,    0,    0,    0,         0,         0,         0,    0,    0,    0,         0,         0,         0,    0,    0,    0,         0,         0,         0,    0,    0,    0,         0,         0,         0],\n",
       "[0, 0, 0, 0, 0, 0, 0, 0, 0, 0, 0, 0, 1, 0, 0, 0, 0, 0, 0, 0, 0, 0, 0, 0, 0, 0, 0, 0, 0, 0,    0,    0,    0,         0,         0,         0,    0,    0,    0,         0,         0,         0,    0,    0,    0,         0,         0,         0,    0,    0,    0,         0,         0,         0,    0,    0,    0,         0,         0,         0],\n",
       "[0, 0, 0, 0, 0, 0, 0, 0, 0, 0, 0, 0, 0, 1, 0, 0, 0, 0, 0, 0, 0, 0, 0, 0, 0, 0, 0, 0, 0, 0,    0,    0,    0,         0,         0,         0,    0,    0,    0,         0,         0,         0,    0,    0,    0,         0,         0,         0,    0,    0,    0,         0,         0,         0,    0,    0,    0,         0,         0,         0],\n",
       "[0, 0, 0, 0, 0, 0, 0, 0, 0, 0, 0, 0, 0, 0, 1, 0, 0, 0, 0, 0, 0, 0, 0, 0, 0, 0, 0, 0, 0, 0,    0,    0,    0,         0,         0,         0,    0,    0,    0,         0,         0,         0,    0,    0,    0,         0,         0,         0,    0,    0,    0,         0,         0,         0,    0,    0,    0,         0,         0,         0],\n",
       "[0, 0, 0, 0, 0, 0, 0, 0, 0, 0, 0, 0, 0, 0, 0, 1, 0, 0, 0, 0, 0, 0, 0, 0, 0, 0, 0, 0, 0, 0,    0,    0,    0,         0,         0,         0,    0,    0,    0,         0,         0,         0,    0,    0,    0,         0,         0,         0,    0,    0,    0,         0,         0,         0,    0,    0,    0,         0,         0,         0],\n",
       "[0, 0, 0, 0, 0, 0, 0, 0, 0, 0, 0, 0, 0, 0, 0, 0, 1, 0, 0, 0, 0, 0, 0, 0, 0, 0, 0, 0, 0, 0,    0,    0,    0,         0,         0,         0,    0,    0,    0,         0,         0,         0,    0,    0,    0,         0,         0,         0,    0,    0,    0,         0,         0,         0,    0,    0,    0,         0,         0,         0],\n",
       "[0, 0, 0, 0, 0, 0, 0, 0, 0, 0, 0, 0, 0, 0, 0, 0, 0, 1, 0, 0, 0, 0, 0, 0, 0, 0, 0, 0, 0, 0,    0,    0,    0,         0,         0,         0,    0,    0,    0,         0,         0,         0,    0,    0,    0,         0,         0,         0,    0,    0,    0,         0,         0,         0,    0,    0,    0,         0,         0,         0],\n",
       "[0, 0, 0, 0, 0, 0, 0, 0, 0, 0, 0, 0, 0, 0, 0, 0, 0, 0, 1, 0, 0, 0, 0, 0, 0, 0, 0, 0, 0, 0,    0,    0,    0,         0,         0,         0,    0,    0,    0,         0,         0,         0,    0,    0,    0,         0,         0,         0,    0,    0,    0,         0,         0,         0,    0,    0,    0,         0,         0,         0],\n",
       "[0, 0, 0, 0, 0, 0, 0, 0, 0, 0, 0, 0, 0, 0, 0, 0, 0, 0, 0, 1, 0, 0, 0, 0, 0, 0, 0, 0, 0, 0,    0,    0,    0,         0,         0,         0,    0,    0,    0,         0,         0,         0,    0,    0,    0,         0,         0,         0,    0,    0,    0,         0,         0,         0,    0,    0,    0,         0,         0,         0],\n",
       "[0, 0, 0, 0, 0, 0, 0, 0, 0, 0, 0, 0, 0, 0, 0, 0, 0, 0, 0, 0, 1, 0, 0, 0, 0, 0, 0, 0, 0, 0,    0,    0,    0,         0,         0,         0,    0,    0,    0,         0,         0,         0,    0,    0,    0,         0,         0,         0,    0,    0,    0,         0,         0,         0,    0,    0,    0,         0,         0,         0],\n",
       "[0, 0, 0, 0, 0, 0, 0, 0, 0, 0, 0, 0, 0, 0, 0, 0, 0, 0, 0, 0, 0, 1, 0, 0, 0, 0, 0, 0, 0, 0,    0,    0,    0,         0,         0,         0,    0,    0,    0,         0,         0,         0,    0,    0,    0,         0,         0,         0,    0,    0,    0,         0,         0,         0,    0,    0,    0,         0,         0,         0],\n",
       "[0, 0, 0, 0, 0, 0, 0, 0, 0, 0, 0, 0, 0, 0, 0, 0, 0, 0, 0, 0, 0, 0, 1, 0, 0, 0, 0, 0, 0, 0,    0,    0,    0,         0,         0,         0,    0,    0,    0,         0,         0,         0,    0,    0,    0,         0,         0,         0,    0,    0,    0,         0,         0,         0,    0,    0,    0,         0,         0,         0],\n",
       "[0, 0, 0, 0, 0, 0, 0, 0, 0, 0, 0, 0, 0, 0, 0, 0, 0, 0, 0, 0, 0, 0, 0, 1, 0, 0, 0, 0, 0, 0,    0,    0,    0,         0,         0,         0,    0,    0,    0,         0,         0,         0,    0,    0,    0,         0,         0,         0,    0,    0,    0,         0,         0,         0,    0,    0,    0,         0,         0,         0],\n",
       "[0, 0, 0, 0, 0, 0, 0, 0, 0, 0, 0, 0, 0, 0, 0, 0, 0, 0, 0, 0, 0, 0, 0, 0, 1, 0, 0, 0, 0, 0,    0,    0,    0,         0,         0,         0,    0,    0,    0,         0,         0,         0,    0,    0,    0,         0,         0,         0,    0,    0,    0,         0,         0,         0,    0,    0,    0,         0,         0,         0],\n",
       "[0, 0, 0, 0, 0, 0, 0, 0, 0, 0, 0, 0, 0, 0, 0, 0, 0, 0, 0, 0, 0, 0, 0, 0, 0, 1, 0, 0, 0, 0,    0,    0,    0,         0,         0,         0,    0,    0,    0,         0,         0,         0,    0,    0,    0,         0,         0,         0,    0,    0,    0,         0,         0,         0,    0,    0,    0,         0,         0,         0],\n",
       "[0, 0, 0, 0, 0, 0, 0, 0, 0, 0, 0, 0, 0, 0, 0, 0, 0, 0, 0, 0, 0, 0, 0, 0, 0, 0, 1, 0, 0, 0,    0,    0,    0,         0,         0,         0,    0,    0,    0,         0,         0,         0,    0,    0,    0,         0,         0,         0,    0,    0,    0,         0,         0,         0,    0,    0,    0,         0,         0,         0],\n",
       "[0, 0, 0, 0, 0, 0, 0, 0, 0, 0, 0, 0, 0, 0, 0, 0, 0, 0, 0, 0, 0, 0, 0, 0, 0, 0, 0, 1, 0, 0,    0,    0,    0,         0,         0,         0,    0,    0,    0,         0,         0,         0,    0,    0,    0,         0,         0,         0,    0,    0,    0,         0,         0,         0,    0,    0,    0,         0,         0,         0],\n",
       "[0, 0, 0, 0, 0, 0, 0, 0, 0, 0, 0, 0, 0, 0, 0, 0, 0, 0, 0, 0, 0, 0, 0, 0, 0, 0, 0, 0, 1, 0,    0,    0,    0,         0,         0,         0,    0,    0,    0,         0,         0,         0,    0,    0,    0,         0,         0,         0,    0,    0,    0,         0,         0,         0,    0,    0,    0,         0,         0,         0],\n",
       "[0, 0, 0, 0, 0, 0, 0, 0, 0, 0, 0, 0, 0, 0, 0, 0, 0, 0, 0, 0, 0, 0, 0, 0, 0, 0, 0, 0, 0, 1,    0,    0,    0,         0,         0,         0,    0,    0,    0,         0,         0,         0,    0,    0,    0,         0,         0,         0,    0,    0,    0,         0,         0,         0,    0,    0,    0,         0,         0,         0],\n",
       "[0, 0, 0, 0, 0, 0, 0, 0, 0, 0, 0, 0, 0, 0, 0, 0, 0, 0, 0, 0, 0, 0, 0, 0, 0, 0, 0, 0, 0, 0, -S.M,    0,    0,         0,         0,         0,    0,    0,    0,         0,         0,         0,    0,    0,    0,         0,         0,         0,    0,    0,    0,         0,         0,         0,    0,    0,    0,         0,         0,         0],\n",
       "[0, 0, 0, 0, 0, 0, 0, 0, 0, 0, 0, 0, 0, 0, 0, 0, 0, 0, 0, 0, 0, 0, 0, 0, 0, 0, 0, 0, 0, 0,    0, -S.M,    0,         0,         0,         0,    0,    0,    0,         0,         0,         0,    0,    0,    0,         0,         0,         0,    0,    0,    0,         0,         0,         0,    0,    0,    0,         0,         0,         0],\n",
       "[0, 0, 0, 0, 0, 0, 0, 0, 0, 0, 0, 0, 0, 0, 0, 0, 0, 0, 0, 0, 0, 0, 0, 0, 0, 0, 0, 0, 0, 0,    0,    0, -S.M,         0,         0,         0,    0,    0,    0,         0,         0,         0,    0,    0,    0,         0,         0,         0,    0,    0,    0,         0,         0,         0,    0,    0,    0,         0,         0,         0],\n",
       "[0, 0, 0, 0, 0, 0, 0, 0, 0, 0, 0, 0, 0, 0, 0, 0, 0, 0, 0, 0, 0, 0, 0, 0, 0, 0, 0, 0, 0, 0,    0,    0,    0, -S.I_{xx}, -S.I_{xy}, -S.I_{zx},    0,    0,    0,         0,         0,         0,    0,    0,    0,         0,         0,         0,    0,    0,    0,         0,         0,         0,    0,    0,    0,         0,         0,         0],\n",
       "[0, 0, 0, 0, 0, 0, 0, 0, 0, 0, 0, 0, 0, 0, 0, 0, 0, 0, 0, 0, 0, 0, 0, 0, 0, 0, 0, 0, 0, 0,    0,    0,    0, -S.I_{xy}, -S.I_{yy}, -S.I_{yz},    0,    0,    0,         0,         0,         0,    0,    0,    0,         0,         0,         0,    0,    0,    0,         0,         0,         0,    0,    0,    0,         0,         0,         0],\n",
       "[0, 0, 0, 0, 0, 0, 0, 0, 0, 0, 0, 0, 0, 0, 0, 0, 0, 0, 0, 0, 0, 0, 0, 0, 0, 0, 0, 0, 0, 0,    0,    0,    0, -S.I_{zx}, -S.I_{yz}, -S.I_{zz},    0,    0,    0,         0,         0,         0,    0,    0,    0,         0,         0,         0,    0,    0,    0,         0,         0,         0,    0,    0,    0,         0,         0,         0],\n",
       "[0, 0, 0, 0, 0, 0, 0, 0, 0, 0, 0, 0, 0, 0, 0, 0, 0, 0, 0, 0, 0, 0, 0, 0, 0, 0, 0, 0, 0, 0,    0,    0,    0,         0,         0,         0, -B.M,    0,    0,         0,         0,         0,    0,    0,    0,         0,         0,         0,    0,    0,    0,         0,         0,         0,    0,    0,    0,         0,         0,         0],\n",
       "[0, 0, 0, 0, 0, 0, 0, 0, 0, 0, 0, 0, 0, 0, 0, 0, 0, 0, 0, 0, 0, 0, 0, 0, 0, 0, 0, 0, 0, 0,    0,    0,    0,         0,         0,         0,    0, -B.M,    0,         0,         0,         0,    0,    0,    0,         0,         0,         0,    0,    0,    0,         0,         0,         0,    0,    0,    0,         0,         0,         0],\n",
       "[0, 0, 0, 0, 0, 0, 0, 0, 0, 0, 0, 0, 0, 0, 0, 0, 0, 0, 0, 0, 0, 0, 0, 0, 0, 0, 0, 0, 0, 0,    0,    0,    0,         0,         0,         0,    0,    0, -B.M,         0,         0,         0,    0,    0,    0,         0,         0,         0,    0,    0,    0,         0,         0,         0,    0,    0,    0,         0,         0,         0],\n",
       "[0, 0, 0, 0, 0, 0, 0, 0, 0, 0, 0, 0, 0, 0, 0, 0, 0, 0, 0, 0, 0, 0, 0, 0, 0, 0, 0, 0, 0, 0,    0,    0,    0,         0,         0,         0,    0,    0,    0, -B.I_{xx}, -B.I_{xy}, -B.I_{zx},    0,    0,    0,         0,         0,         0,    0,    0,    0,         0,         0,         0,    0,    0,    0,         0,         0,         0],\n",
       "[0, 0, 0, 0, 0, 0, 0, 0, 0, 0, 0, 0, 0, 0, 0, 0, 0, 0, 0, 0, 0, 0, 0, 0, 0, 0, 0, 0, 0, 0,    0,    0,    0,         0,         0,         0,    0,    0,    0, -B.I_{xy}, -B.I_{yy}, -B.I_{yz},    0,    0,    0,         0,         0,         0,    0,    0,    0,         0,         0,         0,    0,    0,    0,         0,         0,         0],\n",
       "[0, 0, 0, 0, 0, 0, 0, 0, 0, 0, 0, 0, 0, 0, 0, 0, 0, 0, 0, 0, 0, 0, 0, 0, 0, 0, 0, 0, 0, 0,    0,    0,    0,         0,         0,         0,    0,    0,    0, -B.I_{zx}, -B.I_{yz}, -B.I_{zz},    0,    0,    0,         0,         0,         0,    0,    0,    0,         0,         0,         0,    0,    0,    0,         0,         0,         0],\n",
       "[0, 0, 0, 0, 0, 0, 0, 0, 0, 0, 0, 0, 0, 0, 0, 0, 0, 0, 0, 0, 0, 0, 0, 0, 0, 0, 0, 0, 0, 0,    0,    0,    0,         0,         0,         0,    0,    0,    0,         0,         0,         0, -C.M,    0,    0,         0,         0,         0,    0,    0,    0,         0,         0,         0,    0,    0,    0,         0,         0,         0],\n",
       "[0, 0, 0, 0, 0, 0, 0, 0, 0, 0, 0, 0, 0, 0, 0, 0, 0, 0, 0, 0, 0, 0, 0, 0, 0, 0, 0, 0, 0, 0,    0,    0,    0,         0,         0,         0,    0,    0,    0,         0,         0,         0,    0, -C.M,    0,         0,         0,         0,    0,    0,    0,         0,         0,         0,    0,    0,    0,         0,         0,         0],\n",
       "[0, 0, 0, 0, 0, 0, 0, 0, 0, 0, 0, 0, 0, 0, 0, 0, 0, 0, 0, 0, 0, 0, 0, 0, 0, 0, 0, 0, 0, 0,    0,    0,    0,         0,         0,         0,    0,    0,    0,         0,         0,         0,    0,    0, -C.M,         0,         0,         0,    0,    0,    0,         0,         0,         0,    0,    0,    0,         0,         0,         0],\n",
       "[0, 0, 0, 0, 0, 0, 0, 0, 0, 0, 0, 0, 0, 0, 0, 0, 0, 0, 0, 0, 0, 0, 0, 0, 0, 0, 0, 0, 0, 0,    0,    0,    0,         0,         0,         0,    0,    0,    0,         0,         0,         0,    0,    0,    0, -C.I_{xx}, -C.I_{xy}, -C.I_{zx},    0,    0,    0,         0,         0,         0,    0,    0,    0,         0,         0,         0],\n",
       "[0, 0, 0, 0, 0, 0, 0, 0, 0, 0, 0, 0, 0, 0, 0, 0, 0, 0, 0, 0, 0, 0, 0, 0, 0, 0, 0, 0, 0, 0,    0,    0,    0,         0,         0,         0,    0,    0,    0,         0,         0,         0,    0,    0,    0, -C.I_{xy}, -C.I_{yy}, -C.I_{yz},    0,    0,    0,         0,         0,         0,    0,    0,    0,         0,         0,         0],\n",
       "[0, 0, 0, 0, 0, 0, 0, 0, 0, 0, 0, 0, 0, 0, 0, 0, 0, 0, 0, 0, 0, 0, 0, 0, 0, 0, 0, 0, 0, 0,    0,    0,    0,         0,         0,         0,    0,    0,    0,         0,         0,         0,    0,    0,    0, -C.I_{zx}, -C.I_{yz}, -C.I_{zz},    0,    0,    0,         0,         0,         0,    0,    0,    0,         0,         0,         0],\n",
       "[0, 0, 0, 0, 0, 0, 0, 0, 0, 0, 0, 0, 0, 0, 0, 0, 0, 0, 0, 0, 0, 0, 0, 0, 0, 0, 0, 0, 0, 0,    0,    0,    0,         0,         0,         0,    0,    0,    0,         0,         0,         0,    0,    0,    0,         0,         0,         0, -D.M,    0,    0,         0,         0,         0,    0,    0,    0,         0,         0,         0],\n",
       "[0, 0, 0, 0, 0, 0, 0, 0, 0, 0, 0, 0, 0, 0, 0, 0, 0, 0, 0, 0, 0, 0, 0, 0, 0, 0, 0, 0, 0, 0,    0,    0,    0,         0,         0,         0,    0,    0,    0,         0,         0,         0,    0,    0,    0,         0,         0,         0,    0, -D.M,    0,         0,         0,         0,    0,    0,    0,         0,         0,         0],\n",
       "[0, 0, 0, 0, 0, 0, 0, 0, 0, 0, 0, 0, 0, 0, 0, 0, 0, 0, 0, 0, 0, 0, 0, 0, 0, 0, 0, 0, 0, 0,    0,    0,    0,         0,         0,         0,    0,    0,    0,         0,         0,         0,    0,    0,    0,         0,         0,         0,    0,    0, -D.M,         0,         0,         0,    0,    0,    0,         0,         0,         0],\n",
       "[0, 0, 0, 0, 0, 0, 0, 0, 0, 0, 0, 0, 0, 0, 0, 0, 0, 0, 0, 0, 0, 0, 0, 0, 0, 0, 0, 0, 0, 0,    0,    0,    0,         0,         0,         0,    0,    0,    0,         0,         0,         0,    0,    0,    0,         0,         0,         0,    0,    0,    0, -D.I_{xx}, -D.I_{xy}, -D.I_{zx},    0,    0,    0,         0,         0,         0],\n",
       "[0, 0, 0, 0, 0, 0, 0, 0, 0, 0, 0, 0, 0, 0, 0, 0, 0, 0, 0, 0, 0, 0, 0, 0, 0, 0, 0, 0, 0, 0,    0,    0,    0,         0,         0,         0,    0,    0,    0,         0,         0,         0,    0,    0,    0,         0,         0,         0,    0,    0,    0, -D.I_{xy}, -D.I_{yy}, -D.I_{yz},    0,    0,    0,         0,         0,         0],\n",
       "[0, 0, 0, 0, 0, 0, 0, 0, 0, 0, 0, 0, 0, 0, 0, 0, 0, 0, 0, 0, 0, 0, 0, 0, 0, 0, 0, 0, 0, 0,    0,    0,    0,         0,         0,         0,    0,    0,    0,         0,         0,         0,    0,    0,    0,         0,         0,         0,    0,    0,    0, -D.I_{zx}, -D.I_{yz}, -D.I_{zz},    0,    0,    0,         0,         0,         0],\n",
       "[0, 0, 0, 0, 0, 0, 0, 0, 0, 0, 0, 0, 0, 0, 0, 0, 0, 0, 0, 0, 0, 0, 0, 0, 0, 0, 0, 0, 0, 0,    0,    0,    0,         0,         0,         0,    0,    0,    0,         0,         0,         0,    0,    0,    0,         0,         0,         0,    0,    0,    0,         0,         0,         0, -F.M,    0,    0,         0,         0,         0],\n",
       "[0, 0, 0, 0, 0, 0, 0, 0, 0, 0, 0, 0, 0, 0, 0, 0, 0, 0, 0, 0, 0, 0, 0, 0, 0, 0, 0, 0, 0, 0,    0,    0,    0,         0,         0,         0,    0,    0,    0,         0,         0,         0,    0,    0,    0,         0,         0,         0,    0,    0,    0,         0,         0,         0,    0, -F.M,    0,         0,         0,         0],\n",
       "[0, 0, 0, 0, 0, 0, 0, 0, 0, 0, 0, 0, 0, 0, 0, 0, 0, 0, 0, 0, 0, 0, 0, 0, 0, 0, 0, 0, 0, 0,    0,    0,    0,         0,         0,         0,    0,    0,    0,         0,         0,         0,    0,    0,    0,         0,         0,         0,    0,    0,    0,         0,         0,         0,    0,    0, -F.M,         0,         0,         0],\n",
       "[0, 0, 0, 0, 0, 0, 0, 0, 0, 0, 0, 0, 0, 0, 0, 0, 0, 0, 0, 0, 0, 0, 0, 0, 0, 0, 0, 0, 0, 0,    0,    0,    0,         0,         0,         0,    0,    0,    0,         0,         0,         0,    0,    0,    0,         0,         0,         0,    0,    0,    0,         0,         0,         0,    0,    0,    0, -F.I_{xx}, -F.I_{xy}, -F.I_{zx}],\n",
       "[0, 0, 0, 0, 0, 0, 0, 0, 0, 0, 0, 0, 0, 0, 0, 0, 0, 0, 0, 0, 0, 0, 0, 0, 0, 0, 0, 0, 0, 0,    0,    0,    0,         0,         0,         0,    0,    0,    0,         0,         0,         0,    0,    0,    0,         0,         0,         0,    0,    0,    0,         0,         0,         0,    0,    0,    0, -F.I_{xy}, -F.I_{yy}, -F.I_{yz}],\n",
       "[0, 0, 0, 0, 0, 0, 0, 0, 0, 0, 0, 0, 0, 0, 0, 0, 0, 0, 0, 0, 0, 0, 0, 0, 0, 0, 0, 0, 0, 0,    0,    0,    0,         0,         0,         0,    0,    0,    0,         0,         0,         0,    0,    0,    0,         0,         0,         0,    0,    0,    0,         0,         0,         0,    0,    0,    0, -F.I_{zx}, -F.I_{yz}, -F.I_{zz}]])"
      ]
     },
     "execution_count": 13,
     "metadata": {},
     "output_type": "execute_result"
    }
   ],
   "source": [
    "kane.E"
   ]
  },
  {
   "cell_type": "code",
   "execution_count": 15,
   "id": "d7030664-ad0b-4d65-ba38-37edc2b631de",
   "metadata": {},
   "outputs": [],
   "source": [
    "Amat, Bmat = kane.A, kane.B"
   ]
  },
  {
   "cell_type": "code",
   "execution_count": 16,
   "id": "e913e8ab-d09a-41de-a0e7-b6af4a2f8351",
   "metadata": {},
   "outputs": [],
   "source": [
    "E = kane.E"
   ]
  },
  {
   "cell_type": "code",
   "execution_count": 17,
   "id": "689663ea-72e9-4cc4-90f9-a9d147862f30",
   "metadata": {},
   "outputs": [
    {
     "data": {
      "text/latex": [
       "$\\displaystyle \\left[\\begin{array}{cccccccccccccccccccccccccccccccccccccccccccccccccccccccccccc}1 & 0 & 0 & 0 & 0 & 0 & 0 & 0 & 0 & 0 & 0 & 0 & 0 & 0 & 0 & 0 & 0 & 0 & 0 & 0 & 0 & 0 & 0 & 0 & 0 & 0 & 0 & 0 & 0 & 0 & 0 & 0 & 0 & 0 & 0 & 0 & 0 & 0 & 0 & 0 & 0 & 0 & 0 & 0 & 0 & 0 & 0 & 0 & 0 & 0 & 0 & 0 & 0 & 0 & 0 & 0 & 0 & 0 & 0 & 0\\\\0 & 1 & 0 & 0 & 0 & 0 & 0 & 0 & 0 & 0 & 0 & 0 & 0 & 0 & 0 & 0 & 0 & 0 & 0 & 0 & 0 & 0 & 0 & 0 & 0 & 0 & 0 & 0 & 0 & 0 & 0 & 0 & 0 & 0 & 0 & 0 & 0 & 0 & 0 & 0 & 0 & 0 & 0 & 0 & 0 & 0 & 0 & 0 & 0 & 0 & 0 & 0 & 0 & 0 & 0 & 0 & 0 & 0 & 0 & 0\\\\0 & 0 & 1 & 0 & 0 & 0 & 0 & 0 & 0 & 0 & 0 & 0 & 0 & 0 & 0 & 0 & 0 & 0 & 0 & 0 & 0 & 0 & 0 & 0 & 0 & 0 & 0 & 0 & 0 & 0 & 0 & 0 & 0 & 0 & 0 & 0 & 0 & 0 & 0 & 0 & 0 & 0 & 0 & 0 & 0 & 0 & 0 & 0 & 0 & 0 & 0 & 0 & 0 & 0 & 0 & 0 & 0 & 0 & 0 & 0\\\\0 & 0 & 0 & 1 & 0 & 0 & 0 & 0 & 0 & 0 & 0 & 0 & 0 & 0 & 0 & 0 & 0 & 0 & 0 & 0 & 0 & 0 & 0 & 0 & 0 & 0 & 0 & 0 & 0 & 0 & 0 & 0 & 0 & 0 & 0 & 0 & 0 & 0 & 0 & 0 & 0 & 0 & 0 & 0 & 0 & 0 & 0 & 0 & 0 & 0 & 0 & 0 & 0 & 0 & 0 & 0 & 0 & 0 & 0 & 0\\\\0 & 0 & 0 & 0 & 1 & 0 & 0 & 0 & 0 & 0 & 0 & 0 & 0 & 0 & 0 & 0 & 0 & 0 & 0 & 0 & 0 & 0 & 0 & 0 & 0 & 0 & 0 & 0 & 0 & 0 & 0 & 0 & 0 & 0 & 0 & 0 & 0 & 0 & 0 & 0 & 0 & 0 & 0 & 0 & 0 & 0 & 0 & 0 & 0 & 0 & 0 & 0 & 0 & 0 & 0 & 0 & 0 & 0 & 0 & 0\\\\0 & 0 & 0 & 0 & 0 & 1 & 0 & 0 & 0 & 0 & 0 & 0 & 0 & 0 & 0 & 0 & 0 & 0 & 0 & 0 & 0 & 0 & 0 & 0 & 0 & 0 & 0 & 0 & 0 & 0 & 0 & 0 & 0 & 0 & 0 & 0 & 0 & 0 & 0 & 0 & 0 & 0 & 0 & 0 & 0 & 0 & 0 & 0 & 0 & 0 & 0 & 0 & 0 & 0 & 0 & 0 & 0 & 0 & 0 & 0\\\\0 & 0 & 0 & 0 & 0 & 0 & 1 & 0 & 0 & 0 & 0 & 0 & 0 & 0 & 0 & 0 & 0 & 0 & 0 & 0 & 0 & 0 & 0 & 0 & 0 & 0 & 0 & 0 & 0 & 0 & 0 & 0 & 0 & 0 & 0 & 0 & 0 & 0 & 0 & 0 & 0 & 0 & 0 & 0 & 0 & 0 & 0 & 0 & 0 & 0 & 0 & 0 & 0 & 0 & 0 & 0 & 0 & 0 & 0 & 0\\\\0 & 0 & 0 & 0 & 0 & 0 & 0 & 1 & 0 & 0 & 0 & 0 & 0 & 0 & 0 & 0 & 0 & 0 & 0 & 0 & 0 & 0 & 0 & 0 & 0 & 0 & 0 & 0 & 0 & 0 & 0 & 0 & 0 & 0 & 0 & 0 & 0 & 0 & 0 & 0 & 0 & 0 & 0 & 0 & 0 & 0 & 0 & 0 & 0 & 0 & 0 & 0 & 0 & 0 & 0 & 0 & 0 & 0 & 0 & 0\\\\0 & 0 & 0 & 0 & 0 & 0 & 0 & 0 & 1 & 0 & 0 & 0 & 0 & 0 & 0 & 0 & 0 & 0 & 0 & 0 & 0 & 0 & 0 & 0 & 0 & 0 & 0 & 0 & 0 & 0 & 0 & 0 & 0 & 0 & 0 & 0 & 0 & 0 & 0 & 0 & 0 & 0 & 0 & 0 & 0 & 0 & 0 & 0 & 0 & 0 & 0 & 0 & 0 & 0 & 0 & 0 & 0 & 0 & 0 & 0\\\\0 & 0 & 0 & 0 & 0 & 0 & 0 & 0 & 0 & 1 & 0 & 0 & 0 & 0 & 0 & 0 & 0 & 0 & 0 & 0 & 0 & 0 & 0 & 0 & 0 & 0 & 0 & 0 & 0 & 0 & 0 & 0 & 0 & 0 & 0 & 0 & 0 & 0 & 0 & 0 & 0 & 0 & 0 & 0 & 0 & 0 & 0 & 0 & 0 & 0 & 0 & 0 & 0 & 0 & 0 & 0 & 0 & 0 & 0 & 0\\\\0 & 0 & 0 & 0 & 0 & 0 & 0 & 0 & 0 & 0 & 1 & 0 & 0 & 0 & 0 & 0 & 0 & 0 & 0 & 0 & 0 & 0 & 0 & 0 & 0 & 0 & 0 & 0 & 0 & 0 & 0 & 0 & 0 & 0 & 0 & 0 & 0 & 0 & 0 & 0 & 0 & 0 & 0 & 0 & 0 & 0 & 0 & 0 & 0 & 0 & 0 & 0 & 0 & 0 & 0 & 0 & 0 & 0 & 0 & 0\\\\0 & 0 & 0 & 0 & 0 & 0 & 0 & 0 & 0 & 0 & 0 & 1 & 0 & 0 & 0 & 0 & 0 & 0 & 0 & 0 & 0 & 0 & 0 & 0 & 0 & 0 & 0 & 0 & 0 & 0 & 0 & 0 & 0 & 0 & 0 & 0 & 0 & 0 & 0 & 0 & 0 & 0 & 0 & 0 & 0 & 0 & 0 & 0 & 0 & 0 & 0 & 0 & 0 & 0 & 0 & 0 & 0 & 0 & 0 & 0\\\\0 & 0 & 0 & 0 & 0 & 0 & 0 & 0 & 0 & 0 & 0 & 0 & 1 & 0 & 0 & 0 & 0 & 0 & 0 & 0 & 0 & 0 & 0 & 0 & 0 & 0 & 0 & 0 & 0 & 0 & 0 & 0 & 0 & 0 & 0 & 0 & 0 & 0 & 0 & 0 & 0 & 0 & 0 & 0 & 0 & 0 & 0 & 0 & 0 & 0 & 0 & 0 & 0 & 0 & 0 & 0 & 0 & 0 & 0 & 0\\\\0 & 0 & 0 & 0 & 0 & 0 & 0 & 0 & 0 & 0 & 0 & 0 & 0 & 1 & 0 & 0 & 0 & 0 & 0 & 0 & 0 & 0 & 0 & 0 & 0 & 0 & 0 & 0 & 0 & 0 & 0 & 0 & 0 & 0 & 0 & 0 & 0 & 0 & 0 & 0 & 0 & 0 & 0 & 0 & 0 & 0 & 0 & 0 & 0 & 0 & 0 & 0 & 0 & 0 & 0 & 0 & 0 & 0 & 0 & 0\\\\0 & 0 & 0 & 0 & 0 & 0 & 0 & 0 & 0 & 0 & 0 & 0 & 0 & 0 & 1 & 0 & 0 & 0 & 0 & 0 & 0 & 0 & 0 & 0 & 0 & 0 & 0 & 0 & 0 & 0 & 0 & 0 & 0 & 0 & 0 & 0 & 0 & 0 & 0 & 0 & 0 & 0 & 0 & 0 & 0 & 0 & 0 & 0 & 0 & 0 & 0 & 0 & 0 & 0 & 0 & 0 & 0 & 0 & 0 & 0\\\\0 & 0 & 0 & 0 & 0 & 0 & 0 & 0 & 0 & 0 & 0 & 0 & 0 & 0 & 0 & 1 & 0 & 0 & 0 & 0 & 0 & 0 & 0 & 0 & 0 & 0 & 0 & 0 & 0 & 0 & 0 & 0 & 0 & 0 & 0 & 0 & 0 & 0 & 0 & 0 & 0 & 0 & 0 & 0 & 0 & 0 & 0 & 0 & 0 & 0 & 0 & 0 & 0 & 0 & 0 & 0 & 0 & 0 & 0 & 0\\\\0 & 0 & 0 & 0 & 0 & 0 & 0 & 0 & 0 & 0 & 0 & 0 & 0 & 0 & 0 & 0 & 1 & 0 & 0 & 0 & 0 & 0 & 0 & 0 & 0 & 0 & 0 & 0 & 0 & 0 & 0 & 0 & 0 & 0 & 0 & 0 & 0 & 0 & 0 & 0 & 0 & 0 & 0 & 0 & 0 & 0 & 0 & 0 & 0 & 0 & 0 & 0 & 0 & 0 & 0 & 0 & 0 & 0 & 0 & 0\\\\0 & 0 & 0 & 0 & 0 & 0 & 0 & 0 & 0 & 0 & 0 & 0 & 0 & 0 & 0 & 0 & 0 & 1 & 0 & 0 & 0 & 0 & 0 & 0 & 0 & 0 & 0 & 0 & 0 & 0 & 0 & 0 & 0 & 0 & 0 & 0 & 0 & 0 & 0 & 0 & 0 & 0 & 0 & 0 & 0 & 0 & 0 & 0 & 0 & 0 & 0 & 0 & 0 & 0 & 0 & 0 & 0 & 0 & 0 & 0\\\\0 & 0 & 0 & 0 & 0 & 0 & 0 & 0 & 0 & 0 & 0 & 0 & 0 & 0 & 0 & 0 & 0 & 0 & 1 & 0 & 0 & 0 & 0 & 0 & 0 & 0 & 0 & 0 & 0 & 0 & 0 & 0 & 0 & 0 & 0 & 0 & 0 & 0 & 0 & 0 & 0 & 0 & 0 & 0 & 0 & 0 & 0 & 0 & 0 & 0 & 0 & 0 & 0 & 0 & 0 & 0 & 0 & 0 & 0 & 0\\\\0 & 0 & 0 & 0 & 0 & 0 & 0 & 0 & 0 & 0 & 0 & 0 & 0 & 0 & 0 & 0 & 0 & 0 & 0 & 1 & 0 & 0 & 0 & 0 & 0 & 0 & 0 & 0 & 0 & 0 & 0 & 0 & 0 & 0 & 0 & 0 & 0 & 0 & 0 & 0 & 0 & 0 & 0 & 0 & 0 & 0 & 0 & 0 & 0 & 0 & 0 & 0 & 0 & 0 & 0 & 0 & 0 & 0 & 0 & 0\\\\0 & 0 & 0 & 0 & 0 & 0 & 0 & 0 & 0 & 0 & 0 & 0 & 0 & 0 & 0 & 0 & 0 & 0 & 0 & 0 & 1 & 0 & 0 & 0 & 0 & 0 & 0 & 0 & 0 & 0 & 0 & 0 & 0 & 0 & 0 & 0 & 0 & 0 & 0 & 0 & 0 & 0 & 0 & 0 & 0 & 0 & 0 & 0 & 0 & 0 & 0 & 0 & 0 & 0 & 0 & 0 & 0 & 0 & 0 & 0\\\\0 & 0 & 0 & 0 & 0 & 0 & 0 & 0 & 0 & 0 & 0 & 0 & 0 & 0 & 0 & 0 & 0 & 0 & 0 & 0 & 0 & 1 & 0 & 0 & 0 & 0 & 0 & 0 & 0 & 0 & 0 & 0 & 0 & 0 & 0 & 0 & 0 & 0 & 0 & 0 & 0 & 0 & 0 & 0 & 0 & 0 & 0 & 0 & 0 & 0 & 0 & 0 & 0 & 0 & 0 & 0 & 0 & 0 & 0 & 0\\\\0 & 0 & 0 & 0 & 0 & 0 & 0 & 0 & 0 & 0 & 0 & 0 & 0 & 0 & 0 & 0 & 0 & 0 & 0 & 0 & 0 & 0 & 1 & 0 & 0 & 0 & 0 & 0 & 0 & 0 & 0 & 0 & 0 & 0 & 0 & 0 & 0 & 0 & 0 & 0 & 0 & 0 & 0 & 0 & 0 & 0 & 0 & 0 & 0 & 0 & 0 & 0 & 0 & 0 & 0 & 0 & 0 & 0 & 0 & 0\\\\0 & 0 & 0 & 0 & 0 & 0 & 0 & 0 & 0 & 0 & 0 & 0 & 0 & 0 & 0 & 0 & 0 & 0 & 0 & 0 & 0 & 0 & 0 & 1 & 0 & 0 & 0 & 0 & 0 & 0 & 0 & 0 & 0 & 0 & 0 & 0 & 0 & 0 & 0 & 0 & 0 & 0 & 0 & 0 & 0 & 0 & 0 & 0 & 0 & 0 & 0 & 0 & 0 & 0 & 0 & 0 & 0 & 0 & 0 & 0\\\\0 & 0 & 0 & 0 & 0 & 0 & 0 & 0 & 0 & 0 & 0 & 0 & 0 & 0 & 0 & 0 & 0 & 0 & 0 & 0 & 0 & 0 & 0 & 0 & 1 & 0 & 0 & 0 & 0 & 0 & 0 & 0 & 0 & 0 & 0 & 0 & 0 & 0 & 0 & 0 & 0 & 0 & 0 & 0 & 0 & 0 & 0 & 0 & 0 & 0 & 0 & 0 & 0 & 0 & 0 & 0 & 0 & 0 & 0 & 0\\\\0 & 0 & 0 & 0 & 0 & 0 & 0 & 0 & 0 & 0 & 0 & 0 & 0 & 0 & 0 & 0 & 0 & 0 & 0 & 0 & 0 & 0 & 0 & 0 & 0 & 1 & 0 & 0 & 0 & 0 & 0 & 0 & 0 & 0 & 0 & 0 & 0 & 0 & 0 & 0 & 0 & 0 & 0 & 0 & 0 & 0 & 0 & 0 & 0 & 0 & 0 & 0 & 0 & 0 & 0 & 0 & 0 & 0 & 0 & 0\\\\0 & 0 & 0 & 0 & 0 & 0 & 0 & 0 & 0 & 0 & 0 & 0 & 0 & 0 & 0 & 0 & 0 & 0 & 0 & 0 & 0 & 0 & 0 & 0 & 0 & 0 & 1 & 0 & 0 & 0 & 0 & 0 & 0 & 0 & 0 & 0 & 0 & 0 & 0 & 0 & 0 & 0 & 0 & 0 & 0 & 0 & 0 & 0 & 0 & 0 & 0 & 0 & 0 & 0 & 0 & 0 & 0 & 0 & 0 & 0\\\\0 & 0 & 0 & 0 & 0 & 0 & 0 & 0 & 0 & 0 & 0 & 0 & 0 & 0 & 0 & 0 & 0 & 0 & 0 & 0 & 0 & 0 & 0 & 0 & 0 & 0 & 0 & 1 & 0 & 0 & 0 & 0 & 0 & 0 & 0 & 0 & 0 & 0 & 0 & 0 & 0 & 0 & 0 & 0 & 0 & 0 & 0 & 0 & 0 & 0 & 0 & 0 & 0 & 0 & 0 & 0 & 0 & 0 & 0 & 0\\\\0 & 0 & 0 & 0 & 0 & 0 & 0 & 0 & 0 & 0 & 0 & 0 & 0 & 0 & 0 & 0 & 0 & 0 & 0 & 0 & 0 & 0 & 0 & 0 & 0 & 0 & 0 & 0 & 1 & 0 & 0 & 0 & 0 & 0 & 0 & 0 & 0 & 0 & 0 & 0 & 0 & 0 & 0 & 0 & 0 & 0 & 0 & 0 & 0 & 0 & 0 & 0 & 0 & 0 & 0 & 0 & 0 & 0 & 0 & 0\\\\0 & 0 & 0 & 0 & 0 & 0 & 0 & 0 & 0 & 0 & 0 & 0 & 0 & 0 & 0 & 0 & 0 & 0 & 0 & 0 & 0 & 0 & 0 & 0 & 0 & 0 & 0 & 0 & 0 & 1 & 0 & 0 & 0 & 0 & 0 & 0 & 0 & 0 & 0 & 0 & 0 & 0 & 0 & 0 & 0 & 0 & 0 & 0 & 0 & 0 & 0 & 0 & 0 & 0 & 0 & 0 & 0 & 0 & 0 & 0\\\\0 & 0 & 0 & 0 & 0 & 0 & 0 & 0 & 0 & 0 & 0 & 0 & 0 & 0 & 0 & 0 & 0 & 0 & 0 & 0 & 0 & 0 & 0 & 0 & 0 & 0 & 0 & 0 & 0 & 0 & - S.M & 0 & 0 & 0 & 0 & 0 & 0 & 0 & 0 & 0 & 0 & 0 & 0 & 0 & 0 & 0 & 0 & 0 & 0 & 0 & 0 & 0 & 0 & 0 & 0 & 0 & 0 & 0 & 0 & 0\\\\0 & 0 & 0 & 0 & 0 & 0 & 0 & 0 & 0 & 0 & 0 & 0 & 0 & 0 & 0 & 0 & 0 & 0 & 0 & 0 & 0 & 0 & 0 & 0 & 0 & 0 & 0 & 0 & 0 & 0 & 0 & - S.M & 0 & 0 & 0 & 0 & 0 & 0 & 0 & 0 & 0 & 0 & 0 & 0 & 0 & 0 & 0 & 0 & 0 & 0 & 0 & 0 & 0 & 0 & 0 & 0 & 0 & 0 & 0 & 0\\\\0 & 0 & 0 & 0 & 0 & 0 & 0 & 0 & 0 & 0 & 0 & 0 & 0 & 0 & 0 & 0 & 0 & 0 & 0 & 0 & 0 & 0 & 0 & 0 & 0 & 0 & 0 & 0 & 0 & 0 & 0 & 0 & - S.M & 0 & 0 & 0 & 0 & 0 & 0 & 0 & 0 & 0 & 0 & 0 & 0 & 0 & 0 & 0 & 0 & 0 & 0 & 0 & 0 & 0 & 0 & 0 & 0 & 0 & 0 & 0\\\\0 & 0 & 0 & 0 & 0 & 0 & 0 & 0 & 0 & 0 & 0 & 0 & 0 & 0 & 0 & 0 & 0 & 0 & 0 & 0 & 0 & 0 & 0 & 0 & 0 & 0 & 0 & 0 & 0 & 0 & 0 & 0 & 0 & - S.I_{xx} & - S.I_{xy} & - S.I_{zx} & 0 & 0 & 0 & 0 & 0 & 0 & 0 & 0 & 0 & 0 & 0 & 0 & 0 & 0 & 0 & 0 & 0 & 0 & 0 & 0 & 0 & 0 & 0 & 0\\\\0 & 0 & 0 & 0 & 0 & 0 & 0 & 0 & 0 & 0 & 0 & 0 & 0 & 0 & 0 & 0 & 0 & 0 & 0 & 0 & 0 & 0 & 0 & 0 & 0 & 0 & 0 & 0 & 0 & 0 & 0 & 0 & 0 & - S.I_{xy} & - S.I_{yy} & - S.I_{yz} & 0 & 0 & 0 & 0 & 0 & 0 & 0 & 0 & 0 & 0 & 0 & 0 & 0 & 0 & 0 & 0 & 0 & 0 & 0 & 0 & 0 & 0 & 0 & 0\\\\0 & 0 & 0 & 0 & 0 & 0 & 0 & 0 & 0 & 0 & 0 & 0 & 0 & 0 & 0 & 0 & 0 & 0 & 0 & 0 & 0 & 0 & 0 & 0 & 0 & 0 & 0 & 0 & 0 & 0 & 0 & 0 & 0 & - S.I_{zx} & - S.I_{yz} & - S.I_{zz} & 0 & 0 & 0 & 0 & 0 & 0 & 0 & 0 & 0 & 0 & 0 & 0 & 0 & 0 & 0 & 0 & 0 & 0 & 0 & 0 & 0 & 0 & 0 & 0\\\\0 & 0 & 0 & 0 & 0 & 0 & 0 & 0 & 0 & 0 & 0 & 0 & 0 & 0 & 0 & 0 & 0 & 0 & 0 & 0 & 0 & 0 & 0 & 0 & 0 & 0 & 0 & 0 & 0 & 0 & 0 & 0 & 0 & 0 & 0 & 0 & - B.M & 0 & 0 & 0 & 0 & 0 & 0 & 0 & 0 & 0 & 0 & 0 & 0 & 0 & 0 & 0 & 0 & 0 & 0 & 0 & 0 & 0 & 0 & 0\\\\0 & 0 & 0 & 0 & 0 & 0 & 0 & 0 & 0 & 0 & 0 & 0 & 0 & 0 & 0 & 0 & 0 & 0 & 0 & 0 & 0 & 0 & 0 & 0 & 0 & 0 & 0 & 0 & 0 & 0 & 0 & 0 & 0 & 0 & 0 & 0 & 0 & - B.M & 0 & 0 & 0 & 0 & 0 & 0 & 0 & 0 & 0 & 0 & 0 & 0 & 0 & 0 & 0 & 0 & 0 & 0 & 0 & 0 & 0 & 0\\\\0 & 0 & 0 & 0 & 0 & 0 & 0 & 0 & 0 & 0 & 0 & 0 & 0 & 0 & 0 & 0 & 0 & 0 & 0 & 0 & 0 & 0 & 0 & 0 & 0 & 0 & 0 & 0 & 0 & 0 & 0 & 0 & 0 & 0 & 0 & 0 & 0 & 0 & - B.M & 0 & 0 & 0 & 0 & 0 & 0 & 0 & 0 & 0 & 0 & 0 & 0 & 0 & 0 & 0 & 0 & 0 & 0 & 0 & 0 & 0\\\\0 & 0 & 0 & 0 & 0 & 0 & 0 & 0 & 0 & 0 & 0 & 0 & 0 & 0 & 0 & 0 & 0 & 0 & 0 & 0 & 0 & 0 & 0 & 0 & 0 & 0 & 0 & 0 & 0 & 0 & 0 & 0 & 0 & 0 & 0 & 0 & 0 & 0 & 0 & - B.I_{xx} & - B.I_{xy} & - B.I_{zx} & 0 & 0 & 0 & 0 & 0 & 0 & 0 & 0 & 0 & 0 & 0 & 0 & 0 & 0 & 0 & 0 & 0 & 0\\\\0 & 0 & 0 & 0 & 0 & 0 & 0 & 0 & 0 & 0 & 0 & 0 & 0 & 0 & 0 & 0 & 0 & 0 & 0 & 0 & 0 & 0 & 0 & 0 & 0 & 0 & 0 & 0 & 0 & 0 & 0 & 0 & 0 & 0 & 0 & 0 & 0 & 0 & 0 & - B.I_{xy} & - B.I_{yy} & - B.I_{yz} & 0 & 0 & 0 & 0 & 0 & 0 & 0 & 0 & 0 & 0 & 0 & 0 & 0 & 0 & 0 & 0 & 0 & 0\\\\0 & 0 & 0 & 0 & 0 & 0 & 0 & 0 & 0 & 0 & 0 & 0 & 0 & 0 & 0 & 0 & 0 & 0 & 0 & 0 & 0 & 0 & 0 & 0 & 0 & 0 & 0 & 0 & 0 & 0 & 0 & 0 & 0 & 0 & 0 & 0 & 0 & 0 & 0 & - B.I_{zx} & - B.I_{yz} & - B.I_{zz} & 0 & 0 & 0 & 0 & 0 & 0 & 0 & 0 & 0 & 0 & 0 & 0 & 0 & 0 & 0 & 0 & 0 & 0\\\\0 & 0 & 0 & 0 & 0 & 0 & 0 & 0 & 0 & 0 & 0 & 0 & 0 & 0 & 0 & 0 & 0 & 0 & 0 & 0 & 0 & 0 & 0 & 0 & 0 & 0 & 0 & 0 & 0 & 0 & 0 & 0 & 0 & 0 & 0 & 0 & 0 & 0 & 0 & 0 & 0 & 0 & - C.M & 0 & 0 & 0 & 0 & 0 & 0 & 0 & 0 & 0 & 0 & 0 & 0 & 0 & 0 & 0 & 0 & 0\\\\0 & 0 & 0 & 0 & 0 & 0 & 0 & 0 & 0 & 0 & 0 & 0 & 0 & 0 & 0 & 0 & 0 & 0 & 0 & 0 & 0 & 0 & 0 & 0 & 0 & 0 & 0 & 0 & 0 & 0 & 0 & 0 & 0 & 0 & 0 & 0 & 0 & 0 & 0 & 0 & 0 & 0 & 0 & - C.M & 0 & 0 & 0 & 0 & 0 & 0 & 0 & 0 & 0 & 0 & 0 & 0 & 0 & 0 & 0 & 0\\\\0 & 0 & 0 & 0 & 0 & 0 & 0 & 0 & 0 & 0 & 0 & 0 & 0 & 0 & 0 & 0 & 0 & 0 & 0 & 0 & 0 & 0 & 0 & 0 & 0 & 0 & 0 & 0 & 0 & 0 & 0 & 0 & 0 & 0 & 0 & 0 & 0 & 0 & 0 & 0 & 0 & 0 & 0 & 0 & - C.M & 0 & 0 & 0 & 0 & 0 & 0 & 0 & 0 & 0 & 0 & 0 & 0 & 0 & 0 & 0\\\\0 & 0 & 0 & 0 & 0 & 0 & 0 & 0 & 0 & 0 & 0 & 0 & 0 & 0 & 0 & 0 & 0 & 0 & 0 & 0 & 0 & 0 & 0 & 0 & 0 & 0 & 0 & 0 & 0 & 0 & 0 & 0 & 0 & 0 & 0 & 0 & 0 & 0 & 0 & 0 & 0 & 0 & 0 & 0 & 0 & - C.I_{xx} & - C.I_{xy} & - C.I_{zx} & 0 & 0 & 0 & 0 & 0 & 0 & 0 & 0 & 0 & 0 & 0 & 0\\\\0 & 0 & 0 & 0 & 0 & 0 & 0 & 0 & 0 & 0 & 0 & 0 & 0 & 0 & 0 & 0 & 0 & 0 & 0 & 0 & 0 & 0 & 0 & 0 & 0 & 0 & 0 & 0 & 0 & 0 & 0 & 0 & 0 & 0 & 0 & 0 & 0 & 0 & 0 & 0 & 0 & 0 & 0 & 0 & 0 & - C.I_{xy} & - C.I_{yy} & - C.I_{yz} & 0 & 0 & 0 & 0 & 0 & 0 & 0 & 0 & 0 & 0 & 0 & 0\\\\0 & 0 & 0 & 0 & 0 & 0 & 0 & 0 & 0 & 0 & 0 & 0 & 0 & 0 & 0 & 0 & 0 & 0 & 0 & 0 & 0 & 0 & 0 & 0 & 0 & 0 & 0 & 0 & 0 & 0 & 0 & 0 & 0 & 0 & 0 & 0 & 0 & 0 & 0 & 0 & 0 & 0 & 0 & 0 & 0 & - C.I_{zx} & - C.I_{yz} & - C.I_{zz} & 0 & 0 & 0 & 0 & 0 & 0 & 0 & 0 & 0 & 0 & 0 & 0\\\\0 & 0 & 0 & 0 & 0 & 0 & 0 & 0 & 0 & 0 & 0 & 0 & 0 & 0 & 0 & 0 & 0 & 0 & 0 & 0 & 0 & 0 & 0 & 0 & 0 & 0 & 0 & 0 & 0 & 0 & 0 & 0 & 0 & 0 & 0 & 0 & 0 & 0 & 0 & 0 & 0 & 0 & 0 & 0 & 0 & 0 & 0 & 0 & - D.M & 0 & 0 & 0 & 0 & 0 & 0 & 0 & 0 & 0 & 0 & 0\\\\0 & 0 & 0 & 0 & 0 & 0 & 0 & 0 & 0 & 0 & 0 & 0 & 0 & 0 & 0 & 0 & 0 & 0 & 0 & 0 & 0 & 0 & 0 & 0 & 0 & 0 & 0 & 0 & 0 & 0 & 0 & 0 & 0 & 0 & 0 & 0 & 0 & 0 & 0 & 0 & 0 & 0 & 0 & 0 & 0 & 0 & 0 & 0 & 0 & - D.M & 0 & 0 & 0 & 0 & 0 & 0 & 0 & 0 & 0 & 0\\\\0 & 0 & 0 & 0 & 0 & 0 & 0 & 0 & 0 & 0 & 0 & 0 & 0 & 0 & 0 & 0 & 0 & 0 & 0 & 0 & 0 & 0 & 0 & 0 & 0 & 0 & 0 & 0 & 0 & 0 & 0 & 0 & 0 & 0 & 0 & 0 & 0 & 0 & 0 & 0 & 0 & 0 & 0 & 0 & 0 & 0 & 0 & 0 & 0 & 0 & - D.M & 0 & 0 & 0 & 0 & 0 & 0 & 0 & 0 & 0\\\\0 & 0 & 0 & 0 & 0 & 0 & 0 & 0 & 0 & 0 & 0 & 0 & 0 & 0 & 0 & 0 & 0 & 0 & 0 & 0 & 0 & 0 & 0 & 0 & 0 & 0 & 0 & 0 & 0 & 0 & 0 & 0 & 0 & 0 & 0 & 0 & 0 & 0 & 0 & 0 & 0 & 0 & 0 & 0 & 0 & 0 & 0 & 0 & 0 & 0 & 0 & - D.I_{xx} & - D.I_{xy} & - D.I_{zx} & 0 & 0 & 0 & 0 & 0 & 0\\\\0 & 0 & 0 & 0 & 0 & 0 & 0 & 0 & 0 & 0 & 0 & 0 & 0 & 0 & 0 & 0 & 0 & 0 & 0 & 0 & 0 & 0 & 0 & 0 & 0 & 0 & 0 & 0 & 0 & 0 & 0 & 0 & 0 & 0 & 0 & 0 & 0 & 0 & 0 & 0 & 0 & 0 & 0 & 0 & 0 & 0 & 0 & 0 & 0 & 0 & 0 & - D.I_{xy} & - D.I_{yy} & - D.I_{yz} & 0 & 0 & 0 & 0 & 0 & 0\\\\0 & 0 & 0 & 0 & 0 & 0 & 0 & 0 & 0 & 0 & 0 & 0 & 0 & 0 & 0 & 0 & 0 & 0 & 0 & 0 & 0 & 0 & 0 & 0 & 0 & 0 & 0 & 0 & 0 & 0 & 0 & 0 & 0 & 0 & 0 & 0 & 0 & 0 & 0 & 0 & 0 & 0 & 0 & 0 & 0 & 0 & 0 & 0 & 0 & 0 & 0 & - D.I_{zx} & - D.I_{yz} & - D.I_{zz} & 0 & 0 & 0 & 0 & 0 & 0\\\\0 & 0 & 0 & 0 & 0 & 0 & 0 & 0 & 0 & 0 & 0 & 0 & 0 & 0 & 0 & 0 & 0 & 0 & 0 & 0 & 0 & 0 & 0 & 0 & 0 & 0 & 0 & 0 & 0 & 0 & 0 & 0 & 0 & 0 & 0 & 0 & 0 & 0 & 0 & 0 & 0 & 0 & 0 & 0 & 0 & 0 & 0 & 0 & 0 & 0 & 0 & 0 & 0 & 0 & - F.M & 0 & 0 & 0 & 0 & 0\\\\0 & 0 & 0 & 0 & 0 & 0 & 0 & 0 & 0 & 0 & 0 & 0 & 0 & 0 & 0 & 0 & 0 & 0 & 0 & 0 & 0 & 0 & 0 & 0 & 0 & 0 & 0 & 0 & 0 & 0 & 0 & 0 & 0 & 0 & 0 & 0 & 0 & 0 & 0 & 0 & 0 & 0 & 0 & 0 & 0 & 0 & 0 & 0 & 0 & 0 & 0 & 0 & 0 & 0 & 0 & - F.M & 0 & 0 & 0 & 0\\\\0 & 0 & 0 & 0 & 0 & 0 & 0 & 0 & 0 & 0 & 0 & 0 & 0 & 0 & 0 & 0 & 0 & 0 & 0 & 0 & 0 & 0 & 0 & 0 & 0 & 0 & 0 & 0 & 0 & 0 & 0 & 0 & 0 & 0 & 0 & 0 & 0 & 0 & 0 & 0 & 0 & 0 & 0 & 0 & 0 & 0 & 0 & 0 & 0 & 0 & 0 & 0 & 0 & 0 & 0 & 0 & - F.M & 0 & 0 & 0\\\\0 & 0 & 0 & 0 & 0 & 0 & 0 & 0 & 0 & 0 & 0 & 0 & 0 & 0 & 0 & 0 & 0 & 0 & 0 & 0 & 0 & 0 & 0 & 0 & 0 & 0 & 0 & 0 & 0 & 0 & 0 & 0 & 0 & 0 & 0 & 0 & 0 & 0 & 0 & 0 & 0 & 0 & 0 & 0 & 0 & 0 & 0 & 0 & 0 & 0 & 0 & 0 & 0 & 0 & 0 & 0 & 0 & - F.I_{xx} & - F.I_{xy} & - F.I_{zx}\\\\0 & 0 & 0 & 0 & 0 & 0 & 0 & 0 & 0 & 0 & 0 & 0 & 0 & 0 & 0 & 0 & 0 & 0 & 0 & 0 & 0 & 0 & 0 & 0 & 0 & 0 & 0 & 0 & 0 & 0 & 0 & 0 & 0 & 0 & 0 & 0 & 0 & 0 & 0 & 0 & 0 & 0 & 0 & 0 & 0 & 0 & 0 & 0 & 0 & 0 & 0 & 0 & 0 & 0 & 0 & 0 & 0 & - F.I_{xy} & - F.I_{yy} & - F.I_{yz}\\\\0 & 0 & 0 & 0 & 0 & 0 & 0 & 0 & 0 & 0 & 0 & 0 & 0 & 0 & 0 & 0 & 0 & 0 & 0 & 0 & 0 & 0 & 0 & 0 & 0 & 0 & 0 & 0 & 0 & 0 & 0 & 0 & 0 & 0 & 0 & 0 & 0 & 0 & 0 & 0 & 0 & 0 & 0 & 0 & 0 & 0 & 0 & 0 & 0 & 0 & 0 & 0 & 0 & 0 & 0 & 0 & 0 & - F.I_{zx} & - F.I_{yz} & - F.I_{zz}\\end{array}\\right]$"
      ],
      "text/plain": [
       "Matrix([\n",
       "[1, 0, 0, 0, 0, 0, 0, 0, 0, 0, 0, 0, 0, 0, 0, 0, 0, 0, 0, 0, 0, 0, 0, 0, 0, 0, 0, 0, 0, 0,    0,    0,    0,         0,         0,         0,    0,    0,    0,         0,         0,         0,    0,    0,    0,         0,         0,         0,    0,    0,    0,         0,         0,         0,    0,    0,    0,         0,         0,         0],\n",
       "[0, 1, 0, 0, 0, 0, 0, 0, 0, 0, 0, 0, 0, 0, 0, 0, 0, 0, 0, 0, 0, 0, 0, 0, 0, 0, 0, 0, 0, 0,    0,    0,    0,         0,         0,         0,    0,    0,    0,         0,         0,         0,    0,    0,    0,         0,         0,         0,    0,    0,    0,         0,         0,         0,    0,    0,    0,         0,         0,         0],\n",
       "[0, 0, 1, 0, 0, 0, 0, 0, 0, 0, 0, 0, 0, 0, 0, 0, 0, 0, 0, 0, 0, 0, 0, 0, 0, 0, 0, 0, 0, 0,    0,    0,    0,         0,         0,         0,    0,    0,    0,         0,         0,         0,    0,    0,    0,         0,         0,         0,    0,    0,    0,         0,         0,         0,    0,    0,    0,         0,         0,         0],\n",
       "[0, 0, 0, 1, 0, 0, 0, 0, 0, 0, 0, 0, 0, 0, 0, 0, 0, 0, 0, 0, 0, 0, 0, 0, 0, 0, 0, 0, 0, 0,    0,    0,    0,         0,         0,         0,    0,    0,    0,         0,         0,         0,    0,    0,    0,         0,         0,         0,    0,    0,    0,         0,         0,         0,    0,    0,    0,         0,         0,         0],\n",
       "[0, 0, 0, 0, 1, 0, 0, 0, 0, 0, 0, 0, 0, 0, 0, 0, 0, 0, 0, 0, 0, 0, 0, 0, 0, 0, 0, 0, 0, 0,    0,    0,    0,         0,         0,         0,    0,    0,    0,         0,         0,         0,    0,    0,    0,         0,         0,         0,    0,    0,    0,         0,         0,         0,    0,    0,    0,         0,         0,         0],\n",
       "[0, 0, 0, 0, 0, 1, 0, 0, 0, 0, 0, 0, 0, 0, 0, 0, 0, 0, 0, 0, 0, 0, 0, 0, 0, 0, 0, 0, 0, 0,    0,    0,    0,         0,         0,         0,    0,    0,    0,         0,         0,         0,    0,    0,    0,         0,         0,         0,    0,    0,    0,         0,         0,         0,    0,    0,    0,         0,         0,         0],\n",
       "[0, 0, 0, 0, 0, 0, 1, 0, 0, 0, 0, 0, 0, 0, 0, 0, 0, 0, 0, 0, 0, 0, 0, 0, 0, 0, 0, 0, 0, 0,    0,    0,    0,         0,         0,         0,    0,    0,    0,         0,         0,         0,    0,    0,    0,         0,         0,         0,    0,    0,    0,         0,         0,         0,    0,    0,    0,         0,         0,         0],\n",
       "[0, 0, 0, 0, 0, 0, 0, 1, 0, 0, 0, 0, 0, 0, 0, 0, 0, 0, 0, 0, 0, 0, 0, 0, 0, 0, 0, 0, 0, 0,    0,    0,    0,         0,         0,         0,    0,    0,    0,         0,         0,         0,    0,    0,    0,         0,         0,         0,    0,    0,    0,         0,         0,         0,    0,    0,    0,         0,         0,         0],\n",
       "[0, 0, 0, 0, 0, 0, 0, 0, 1, 0, 0, 0, 0, 0, 0, 0, 0, 0, 0, 0, 0, 0, 0, 0, 0, 0, 0, 0, 0, 0,    0,    0,    0,         0,         0,         0,    0,    0,    0,         0,         0,         0,    0,    0,    0,         0,         0,         0,    0,    0,    0,         0,         0,         0,    0,    0,    0,         0,         0,         0],\n",
       "[0, 0, 0, 0, 0, 0, 0, 0, 0, 1, 0, 0, 0, 0, 0, 0, 0, 0, 0, 0, 0, 0, 0, 0, 0, 0, 0, 0, 0, 0,    0,    0,    0,         0,         0,         0,    0,    0,    0,         0,         0,         0,    0,    0,    0,         0,         0,         0,    0,    0,    0,         0,         0,         0,    0,    0,    0,         0,         0,         0],\n",
       "[0, 0, 0, 0, 0, 0, 0, 0, 0, 0, 1, 0, 0, 0, 0, 0, 0, 0, 0, 0, 0, 0, 0, 0, 0, 0, 0, 0, 0, 0,    0,    0,    0,         0,         0,         0,    0,    0,    0,         0,         0,         0,    0,    0,    0,         0,         0,         0,    0,    0,    0,         0,         0,         0,    0,    0,    0,         0,         0,         0],\n",
       "[0, 0, 0, 0, 0, 0, 0, 0, 0, 0, 0, 1, 0, 0, 0, 0, 0, 0, 0, 0, 0, 0, 0, 0, 0, 0, 0, 0, 0, 0,    0,    0,    0,         0,         0,         0,    0,    0,    0,         0,         0,         0,    0,    0,    0,         0,         0,         0,    0,    0,    0,         0,         0,         0,    0,    0,    0,         0,         0,         0],\n",
       "[0, 0, 0, 0, 0, 0, 0, 0, 0, 0, 0, 0, 1, 0, 0, 0, 0, 0, 0, 0, 0, 0, 0, 0, 0, 0, 0, 0, 0, 0,    0,    0,    0,         0,         0,         0,    0,    0,    0,         0,         0,         0,    0,    0,    0,         0,         0,         0,    0,    0,    0,         0,         0,         0,    0,    0,    0,         0,         0,         0],\n",
       "[0, 0, 0, 0, 0, 0, 0, 0, 0, 0, 0, 0, 0, 1, 0, 0, 0, 0, 0, 0, 0, 0, 0, 0, 0, 0, 0, 0, 0, 0,    0,    0,    0,         0,         0,         0,    0,    0,    0,         0,         0,         0,    0,    0,    0,         0,         0,         0,    0,    0,    0,         0,         0,         0,    0,    0,    0,         0,         0,         0],\n",
       "[0, 0, 0, 0, 0, 0, 0, 0, 0, 0, 0, 0, 0, 0, 1, 0, 0, 0, 0, 0, 0, 0, 0, 0, 0, 0, 0, 0, 0, 0,    0,    0,    0,         0,         0,         0,    0,    0,    0,         0,         0,         0,    0,    0,    0,         0,         0,         0,    0,    0,    0,         0,         0,         0,    0,    0,    0,         0,         0,         0],\n",
       "[0, 0, 0, 0, 0, 0, 0, 0, 0, 0, 0, 0, 0, 0, 0, 1, 0, 0, 0, 0, 0, 0, 0, 0, 0, 0, 0, 0, 0, 0,    0,    0,    0,         0,         0,         0,    0,    0,    0,         0,         0,         0,    0,    0,    0,         0,         0,         0,    0,    0,    0,         0,         0,         0,    0,    0,    0,         0,         0,         0],\n",
       "[0, 0, 0, 0, 0, 0, 0, 0, 0, 0, 0, 0, 0, 0, 0, 0, 1, 0, 0, 0, 0, 0, 0, 0, 0, 0, 0, 0, 0, 0,    0,    0,    0,         0,         0,         0,    0,    0,    0,         0,         0,         0,    0,    0,    0,         0,         0,         0,    0,    0,    0,         0,         0,         0,    0,    0,    0,         0,         0,         0],\n",
       "[0, 0, 0, 0, 0, 0, 0, 0, 0, 0, 0, 0, 0, 0, 0, 0, 0, 1, 0, 0, 0, 0, 0, 0, 0, 0, 0, 0, 0, 0,    0,    0,    0,         0,         0,         0,    0,    0,    0,         0,         0,         0,    0,    0,    0,         0,         0,         0,    0,    0,    0,         0,         0,         0,    0,    0,    0,         0,         0,         0],\n",
       "[0, 0, 0, 0, 0, 0, 0, 0, 0, 0, 0, 0, 0, 0, 0, 0, 0, 0, 1, 0, 0, 0, 0, 0, 0, 0, 0, 0, 0, 0,    0,    0,    0,         0,         0,         0,    0,    0,    0,         0,         0,         0,    0,    0,    0,         0,         0,         0,    0,    0,    0,         0,         0,         0,    0,    0,    0,         0,         0,         0],\n",
       "[0, 0, 0, 0, 0, 0, 0, 0, 0, 0, 0, 0, 0, 0, 0, 0, 0, 0, 0, 1, 0, 0, 0, 0, 0, 0, 0, 0, 0, 0,    0,    0,    0,         0,         0,         0,    0,    0,    0,         0,         0,         0,    0,    0,    0,         0,         0,         0,    0,    0,    0,         0,         0,         0,    0,    0,    0,         0,         0,         0],\n",
       "[0, 0, 0, 0, 0, 0, 0, 0, 0, 0, 0, 0, 0, 0, 0, 0, 0, 0, 0, 0, 1, 0, 0, 0, 0, 0, 0, 0, 0, 0,    0,    0,    0,         0,         0,         0,    0,    0,    0,         0,         0,         0,    0,    0,    0,         0,         0,         0,    0,    0,    0,         0,         0,         0,    0,    0,    0,         0,         0,         0],\n",
       "[0, 0, 0, 0, 0, 0, 0, 0, 0, 0, 0, 0, 0, 0, 0, 0, 0, 0, 0, 0, 0, 1, 0, 0, 0, 0, 0, 0, 0, 0,    0,    0,    0,         0,         0,         0,    0,    0,    0,         0,         0,         0,    0,    0,    0,         0,         0,         0,    0,    0,    0,         0,         0,         0,    0,    0,    0,         0,         0,         0],\n",
       "[0, 0, 0, 0, 0, 0, 0, 0, 0, 0, 0, 0, 0, 0, 0, 0, 0, 0, 0, 0, 0, 0, 1, 0, 0, 0, 0, 0, 0, 0,    0,    0,    0,         0,         0,         0,    0,    0,    0,         0,         0,         0,    0,    0,    0,         0,         0,         0,    0,    0,    0,         0,         0,         0,    0,    0,    0,         0,         0,         0],\n",
       "[0, 0, 0, 0, 0, 0, 0, 0, 0, 0, 0, 0, 0, 0, 0, 0, 0, 0, 0, 0, 0, 0, 0, 1, 0, 0, 0, 0, 0, 0,    0,    0,    0,         0,         0,         0,    0,    0,    0,         0,         0,         0,    0,    0,    0,         0,         0,         0,    0,    0,    0,         0,         0,         0,    0,    0,    0,         0,         0,         0],\n",
       "[0, 0, 0, 0, 0, 0, 0, 0, 0, 0, 0, 0, 0, 0, 0, 0, 0, 0, 0, 0, 0, 0, 0, 0, 1, 0, 0, 0, 0, 0,    0,    0,    0,         0,         0,         0,    0,    0,    0,         0,         0,         0,    0,    0,    0,         0,         0,         0,    0,    0,    0,         0,         0,         0,    0,    0,    0,         0,         0,         0],\n",
       "[0, 0, 0, 0, 0, 0, 0, 0, 0, 0, 0, 0, 0, 0, 0, 0, 0, 0, 0, 0, 0, 0, 0, 0, 0, 1, 0, 0, 0, 0,    0,    0,    0,         0,         0,         0,    0,    0,    0,         0,         0,         0,    0,    0,    0,         0,         0,         0,    0,    0,    0,         0,         0,         0,    0,    0,    0,         0,         0,         0],\n",
       "[0, 0, 0, 0, 0, 0, 0, 0, 0, 0, 0, 0, 0, 0, 0, 0, 0, 0, 0, 0, 0, 0, 0, 0, 0, 0, 1, 0, 0, 0,    0,    0,    0,         0,         0,         0,    0,    0,    0,         0,         0,         0,    0,    0,    0,         0,         0,         0,    0,    0,    0,         0,         0,         0,    0,    0,    0,         0,         0,         0],\n",
       "[0, 0, 0, 0, 0, 0, 0, 0, 0, 0, 0, 0, 0, 0, 0, 0, 0, 0, 0, 0, 0, 0, 0, 0, 0, 0, 0, 1, 0, 0,    0,    0,    0,         0,         0,         0,    0,    0,    0,         0,         0,         0,    0,    0,    0,         0,         0,         0,    0,    0,    0,         0,         0,         0,    0,    0,    0,         0,         0,         0],\n",
       "[0, 0, 0, 0, 0, 0, 0, 0, 0, 0, 0, 0, 0, 0, 0, 0, 0, 0, 0, 0, 0, 0, 0, 0, 0, 0, 0, 0, 1, 0,    0,    0,    0,         0,         0,         0,    0,    0,    0,         0,         0,         0,    0,    0,    0,         0,         0,         0,    0,    0,    0,         0,         0,         0,    0,    0,    0,         0,         0,         0],\n",
       "[0, 0, 0, 0, 0, 0, 0, 0, 0, 0, 0, 0, 0, 0, 0, 0, 0, 0, 0, 0, 0, 0, 0, 0, 0, 0, 0, 0, 0, 1,    0,    0,    0,         0,         0,         0,    0,    0,    0,         0,         0,         0,    0,    0,    0,         0,         0,         0,    0,    0,    0,         0,         0,         0,    0,    0,    0,         0,         0,         0],\n",
       "[0, 0, 0, 0, 0, 0, 0, 0, 0, 0, 0, 0, 0, 0, 0, 0, 0, 0, 0, 0, 0, 0, 0, 0, 0, 0, 0, 0, 0, 0, -S.M,    0,    0,         0,         0,         0,    0,    0,    0,         0,         0,         0,    0,    0,    0,         0,         0,         0,    0,    0,    0,         0,         0,         0,    0,    0,    0,         0,         0,         0],\n",
       "[0, 0, 0, 0, 0, 0, 0, 0, 0, 0, 0, 0, 0, 0, 0, 0, 0, 0, 0, 0, 0, 0, 0, 0, 0, 0, 0, 0, 0, 0,    0, -S.M,    0,         0,         0,         0,    0,    0,    0,         0,         0,         0,    0,    0,    0,         0,         0,         0,    0,    0,    0,         0,         0,         0,    0,    0,    0,         0,         0,         0],\n",
       "[0, 0, 0, 0, 0, 0, 0, 0, 0, 0, 0, 0, 0, 0, 0, 0, 0, 0, 0, 0, 0, 0, 0, 0, 0, 0, 0, 0, 0, 0,    0,    0, -S.M,         0,         0,         0,    0,    0,    0,         0,         0,         0,    0,    0,    0,         0,         0,         0,    0,    0,    0,         0,         0,         0,    0,    0,    0,         0,         0,         0],\n",
       "[0, 0, 0, 0, 0, 0, 0, 0, 0, 0, 0, 0, 0, 0, 0, 0, 0, 0, 0, 0, 0, 0, 0, 0, 0, 0, 0, 0, 0, 0,    0,    0,    0, -S.I_{xx}, -S.I_{xy}, -S.I_{zx},    0,    0,    0,         0,         0,         0,    0,    0,    0,         0,         0,         0,    0,    0,    0,         0,         0,         0,    0,    0,    0,         0,         0,         0],\n",
       "[0, 0, 0, 0, 0, 0, 0, 0, 0, 0, 0, 0, 0, 0, 0, 0, 0, 0, 0, 0, 0, 0, 0, 0, 0, 0, 0, 0, 0, 0,    0,    0,    0, -S.I_{xy}, -S.I_{yy}, -S.I_{yz},    0,    0,    0,         0,         0,         0,    0,    0,    0,         0,         0,         0,    0,    0,    0,         0,         0,         0,    0,    0,    0,         0,         0,         0],\n",
       "[0, 0, 0, 0, 0, 0, 0, 0, 0, 0, 0, 0, 0, 0, 0, 0, 0, 0, 0, 0, 0, 0, 0, 0, 0, 0, 0, 0, 0, 0,    0,    0,    0, -S.I_{zx}, -S.I_{yz}, -S.I_{zz},    0,    0,    0,         0,         0,         0,    0,    0,    0,         0,         0,         0,    0,    0,    0,         0,         0,         0,    0,    0,    0,         0,         0,         0],\n",
       "[0, 0, 0, 0, 0, 0, 0, 0, 0, 0, 0, 0, 0, 0, 0, 0, 0, 0, 0, 0, 0, 0, 0, 0, 0, 0, 0, 0, 0, 0,    0,    0,    0,         0,         0,         0, -B.M,    0,    0,         0,         0,         0,    0,    0,    0,         0,         0,         0,    0,    0,    0,         0,         0,         0,    0,    0,    0,         0,         0,         0],\n",
       "[0, 0, 0, 0, 0, 0, 0, 0, 0, 0, 0, 0, 0, 0, 0, 0, 0, 0, 0, 0, 0, 0, 0, 0, 0, 0, 0, 0, 0, 0,    0,    0,    0,         0,         0,         0,    0, -B.M,    0,         0,         0,         0,    0,    0,    0,         0,         0,         0,    0,    0,    0,         0,         0,         0,    0,    0,    0,         0,         0,         0],\n",
       "[0, 0, 0, 0, 0, 0, 0, 0, 0, 0, 0, 0, 0, 0, 0, 0, 0, 0, 0, 0, 0, 0, 0, 0, 0, 0, 0, 0, 0, 0,    0,    0,    0,         0,         0,         0,    0,    0, -B.M,         0,         0,         0,    0,    0,    0,         0,         0,         0,    0,    0,    0,         0,         0,         0,    0,    0,    0,         0,         0,         0],\n",
       "[0, 0, 0, 0, 0, 0, 0, 0, 0, 0, 0, 0, 0, 0, 0, 0, 0, 0, 0, 0, 0, 0, 0, 0, 0, 0, 0, 0, 0, 0,    0,    0,    0,         0,         0,         0,    0,    0,    0, -B.I_{xx}, -B.I_{xy}, -B.I_{zx},    0,    0,    0,         0,         0,         0,    0,    0,    0,         0,         0,         0,    0,    0,    0,         0,         0,         0],\n",
       "[0, 0, 0, 0, 0, 0, 0, 0, 0, 0, 0, 0, 0, 0, 0, 0, 0, 0, 0, 0, 0, 0, 0, 0, 0, 0, 0, 0, 0, 0,    0,    0,    0,         0,         0,         0,    0,    0,    0, -B.I_{xy}, -B.I_{yy}, -B.I_{yz},    0,    0,    0,         0,         0,         0,    0,    0,    0,         0,         0,         0,    0,    0,    0,         0,         0,         0],\n",
       "[0, 0, 0, 0, 0, 0, 0, 0, 0, 0, 0, 0, 0, 0, 0, 0, 0, 0, 0, 0, 0, 0, 0, 0, 0, 0, 0, 0, 0, 0,    0,    0,    0,         0,         0,         0,    0,    0,    0, -B.I_{zx}, -B.I_{yz}, -B.I_{zz},    0,    0,    0,         0,         0,         0,    0,    0,    0,         0,         0,         0,    0,    0,    0,         0,         0,         0],\n",
       "[0, 0, 0, 0, 0, 0, 0, 0, 0, 0, 0, 0, 0, 0, 0, 0, 0, 0, 0, 0, 0, 0, 0, 0, 0, 0, 0, 0, 0, 0,    0,    0,    0,         0,         0,         0,    0,    0,    0,         0,         0,         0, -C.M,    0,    0,         0,         0,         0,    0,    0,    0,         0,         0,         0,    0,    0,    0,         0,         0,         0],\n",
       "[0, 0, 0, 0, 0, 0, 0, 0, 0, 0, 0, 0, 0, 0, 0, 0, 0, 0, 0, 0, 0, 0, 0, 0, 0, 0, 0, 0, 0, 0,    0,    0,    0,         0,         0,         0,    0,    0,    0,         0,         0,         0,    0, -C.M,    0,         0,         0,         0,    0,    0,    0,         0,         0,         0,    0,    0,    0,         0,         0,         0],\n",
       "[0, 0, 0, 0, 0, 0, 0, 0, 0, 0, 0, 0, 0, 0, 0, 0, 0, 0, 0, 0, 0, 0, 0, 0, 0, 0, 0, 0, 0, 0,    0,    0,    0,         0,         0,         0,    0,    0,    0,         0,         0,         0,    0,    0, -C.M,         0,         0,         0,    0,    0,    0,         0,         0,         0,    0,    0,    0,         0,         0,         0],\n",
       "[0, 0, 0, 0, 0, 0, 0, 0, 0, 0, 0, 0, 0, 0, 0, 0, 0, 0, 0, 0, 0, 0, 0, 0, 0, 0, 0, 0, 0, 0,    0,    0,    0,         0,         0,         0,    0,    0,    0,         0,         0,         0,    0,    0,    0, -C.I_{xx}, -C.I_{xy}, -C.I_{zx},    0,    0,    0,         0,         0,         0,    0,    0,    0,         0,         0,         0],\n",
       "[0, 0, 0, 0, 0, 0, 0, 0, 0, 0, 0, 0, 0, 0, 0, 0, 0, 0, 0, 0, 0, 0, 0, 0, 0, 0, 0, 0, 0, 0,    0,    0,    0,         0,         0,         0,    0,    0,    0,         0,         0,         0,    0,    0,    0, -C.I_{xy}, -C.I_{yy}, -C.I_{yz},    0,    0,    0,         0,         0,         0,    0,    0,    0,         0,         0,         0],\n",
       "[0, 0, 0, 0, 0, 0, 0, 0, 0, 0, 0, 0, 0, 0, 0, 0, 0, 0, 0, 0, 0, 0, 0, 0, 0, 0, 0, 0, 0, 0,    0,    0,    0,         0,         0,         0,    0,    0,    0,         0,         0,         0,    0,    0,    0, -C.I_{zx}, -C.I_{yz}, -C.I_{zz},    0,    0,    0,         0,         0,         0,    0,    0,    0,         0,         0,         0],\n",
       "[0, 0, 0, 0, 0, 0, 0, 0, 0, 0, 0, 0, 0, 0, 0, 0, 0, 0, 0, 0, 0, 0, 0, 0, 0, 0, 0, 0, 0, 0,    0,    0,    0,         0,         0,         0,    0,    0,    0,         0,         0,         0,    0,    0,    0,         0,         0,         0, -D.M,    0,    0,         0,         0,         0,    0,    0,    0,         0,         0,         0],\n",
       "[0, 0, 0, 0, 0, 0, 0, 0, 0, 0, 0, 0, 0, 0, 0, 0, 0, 0, 0, 0, 0, 0, 0, 0, 0, 0, 0, 0, 0, 0,    0,    0,    0,         0,         0,         0,    0,    0,    0,         0,         0,         0,    0,    0,    0,         0,         0,         0,    0, -D.M,    0,         0,         0,         0,    0,    0,    0,         0,         0,         0],\n",
       "[0, 0, 0, 0, 0, 0, 0, 0, 0, 0, 0, 0, 0, 0, 0, 0, 0, 0, 0, 0, 0, 0, 0, 0, 0, 0, 0, 0, 0, 0,    0,    0,    0,         0,         0,         0,    0,    0,    0,         0,         0,         0,    0,    0,    0,         0,         0,         0,    0,    0, -D.M,         0,         0,         0,    0,    0,    0,         0,         0,         0],\n",
       "[0, 0, 0, 0, 0, 0, 0, 0, 0, 0, 0, 0, 0, 0, 0, 0, 0, 0, 0, 0, 0, 0, 0, 0, 0, 0, 0, 0, 0, 0,    0,    0,    0,         0,         0,         0,    0,    0,    0,         0,         0,         0,    0,    0,    0,         0,         0,         0,    0,    0,    0, -D.I_{xx}, -D.I_{xy}, -D.I_{zx},    0,    0,    0,         0,         0,         0],\n",
       "[0, 0, 0, 0, 0, 0, 0, 0, 0, 0, 0, 0, 0, 0, 0, 0, 0, 0, 0, 0, 0, 0, 0, 0, 0, 0, 0, 0, 0, 0,    0,    0,    0,         0,         0,         0,    0,    0,    0,         0,         0,         0,    0,    0,    0,         0,         0,         0,    0,    0,    0, -D.I_{xy}, -D.I_{yy}, -D.I_{yz},    0,    0,    0,         0,         0,         0],\n",
       "[0, 0, 0, 0, 0, 0, 0, 0, 0, 0, 0, 0, 0, 0, 0, 0, 0, 0, 0, 0, 0, 0, 0, 0, 0, 0, 0, 0, 0, 0,    0,    0,    0,         0,         0,         0,    0,    0,    0,         0,         0,         0,    0,    0,    0,         0,         0,         0,    0,    0,    0, -D.I_{zx}, -D.I_{yz}, -D.I_{zz},    0,    0,    0,         0,         0,         0],\n",
       "[0, 0, 0, 0, 0, 0, 0, 0, 0, 0, 0, 0, 0, 0, 0, 0, 0, 0, 0, 0, 0, 0, 0, 0, 0, 0, 0, 0, 0, 0,    0,    0,    0,         0,         0,         0,    0,    0,    0,         0,         0,         0,    0,    0,    0,         0,         0,         0,    0,    0,    0,         0,         0,         0, -F.M,    0,    0,         0,         0,         0],\n",
       "[0, 0, 0, 0, 0, 0, 0, 0, 0, 0, 0, 0, 0, 0, 0, 0, 0, 0, 0, 0, 0, 0, 0, 0, 0, 0, 0, 0, 0, 0,    0,    0,    0,         0,         0,         0,    0,    0,    0,         0,         0,         0,    0,    0,    0,         0,         0,         0,    0,    0,    0,         0,         0,         0,    0, -F.M,    0,         0,         0,         0],\n",
       "[0, 0, 0, 0, 0, 0, 0, 0, 0, 0, 0, 0, 0, 0, 0, 0, 0, 0, 0, 0, 0, 0, 0, 0, 0, 0, 0, 0, 0, 0,    0,    0,    0,         0,         0,         0,    0,    0,    0,         0,         0,         0,    0,    0,    0,         0,         0,         0,    0,    0,    0,         0,         0,         0,    0,    0, -F.M,         0,         0,         0],\n",
       "[0, 0, 0, 0, 0, 0, 0, 0, 0, 0, 0, 0, 0, 0, 0, 0, 0, 0, 0, 0, 0, 0, 0, 0, 0, 0, 0, 0, 0, 0,    0,    0,    0,         0,         0,         0,    0,    0,    0,         0,         0,         0,    0,    0,    0,         0,         0,         0,    0,    0,    0,         0,         0,         0,    0,    0,    0, -F.I_{xx}, -F.I_{xy}, -F.I_{zx}],\n",
       "[0, 0, 0, 0, 0, 0, 0, 0, 0, 0, 0, 0, 0, 0, 0, 0, 0, 0, 0, 0, 0, 0, 0, 0, 0, 0, 0, 0, 0, 0,    0,    0,    0,         0,         0,         0,    0,    0,    0,         0,         0,         0,    0,    0,    0,         0,         0,         0,    0,    0,    0,         0,         0,         0,    0,    0,    0, -F.I_{xy}, -F.I_{yy}, -F.I_{yz}],\n",
       "[0, 0, 0, 0, 0, 0, 0, 0, 0, 0, 0, 0, 0, 0, 0, 0, 0, 0, 0, 0, 0, 0, 0, 0, 0, 0, 0, 0, 0, 0,    0,    0,    0,         0,         0,         0,    0,    0,    0,         0,         0,         0,    0,    0,    0,         0,         0,         0,    0,    0,    0,         0,         0,         0,    0,    0,    0, -F.I_{zx}, -F.I_{yz}, -F.I_{zz}]])"
      ]
     },
     "execution_count": 17,
     "metadata": {},
     "output_type": "execute_result"
    }
   ],
   "source": [
    "E"
   ]
  },
  {
   "cell_type": "code",
   "execution_count": null,
   "id": "30d496a2-d52d-4e04-8523-c0b3bedc387b",
   "metadata": {},
   "outputs": [],
   "source": []
  }
 ],
 "metadata": {
  "kernelspec": {
   "display_name": "suspy_env",
   "language": "python",
   "name": "suspy_env"
  },
  "language_info": {
   "codemirror_mode": {
    "name": "ipython",
    "version": 3
   },
   "file_extension": ".py",
   "mimetype": "text/x-python",
   "name": "python",
   "nbconvert_exporter": "python",
   "pygments_lexer": "ipython3",
   "version": "3.9.19"
  }
 },
 "nbformat": 4,
 "nbformat_minor": 5
}
