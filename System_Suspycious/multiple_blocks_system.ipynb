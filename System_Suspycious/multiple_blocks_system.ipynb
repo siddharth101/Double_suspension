{
 "cells": [
  {
   "cell_type": "code",
   "execution_count": 1,
   "id": "0f77d61f-d257-4d4e-a9e1-7b39dcb80ad6",
   "metadata": {},
   "outputs": [],
   "source": [
    "from sympy.physics.mechanics import (\n",
    "    dynamicsymbols, ReferenceFrame, Point, RigidBody, Particle, System, Force\n",
    ")\n",
    "from sympy import zeros, symbols\n",
    "import sympy\n",
    "import numpy as np\n",
    "import sympy as sp\n",
    "import sympy.physics.mechanics as me\n",
    "from IPython.display import display\n",
    "from suspycious import Model\n",
    "import suspycious.components as scmp\n",
    "from pathway import LinearPathway\n",
    "from utils import add_points, get_tension_dirs, give_deltas, give_tensions, get_linpaths, get_wire_dir, apply_force\n",
    "from utils import (\n",
    "    add_points, make_wire_bodies, get_points, get_deltas, get_linpaths,\n",
    "    get_wires, get_forces, deltas_dict, linpaths_dict, add_wire_info,\n",
    "    get_force_wire, apply_force_on_body, apply_gravity\n",
    ")"
   ]
  },
  {
   "cell_type": "code",
   "execution_count": 2,
   "id": "147c0c00-d87f-441d-a107-8647bf79e4d3",
   "metadata": {},
   "outputs": [],
   "source": [
    "d1, d2, n1, n2, w1, w2 = symbols('d1 d2 n1 n2 w1 w2', real=True, positive=True)\n",
    "d3, n3, w3 = symbols('d3 n3 w3', real=True, positive=True)\n",
    "d4, n4, w4 = symbols('d4 n4 w4', real=True, positive=True)\n",
    "d5, n5, w5 = symbols('d5 n5 w5', real=True, positive=True)\n",
    "d6, n6, w6 = symbols('d6 n6 w6', real=True, positive=True)\n",
    "d7, n7, w7 = symbols('d7 n7 w7', real=True, positive=True)\n",
    "d8, d9 = symbols('d8 d9', real=True, positive=True)\n",
    "\n",
    "l1, l2, l3, l4, l2a = symbols('l1 l2 l3 l4 l_2a', positive=True)"
   ]
  },
  {
   "cell_type": "code",
   "execution_count": 3,
   "id": "8de3b8d3-c566-4964-bc48-d58e87aa8827",
   "metadata": {},
   "outputs": [],
   "source": [
    "def set_up_bodies():\n",
    "    model2 = Model()\n",
    "    S = model2.add(scmp.RigidBody(\"S\"))\n",
    "    B = model2.add(scmp.RigidBody(\"B\"))\n",
    "    C = model2.add(scmp.RigidBody(\"C\"))\n",
    "    D = model2.add(scmp.RigidBody(\"D\"))\n",
    "    F = model2.add(scmp.RigidBody(\"F\"))\n",
    "    \n",
    "    S.set_global_position(0,0,0)\n",
    "    B.set_global_position(0,0, -l1-d1)\n",
    "    C.set_global_position(0,0, -l1 -d1-d2-l2-d3)\n",
    "    D.set_global_position(0,0, -l1 -d1-d2-l2-d3-d4-l3-d5)\n",
    "    F.set_global_position(0,0, -l1 -d1-d2-l2-d3-d4-l3-d5-d6-l4-d7)\n",
    "    S.set_global_orientation(0,0,0)\n",
    "    B.set_global_orientation(0,0,0)\n",
    "    C.set_global_orientation(0,0,0)\n",
    "    D.set_global_orientation(0,0,0)\n",
    "    F.set_global_orientation(0,0,0)\n",
    "    \n",
    "    add_points(body=S, point='P', attachment_points=[w1, n1, 0])\n",
    "    \n",
    "    add_points(body=B, point='B', attachment_points=[w1, n1, d1])\n",
    "    add_points(body=B, point='C', attachment_points=[w2, n2, -d2])\n",
    "    \n",
    "    add_points(body=C, point='D', attachment_points=[w2, n2, d3])\n",
    "    add_points(body=C, point='E', attachment_points=[w3, n3, -d4])\n",
    "    \n",
    "    add_points(body=D, point='F', attachment_points=[w3, n3, d5])\n",
    "    add_points(body=D, point='G', attachment_points=[w4, n4, -d6])\n",
    "    \n",
    "    add_points(body=F, point='H', attachment_points=[w4, n4, d7])\n",
    "    add_points(body=F, point='J', attachment_points=[w5, n5, -d8])\n",
    "\n",
    "    return S, B, C, D, F, model2"
   ]
  },
  {
   "cell_type": "code",
   "execution_count": 4,
   "id": "f2b49d3f-3bf0-434b-a63d-50ba48824681",
   "metadata": {},
   "outputs": [
    {
     "name": "stderr",
     "output_type": "stream",
     "text": [
      "/Users/siddharth/Desktop/suspycious/src/suspycious/components/body.py:81: SymPyDeprecationWarning: \n",
      "\n",
      "Support for the Body class has been removed, as its functionality is\n",
      "fully captured by RigidBody and Particle.\n",
      "\n",
      "See https://docs.sympy.org/latest/explanation/active-deprecations.html#deprecated-mechanics-body-class\n",
      "for details.\n",
      "\n",
      "This has been deprecated since SymPy version 1.13. It\n",
      "will be removed in a future version of SymPy.\n",
      "\n",
      "  self.__body = mech.Body(\n"
     ]
    }
   ],
   "source": [
    "S, B, C, D, F, model2 = set_up_bodies()"
   ]
  },
  {
   "cell_type": "code",
   "execution_count": 5,
   "id": "a5215287-fe9e-4a0f-8f1c-8e80a7ccdbf9",
   "metadata": {},
   "outputs": [],
   "source": [
    "sys = model2.system"
   ]
  },
  {
   "cell_type": "code",
   "execution_count": 6,
   "id": "ecef95b8-38e6-431d-8580-d1f4d8785671",
   "metadata": {},
   "outputs": [],
   "source": [
    "#model2.add_bodies_system()"
   ]
  },
  {
   "cell_type": "code",
   "execution_count": 7,
   "id": "be39e161-7b0f-410f-a768-70ee00520a29",
   "metadata": {},
   "outputs": [
    {
     "data": {
      "text/plain": [
       "()"
      ]
     },
     "execution_count": 7,
     "metadata": {},
     "output_type": "execute_result"
    }
   ],
   "source": [
    "sys.bodies"
   ]
  },
  {
   "cell_type": "code",
   "execution_count": 8,
   "id": "64f2ba8d-bca7-4b14-bced-68993bb1454a",
   "metadata": {},
   "outputs": [],
   "source": [
    "n_violin_modes = 0\n",
    "bodies_ = [[S, B], [B, C], [C, D], [D, F]]\n",
    "attach_points_ = [[S.P1, B.B1], [B.C1, C.D1], [C.E1, D.F1], [D.G1, F.H1]]"
   ]
  },
  {
   "cell_type": "code",
   "execution_count": 9,
   "id": "7fd5774b-9c5f-4f3a-878c-d89f17a1900a",
   "metadata": {},
   "outputs": [],
   "source": [
    "points_bodies = get_points(\n",
    "        n=n_violin_modes, num_blocks=4, model=model2,\n",
    "        bodies=bodies_, attach_points=attach_points_, suspension_body=S)\n",
    "\n",
    "model2.add_bodies_system()\n"
   ]
  },
  {
   "cell_type": "code",
   "execution_count": 10,
   "id": "7a65d2c1-ac59-430e-9faa-dbad287f1400",
   "metadata": {},
   "outputs": [
    {
     "data": {
      "text/plain": [
       "(Body('S_bdy', masscenter=S.com, frame=S, mass=S.M, inertia=Inertia(dyadic=S.I_{xx}*(S.x|S.x) + S.I_{xy}*(S.x|S.y) + S.I_{zx}*(S.x|S.z) + S.I_{xy}*(S.y|S.x) + S.I_{yy}*(S.y|S.y) + S.I_{yz}*(S.y|S.z) + S.I_{zx}*(S.z|S.x) + S.I_{yz}*(S.z|S.y) + S.I_{zz}*(S.z|S.z), point=S.com)),\n",
       " Body('B_bdy', masscenter=B.com, frame=B, mass=B.M, inertia=Inertia(dyadic=B.I_{xx}*(B.x|B.x) + B.I_{xy}*(B.x|B.y) + B.I_{zx}*(B.x|B.z) + B.I_{xy}*(B.y|B.x) + B.I_{yy}*(B.y|B.y) + B.I_{yz}*(B.y|B.z) + B.I_{zx}*(B.z|B.x) + B.I_{yz}*(B.z|B.y) + B.I_{zz}*(B.z|B.z), point=B.com)),\n",
       " Body('C_bdy', masscenter=C.com, frame=C, mass=C.M, inertia=Inertia(dyadic=C.I_{xx}*(C.x|C.x) + C.I_{xy}*(C.x|C.y) + C.I_{zx}*(C.x|C.z) + C.I_{xy}*(C.y|C.x) + C.I_{yy}*(C.y|C.y) + C.I_{yz}*(C.y|C.z) + C.I_{zx}*(C.z|C.x) + C.I_{yz}*(C.z|C.y) + C.I_{zz}*(C.z|C.z), point=C.com)),\n",
       " Body('D_bdy', masscenter=D.com, frame=D, mass=D.M, inertia=Inertia(dyadic=D.I_{xx}*(D.x|D.x) + D.I_{xy}*(D.x|D.y) + D.I_{zx}*(D.x|D.z) + D.I_{xy}*(D.y|D.x) + D.I_{yy}*(D.y|D.y) + D.I_{yz}*(D.y|D.z) + D.I_{zx}*(D.z|D.x) + D.I_{yz}*(D.z|D.y) + D.I_{zz}*(D.z|D.z), point=D.com)),\n",
       " Body('F_bdy', masscenter=F.com, frame=F, mass=F.M, inertia=Inertia(dyadic=F.I_{xx}*(F.x|F.x) + F.I_{xy}*(F.x|F.y) + F.I_{zx}*(F.x|F.z) + F.I_{xy}*(F.y|F.x) + F.I_{yy}*(F.y|F.y) + F.I_{yz}*(F.y|F.z) + F.I_{zx}*(F.z|F.x) + F.I_{yz}*(F.z|F.y) + F.I_{zz}*(F.z|F.z), point=F.com)))"
      ]
     },
     "execution_count": 10,
     "metadata": {},
     "output_type": "execute_result"
    }
   ],
   "source": [
    "sys.bodies"
   ]
  },
  {
   "cell_type": "code",
   "execution_count": 11,
   "id": "aa1f37b7-b67a-4936-a2ef-b6d010949040",
   "metadata": {},
   "outputs": [],
   "source": [
    "# def get_deltas(points_body, model, suspension_body):\n",
    "#     n = len(points_body['points']) // 4 - 1\n",
    "#     deltas_ = []\n",
    "#     op_point = model.op_point\n",
    "#     sb = suspension_body\n",
    "#     deltas_a = {}\n",
    "#     top_body_name = points_body['bodies'][0].name\n",
    "#     bottom_body_name = points_body['bodies'][-1].name\n",
    "#     delta_body_str = [\n",
    "#         f'del_{top_body_name}_{bottom_body_name}_{i+1}' \n",
    "#         for i in range(len(points_body['bodies']) - 4)\n",
    "#     ]\n",
    "\n",
    "#     for j in range(4):  # 4 because of 4 wires\n",
    "#         for i in range(n):  # n is wire parts per wire (Depends on violin modes)\n",
    "#             m = 4 * i + j\n",
    "#             attach_points = (points_body['points'][m], points_body['points'][m+4])\n",
    "#             print(attach_points)\n",
    "#             delta = [\n",
    "#                 attach_points[0].pos_from(attach_points[1])\n",
    "#                 .express(sb.global_frame)\n",
    "#                 .magnitude() -\n",
    "#                 attach_points[0].pos_from(attach_points[1])\n",
    "#                 .express(sb.global_frame)\n",
    "#                 .subs(op_point).magnitude()\n",
    "#             ]\n",
    "#             deltas_.append(delta)\n",
    "\n",
    "#     deltas_unwrapped = [item for items in deltas_ for item in items]\n",
    "#     dict_del_body = dict(zip(delta_body_str, deltas_unwrapped))\n",
    "\n",
    "#     return dict_del_body\n",
    "\n",
    "\n",
    "# def deltas_dict(points_body, num_blocks, model, suspension_body):\n",
    "#     delta_ = {}\n",
    "\n",
    "#     for i in range(num_blocks):\n",
    "#         top_body_name = points_body[f'body{i+1}']['bodies'][0].name\n",
    "#         bottom_body_name = points_body[f'body{i+1}']['bodies'][-1].name\n",
    "#         print(f\"Calculating deltas for points between bodies {top_body_name} and {bottom_body_name}\")\n",
    "#         delta_[f'body{i+1}'] = get_deltas(\n",
    "#             points_body=points_body[f'body{i+1}'], \n",
    "#             model=model, \n",
    "#             suspension_body=suspension_body\n",
    "#         )\n",
    "\n",
    "#     return delta_"
   ]
  },
  {
   "cell_type": "code",
   "execution_count": 12,
   "id": "b92c04bc-e219-4ed9-b2b7-d599951205fa",
   "metadata": {},
   "outputs": [
    {
     "data": {
      "text/plain": [
       "{'body1': {'points': [S.P1, S.P2, S.P3, S.P4, B.B1, B.B2, B.B3, B.B4],\n",
       "  'bodies': [<suspycious.components.body.RigidBody at 0x10f09efd0>,\n",
       "   <suspycious.components.body.RigidBody at 0x10f09efd0>,\n",
       "   <suspycious.components.body.RigidBody at 0x10f09efd0>,\n",
       "   <suspycious.components.body.RigidBody at 0x10f09efd0>,\n",
       "   <suspycious.components.body.RigidBody at 0x1450e7dc0>,\n",
       "   <suspycious.components.body.RigidBody at 0x1450e7dc0>,\n",
       "   <suspycious.components.body.RigidBody at 0x1450e7dc0>,\n",
       "   <suspycious.components.body.RigidBody at 0x1450e7dc0>]},\n",
       " 'body2': {'points': [B.C1, B.C2, B.C3, B.C4, C.D1, C.D2, C.D3, C.D4],\n",
       "  'bodies': [<suspycious.components.body.RigidBody at 0x1450e7dc0>,\n",
       "   <suspycious.components.body.RigidBody at 0x1450e7dc0>,\n",
       "   <suspycious.components.body.RigidBody at 0x1450e7dc0>,\n",
       "   <suspycious.components.body.RigidBody at 0x1450e7dc0>,\n",
       "   <suspycious.components.body.RigidBody at 0x10f09e130>,\n",
       "   <suspycious.components.body.RigidBody at 0x10f09e130>,\n",
       "   <suspycious.components.body.RigidBody at 0x10f09e130>,\n",
       "   <suspycious.components.body.RigidBody at 0x10f09e130>]},\n",
       " 'body3': {'points': [C.E1, C.E2, C.E3, C.E4, D.F1, D.F2, D.F3, D.F4],\n",
       "  'bodies': [<suspycious.components.body.RigidBody at 0x10f09e130>,\n",
       "   <suspycious.components.body.RigidBody at 0x10f09e130>,\n",
       "   <suspycious.components.body.RigidBody at 0x10f09e130>,\n",
       "   <suspycious.components.body.RigidBody at 0x10f09e130>,\n",
       "   <suspycious.components.body.RigidBody at 0x145199340>,\n",
       "   <suspycious.components.body.RigidBody at 0x145199340>,\n",
       "   <suspycious.components.body.RigidBody at 0x145199340>,\n",
       "   <suspycious.components.body.RigidBody at 0x145199340>]},\n",
       " 'body4': {'points': [D.G1, D.G2, D.G3, D.G4, F.H1, F.H2, F.H3, F.H4],\n",
       "  'bodies': [<suspycious.components.body.RigidBody at 0x145199340>,\n",
       "   <suspycious.components.body.RigidBody at 0x145199340>,\n",
       "   <suspycious.components.body.RigidBody at 0x145199340>,\n",
       "   <suspycious.components.body.RigidBody at 0x145199340>,\n",
       "   <suspycious.components.body.RigidBody at 0x1451e1940>,\n",
       "   <suspycious.components.body.RigidBody at 0x1451e1940>,\n",
       "   <suspycious.components.body.RigidBody at 0x1451e1940>,\n",
       "   <suspycious.components.body.RigidBody at 0x1451e1940>]}}"
      ]
     },
     "execution_count": 12,
     "metadata": {},
     "output_type": "execute_result"
    }
   ],
   "source": [
    "points_bodies"
   ]
  },
  {
   "cell_type": "code",
   "execution_count": 13,
   "id": "ce39dcd2-c462-4e9b-b137-c6b349f6b347",
   "metadata": {},
   "outputs": [
    {
     "name": "stdout",
     "output_type": "stream",
     "text": [
      "Calculating deltas for points between bodies S and B\n",
      "(S.P1, B.B1)\n",
      "(S.P2, B.B2)\n",
      "(S.P3, B.B3)\n",
      "(S.P4, B.B4)\n",
      "Calculating deltas for points between bodies B and C\n",
      "(B.C1, C.D1)\n",
      "(B.C2, C.D2)\n",
      "(B.C3, C.D3)\n",
      "(B.C4, C.D4)\n",
      "Calculating deltas for points between bodies C and D\n",
      "(C.E1, D.F1)\n",
      "(C.E2, D.F2)\n",
      "(C.E3, D.F3)\n",
      "(C.E4, D.F4)\n",
      "Calculating deltas for points between bodies D and F\n",
      "(D.G1, F.H1)\n",
      "(D.G2, F.H2)\n",
      "(D.G3, F.H3)\n",
      "(D.G4, F.H4)\n",
      "Finding linpath between S.P1 and B.B1\n",
      "Finding linpath between S.P2 and B.B2\n",
      "Finding linpath between S.P3 and B.B3\n",
      "Finding linpath between S.P4 and B.B4\n",
      "Finding linpath between B.C1 and C.D1\n",
      "Finding linpath between B.C2 and C.D2\n",
      "Finding linpath between B.C3 and C.D3\n",
      "Finding linpath between B.C4 and C.D4\n",
      "Finding linpath between C.E1 and D.F1\n",
      "Finding linpath between C.E2 and D.F2\n",
      "Finding linpath between C.E3 and D.F3\n",
      "Finding linpath between C.E4 and D.F4\n",
      "Finding linpath between D.G1 and F.H1\n",
      "Finding linpath between D.G2 and F.H2\n",
      "Finding linpath between D.G3 and F.H3\n",
      "Finding linpath between D.G4 and F.H4\n",
      "[(S.P1, B.B1)]\n",
      "[(S.P2, B.B2)]\n",
      "[(S.P3, B.B3)]\n",
      "[(S.P4, B.B4)]\n",
      "[(B.C1, C.D1)]\n",
      "[(B.C2, C.D2)]\n",
      "[(B.C3, C.D3)]\n",
      "[(B.C4, C.D4)]\n",
      "[(C.E1, D.F1)]\n",
      "[(C.E2, D.F2)]\n",
      "[(C.E3, D.F3)]\n",
      "[(C.E4, D.F4)]\n",
      "[(D.G1, F.H1)]\n",
      "[(D.G2, F.H2)]\n",
      "[(D.G3, F.H3)]\n",
      "[(D.G4, F.H4)]\n"
     ]
    }
   ],
   "source": [
    "deltas = deltas_dict(\n",
    "    points_body=points_bodies, num_blocks=4, model=model2,\n",
    "    suspension_body=S\n",
    ")\n",
    "\n",
    "linpaths = linpaths_dict(\n",
    "    points_body=points_bodies, num_blocks=4, model=model2\n",
    ")\n",
    "\n",
    "num_blocks = 4\n",
    "all_masses = [\n",
    "    i.body.mass for j in range(num_blocks)\n",
    "    for i in points_bodies[f'body{j + 1}']['bodies']\n",
    "]\n",
    "\n",
    "all_masses_ = list(dict.fromkeys(all_masses))\n",
    "wires = get_wires(\n",
    "    num_blocks=4, point_body=points_bodies,\n",
    "    deltas=deltas, linpaths=linpaths\n",
    ")\n",
    "\n",
    "ks = symbols('k1:5')"
   ]
  },
  {
   "cell_type": "code",
   "execution_count": 14,
   "id": "dc70a436-b123-4ad8-b226-581f24d40fef",
   "metadata": {},
   "outputs": [
    {
     "data": {
      "text/plain": [
       "dict_keys(['body1', 'body2', 'body3', 'body4'])"
      ]
     },
     "execution_count": 14,
     "metadata": {},
     "output_type": "execute_result"
    }
   ],
   "source": [
    "deltas.keys()"
   ]
  },
  {
   "cell_type": "code",
   "execution_count": 15,
   "id": "8f8c59e6-0145-4eef-a63e-dee233122214",
   "metadata": {},
   "outputs": [
    {
     "data": {
      "text/plain": [
       "[S.M, B.M, C.M, D.M, F.M]"
      ]
     },
     "execution_count": 15,
     "metadata": {},
     "output_type": "execute_result"
    }
   ],
   "source": [
    "all_masses_"
   ]
  },
  {
   "cell_type": "code",
   "execution_count": 16,
   "id": "c47da0f6-99e5-4f6e-9fe6-916a7e6029c9",
   "metadata": {},
   "outputs": [],
   "source": [
    "n_wire_per_wire = n_violin_modes + 1\n",
    "body1_force = get_forces(\n",
    "        n_body=1, n_wire_body=n_wire_per_wire,\n",
    "        wire_dict=wires, spring_constants=ks, masses=all_masses_\n",
    "    )\n",
    "body2_force = get_forces(\n",
    "    n_body=2, n_wire_body=n_wire_per_wire,\n",
    "    wire_dict=wires, spring_constants=ks, masses=all_masses_\n",
    ")\n",
    "body3_force = get_forces(\n",
    "    n_body=3, n_wire_body=n_wire_per_wire,\n",
    "    wire_dict=wires, spring_constants=ks, masses=all_masses_\n",
    ")\n",
    "body4_force = get_forces(\n",
    "    n_body=4, n_wire_body=n_wire_per_wire,\n",
    "    wire_dict=wires, spring_constants=ks, masses=all_masses_\n",
    ")"
   ]
  },
  {
   "cell_type": "code",
   "execution_count": 17,
   "id": "5653af42-256d-4617-ba02-3d0190c39cd9",
   "metadata": {},
   "outputs": [
    {
     "data": {
      "text/plain": [
       "dict_keys(['wire11', 'wire12', 'wire13', 'wire14'])"
      ]
     },
     "execution_count": 17,
     "metadata": {},
     "output_type": "execute_result"
    }
   ],
   "source": [
    "body1_force.keys()"
   ]
  },
  {
   "cell_type": "code",
   "execution_count": 18,
   "id": "6f5fce86-0354-4616-8009-f6ee183006e2",
   "metadata": {},
   "outputs": [],
   "source": [
    "#body1_force['wire11']['force']"
   ]
  },
  {
   "cell_type": "code",
   "execution_count": 18,
   "id": "e7c5c6e5-f679-4efd-b37e-2ea2d81c77a9",
   "metadata": {},
   "outputs": [],
   "source": [
    "#body1_force['wire12']['force']"
   ]
  },
  {
   "cell_type": "code",
   "execution_count": 51,
   "id": "bdac4a0c-054d-487a-ac93-0a9b7ec9be0e",
   "metadata": {},
   "outputs": [],
   "source": [
    "# F = symbols('F')\n",
    "# body1_force['wire21']['path'].to_loads(F)[1]"
   ]
  },
  {
   "cell_type": "code",
   "execution_count": 19,
   "id": "6b38c62e-ba1f-44c8-b1e1-9982a0a47b99",
   "metadata": {},
   "outputs": [],
   "source": [
    "# for i in body1_force.keys():\n",
    "#     force = body1_force[i]['force']\n",
    "#     path = body1_force[i]['path']\n",
    "#     points = body1_force[i]['points']\n",
    "#     bodies = body1_force[i]['bodies']\n",
    "\n",
    "#     sys.add_loads(path.to_loads(-force, frame=S.global_frame)[0])\n",
    "#     sys.add_loads(path.to_loads(-force, frame=S.global_frame)[1])"
   ]
  },
  {
   "cell_type": "code",
   "execution_count": 18,
   "id": "6ba99c36-98e6-4493-8c58-95a40949b984",
   "metadata": {},
   "outputs": [],
   "source": [
    "for j in [body1_force, body2_force, body3_force, body4_force]:\n",
    "    for i in j.keys():\n",
    "        force = j[i]['force']\n",
    "        path = j[i]['path']\n",
    "        points = j[i]['points']\n",
    "        bodies = j[i]['bodies']\n",
    "    \n",
    "        sys.add_loads(path.to_loads(-force, frame=S.global_frame)[0])\n",
    "        sys.add_loads(path.to_loads(-force, frame=S.global_frame)[1])"
   ]
  },
  {
   "cell_type": "code",
   "execution_count": 19,
   "id": "d4b8b719-f773-41a8-813b-af26fc5f1025",
   "metadata": {},
   "outputs": [
    {
     "data": {
      "text/plain": [
       "32"
      ]
     },
     "execution_count": 19,
     "metadata": {},
     "output_type": "execute_result"
    }
   ],
   "source": [
    "len(sys.loads)"
   ]
  },
  {
   "cell_type": "code",
   "execution_count": 20,
   "id": "c8bcf3bb-327e-4912-a6cd-ae24974561d0",
   "metadata": {},
   "outputs": [],
   "source": [
    "def apply_gravity(body):\n",
    "    g = symbols('g')\n",
    "    body.Fz = -g*body.body.mass\n",
    "         \n",
    "    return"
   ]
  },
  {
   "cell_type": "code",
   "execution_count": 21,
   "id": "ced9a28f-816d-491c-b25b-c0ca28eb5a1c",
   "metadata": {},
   "outputs": [
    {
     "data": {
      "text/plain": [
       "suspycious.components.body.RigidBody"
      ]
     },
     "execution_count": 21,
     "metadata": {},
     "output_type": "execute_result"
    }
   ],
   "source": [
    "type(model2.components['S'])"
   ]
  },
  {
   "cell_type": "code",
   "execution_count": 22,
   "id": "daf09941-0638-4402-8f1b-e3fd6ad1e16f",
   "metadata": {},
   "outputs": [
    {
     "data": {
      "text/plain": [
       "Body('S_bdy', masscenter=S.com, frame=S, mass=S.M, inertia=Inertia(dyadic=S.I_{xx}*(S.x|S.x) + S.I_{xy}*(S.x|S.y) + S.I_{zx}*(S.x|S.z) + S.I_{xy}*(S.y|S.x) + S.I_{yy}*(S.y|S.y) + S.I_{yz}*(S.y|S.z) + S.I_{zx}*(S.z|S.x) + S.I_{yz}*(S.z|S.y) + S.I_{zz}*(S.z|S.z), point=S.com))"
      ]
     },
     "execution_count": 22,
     "metadata": {},
     "output_type": "execute_result"
    }
   ],
   "source": [
    "sys.bodies[0]"
   ]
  },
  {
   "cell_type": "code",
   "execution_count": 23,
   "id": "e58fa4dc-a72f-455e-8673-4627e61af48f",
   "metadata": {},
   "outputs": [],
   "source": [
    "apply_gravity(model2.components['S'])\n",
    "apply_gravity(model2.components['B'])\n",
    "apply_gravity(model2.components['C'])\n",
    "apply_gravity(model2.components['D'])\n",
    "apply_gravity(model2.components['F'])"
   ]
  },
  {
   "cell_type": "code",
   "execution_count": 24,
   "id": "322f616f-3e9c-42d0-8b3e-cd56899883ef",
   "metadata": {},
   "outputs": [],
   "source": [
    "#sys.loads[1]#.force.dot(model2.frame.z).subs(model2.op_point)"
   ]
  },
  {
   "cell_type": "code",
   "execution_count": 25,
   "id": "1e51825c-1b47-46ff-b629-d3c17fe0af77",
   "metadata": {},
   "outputs": [],
   "source": [
    "#kanel = model2.extract_statespacesystem()\n",
    "kane = model2.extract_statespacesystem()"
   ]
  },
  {
   "cell_type": "code",
   "execution_count": 26,
   "id": "aa94315c-83f5-4a2b-8137-2c8dc24386f5",
   "metadata": {},
   "outputs": [],
   "source": [
    "Amat, Bmat = kane.A, kane.B"
   ]
  },
  {
   "cell_type": "code",
   "execution_count": 27,
   "id": "83b9bcc7-3da1-4784-9600-354d0a3e6b0b",
   "metadata": {},
   "outputs": [],
   "source": [
    "#kane.outputs"
   ]
  },
  {
   "cell_type": "code",
   "execution_count": 28,
   "id": "5b5651e3-8234-4b5a-9d9b-73eabec06d98",
   "metadata": {},
   "outputs": [],
   "source": [
    "E = kane.E"
   ]
  },
  {
   "cell_type": "code",
   "execution_count": 27,
   "id": "6b3ea224-990b-4ba4-b377-d02a1cfeb02f",
   "metadata": {},
   "outputs": [
    {
     "data": {
      "text/latex": [
       "$\\displaystyle - 4 d_{1} \\left(- \\frac{d_{1} g \\left(\\frac{B.M}{4} + \\frac{C.M}{4} + \\frac{D.M}{4} + \\frac{F.M}{4}\\right)}{l_{1}} - g \\left(\\frac{B.M}{4} + \\frac{C.M}{4} + \\frac{D.M}{4} + \\frac{F.M}{4}\\right)\\right) + 4 d_{2} \\left(\\frac{d_{2} g \\left(\\frac{C.M}{4} + \\frac{D.M}{4} + \\frac{F.M}{4}\\right)}{l_{2}} + g \\left(\\frac{C.M}{4} + \\frac{D.M}{4} + \\frac{F.M}{4}\\right)\\right) + 4 k_{1} w_{1}^{2} + 4 k_{2} w_{2}^{2}$"
      ],
      "text/plain": [
       "-4*d1*(-d1*g*(B.M/4 + C.M/4 + D.M/4 + F.M/4)/l1 - g*(B.M/4 + C.M/4 + D.M/4 + F.M/4)) + 4*d2*(d2*g*(C.M/4 + D.M/4 + F.M/4)/l2 + g*(C.M/4 + D.M/4 + F.M/4)) + 4*k1*w1**2 + 4*k2*w2**2"
      ]
     },
     "execution_count": 27,
     "metadata": {},
     "output_type": "execute_result"
    }
   ],
   "source": [
    "Amat[40,10]"
   ]
  },
  {
   "cell_type": "code",
   "execution_count": 28,
   "id": "03051ff6-65d1-4918-ba64-aec7517feed4",
   "metadata": {},
   "outputs": [
    {
     "data": {
      "text/plain": [
       "{S.x(t): 0,\n",
       " S.y(t): 1,\n",
       " S.z(t): 2,\n",
       " S.theta_x(t): 3,\n",
       " S.theta_y(t): 4,\n",
       " S.theta_z(t): 5,\n",
       " B.x(t): 6,\n",
       " B.y(t): 7,\n",
       " B.z(t): 8,\n",
       " B.theta_x(t): 9,\n",
       " B.theta_y(t): 10,\n",
       " B.theta_z(t): 11,\n",
       " C.x(t): 12,\n",
       " C.y(t): 13,\n",
       " C.z(t): 14,\n",
       " C.theta_x(t): 15,\n",
       " C.theta_y(t): 16,\n",
       " C.theta_z(t): 17,\n",
       " D.x(t): 18,\n",
       " D.y(t): 19,\n",
       " D.z(t): 20,\n",
       " D.theta_x(t): 21,\n",
       " D.theta_y(t): 22,\n",
       " D.theta_z(t): 23,\n",
       " F.x(t): 24,\n",
       " F.y(t): 25,\n",
       " F.z(t): 26,\n",
       " F.theta_x(t): 27,\n",
       " F.theta_y(t): 28,\n",
       " F.theta_z(t): 29}"
      ]
     },
     "execution_count": 28,
     "metadata": {},
     "output_type": "execute_result"
    }
   ],
   "source": [
    "kane.outputs"
   ]
  },
  {
   "cell_type": "code",
   "execution_count": 38,
   "id": "7982ce98-cd69-48a5-8169-c015b66d1379",
   "metadata": {},
   "outputs": [],
   "source": [
    "#kane.inputs"
   ]
  },
  {
   "cell_type": "code",
   "execution_count": 29,
   "id": "e15836d1-30b5-4290-86e6-361ac4f59561",
   "metadata": {},
   "outputs": [
    {
     "data": {
      "text/latex": [
       "$\\displaystyle - 4 d_{1} \\left(- \\frac{d_{1} g \\left(\\frac{B.M}{4} + \\frac{C.M}{4} + \\frac{D.M}{4} + \\frac{F.M}{4}\\right)}{l_{1}} - g \\left(\\frac{B.M}{4} + \\frac{C.M}{4} + \\frac{D.M}{4} + \\frac{F.M}{4}\\right)\\right) + 4 d_{2} \\left(\\frac{d_{2} g \\left(\\frac{C.M}{4} + \\frac{D.M}{4} + \\frac{F.M}{4}\\right)}{l_{2}} + g \\left(\\frac{C.M}{4} + \\frac{D.M}{4} + \\frac{F.M}{4}\\right)\\right) + 4 k_{1} w_{1}^{2} + 4 k_{2} w_{2}^{2}$"
      ],
      "text/plain": [
       "-4*d1*(-d1*g*(B.M/4 + C.M/4 + D.M/4 + F.M/4)/l1 - g*(B.M/4 + C.M/4 + D.M/4 + F.M/4)) + 4*d2*(d2*g*(C.M/4 + D.M/4 + F.M/4)/l2 + g*(C.M/4 + D.M/4 + F.M/4)) + 4*k1*w1**2 + 4*k2*w2**2"
      ]
     },
     "execution_count": 29,
     "metadata": {},
     "output_type": "execute_result"
    }
   ],
   "source": [
    "Bmat[40,4]"
   ]
  },
  {
   "cell_type": "code",
   "execution_count": 30,
   "id": "68fa376a-e470-413e-991a-5c08dd90b3c8",
   "metadata": {},
   "outputs": [
    {
     "data": {
      "text/latex": [
       "$\\displaystyle \\left[\\begin{matrix}\\operatorname{B.delta}_{x}{\\left(t \\right)}\\\\\\operatorname{B.delta}_{y}{\\left(t \\right)}\\\\\\operatorname{B.delta}_{z}{\\left(t \\right)}\\\\\\operatorname{B.epsilon}_{x}{\\left(t \\right)}\\\\\\operatorname{B.epsilon}_{y}{\\left(t \\right)}\\\\\\operatorname{B.epsilon}_{z}{\\left(t \\right)}\\\\\\operatorname{C.delta}_{x}{\\left(t \\right)}\\\\\\operatorname{C.delta}_{y}{\\left(t \\right)}\\\\\\operatorname{C.delta}_{z}{\\left(t \\right)}\\\\\\operatorname{C.epsilon}_{x}{\\left(t \\right)}\\\\\\operatorname{C.epsilon}_{y}{\\left(t \\right)}\\\\\\operatorname{C.epsilon}_{z}{\\left(t \\right)}\\\\\\operatorname{D.delta}_{x}{\\left(t \\right)}\\\\\\operatorname{D.delta}_{y}{\\left(t \\right)}\\\\\\operatorname{D.delta}_{z}{\\left(t \\right)}\\\\\\operatorname{D.epsilon}_{x}{\\left(t \\right)}\\\\\\operatorname{D.epsilon}_{y}{\\left(t \\right)}\\\\\\operatorname{D.epsilon}_{z}{\\left(t \\right)}\\\\\\operatorname{F.delta}_{x}{\\left(t \\right)}\\\\\\operatorname{F.delta}_{y}{\\left(t \\right)}\\\\\\operatorname{F.delta}_{z}{\\left(t \\right)}\\\\\\operatorname{F.epsilon}_{x}{\\left(t \\right)}\\\\\\operatorname{F.epsilon}_{y}{\\left(t \\right)}\\\\\\operatorname{F.epsilon}_{z}{\\left(t \\right)}\\\\\\operatorname{S.delta}_{x}{\\left(t \\right)}\\\\\\operatorname{S.delta}_{y}{\\left(t \\right)}\\\\\\operatorname{S.delta}_{z}{\\left(t \\right)}\\\\\\operatorname{S.epsilon}_{x}{\\left(t \\right)}\\\\\\operatorname{S.epsilon}_{y}{\\left(t \\right)}\\\\\\operatorname{S.epsilon}_{z}{\\left(t \\right)}\\end{matrix}\\right]$"
      ],
      "text/plain": [
       "Matrix([\n",
       "[  B.delta_x(t)],\n",
       "[  B.delta_y(t)],\n",
       "[  B.delta_z(t)],\n",
       "[B.epsilon_x(t)],\n",
       "[B.epsilon_y(t)],\n",
       "[B.epsilon_z(t)],\n",
       "[  C.delta_x(t)],\n",
       "[  C.delta_y(t)],\n",
       "[  C.delta_z(t)],\n",
       "[C.epsilon_x(t)],\n",
       "[C.epsilon_y(t)],\n",
       "[C.epsilon_z(t)],\n",
       "[  D.delta_x(t)],\n",
       "[  D.delta_y(t)],\n",
       "[  D.delta_z(t)],\n",
       "[D.epsilon_x(t)],\n",
       "[D.epsilon_y(t)],\n",
       "[D.epsilon_z(t)],\n",
       "[  F.delta_x(t)],\n",
       "[  F.delta_y(t)],\n",
       "[  F.delta_z(t)],\n",
       "[F.epsilon_x(t)],\n",
       "[F.epsilon_y(t)],\n",
       "[F.epsilon_z(t)],\n",
       "[  S.delta_x(t)],\n",
       "[  S.delta_y(t)],\n",
       "[  S.delta_z(t)],\n",
       "[S.epsilon_x(t)],\n",
       "[S.epsilon_y(t)],\n",
       "[S.epsilon_z(t)]])"
      ]
     },
     "execution_count": 30,
     "metadata": {},
     "output_type": "execute_result"
    }
   ],
   "source": [
    "kane.kanel.r"
   ]
  },
  {
   "cell_type": "code",
   "execution_count": 36,
   "id": "1fe0b8de-7561-457e-82b0-d952a8616263",
   "metadata": {},
   "outputs": [],
   "source": [
    "#kanel.f_3.shape"
   ]
  },
  {
   "cell_type": "code",
   "execution_count": 37,
   "id": "a332692d-e81b-436b-ae2e-d4073333686d",
   "metadata": {},
   "outputs": [],
   "source": [
    "#kanel.q"
   ]
  },
  {
   "cell_type": "code",
   "execution_count": 31,
   "id": "95d7318c-4306-4d84-ba35-1de68df3b8f9",
   "metadata": {},
   "outputs": [],
   "source": [
    "#kanel.f_3[10].diff(kanel.q[10]).subs(model2.op_point)"
   ]
  },
  {
   "cell_type": "code",
   "execution_count": 32,
   "id": "5eb85699-1dc7-4ac2-b4c7-a9c6f2f4a3c5",
   "metadata": {},
   "outputs": [],
   "source": [
    "#kanel.f_3[10].diff(kanel.q[0]).subs(model2.op_point)"
   ]
  },
  {
   "cell_type": "code",
   "execution_count": 33,
   "id": "73ebcf47-c954-418d-bff8-e62d5edf49e3",
   "metadata": {},
   "outputs": [],
   "source": [
    "#Amat, Bmat = kanel.linearize(A_and_B=True, op_point=model2.op_point)"
   ]
  },
  {
   "cell_type": "code",
   "execution_count": 34,
   "id": "12cd5503-42cf-453d-89d2-03945aa7ab0b",
   "metadata": {},
   "outputs": [],
   "source": [
    "#sols = kanel.linearize(op_point=model2.op_point)"
   ]
  },
  {
   "cell_type": "code",
   "execution_count": 35,
   "id": "03ac742a-7e02-4997-9670-c3d102a1c270",
   "metadata": {},
   "outputs": [],
   "source": [
    "#sols[1][40,10]"
   ]
  },
  {
   "cell_type": "code",
   "execution_count": 36,
   "id": "58ca7b87-b834-4e63-9404-dba64b5e469c",
   "metadata": {},
   "outputs": [],
   "source": [
    "#Amat.shape"
   ]
  },
  {
   "cell_type": "code",
   "execution_count": 37,
   "id": "7fd55990-8314-4255-b89c-876f40bbfef9",
   "metadata": {},
   "outputs": [],
   "source": [
    "#Amat[40,10]"
   ]
  },
  {
   "cell_type": "code",
   "execution_count": 37,
   "id": "823b43c5-0771-449a-af24-2f33fcbdb463",
   "metadata": {},
   "outputs": [],
   "source": [
    "#sys.mass_matrix"
   ]
  },
  {
   "cell_type": "code",
   "execution_count": 38,
   "id": "1363fb00-20b7-4181-b3c5-4f15d30d5dc1",
   "metadata": {},
   "outputs": [],
   "source": [
    "#sys.mass_matrix_full"
   ]
  },
  {
   "cell_type": "code",
   "execution_count": 39,
   "id": "69978585-b35c-4102-8f3c-c8d5c5109956",
   "metadata": {},
   "outputs": [],
   "source": [
    "#kanel.r"
   ]
  },
  {
   "cell_type": "code",
   "execution_count": 40,
   "id": "57f054ec-dfc7-421d-93fc-91f88d00c3a7",
   "metadata": {},
   "outputs": [],
   "source": [
    "#kanel.u"
   ]
  }
 ],
 "metadata": {
  "kernelspec": {
   "display_name": "suspy_env",
   "language": "python",
   "name": "suspy_env"
  },
  "language_info": {
   "codemirror_mode": {
    "name": "ipython",
    "version": 3
   },
   "file_extension": ".py",
   "mimetype": "text/x-python",
   "name": "python",
   "nbconvert_exporter": "python",
   "pygments_lexer": "ipython3",
   "version": "3.9.19"
  }
 },
 "nbformat": 4,
 "nbformat_minor": 5
}
